{
 "cells": [
  {
   "cell_type": "markdown",
   "metadata": {
    "colab_type": "text",
    "id": "OQYW8N5rPyGC"
   },
   "source": [
    "# Super Dense Coding Protocol\n",
    "\n",
    "This notebook demonstrates Super Dense Coding (SDC) in quantum computing. We first use Qiskit's simulator to test our quantum circuit, and then try it out on a real quantum computer.\n",
    "\n",
    "\n",
    "# Difference between Super Dense Coding and Quantum Teleportation\n",
    "\n",
    "Quantum teleportation and super dense coding are closely related and might cause confusion if not properly explained or differentiate. \n",
    "\n",
    "Quantum teleportation is a process by which the state of qubit (<math xmlns=\"http://www.w3.org/1998/Math/MathML\"><mi>&#x3C8;</mi></math>) can be transmitted from one location to another, with the help of classical communication and Bell Pair. In other words, we can say it is a protocol that destroys the quantum state of a qubit in one location and recreates it on\n",
    "a qubit at a distant location, with the help of shared entanglement, while  super dense coding is a procedure that allows someone to send two classical bits to another party using just a single qubit of communication\n",
    "\n",
    "The teleportation protocol is actually a flipped version of the super-dense coding protocol, in\n",
    "the sense that Alice and Bob merely “swap their equipment.”\n",
    "\n",
    "\n"
   ]
  },
  {
   "cell_type": "markdown",
   "metadata": {
    "colab_type": "text",
    "id": "N5LyBKFXYG41"
   },
   "source": [
    "\n",
    "\n",
    "# The process involves 3 steps:\n",
    "\n",
    "## Step 1\n",
    "The process starts with a third party, who we'll call (Eve). Two qubits are prepared by Eve in an entangled state. She initially starts the $2$ qubits in the basis state $|0>$. She applies Hadamard gate, $H$, to the first qubit to create superposition. She then applies $CNOT$ gate $(cx)$, using the first qubit as a control and the second as the target. This is the entangled state we mention earlier. \n",
    "\n",
    "### Outcome States\n",
    "\n",
    "Eve first applied Hadamard gate. This transforms the first qubit to ${1/ \\sqrt{2} (|0> + |1>)}$. The first qubit enters superposition with the second qubit; thus we get the states ${1/ \\sqrt{2} (|00> + |10>)}$, where the second qubit remains $0$.\n",
    "\n",
    "\n",
    "**Applying Hadamard gate to first qubit:**\n",
    "$H|0>$ <math xmlns=\"http://www.w3.org/1998/Math/MathML\"><mo>&#x2192;</mo></math> ${1/ \\sqrt{2} (|0> + |1>)}$\n",
    "\n",
    "\n",
    "**Putting qubit 1 and 2 in superposition:**\n",
    "${1/ \\sqrt{2} (|0> + |1>)|0>}$ <math xmlns=\"http://www.w3.org/1998/Math/MathML\"><mo>&#x2192;</mo></math> ${1/ \\sqrt{2} (|00> + |10>)}$\n",
    "\n",
    "Then Eve applied CNOT gate. The CNOT gate entangled both qubits. That is, it flips the target if the control is 1. Note that the control is on our first qubit.\n",
    "\n",
    "$CNOT$ ${1/ \\sqrt{2} (|00> + |10>)}$ <math xmlns=\"http://www.w3.org/1998/Math/MathML\"><mo>&#x2192;</mo></math> ${1/ \\sqrt{2} (|00> + |11>)}$\n",
    "\n",
    "## Step 2\n",
    "\n",
    "Eve sent the first qubit to Alice and second qubit to Bob. The goal of the protocol is for Alice to send $2$ classical bits of information to Bob using her qubit. But before she does, she needs to apply a set of quantum gates to her qubit depending on the $2$ bits of information she wants to send\n",
    "\n",
    "\n",
    "Encoding Rules for Super Dense Coding (Alice protocol)\n",
    "Quantum gates/rules\n",
    "\n",
    "\n",
    "        00: I                                                   I(00 + 11) = 00 + 11\n",
    "\n",
    "        01: X                                                   X(00 + 11) = 10 + 01 \n",
    "\n",
    "        10: Z                                                   Z(00 + 11) = 00 - 11 \n",
    "\n",
    "        11: ZX                                                  ZX(00 + 11) = 10 - 11 \n",
    "\n",
    "Thus if she wants to send a $00$, she does nothing to her qubit (apply identity gate). If she sends a $01$, then she applies the $X$ gate. Depending on what she wants to send, she applies the appropriate gate. Alice then sends her qubit to Bob for the final step in the process\n",
    "\n",
    "\n",
    "## Step 3\n",
    "\n",
    "Bob receives Alice's qubit (first qubit) and uses his qubit to reverse the process Eve created. That is, he is immediately certain which operation he needs to perform in order to restore his state to Alice’s original state. Notice\n",
    "that he does not need to have knowledge of the state in order to restore it — he only needs knowledge of the restoration operation.\n",
    "\n",
    "\n",
    "Bob applies CNOT gate using the first qubit as control and the second as target. Then he applied Hadamard gate and finally performs a measurement in both qubits to extract the classical bits encoded in Alice's qubit.\n",
    "\n",
    "\n",
    "Encoding Rules for Super Dense Coding (Bob protocol)\n",
    "\n",
    "\n",
    "\n",
    "\n",
    "            Alice states     After Bob’s CNOT Bob’s        Hadamard gate (H) and measurements\n",
    "            00 + 11              00 + 10                               00\n",
    "            10 + 01              10 + 01                               01\n",
    "            00 - 11              00 - 11                               10\n",
    "            10 - 11              10 - 11                              -11\n",
    "\n",
    "\n",
    "\n",
    "When Bob performs measurements, he ends up with four possible outcomes with probability of 1 each. Note that the last outcome has a negative sign -11, writing it as 11 is also correct because the probability is calculated as the amplitude of squared.\n",
    "\n",
    "\n",
    "# Simulating the Super Dense Coding Protocol\n"
   ]
  },
  {
   "cell_type": "code",
   "execution_count": 1,
   "metadata": {
    "colab": {},
    "colab_type": "code",
    "id": "u6m-M5G0X4HO"
   },
   "outputs": [],
   "source": [
    "# Importing all necessary libraries for work.\n",
    "\n",
    "from qiskit import *\n",
    "from qiskit.visualization import plot_histogram"
   ]
  },
  {
   "cell_type": "code",
   "execution_count": 2,
   "metadata": {
    "colab": {
     "base_uri": "https://localhost:8080/",
     "height": 185
    },
    "colab_type": "code",
    "id": "_HMTtQ8IYh19",
    "outputId": "2d05d830-a863-49d9-c522-5a0e331d2fe1"
   },
   "outputs": [
    {
     "data": {
      "image/png": "[encoded data removed]",
      "text/plain": [
       "<Figure size 889.756x204.68 with 1 Axes>"
      ]
     },
     "execution_count": 2,
     "metadata": {},
     "output_type": "execute_result"
    }
   ],
   "source": [
    "# Create the quantum circuit\n",
    "q = QuantumRegister(2)\n",
    "c = ClassicalRegister(2)\n",
    "qc = QuantumCircuit(q, c)\n",
    "\n",
    "qc.barrier()\n",
    "\n",
    "\n",
    "# Next, generate the entangled pair between Alice and Bob (Remember: Hadamard followed by CX generates a Bell pair)\n",
    "qc.h(q[0])\n",
    "qc.cx(q[0], q[1])\n",
    "qc.barrier()\n",
    "\n",
    "# Next, apply the apply superdense coding protocol. First, we need to prepare the state Alice will like to send\n",
    "#In this tutorial, Alice is sending 11\n",
    "\n",
    "qc.z(q[0])\n",
    "qc.x(q[0])\n",
    "qc.barrier()\n",
    "\n",
    "#Apply Bob recovery protocol\n",
    "qc.cx(q[0], q[1])\n",
    "qc.h(q[0])\n",
    "\n",
    "#Take measurement to see which classical bit of information Bob receives\n",
    "qc.barrier()\n",
    "qc.measure(q[0], c[0])\n",
    "qc.measure(q[1], c[1])\n",
    "\n",
    "#Draw our output\n",
    "qc.draw(output = \"mpl\")"
   ]
  },
  {
   "cell_type": "markdown",
   "metadata": {
    "colab_type": "text",
    "id": "ODWmbUKVY2a5"
   },
   "source": [
    "# Visualizing our measurements"
   ]
  },
  {
   "cell_type": "code",
   "execution_count": 3,
   "metadata": {
    "colab": {
     "base_uri": "https://localhost:8080/",
     "height": 352
    },
    "colab_type": "code",
    "id": "caUnckbWY0Sd",
    "outputId": "f2347fd0-8027-435d-dcab-0fd3a0044c92"
   },
   "outputs": [
    {
     "name": "stdout",
     "output_type": "stream",
     "text": [
      "{'11': 1024}\n"
     ]
    },
    {
     "data": {
      "image/png": "[encoded data removed]",
      "text/plain": [
       "<Figure size 504x360 with 1 Axes>"
      ]
     },
     "execution_count": 3,
     "metadata": {},
     "output_type": "execute_result"
    }
   ],
   "source": [
    "backend = Aer.get_backend('qasm_simulator')\n",
    "job_sim = execute(qc, backend, shots=1024)\n",
    "sim_result = job_sim.result()\n",
    "\n",
    "measurement_result = sim_result.get_counts(qc)\n",
    "print(measurement_result)\n",
    "plot_histogram(measurement_result)"
   ]
  },
  {
   "cell_type": "markdown",
   "metadata": {
    "colab_type": "text",
    "id": "fMHrapgKZCpp"
   },
   "source": [
    "# Super dense coding on a real quantum computer\n",
    "\n",
    "\n",
    "Let's see how super dense coding works on real quantum computer.\n",
    "\n",
    "First, we want to load our account to get the least busy quantum system"
   ]
  },
  {
   "cell_type": "code",
   "execution_count": 4,
   "metadata": {
    "colab": {
     "base_uri": "https://localhost:8080/",
     "height": 85
    },
    "colab_type": "code",
    "id": "CVZk6LPJaQXa",
    "outputId": "91fc343f-5c01-428f-a324-888a641b4c55"
   },
   "outputs": [
    {
     "name": "stderr",
     "output_type": "stream",
     "text": [
      "/home/esobimpe/anaconda3/lib/python3.7/site-packages/qiskit/providers/models/backendconfiguration.py:337: UserWarning: `dt` and `dtm` now have units of seconds(s) rather than nanoseconds(ns).\n",
      "  warnings.warn('`dt` and `dtm` now have units of seconds(s) rather '\n"
     ]
    }
   ],
   "source": [
    "from qiskit import IBMQ\n",
    "from qiskit.providers.ibmq import least_busy\n",
    "IBMQ.save_account(\"\")\n",
    "# Load local account information\n",
    "IBMQ.load_account()\n",
    "\n",
    "provider = IBMQ.get_provider('ibm-q')\n",
    "quantumcomputer = provider.get_backend('ibmq_16_melbourne')\n",
    "job = execute(qc, backend=quantumcomputer)\n"
   ]
  },
  {
   "cell_type": "code",
   "execution_count": 30,
   "metadata": {
    "colab": {
     "base_uri": "https://localhost:8080/",
     "height": 335
    },
    "colab_type": "code",
    "id": "ufD9dKRded1X",
    "outputId": "87a43f61-0d3b-40db-8107-d925414b0f5d"
   },
   "outputs": [
    {
     "data": {
      "image/png": "[encoded data removed]",
      "text/plain": [
       "<Figure size 504x360 with 1 Axes>"
      ]
     },
     "execution_count": 30,
     "metadata": {
      "tags": []
     },
     "output_type": "execute_result"
    }
   ],
   "source": [
    "#plotting our result\n",
    "\n",
    "result = job.result()\n",
    "plot_histogram(result.get_counts(qc))"
   ]
  },
  {
   "cell_type": "markdown",
   "metadata": {
    "colab_type": "text",
    "id": "idsn5tuwfG_4"
   },
   "source": [
    "## As we see that there are a few results from the other three states when run in a real quantum computer. These arise due to errors in the gates that were applied."
   ]
  }
 ],
 "metadata": {
  "colab": {
   "name": "super-dense-coding.ipynb",
   "provenance": []
  },
  "kernelspec": {
   "display_name": "Python 3",
   "language": "python",
   "name": "python3"
  },
  "language_info": {
   "codemirror_mode": {
    "name": "ipython",
    "version": 3
   },
   "file_extension": ".py",
   "mimetype": "text/x-python",
   "name": "python",
   "nbconvert_exporter": "python",
   "pygments_lexer": "ipython3",
   "version": "3.7.4"
  }
 },
 "nbformat": 4,
 "nbformat_minor": 1
}
