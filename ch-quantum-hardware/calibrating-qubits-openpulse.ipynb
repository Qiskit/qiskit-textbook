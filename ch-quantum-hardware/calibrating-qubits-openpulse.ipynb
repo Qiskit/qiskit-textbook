{
 "cells": [
  {
   "cell_type": "markdown",
   "metadata": {},
   "source": [
    "# Calibrating Qubits using OpenPulse"
   ]
  },
  {
   "cell_type": "markdown",
   "metadata": {},
   "source": [
    "Contents\n",
    "1. Introduction\n",
    "1. Finding our qubit\n",
    "1. Rabi experiment\n",
    "1. 0 vs 1\n",
    "1. Measuring T1\n",
    "1. Ramsey experiment\n",
    "1. Measuring T2\n",
    "1. Dynamical Decoupling"
   ]
  },
  {
   "cell_type": "markdown",
   "metadata": {},
   "source": [
    "# 1. Introduction"
   ]
  },
  {
   "cell_type": "code",
   "execution_count": null,
   "metadata": {},
   "outputs": [],
   "source": [
    "%matplotlib inline\n",
    "import qiskit.pulse as pulse\n",
    "import qiskit.pulse.pulse_lib as pulse_lib\n",
    "from qiskit.compiler import assemble\n",
    "\n",
    "import qiskit\n",
    "qiskit.__qiskit_version__"
   ]
  },
  {
   "cell_type": "code",
   "execution_count": null,
   "metadata": {},
   "outputs": [],
   "source": [
    "from qiskit import IBMQ\n",
    "IBMQ.load_account()\n",
    "\n",
    "provider = IBMQ.get_provider(hub='your-hub-name') # change to your hub name\n",
    "\n",
    "backend = provider.get_backend('ibmq_boeblingen')\n",
    "backend_config = backend.configuration()"
   ]
  },
  {
   "cell_type": "code",
   "execution_count": null,
   "metadata": {},
   "outputs": [],
   "source": [
    "from qiskit.tools.jupyter import backend_overview, backend_monitor\n",
    "%qiskit_backend_monitor backend"
   ]
  },
  {
   "cell_type": "markdown",
   "metadata": {},
   "source": [
    "The superconducting devices at IBM are routinely calibrated to determine the properties of each qubit. The calibration procedure determines the qubit frequency, coherence and energy relaxation times, and pulse parameters, among other things. In this notebook, we show how these parameters can be determined at the microwave level using Terra.Pulse.\n",
    "\n",
    "For an introduction to the experiments, please see [this paper](https://arxiv.org/pdf/0812.1865.pdf) or [this paper](https://arxiv.org/abs/cond-mat/0703002) or [this paper](http://qulab.eng.yale.edu/documents/reprints/QIP_Devoret_squbit_review.pdf).\n",
    "\n",
    "Note: Pulse is a fairly new component of Qiskit. Please contact abraham.asfaw@ibm.com if you find that something in this notebook is suddenly broken."
   ]
  },
  {
   "cell_type": "code",
   "execution_count": null,
   "metadata": {},
   "outputs": [],
   "source": [
    "backend_defaults = backend.defaults()\n",
    "backend_devicespec = pulse.PulseChannelSpec.from_backend(backend)\n",
    "dt = backend_config.dt"
   ]
  },
  {
   "cell_type": "markdown",
   "metadata": {},
   "source": [
    "# 2. Finding our qubit"
   ]
  },
  {
   "cell_type": "code",
   "execution_count": null,
   "metadata": {},
   "outputs": [],
   "source": [
    "# choose device to work on\n",
    "# from qiskit import IBMQ\n",
    "# IBMQ.load_account()"
   ]
  },
  {
   "cell_type": "markdown",
   "metadata": {},
   "source": [
    "Define the frequency range that will be swept in search of the qubit."
   ]
  },
  {
   "cell_type": "code",
   "execution_count": null,
   "metadata": {},
   "outputs": [],
   "source": [
    "qubit = 1\n",
    "center_frequency_GHz = backend_defaults.qubit_freq_est[qubit]\n",
    "# define frequencies to do VNA sweep\n",
    "import numpy as np\n",
    "frequency_span_kHz = 20000\n",
    "frequency_step_kHz = 1000\n",
    "\n",
    "frequency_min = center_frequency_GHz - frequency_span_kHz/2.e6\n",
    "frequency_max = center_frequency_GHz + frequency_span_kHz/2.e6\n",
    "frequencies_GHz = np.arange(frequency_min, frequency_max, frequency_step_kHz/1e6)\n",
    "print(frequencies_GHz)"
   ]
  },
  {
   "cell_type": "markdown",
   "metadata": {},
   "source": [
    "Define drive and measurement pulse parameters for the experiment"
   ]
  },
  {
   "cell_type": "code",
   "execution_count": null,
   "metadata": {},
   "outputs": [],
   "source": [
    "# drive pulse parameters\n",
    "drive_power = 0.01\n",
    "drive_samples = 128\n",
    "drive_sigma = 16\n",
    "\n",
    "# creating drive pulse\n",
    "drive_pulse = pulse_lib.gaussian(duration=drive_samples, amp=drive_power,\n",
    "                                 sigma=drive_sigma, name='mydrivepulse')\n",
    "drive_pulse_qubit = drive_pulse(backend_devicespec.qubits[qubit].drive)\n",
    "\n",
    "# measurement pulse parameters\n",
    "meas_amp = 0.05\n",
    "meas_samples = 1200\n",
    "meas_sigma = 4\n",
    "meas_risefall = 25\n",
    "\n",
    "# creating measurement pulse\n",
    "meas_pulse = pulse_lib.gaussian_square(duration=meas_samples, amp=meas_amp,\n",
    "                                       sigma=meas_sigma, risefall=meas_risefall, \n",
    "                                       name='mymeasurepulse')\n",
    "meas_pulse_qubit = meas_pulse(backend_devicespec.qubits[qubit].measure)\n",
    "\n",
    "# create acquire pulse\n",
    "acq_cmd=pulse.Acquire(duration=meas_samples)\n",
    "acq_cmd_qubit = acq_cmd(backend_devicespec.qubits, backend_devicespec.memoryslots)\n",
    "\n",
    "# combined measure and acquire pulse\n",
    "measure_and_acquire_qubit = meas_pulse_qubit | acq_cmd_qubit\n",
    "\n",
    "# scalefactor for received data\n",
    "scale_factor = 1e-10"
   ]
  },
  {
   "cell_type": "markdown",
   "metadata": {},
   "source": [
    "Once the pulse parameters have been defined, we can create the pulse schedules corresponding to each frequency in the sweep."
   ]
  },
  {
   "cell_type": "code",
   "execution_count": null,
   "metadata": {},
   "outputs": [],
   "source": [
    "# schedules\n",
    "schedules = []\n",
    "schedule_LOs = []\n",
    "\n",
    "num_shots_per_frequency = 256\n",
    "for jj, drive_frequency in enumerate(frequencies_GHz):\n",
    "    # start an empty schedule with a label\n",
    "    this_schedule = pulse.Schedule(name=\"Frequency = {}\".format(drive_frequency))\n",
    "    this_schedule += drive_pulse_qubit\n",
    "    this_schedule += measure_and_acquire_qubit << this_schedule.duration\n",
    "\n",
    "    schedules.append(this_schedule)\n",
    "    thisLO = pulse.LoConfig({backend_devicespec.qubits[qubit].drive: drive_frequency})\n",
    "    schedule_LOs.append(thisLO)\n",
    "        \n",
    "VNASweep_experiment_qobj = assemble(schedules, backend = backend, \n",
    "                            meas_level=1, meas_return='single', \n",
    "                            shots=num_shots_per_frequency,\n",
    "                            schedule_los = schedule_LOs\n",
    "                            )"
   ]
  },
  {
   "cell_type": "code",
   "execution_count": null,
   "metadata": {
    "scrolled": true
   },
   "outputs": [],
   "source": [
    "schedules[-1].draw(channels_to_plot=[backend_devicespec.qubits[qubit].measure, \n",
    "                                           backend_devicespec.qubits[qubit].drive,\n",
    "                                           #backend_devicespec.q[qubit].acquire,\n",
    "                                         ],\n",
    "                                         scaling=10.0)"
   ]
  },
  {
   "cell_type": "code",
   "execution_count": null,
   "metadata": {},
   "outputs": [],
   "source": [
    "job = backend.run(VNASweep_experiment_qobj)"
   ]
  },
  {
   "cell_type": "code",
   "execution_count": null,
   "metadata": {},
   "outputs": [],
   "source": [
    "from qiskit.tools.monitor import job_monitor\n",
    "print(job.job_id())\n",
    "job_monitor(job)"
   ]
  },
  {
   "cell_type": "code",
   "execution_count": null,
   "metadata": {},
   "outputs": [],
   "source": [
    "job = backend.retrieve_job(job.job_id())\n",
    "VNASweep_results = job.result(timeout=3600)"
   ]
  },
  {
   "cell_type": "code",
   "execution_count": null,
   "metadata": {},
   "outputs": [],
   "source": [
    "plot_X = frequencies_GHz\n",
    "plot_Y = []\n",
    "for kk, drive_frequency in enumerate(frequencies_GHz):\n",
    "    thisfrequency_results = VNASweep_results.get_memory(kk)*scale_factor\n",
    "    plot_Y.append(  np.mean(thisfrequency_results[:, qubit])  )\n",
    "\n",
    "import matplotlib.pyplot as plotter\n",
    "plotter.plot(plot_X, plot_Y)"
   ]
  },
  {
   "cell_type": "code",
   "execution_count": null,
   "metadata": {},
   "outputs": [],
   "source": [
    "rough_frequency_qubit = frequencies_GHz [\n",
    "    np.where( plot_Y == np.max(plot_Y))[0]\n",
    "                ].tolist()[0]\n",
    "rough_frequency_qubit = round(rough_frequency_qubit, 5)\n",
    "print(rough_frequency_qubit)\n"
   ]
  },
  {
   "cell_type": "markdown",
   "metadata": {},
   "source": [
    "# 3. Rabi experiment"
   ]
  },
  {
   "cell_type": "markdown",
   "metadata": {},
   "source": [
    "Once we know the frequency of our qubit, the next step is to determine the strength of a $\\pi$ pulse."
   ]
  },
  {
   "cell_type": "code",
   "execution_count": null,
   "metadata": {},
   "outputs": [],
   "source": [
    "# Rabi experiment parameters\n",
    "num_Rabi_points = 64\n",
    "num_shots_per_point = 256\n",
    "\n",
    "# drive parameters\n",
    "drive_power_min = 0\n",
    "drive_power_max = 0.1\n",
    "drive_powers = np.linspace(drive_power_min, drive_power_max, num_Rabi_points)\n",
    "drive_samples = 128\n",
    "drive_sigma = 16"
   ]
  },
  {
   "cell_type": "code",
   "execution_count": null,
   "metadata": {},
   "outputs": [],
   "source": [
    "# create schedules for Rabi experiment \n",
    "Rabi_schedules = []\n",
    "Rabi_schedule_LOs = []\n",
    "for ii, drive_power in enumerate(drive_powers):\n",
    "    rabi_pulse = pulse_lib.gaussian(duration=drive_samples, amp=drive_power, \n",
    "                                    sigma=drive_sigma, name='rabi_pulse_{}'.format(ii))\n",
    "    rabi_pulse_qubit = rabi_pulse(backend_devicespec.qubits[qubit].drive)\n",
    "    # start an empty schedule with a label\n",
    "    this_schedule = pulse.Schedule(name=\"Rabi drive = {}\".format(drive_power))\n",
    "    this_schedule += rabi_pulse_qubit\n",
    "    this_schedule += measure_and_acquire_qubit << this_schedule.duration\n",
    "    \n",
    "    Rabi_schedules.append(this_schedule)\n",
    "    thisLO = pulse.LoConfig({backend_devicespec.qubits[qubit].drive: rough_frequency_qubit})\n",
    "    Rabi_schedule_LOs.append(thisLO)"
   ]
  },
  {
   "cell_type": "code",
   "execution_count": null,
   "metadata": {},
   "outputs": [],
   "source": [
    "\n",
    "\n",
    "Rabi_schedules[-1].draw(channels_to_plot=[backend_devicespec.qubits[qubit].measure, \n",
    "                                           backend_devicespec.qubits[qubit].drive,\n",
    "                                           #backend_devicespec.q[qubit].acquire,\n",
    "                                         ],\n",
    "                                         scaling=10.0)"
   ]
  },
  {
   "cell_type": "code",
   "execution_count": null,
   "metadata": {},
   "outputs": [],
   "source": [
    "rabi_experiment_qobj = assemble (Rabi_schedules, backend = backend, \n",
    "                            meas_level=1, meas_return='avg',\n",
    "                            shots=num_shots_per_point,\n",
    "                            schedule_los = Rabi_schedule_LOs\n",
    "                                )"
   ]
  },
  {
   "cell_type": "code",
   "execution_count": null,
   "metadata": {},
   "outputs": [],
   "source": [
    "job = backend.run(rabi_experiment_qobj)\n",
    "print(job.job_id())\n",
    "job_monitor(job)"
   ]
  },
  {
   "cell_type": "code",
   "execution_count": null,
   "metadata": {},
   "outputs": [],
   "source": [
    "job = backend.retrieve_job(job.job_id())\n",
    "Rabi_results = job.result(timeout=3600)"
   ]
  },
  {
   "cell_type": "code",
   "execution_count": null,
   "metadata": {},
   "outputs": [],
   "source": [
    "plot_X = drive_powers\n",
    "plot_Y = []\n",
    "for jj, drive_power in enumerate(drive_powers):\n",
    "    thispower_results = Rabi_results.get_memory(jj)*scale_factor\n",
    "    plot_Y.append( thispower_results[qubit] )\n",
    "\n",
    "import matplotlib.pyplot as plotter\n",
    "plot_Y = plot_Y - np.mean(plot_Y)\n",
    "plotter.plot(plot_X, plot_Y)"
   ]
  },
  {
   "cell_type": "code",
   "execution_count": null,
   "metadata": {},
   "outputs": [],
   "source": [
    "from scipy.optimize import curve_fit\n",
    "\n",
    "fit_func = lambda x,A,B,T,phi: (A*np.cos(2*np.pi*x/T+phi)+B)\n",
    "\n",
    "#Fit the data\n",
    "fitparams, conv = curve_fit(fit_func, plot_X, plot_Y, [3.0  ,0.0  ,0.04  ,0])\n",
    "\n",
    "#get the pi amplitude\n",
    "first_peak = abs(np.pi-fitparams[3])*fitparams[2]/(2*np.pi)\n",
    "pi_amp = abs(fitparams[2]/2)\n",
    "\n",
    "plotter.scatter(plot_X, plot_Y)\n",
    "plotter.plot(plot_X, fit_func(plot_X, *fitparams), color='red')\n",
    "plotter.axvline(first_peak, color='black', linestyle='dashed')\n",
    "plotter.axvline(first_peak + pi_amp, color='black', linestyle='dashed')\n",
    "plotter.xlabel('Pulse amplitude, a.u.', fontsize=20)\n",
    "plotter.ylabel('Signal, a.u.', fontsize=20)\n",
    "plotter.title('Rough Pi Amplitude Calibration', fontsize=20)\n",
    "\n",
    "print('Pi Amplitude %f'%(pi_amp))"
   ]
  },
  {
   "cell_type": "markdown",
   "metadata": {},
   "source": [
    "# 4. 0 vs 1"
   ]
  },
  {
   "cell_type": "markdown",
   "metadata": {},
   "source": [
    "One our $\\pi$ pulses have been calibrated, we can now create the state $\\vert1\\rangle$ with reasonably probability. We can use this to find out what the states $\\vert0\\rangle$ and $\\vert1\\rangle$ look like in our measurements."
   ]
  },
  {
   "cell_type": "code",
   "execution_count": null,
   "metadata": {},
   "outputs": [],
   "source": [
    "# Rabi experiment parameters\n",
    "num_shots_gndexc = 512\n",
    "\n",
    "# drive parameters\n",
    "drive_power = pi_amp\n",
    "print(drive_power)"
   ]
  },
  {
   "cell_type": "code",
   "execution_count": null,
   "metadata": {},
   "outputs": [],
   "source": [
    "# create schedules for Rabi experiment \n",
    "gndexc_schedules = []\n",
    "gndexc_schedule_LOs = []\n",
    "\n",
    "pi_pulse = pulse_lib.gaussian(duration=drive_samples, amp=pi_amp, \n",
    "                                sigma=drive_sigma, name='pi_pulse'.format(ii))\n",
    "pi_pulse_qubit = pi_pulse(backend_devicespec.qubits[qubit].drive)\n",
    "    \n",
    "# ground state schedule\n",
    "gnd_schedule = pulse.Schedule(name=\"ground state\")\n",
    "gnd_schedule += measure_and_acquire_qubit << gnd_schedule.duration\n",
    "thisLO = pulse.LoConfig({backend_devicespec.qubits[qubit].drive: rough_frequency_qubit})\n",
    "    \n",
    "# excited state schedule\n",
    "exc_schedule = pulse.Schedule(name=\"excited state\")\n",
    "exc_schedule += pi_pulse_qubit\n",
    "exc_schedule += measure_and_acquire_qubit << exc_schedule.duration\n",
    "thisLO = pulse.LoConfig({backend_devicespec.qubits[qubit].drive: rough_frequency_qubit})\n",
    "\n",
    "gndexc_schedules.append(gnd_schedule)\n",
    "gndexc_schedules.append(exc_schedule)\n",
    "gndexc_schedule_LOs.append(thisLO)\n",
    "gndexc_schedule_LOs.append(thisLO)"
   ]
  },
  {
   "cell_type": "code",
   "execution_count": null,
   "metadata": {},
   "outputs": [],
   "source": [
    "gndexc_schedules[0].draw(channels_to_plot=[backend_devicespec.qubits[qubit].measure, \n",
    "                                           backend_devicespec.qubits[qubit].drive,\n",
    "                                           #backend_devicespec.q[qubit].acquire,\n",
    "                                         ],\n",
    "                                         scaling=10.0)"
   ]
  },
  {
   "cell_type": "code",
   "execution_count": null,
   "metadata": {},
   "outputs": [],
   "source": [
    "gndexc_schedules[1].draw(channels_to_plot=[backend_devicespec.qubits[qubit].measure, \n",
    "                                           backend_devicespec.qubits[qubit].drive,\n",
    "                                           #backend_devicespec.q[qubit].acquire,\n",
    "                                         ],\n",
    "                                         scaling=10.0)"
   ]
  },
  {
   "cell_type": "code",
   "execution_count": null,
   "metadata": {},
   "outputs": [],
   "source": [
    "gndexc_experiment_qobj = assemble (gndexc_schedules, backend = backend, \n",
    "                            meas_level=1, meas_return='single',\n",
    "                            shots=num_shots_gndexc,\n",
    "                            schedule_los = gndexc_schedule_LOs\n",
    "                                )"
   ]
  },
  {
   "cell_type": "code",
   "execution_count": null,
   "metadata": {},
   "outputs": [],
   "source": [
    "job = backend.run(gndexc_experiment_qobj)\n",
    "print(job.job_id())\n",
    "job_monitor(job)"
   ]
  },
  {
   "cell_type": "code",
   "execution_count": null,
   "metadata": {},
   "outputs": [],
   "source": [
    "job = backend.retrieve_job(job.job_id())\n",
    "gndexc_results = job.result(timeout=3600)"
   ]
  },
  {
   "cell_type": "code",
   "execution_count": null,
   "metadata": {},
   "outputs": [],
   "source": [
    "gnd_results = gndexc_results.get_memory(0)[:, qubit]*scale_factor\n",
    "exc_results = gndexc_results.get_memory(1)[:, qubit]*scale_factor\n",
    "\n",
    "\n",
    "plotter.scatter(np.real(gnd_results), np.imag(gnd_results), \n",
    "                s=5, cmap='viridis',c='blue',alpha=0.5, label='state_0')\n",
    "plotter.scatter(np.real(exc_results), np.imag(exc_results), \n",
    "                s=5, cmap='viridis',c='red',alpha=0.5, label='state_1')\n",
    "mean_gnd = np.mean(gnd_results) # takes mean of both real and imaginary parts\n",
    "mean_exc = np.mean(exc_results)\n",
    "plotter.scatter(np.real(mean_gnd), np.imag(mean_gnd), \n",
    "                s=200, cmap='viridis',c='blue',alpha=1.0, label='state_0_mean')\n",
    "plotter.scatter(np.real(mean_exc), np.imag(mean_exc), \n",
    "                s=200, cmap='viridis',c='red',alpha=1.0, label='state_1_mean')\n",
    "\n",
    "plotter.xlabel('I (a.u.)')\n",
    "plotter.xlabel('Q (a.u.)')"
   ]
  },
  {
   "cell_type": "code",
   "execution_count": null,
   "metadata": {},
   "outputs": [],
   "source": [
    "def get_01(IQ_data):\n",
    "    dist_0 = np.linalg.norm(np.array([\n",
    "                        np.real(IQ_data) - np.real(mean_gnd),\n",
    "                        np.imag(IQ_data) - np.imag(mean_gnd)\n",
    "                        ]))\n",
    "    dist_1 = np.linalg.norm(np.array([\n",
    "                        np.real(IQ_data) - np.real(mean_exc),\n",
    "                        np.imag(IQ_data) - np.imag(mean_exc)\n",
    "                        ]))\n",
    "    \n",
    "    if dist_1 <= dist_0:\n",
    "        return 1\n",
    "    else:\n",
    "        return 0\n",
    "\n",
    "    \n",
    "print(get_01(mean_gnd), get_01(mean_exc))"
   ]
  },
  {
   "cell_type": "markdown",
   "metadata": {},
   "source": [
    "# 5. Measuring T1"
   ]
  },
  {
   "cell_type": "code",
   "execution_count": null,
   "metadata": {},
   "outputs": [],
   "source": [
    "# T1 experiment parameters\n",
    "time_max_us = 500\n",
    "time_step_us = 2\n",
    "times_us = np.arange(1, time_max_us, time_step_us)\n",
    "num_shots_per_point = 512\n",
    "\n",
    "# drive parameters\n",
    "drive_power = pi_amp\n",
    "print(drive_power)"
   ]
  },
  {
   "cell_type": "code",
   "execution_count": null,
   "metadata": {},
   "outputs": [],
   "source": [
    "# create schedules for Ramsey experiment \n",
    "T1_schedules = []\n",
    "T1_schedule_LOs = []\n",
    "\n",
    "T1_pulse = pulse_lib.gaussian(duration=drive_samples, amp=drive_power, \n",
    "                                sigma=drive_sigma, name='T1_pulse')\n",
    "T1_pulse_qubit = T1_pulse(backend_devicespec.qubits[qubit].drive)\n",
    "thisLO = pulse.LoConfig({backend_devicespec.qubits[qubit].drive: rough_frequency_qubit})\n",
    "for ii, delay_time_us in enumerate(times_us):\n",
    "    # start an empty schedule with a label\n",
    "    this_schedule = pulse.Schedule(name=\"T1 delay = {} us\".format(delay_time_us))\n",
    "    this_schedule += T1_pulse_qubit\n",
    "    this_schedule |= (measure_and_acquire_qubit << int(delay_time_us*1000/dt))\n",
    "    \n",
    "    T1_schedules.append(this_schedule)\n",
    "    T1_schedule_LOs.append(thisLO)"
   ]
  },
  {
   "cell_type": "code",
   "execution_count": null,
   "metadata": {},
   "outputs": [],
   "source": [
    "T1_schedules[0].draw(channels_to_plot=[backend_devicespec.qubits[qubit].measure, \n",
    "                                           backend_devicespec.qubits[qubit].drive,\n",
    "                                           #backend_devicespec.q[qubit].acquire,\n",
    "                                         ],\n",
    "                                         scaling=10.0)"
   ]
  },
  {
   "cell_type": "code",
   "execution_count": null,
   "metadata": {},
   "outputs": [],
   "source": [
    "T1_experiment_qobj = assemble (T1_schedules, backend = backend, \n",
    "                            meas_level=1, meas_return='avg',\n",
    "                            shots=num_shots_per_point,\n",
    "                            schedule_los = T1_schedule_LOs\n",
    "                                )"
   ]
  },
  {
   "cell_type": "code",
   "execution_count": null,
   "metadata": {},
   "outputs": [],
   "source": [
    "job = backend.run(T1_experiment_qobj)\n",
    "print(job.job_id())\n",
    "job_monitor(job)"
   ]
  },
  {
   "cell_type": "code",
   "execution_count": null,
   "metadata": {},
   "outputs": [],
   "source": [
    "job = backend.retrieve_job(job.job_id())\n",
    "T1_results = job.result(timeout=3600)"
   ]
  },
  {
   "cell_type": "code",
   "execution_count": null,
   "metadata": {},
   "outputs": [],
   "source": [
    "plot_X = times_us\n",
    "plot_Y = []\n",
    "for jj, delay_time_us in enumerate(times_us):\n",
    "    thisdelay_results = T1_results.get_memory(jj)*scale_factor\n",
    "    plot_Y.append( thisdelay_results[qubit] )\n",
    "\n",
    "plotter.plot(plot_X, plot_Y)"
   ]
  },
  {
   "cell_type": "code",
   "execution_count": null,
   "metadata": {
    "scrolled": true
   },
   "outputs": [],
   "source": [
    "from scipy.optimize import curve_fit\n",
    "\n",
    "fit_func2 = lambda x,A,B: (A*np.exp(-x/59.8)+B)\n",
    "\n",
    "#Fit the data\n",
    "fitparams2, conv2 = curve_fit(fit_func2, plot_X,\n",
    "                                      plot_Y,\n",
    "                                      [-1.0,-11])\n",
    "\n",
    "print(f\"T1 from backend = {backend.properties().qubits[qubit][0].value} us\")\n",
    "\n",
    "plotter.scatter(plot_X, plot_Y)\n",
    "plotter.plot(plot_X, fit_func2(plot_X, *fitparams2), color='black')\n",
    "plotter.xlim(0, np.max(plot_X))\n",
    "plotter.xlabel('Delay before measurement, ($\\mu$s)', fontsize=20)\n",
    "plotter.ylabel('Measured signal, a.u.', fontsize=20)"
   ]
  },
  {
   "cell_type": "markdown",
   "metadata": {},
   "source": [
    "# 6. Ramsey experiment"
   ]
  },
  {
   "cell_type": "markdown",
   "metadata": {},
   "source": [
    "Now, we determine both $T_2$ and the qubit frequency to better precision. This is done using a Ramsey pulse sequence.\n",
    "\n",
    "In this pulse sequence, we first apply a $\\pi/2$ pulse, wait some time $\\Delta t$, and then apply another $\\pi/2$ pulse. "
   ]
  },
  {
   "cell_type": "code",
   "execution_count": null,
   "metadata": {},
   "outputs": [],
   "source": [
    "# Ramsey experiment parameters\n",
    "time_max_us = 100\n",
    "time_step_us = 0.25\n",
    "times_us = np.arange(1, time_max_us, time_step_us)\n",
    "num_shots_per_point = 256\n",
    "\n",
    "# drive parameters\n",
    "drive_power = pi_amp/2\n",
    "print(drive_power)"
   ]
  },
  {
   "cell_type": "code",
   "execution_count": null,
   "metadata": {},
   "outputs": [],
   "source": [
    "# create schedules for Ramsey experiment \n",
    "Ramsey_schedules = []\n",
    "Ramsey_schedule_LOs = []\n",
    "ramsey_pulse = pulse_lib.gaussian(duration=drive_samples, amp=drive_power, \n",
    "                                sigma=drive_sigma, name='ramsey_pulse')\n",
    "ramsey_pulse_qubit = ramsey_pulse(backend_devicespec.qubits[qubit].drive)\n",
    "thisLO = pulse.LoConfig({backend_devicespec.qubits[qubit].drive: rough_frequency_qubit})\n",
    "for ii, delay_time_us in enumerate(times_us):\n",
    "    # start an empty schedule with a label\n",
    "    this_schedule = pulse.Schedule(name=\"Ramsey delay = {} us\".format(delay_time_us))\n",
    "    this_schedule += ramsey_pulse_qubit\n",
    "    this_schedule |= (ramsey_pulse_qubit << int(this_schedule.duration+delay_time_us*1000/dt))\n",
    "    this_schedule |= (measure_and_acquire_qubit << this_schedule.duration)\n",
    "    \n",
    "    Ramsey_schedules.append(this_schedule)\n",
    "    Ramsey_schedule_LOs.append(thisLO)"
   ]
  },
  {
   "cell_type": "code",
   "execution_count": null,
   "metadata": {},
   "outputs": [],
   "source": [
    "Ramsey_schedules[-1].draw(channels_to_plot=[backend_devicespec.qubits[qubit].measure, \n",
    "                                           backend_devicespec.qubits[qubit].drive,\n",
    "                                           #backend_devicespec.q[qubit].acquire,\n",
    "                                         ],\n",
    "                                         scaling=10.0)"
   ]
  },
  {
   "cell_type": "code",
   "execution_count": null,
   "metadata": {},
   "outputs": [],
   "source": [
    "ramsey_experiment_qobj = assemble (Ramsey_schedules, backend = backend, \n",
    "                            meas_level=1, meas_return='avg',\n",
    "                            shots=num_shots_per_point,\n",
    "                            schedule_los = Ramsey_schedule_LOs\n",
    "                                )"
   ]
  },
  {
   "cell_type": "code",
   "execution_count": null,
   "metadata": {},
   "outputs": [],
   "source": [
    "job = backend.run(ramsey_experiment_qobj)\n",
    "print(job.job_id())\n",
    "job_monitor(job)"
   ]
  },
  {
   "cell_type": "code",
   "execution_count": null,
   "metadata": {},
   "outputs": [],
   "source": [
    "job = backend.retrieve_job(job.job_id())\n",
    "Ramsey_results = job.result(timeout=3600)"
   ]
  },
  {
   "cell_type": "code",
   "execution_count": null,
   "metadata": {},
   "outputs": [],
   "source": [
    "plot_X = times_us\n",
    "plot_Y = []\n",
    "\n",
    "for jj, delay_time_us in enumerate(times_us):\n",
    "    thisdelay_results = Ramsey_results.get_memory(jj)[qubit]*scale_factor\n",
    "    plot_Y.append(np.mean(thisdelay_results))\n",
    "\n",
    "plotter.plot(plot_X, (plot_Y))"
   ]
  },
  {
   "cell_type": "code",
   "execution_count": null,
   "metadata": {},
   "outputs": [],
   "source": [
    "from scipy.optimize import curve_fit\n",
    "\n",
    "fit_func = lambda x,A,T,phi,T2p,B: (A*np.exp(-x/T2p)*(np.sin(2*np.pi*x/T+phi))+B)\n",
    "\n",
    "#Fit the data\n",
    "fitparams, conv = curve_fit(fit_func, plot_X,\n",
    "                                      plot_Y,\n",
    "                                      [1.0,10,0,4,34])\n",
    "\n",
    "#off-resonance component\n",
    "delT = fitparams[1]\n",
    "delf_MHz = 1./(delT)\n",
    "print(f\"df = {delf_MHz} MHz\")\n",
    "first_peak = (np.pi-fitparams[2])*delT/(2*np.pi) + delT/4\n",
    "second_peak = first_peak + delT\n",
    "print(f\"T2p = {fitparams[3]} us\")\n",
    "print(f\"T2 from backend = {backend.properties().qubits[qubit][1].value} us\")\n",
    "#get the pi amplitude\n",
    "plotter.scatter(plot_X, plot_Y)\n",
    "plotter.plot(plot_X, fit_func(plot_X, *fitparams), color='red')\n",
    "plotter.axvline(first_peak, color='black', linestyle='dashed')\n",
    "plotter.axvline(second_peak, color='red', linestyle='dashed')\n",
    "plotter.xlim(0, np.max(plot_X))\n",
    "plotter.xlabel('Ramsey delay, ($\\mu$s)', fontsize=20)\n",
    "plotter.ylabel('Ramsey signal, a.u.', fontsize=20)\n",
    "plotter.title('Rough $\\Delta$f Calibration', fontsize=20)"
   ]
  },
  {
   "cell_type": "code",
   "execution_count": null,
   "metadata": {},
   "outputs": [],
   "source": [
    "precise_frequency_qubit_plus = round(rough_frequency_qubit + delf_MHz/1e3, 5)\n",
    "precise_frequency_qubit_minus = round(rough_frequency_qubit - delf_MHz/1e3, 5)\n",
    "print(f\"{rough_frequency_qubit}->{precise_frequency_qubit_plus} or {precise_frequency_qubit_minus}\")"
   ]
  },
  {
   "cell_type": "markdown",
   "metadata": {},
   "source": [
    "# 7. Measuring T2"
   ]
  },
  {
   "cell_type": "code",
   "execution_count": null,
   "metadata": {},
   "outputs": [],
   "source": [
    "# T2 experiment parameters\n",
    "time_max_us = 125\n",
    "time_step_us = 0.5\n",
    "times_us = np.arange(1, time_max_us, time_step_us)\n",
    "num_shots_per_point = 512\n",
    "\n",
    "# drive parameters\n",
    "drive_power_1 = pi_amp/2\n",
    "drive_power_2 = pi_amp\n",
    "print(drive_power_1)\n",
    "print(drive_power_2)"
   ]
  },
  {
   "cell_type": "code",
   "execution_count": null,
   "metadata": {},
   "outputs": [],
   "source": [
    "# create schedules for Ramsey experiment \n",
    "T2_schedules = []\n",
    "T2_schedule_LOs = []\n",
    "\n",
    "T2_pulse_pio2 = pulse_lib.gaussian(duration=drive_samples, amp=drive_power_1, \n",
    "                                sigma=drive_sigma, name='T2_pio2_pulse')\n",
    "T2_pulse_pio2_qubit = T2_pulse_pio2(backend_devicespec.qubits[qubit].drive)\n",
    "T2_pulse_pi = pulse_lib.gaussian(duration=drive_samples, amp=drive_power_2, \n",
    "                                sigma=drive_sigma, name='T2_pi_pulse')\n",
    "T2_pulse_pi_qubit = T2_pulse_pi(backend_devicespec.qubits[qubit].drive)\n",
    "thisLO = pulse.LoConfig({backend_devicespec.qubits[qubit].drive: precise_frequency_qubit_minus})\n",
    "for ii, delay_time_us in enumerate(times_us):\n",
    "    # start an empty schedule with a label\n",
    "    this_schedule = pulse.Schedule(name=\"T2 delay = {} us\".format(delay_time_us))\n",
    "    this_schedule |= T2_pulse_pio2_qubit\n",
    "    this_schedule |= (T2_pulse_pi_qubit << int(this_schedule.duration + \n",
    "                                               delay_time_us*1000/dt))\n",
    "    this_schedule |= (T2_pulse_pio2_qubit << int(this_schedule.duration + \n",
    "                                               delay_time_us*1000/dt))\n",
    "    this_schedule |= (measure_and_acquire_qubit << int(this_schedule.duration))\n",
    "    \n",
    "    T2_schedules.append(this_schedule)\n",
    "    T2_schedule_LOs.append(thisLO)"
   ]
  },
  {
   "cell_type": "code",
   "execution_count": null,
   "metadata": {},
   "outputs": [],
   "source": [
    "T2_schedules[0].draw(channels_to_plot=[backend_devicespec.qubits[qubit].measure, \n",
    "                                           backend_devicespec.qubits[qubit].drive,\n",
    "                                           #backend_devicespec.q[qubit].acquire,\n",
    "                                         ],\n",
    "                                         scaling=10.0)"
   ]
  },
  {
   "cell_type": "code",
   "execution_count": null,
   "metadata": {},
   "outputs": [],
   "source": [
    "T2_experiment_qobj = assemble (T2_schedules, backend = backend, \n",
    "                            meas_level=1, meas_return='avg',\n",
    "                            shots=num_shots_per_point,\n",
    "                            schedule_los = T2_schedule_LOs\n",
    "                                )"
   ]
  },
  {
   "cell_type": "code",
   "execution_count": null,
   "metadata": {},
   "outputs": [],
   "source": [
    "job = backend.run(T2_experiment_qobj)\n",
    "print(job.job_id())\n",
    "job_monitor(job)"
   ]
  },
  {
   "cell_type": "code",
   "execution_count": null,
   "metadata": {},
   "outputs": [],
   "source": [
    "T2job = backend.retrieve_job(job.job_id()) \n",
    "T2_results = T2job.result(timeout=3600)"
   ]
  },
  {
   "cell_type": "code",
   "execution_count": null,
   "metadata": {},
   "outputs": [],
   "source": [
    "plot_X = 2.*times_us\n",
    "plot_Y = []\n",
    "for jj, delay_time_us in enumerate(times_us):\n",
    "    thisdelay_results = T2_results.get_memory(jj)*scale_factor\n",
    "    plot_Y.append( thisdelay_results[qubit] )\n",
    "\n",
    "plotter.plot(plot_X, plot_Y)\n",
    "T2y_echo = plot_Y\n",
    "T2x_echo = plot_X"
   ]
  },
  {
   "cell_type": "code",
   "execution_count": null,
   "metadata": {
    "scrolled": false
   },
   "outputs": [],
   "source": [
    "from scipy.optimize import curve_fit\n",
    "\n",
    "T2guess = backend.properties().qubits[qubit][1].value\n",
    "\n",
    "fit_func2 = lambda x,A,B: (A*np.exp(-x/T2guess)+B)\n",
    "#Fit the data\n",
    "fitparams2, conv2 = curve_fit(fit_func2, plot_X,\n",
    "                                      plot_Y,\n",
    "                                      [-2.0,1.0])\n",
    "\n",
    "print(f\"T2 from backend = {backend.properties().qubits[qubit][1].value} us\")\n",
    "\n",
    "plotter.scatter(plot_X, plot_Y)\n",
    "plotter.plot(plot_X, fit_func2(plot_X, *fitparams2), color='black')\n",
    "plotter.xlim(0, np.max(plot_X))\n",
    "plotter.xlabel('Total time, ($\\mu$s)', fontsize=20)\n",
    "plotter.ylabel('Measured signal, a.u.', fontsize=20)"
   ]
  },
  {
   "cell_type": "code",
   "execution_count": null,
   "metadata": {},
   "outputs": [],
   "source": [
    "# measurement pulse parameters\n",
    "meas_amp = 0.1\n",
    "meas_samples = 1200\n",
    "meas_sigma = 4\n",
    "meas_risefall = 25\n",
    "\n",
    "# creating measurement pulse\n",
    "meas_pulse = pulse_lib.gaussian_square(duration=meas_samples, amp=meas_amp,\n",
    "                                       sigma=meas_sigma, risefall=meas_risefall, \n",
    "                                       name='mymeasurepulse')\n",
    "meas_pulse_qubit = meas_pulse(backend_devicespec.qubits[qubit].measure)\n",
    "\n",
    "# create acquire pulse\n",
    "acq_cmd=pulse.Acquire(duration=meas_samples)\n",
    "acq_cmd_qubit = acq_cmd(backend_devicespec.qubits, backend_devicespec.memoryslots)\n",
    "\n",
    "# combined measure and acquire pulse\n",
    "measure_and_acquire_qubit = meas_pulse_qubit | acq_cmd_qubit\n",
    "\n",
    "# scalefactor for received data\n",
    "scale_factor = 1e-10"
   ]
  },
  {
   "cell_type": "markdown",
   "metadata": {},
   "source": [
    "# 8. Doing CPMG"
   ]
  },
  {
   "cell_type": "code",
   "execution_count": null,
   "metadata": {},
   "outputs": [],
   "source": [
    "# T2 experiment parameters\n",
    "tau_us_min = 1\n",
    "tau_us_max = 30\n",
    "tau_step_us = 0.1\n",
    "taus_us = np.arange(tau_us_min, tau_us_max, tau_step_us)\n",
    "num_shots_per_point = 512\n",
    "ncpmg = 10\n",
    "\n",
    "# drive parameters\n",
    "drive_power_1 = pi_amp/2\n",
    "drive_power_2 = pi_amp\n",
    "print(f\"Total time ranges from {2.*ncpmg*taus_us[0]} to {2.*ncpmg*taus_us[-1]} us\")"
   ]
  },
  {
   "cell_type": "code",
   "execution_count": null,
   "metadata": {},
   "outputs": [],
   "source": [
    "# create schedules for Ramsey experiment \n",
    "T2cpmg_schedules = []\n",
    "T2cpmg_schedule_LOs = []\n",
    "\n",
    "T2cpmg_pulse_pio2 = pulse_lib.gaussian(duration=drive_samples, amp=drive_power_1, \n",
    "                                sigma=drive_sigma, name='T2cpmg_pio2_pulse')\n",
    "T2cpmg_pulse_pio2_qubit = T2cpmg_pulse_pio2(backend_devicespec.qubits[qubit].drive)\n",
    "T2cpmg_pulse_pi = pulse_lib.gaussian(duration=drive_samples, amp=drive_power_2, \n",
    "                                sigma=drive_sigma, name='T2cpmg_pi_pulse')\n",
    "T2cpmg_pulse_pi_qubit = T2cpmg_pulse_pi(backend_devicespec.qubits[qubit].drive)\n",
    "thisLO = pulse.LoConfig({backend_devicespec.qubits[qubit].drive: precise_frequency_qubit_minus})\n",
    "for ii, delay_time_us in enumerate(taus_us):\n",
    "    # start an empty schedule with a label\n",
    "    this_schedule = pulse.Schedule(name=\"T2cpmg delay = {} us\".format(delay_time_us))\n",
    "    this_schedule |= T2cpmg_pulse_pio2_qubit\n",
    "    this_schedule |= (T2cpmg_pulse_pi_qubit << int(this_schedule.duration + \n",
    "                                               delay_time_us*1000/dt))\n",
    "    for _ in range(ncpmg-1):\n",
    "        this_schedule |= (T2cpmg_pulse_pi_qubit << int(this_schedule.duration + \n",
    "                                                   2*delay_time_us*1000/dt))\n",
    "    this_schedule |= (T2cpmg_pulse_pio2_qubit << int(this_schedule.duration + \n",
    "                                               delay_time_us*1000/dt))\n",
    "    \n",
    "    this_schedule |= (measure_and_acquire_qubit << int(this_schedule.duration))\n",
    "    \n",
    "    T2cpmg_schedules.append(this_schedule)\n",
    "    T2cpmg_schedule_LOs.append(thisLO)"
   ]
  },
  {
   "cell_type": "code",
   "execution_count": null,
   "metadata": {},
   "outputs": [],
   "source": [
    "T2cpmg_schedules[0].draw(channels_to_plot=[backend_devicespec.qubits[qubit].measure, \n",
    "                                           backend_devicespec.qubits[qubit].drive,\n",
    "                                           #backend_devicespec.q[qubit].acquire,\n",
    "                                         ],\n",
    "                                         scaling=10.0)"
   ]
  },
  {
   "cell_type": "code",
   "execution_count": null,
   "metadata": {},
   "outputs": [],
   "source": [
    "T2cpmg_experiment_qobj = assemble (T2cpmg_schedules, backend = backend, \n",
    "                            meas_level=1, meas_return='avg',\n",
    "                            shots=num_shots_per_point,\n",
    "                            schedule_los = T2cpmg_schedule_LOs\n",
    "                                )"
   ]
  },
  {
   "cell_type": "code",
   "execution_count": null,
   "metadata": {},
   "outputs": [],
   "source": [
    "job = backend.run(T2cpmg_experiment_qobj)\n",
    "print(job.job_id())\n",
    "job_monitor(job)"
   ]
  },
  {
   "cell_type": "code",
   "execution_count": null,
   "metadata": {},
   "outputs": [],
   "source": [
    "T2cpmgjob = backend.retrieve_job(job.job_id())\n",
    "T2cpmg_results = T2cpmgjob.result(timeout=3600)"
   ]
  },
  {
   "cell_type": "code",
   "execution_count": null,
   "metadata": {},
   "outputs": [],
   "source": [
    "plot_X = 2.*ncpmg*taus_us\n",
    "plot_Y = []\n",
    "for jj, delay_time_us in enumerate(taus_us):\n",
    "    thisdelay_results = T2cpmg_results.get_memory(jj)*scale_factor\n",
    "    plot_Y.append( thisdelay_results[qubit] )\n",
    "\n",
    "plotter.plot(plot_X, plot_Y)\n",
    "T2y_cpmg = plot_Y\n",
    "T2x_cpmg = plot_X"
   ]
  },
  {
   "cell_type": "code",
   "execution_count": null,
   "metadata": {},
   "outputs": [],
   "source": [
    "from scipy.optimize import curve_fit\n",
    "\n",
    "T2guess = backend.properties().qubits[qubit][1].value\n",
    "fit_func2 = lambda x,A,B: (A*np.exp(-x/T2guess)+B)\n",
    "#Fit the data\n",
    "fitparams2, conv2 = curve_fit(fit_func2, plot_X,\n",
    "                                      plot_Y,\n",
    "                                      [-2.0,1.0])\n",
    "\n",
    "print(f\"T2 from backend = {T2guess} us\")\n",
    "\n",
    "plotter.scatter(plot_X, plot_Y)\n",
    "plotter.plot(plot_X, fit_func2(plot_X, *fitparams2), color='black')\n",
    "plotter.xlim(0, np.max(plot_X))\n",
    "plotter.xlabel('Total time, ($\\mu$s)', fontsize=20)\n",
    "plotter.ylabel('Measured signal, a.u.', fontsize=20)"
   ]
  },
  {
   "cell_type": "code",
   "execution_count": null,
   "metadata": {},
   "outputs": [],
   "source": []
  }
 ],
 "metadata": {
  "kernelspec": {
   "display_name": "Python 3",
   "language": "python",
   "name": "python3"
  },
  "language_info": {
   "codemirror_mode": {
    "name": "ipython",
    "version": 3
   },
   "file_extension": ".py",
   "mimetype": "text/x-python",
   "name": "python",
   "nbconvert_exporter": "python",
   "pygments_lexer": "ipython3",
   "version": "3.7.4"
  }
 },
 "nbformat": 4,
 "nbformat_minor": 2
}
