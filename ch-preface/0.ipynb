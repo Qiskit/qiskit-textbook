{
 "cells": [
  {
   "cell_type": "markdown",
   "metadata": {},
   "source": [
    "# Structure of the Textbook"
   ]
  },
  {
   "cell_type": "markdown",
   "metadata": {},
   "source": [
    "Greetings from the Qiskit Community team! We initiated this open-source textbook in collaboration with IBM Research as a university quantum algorithms/computation course supplement based on Qiskit.\n",
    "\n",
    "\n",
    "<img width=800px src=\"images/qiskit_textbook_skills.png\">\n",
    "\n",
    "\n",
    "The goal of the textbook is to develop skills in the following areas.\n",
    "1. The mathematics behind quantum algorithms\n",
    "1. Details about today's non-fault-tolerant quantum devices\n",
    "1. Writing code in Qiskit to implement quantum algorithms on IBM's cloud quantum systems\n",
    "\n",
    "While this textbook does not attempt to be an expansive survey of the field, it does attempt to be as self-contained as possible.\n",
    "\n",
    "If you have any questions or suggestions about the textbook or would like to incorporate it into your curriculum, please contact Abraham Asfaw ([abraham.asfaw@ibm.com](mailto:abraham.asfaw@ibm.com)). In the true spirit of open-source, any chapter contributions are welcome in [this GitHub repository](https://github.com/Qiskit/qiskit-textbook)."
   ]
  }
 ],
 "metadata": {
  "kernelspec": {
   "display_name": "Python 3",
   "language": "python",
   "name": "python3"
  },
  "language_info": {
   "codemirror_mode": {
    "name": "ipython",
    "version": 3
   },
   "file_extension": ".py",
   "mimetype": "text/x-python",
   "name": "python",
   "nbconvert_exporter": "python",
   "pygments_lexer": "ipython3",
   "version": "3.7.3"
  }
 },
 "nbformat": 4,
 "nbformat_minor": 2
}
