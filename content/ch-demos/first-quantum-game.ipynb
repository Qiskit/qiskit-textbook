{
 "cells": [
  {
   "cell_type": "markdown",
   "metadata": {},
   "source": [
    "# Your First Quantum Game"
   ]
  },
  {
   "cell_type": "markdown",
   "metadata": {},
   "source": [
    "If you've already read some of this textbook, you should know at least a few quantum gates. If you are wondering what to do with that knowledge, perhaps making a game can be the answer. Making simple games can be a fun way to try out new programming knowledge.\n",
    "\n",
    "If we are going to make a game, we'll need a game engine. Here we'll introduce a simple game engine that can run here in the Jupyter notebooks of this textbook. With this we'll make make a very simple game based on single qubit gates.\n",
    "\n",
    "First, we import the game engine."
   ]
  },
  {
   "cell_type": "code",
   "execution_count": 1,
   "metadata": {},
   "outputs": [],
   "source": [
    "import sys\n",
    "sys.path.append('../../qiskit-textbook-src/qiskit_textbook/games')"
   ]
  },
  {
   "cell_type": "code",
   "execution_count": 2,
   "metadata": {},
   "outputs": [
    {
     "name": "stdout",
     "output_type": "stream",
     "text": [
      "['/Users/jwo/Desktop/qiskit-textbook/content/ch-demos', '/Users/jwo/opt/miniconda3/lib/python39.zip', '/Users/jwo/opt/miniconda3/lib/python3.9', '/Users/jwo/opt/miniconda3/lib/python3.9/lib-dynload', '', '/Users/jwo/opt/miniconda3/lib/python3.9/site-packages', '/Users/jwo/opt/miniconda3/lib/python3.9/site-packages/IPython/extensions', '/Users/jwo/.ipython', '../../qiskit-textbook-src/qiskit_textbook/games']\n"
     ]
    }
   ],
   "source": [
    "import qisge"
   ]
  },
  {
   "cell_type": "code",
   "execution_count": 3,
   "metadata": {},
   "outputs": [
    {
     "name": "stdout",
     "output_type": "stream",
     "text": [
      "['/Users/jwo/Desktop/qiskit-textbook/content/ch-demos', '/Users/jwo/opt/miniconda3/lib/python39.zip', '/Users/jwo/opt/miniconda3/lib/python3.9', '/Users/jwo/opt/miniconda3/lib/python3.9/lib-dynload', '', '/Users/jwo/opt/miniconda3/lib/python3.9/site-packages', '/Users/jwo/opt/miniconda3/lib/python3.9/site-packages/IPython/extensions', '/Users/jwo/.ipython', '../../qiskit-textbook-src/qiskit_textbook/games']\n"
     ]
    }
   ],
   "source": [
    "from qiskit_textbook.games import qisge"
   ]
  },
  {
   "cell_type": "markdown",
   "metadata": {},
   "source": [
    "## A few simple examples\n",
    "\n",
    "A minimal example of using this game engine is to simply set all the pixels to a certan colour."
   ]
  },
  {
   "cell_type": "markdown",
   "metadata": {},
   "source": [
    "<img src=\"terrain-tree.png\" width=128/> <img src=\"terrain-tree.png\" width=128/>"
   ]
  },
  {
   "cell_type": "code",
   "execution_count": null,
   "metadata": {},
   "outputs": [],
   "source": []
  },
  {
   "cell_type": "code",
   "execution_count": 4,
   "metadata": {},
   "outputs": [],
   "source": [
    "images = qisge.ImageList([\n",
    "    'terrain-water.png',\n",
    "    'terrain-red-flower.png',\n",
    "    'terrain-grass.png',\n",
    "    'terrain-path.png',\n",
    "    'terrain-grass.png',\n",
    "    'terrain-purple-flower.png',\n",
    "    'terrain-tree.png',\n",
    "    'qubits.png'\n",
    "    ])"
   ]
  },
  {
   "cell_type": "code",
   "execution_count": null,
   "metadata": {},
   "outputs": [],
   "source": []
  },
  {
   "cell_type": "code",
   "execution_count": 5,
   "metadata": {},
   "outputs": [
    {
     "ename": "ImproperlyConfigured",
     "evalue": "Data file 'terrain-tree.png' not found",
     "output_type": "error",
     "traceback": [
      "\u001b[0;31m---------------------------------------------------------------------------\u001b[0m",
      "\u001b[0;31mImproperlyConfigured\u001b[0m                      Traceback (most recent call last)",
      "\u001b[0;32m<ipython-input-5-98eba0c1b962>\u001b[0m in \u001b[0;36m<module>\u001b[0;34m\u001b[0m\n\u001b[0;32m----> 1\u001b[0;31m \u001b[0mtree\u001b[0m \u001b[0;34m=\u001b[0m \u001b[0mqisge\u001b[0m\u001b[0;34m.\u001b[0m\u001b[0mSprite\u001b[0m\u001b[0;34m(\u001b[0m\u001b[0;36m6\u001b[0m\u001b[0;34m,\u001b[0m\u001b[0mx\u001b[0m\u001b[0;34m=\u001b[0m\u001b[0;36m14\u001b[0m\u001b[0;34m,\u001b[0m\u001b[0my\u001b[0m\u001b[0;34m=\u001b[0m\u001b[0;36m8\u001b[0m\u001b[0;34m)\u001b[0m\u001b[0;34m\u001b[0m\u001b[0;34m\u001b[0m\u001b[0m\n\u001b[0m",
      "\u001b[0;32m~/opt/miniconda3/lib/python3.9/site-packages/qiskit_textbook/games/qisge.py\u001b[0m in \u001b[0;36m__init__\u001b[0;34m(self, image_id, x, y, z, size, angle, flip_h, flip_v)\u001b[0m\n\u001b[1;32m    100\u001b[0m \u001b[0;34m\u001b[0m\u001b[0m\n\u001b[1;32m    101\u001b[0m         \u001b[0mself\u001b[0m\u001b[0;34m.\u001b[0m\u001b[0msprite_id\u001b[0m \u001b[0;34m=\u001b[0m \u001b[0mlen\u001b[0m\u001b[0;34m(\u001b[0m\u001b[0m_sprites\u001b[0m\u001b[0;34m)\u001b[0m\u001b[0;34m\u001b[0m\u001b[0;34m\u001b[0m\u001b[0m\n\u001b[0;32m--> 102\u001b[0;31m         \u001b[0m_sprites\u001b[0m\u001b[0;34m[\u001b[0m\u001b[0mself\u001b[0m\u001b[0;34m.\u001b[0m\u001b[0msprite_id\u001b[0m\u001b[0;34m]\u001b[0m \u001b[0;34m=\u001b[0m \u001b[0m_Sprite\u001b[0m\u001b[0;34m(\u001b[0m\u001b[0m_images\u001b[0m\u001b[0;34m[\u001b[0m\u001b[0mimage_id\u001b[0m\u001b[0;34m]\u001b[0m\u001b[0;34m,\u001b[0m \u001b[0mwidth\u001b[0m\u001b[0;34m=\u001b[0m\u001b[0m_cell\u001b[0m\u001b[0;34m,\u001b[0m \u001b[0mheight\u001b[0m\u001b[0;34m=\u001b[0m\u001b[0m_cell\u001b[0m\u001b[0;34m,\u001b[0m \u001b[0manchor_x\u001b[0m\u001b[0;34m=\u001b[0m\u001b[0;34m'left'\u001b[0m\u001b[0;34m,\u001b[0m \u001b[0manchor_y\u001b[0m\u001b[0;34m=\u001b[0m\u001b[0;34m'bottom'\u001b[0m\u001b[0;34m)\u001b[0m\u001b[0;34m\u001b[0m\u001b[0;34m\u001b[0m\u001b[0m\n\u001b[0m\u001b[1;32m    103\u001b[0m \u001b[0;34m\u001b[0m\u001b[0m\n\u001b[1;32m    104\u001b[0m         \u001b[0mself\u001b[0m\u001b[0;34m.\u001b[0m\u001b[0mimage_id\u001b[0m \u001b[0;34m=\u001b[0m \u001b[0mimage_id\u001b[0m\u001b[0;34m\u001b[0m\u001b[0;34m\u001b[0m\u001b[0m\n",
      "\u001b[0;32m~/opt/miniconda3/lib/python3.9/site-packages/jupylet/sprite.py\u001b[0m in \u001b[0;36m__init__\u001b[0;34m(self, img, x, y, scale, angle, anchor_x, anchor_y, color, flip, mipmap, autocrop, anisotropy, height, width, name, collisions)\u001b[0m\n\u001b[1;32m    108\u001b[0m         )\n\u001b[1;32m    109\u001b[0m \u001b[0;34m\u001b[0m\u001b[0m\n\u001b[0;32m--> 110\u001b[0;31m         self.texture = load_texture(\n\u001b[0m\u001b[1;32m    111\u001b[0m             \u001b[0mimg\u001b[0m\u001b[0;34m,\u001b[0m\u001b[0;34m\u001b[0m\u001b[0;34m\u001b[0m\u001b[0m\n\u001b[1;32m    112\u001b[0m             \u001b[0manisotropy\u001b[0m\u001b[0;34m=\u001b[0m\u001b[0manisotropy\u001b[0m\u001b[0;34m,\u001b[0m\u001b[0;34m\u001b[0m\u001b[0;34m\u001b[0m\u001b[0m\n",
      "\u001b[0;32m~/opt/miniconda3/lib/python3.9/site-packages/jupylet/resource.py\u001b[0m in \u001b[0;36mload_texture\u001b[0;34m(o, anisotropy, autocrop, mipmap, flip)\u001b[0m\n\u001b[1;32m    239\u001b[0m             \u001b[0mmipmap\u001b[0m\u001b[0;34m=\u001b[0m\u001b[0mmipmap\u001b[0m\u001b[0;34m,\u001b[0m\u001b[0;34m\u001b[0m\u001b[0;34m\u001b[0m\u001b[0m\n\u001b[1;32m    240\u001b[0m             \u001b[0manisotropy\u001b[0m\u001b[0;34m=\u001b[0m\u001b[0manisotropy\u001b[0m\u001b[0;34m,\u001b[0m\u001b[0;34m\u001b[0m\u001b[0;34m\u001b[0m\u001b[0m\n\u001b[0;32m--> 241\u001b[0;31m             \u001b[0mimage\u001b[0m\u001b[0;34m=\u001b[0m\u001b[0mload_image\u001b[0m\u001b[0;34m(\u001b[0m\u001b[0mo\u001b[0m\u001b[0;34m,\u001b[0m \u001b[0mautocrop\u001b[0m\u001b[0;34m)\u001b[0m\u001b[0;34m\u001b[0m\u001b[0;34m\u001b[0m\u001b[0m\n\u001b[0m\u001b[1;32m    242\u001b[0m         )\n\u001b[1;32m    243\u001b[0m     )\n",
      "\u001b[0;32m~/opt/miniconda3/lib/python3.9/site-packages/jupylet/resource.py\u001b[0m in \u001b[0;36mload_image\u001b[0;34m(o, autocrop, flip)\u001b[0m\n\u001b[1;32m    251\u001b[0m \u001b[0;34m\u001b[0m\u001b[0m\n\u001b[1;32m    252\u001b[0m     \u001b[0;32mif\u001b[0m \u001b[0mtype\u001b[0m\u001b[0;34m(\u001b[0m\u001b[0mo\u001b[0m\u001b[0;34m)\u001b[0m \u001b[0;32mis\u001b[0m \u001b[0mstr\u001b[0m\u001b[0;34m:\u001b[0m\u001b[0;34m\u001b[0m\u001b[0;34m\u001b[0m\u001b[0m\n\u001b[0;32m--> 253\u001b[0;31m         \u001b[0md0\u001b[0m \u001b[0;34m=\u001b[0m \u001b[0mmglw\u001b[0m\u001b[0;34m.\u001b[0m\u001b[0mresources\u001b[0m\u001b[0;34m.\u001b[0m\u001b[0mdata\u001b[0m\u001b[0;34m.\u001b[0m\u001b[0mload\u001b[0m\u001b[0;34m(\u001b[0m\u001b[0mDataDescription\u001b[0m\u001b[0;34m(\u001b[0m\u001b[0mpath\u001b[0m\u001b[0;34m=\u001b[0m\u001b[0mo\u001b[0m\u001b[0;34m,\u001b[0m \u001b[0mkind\u001b[0m\u001b[0;34m=\u001b[0m\u001b[0;34m'binary'\u001b[0m\u001b[0;34m)\u001b[0m\u001b[0;34m)\u001b[0m\u001b[0;34m\u001b[0m\u001b[0;34m\u001b[0m\u001b[0m\n\u001b[0m\u001b[1;32m    254\u001b[0m         \u001b[0mim\u001b[0m \u001b[0;34m=\u001b[0m \u001b[0mPIL\u001b[0m\u001b[0;34m.\u001b[0m\u001b[0mImage\u001b[0m\u001b[0;34m.\u001b[0m\u001b[0mopen\u001b[0m\u001b[0;34m(\u001b[0m\u001b[0mio\u001b[0m\u001b[0;34m.\u001b[0m\u001b[0mBytesIO\u001b[0m\u001b[0;34m(\u001b[0m\u001b[0md0\u001b[0m\u001b[0;34m)\u001b[0m\u001b[0;34m)\u001b[0m\u001b[0;34m\u001b[0m\u001b[0;34m\u001b[0m\u001b[0m\n\u001b[1;32m    255\u001b[0m         \u001b[0mim\u001b[0m\u001b[0;34m.\u001b[0m\u001b[0mload\u001b[0m\u001b[0;34m(\u001b[0m\u001b[0;34m)\u001b[0m\u001b[0;34m\u001b[0m\u001b[0;34m\u001b[0m\u001b[0m\n",
      "\u001b[0;32m~/opt/miniconda3/lib/python3.9/site-packages/moderngl_window/resources/data.py\u001b[0m in \u001b[0;36mload\u001b[0;34m(self, meta)\u001b[0m\n\u001b[1;32m     20\u001b[0m             \u001b[0mAny\u001b[0m\u001b[0;34m:\u001b[0m \u001b[0mThe\u001b[0m \u001b[0mloaded\u001b[0m \u001b[0mresource\u001b[0m\u001b[0;34m\u001b[0m\u001b[0;34m\u001b[0m\u001b[0m\n\u001b[1;32m     21\u001b[0m         \"\"\"\n\u001b[0;32m---> 22\u001b[0;31m         \u001b[0;32mreturn\u001b[0m \u001b[0msuper\u001b[0m\u001b[0;34m(\u001b[0m\u001b[0;34m)\u001b[0m\u001b[0;34m.\u001b[0m\u001b[0mload\u001b[0m\u001b[0;34m(\u001b[0m\u001b[0mmeta\u001b[0m\u001b[0;34m)\u001b[0m\u001b[0;34m\u001b[0m\u001b[0;34m\u001b[0m\u001b[0m\n\u001b[0m\u001b[1;32m     23\u001b[0m \u001b[0;34m\u001b[0m\u001b[0m\n\u001b[1;32m     24\u001b[0m \u001b[0;34m\u001b[0m\u001b[0m\n",
      "\u001b[0;32m~/opt/miniconda3/lib/python3.9/site-packages/moderngl_window/resources/base.py\u001b[0m in \u001b[0;36mload\u001b[0;34m(self, meta)\u001b[0m\n\u001b[1;32m     50\u001b[0m         \u001b[0mself\u001b[0m\u001b[0;34m.\u001b[0m\u001b[0m_check_meta\u001b[0m\u001b[0;34m(\u001b[0m\u001b[0mmeta\u001b[0m\u001b[0;34m)\u001b[0m\u001b[0;34m\u001b[0m\u001b[0;34m\u001b[0m\u001b[0m\n\u001b[1;32m     51\u001b[0m         \u001b[0mself\u001b[0m\u001b[0;34m.\u001b[0m\u001b[0mresolve_loader\u001b[0m\u001b[0;34m(\u001b[0m\u001b[0mmeta\u001b[0m\u001b[0;34m)\u001b[0m\u001b[0;34m\u001b[0m\u001b[0;34m\u001b[0m\u001b[0m\n\u001b[0;32m---> 52\u001b[0;31m         \u001b[0;32mreturn\u001b[0m \u001b[0mmeta\u001b[0m\u001b[0;34m.\u001b[0m\u001b[0mloader_cls\u001b[0m\u001b[0;34m(\u001b[0m\u001b[0mmeta\u001b[0m\u001b[0;34m)\u001b[0m\u001b[0;34m.\u001b[0m\u001b[0mload\u001b[0m\u001b[0;34m(\u001b[0m\u001b[0;34m)\u001b[0m\u001b[0;34m\u001b[0m\u001b[0;34m\u001b[0m\u001b[0m\n\u001b[0m\u001b[1;32m     53\u001b[0m \u001b[0;34m\u001b[0m\u001b[0m\n\u001b[1;32m     54\u001b[0m     \u001b[0;32mdef\u001b[0m \u001b[0madd\u001b[0m\u001b[0;34m(\u001b[0m\u001b[0mself\u001b[0m\u001b[0;34m,\u001b[0m \u001b[0mmeta\u001b[0m\u001b[0;34m:\u001b[0m \u001b[0mResourceDescription\u001b[0m\u001b[0;34m)\u001b[0m \u001b[0;34m->\u001b[0m \u001b[0;32mNone\u001b[0m\u001b[0;34m:\u001b[0m\u001b[0;34m\u001b[0m\u001b[0;34m\u001b[0m\u001b[0m\n",
      "\u001b[0;32m~/opt/miniconda3/lib/python3.9/site-packages/moderngl_window/loaders/data/binary.py\u001b[0m in \u001b[0;36mload\u001b[0;34m(self)\u001b[0m\n\u001b[1;32m     19\u001b[0m \u001b[0;34m\u001b[0m\u001b[0m\n\u001b[1;32m     20\u001b[0m         \u001b[0;32mif\u001b[0m \u001b[0;32mnot\u001b[0m \u001b[0mself\u001b[0m\u001b[0;34m.\u001b[0m\u001b[0mmeta\u001b[0m\u001b[0;34m.\u001b[0m\u001b[0mresolved_path\u001b[0m\u001b[0;34m:\u001b[0m\u001b[0;34m\u001b[0m\u001b[0;34m\u001b[0m\u001b[0m\n\u001b[0;32m---> 21\u001b[0;31m             raise ImproperlyConfigured(\n\u001b[0m\u001b[1;32m     22\u001b[0m                 \u001b[0;34m\"Data file '{}' not found\"\u001b[0m\u001b[0;34m.\u001b[0m\u001b[0mformat\u001b[0m\u001b[0;34m(\u001b[0m\u001b[0mself\u001b[0m\u001b[0;34m.\u001b[0m\u001b[0mmeta\u001b[0m\u001b[0;34m.\u001b[0m\u001b[0mpath\u001b[0m\u001b[0;34m)\u001b[0m\u001b[0;34m\u001b[0m\u001b[0;34m\u001b[0m\u001b[0m\n\u001b[1;32m     23\u001b[0m             )\n",
      "\u001b[0;31mImproperlyConfigured\u001b[0m: Data file 'terrain-tree.png' not found"
     ]
    }
   ],
   "source": [
    "tree = qisge.Sprite(6,x=14,y=8)"
   ]
  },
  {
   "cell_type": "code",
   "execution_count": null,
   "metadata": {},
   "outputs": [],
   "source": []
  },
  {
   "cell_type": "code",
   "execution_count": 10,
   "metadata": {},
   "outputs": [],
   "source": [
    "def next_frame(input):\n",
    "    \n",
    "    pressed = False\n",
    "    if 0 in input['key_presses']:\n",
    "        tree.y += 0.5\n",
    "    if 1 in input['key_presses']:\n",
    "        tree.x += 0.5\n",
    "    if 2 in input['key_presses']:\n",
    "        tree.y -= 0.5\n",
    "    if 3 in input['key_presses']:\n",
    "        tree.x -= 0.5"
   ]
  },
  {
   "cell_type": "code",
   "execution_count": null,
   "metadata": {},
   "outputs": [],
   "source": []
  },
  {
   "cell_type": "code",
   "execution_count": 11,
   "metadata": {},
   "outputs": [
    {
     "data": {
      "application/vnd.jupyter.widget-view+json": {
       "model_id": "af041ad37aa646fba11224c052569b3d",
       "version_major": 2,
       "version_minor": 0
      },
      "text/plain": [
       "Image(value=b'\\xff\\xd8\\xff\\xe0\\x00\\x10JFIF\\x00\\x01\\x01\\x00\\x00\\x01\\x00\\x01\\x00\\x00\\xff\\xdb\\x00C\\x00\\x05\\x03\\x0…"
      ]
     },
     "metadata": {},
     "output_type": "display_data"
    }
   ],
   "source": [
    "@qisge._app.run_me_every(1/qisge.FPS)\n",
    "def game_loop(ct, dt):\n",
    "    next_frame(qisge.update())\n",
    "    \n",
    "qisge._app.run()"
   ]
  },
  {
   "cell_type": "markdown",
   "metadata": {},
   "source": []
  },
  {
   "cell_type": "code",
   "execution_count": null,
   "metadata": {},
   "outputs": [],
   "source": []
  },
  {
   "cell_type": "code",
   "execution_count": null,
   "metadata": {},
   "outputs": [],
   "source": [
    "# function called when setting up\n",
    "def start(engine):\n",
    "    # just move on to the first frame\n",
    "    next_frame(engine)\n",
    "\n",
    "# this is the function that does everything\n",
    "def next_frame (engine):\n",
    "    \n",
    "    # set all pixels to green\n",
    "    for x in range(engine.L):\n",
    "        for y in range(engine.L):\n",
    "            engine.screen.pixel[x,y].set_color('green')\n",
    "    \n",
    "# run the game for an 8x8 screen\n",
    "engine = QiskitGameEngine(start,next_frame,L=8)"
   ]
  },
  {
   "cell_type": "markdown",
   "metadata": {},
   "source": [
    "Now let's set one specific pixel to a different colour."
   ]
  },
  {
   "cell_type": "code",
   "execution_count": null,
   "metadata": {
    "scrolled": false
   },
   "outputs": [],
   "source": [
    "# function called when setting up\n",
    "def start(engine):\n",
    "    \n",
    "    # set a parameter to keep track of the player pixel\n",
    "    engine.X = 1\n",
    "    engine.Y = 2\n",
    "    \n",
    "    # then move on to the first frame\n",
    "    next_frame(engine)\n",
    "\n",
    "# this is the function that does everything\n",
    "def next_frame (engine):\n",
    "    \n",
    "    # set all pixels to green\n",
    "    for x in range(engine.L):\n",
    "        for y in range(engine.L):\n",
    "            engine.screen.pixel[x,y].set_color('green')\n",
    "            \n",
    "    # draw the player pixel\n",
    "    engine.screen.pixel[engine.X,engine.Y].set_color('red')\n",
    "    \n",
    "# run the game\n",
    "engine = QiskitGameEngine(start,next_frame,L=8)"
   ]
  },
  {
   "cell_type": "markdown",
   "metadata": {},
   "source": [
    "We'll move this around using the arrow buttons."
   ]
  },
  {
   "cell_type": "code",
   "execution_count": null,
   "metadata": {
    "scrolled": false
   },
   "outputs": [],
   "source": [
    "# this is the function that does everything\n",
    "def next_frame (engine):\n",
    "    \n",
    "    # change player position\n",
    "    if engine.controller['up'].value:\n",
    "        engine.Y -= 1\n",
    "    if engine.controller['down'].value:\n",
    "        engine.Y += 1\n",
    "    if engine.controller['right'].value:\n",
    "        engine.X += 1\n",
    "    if engine.controller['left'].value:\n",
    "        engine.X -= 1\n",
    "    \n",
    "    # set all pixels to green\n",
    "    for x in range(engine.L):\n",
    "        for y in range(engine.L):\n",
    "            engine.screen.pixel[x,y].set_color('green')\n",
    "            \n",
    "    # draw the player pixel\n",
    "    engine.screen.pixel[engine.X,engine.Y].set_color('red')\n",
    "    \n",
    "# run the game\n",
    "engine = QiskitGameEngine(start,next_frame,L=8)"
   ]
  },
  {
   "cell_type": "markdown",
   "metadata": {},
   "source": [
    "Walking off the edge of the screen results in an error. We can fix this."
   ]
  },
  {
   "cell_type": "code",
   "execution_count": null,
   "metadata": {
    "scrolled": false
   },
   "outputs": [],
   "source": [
    "# this is the function that does everything\n",
    "def next_frame (engine):\n",
    "    \n",
    "    # change player position\n",
    "    if engine.controller['up'].value:\n",
    "        engine.Y -= 1\n",
    "    if engine.controller['down'].value:\n",
    "        engine.Y += 1\n",
    "    if engine.controller['right'].value:\n",
    "        engine.X += 1\n",
    "    if engine.controller['left'].value:\n",
    "        engine.X -= 1\n",
    "    \n",
    "    # set all pixels to green\n",
    "    for x in range(engine.L):\n",
    "        for y in range(engine.L):\n",
    "            engine.screen.pixel[x,y].set_color('green')\n",
    "            \n",
    "    # draw the player pixel\n",
    "    Xs = engine.X%engine.L\n",
    "    Ys = engine.Y%engine.L\n",
    "    engine.screen.pixel[Xs,Ys].set_color('red')\n",
    "    \n",
    "# run the game\n",
    "engine = QiskitGameEngine(start,next_frame,L=8)"
   ]
  },
  {
   "cell_type": "markdown",
   "metadata": {},
   "source": [
    "Here the `engine.X` and `engine.Y` coordinates are still allowed to go beyond the screen, but the pixel is displayed such that it wraps back round. We can interpret this as the pixel moving on to another screen.\n",
    "\n",
    "Now let's move towards giving our pixel a more exciting world to explore. We'll use a function to decide what colour each point should be. We'll start by not changing very much."
   ]
  },
  {
   "cell_type": "code",
   "execution_count": null,
   "metadata": {},
   "outputs": [],
   "source": [
    "import numpy as np\n",
    "\n",
    "def get_color(X,Y):\n",
    "    return 'green'\n",
    "\n",
    "# this is the function that does everything\n",
    "def next_frame (engine):\n",
    "    \n",
    "    # change player position\n",
    "    if engine.controller['up'].value:\n",
    "        engine.Y -= 1\n",
    "    if engine.controller['down'].value:\n",
    "        engine.Y += 1\n",
    "    if engine.controller['right'].value:\n",
    "        engine.X += 1\n",
    "    if engine.controller['left'].value:\n",
    "        engine.X -= 1\n",
    "    \n",
    "    # set all pixels to green\n",
    "    for x in range(engine.L):\n",
    "        for y in range(engine.L):\n",
    "            # get the 'world' coordinates X,Y from the onscreen coordinates x,y\n",
    "            X = np.floor(engine.X/engine.L)*engine.L+x\n",
    "            Y = np.floor(engine.Y/engine.L)*engine.L+y\n",
    "            # set it to whatever colour it should be\n",
    "            engine.screen.pixel[x,y].set_color(get_color(X,Y))\n",
    "            \n",
    "    # draw the player pixel\n",
    "    Xs = engine.X%engine.L\n",
    "    Ys = engine.Y%engine.L\n",
    "    engine.screen.pixel[Xs,Ys].set_color('red')\n",
    "    \n",
    "# run the game\n",
    "engine = QiskitGameEngine(start,next_frame,L=8)"
   ]
  },
  {
   "cell_type": "markdown",
   "metadata": {},
   "source": [
    "Now let's change `get_color` to create a beach."
   ]
  },
  {
   "cell_type": "code",
   "execution_count": null,
   "metadata": {
    "scrolled": false
   },
   "outputs": [],
   "source": [
    "def get_color(X,Y):\n",
    "    if X<12:\n",
    "        color = 'green'\n",
    "    else:\n",
    "        color = 'orange'\n",
    "    return color\n",
    "    \n",
    "# run the game\n",
    "engine = QiskitGameEngine(start,next_frame,L=8)"
   ]
  },
  {
   "cell_type": "markdown",
   "metadata": {},
   "source": [
    "We'll now put a single qubit circuit inside this terrain generator, so that we can experiment with single qubit gates by making terrain. For that we'll need some Qiskit tools."
   ]
  },
  {
   "cell_type": "code",
   "execution_count": null,
   "metadata": {},
   "outputs": [],
   "source": [
    "from qiskit import QuantumCircuit\n",
    "from qiskit.quantum_info import Statevector"
   ]
  },
  {
   "cell_type": "markdown",
   "metadata": {},
   "source": [
    "First, let's see what the results from a circuit look like. Here's an example with just a `ry` gate for a given angle of rotation."
   ]
  },
  {
   "cell_type": "code",
   "execution_count": null,
   "metadata": {},
   "outputs": [],
   "source": [
    "theta = np.pi/2\n",
    "\n",
    "qc = QuantumCircuit(1)\n",
    "qc.ry(theta,0)\n",
    "\n",
    "state = Statevector.from_instruction(qc)\n",
    "probs = state.probabilities_dict()\n",
    "\n",
    "print(probs)"
   ]
  },
  {
   "cell_type": "markdown",
   "metadata": {},
   "source": [
    "Here the angle $\\pi/2$ means that the result of a measurement at the end of this circuit would be equally likely to give `0` or `1`. For other angles we can get a bias towards one or the other. This is exactly the kind of behaviour we would expect from these gates, as explained in Chapter 1."
   ]
  },
  {
   "cell_type": "markdown",
   "metadata": {},
   "source": [
    "Let's use the probability of the output '1' as a height, and set the colour accordingly."
   ]
  },
  {
   "cell_type": "code",
   "execution_count": null,
   "metadata": {},
   "outputs": [],
   "source": [
    "def get_color(X,Y):\n",
    "    \n",
    "    # set an angle for ry based on the coordinate\n",
    "    theta = X*(np.pi/16)\n",
    "    \n",
    "    # create and simulate the circuit\n",
    "    qc = QuantumCircuit(1)\n",
    "    qc.ry(theta,0)\n",
    "    state = Statevector.from_instruction(qc)\n",
    "    probs = state.probabilities_dict()\n",
    "    \n",
    "    # get the prob of '1'\n",
    "    if '1' in probs:\n",
    "        height = probs['1']\n",
    "    else:\n",
    "        height = 0\n",
    "    \n",
    "    # set colour accordingly\n",
    "    if height<0.1: # sea/river\n",
    "        color = 'blue'\n",
    "    elif height<0.3: # beach\n",
    "        color = 'orange'\n",
    "    elif height<0.9: # grass\n",
    "        color = 'green'\n",
    "    else: # mountain\n",
    "        color = 'grey'\n",
    "        \n",
    "    return color\n",
    "    \n",
    "# run the game\n",
    "engine = QiskitGameEngine(start,next_frame,L=8)"
   ]
  },
  {
   "cell_type": "markdown",
   "metadata": {},
   "source": [
    "By adding more complex rotations, and thinking about how these gates combine, we can build on this to create more complex terrain."
   ]
  },
  {
   "cell_type": "code",
   "execution_count": null,
   "metadata": {},
   "outputs": [],
   "source": [
    "import random\n",
    "\n",
    "seed = [random.random() for _ in range(4)]\n",
    "\n",
    "def get_color(X,Y):\n",
    "    \n",
    "    qc = QuantumCircuit(1)\n",
    "\n",
    "    theta1 = (seed[0]*X+seed[1]*Y)*np.pi/16\n",
    "    theta2 = (seed[2]*X-seed[3]*Y)*np.pi/16\n",
    "    qc.ry(theta1,0)\n",
    "    qc.rx(theta2,0)\n",
    "\n",
    "    state = Statevector.from_instruction(qc)\n",
    "    probs = state.probabilities_dict()\n",
    "    \n",
    "    try:\n",
    "        height = probs['1']\n",
    "    except:\n",
    "        height = 0\n",
    "        \n",
    "    # set colour accordingly\n",
    "    if height<0.1: # sea/river\n",
    "        color = 'blue'\n",
    "    elif height<0.3: # beach\n",
    "        color = 'orange'\n",
    "    elif height<0.9: # grass\n",
    "        color = 'green'\n",
    "    else: # mountain\n",
    "        color = 'grey'\n",
    "        \n",
    "    return color\n",
    "\n",
    "# run the game\n",
    "engine = QiskitGameEngine(start,next_frame,L=8)"
   ]
  },
  {
   "cell_type": "markdown",
   "metadata": {},
   "source": [
    "Now experiment by making your own circuits to generate more interesting terrain, and use it to explore what simple quantum gates can do. Or perhaps make a completely new game of your own!"
   ]
  },
  {
   "cell_type": "markdown",
   "metadata": {},
   "source": [
    "## How to use the game engine\n",
    "\n",
    "To make full use of the game engine, you'll need all the details of how it works. It gives us the ability to make games for a low-pixel screen (8x8 by default), controlled by a D-pad and five buttons. Note that the screen will only update when a button is pressed.\n",
    "\n",
    "The game engine is all based around the `QiskitGameEngine` object. You can call this whatever you like. In the following we will call it `engine`.\n",
    "\n",
    "### The screen\n",
    "\n",
    "The pixels can be addressed in the functions using `engine.screen`. The pixel at position (x,y) is addressed as `engine.screen.pixel[x,y]`. It has three methods:\n",
    "\n",
    "* `set_color(color)` - The argument `color` is a string: either `'grey'`, `'green'`, `'blue'`, `'orange'` or `'red'`.\n",
    "* `set_brightness(bright)` - The argument `bright` is a Boolean value: `False` for dim and `True` for bright.\n",
    "* `set_text(text)` - The argument is text to be displayed.\n",
    "\n",
    "Note that most pixels won't contain more than a few characters. A larger piece of text can be written on the long pixel at the bottom of the screen, which is accessed with `engine.screen.pixel['text']`.\n",
    "\n",
    "### The controller\n",
    "\n",
    "The controller is accessed using `engine.controller`. Its buttons are addressed using the keys `'down'`, `'up'`, `'left'`, `'right'`, `'A'`, `'B'`, `'X'`, `'Y'` and `'next'`. Each is a Jupyter widget button object. Pressing any of these buttons will cause the `next_frame` function to run. Use the `value` attribute of each button to determine whether the button has been pressed (`True`) or not (`False`).\n",
    "\n",
    "\n",
    "### The game loop\n",
    "\n",
    "Games are made by defining two functions, `start` and `next_frame`. The `start` function runs when the game begins, and `next_frame` runs every time a button is pressed to move the game along. Both should have a single argument: the class `engine`. All parameters required for the game should be defined as attributes to the `engine` class.\n",
    "\n",
    "\n",
    "### Putting it all together\n",
    "\n",
    "The game is started by initiating the `QiskitGameEngine` object with the `start` and `next_frame` functions. You can also choose a size other than the default 8x8 grid using the keyword argument `L`.\n",
    "\n",
    "```\n",
    "QiskitGameEngine(start,next_frame,L=8)\n",
    "```\n",
    "\n",
    "Note that the grid size can be accessed in the `start` and `next_frame` functions as `engine.L`. You can also choose a size other than the default 8x8 grid using the kwarg `L`."
   ]
  },
  {
   "cell_type": "code",
   "execution_count": null,
   "metadata": {},
   "outputs": [],
   "source": []
  }
 ],
 "metadata": {
  "kernelspec": {
   "display_name": "Python 3",
   "language": "python",
   "name": "python3"
  },
  "language_info": {
   "codemirror_mode": {
    "name": "ipython",
    "version": 3
   },
   "file_extension": ".py",
   "mimetype": "text/x-python",
   "name": "python",
   "nbconvert_exporter": "python",
   "pygments_lexer": "ipython3",
   "version": "3.9.1"
  }
 },
 "nbformat": 4,
 "nbformat_minor": 4
}
