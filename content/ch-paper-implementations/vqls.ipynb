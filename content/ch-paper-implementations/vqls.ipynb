{
 "cells": [
  {
   "cell_type": "markdown",
   "metadata": {},
   "source": [
    "<h1>The Variational Quantum Linear Solver</h1>"
   ]
  },
  {
   "cell_type": "code",
   "execution_count": 1,
   "metadata": {},
   "outputs": [],
   "source": [
    "import qiskit\n",
    "from qiskit import QuantumCircuit, QuantumRegister, ClassicalRegister\n",
    "from qiskit import Aer, execute\n",
    "import math\n",
    "import random\n",
    "import numpy as np\n",
    "from scipy.optimize import minimize\n",
    "%config InlineBackend.figure_format = 'svg' # Makes the images look nice"
   ]
  },
  {
   "cell_type": "markdown",
   "metadata": {},
   "source": [
    "**Introduction**\n",
    "\n",
    "The Variational Quantum Linear Solver, or the VQLS is a variational quantum algorithm that utilizes VQE in order to solve systems of linear equations more efficiently than classical computational algortihms. Specifically, if we are given some matrix $\\textbf{A}$, such that $\\textbf{A} |\\textbf{x}\\rangle \\ = \\ |\\textbf{b}\\rangle$, where $|\\textbf{b}\\rangle$ is some known vector, the VQLS algorithm is theoretically able to find a normalized $|x\\rangle$ that is proportional to $|\\textbf{x}\\rangle$, which makes the above relationship true.\n",
    "\n",
    "The output of this algorithm is identical to that of the HHL Quantum Linear-Solving Algorithm, except, while HHL provides a much more favourable computation speedup over VQLS, the variational nature of our algorithm allows for it to be performed on NISQ quantum computers, while HHL would require much more robust quantum hardware, and many more qubits.\n"
   ]
  },
  {
   "cell_type": "markdown",
   "metadata": {},
   "source": [
    "**The Algorithm**\n",
    "\n",
    "To begin, the inputs into this algorithm are evidently the matrix $\\textbf{A}$, which we have to decompose into a linear combination of unitaries with complex coefficients:\n",
    "\n",
    "\n",
    "\n",
    "$$A \\ = \\ \\displaystyle\\sum_{n} c_n \\ A_n$$\n",
    "\n",
    "\n",
    "\n",
    "Where each $A_n$ is some unitary, and some unitary $U$ that prepares state $|\\textbf{b}\\rangle$ from $|0\\rangle$. Now, recall the general structure of a variational quantum algorithm. We have to construct a quantum cost function, which can be evaluated with a low-depth parametrized quantum circuit, then output to the classical optimizer. This allows us to search a parameter space for some set of parameters $\\alpha$, such that $|\\psi(\\alpha)\\rangle \\ = \\ \\frac{|\\textbf{x}\\rangle}{|| \\textbf{x} ||}$, where $|\\psi(k)\\rangle$ is the output of out quantum circuit corresponding to some parameter set $k$.\n",
    "\n",
    "Before we actually begin constructing the cost function, let's take a look at a \"high level\" overview of the sub-routines within this algorithm, as illustrated in this image from the original paper:\n",
    "\n",
    "![alt text](images/bro.png)"
   ]
  },
  {
   "cell_type": "markdown",
   "metadata": {},
   "source": [
    "So essentially, we start off with a qubit register, with each qubit initialized to $|0\\rangle$. Our algorithm takes its inputs, then prepares and evaluates the cost function, starting with the creation of some ansatz $V(\\alpha)$. If the computed cost is greater than some parameter $\\gamma$, the algorithm is run again with updated parameters, and if not, the algorithm terminates, and the ansatz is calculated with the optimal parameters (determined at termination). This gives us the state vector that minimizes our cost function, and therefore the normalized form of $|\\textbf{x}\\rangle$.\n",
    "\n",
    "Let's start off by considering the ansatz $V(\\alpha)$, which is just a circuit that prepares some arbitrary state $|\\psi(k)\\rangle$. This allows us to \"search\" the state space by varying some set of parameters, $k$. Anyways, the ansatz that we will use for this implementation is given as follows:"
   ]
  },
  {
   "cell_type": "code",
   "execution_count": 2,
   "metadata": {},
   "outputs": [
    {
     "data": {
      "image/svg+xml": [
       "<?xml version=\"1.0\" encoding=\"utf-8\" standalone=\"no\"?>\n",
       "<!DOCTYPE svg PUBLIC \"-//W3C//DTD SVG 1.1//EN\"\n",
       "  \"http://www.w3.org/Graphics/SVG/1.1/DTD/svg11.dtd\">\n",
       "<!-- Created with matplotlib (https://matplotlib.org/) -->\n",
       "<svg height=\"168.9334pt\" version=\"1.1\" viewBox=\"0 0 467.09196 168.9334\" width=\"467.09196pt\" xmlns=\"http://www.w3.org/2000/svg\" xmlns:xlink=\"http://www.w3.org/1999/xlink\">\n",
       " <defs>\n",
       "  <style type=\"text/css\">\n",
       "*{stroke-linecap:butt;stroke-linejoin:round;}\n",
       "  </style>\n",
       " </defs>\n",
       " <g id=\"figure_1\">\n",
       "  <g id=\"patch_1\">\n",
       "   <path d=\"M 0 168.9334 \n",
       "L 467.09196 168.9334 \n",
       "L 467.09196 0 \n",
       "L 0 0 \n",
       "z\n",
       "\" style=\"fill:#ffffff;\"/>\n",
       "  </g>\n",
       "  <g id=\"axes_1\">\n",
       "   <g id=\"line2d_1\">\n",
       "    <path clip-path=\"url(#pf0dcc1a01b)\" d=\"M 114.46436 43.5608 \n",
       "L 455.34686 43.5608 \n",
       "\" style=\"fill:none;stroke:#000000;stroke-linecap:square;stroke-width:2;\"/>\n",
       "   </g>\n",
       "   <g id=\"line2d_2\">\n",
       "    <path clip-path=\"url(#pf0dcc1a01b)\" d=\"M 114.46436 89.0118 \n",
       "L 455.34686 89.0118 \n",
       "\" style=\"fill:none;stroke:#000000;stroke-linecap:square;stroke-width:2;\"/>\n",
       "   </g>\n",
       "   <g id=\"line2d_3\">\n",
       "    <path clip-path=\"url(#pf0dcc1a01b)\" d=\"M 114.46436 134.4628 \n",
       "L 455.34686 134.4628 \n",
       "\" style=\"fill:none;stroke:#000000;stroke-linecap:square;stroke-width:2;\"/>\n",
       "   </g>\n",
       "   <g id=\"line2d_4\">\n",
       "    <path clip-path=\"url(#pf0dcc1a01b)\" d=\"M 182.64086 89.0118 \n",
       "L 182.64086 43.5608 \n",
       "\" style=\"fill:none;stroke:#bb8bff;stroke-linecap:square;stroke-width:2;\"/>\n",
       "   </g>\n",
       "   <g id=\"line2d_5\">\n",
       "    <path clip-path=\"url(#pf0dcc1a01b)\" d=\"M 228.09186 134.4628 \n",
       "L 228.09186 43.5608 \n",
       "\" style=\"fill:none;stroke:#bb8bff;stroke-linecap:square;stroke-width:2;\"/>\n",
       "   </g>\n",
       "   <g id=\"line2d_6\">\n",
       "    <path clip-path=\"url(#pf0dcc1a01b)\" d=\"M 318.99386 134.4628 \n",
       "L 318.99386 89.0118 \n",
       "\" style=\"fill:none;stroke:#bb8bff;stroke-linecap:square;stroke-width:2;\"/>\n",
       "   </g>\n",
       "   <g id=\"line2d_7\">\n",
       "    <path clip-path=\"url(#pf0dcc1a01b)\" d=\"M 364.44486 134.4628 \n",
       "L 364.44486 43.5608 \n",
       "\" style=\"fill:none;stroke:#bb8bff;stroke-linecap:square;stroke-width:2;\"/>\n",
       "   </g>\n",
       "   <g id=\"patch_2\">\n",
       "    <path clip-path=\"url(#pf0dcc1a01b)\" d=\"M 122.418285 58.332375 \n",
       "L 151.961435 58.332375 \n",
       "L 151.961435 28.789225 \n",
       "L 122.418285 28.789225 \n",
       "z\n",
       "\" style=\"fill:#bb8bff;\"/>\n",
       "   </g>\n",
       "   <g id=\"patch_3\">\n",
       "    <path clip-path=\"url(#pf0dcc1a01b)\" d=\"M 122.418285 103.783375 \n",
       "L 151.961435 103.783375 \n",
       "L 151.961435 74.240225 \n",
       "L 122.418285 74.240225 \n",
       "z\n",
       "\" style=\"fill:#bb8bff;\"/>\n",
       "   </g>\n",
       "   <g id=\"patch_4\">\n",
       "    <path clip-path=\"url(#pf0dcc1a01b)\" d=\"M 122.418285 149.234375 \n",
       "L 151.961435 149.234375 \n",
       "L 151.961435 119.691225 \n",
       "L 122.418285 119.691225 \n",
       "z\n",
       "\" style=\"fill:#bb8bff;\"/>\n",
       "   </g>\n",
       "   <g id=\"patch_5\">\n",
       "    <path clip-path=\"url(#pf0dcc1a01b)\" d=\"M 182.64086 47.992272 \n",
       "C 183.8161 47.992272 184.943364 47.525345 185.774384 46.694324 \n",
       "C 186.605405 45.863304 187.072332 44.73604 187.072332 43.5608 \n",
       "C 187.072332 42.38556 186.605405 41.258296 185.774384 40.427276 \n",
       "C 184.943364 39.596255 183.8161 39.129327 182.64086 39.129327 \n",
       "C 181.46562 39.129327 180.338356 39.596255 179.507336 40.427276 \n",
       "C 178.676315 41.258296 178.209387 42.38556 178.209387 43.5608 \n",
       "C 178.209387 44.73604 178.676315 45.863304 179.507336 46.694324 \n",
       "C 180.338356 47.525345 181.46562 47.992272 182.64086 47.992272 \n",
       "z\n",
       "\" style=\"fill:#bb8bff;stroke:#bb8bff;stroke-linejoin:miter;stroke-width:1.5;\"/>\n",
       "   </g>\n",
       "   <g id=\"patch_6\">\n",
       "    <path clip-path=\"url(#pf0dcc1a01b)\" d=\"M 167.869285 103.783375 \n",
       "L 197.412435 103.783375 \n",
       "L 197.412435 74.240225 \n",
       "L 167.869285 74.240225 \n",
       "z\n",
       "\" style=\"fill:#bb8bff;\"/>\n",
       "   </g>\n",
       "   <g id=\"patch_7\">\n",
       "    <path clip-path=\"url(#pf0dcc1a01b)\" d=\"M 228.09186 138.894272 \n",
       "C 229.2671 138.894272 230.394364 138.427345 231.225384 137.596324 \n",
       "C 232.056405 136.765304 232.523332 135.63804 232.523332 134.4628 \n",
       "C 232.523332 133.28756 232.056405 132.160296 231.225384 131.329276 \n",
       "C 230.394364 130.498255 229.2671 130.031327 228.09186 130.031327 \n",
       "C 226.91662 130.031327 225.789356 130.498255 224.958336 131.329276 \n",
       "C 224.127315 132.160296 223.660387 133.28756 223.660387 134.4628 \n",
       "C 223.660387 135.63804 224.127315 136.765304 224.958336 137.596324 \n",
       "C 225.789356 138.427345 226.91662 138.894272 228.09186 138.894272 \n",
       "z\n",
       "\" style=\"fill:#bb8bff;stroke:#bb8bff;stroke-linejoin:miter;stroke-width:1.5;\"/>\n",
       "   </g>\n",
       "   <g id=\"patch_8\">\n",
       "    <path clip-path=\"url(#pf0dcc1a01b)\" d=\"M 213.320285 58.332375 \n",
       "L 242.863435 58.332375 \n",
       "L 242.863435 28.789225 \n",
       "L 213.320285 28.789225 \n",
       "z\n",
       "\" style=\"fill:#bb8bff;\"/>\n",
       "   </g>\n",
       "   <g id=\"patch_9\">\n",
       "    <path clip-path=\"url(#pf0dcc1a01b)\" d=\"M 258.771285 103.783375 \n",
       "L 288.314435 103.783375 \n",
       "L 288.314435 74.240225 \n",
       "L 258.771285 74.240225 \n",
       "z\n",
       "\" style=\"fill:#bb8bff;\"/>\n",
       "   </g>\n",
       "   <g id=\"patch_10\">\n",
       "    <path clip-path=\"url(#pf0dcc1a01b)\" d=\"M 258.771285 58.332375 \n",
       "L 288.314435 58.332375 \n",
       "L 288.314435 28.789225 \n",
       "L 258.771285 28.789225 \n",
       "z\n",
       "\" style=\"fill:#bb8bff;\"/>\n",
       "   </g>\n",
       "   <g id=\"patch_11\">\n",
       "    <path clip-path=\"url(#pf0dcc1a01b)\" d=\"M 258.771285 149.234375 \n",
       "L 288.314435 149.234375 \n",
       "L 288.314435 119.691225 \n",
       "L 258.771285 119.691225 \n",
       "z\n",
       "\" style=\"fill:#bb8bff;\"/>\n",
       "   </g>\n",
       "   <g id=\"patch_12\">\n",
       "    <path clip-path=\"url(#pf0dcc1a01b)\" d=\"M 318.99386 93.443272 \n",
       "C 320.1691 93.443272 321.296364 92.976345 322.127384 92.145324 \n",
       "C 322.958405 91.314304 323.425332 90.18704 323.425332 89.0118 \n",
       "C 323.425332 87.83656 322.958405 86.709296 322.127384 85.878276 \n",
       "C 321.296364 85.047255 320.1691 84.580327 318.99386 84.580327 \n",
       "C 317.81862 84.580327 316.691356 85.047255 315.860336 85.878276 \n",
       "C 315.029315 86.709296 314.562387 87.83656 314.562387 89.0118 \n",
       "C 314.562387 90.18704 315.029315 91.314304 315.860336 92.145324 \n",
       "C 316.691356 92.976345 317.81862 93.443272 318.99386 93.443272 \n",
       "z\n",
       "\" style=\"fill:#bb8bff;stroke:#bb8bff;stroke-linejoin:miter;stroke-width:1.5;\"/>\n",
       "   </g>\n",
       "   <g id=\"patch_13\">\n",
       "    <path clip-path=\"url(#pf0dcc1a01b)\" d=\"M 304.222285 149.234375 \n",
       "L 333.765435 149.234375 \n",
       "L 333.765435 119.691225 \n",
       "L 304.222285 119.691225 \n",
       "z\n",
       "\" style=\"fill:#bb8bff;\"/>\n",
       "   </g>\n",
       "   <g id=\"patch_14\">\n",
       "    <path clip-path=\"url(#pf0dcc1a01b)\" d=\"M 364.44486 138.894272 \n",
       "C 365.6201 138.894272 366.747364 138.427345 367.578384 137.596324 \n",
       "C 368.409405 136.765304 368.876332 135.63804 368.876332 134.4628 \n",
       "C 368.876332 133.28756 368.409405 132.160296 367.578384 131.329276 \n",
       "C 366.747364 130.498255 365.6201 130.031327 364.44486 130.031327 \n",
       "C 363.26962 130.031327 362.142356 130.498255 361.311336 131.329276 \n",
       "C 360.480315 132.160296 360.013387 133.28756 360.013387 134.4628 \n",
       "C 360.013387 135.63804 360.480315 136.765304 361.311336 137.596324 \n",
       "C 362.142356 138.427345 363.26962 138.894272 364.44486 138.894272 \n",
       "z\n",
       "\" style=\"fill:#bb8bff;stroke:#bb8bff;stroke-linejoin:miter;stroke-width:1.5;\"/>\n",
       "   </g>\n",
       "   <g id=\"patch_15\">\n",
       "    <path clip-path=\"url(#pf0dcc1a01b)\" d=\"M 349.673285 58.332375 \n",
       "L 379.216435 58.332375 \n",
       "L 379.216435 28.789225 \n",
       "L 349.673285 28.789225 \n",
       "z\n",
       "\" style=\"fill:#bb8bff;\"/>\n",
       "   </g>\n",
       "   <g id=\"patch_16\">\n",
       "    <path clip-path=\"url(#pf0dcc1a01b)\" d=\"M 395.124285 103.783375 \n",
       "L 424.667435 103.783375 \n",
       "L 424.667435 74.240225 \n",
       "L 395.124285 74.240225 \n",
       "z\n",
       "\" style=\"fill:#bb8bff;\"/>\n",
       "   </g>\n",
       "   <g id=\"patch_17\">\n",
       "    <path clip-path=\"url(#pf0dcc1a01b)\" d=\"M 395.124285 58.332375 \n",
       "L 424.667435 58.332375 \n",
       "L 424.667435 28.789225 \n",
       "L 395.124285 28.789225 \n",
       "z\n",
       "\" style=\"fill:#bb8bff;\"/>\n",
       "   </g>\n",
       "   <g id=\"patch_18\">\n",
       "    <path clip-path=\"url(#pf0dcc1a01b)\" d=\"M 395.124285 149.234375 \n",
       "L 424.667435 149.234375 \n",
       "L 424.667435 119.691225 \n",
       "L 395.124285 119.691225 \n",
       "z\n",
       "\" style=\"fill:#bb8bff;\"/>\n",
       "   </g>\n",
       "   <g id=\"text_1\">\n",
       "    <g clip-path=\"url(#pf0dcc1a01b)\">\n",
       "     <!-- $R_y$ -->\n",
       "     <defs>\n",
       "      <path d=\"M 25.203125 64.796875 \n",
       "L 20.21875 38.921875 \n",
       "L 32.90625 38.921875 \n",
       "Q 40.375 38.921875 44.984375 43.046875 \n",
       "Q 49.609375 47.171875 49.609375 53.8125 \n",
       "Q 49.609375 59.125 46.5 61.953125 \n",
       "Q 43.40625 64.796875 37.59375 64.796875 \n",
       "z\n",
       "M 43.3125 35.015625 \n",
       "Q 46.4375 34.28125 48.515625 31.390625 \n",
       "Q 50.59375 28.515625 53.328125 19.921875 \n",
       "L 59.515625 0 \n",
       "L 49.125 0 \n",
       "L 43.40625 18.703125 \n",
       "Q 41.21875 25.921875 38.328125 28.359375 \n",
       "Q 35.453125 30.8125 29.5 30.8125 \n",
       "L 18.609375 30.8125 \n",
       "L 12.59375 0 \n",
       "L 2.6875 0 \n",
       "L 16.890625 72.90625 \n",
       "L 39.109375 72.90625 \n",
       "Q 49.21875 72.90625 54.609375 68.328125 \n",
       "Q 60.015625 63.765625 60.015625 55.171875 \n",
       "Q 60.015625 47.5625 55.421875 41.984375 \n",
       "Q 50.828125 36.421875 43.3125 35.015625 \n",
       "z\n",
       "\" id=\"DejaVuSans-Oblique-82\"/>\n",
       "      <path d=\"M 24.8125 -5.078125 \n",
       "Q 18.5625 -15.578125 14.625 -18.1875 \n",
       "Q 10.6875 -20.796875 4.59375 -20.796875 \n",
       "L -2.484375 -20.796875 \n",
       "L -0.984375 -13.28125 \n",
       "L 4.203125 -13.28125 \n",
       "Q 7.953125 -13.28125 10.59375 -11.234375 \n",
       "Q 13.234375 -9.1875 16.5 -3.21875 \n",
       "L 19.28125 2 \n",
       "L 7.171875 54.6875 \n",
       "L 16.703125 54.6875 \n",
       "L 25.78125 12.796875 \n",
       "L 50.875 54.6875 \n",
       "L 60.296875 54.6875 \n",
       "z\n",
       "\" id=\"DejaVuSans-Oblique-121\"/>\n",
       "     </defs>\n",
       "     <g transform=\"translate(129.77986 41.859327)scale(0.13 -0.13)\">\n",
       "      <use transform=\"translate(0 0.09375)\" xlink:href=\"#DejaVuSans-Oblique-82\"/>\n",
       "      <use transform=\"translate(69.482422 -16.3125)scale(0.7)\" xlink:href=\"#DejaVuSans-Oblique-121\"/>\n",
       "     </g>\n",
       "    </g>\n",
       "   </g>\n",
       "   <g id=\"text_2\">\n",
       "    <g clip-path=\"url(#pf0dcc1a01b)\">\n",
       "     <!-- 1 -->\n",
       "     <defs>\n",
       "      <path d=\"M 12.40625 8.296875 \n",
       "L 28.515625 8.296875 \n",
       "L 28.515625 63.921875 \n",
       "L 10.984375 60.40625 \n",
       "L 10.984375 69.390625 \n",
       "L 28.421875 72.90625 \n",
       "L 38.28125 72.90625 \n",
       "L 38.28125 8.296875 \n",
       "L 54.390625 8.296875 \n",
       "L 54.390625 0 \n",
       "L 12.40625 0 \n",
       "z\n",
       "\" id=\"DejaVuSans-49\"/>\n",
       "     </defs>\n",
       "     <g transform=\"translate(134.64486 54.631245)scale(0.08 -0.08)\">\n",
       "      <use xlink:href=\"#DejaVuSans-49\"/>\n",
       "     </g>\n",
       "    </g>\n",
       "   </g>\n",
       "   <g id=\"text_3\">\n",
       "    <g clip-path=\"url(#pf0dcc1a01b)\">\n",
       "     <!-- $R_y$ -->\n",
       "     <g transform=\"translate(129.77986 87.310327)scale(0.13 -0.13)\">\n",
       "      <use transform=\"translate(0 0.09375)\" xlink:href=\"#DejaVuSans-Oblique-82\"/>\n",
       "      <use transform=\"translate(69.482422 -16.3125)scale(0.7)\" xlink:href=\"#DejaVuSans-Oblique-121\"/>\n",
       "     </g>\n",
       "    </g>\n",
       "   </g>\n",
       "   <g id=\"text_4\">\n",
       "    <g clip-path=\"url(#pf0dcc1a01b)\">\n",
       "     <!-- 1 -->\n",
       "     <g transform=\"translate(134.64486 100.082245)scale(0.08 -0.08)\">\n",
       "      <use xlink:href=\"#DejaVuSans-49\"/>\n",
       "     </g>\n",
       "    </g>\n",
       "   </g>\n",
       "   <g id=\"text_5\">\n",
       "    <g clip-path=\"url(#pf0dcc1a01b)\">\n",
       "     <!-- $R_y$ -->\n",
       "     <g transform=\"translate(129.77986 132.761327)scale(0.13 -0.13)\">\n",
       "      <use transform=\"translate(0 0.09375)\" xlink:href=\"#DejaVuSans-Oblique-82\"/>\n",
       "      <use transform=\"translate(69.482422 -16.3125)scale(0.7)\" xlink:href=\"#DejaVuSans-Oblique-121\"/>\n",
       "     </g>\n",
       "    </g>\n",
       "   </g>\n",
       "   <g id=\"text_6\">\n",
       "    <g clip-path=\"url(#pf0dcc1a01b)\">\n",
       "     <!-- 1 -->\n",
       "     <g transform=\"translate(134.64486 145.533245)scale(0.08 -0.08)\">\n",
       "      <use xlink:href=\"#DejaVuSans-49\"/>\n",
       "     </g>\n",
       "    </g>\n",
       "   </g>\n",
       "   <g id=\"text_7\">\n",
       "    <g clip-path=\"url(#pf0dcc1a01b)\">\n",
       "     <!-- $Z$ -->\n",
       "     <defs>\n",
       "      <path d=\"M 13.09375 72.90625 \n",
       "L 70.3125 72.90625 \n",
       "L 68.890625 65.375 \n",
       "L 12.40625 8.296875 \n",
       "L 58.890625 8.296875 \n",
       "L 57.328125 0 \n",
       "L -2.203125 0 \n",
       "L -0.78125 7.515625 \n",
       "L 55.71875 64.59375 \n",
       "L 11.53125 64.59375 \n",
       "z\n",
       "\" id=\"DejaVuSans-Oblique-90\"/>\n",
       "     </defs>\n",
       "     <g transform=\"translate(178.15586 92.598987)scale(0.13 -0.13)\">\n",
       "      <use transform=\"translate(0 0.09375)\" xlink:href=\"#DejaVuSans-Oblique-90\"/>\n",
       "     </g>\n",
       "    </g>\n",
       "   </g>\n",
       "   <g id=\"text_8\">\n",
       "    <g clip-path=\"url(#pf0dcc1a01b)\">\n",
       "     <!-- $Z$ -->\n",
       "     <g transform=\"translate(223.60686 47.147987)scale(0.13 -0.13)\">\n",
       "      <use transform=\"translate(0 0.09375)\" xlink:href=\"#DejaVuSans-Oblique-90\"/>\n",
       "     </g>\n",
       "    </g>\n",
       "   </g>\n",
       "   <g id=\"text_9\">\n",
       "    <g clip-path=\"url(#pf0dcc1a01b)\">\n",
       "     <!-- $R_y$ -->\n",
       "     <g transform=\"translate(266.13286 87.310327)scale(0.13 -0.13)\">\n",
       "      <use transform=\"translate(0 0.09375)\" xlink:href=\"#DejaVuSans-Oblique-82\"/>\n",
       "      <use transform=\"translate(69.482422 -16.3125)scale(0.7)\" xlink:href=\"#DejaVuSans-Oblique-121\"/>\n",
       "     </g>\n",
       "    </g>\n",
       "   </g>\n",
       "   <g id=\"text_10\">\n",
       "    <g clip-path=\"url(#pf0dcc1a01b)\">\n",
       "     <!-- 1 -->\n",
       "     <g transform=\"translate(270.99786 100.082245)scale(0.08 -0.08)\">\n",
       "      <use xlink:href=\"#DejaVuSans-49\"/>\n",
       "     </g>\n",
       "    </g>\n",
       "   </g>\n",
       "   <g id=\"text_11\">\n",
       "    <g clip-path=\"url(#pf0dcc1a01b)\">\n",
       "     <!-- $R_y$ -->\n",
       "     <g transform=\"translate(266.13286 41.859327)scale(0.13 -0.13)\">\n",
       "      <use transform=\"translate(0 0.09375)\" xlink:href=\"#DejaVuSans-Oblique-82\"/>\n",
       "      <use transform=\"translate(69.482422 -16.3125)scale(0.7)\" xlink:href=\"#DejaVuSans-Oblique-121\"/>\n",
       "     </g>\n",
       "    </g>\n",
       "   </g>\n",
       "   <g id=\"text_12\">\n",
       "    <g clip-path=\"url(#pf0dcc1a01b)\">\n",
       "     <!-- 1 -->\n",
       "     <g transform=\"translate(270.99786 54.631245)scale(0.08 -0.08)\">\n",
       "      <use xlink:href=\"#DejaVuSans-49\"/>\n",
       "     </g>\n",
       "    </g>\n",
       "   </g>\n",
       "   <g id=\"text_13\">\n",
       "    <g clip-path=\"url(#pf0dcc1a01b)\">\n",
       "     <!-- $R_y$ -->\n",
       "     <g transform=\"translate(266.13286 132.761327)scale(0.13 -0.13)\">\n",
       "      <use transform=\"translate(0 0.09375)\" xlink:href=\"#DejaVuSans-Oblique-82\"/>\n",
       "      <use transform=\"translate(69.482422 -16.3125)scale(0.7)\" xlink:href=\"#DejaVuSans-Oblique-121\"/>\n",
       "     </g>\n",
       "    </g>\n",
       "   </g>\n",
       "   <g id=\"text_14\">\n",
       "    <g clip-path=\"url(#pf0dcc1a01b)\">\n",
       "     <!-- 1 -->\n",
       "     <g transform=\"translate(270.99786 145.533245)scale(0.08 -0.08)\">\n",
       "      <use xlink:href=\"#DejaVuSans-49\"/>\n",
       "     </g>\n",
       "    </g>\n",
       "   </g>\n",
       "   <g id=\"text_15\">\n",
       "    <g clip-path=\"url(#pf0dcc1a01b)\">\n",
       "     <!-- $Z$ -->\n",
       "     <g transform=\"translate(314.50886 138.049987)scale(0.13 -0.13)\">\n",
       "      <use transform=\"translate(0 0.09375)\" xlink:href=\"#DejaVuSans-Oblique-90\"/>\n",
       "     </g>\n",
       "    </g>\n",
       "   </g>\n",
       "   <g id=\"text_16\">\n",
       "    <g clip-path=\"url(#pf0dcc1a01b)\">\n",
       "     <!-- $Z$ -->\n",
       "     <g transform=\"translate(359.95986 47.147987)scale(0.13 -0.13)\">\n",
       "      <use transform=\"translate(0 0.09375)\" xlink:href=\"#DejaVuSans-Oblique-90\"/>\n",
       "     </g>\n",
       "    </g>\n",
       "   </g>\n",
       "   <g id=\"text_17\">\n",
       "    <g clip-path=\"url(#pf0dcc1a01b)\">\n",
       "     <!-- $R_y$ -->\n",
       "     <g transform=\"translate(402.48586 87.310327)scale(0.13 -0.13)\">\n",
       "      <use transform=\"translate(0 0.09375)\" xlink:href=\"#DejaVuSans-Oblique-82\"/>\n",
       "      <use transform=\"translate(69.482422 -16.3125)scale(0.7)\" xlink:href=\"#DejaVuSans-Oblique-121\"/>\n",
       "     </g>\n",
       "    </g>\n",
       "   </g>\n",
       "   <g id=\"text_18\">\n",
       "    <g clip-path=\"url(#pf0dcc1a01b)\">\n",
       "     <!-- 1 -->\n",
       "     <g transform=\"translate(407.35086 100.082245)scale(0.08 -0.08)\">\n",
       "      <use xlink:href=\"#DejaVuSans-49\"/>\n",
       "     </g>\n",
       "    </g>\n",
       "   </g>\n",
       "   <g id=\"text_19\">\n",
       "    <g clip-path=\"url(#pf0dcc1a01b)\">\n",
       "     <!-- $R_y$ -->\n",
       "     <g transform=\"translate(402.48586 41.859327)scale(0.13 -0.13)\">\n",
       "      <use transform=\"translate(0 0.09375)\" xlink:href=\"#DejaVuSans-Oblique-82\"/>\n",
       "      <use transform=\"translate(69.482422 -16.3125)scale(0.7)\" xlink:href=\"#DejaVuSans-Oblique-121\"/>\n",
       "     </g>\n",
       "    </g>\n",
       "   </g>\n",
       "   <g id=\"text_20\">\n",
       "    <g clip-path=\"url(#pf0dcc1a01b)\">\n",
       "     <!-- 1 -->\n",
       "     <g transform=\"translate(407.35086 54.631245)scale(0.08 -0.08)\">\n",
       "      <use xlink:href=\"#DejaVuSans-49\"/>\n",
       "     </g>\n",
       "    </g>\n",
       "   </g>\n",
       "   <g id=\"text_21\">\n",
       "    <g clip-path=\"url(#pf0dcc1a01b)\">\n",
       "     <!-- $R_y$ -->\n",
       "     <g transform=\"translate(402.48586 132.761327)scale(0.13 -0.13)\">\n",
       "      <use transform=\"translate(0 0.09375)\" xlink:href=\"#DejaVuSans-Oblique-82\"/>\n",
       "      <use transform=\"translate(69.482422 -16.3125)scale(0.7)\" xlink:href=\"#DejaVuSans-Oblique-121\"/>\n",
       "     </g>\n",
       "    </g>\n",
       "   </g>\n",
       "   <g id=\"text_22\">\n",
       "    <g clip-path=\"url(#pf0dcc1a01b)\">\n",
       "     <!-- 1 -->\n",
       "     <g transform=\"translate(407.35086 145.533245)scale(0.08 -0.08)\">\n",
       "      <use xlink:href=\"#DejaVuSans-49\"/>\n",
       "     </g>\n",
       "    </g>\n",
       "   </g>\n",
       "   <g id=\"text_23\">\n",
       "    <g clip-path=\"url(#pf0dcc1a01b)\">\n",
       "     <!-- ${q}_{0}$ -->\n",
       "     <defs>\n",
       "      <path d=\"M 41.703125 8.203125 \n",
       "Q 38.09375 3.46875 33.171875 1.015625 \n",
       "Q 28.265625 -1.421875 22.3125 -1.421875 \n",
       "Q 14.015625 -1.421875 9.296875 4.171875 \n",
       "Q 4.59375 9.765625 4.59375 19.578125 \n",
       "Q 4.59375 27.484375 7.5 34.859375 \n",
       "Q 10.40625 42.234375 15.828125 48.09375 \n",
       "Q 19.34375 51.90625 23.90625 53.953125 \n",
       "Q 28.46875 56 33.5 56 \n",
       "Q 39.546875 56 43.453125 53.609375 \n",
       "Q 47.359375 51.21875 49.125 46.390625 \n",
       "L 50.6875 54.59375 \n",
       "L 59.71875 54.59375 \n",
       "L 45.125 -20.609375 \n",
       "L 36.078125 -20.609375 \n",
       "z\n",
       "M 13.921875 20.90625 \n",
       "Q 13.921875 13.671875 16.9375 9.890625 \n",
       "Q 19.96875 6.109375 25.6875 6.109375 \n",
       "Q 34.1875 6.109375 40.1875 14.234375 \n",
       "Q 46.1875 22.359375 46.1875 33.984375 \n",
       "Q 46.1875 41.015625 43.078125 44.75 \n",
       "Q 39.984375 48.484375 34.1875 48.484375 \n",
       "Q 29.9375 48.484375 26.3125 46.5 \n",
       "Q 22.703125 44.53125 20.015625 40.71875 \n",
       "Q 17.1875 36.71875 15.546875 31.34375 \n",
       "Q 13.921875 25.984375 13.921875 20.90625 \n",
       "z\n",
       "\" id=\"DejaVuSans-Oblique-113\"/>\n",
       "      <path d=\"M 31.78125 66.40625 \n",
       "Q 24.171875 66.40625 20.328125 58.90625 \n",
       "Q 16.5 51.421875 16.5 36.375 \n",
       "Q 16.5 21.390625 20.328125 13.890625 \n",
       "Q 24.171875 6.390625 31.78125 6.390625 \n",
       "Q 39.453125 6.390625 43.28125 13.890625 \n",
       "Q 47.125 21.390625 47.125 36.375 \n",
       "Q 47.125 51.421875 43.28125 58.90625 \n",
       "Q 39.453125 66.40625 31.78125 66.40625 \n",
       "z\n",
       "M 31.78125 74.21875 \n",
       "Q 44.046875 74.21875 50.515625 64.515625 \n",
       "Q 56.984375 54.828125 56.984375 36.375 \n",
       "Q 56.984375 17.96875 50.515625 8.265625 \n",
       "Q 44.046875 -1.421875 31.78125 -1.421875 \n",
       "Q 19.53125 -1.421875 13.0625 8.265625 \n",
       "Q 6.59375 17.96875 6.59375 36.375 \n",
       "Q 6.59375 54.828125 13.0625 64.515625 \n",
       "Q 19.53125 74.21875 31.78125 74.21875 \n",
       "z\n",
       "\" id=\"DejaVuSans-48\"/>\n",
       "     </defs>\n",
       "     <g transform=\"translate(73.70136 48.011777)scale(0.1625 -0.1625)\">\n",
       "      <use xlink:href=\"#DejaVuSans-Oblique-113\"/>\n",
       "      <use transform=\"translate(63.476562 -16.40625)scale(0.7)\" xlink:href=\"#DejaVuSans-48\"/>\n",
       "     </g>\n",
       "    </g>\n",
       "   </g>\n",
       "   <g id=\"text_24\">\n",
       "    <g clip-path=\"url(#pf0dcc1a01b)\">\n",
       "     <!-- ${q}_{1}$ -->\n",
       "     <g transform=\"translate(73.70136 93.462777)scale(0.1625 -0.1625)\">\n",
       "      <use xlink:href=\"#DejaVuSans-Oblique-113\"/>\n",
       "      <use transform=\"translate(63.476562 -16.40625)scale(0.7)\" xlink:href=\"#DejaVuSans-49\"/>\n",
       "     </g>\n",
       "    </g>\n",
       "   </g>\n",
       "   <g id=\"text_25\">\n",
       "    <g clip-path=\"url(#pf0dcc1a01b)\">\n",
       "     <!-- ${q}_{2}$ -->\n",
       "     <defs>\n",
       "      <path d=\"M 19.1875 8.296875 \n",
       "L 53.609375 8.296875 \n",
       "L 53.609375 0 \n",
       "L 7.328125 0 \n",
       "L 7.328125 8.296875 \n",
       "Q 12.9375 14.109375 22.625 23.890625 \n",
       "Q 32.328125 33.6875 34.8125 36.53125 \n",
       "Q 39.546875 41.84375 41.421875 45.53125 \n",
       "Q 43.3125 49.21875 43.3125 52.78125 \n",
       "Q 43.3125 58.59375 39.234375 62.25 \n",
       "Q 35.15625 65.921875 28.609375 65.921875 \n",
       "Q 23.96875 65.921875 18.8125 64.3125 \n",
       "Q 13.671875 62.703125 7.8125 59.421875 \n",
       "L 7.8125 69.390625 \n",
       "Q 13.765625 71.78125 18.9375 73 \n",
       "Q 24.125 74.21875 28.421875 74.21875 \n",
       "Q 39.75 74.21875 46.484375 68.546875 \n",
       "Q 53.21875 62.890625 53.21875 53.421875 \n",
       "Q 53.21875 48.921875 51.53125 44.890625 \n",
       "Q 49.859375 40.875 45.40625 35.40625 \n",
       "Q 44.1875 33.984375 37.640625 27.21875 \n",
       "Q 31.109375 20.453125 19.1875 8.296875 \n",
       "z\n",
       "\" id=\"DejaVuSans-50\"/>\n",
       "     </defs>\n",
       "     <g transform=\"translate(73.70136 138.913777)scale(0.1625 -0.1625)\">\n",
       "      <use xlink:href=\"#DejaVuSans-Oblique-113\"/>\n",
       "      <use transform=\"translate(63.476562 -16.40625)scale(0.7)\" xlink:href=\"#DejaVuSans-50\"/>\n",
       "     </g>\n",
       "    </g>\n",
       "   </g>\n",
       "  </g>\n",
       " </g>\n",
       " <defs>\n",
       "  <clipPath id=\"pf0dcc1a01b\">\n",
       "   <rect height=\"154.5334\" width=\"452.69196\" x=\"7.2\" y=\"7.2\"/>\n",
       "  </clipPath>\n",
       " </defs>\n",
       "</svg>\n"
      ],
      "text/plain": [
       "<Figure size 599.592x204.68 with 1 Axes>"
      ]
     },
     "execution_count": 2,
     "metadata": {},
     "output_type": "execute_result"
    }
   ],
   "source": [
    "def apply_fixed_ansatz(qubits, parameters):\n",
    "\n",
    "    for iz in range (0, len(qubits)):\n",
    "        circ.ry(parameters[0][iz], qubits[iz])\n",
    "\n",
    "    circ.cz(qubits[0], qubits[1])\n",
    "    circ.cz(qubits[2], qubits[0])\n",
    "\n",
    "    for iz in range (0, len(qubits)):\n",
    "        circ.ry(parameters[1][iz], qubits[iz])\n",
    "\n",
    "    circ.cz(qubits[1], qubits[2])\n",
    "    circ.cz(qubits[2], qubits[0])\n",
    "\n",
    "    for iz in range (0, len(qubits)):\n",
    "        circ.ry(parameters[2][iz], qubits[iz])\n",
    "\n",
    "circ = QuantumCircuit(3)\n",
    "apply_fixed_ansatz([0, 1, 2], [[1, 1, 1], [1, 1, 1], [1, 1, 1]])\n",
    "circ.draw(output='mpl')"
   ]
  },
  {
   "cell_type": "markdown",
   "metadata": {},
   "source": [
    "This is called a **fixed hardware ansatz**: the configuration of quantum gates remains the same for each run of the circuit, all that changes are the parameters. Unlike the QAOA ansatz, it is not composed solely of Trotterized Hamiltonians. The applications of $Ry$ gates allows us to search the state space, while the $CZ$ gates create \"interference\" between the different qubit states. \n",
    "\n",
    "Now, it makes sense for us to consider the actual **cost function**. The goal of our algorithm will be to minimize cost, so when $|\\Phi\\rangle \\ = \\ \\textbf{A} |\\psi(k)\\rangle$ is very close to $|\\textbf{b}\\rangle$, we want our cost function's output to be very small, and when the vectors are close to being ortohognal, we want the cost function to be very large. Thus, we introduce the \"projection\" Hamiltonian:\n",
    "\n",
    "\n",
    "\n",
    "$$H_P \\ = \\ \\mathbb{I} \\ - \\ |b\\rangle \\langle b|$$\n",
    "\n",
    "\n",
    "\n",
    "Where we have:\n",
    "\n",
    "\n",
    "\n",
    "$$C_P \\ = \\ \\langle \\Phi | H_P | \\Phi \\rangle \\ = \\ \\langle \\Phi | (\\mathbb{I} \\ - \\ |b\\rangle \\langle b|) |\\Phi \\rangle \\ = \\ \\langle \\Phi | \\Phi \\rangle \\ - \\ \\langle \\Phi |b\\rangle \\langle b | \\Phi \\rangle$$\n",
    "\n",
    "\n",
    "\n",
    "Notice how the second term tells us \"how much\" of $|\\Phi\\rangle$ lies along $|b\\rangle$. We then subtract this from another number to get the desired low number when the inner product of $|\\Phi\\rangle$ and $|b\\rangle$ is greater (they agree more), and the opposite for when they are close to being orthogonal. This is looking good so far! However, there is still one more thing we can do to increase the accuracy of the algorithm: normalizing the cost function. This is due to the fact that if $|\\Phi\\rangle$ has a small norm, then the cost function will still be low, even if it does not agree with $|\\textbf{b}\\rangle$. Thus, we replace $|\\Phi\\rangle$ with $\\frac{|\\Phi\\rangle}{\\sqrt{\\langle \\Phi | \\Phi \\rangle}}$:\n",
    "\n",
    "\n",
    "\n",
    "$$\\hat{C}_P \\ = \\ \\frac{\\langle \\Phi | \\Phi \\rangle}{\\langle \\Phi | \\Phi \\rangle} \\ - \\ \\frac{\\langle \\Phi |b\\rangle \\langle b | \\Phi \\rangle}{\\langle \\Phi | \\Phi \\rangle} \\ = \\ 1 \\ - \\ \\frac{\\langle \\Phi |b\\rangle \\langle b | \\Phi \\rangle}{\\langle \\Phi | \\Phi \\rangle} \\ = \\ 1 \\ - \\ \\frac{|\\langle b | \\Phi \\rangle|^2}{\\langle \\Phi | \\Phi \\rangle}$$\n",
    "\n",
    "\n",
    "\n",
    "Ok, so, we have prepared our state $|\\psi(k)\\rangle$ with the ansatz. Now, we have two values to calculate in order to evaluate the cost function, namely $|\\langle b | \\Phi \\rangle|^2$ and $\\langle \\Phi | \\Phi \\rangle$. Luckily, a nifty little quantum subroutine called the **Hadamard Test** allows us to do this! Essentially, if we have some unitary $U$ and some state $|\\phi\\rangle$, and we want to find the expectation value of $U$ with respect to the state, $\\langle \\phi | U | \\phi \\rangle$, then we can evaluate the following circuit:\n",
    "\n",
    "<br><br>\n",
    "\n",
    "![image1](images/h.png)\n",
    "\n",
    "<br><br>\n",
    "\n",
    "Then, the probability of measuring the first qubit to be $0$ is equal to $\\frac{1}{2} (1 \\ + \\ \\text{Re}\\langle U \\rangle)$ and the probability of measuring $1$ is $\\frac{1}{2} (1 \\ - \\ \\text{Re}\\langle U \\rangle)$, so subtracting the two probabilities gives us $\\text{Re} \\langle U \\rangle$. Luckily, the matrices we will be dealing with when we test this algorithm are completely real, so $\\text{Re} \\langle U \\rangle \\ = \\ \\langle U \\rangle$, for this specific implementation. Here is how the Hadamard test works. By the circuit diagram, we have as our general state vector:\n",
    "\n",
    "<br>\n",
    "\n",
    "\n",
    "\n",
    "$$\\frac{|0\\rangle \\ + \\ |1\\rangle}{\\sqrt{2}} \\ \\otimes \\ |\\psi\\rangle \\ = \\ \\frac{|0\\rangle \\ \\otimes \\ |\\psi\\rangle \\ + \\ |1\\rangle \\ \\otimes \\ |\\psi\\rangle}{\\sqrt{2}}$$\n",
    "\n",
    "\n",
    "\n",
    "<br>\n",
    "\n",
    "Applying our controlled unitay:\n",
    "\n",
    "<br>\n",
    "\n",
    "\n",
    "\n",
    "$$\\frac{|0\\rangle \\ \\otimes \\ |\\psi\\rangle \\ + \\ |1\\rangle \\ \\otimes \\ |\\psi\\rangle}{\\sqrt{2}} \\ \\rightarrow \\ \\frac{|0\\rangle \\ \\otimes \\ |\\psi\\rangle \\ + \\ |1\\rangle \\ \\otimes \\ U|\\psi\\rangle}{\\sqrt{2}}$$\n",
    "\n",
    "\n",
    "\n",
    "<br>\n",
    "\n",
    "Then applying the Hadamard gate to the first qubit:\n",
    "\n",
    "<br>\n",
    "\n",
    "\n",
    "\n",
    "$$\\frac{|0\\rangle \\ \\otimes \\ |\\psi\\rangle \\ + \\ |1\\rangle \\ \\otimes \\ U|\\psi\\rangle}{\\sqrt{2}} \\ \\rightarrow \\ \\frac{1}{2} \\ \\big[ |0\\rangle \\ \\otimes \\ |\\psi\\rangle \\ + \\ |1\\rangle \\ \\otimes \\ |\\psi\\rangle \\ + \\ |0\\rangle \\ \\otimes \\ U|\\psi\\rangle \\ - \\ |1\\rangle \\ \\otimes \\ U|\\psi\\rangle \\big]$$\n",
    "\n",
    "\n",
    "\n",
    "<br>\n",
    "\n",
    "\n",
    "\n",
    "$$\\Rightarrow \\ |0\\rangle \\ \\otimes \\ (\\mathbb{I} \\ + \\ U)|\\psi\\rangle \\ + \\ |1\\rangle \\ \\otimes \\ (\\mathbb{I} \\ - \\ U)|\\psi\\rangle$$\n",
    "\n",
    "\n",
    "\n",
    "<br>\n",
    "\n",
    "When we take a measurement of the first qubit, remember that in order to find the probability of measuring $0$, we must take the inner product of the state vector with $|0\\rangle$, then multiply by its complex conjugate (see the quantum mechanics section if you are not familiar with this). The same follows for the probability of measuring $1$. Thus, we have:\n",
    "\n",
    "<br>\n",
    "\n",
    "\n",
    "\n",
    "$$P(0) \\ = \\ \\frac{1}{4} \\ \\langle \\psi | (\\mathbb{I} \\ + \\ U) (\\mathbb{I} \\ + \\ U^{\\dagger}) |\\psi\\rangle \\ = \\ \\frac{1}{4} \\ \\langle \\psi | (\\mathbb{I}^2 \\ + U \\ + \\ U^{\\dagger} \\ + \\ U^{\\dagger} U) |\\psi\\rangle \\ = \\ \\frac{1}{4} \\ \\langle \\psi | (2\\mathbb{I} \\ + U \\ + \\ U^{\\dagger}) |\\psi\\rangle$$\n",
    "\n",
    "\n",
    "\n",
    "<br>\n",
    "\n",
    "\n",
    "\n",
    "$$\\Rightarrow \\ \\frac{1}{4} \\Big[ 2 \\ + \\ \\langle \\psi | U^{\\dagger} | \\psi \\rangle \\ + \\ \\langle \\psi | U | \\psi \\rangle \\Big] \\ = \\ \\frac{1}{4} \\Big[ 2 \\ + \\ (\\langle \\psi | U | \\psi \\rangle)^{*} \\ + \\ \\langle \\psi | U | \\psi \\rangle \\Big] \\ = \\ \\frac{1}{2} (1 \\ + \\ \\text{Re} \\ \\langle \\psi | U | \\psi \\rangle)$$\n",
    "\n",
    "\n",
    "\n",
    "<br>\n",
    "\n",
    "By a similar procedure, we get:\n",
    "\n",
    "<br>\n",
    "\n",
    "\n",
    "\n",
    "$$P(1) \\ = \\ \\frac{1}{2} \\ (1 \\ - \\ \\text{Re} \\ \\langle \\psi | U | \\psi \\rangle)$$\n",
    "\n",
    "\n",
    "\n",
    "<br>\n",
    "\n",
    "And so, by taking the difference:\n",
    "\n",
    "<br>\n",
    "\n",
    "\n",
    "\n",
    "$$P(0) \\ - \\ P(1) \\ = \\ \\text{Re} \\ \\langle \\psi | U | \\psi \\rangle$$\n",
    "\n",
    "\n",
    "\n",
    "<br>\n",
    "\n",
    "Cool! Now, we can actually implement this for the two values we have to compute. Starting with $\\langle \\Phi | \\Phi \\rangle$, we have:\n",
    "\n",
    "<br>\n",
    "\n",
    "\n",
    "\n",
    "$$\\langle \\Phi | \\Phi \\rangle \\ = \\ \\langle \\psi(k) | A^{\\dagger} A |\\psi(k) \\rangle \\ = \\ \\langle 0 | V(k)^{\\dagger} A^{\\dagger} A V(k) |0\\rangle \\ = \\ \\langle 0 | V(k)^{\\dagger} \\Big( \\displaystyle\\sum_{n} c_n \\ A_n \\Big)^{\\dagger} \\Big( \\displaystyle\\sum_{n} c_n \\ A_n \\Big) V(k) |0\\rangle$$\n",
    "\n",
    "\n",
    "\n",
    "<br>\n",
    "\n",
    "\n",
    "\n",
    "$$\\Rightarrow \\ \\langle \\Phi | \\Phi \\rangle \\ = \\ \\displaystyle\\sum_{m} \\displaystyle\\sum_{n} c_m^{*} c_n \\langle 0 | V(k)^{\\dagger} A_m^{\\dagger} A_n V(k) |0\\rangle$$\n",
    "\n",
    "\n",
    "\n",
    "<br>\n",
    "\n",
    "and so our task becomes computing every possible term $\\langle 0 | V(k)^{\\dagger} A_m^{\\dagger} A_n V(k) |0\\rangle$ using the Hadamard test. This requires us prepare the state $V(k) |0\\rangle$, and then perform controlled operations with some control-ancilla qubit for the unitary matrices $A_m^{\\dagger}$ and $A_n$. We can implement this in code:\n"
   ]
  },
  {
   "cell_type": "code",
   "execution_count": 3,
   "metadata": {},
   "outputs": [
    {
     "data": {
      "image/svg+xml": [
       "<?xml version=\"1.0\" encoding=\"utf-8\" standalone=\"no\"?>\n",
       "<!DOCTYPE svg PUBLIC \"-//W3C//DTD SVG 1.1//EN\"\n",
       "  \"http://www.w3.org/Graphics/SVG/1.1/DTD/svg11.dtd\">\n",
       "<!-- Created with matplotlib (https://matplotlib.org/) -->\n",
       "<svg height=\"214.3844pt\" version=\"1.1\" viewBox=\"0 0 557.99396 214.3844\" width=\"557.99396pt\" xmlns=\"http://www.w3.org/2000/svg\" xmlns:xlink=\"http://www.w3.org/1999/xlink\">\n",
       " <defs>\n",
       "  <style type=\"text/css\">\n",
       "*{stroke-linecap:butt;stroke-linejoin:round;}\n",
       "  </style>\n",
       " </defs>\n",
       " <g id=\"figure_1\">\n",
       "  <g id=\"patch_1\">\n",
       "   <path d=\"M 0 214.3844 \n",
       "L 557.99396 214.3844 \n",
       "L 557.99396 0 \n",
       "L 0 0 \n",
       "z\n",
       "\" style=\"fill:#ffffff;\"/>\n",
       "  </g>\n",
       "  <g id=\"axes_1\">\n",
       "   <g id=\"line2d_1\">\n",
       "    <path clip-path=\"url(#p4285f2795e)\" d=\"M 114.46436 43.5608 \n",
       "L 546.24886 43.5608 \n",
       "\" style=\"fill:none;stroke:#000000;stroke-linecap:square;stroke-width:2;\"/>\n",
       "   </g>\n",
       "   <g id=\"line2d_2\">\n",
       "    <path clip-path=\"url(#p4285f2795e)\" d=\"M 114.46436 89.0118 \n",
       "L 546.24886 89.0118 \n",
       "\" style=\"fill:none;stroke:#000000;stroke-linecap:square;stroke-width:2;\"/>\n",
       "   </g>\n",
       "   <g id=\"line2d_3\">\n",
       "    <path clip-path=\"url(#p4285f2795e)\" d=\"M 114.46436 134.4628 \n",
       "L 546.24886 134.4628 \n",
       "\" style=\"fill:none;stroke:#000000;stroke-linecap:square;stroke-width:2;\"/>\n",
       "   </g>\n",
       "   <g id=\"line2d_4\">\n",
       "    <path clip-path=\"url(#p4285f2795e)\" d=\"M 114.46436 179.9138 \n",
       "L 546.24886 179.9138 \n",
       "\" style=\"fill:none;stroke:#000000;stroke-linecap:square;stroke-width:2;\"/>\n",
       "   </g>\n",
       "   <g id=\"line2d_5\">\n",
       "    <path clip-path=\"url(#p4285f2795e)\" d=\"M 182.64086 134.4628 \n",
       "L 182.64086 89.0118 \n",
       "\" style=\"fill:none;stroke:#bb8bff;stroke-linecap:square;stroke-width:2;\"/>\n",
       "   </g>\n",
       "   <g id=\"line2d_6\">\n",
       "    <path clip-path=\"url(#p4285f2795e)\" d=\"M 228.09186 179.9138 \n",
       "L 228.09186 89.0118 \n",
       "\" style=\"fill:none;stroke:#bb8bff;stroke-linecap:square;stroke-width:2;\"/>\n",
       "   </g>\n",
       "   <g id=\"line2d_7\">\n",
       "    <path clip-path=\"url(#p4285f2795e)\" d=\"M 318.99386 179.9138 \n",
       "L 318.99386 134.4628 \n",
       "\" style=\"fill:none;stroke:#bb8bff;stroke-linecap:square;stroke-width:2;\"/>\n",
       "   </g>\n",
       "   <g id=\"line2d_8\">\n",
       "    <path clip-path=\"url(#p4285f2795e)\" d=\"M 364.44486 179.9138 \n",
       "L 364.44486 89.0118 \n",
       "\" style=\"fill:none;stroke:#bb8bff;stroke-linecap:square;stroke-width:2;\"/>\n",
       "   </g>\n",
       "   <g id=\"line2d_9\">\n",
       "    <path clip-path=\"url(#p4285f2795e)\" d=\"M 455.34686 179.9138 \n",
       "L 455.34686 43.5608 \n",
       "\" style=\"fill:none;stroke:#bb8bff;stroke-linecap:square;stroke-width:2;\"/>\n",
       "   </g>\n",
       "   <g id=\"patch_2\">\n",
       "    <path clip-path=\"url(#p4285f2795e)\" d=\"M 122.418285 58.332375 \n",
       "L 151.961435 58.332375 \n",
       "L 151.961435 28.789225 \n",
       "L 122.418285 28.789225 \n",
       "z\n",
       "\" style=\"fill:#6fa4ff;\"/>\n",
       "   </g>\n",
       "   <g id=\"patch_3\">\n",
       "    <path clip-path=\"url(#p4285f2795e)\" d=\"M 122.418285 103.783375 \n",
       "L 151.961435 103.783375 \n",
       "L 151.961435 74.240225 \n",
       "L 122.418285 74.240225 \n",
       "z\n",
       "\" style=\"fill:#bb8bff;\"/>\n",
       "   </g>\n",
       "   <g id=\"patch_4\">\n",
       "    <path clip-path=\"url(#p4285f2795e)\" d=\"M 122.418285 149.234375 \n",
       "L 151.961435 149.234375 \n",
       "L 151.961435 119.691225 \n",
       "L 122.418285 119.691225 \n",
       "z\n",
       "\" style=\"fill:#bb8bff;\"/>\n",
       "   </g>\n",
       "   <g id=\"patch_5\">\n",
       "    <path clip-path=\"url(#p4285f2795e)\" d=\"M 122.418285 194.685375 \n",
       "L 151.961435 194.685375 \n",
       "L 151.961435 165.142225 \n",
       "L 122.418285 165.142225 \n",
       "z\n",
       "\" style=\"fill:#bb8bff;\"/>\n",
       "   </g>\n",
       "   <g id=\"patch_6\">\n",
       "    <path clip-path=\"url(#p4285f2795e)\" d=\"M 182.64086 93.443273 \n",
       "C 183.8161 93.443273 184.943364 92.976345 185.774384 92.145324 \n",
       "C 186.605405 91.314304 187.072332 90.18704 187.072332 89.0118 \n",
       "C 187.072332 87.83656 186.605405 86.709296 185.774384 85.878276 \n",
       "C 184.943364 85.047255 183.8161 84.580328 182.64086 84.580328 \n",
       "C 181.46562 84.580328 180.338356 85.047255 179.507336 85.878276 \n",
       "C 178.676315 86.709296 178.209387 87.83656 178.209387 89.0118 \n",
       "C 178.209387 90.18704 178.676315 91.314304 179.507336 92.145324 \n",
       "C 180.338356 92.976345 181.46562 93.443273 182.64086 93.443273 \n",
       "z\n",
       "\" style=\"fill:#bb8bff;stroke:#bb8bff;stroke-linejoin:miter;stroke-width:1.5;\"/>\n",
       "   </g>\n",
       "   <g id=\"patch_7\">\n",
       "    <path clip-path=\"url(#p4285f2795e)\" d=\"M 167.869285 149.234375 \n",
       "L 197.412435 149.234375 \n",
       "L 197.412435 119.691225 \n",
       "L 167.869285 119.691225 \n",
       "z\n",
       "\" style=\"fill:#bb8bff;\"/>\n",
       "   </g>\n",
       "   <g id=\"patch_8\">\n",
       "    <path clip-path=\"url(#p4285f2795e)\" d=\"M 228.09186 184.345272 \n",
       "C 229.2671 184.345272 230.394364 183.878345 231.225384 183.047324 \n",
       "C 232.056405 182.216304 232.523332 181.08904 232.523332 179.9138 \n",
       "C 232.523332 178.73856 232.056405 177.611296 231.225384 176.780276 \n",
       "C 230.394364 175.949255 229.2671 175.482327 228.09186 175.482327 \n",
       "C 226.91662 175.482327 225.789356 175.949255 224.958336 176.780276 \n",
       "C 224.127315 177.611296 223.660387 178.73856 223.660387 179.9138 \n",
       "C 223.660387 181.08904 224.127315 182.216304 224.958336 183.047324 \n",
       "C 225.789356 183.878345 226.91662 184.345272 228.09186 184.345272 \n",
       "z\n",
       "\" style=\"fill:#bb8bff;stroke:#bb8bff;stroke-linejoin:miter;stroke-width:1.5;\"/>\n",
       "   </g>\n",
       "   <g id=\"patch_9\">\n",
       "    <path clip-path=\"url(#p4285f2795e)\" d=\"M 213.320285 103.783375 \n",
       "L 242.863435 103.783375 \n",
       "L 242.863435 74.240225 \n",
       "L 213.320285 74.240225 \n",
       "z\n",
       "\" style=\"fill:#bb8bff;\"/>\n",
       "   </g>\n",
       "   <g id=\"patch_10\">\n",
       "    <path clip-path=\"url(#p4285f2795e)\" d=\"M 258.771285 149.234375 \n",
       "L 288.314435 149.234375 \n",
       "L 288.314435 119.691225 \n",
       "L 258.771285 119.691225 \n",
       "z\n",
       "\" style=\"fill:#bb8bff;\"/>\n",
       "   </g>\n",
       "   <g id=\"patch_11\">\n",
       "    <path clip-path=\"url(#p4285f2795e)\" d=\"M 258.771285 103.783375 \n",
       "L 288.314435 103.783375 \n",
       "L 288.314435 74.240225 \n",
       "L 258.771285 74.240225 \n",
       "z\n",
       "\" style=\"fill:#bb8bff;\"/>\n",
       "   </g>\n",
       "   <g id=\"patch_12\">\n",
       "    <path clip-path=\"url(#p4285f2795e)\" d=\"M 258.771285 194.685375 \n",
       "L 288.314435 194.685375 \n",
       "L 288.314435 165.142225 \n",
       "L 258.771285 165.142225 \n",
       "z\n",
       "\" style=\"fill:#bb8bff;\"/>\n",
       "   </g>\n",
       "   <g id=\"patch_13\">\n",
       "    <path clip-path=\"url(#p4285f2795e)\" d=\"M 318.99386 138.894273 \n",
       "C 320.1691 138.894273 321.296364 138.427345 322.127384 137.596324 \n",
       "C 322.958405 136.765304 323.425332 135.63804 323.425332 134.4628 \n",
       "C 323.425332 133.28756 322.958405 132.160296 322.127384 131.329276 \n",
       "C 321.296364 130.498255 320.1691 130.031328 318.99386 130.031328 \n",
       "C 317.81862 130.031328 316.691356 130.498255 315.860336 131.329276 \n",
       "C 315.029315 132.160296 314.562387 133.28756 314.562387 134.4628 \n",
       "C 314.562387 135.63804 315.029315 136.765304 315.860336 137.596324 \n",
       "C 316.691356 138.427345 317.81862 138.894273 318.99386 138.894273 \n",
       "z\n",
       "\" style=\"fill:#bb8bff;stroke:#bb8bff;stroke-linejoin:miter;stroke-width:1.5;\"/>\n",
       "   </g>\n",
       "   <g id=\"patch_14\">\n",
       "    <path clip-path=\"url(#p4285f2795e)\" d=\"M 304.222285 194.685375 \n",
       "L 333.765435 194.685375 \n",
       "L 333.765435 165.142225 \n",
       "L 304.222285 165.142225 \n",
       "z\n",
       "\" style=\"fill:#bb8bff;\"/>\n",
       "   </g>\n",
       "   <g id=\"patch_15\">\n",
       "    <path clip-path=\"url(#p4285f2795e)\" d=\"M 364.44486 184.345272 \n",
       "C 365.6201 184.345272 366.747364 183.878345 367.578384 183.047324 \n",
       "C 368.409405 182.216304 368.876332 181.08904 368.876332 179.9138 \n",
       "C 368.876332 178.73856 368.409405 177.611296 367.578384 176.780276 \n",
       "C 366.747364 175.949255 365.6201 175.482327 364.44486 175.482327 \n",
       "C 363.26962 175.482327 362.142356 175.949255 361.311336 176.780276 \n",
       "C 360.480315 177.611296 360.013387 178.73856 360.013387 179.9138 \n",
       "C 360.013387 181.08904 360.480315 182.216304 361.311336 183.047324 \n",
       "C 362.142356 183.878345 363.26962 184.345272 364.44486 184.345272 \n",
       "z\n",
       "\" style=\"fill:#bb8bff;stroke:#bb8bff;stroke-linejoin:miter;stroke-width:1.5;\"/>\n",
       "   </g>\n",
       "   <g id=\"patch_16\">\n",
       "    <path clip-path=\"url(#p4285f2795e)\" d=\"M 349.673285 103.783375 \n",
       "L 379.216435 103.783375 \n",
       "L 379.216435 74.240225 \n",
       "L 349.673285 74.240225 \n",
       "z\n",
       "\" style=\"fill:#bb8bff;\"/>\n",
       "   </g>\n",
       "   <g id=\"patch_17\">\n",
       "    <path clip-path=\"url(#p4285f2795e)\" d=\"M 395.124285 149.234375 \n",
       "L 424.667435 149.234375 \n",
       "L 424.667435 119.691225 \n",
       "L 395.124285 119.691225 \n",
       "z\n",
       "\" style=\"fill:#bb8bff;\"/>\n",
       "   </g>\n",
       "   <g id=\"patch_18\">\n",
       "    <path clip-path=\"url(#p4285f2795e)\" d=\"M 395.124285 103.783375 \n",
       "L 424.667435 103.783375 \n",
       "L 424.667435 74.240225 \n",
       "L 395.124285 74.240225 \n",
       "z\n",
       "\" style=\"fill:#bb8bff;\"/>\n",
       "   </g>\n",
       "   <g id=\"patch_19\">\n",
       "    <path clip-path=\"url(#p4285f2795e)\" d=\"M 395.124285 194.685375 \n",
       "L 424.667435 194.685375 \n",
       "L 424.667435 165.142225 \n",
       "L 395.124285 165.142225 \n",
       "z\n",
       "\" style=\"fill:#bb8bff;\"/>\n",
       "   </g>\n",
       "   <g id=\"patch_20\">\n",
       "    <path clip-path=\"url(#p4285f2795e)\" d=\"M 455.34686 47.992273 \n",
       "C 456.5221 47.992273 457.649364 47.525345 458.480384 46.694324 \n",
       "C 459.311405 45.863304 459.778332 44.73604 459.778332 43.5608 \n",
       "C 459.778332 42.38556 459.311405 41.258296 458.480384 40.427276 \n",
       "C 457.649364 39.596255 456.5221 39.129328 455.34686 39.129328 \n",
       "C 454.17162 39.129328 453.044356 39.596255 452.213336 40.427276 \n",
       "C 451.382315 41.258296 450.915387 42.38556 450.915387 43.5608 \n",
       "C 450.915387 44.73604 451.382315 45.863304 452.213336 46.694324 \n",
       "C 453.044356 47.525345 454.17162 47.992273 455.34686 47.992273 \n",
       "z\n",
       "\" style=\"fill:#bb8bff;stroke:#bb8bff;stroke-linejoin:miter;stroke-width:1.5;\"/>\n",
       "   </g>\n",
       "   <g id=\"patch_21\">\n",
       "    <path clip-path=\"url(#p4285f2795e)\" d=\"M 440.575285 194.685375 \n",
       "L 470.118435 194.685375 \n",
       "L 470.118435 165.142225 \n",
       "L 440.575285 165.142225 \n",
       "z\n",
       "\" style=\"fill:#bb8bff;\"/>\n",
       "   </g>\n",
       "   <g id=\"patch_22\">\n",
       "    <path clip-path=\"url(#p4285f2795e)\" d=\"M 486.026285 58.332375 \n",
       "L 515.569435 58.332375 \n",
       "L 515.569435 28.789225 \n",
       "L 486.026285 28.789225 \n",
       "z\n",
       "\" style=\"fill:#6fa4ff;\"/>\n",
       "   </g>\n",
       "   <g id=\"text_1\">\n",
       "    <g clip-path=\"url(#p4285f2795e)\">\n",
       "     <!-- $H$ -->\n",
       "     <defs>\n",
       "      <path d=\"M 16.890625 72.90625 \n",
       "L 26.8125 72.90625 \n",
       "L 21 43.015625 \n",
       "L 56.78125 43.015625 \n",
       "L 62.59375 72.90625 \n",
       "L 72.515625 72.90625 \n",
       "L 58.296875 0 \n",
       "L 48.390625 0 \n",
       "L 55.171875 34.71875 \n",
       "L 19.390625 34.71875 \n",
       "L 12.59375 0 \n",
       "L 2.6875 0 \n",
       "z\n",
       "\" id=\"DejaVuSans-Oblique-72\"/>\n",
       "     </defs>\n",
       "     <g transform=\"translate(132.24986 47.147988)scale(0.13 -0.13)\">\n",
       "      <use transform=\"translate(0 0.09375)\" xlink:href=\"#DejaVuSans-Oblique-72\"/>\n",
       "     </g>\n",
       "    </g>\n",
       "   </g>\n",
       "   <g id=\"text_2\">\n",
       "    <g clip-path=\"url(#p4285f2795e)\">\n",
       "     <!-- $R_y$ -->\n",
       "     <defs>\n",
       "      <path d=\"M 25.203125 64.796875 \n",
       "L 20.21875 38.921875 \n",
       "L 32.90625 38.921875 \n",
       "Q 40.375 38.921875 44.984375 43.046875 \n",
       "Q 49.609375 47.171875 49.609375 53.8125 \n",
       "Q 49.609375 59.125 46.5 61.953125 \n",
       "Q 43.40625 64.796875 37.59375 64.796875 \n",
       "z\n",
       "M 43.3125 35.015625 \n",
       "Q 46.4375 34.28125 48.515625 31.390625 \n",
       "Q 50.59375 28.515625 53.328125 19.921875 \n",
       "L 59.515625 0 \n",
       "L 49.125 0 \n",
       "L 43.40625 18.703125 \n",
       "Q 41.21875 25.921875 38.328125 28.359375 \n",
       "Q 35.453125 30.8125 29.5 30.8125 \n",
       "L 18.609375 30.8125 \n",
       "L 12.59375 0 \n",
       "L 2.6875 0 \n",
       "L 16.890625 72.90625 \n",
       "L 39.109375 72.90625 \n",
       "Q 49.21875 72.90625 54.609375 68.328125 \n",
       "Q 60.015625 63.765625 60.015625 55.171875 \n",
       "Q 60.015625 47.5625 55.421875 41.984375 \n",
       "Q 50.828125 36.421875 43.3125 35.015625 \n",
       "z\n",
       "\" id=\"DejaVuSans-Oblique-82\"/>\n",
       "      <path d=\"M 24.8125 -5.078125 \n",
       "Q 18.5625 -15.578125 14.625 -18.1875 \n",
       "Q 10.6875 -20.796875 4.59375 -20.796875 \n",
       "L -2.484375 -20.796875 \n",
       "L -0.984375 -13.28125 \n",
       "L 4.203125 -13.28125 \n",
       "Q 7.953125 -13.28125 10.59375 -11.234375 \n",
       "Q 13.234375 -9.1875 16.5 -3.21875 \n",
       "L 19.28125 2 \n",
       "L 7.171875 54.6875 \n",
       "L 16.703125 54.6875 \n",
       "L 25.78125 12.796875 \n",
       "L 50.875 54.6875 \n",
       "L 60.296875 54.6875 \n",
       "z\n",
       "\" id=\"DejaVuSans-Oblique-121\"/>\n",
       "     </defs>\n",
       "     <g transform=\"translate(129.77986 87.310328)scale(0.13 -0.13)\">\n",
       "      <use transform=\"translate(0 0.09375)\" xlink:href=\"#DejaVuSans-Oblique-82\"/>\n",
       "      <use transform=\"translate(69.482422 -16.3125)scale(0.7)\" xlink:href=\"#DejaVuSans-Oblique-121\"/>\n",
       "     </g>\n",
       "    </g>\n",
       "   </g>\n",
       "   <g id=\"text_3\">\n",
       "    <g clip-path=\"url(#p4285f2795e)\">\n",
       "     <!-- 1 -->\n",
       "     <defs>\n",
       "      <path d=\"M 12.40625 8.296875 \n",
       "L 28.515625 8.296875 \n",
       "L 28.515625 63.921875 \n",
       "L 10.984375 60.40625 \n",
       "L 10.984375 69.390625 \n",
       "L 28.421875 72.90625 \n",
       "L 38.28125 72.90625 \n",
       "L 38.28125 8.296875 \n",
       "L 54.390625 8.296875 \n",
       "L 54.390625 0 \n",
       "L 12.40625 0 \n",
       "z\n",
       "\" id=\"DejaVuSans-49\"/>\n",
       "     </defs>\n",
       "     <g transform=\"translate(134.64486 100.082245)scale(0.08 -0.08)\">\n",
       "      <use xlink:href=\"#DejaVuSans-49\"/>\n",
       "     </g>\n",
       "    </g>\n",
       "   </g>\n",
       "   <g id=\"text_4\">\n",
       "    <g clip-path=\"url(#p4285f2795e)\">\n",
       "     <!-- $R_y$ -->\n",
       "     <g transform=\"translate(129.77986 132.761327)scale(0.13 -0.13)\">\n",
       "      <use transform=\"translate(0 0.09375)\" xlink:href=\"#DejaVuSans-Oblique-82\"/>\n",
       "      <use transform=\"translate(69.482422 -16.3125)scale(0.7)\" xlink:href=\"#DejaVuSans-Oblique-121\"/>\n",
       "     </g>\n",
       "    </g>\n",
       "   </g>\n",
       "   <g id=\"text_5\">\n",
       "    <g clip-path=\"url(#p4285f2795e)\">\n",
       "     <!-- 1 -->\n",
       "     <g transform=\"translate(134.64486 145.533245)scale(0.08 -0.08)\">\n",
       "      <use xlink:href=\"#DejaVuSans-49\"/>\n",
       "     </g>\n",
       "    </g>\n",
       "   </g>\n",
       "   <g id=\"text_6\">\n",
       "    <g clip-path=\"url(#p4285f2795e)\">\n",
       "     <!-- $R_y$ -->\n",
       "     <g transform=\"translate(129.77986 178.212327)scale(0.13 -0.13)\">\n",
       "      <use transform=\"translate(0 0.09375)\" xlink:href=\"#DejaVuSans-Oblique-82\"/>\n",
       "      <use transform=\"translate(69.482422 -16.3125)scale(0.7)\" xlink:href=\"#DejaVuSans-Oblique-121\"/>\n",
       "     </g>\n",
       "    </g>\n",
       "   </g>\n",
       "   <g id=\"text_7\">\n",
       "    <g clip-path=\"url(#p4285f2795e)\">\n",
       "     <!-- 1 -->\n",
       "     <g transform=\"translate(134.64486 190.984245)scale(0.08 -0.08)\">\n",
       "      <use xlink:href=\"#DejaVuSans-49\"/>\n",
       "     </g>\n",
       "    </g>\n",
       "   </g>\n",
       "   <g id=\"text_8\">\n",
       "    <g clip-path=\"url(#p4285f2795e)\">\n",
       "     <!-- $Z$ -->\n",
       "     <defs>\n",
       "      <path d=\"M 13.09375 72.90625 \n",
       "L 70.3125 72.90625 \n",
       "L 68.890625 65.375 \n",
       "L 12.40625 8.296875 \n",
       "L 58.890625 8.296875 \n",
       "L 57.328125 0 \n",
       "L -2.203125 0 \n",
       "L -0.78125 7.515625 \n",
       "L 55.71875 64.59375 \n",
       "L 11.53125 64.59375 \n",
       "z\n",
       "\" id=\"DejaVuSans-Oblique-90\"/>\n",
       "     </defs>\n",
       "     <g transform=\"translate(178.15586 138.049987)scale(0.13 -0.13)\">\n",
       "      <use transform=\"translate(0 0.09375)\" xlink:href=\"#DejaVuSans-Oblique-90\"/>\n",
       "     </g>\n",
       "    </g>\n",
       "   </g>\n",
       "   <g id=\"text_9\">\n",
       "    <g clip-path=\"url(#p4285f2795e)\">\n",
       "     <!-- $Z$ -->\n",
       "     <g transform=\"translate(223.60686 92.598988)scale(0.13 -0.13)\">\n",
       "      <use transform=\"translate(0 0.09375)\" xlink:href=\"#DejaVuSans-Oblique-90\"/>\n",
       "     </g>\n",
       "    </g>\n",
       "   </g>\n",
       "   <g id=\"text_10\">\n",
       "    <g clip-path=\"url(#p4285f2795e)\">\n",
       "     <!-- $R_y$ -->\n",
       "     <g transform=\"translate(266.13286 132.761327)scale(0.13 -0.13)\">\n",
       "      <use transform=\"translate(0 0.09375)\" xlink:href=\"#DejaVuSans-Oblique-82\"/>\n",
       "      <use transform=\"translate(69.482422 -16.3125)scale(0.7)\" xlink:href=\"#DejaVuSans-Oblique-121\"/>\n",
       "     </g>\n",
       "    </g>\n",
       "   </g>\n",
       "   <g id=\"text_11\">\n",
       "    <g clip-path=\"url(#p4285f2795e)\">\n",
       "     <!-- 1 -->\n",
       "     <g transform=\"translate(270.99786 145.533245)scale(0.08 -0.08)\">\n",
       "      <use xlink:href=\"#DejaVuSans-49\"/>\n",
       "     </g>\n",
       "    </g>\n",
       "   </g>\n",
       "   <g id=\"text_12\">\n",
       "    <g clip-path=\"url(#p4285f2795e)\">\n",
       "     <!-- $R_y$ -->\n",
       "     <g transform=\"translate(266.13286 87.310328)scale(0.13 -0.13)\">\n",
       "      <use transform=\"translate(0 0.09375)\" xlink:href=\"#DejaVuSans-Oblique-82\"/>\n",
       "      <use transform=\"translate(69.482422 -16.3125)scale(0.7)\" xlink:href=\"#DejaVuSans-Oblique-121\"/>\n",
       "     </g>\n",
       "    </g>\n",
       "   </g>\n",
       "   <g id=\"text_13\">\n",
       "    <g clip-path=\"url(#p4285f2795e)\">\n",
       "     <!-- 1 -->\n",
       "     <g transform=\"translate(270.99786 100.082245)scale(0.08 -0.08)\">\n",
       "      <use xlink:href=\"#DejaVuSans-49\"/>\n",
       "     </g>\n",
       "    </g>\n",
       "   </g>\n",
       "   <g id=\"text_14\">\n",
       "    <g clip-path=\"url(#p4285f2795e)\">\n",
       "     <!-- $R_y$ -->\n",
       "     <g transform=\"translate(266.13286 178.212327)scale(0.13 -0.13)\">\n",
       "      <use transform=\"translate(0 0.09375)\" xlink:href=\"#DejaVuSans-Oblique-82\"/>\n",
       "      <use transform=\"translate(69.482422 -16.3125)scale(0.7)\" xlink:href=\"#DejaVuSans-Oblique-121\"/>\n",
       "     </g>\n",
       "    </g>\n",
       "   </g>\n",
       "   <g id=\"text_15\">\n",
       "    <g clip-path=\"url(#p4285f2795e)\">\n",
       "     <!-- 1 -->\n",
       "     <g transform=\"translate(270.99786 190.984245)scale(0.08 -0.08)\">\n",
       "      <use xlink:href=\"#DejaVuSans-49\"/>\n",
       "     </g>\n",
       "    </g>\n",
       "   </g>\n",
       "   <g id=\"text_16\">\n",
       "    <g clip-path=\"url(#p4285f2795e)\">\n",
       "     <!-- $Z$ -->\n",
       "     <g transform=\"translate(314.50886 183.500987)scale(0.13 -0.13)\">\n",
       "      <use transform=\"translate(0 0.09375)\" xlink:href=\"#DejaVuSans-Oblique-90\"/>\n",
       "     </g>\n",
       "    </g>\n",
       "   </g>\n",
       "   <g id=\"text_17\">\n",
       "    <g clip-path=\"url(#p4285f2795e)\">\n",
       "     <!-- $Z$ -->\n",
       "     <g transform=\"translate(359.95986 92.598988)scale(0.13 -0.13)\">\n",
       "      <use transform=\"translate(0 0.09375)\" xlink:href=\"#DejaVuSans-Oblique-90\"/>\n",
       "     </g>\n",
       "    </g>\n",
       "   </g>\n",
       "   <g id=\"text_18\">\n",
       "    <g clip-path=\"url(#p4285f2795e)\">\n",
       "     <!-- $R_y$ -->\n",
       "     <g transform=\"translate(402.48586 132.761327)scale(0.13 -0.13)\">\n",
       "      <use transform=\"translate(0 0.09375)\" xlink:href=\"#DejaVuSans-Oblique-82\"/>\n",
       "      <use transform=\"translate(69.482422 -16.3125)scale(0.7)\" xlink:href=\"#DejaVuSans-Oblique-121\"/>\n",
       "     </g>\n",
       "    </g>\n",
       "   </g>\n",
       "   <g id=\"text_19\">\n",
       "    <g clip-path=\"url(#p4285f2795e)\">\n",
       "     <!-- 1 -->\n",
       "     <g transform=\"translate(407.35086 145.533245)scale(0.08 -0.08)\">\n",
       "      <use xlink:href=\"#DejaVuSans-49\"/>\n",
       "     </g>\n",
       "    </g>\n",
       "   </g>\n",
       "   <g id=\"text_20\">\n",
       "    <g clip-path=\"url(#p4285f2795e)\">\n",
       "     <!-- $R_y$ -->\n",
       "     <g transform=\"translate(402.48586 87.310328)scale(0.13 -0.13)\">\n",
       "      <use transform=\"translate(0 0.09375)\" xlink:href=\"#DejaVuSans-Oblique-82\"/>\n",
       "      <use transform=\"translate(69.482422 -16.3125)scale(0.7)\" xlink:href=\"#DejaVuSans-Oblique-121\"/>\n",
       "     </g>\n",
       "    </g>\n",
       "   </g>\n",
       "   <g id=\"text_21\">\n",
       "    <g clip-path=\"url(#p4285f2795e)\">\n",
       "     <!-- 1 -->\n",
       "     <g transform=\"translate(407.35086 100.082245)scale(0.08 -0.08)\">\n",
       "      <use xlink:href=\"#DejaVuSans-49\"/>\n",
       "     </g>\n",
       "    </g>\n",
       "   </g>\n",
       "   <g id=\"text_22\">\n",
       "    <g clip-path=\"url(#p4285f2795e)\">\n",
       "     <!-- $R_y$ -->\n",
       "     <g transform=\"translate(402.48586 178.212327)scale(0.13 -0.13)\">\n",
       "      <use transform=\"translate(0 0.09375)\" xlink:href=\"#DejaVuSans-Oblique-82\"/>\n",
       "      <use transform=\"translate(69.482422 -16.3125)scale(0.7)\" xlink:href=\"#DejaVuSans-Oblique-121\"/>\n",
       "     </g>\n",
       "    </g>\n",
       "   </g>\n",
       "   <g id=\"text_23\">\n",
       "    <g clip-path=\"url(#p4285f2795e)\">\n",
       "     <!-- 1 -->\n",
       "     <g transform=\"translate(407.35086 190.984245)scale(0.08 -0.08)\">\n",
       "      <use xlink:href=\"#DejaVuSans-49\"/>\n",
       "     </g>\n",
       "    </g>\n",
       "   </g>\n",
       "   <g id=\"text_24\">\n",
       "    <g clip-path=\"url(#p4285f2795e)\">\n",
       "     <!-- $Z$ -->\n",
       "     <g transform=\"translate(450.86186 183.500987)scale(0.13 -0.13)\">\n",
       "      <use transform=\"translate(0 0.09375)\" xlink:href=\"#DejaVuSans-Oblique-90\"/>\n",
       "     </g>\n",
       "    </g>\n",
       "   </g>\n",
       "   <g id=\"text_25\">\n",
       "    <g clip-path=\"url(#p4285f2795e)\">\n",
       "     <!-- $H$ -->\n",
       "     <g transform=\"translate(495.85786 47.147988)scale(0.13 -0.13)\">\n",
       "      <use transform=\"translate(0 0.09375)\" xlink:href=\"#DejaVuSans-Oblique-72\"/>\n",
       "     </g>\n",
       "    </g>\n",
       "   </g>\n",
       "   <g id=\"text_26\">\n",
       "    <g clip-path=\"url(#p4285f2795e)\">\n",
       "     <!-- ${q}_{0}$ -->\n",
       "     <defs>\n",
       "      <path d=\"M 41.703125 8.203125 \n",
       "Q 38.09375 3.46875 33.171875 1.015625 \n",
       "Q 28.265625 -1.421875 22.3125 -1.421875 \n",
       "Q 14.015625 -1.421875 9.296875 4.171875 \n",
       "Q 4.59375 9.765625 4.59375 19.578125 \n",
       "Q 4.59375 27.484375 7.5 34.859375 \n",
       "Q 10.40625 42.234375 15.828125 48.09375 \n",
       "Q 19.34375 51.90625 23.90625 53.953125 \n",
       "Q 28.46875 56 33.5 56 \n",
       "Q 39.546875 56 43.453125 53.609375 \n",
       "Q 47.359375 51.21875 49.125 46.390625 \n",
       "L 50.6875 54.59375 \n",
       "L 59.71875 54.59375 \n",
       "L 45.125 -20.609375 \n",
       "L 36.078125 -20.609375 \n",
       "z\n",
       "M 13.921875 20.90625 \n",
       "Q 13.921875 13.671875 16.9375 9.890625 \n",
       "Q 19.96875 6.109375 25.6875 6.109375 \n",
       "Q 34.1875 6.109375 40.1875 14.234375 \n",
       "Q 46.1875 22.359375 46.1875 33.984375 \n",
       "Q 46.1875 41.015625 43.078125 44.75 \n",
       "Q 39.984375 48.484375 34.1875 48.484375 \n",
       "Q 29.9375 48.484375 26.3125 46.5 \n",
       "Q 22.703125 44.53125 20.015625 40.71875 \n",
       "Q 17.1875 36.71875 15.546875 31.34375 \n",
       "Q 13.921875 25.984375 13.921875 20.90625 \n",
       "z\n",
       "\" id=\"DejaVuSans-Oblique-113\"/>\n",
       "      <path d=\"M 31.78125 66.40625 \n",
       "Q 24.171875 66.40625 20.328125 58.90625 \n",
       "Q 16.5 51.421875 16.5 36.375 \n",
       "Q 16.5 21.390625 20.328125 13.890625 \n",
       "Q 24.171875 6.390625 31.78125 6.390625 \n",
       "Q 39.453125 6.390625 43.28125 13.890625 \n",
       "Q 47.125 21.390625 47.125 36.375 \n",
       "Q 47.125 51.421875 43.28125 58.90625 \n",
       "Q 39.453125 66.40625 31.78125 66.40625 \n",
       "z\n",
       "M 31.78125 74.21875 \n",
       "Q 44.046875 74.21875 50.515625 64.515625 \n",
       "Q 56.984375 54.828125 56.984375 36.375 \n",
       "Q 56.984375 17.96875 50.515625 8.265625 \n",
       "Q 44.046875 -1.421875 31.78125 -1.421875 \n",
       "Q 19.53125 -1.421875 13.0625 8.265625 \n",
       "Q 6.59375 17.96875 6.59375 36.375 \n",
       "Q 6.59375 54.828125 13.0625 64.515625 \n",
       "Q 19.53125 74.21875 31.78125 74.21875 \n",
       "z\n",
       "\" id=\"DejaVuSans-48\"/>\n",
       "     </defs>\n",
       "     <g transform=\"translate(73.70136 48.011777)scale(0.1625 -0.1625)\">\n",
       "      <use xlink:href=\"#DejaVuSans-Oblique-113\"/>\n",
       "      <use transform=\"translate(63.476562 -16.40625)scale(0.7)\" xlink:href=\"#DejaVuSans-48\"/>\n",
       "     </g>\n",
       "    </g>\n",
       "   </g>\n",
       "   <g id=\"text_27\">\n",
       "    <g clip-path=\"url(#p4285f2795e)\">\n",
       "     <!-- ${q}_{1}$ -->\n",
       "     <g transform=\"translate(73.70136 93.462777)scale(0.1625 -0.1625)\">\n",
       "      <use xlink:href=\"#DejaVuSans-Oblique-113\"/>\n",
       "      <use transform=\"translate(63.476562 -16.40625)scale(0.7)\" xlink:href=\"#DejaVuSans-49\"/>\n",
       "     </g>\n",
       "    </g>\n",
       "   </g>\n",
       "   <g id=\"text_28\">\n",
       "    <g clip-path=\"url(#p4285f2795e)\">\n",
       "     <!-- ${q}_{2}$ -->\n",
       "     <defs>\n",
       "      <path d=\"M 19.1875 8.296875 \n",
       "L 53.609375 8.296875 \n",
       "L 53.609375 0 \n",
       "L 7.328125 0 \n",
       "L 7.328125 8.296875 \n",
       "Q 12.9375 14.109375 22.625 23.890625 \n",
       "Q 32.328125 33.6875 34.8125 36.53125 \n",
       "Q 39.546875 41.84375 41.421875 45.53125 \n",
       "Q 43.3125 49.21875 43.3125 52.78125 \n",
       "Q 43.3125 58.59375 39.234375 62.25 \n",
       "Q 35.15625 65.921875 28.609375 65.921875 \n",
       "Q 23.96875 65.921875 18.8125 64.3125 \n",
       "Q 13.671875 62.703125 7.8125 59.421875 \n",
       "L 7.8125 69.390625 \n",
       "Q 13.765625 71.78125 18.9375 73 \n",
       "Q 24.125 74.21875 28.421875 74.21875 \n",
       "Q 39.75 74.21875 46.484375 68.546875 \n",
       "Q 53.21875 62.890625 53.21875 53.421875 \n",
       "Q 53.21875 48.921875 51.53125 44.890625 \n",
       "Q 49.859375 40.875 45.40625 35.40625 \n",
       "Q 44.1875 33.984375 37.640625 27.21875 \n",
       "Q 31.109375 20.453125 19.1875 8.296875 \n",
       "z\n",
       "\" id=\"DejaVuSans-50\"/>\n",
       "     </defs>\n",
       "     <g transform=\"translate(73.70136 138.913777)scale(0.1625 -0.1625)\">\n",
       "      <use xlink:href=\"#DejaVuSans-Oblique-113\"/>\n",
       "      <use transform=\"translate(63.476562 -16.40625)scale(0.7)\" xlink:href=\"#DejaVuSans-50\"/>\n",
       "     </g>\n",
       "    </g>\n",
       "   </g>\n",
       "   <g id=\"text_29\">\n",
       "    <g clip-path=\"url(#p4285f2795e)\">\n",
       "     <!-- ${q}_{3}$ -->\n",
       "     <defs>\n",
       "      <path d=\"M 40.578125 39.3125 \n",
       "Q 47.65625 37.796875 51.625 33 \n",
       "Q 55.609375 28.21875 55.609375 21.1875 \n",
       "Q 55.609375 10.40625 48.1875 4.484375 \n",
       "Q 40.765625 -1.421875 27.09375 -1.421875 \n",
       "Q 22.515625 -1.421875 17.65625 -0.515625 \n",
       "Q 12.796875 0.390625 7.625 2.203125 \n",
       "L 7.625 11.71875 \n",
       "Q 11.71875 9.328125 16.59375 8.109375 \n",
       "Q 21.484375 6.890625 26.8125 6.890625 \n",
       "Q 36.078125 6.890625 40.9375 10.546875 \n",
       "Q 45.796875 14.203125 45.796875 21.1875 \n",
       "Q 45.796875 27.640625 41.28125 31.265625 \n",
       "Q 36.765625 34.90625 28.71875 34.90625 \n",
       "L 20.21875 34.90625 \n",
       "L 20.21875 43.015625 \n",
       "L 29.109375 43.015625 \n",
       "Q 36.375 43.015625 40.234375 45.921875 \n",
       "Q 44.09375 48.828125 44.09375 54.296875 \n",
       "Q 44.09375 59.90625 40.109375 62.90625 \n",
       "Q 36.140625 65.921875 28.71875 65.921875 \n",
       "Q 24.65625 65.921875 20.015625 65.03125 \n",
       "Q 15.375 64.15625 9.8125 62.3125 \n",
       "L 9.8125 71.09375 \n",
       "Q 15.4375 72.65625 20.34375 73.4375 \n",
       "Q 25.25 74.21875 29.59375 74.21875 \n",
       "Q 40.828125 74.21875 47.359375 69.109375 \n",
       "Q 53.90625 64.015625 53.90625 55.328125 \n",
       "Q 53.90625 49.265625 50.4375 45.09375 \n",
       "Q 46.96875 40.921875 40.578125 39.3125 \n",
       "z\n",
       "\" id=\"DejaVuSans-51\"/>\n",
       "     </defs>\n",
       "     <g transform=\"translate(73.70136 184.364777)scale(0.1625 -0.1625)\">\n",
       "      <use xlink:href=\"#DejaVuSans-Oblique-113\"/>\n",
       "      <use transform=\"translate(63.476562 -16.40625)scale(0.7)\" xlink:href=\"#DejaVuSans-51\"/>\n",
       "     </g>\n",
       "    </g>\n",
       "   </g>\n",
       "  </g>\n",
       " </g>\n",
       " <defs>\n",
       "  <clipPath id=\"p4285f2795e\">\n",
       "   <rect height=\"199.9844\" width=\"543.59396\" x=\"7.2\" y=\"7.2\"/>\n",
       "  </clipPath>\n",
       " </defs>\n",
       "</svg>\n"
      ],
      "text/plain": [
       "<Figure size 719.992x264.88 with 1 Axes>"
      ]
     },
     "execution_count": 3,
     "metadata": {},
     "output_type": "execute_result"
    }
   ],
   "source": [
    "#Creates the Hadamard test\n",
    "\n",
    "def had_test(gate_type, qubits, ancilla_index, parameters):\n",
    "\n",
    "    circ.h(ancilla_index)\n",
    "\n",
    "    apply_fixed_ansatz(qubits, parameters)\n",
    "\n",
    "    for ie in range (0, len(gate_type[0])):\n",
    "        if (gate_type[0][ie] == 1):\n",
    "            circ.cz(ancilla_index, qubits[ie])\n",
    "\n",
    "    for ie in range (0, len(gate_type[1])):\n",
    "        if (gate_type[1][ie] == 1):\n",
    "            circ.cz(ancilla_index, qubits[ie])\n",
    "    \n",
    "    circ.h(ancilla_index)\n",
    "    \n",
    "circ = QuantumCircuit(4)\n",
    "had_test([[0, 0, 0], [0, 0, 1]], [1, 2, 3], 0, [[1, 1, 1], [1, 1, 1], [1, 1, 1]])\n",
    "circ.draw(output='mpl')"
   ]
  },
  {
   "cell_type": "markdown",
   "metadata": {},
   "source": [
    "The reason why we are applying two different \"gate_types\" is because this represents the pairs of gates shown in the expanded form of $\\langle \\Phi | \\Phi \\rangle$.\n",
    "\n",
    "It is also important to note that for the purposes of this implementation (the systems of equations we will actually be sovling, we are only concerned with the gates $Z$ and $\\mathbb{I}$, so I only include support for these gates (The code includes number \"identifiers\" that signify the application of different gates, $0$ for $\\mathbb{I}$ and $1$ for $Z$).\n",
    "\n",
    "Now, we can move on to the second value we must calculate, which is $|\\langle b | \\Phi \\rangle|^2$. We get:\n",
    "\n",
    "<br>\n",
    "\n",
    "\n",
    "\n",
    "$$|\\langle b | \\Phi \\rangle|^2 \\ = \\ |\\langle b | A V(k) | 0 \\rangle|^2 \\ = \\ |\\langle 0 | U^{\\dagger} A V(k) | 0 \\rangle|^2 \\ = \\ \\langle 0 | U^{\\dagger} A V(k) | 0 \\rangle \\langle 0 | V(k)^{\\dagger} A^{\\dagger} U |0\\rangle$$\n",
    "\n",
    "\n",
    "\n",
    "<br>\n",
    "\n",
    "All we have to do now is the same expansion as before for the product $\\langle 0 | U^{\\dagger} A V(k) | 0 \\rangle \\langle 0 | V(k)^{\\dagger} A^{\\dagger} U |0\\rangle$:\n",
    "\n",
    "<br>\n",
    "\n",
    "\n",
    "\n",
    "$$\\langle 0 | U^{\\dagger} A V(k) | 0 \\rangle^2 \\ = \\ \\displaystyle\\sum_{m} \\displaystyle\\sum_{n} c_m^{*} c_n \\langle 0 | U^{\\dagger} A_n V(k) | 0 \\rangle \\langle 0 | V(k)^{\\dagger} A_m^{\\dagger} U |0\\rangle$$\n",
    "\n",
    "\n",
    "\n",
    "<br>\n",
    "\n",
    "Now, again, for the purposes of this demonstration, we will soon see that all the outputs/expectation values of our implementation will be real, so we have:\n",
    "<br>\n",
    "\n",
    "\n",
    "\n",
    "$$\\Rightarrow \\ \\langle 0 | U^{\\dagger} A V(k) | 0 \\rangle \\ = \\ (\\langle 0 | U^{\\dagger} A V(k) | 0 \\rangle)^{*} \\ = \\ \\langle 0 | V(k)^{\\dagger} A^{\\dagger} U |0\\rangle$$\n",
    "\n",
    "\n",
    "\n",
    "<br>\n",
    "\n",
    "Thus, in this particular implementation:\n",
    "\n",
    "<br>\n",
    "\n",
    "\n",
    "\n",
    "$$|\\langle b | \\Phi \\rangle|^2 \\ = \\ \\displaystyle\\sum_{m} \\displaystyle\\sum_{n} c_m c_n \\langle 0 | U^{\\dagger} A_n V(k) | 0 \\rangle \\langle 0 | U^{\\dagger} A_m V(k) | 0 \\rangle$$\n",
    "\n",
    "\n",
    "\n",
    "<br>\n",
    "\n",
    "There is a sophisticated way of solving for this value, using a newly-proposed subroutine called the **Hadamard Overlap Test** (see cited paper), but for this tutorial, we will just be using a standard Hadamard Test, where we control each matrix. This unfortauntely requires the use of an extra ancilla qubit. We essentially just place a control on each of the gates involved in the ancilla, the $|b\\rangle$ preparation unitary, and the $A_n$ unitaries. We get something like this for the controlled-ansatz:\n"
   ]
  },
  {
   "cell_type": "code",
   "execution_count": 4,
   "metadata": {},
   "outputs": [
    {
     "data": {
      "image/svg+xml": [
       "<?xml version=\"1.0\" encoding=\"utf-8\" standalone=\"no\"?>\n",
       "<!DOCTYPE svg PUBLIC \"-//W3C//DTD SVG 1.1//EN\"\n",
       "  \"http://www.w3.org/Graphics/SVG/1.1/DTD/svg11.dtd\">\n",
       "<!-- Created with matplotlib (https://matplotlib.org/) -->\n",
       "<svg height=\"805.2474pt\" version=\"1.1\" viewBox=\"0 0 1293.39114 805.2474\" width=\"1293.39114pt\" xmlns=\"http://www.w3.org/2000/svg\" xmlns:xlink=\"http://www.w3.org/1999/xlink\">\n",
       " <defs>\n",
       "  <style type=\"text/css\">\n",
       "*{stroke-linecap:butt;stroke-linejoin:round;}\n",
       "  </style>\n",
       " </defs>\n",
       " <g id=\"figure_1\">\n",
       "  <g id=\"patch_1\">\n",
       "   <path d=\"M 0 805.2474 \n",
       "L 1293.39114 805.2474 \n",
       "L 1293.39114 0 \n",
       "L 0 0 \n",
       "z\n",
       "\" style=\"fill:#ffffff;\"/>\n",
       "  </g>\n",
       "  <g id=\"axes_1\">\n",
       "   <g id=\"line2d_1\">\n",
       "    <path clip-path=\"url(#p59bde7cf68)\" d=\"M 122.64554 43.5608 \n",
       "L 1281.64604 43.5608 \n",
       "\" style=\"fill:none;stroke:#000000;stroke-linecap:square;stroke-width:2;\"/>\n",
       "   </g>\n",
       "   <g id=\"line2d_2\">\n",
       "    <path clip-path=\"url(#p59bde7cf68)\" d=\"M 122.64554 89.0118 \n",
       "L 1281.64604 89.0118 \n",
       "\" style=\"fill:none;stroke:#000000;stroke-linecap:square;stroke-width:2;\"/>\n",
       "   </g>\n",
       "   <g id=\"line2d_3\">\n",
       "    <path clip-path=\"url(#p59bde7cf68)\" d=\"M 122.64554 134.4628 \n",
       "L 1281.64604 134.4628 \n",
       "\" style=\"fill:none;stroke:#000000;stroke-linecap:square;stroke-width:2;\"/>\n",
       "   </g>\n",
       "   <g id=\"line2d_4\">\n",
       "    <path clip-path=\"url(#p59bde7cf68)\" d=\"M 122.64554 179.9138 \n",
       "L 1281.64604 179.9138 \n",
       "\" style=\"fill:none;stroke:#000000;stroke-linecap:square;stroke-width:2;\"/>\n",
       "   </g>\n",
       "   <g id=\"line2d_5\">\n",
       "    <path clip-path=\"url(#p59bde7cf68)\" d=\"M 122.64554 225.3648 \n",
       "L 1281.64604 225.3648 \n",
       "\" style=\"fill:none;stroke:#000000;stroke-linecap:square;stroke-width:2;\"/>\n",
       "   </g>\n",
       "   <g id=\"line2d_6\">\n",
       "    <path clip-path=\"url(#p59bde7cf68)\" d=\"M 122.64554 316.2668 \n",
       "L 1281.64604 316.2668 \n",
       "\" style=\"fill:none;stroke:#000000;stroke-linecap:square;stroke-width:2;\"/>\n",
       "   </g>\n",
       "   <g id=\"line2d_7\">\n",
       "    <path clip-path=\"url(#p59bde7cf68)\" d=\"M 122.64554 361.7178 \n",
       "L 1281.64604 361.7178 \n",
       "\" style=\"fill:none;stroke:#000000;stroke-linecap:square;stroke-width:2;\"/>\n",
       "   </g>\n",
       "   <g id=\"line2d_8\">\n",
       "    <path clip-path=\"url(#p59bde7cf68)\" d=\"M 122.64554 407.1688 \n",
       "L 1281.64604 407.1688 \n",
       "\" style=\"fill:none;stroke:#000000;stroke-linecap:square;stroke-width:2;\"/>\n",
       "   </g>\n",
       "   <g id=\"line2d_9\">\n",
       "    <path clip-path=\"url(#p59bde7cf68)\" d=\"M 122.64554 452.6198 \n",
       "L 1281.64604 452.6198 \n",
       "\" style=\"fill:none;stroke:#000000;stroke-linecap:square;stroke-width:2;\"/>\n",
       "   </g>\n",
       "   <g id=\"line2d_10\">\n",
       "    <path clip-path=\"url(#p59bde7cf68)\" d=\"M 122.64554 498.0708 \n",
       "L 1281.64604 498.0708 \n",
       "\" style=\"fill:none;stroke:#000000;stroke-linecap:square;stroke-width:2;\"/>\n",
       "   </g>\n",
       "   <g id=\"line2d_11\">\n",
       "    <path clip-path=\"url(#p59bde7cf68)\" d=\"M 122.64554 588.9728 \n",
       "L 1281.64604 588.9728 \n",
       "\" style=\"fill:none;stroke:#000000;stroke-linecap:square;stroke-width:2;\"/>\n",
       "   </g>\n",
       "   <g id=\"line2d_12\">\n",
       "    <path clip-path=\"url(#p59bde7cf68)\" d=\"M 122.64554 634.4238 \n",
       "L 1281.64604 634.4238 \n",
       "\" style=\"fill:none;stroke:#000000;stroke-linecap:square;stroke-width:2;\"/>\n",
       "   </g>\n",
       "   <g id=\"line2d_13\">\n",
       "    <path clip-path=\"url(#p59bde7cf68)\" d=\"M 122.64554 679.8748 \n",
       "L 1281.64604 679.8748 \n",
       "\" style=\"fill:none;stroke:#000000;stroke-linecap:square;stroke-width:2;\"/>\n",
       "   </g>\n",
       "   <g id=\"line2d_14\">\n",
       "    <path clip-path=\"url(#p59bde7cf68)\" d=\"M 122.64554 725.3258 \n",
       "L 1281.64604 725.3258 \n",
       "\" style=\"fill:none;stroke:#000000;stroke-linecap:square;stroke-width:2;\"/>\n",
       "   </g>\n",
       "   <g id=\"line2d_15\">\n",
       "    <path clip-path=\"url(#p59bde7cf68)\" d=\"M 122.64554 770.7768 \n",
       "L 1281.64604 770.7768 \n",
       "\" style=\"fill:none;stroke:#000000;stroke-linecap:square;stroke-width:2;\"/>\n",
       "   </g>\n",
       "   <g id=\"line2d_16\">\n",
       "    <path clip-path=\"url(#p59bde7cf68)\" d=\"M 236.27304 89.0118 \n",
       "L 236.27304 43.5608 \n",
       "\" style=\"fill:none;stroke:#6fa4ff;stroke-linecap:square;stroke-width:2;\"/>\n",
       "   </g>\n",
       "   <g id=\"line2d_17\">\n",
       "    <path clip-path=\"url(#p59bde7cf68)\" d=\"M 372.62604 89.0118 \n",
       "L 372.62604 43.5608 \n",
       "\" style=\"fill:none;stroke:#6fa4ff;stroke-linecap:square;stroke-width:2;\"/>\n",
       "   </g>\n",
       "   <g id=\"line2d_18\">\n",
       "    <path clip-path=\"url(#p59bde7cf68)\" d=\"M 418.07704 134.4628 \n",
       "L 418.07704 43.5608 \n",
       "\" style=\"fill:none;stroke:#6fa4ff;stroke-linecap:square;stroke-width:2;\"/>\n",
       "   </g>\n",
       "   <g id=\"line2d_19\">\n",
       "    <path clip-path=\"url(#p59bde7cf68)\" d=\"M 554.43004 134.4628 \n",
       "L 554.43004 43.5608 \n",
       "\" style=\"fill:none;stroke:#6fa4ff;stroke-linecap:square;stroke-width:2;\"/>\n",
       "   </g>\n",
       "   <g id=\"line2d_20\">\n",
       "    <path clip-path=\"url(#p59bde7cf68)\" d=\"M 599.88104 179.9138 \n",
       "L 599.88104 43.5608 \n",
       "\" style=\"fill:none;stroke:#6fa4ff;stroke-linecap:square;stroke-width:2;\"/>\n",
       "   </g>\n",
       "   <g id=\"line2d_21\">\n",
       "    <path clip-path=\"url(#p59bde7cf68)\" d=\"M 736.23404 179.9138 \n",
       "L 736.23404 43.5608 \n",
       "\" style=\"fill:none;stroke:#6fa4ff;stroke-linecap:square;stroke-width:2;\"/>\n",
       "   </g>\n",
       "   <g id=\"line2d_22\">\n",
       "    <path clip-path=\"url(#p59bde7cf68)\" d=\"M 781.68504 225.3648 \n",
       "L 781.68504 43.5608 \n",
       "\" style=\"fill:none;stroke:#bb8bff;stroke-linecap:square;stroke-width:2;\"/>\n",
       "   </g>\n",
       "   <g id=\"line2d_23\">\n",
       "    <path clip-path=\"url(#p59bde7cf68)\" d=\"M 827.13604 225.3648 \n",
       "L 827.13604 89.0118 \n",
       "\" style=\"fill:none;stroke:#bb8bff;stroke-linecap:square;stroke-width:2;\"/>\n",
       "   </g>\n",
       "   <g id=\"line2d_24\">\n",
       "    <path clip-path=\"url(#p59bde7cf68)\" d=\"M 872.58704 225.3648 \n",
       "L 872.58704 43.5608 \n",
       "\" style=\"fill:none;stroke:#bb8bff;stroke-linecap:square;stroke-width:2;\"/>\n",
       "   </g>\n",
       "   <g id=\"line2d_25\">\n",
       "    <path clip-path=\"url(#p59bde7cf68)\" d=\"M 918.03804 225.3648 \n",
       "L 918.03804 43.5608 \n",
       "\" style=\"fill:none;stroke:#bb8bff;stroke-linecap:square;stroke-width:2;\"/>\n",
       "   </g>\n",
       "   <g id=\"line2d_26\">\n",
       "    <path clip-path=\"url(#p59bde7cf68)\" d=\"M 986.21454 225.3648 \n",
       "L 986.21454 179.9138 \n",
       "\" style=\"fill:none;stroke:#bb8bff;stroke-linecap:square;stroke-width:2;\"/>\n",
       "   </g>\n",
       "   <g id=\"line2d_27\">\n",
       "    <path clip-path=\"url(#p59bde7cf68)\" d=\"M 1054.39104 225.3648 \n",
       "L 1054.39104 43.5608 \n",
       "\" style=\"fill:none;stroke:#bb8bff;stroke-linecap:square;stroke-width:2;\"/>\n",
       "   </g>\n",
       "   <g id=\"line2d_28\">\n",
       "    <path clip-path=\"url(#p59bde7cf68)\" d=\"M 1190.74404 89.0118 \n",
       "L 1190.74404 43.5608 \n",
       "\" style=\"fill:none;stroke:#6fa4ff;stroke-linecap:square;stroke-width:2;\"/>\n",
       "   </g>\n",
       "   <g id=\"line2d_29\">\n",
       "    <path clip-path=\"url(#p59bde7cf68)\" d=\"M 236.27304 361.7178 \n",
       "L 236.27304 316.2668 \n",
       "\" style=\"fill:none;stroke:#6fa4ff;stroke-linecap:square;stroke-width:2;\"/>\n",
       "   </g>\n",
       "   <g id=\"line2d_30\">\n",
       "    <path clip-path=\"url(#p59bde7cf68)\" d=\"M 281.72404 407.1688 \n",
       "L 281.72404 316.2668 \n",
       "\" style=\"fill:none;stroke:#6fa4ff;stroke-linecap:square;stroke-width:2;\"/>\n",
       "   </g>\n",
       "   <g id=\"line2d_31\">\n",
       "    <path clip-path=\"url(#p59bde7cf68)\" d=\"M 418.07704 407.1688 \n",
       "L 418.07704 316.2668 \n",
       "\" style=\"fill:none;stroke:#6fa4ff;stroke-linecap:square;stroke-width:2;\"/>\n",
       "   </g>\n",
       "   <g id=\"line2d_32\">\n",
       "    <path clip-path=\"url(#p59bde7cf68)\" d=\"M 463.52804 452.6198 \n",
       "L 463.52804 316.2668 \n",
       "\" style=\"fill:none;stroke:#6fa4ff;stroke-linecap:square;stroke-width:2;\"/>\n",
       "   </g>\n",
       "   <g id=\"line2d_33\">\n",
       "    <path clip-path=\"url(#p59bde7cf68)\" d=\"M 599.88104 452.6198 \n",
       "L 599.88104 316.2668 \n",
       "\" style=\"fill:none;stroke:#6fa4ff;stroke-linecap:square;stroke-width:2;\"/>\n",
       "   </g>\n",
       "   <g id=\"line2d_34\">\n",
       "    <path clip-path=\"url(#p59bde7cf68)\" d=\"M 645.33204 498.0708 \n",
       "L 645.33204 316.2668 \n",
       "\" style=\"fill:none;stroke:#bb8bff;stroke-linecap:square;stroke-width:2;\"/>\n",
       "   </g>\n",
       "   <g id=\"line2d_35\">\n",
       "    <path clip-path=\"url(#p59bde7cf68)\" d=\"M 690.78304 498.0708 \n",
       "L 690.78304 407.1688 \n",
       "\" style=\"fill:none;stroke:#bb8bff;stroke-linecap:square;stroke-width:2;\"/>\n",
       "   </g>\n",
       "   <g id=\"line2d_36\">\n",
       "    <path clip-path=\"url(#p59bde7cf68)\" d=\"M 736.23404 498.0708 \n",
       "L 736.23404 316.2668 \n",
       "\" style=\"fill:none;stroke:#bb8bff;stroke-linecap:square;stroke-width:2;\"/>\n",
       "   </g>\n",
       "   <g id=\"line2d_37\">\n",
       "    <path clip-path=\"url(#p59bde7cf68)\" d=\"M 872.58704 498.0708 \n",
       "L 872.58704 316.2668 \n",
       "\" style=\"fill:none;stroke:#bb8bff;stroke-linecap:square;stroke-width:2;\"/>\n",
       "   </g>\n",
       "   <g id=\"line2d_38\">\n",
       "    <path clip-path=\"url(#p59bde7cf68)\" d=\"M 918.03804 498.0708 \n",
       "L 918.03804 452.6198 \n",
       "\" style=\"fill:none;stroke:#bb8bff;stroke-linecap:square;stroke-width:2;\"/>\n",
       "   </g>\n",
       "   <g id=\"line2d_39\">\n",
       "    <path clip-path=\"url(#p59bde7cf68)\" d=\"M 963.48904 498.0708 \n",
       "L 963.48904 316.2668 \n",
       "\" style=\"fill:none;stroke:#bb8bff;stroke-linecap:square;stroke-width:2;\"/>\n",
       "   </g>\n",
       "   <g id=\"line2d_40\">\n",
       "    <path clip-path=\"url(#p59bde7cf68)\" d=\"M 1099.84204 361.7178 \n",
       "L 1099.84204 316.2668 \n",
       "\" style=\"fill:none;stroke:#6fa4ff;stroke-linecap:square;stroke-width:2;\"/>\n",
       "   </g>\n",
       "   <g id=\"line2d_41\">\n",
       "    <path clip-path=\"url(#p59bde7cf68)\" d=\"M 1236.19504 361.7178 \n",
       "L 1236.19504 316.2668 \n",
       "\" style=\"fill:none;stroke:#6fa4ff;stroke-linecap:square;stroke-width:2;\"/>\n",
       "   </g>\n",
       "   <g id=\"line2d_42\">\n",
       "    <path clip-path=\"url(#p59bde7cf68)\" d=\"M 145.37104 679.8748 \n",
       "L 145.37104 588.9728 \n",
       "\" style=\"fill:none;stroke:#6fa4ff;stroke-linecap:square;stroke-width:2;\"/>\n",
       "   </g>\n",
       "   <g id=\"line2d_43\">\n",
       "    <path clip-path=\"url(#p59bde7cf68)\" d=\"M 281.72404 679.8748 \n",
       "L 281.72404 588.9728 \n",
       "\" style=\"fill:none;stroke:#6fa4ff;stroke-linecap:square;stroke-width:2;\"/>\n",
       "   </g>\n",
       "   <g id=\"line2d_44\">\n",
       "    <path clip-path=\"url(#p59bde7cf68)\" d=\"M 327.17504 725.3258 \n",
       "L 327.17504 588.9728 \n",
       "\" style=\"fill:none;stroke:#6fa4ff;stroke-linecap:square;stroke-width:2;\"/>\n",
       "   </g>\n",
       "   <g id=\"line2d_45\">\n",
       "    <path clip-path=\"url(#p59bde7cf68)\" d=\"M 463.52804 725.3258 \n",
       "L 463.52804 588.9728 \n",
       "\" style=\"fill:none;stroke:#6fa4ff;stroke-linecap:square;stroke-width:2;\"/>\n",
       "   </g>\n",
       "   <g id=\"line2d_46\">\n",
       "    <path clip-path=\"url(#p59bde7cf68)\" d=\"M 1270.7378 43.5608 \n",
       "L 1270.7378 225.3648 \n",
       "\" style=\"fill:none;stroke:#000000;stroke-linecap:square;stroke-width:1.5;\"/>\n",
       "   </g>\n",
       "   <g id=\"line2d_47\">\n",
       "    <path clip-path=\"url(#p59bde7cf68)\" d=\"M 1279.828 43.5608 \n",
       "L 1279.828 225.3648 \n",
       "\" style=\"fill:none;stroke:#000000;stroke-linecap:square;stroke-width:1.5;\"/>\n",
       "   </g>\n",
       "   <g id=\"line2d_48\">\n",
       "    <path clip-path=\"url(#p59bde7cf68)\" d=\"M 1270.7378 316.2668 \n",
       "L 1270.7378 498.0708 \n",
       "\" style=\"fill:none;stroke:#000000;stroke-linecap:square;stroke-width:1.5;\"/>\n",
       "   </g>\n",
       "   <g id=\"line2d_49\">\n",
       "    <path clip-path=\"url(#p59bde7cf68)\" d=\"M 1279.828 316.2668 \n",
       "L 1279.828 498.0708 \n",
       "\" style=\"fill:none;stroke:#000000;stroke-linecap:square;stroke-width:1.5;\"/>\n",
       "   </g>\n",
       "   <g id=\"line2d_50\">\n",
       "    <path clip-path=\"url(#p59bde7cf68)\" d=\"M 98.102 316.2668 \n",
       "L 98.102 498.0708 \n",
       "\" style=\"fill:none;stroke:#000000;stroke-linecap:square;stroke-width:1.5;\"/>\n",
       "   </g>\n",
       "   <g id=\"line2d_51\">\n",
       "    <path clip-path=\"url(#p59bde7cf68)\" d=\"M 107.1922 316.2668 \n",
       "L 107.1922 498.0708 \n",
       "\" style=\"fill:none;stroke:#000000;stroke-linecap:square;stroke-width:1.5;\"/>\n",
       "   </g>\n",
       "   <g id=\"line2d_52\">\n",
       "    <path clip-path=\"url(#p59bde7cf68)\" d=\"M 98.102 588.9728 \n",
       "L 98.102 770.7768 \n",
       "\" style=\"fill:none;stroke:#000000;stroke-linecap:square;stroke-width:1.5;\"/>\n",
       "   </g>\n",
       "   <g id=\"line2d_53\">\n",
       "    <path clip-path=\"url(#p59bde7cf68)\" d=\"M 107.1922 588.9728 \n",
       "L 107.1922 770.7768 \n",
       "\" style=\"fill:none;stroke:#000000;stroke-linecap:square;stroke-width:1.5;\"/>\n",
       "   </g>\n",
       "   <g id=\"patch_2\">\n",
       "    <path clip-path=\"url(#p59bde7cf68)\" d=\"M 148.154914 103.783375 \n",
       "L 188.038166 103.783375 \n",
       "L 188.038166 74.240225 \n",
       "L 148.154914 74.240225 \n",
       "z\n",
       "\" style=\"fill:#fa74a6;\"/>\n",
       "   </g>\n",
       "   <g id=\"patch_3\">\n",
       "    <path clip-path=\"url(#p59bde7cf68)\" d=\"M 148.154914 149.234375 \n",
       "L 188.038166 149.234375 \n",
       "L 188.038166 119.691225 \n",
       "L 148.154914 119.691225 \n",
       "z\n",
       "\" style=\"fill:#fa74a6;\"/>\n",
       "   </g>\n",
       "   <g id=\"patch_4\">\n",
       "    <path clip-path=\"url(#p59bde7cf68)\" d=\"M 148.154914 194.685375 \n",
       "L 188.038166 194.685375 \n",
       "L 188.038166 165.142225 \n",
       "L 148.154914 165.142225 \n",
       "z\n",
       "\" style=\"fill:#fa74a6;\"/>\n",
       "   </g>\n",
       "   <g id=\"patch_5\">\n",
       "    <path clip-path=\"url(#p59bde7cf68)\" d=\"M 236.27304 47.992272 \n",
       "C 237.44828 47.992272 238.575544 47.525345 239.406564 46.694324 \n",
       "C 240.237585 45.863304 240.704512 44.73604 240.704512 43.5608 \n",
       "C 240.704512 42.38556 240.237585 41.258296 239.406564 40.427276 \n",
       "C 238.575544 39.596255 237.44828 39.129327 236.27304 39.129327 \n",
       "C 235.0978 39.129327 233.970536 39.596255 233.139516 40.427276 \n",
       "C 232.308495 41.258296 231.841567 42.38556 231.841567 43.5608 \n",
       "C 231.841567 44.73604 232.308495 45.863304 233.139516 46.694324 \n",
       "C 233.970536 47.525345 235.0978 47.992272 236.27304 47.992272 \n",
       "z\n",
       "\" style=\"fill:#6fa4ff;stroke:#6fa4ff;stroke-linejoin:miter;stroke-width:1.5;\"/>\n",
       "   </g>\n",
       "   <g id=\"patch_6\">\n",
       "    <path clip-path=\"url(#p59bde7cf68)\" d=\"M 236.27304 99.351902 \n",
       "C 239.015267 99.351902 241.645549 98.262404 243.584597 96.323357 \n",
       "C 245.523644 94.384309 246.613142 91.754027 246.613142 89.0118 \n",
       "C 246.613142 86.269573 245.523644 83.639291 243.584597 81.700243 \n",
       "C 241.645549 79.761196 239.015267 78.671697 236.27304 78.671697 \n",
       "C 233.530813 78.671697 230.900531 79.761196 228.961483 81.700243 \n",
       "C 227.022436 83.639291 225.932937 86.269573 225.932937 89.0118 \n",
       "C 225.932937 91.754027 227.022436 94.384309 228.961483 96.323357 \n",
       "C 230.900531 98.262404 233.530813 99.351902 236.27304 99.351902 \n",
       "z\n",
       "\" style=\"fill:#6fa4ff;stroke:#6fa4ff;stroke-linejoin:miter;stroke-width:2;\"/>\n",
       "   </g>\n",
       "   <g id=\"patch_7\">\n",
       "    <path clip-path=\"url(#p59bde7cf68)\" d=\"M 277.860705 103.783375 \n",
       "L 331.038375 103.783375 \n",
       "L 331.038375 74.240225 \n",
       "L 277.860705 74.240225 \n",
       "z\n",
       "\" style=\"fill:#fa74a6;\"/>\n",
       "   </g>\n",
       "   <g id=\"patch_8\">\n",
       "    <path clip-path=\"url(#p59bde7cf68)\" d=\"M 372.62604 47.992272 \n",
       "C 373.80128 47.992272 374.928544 47.525345 375.759564 46.694324 \n",
       "C 376.590585 45.863304 377.057512 44.73604 377.057512 43.5608 \n",
       "C 377.057512 42.38556 376.590585 41.258296 375.759564 40.427276 \n",
       "C 374.928544 39.596255 373.80128 39.129327 372.62604 39.129327 \n",
       "C 371.4508 39.129327 370.323536 39.596255 369.492516 40.427276 \n",
       "C 368.661495 41.258296 368.194567 42.38556 368.194567 43.5608 \n",
       "C 368.194567 44.73604 368.661495 45.863304 369.492516 46.694324 \n",
       "C 370.323536 47.525345 371.4508 47.992272 372.62604 47.992272 \n",
       "z\n",
       "\" style=\"fill:#6fa4ff;stroke:#6fa4ff;stroke-linejoin:miter;stroke-width:1.5;\"/>\n",
       "   </g>\n",
       "   <g id=\"patch_9\">\n",
       "    <path clip-path=\"url(#p59bde7cf68)\" d=\"M 372.62604 99.351902 \n",
       "C 375.368267 99.351902 377.998549 98.262404 379.937597 96.323357 \n",
       "C 381.876644 94.384309 382.966142 91.754027 382.966142 89.0118 \n",
       "C 382.966142 86.269573 381.876644 83.639291 379.937597 81.700243 \n",
       "C 377.998549 79.761196 375.368267 78.671697 372.62604 78.671697 \n",
       "C 369.883813 78.671697 367.253531 79.761196 365.314483 81.700243 \n",
       "C 363.375436 83.639291 362.285937 86.269573 362.285937 89.0118 \n",
       "C 362.285937 91.754027 363.375436 94.384309 365.314483 96.323357 \n",
       "C 367.253531 98.262404 369.883813 99.351902 372.62604 99.351902 \n",
       "z\n",
       "\" style=\"fill:#6fa4ff;stroke:#6fa4ff;stroke-linejoin:miter;stroke-width:2;\"/>\n",
       "   </g>\n",
       "   <g id=\"patch_10\">\n",
       "    <path clip-path=\"url(#p59bde7cf68)\" d=\"M 418.07704 47.992272 \n",
       "C 419.25228 47.992272 420.379544 47.525345 421.210564 46.694324 \n",
       "C 422.041585 45.863304 422.508512 44.73604 422.508512 43.5608 \n",
       "C 422.508512 42.38556 422.041585 41.258296 421.210564 40.427276 \n",
       "C 420.379544 39.596255 419.25228 39.129327 418.07704 39.129327 \n",
       "C 416.9018 39.129327 415.774536 39.596255 414.943516 40.427276 \n",
       "C 414.112495 41.258296 413.645567 42.38556 413.645567 43.5608 \n",
       "C 413.645567 44.73604 414.112495 45.863304 414.943516 46.694324 \n",
       "C 415.774536 47.525345 416.9018 47.992272 418.07704 47.992272 \n",
       "z\n",
       "\" style=\"fill:#6fa4ff;stroke:#6fa4ff;stroke-linejoin:miter;stroke-width:1.5;\"/>\n",
       "   </g>\n",
       "   <g id=\"patch_11\">\n",
       "    <path clip-path=\"url(#p59bde7cf68)\" d=\"M 418.07704 144.802903 \n",
       "C 420.819267 144.802903 423.449549 143.713404 425.388597 141.774357 \n",
       "C 427.327644 139.835309 428.417142 137.205027 428.417142 134.4628 \n",
       "C 428.417142 131.720573 427.327644 129.090291 425.388597 127.151243 \n",
       "C 423.449549 125.212196 420.819267 124.122698 418.07704 124.122698 \n",
       "C 415.334813 124.122698 412.704531 125.212196 410.765483 127.151243 \n",
       "C 408.826436 129.090291 407.736937 131.720573 407.736937 134.4628 \n",
       "C 407.736937 137.205027 408.826436 139.835309 410.765483 141.774357 \n",
       "C 412.704531 143.713404 415.334813 144.802903 418.07704 144.802903 \n",
       "z\n",
       "\" style=\"fill:#6fa4ff;stroke:#6fa4ff;stroke-linejoin:miter;stroke-width:2;\"/>\n",
       "   </g>\n",
       "   <g id=\"patch_12\">\n",
       "    <path clip-path=\"url(#p59bde7cf68)\" d=\"M 459.664705 149.234375 \n",
       "L 512.842375 149.234375 \n",
       "L 512.842375 119.691225 \n",
       "L 459.664705 119.691225 \n",
       "z\n",
       "\" style=\"fill:#fa74a6;\"/>\n",
       "   </g>\n",
       "   <g id=\"patch_13\">\n",
       "    <path clip-path=\"url(#p59bde7cf68)\" d=\"M 554.43004 47.992272 \n",
       "C 555.60528 47.992272 556.732544 47.525345 557.563564 46.694324 \n",
       "C 558.394585 45.863304 558.861512 44.73604 558.861512 43.5608 \n",
       "C 558.861512 42.38556 558.394585 41.258296 557.563564 40.427276 \n",
       "C 556.732544 39.596255 555.60528 39.129327 554.43004 39.129327 \n",
       "C 553.2548 39.129327 552.127536 39.596255 551.296516 40.427276 \n",
       "C 550.465495 41.258296 549.998567 42.38556 549.998567 43.5608 \n",
       "C 549.998567 44.73604 550.465495 45.863304 551.296516 46.694324 \n",
       "C 552.127536 47.525345 553.2548 47.992272 554.43004 47.992272 \n",
       "z\n",
       "\" style=\"fill:#6fa4ff;stroke:#6fa4ff;stroke-linejoin:miter;stroke-width:1.5;\"/>\n",
       "   </g>\n",
       "   <g id=\"patch_14\">\n",
       "    <path clip-path=\"url(#p59bde7cf68)\" d=\"M 554.43004 144.802903 \n",
       "C 557.172267 144.802903 559.802549 143.713404 561.741597 141.774357 \n",
       "C 563.680644 139.835309 564.770142 137.205027 564.770142 134.4628 \n",
       "C 564.770142 131.720573 563.680644 129.090291 561.741597 127.151243 \n",
       "C 559.802549 125.212196 557.172267 124.122698 554.43004 124.122698 \n",
       "C 551.687813 124.122698 549.057531 125.212196 547.118483 127.151243 \n",
       "C 545.179436 129.090291 544.089937 131.720573 544.089937 134.4628 \n",
       "C 544.089937 137.205027 545.179436 139.835309 547.118483 141.774357 \n",
       "C 549.057531 143.713404 551.687813 144.802903 554.43004 144.802903 \n",
       "z\n",
       "\" style=\"fill:#6fa4ff;stroke:#6fa4ff;stroke-linejoin:miter;stroke-width:2;\"/>\n",
       "   </g>\n",
       "   <g id=\"patch_15\">\n",
       "    <path clip-path=\"url(#p59bde7cf68)\" d=\"M 599.88104 47.992272 \n",
       "C 601.05628 47.992272 602.183544 47.525345 603.014564 46.694324 \n",
       "C 603.845585 45.863304 604.312512 44.73604 604.312512 43.5608 \n",
       "C 604.312512 42.38556 603.845585 41.258296 603.014564 40.427276 \n",
       "C 602.183544 39.596255 601.05628 39.129327 599.88104 39.129327 \n",
       "C 598.7058 39.129327 597.578536 39.596255 596.747516 40.427276 \n",
       "C 595.916495 41.258296 595.449567 42.38556 595.449567 43.5608 \n",
       "C 595.449567 44.73604 595.916495 45.863304 596.747516 46.694324 \n",
       "C 597.578536 47.525345 598.7058 47.992272 599.88104 47.992272 \n",
       "z\n",
       "\" style=\"fill:#6fa4ff;stroke:#6fa4ff;stroke-linejoin:miter;stroke-width:1.5;\"/>\n",
       "   </g>\n",
       "   <g id=\"patch_16\">\n",
       "    <path clip-path=\"url(#p59bde7cf68)\" d=\"M 599.88104 190.253902 \n",
       "C 602.623267 190.253902 605.253549 189.164404 607.192597 187.225357 \n",
       "C 609.131644 185.286309 610.221142 182.656027 610.221142 179.9138 \n",
       "C 610.221142 177.171573 609.131644 174.541291 607.192597 172.602243 \n",
       "C 605.253549 170.663196 602.623267 169.573697 599.88104 169.573697 \n",
       "C 597.138813 169.573697 594.508531 170.663196 592.569483 172.602243 \n",
       "C 590.630436 174.541291 589.540937 177.171573 589.540937 179.9138 \n",
       "C 589.540937 182.656027 590.630436 185.286309 592.569483 187.225357 \n",
       "C 594.508531 189.164404 597.138813 190.253902 599.88104 190.253902 \n",
       "z\n",
       "\" style=\"fill:#6fa4ff;stroke:#6fa4ff;stroke-linejoin:miter;stroke-width:2;\"/>\n",
       "   </g>\n",
       "   <g id=\"patch_17\">\n",
       "    <path clip-path=\"url(#p59bde7cf68)\" d=\"M 641.468705 194.685375 \n",
       "L 694.646375 194.685375 \n",
       "L 694.646375 165.142225 \n",
       "L 641.468705 165.142225 \n",
       "z\n",
       "\" style=\"fill:#fa74a6;\"/>\n",
       "   </g>\n",
       "   <g id=\"patch_18\">\n",
       "    <path clip-path=\"url(#p59bde7cf68)\" d=\"M 736.23404 47.992272 \n",
       "C 737.40928 47.992272 738.536544 47.525345 739.367564 46.694324 \n",
       "C 740.198585 45.863304 740.665512 44.73604 740.665512 43.5608 \n",
       "C 740.665512 42.38556 740.198585 41.258296 739.367564 40.427276 \n",
       "C 738.536544 39.596255 737.40928 39.129327 736.23404 39.129327 \n",
       "C 735.0588 39.129327 733.931536 39.596255 733.100516 40.427276 \n",
       "C 732.269495 41.258296 731.802567 42.38556 731.802567 43.5608 \n",
       "C 731.802567 44.73604 732.269495 45.863304 733.100516 46.694324 \n",
       "C 733.931536 47.525345 735.0588 47.992272 736.23404 47.992272 \n",
       "z\n",
       "\" style=\"fill:#6fa4ff;stroke:#6fa4ff;stroke-linejoin:miter;stroke-width:1.5;\"/>\n",
       "   </g>\n",
       "   <g id=\"patch_19\">\n",
       "    <path clip-path=\"url(#p59bde7cf68)\" d=\"M 736.23404 190.253902 \n",
       "C 738.976267 190.253902 741.606549 189.164404 743.545597 187.225357 \n",
       "C 745.484644 185.286309 746.574142 182.656027 746.574142 179.9138 \n",
       "C 746.574142 177.171573 745.484644 174.541291 743.545597 172.602243 \n",
       "C 741.606549 170.663196 738.976267 169.573697 736.23404 169.573697 \n",
       "C 733.491813 169.573697 730.861531 170.663196 728.922483 172.602243 \n",
       "C 726.983436 174.541291 725.893937 177.171573 725.893937 179.9138 \n",
       "C 725.893937 182.656027 726.983436 185.286309 728.922483 187.225357 \n",
       "C 730.861531 189.164404 733.491813 190.253902 736.23404 190.253902 \n",
       "z\n",
       "\" style=\"fill:#6fa4ff;stroke:#6fa4ff;stroke-linejoin:miter;stroke-width:2;\"/>\n",
       "   </g>\n",
       "   <g id=\"patch_20\">\n",
       "    <path clip-path=\"url(#p59bde7cf68)\" d=\"M 781.68504 47.992272 \n",
       "C 782.86028 47.992272 783.987544 47.525345 784.818564 46.694324 \n",
       "C 785.649585 45.863304 786.116512 44.73604 786.116512 43.5608 \n",
       "C 786.116512 42.38556 785.649585 41.258296 784.818564 40.427276 \n",
       "C 783.987544 39.596255 782.86028 39.129327 781.68504 39.129327 \n",
       "C 780.5098 39.129327 779.382536 39.596255 778.551516 40.427276 \n",
       "C 777.720495 41.258296 777.253567 42.38556 777.253567 43.5608 \n",
       "C 777.253567 44.73604 777.720495 45.863304 778.551516 46.694324 \n",
       "C 779.382536 47.525345 780.5098 47.992272 781.68504 47.992272 \n",
       "z\n",
       "\" style=\"fill:#bb8bff;stroke:#bb8bff;stroke-linejoin:miter;stroke-width:1.5;\"/>\n",
       "   </g>\n",
       "   <g id=\"patch_21\">\n",
       "    <path clip-path=\"url(#p59bde7cf68)\" d=\"M 781.68504 138.894273 \n",
       "C 782.86028 138.894273 783.987544 138.427345 784.818564 137.596324 \n",
       "C 785.649585 136.765304 786.116512 135.63804 786.116512 134.4628 \n",
       "C 786.116512 133.28756 785.649585 132.160296 784.818564 131.329276 \n",
       "C 783.987544 130.498255 782.86028 130.031328 781.68504 130.031328 \n",
       "C 780.5098 130.031328 779.382536 130.498255 778.551516 131.329276 \n",
       "C 777.720495 132.160296 777.253567 133.28756 777.253567 134.4628 \n",
       "C 777.253567 135.63804 777.720495 136.765304 778.551516 137.596324 \n",
       "C 779.382536 138.427345 780.5098 138.894273 781.68504 138.894273 \n",
       "z\n",
       "\" style=\"fill:#bb8bff;stroke:#bb8bff;stroke-linejoin:miter;stroke-width:1.5;\"/>\n",
       "   </g>\n",
       "   <g id=\"patch_22\">\n",
       "    <path clip-path=\"url(#p59bde7cf68)\" d=\"M 781.68504 235.704902 \n",
       "C 784.427267 235.704902 787.057549 234.615404 788.996597 232.676357 \n",
       "C 790.935644 230.737309 792.025142 228.107027 792.025142 225.3648 \n",
       "C 792.025142 222.622573 790.935644 219.992291 788.996597 218.053243 \n",
       "C 787.057549 216.114196 784.427267 215.024697 781.68504 215.024697 \n",
       "C 778.942813 215.024697 776.312531 216.114196 774.373483 218.053243 \n",
       "C 772.434436 219.992291 771.344937 222.622573 771.344937 225.3648 \n",
       "C 771.344937 228.107027 772.434436 230.737309 774.373483 232.676357 \n",
       "C 776.312531 234.615404 778.942813 235.704902 781.68504 235.704902 \n",
       "z\n",
       "\" style=\"fill:#bb8bff;stroke:#bb8bff;stroke-linejoin:miter;stroke-width:2;\"/>\n",
       "   </g>\n",
       "   <g id=\"patch_23\">\n",
       "    <path clip-path=\"url(#p59bde7cf68)\" d=\"M 827.13604 93.443272 \n",
       "C 828.31128 93.443272 829.438544 92.976345 830.269564 92.145324 \n",
       "C 831.100585 91.314304 831.567512 90.18704 831.567512 89.0118 \n",
       "C 831.567512 87.83656 831.100585 86.709296 830.269564 85.878276 \n",
       "C 829.438544 85.047255 828.31128 84.580327 827.13604 84.580327 \n",
       "C 825.9608 84.580327 824.833536 85.047255 824.002516 85.878276 \n",
       "C 823.171495 86.709296 822.704567 87.83656 822.704567 89.0118 \n",
       "C 822.704567 90.18704 823.171495 91.314304 824.002516 92.145324 \n",
       "C 824.833536 92.976345 825.9608 93.443272 827.13604 93.443272 \n",
       "z\n",
       "\" style=\"fill:#bb8bff;stroke:#bb8bff;stroke-linejoin:miter;stroke-width:1.5;\"/>\n",
       "   </g>\n",
       "   <g id=\"patch_24\">\n",
       "    <path clip-path=\"url(#p59bde7cf68)\" d=\"M 812.364465 240.136375 \n",
       "L 841.907615 240.136375 \n",
       "L 841.907615 210.593225 \n",
       "L 812.364465 210.593225 \n",
       "z\n",
       "\" style=\"fill:#bb8bff;\"/>\n",
       "   </g>\n",
       "   <g id=\"patch_25\">\n",
       "    <path clip-path=\"url(#p59bde7cf68)\" d=\"M 872.58704 47.992272 \n",
       "C 873.76228 47.992272 874.889544 47.525345 875.720564 46.694324 \n",
       "C 876.551585 45.863304 877.018512 44.73604 877.018512 43.5608 \n",
       "C 877.018512 42.38556 876.551585 41.258296 875.720564 40.427276 \n",
       "C 874.889544 39.596255 873.76228 39.129327 872.58704 39.129327 \n",
       "C 871.4118 39.129327 870.284536 39.596255 869.453516 40.427276 \n",
       "C 868.622495 41.258296 868.155567 42.38556 868.155567 43.5608 \n",
       "C 868.155567 44.73604 868.622495 45.863304 869.453516 46.694324 \n",
       "C 870.284536 47.525345 871.4118 47.992272 872.58704 47.992272 \n",
       "z\n",
       "\" style=\"fill:#bb8bff;stroke:#bb8bff;stroke-linejoin:miter;stroke-width:1.5;\"/>\n",
       "   </g>\n",
       "   <g id=\"patch_26\">\n",
       "    <path clip-path=\"url(#p59bde7cf68)\" d=\"M 872.58704 138.894273 \n",
       "C 873.76228 138.894273 874.889544 138.427345 875.720564 137.596324 \n",
       "C 876.551585 136.765304 877.018512 135.63804 877.018512 134.4628 \n",
       "C 877.018512 133.28756 876.551585 132.160296 875.720564 131.329276 \n",
       "C 874.889544 130.498255 873.76228 130.031328 872.58704 130.031328 \n",
       "C 871.4118 130.031328 870.284536 130.498255 869.453516 131.329276 \n",
       "C 868.622495 132.160296 868.155567 133.28756 868.155567 134.4628 \n",
       "C 868.155567 135.63804 868.622495 136.765304 869.453516 137.596324 \n",
       "C 870.284536 138.427345 871.4118 138.894273 872.58704 138.894273 \n",
       "z\n",
       "\" style=\"fill:#bb8bff;stroke:#bb8bff;stroke-linejoin:miter;stroke-width:1.5;\"/>\n",
       "   </g>\n",
       "   <g id=\"patch_27\">\n",
       "    <path clip-path=\"url(#p59bde7cf68)\" d=\"M 872.58704 235.704902 \n",
       "C 875.329267 235.704902 877.959549 234.615404 879.898597 232.676357 \n",
       "C 881.837644 230.737309 882.927142 228.107027 882.927142 225.3648 \n",
       "C 882.927142 222.622573 881.837644 219.992291 879.898597 218.053243 \n",
       "C 877.959549 216.114196 875.329267 215.024697 872.58704 215.024697 \n",
       "C 869.844813 215.024697 867.214531 216.114196 865.275483 218.053243 \n",
       "C 863.336436 219.992291 862.246937 222.622573 862.246937 225.3648 \n",
       "C 862.246937 228.107027 863.336436 230.737309 865.275483 232.676357 \n",
       "C 867.214531 234.615404 869.844813 235.704902 872.58704 235.704902 \n",
       "z\n",
       "\" style=\"fill:#bb8bff;stroke:#bb8bff;stroke-linejoin:miter;stroke-width:2;\"/>\n",
       "   </g>\n",
       "   <g id=\"patch_28\">\n",
       "    <path clip-path=\"url(#p59bde7cf68)\" d=\"M 918.03804 47.992272 \n",
       "C 919.21328 47.992272 920.340544 47.525345 921.171564 46.694324 \n",
       "C 922.002585 45.863304 922.469512 44.73604 922.469512 43.5608 \n",
       "C 922.469512 42.38556 922.002585 41.258296 921.171564 40.427276 \n",
       "C 920.340544 39.596255 919.21328 39.129327 918.03804 39.129327 \n",
       "C 916.8628 39.129327 915.735536 39.596255 914.904516 40.427276 \n",
       "C 914.073495 41.258296 913.606567 42.38556 913.606567 43.5608 \n",
       "C 913.606567 44.73604 914.073495 45.863304 914.904516 46.694324 \n",
       "C 915.735536 47.525345 916.8628 47.992272 918.03804 47.992272 \n",
       "z\n",
       "\" style=\"fill:#bb8bff;stroke:#bb8bff;stroke-linejoin:miter;stroke-width:1.5;\"/>\n",
       "   </g>\n",
       "   <g id=\"patch_29\">\n",
       "    <path clip-path=\"url(#p59bde7cf68)\" d=\"M 918.03804 93.443272 \n",
       "C 919.21328 93.443272 920.340544 92.976345 921.171564 92.145324 \n",
       "C 922.002585 91.314304 922.469512 90.18704 922.469512 89.0118 \n",
       "C 922.469512 87.83656 922.002585 86.709296 921.171564 85.878276 \n",
       "C 920.340544 85.047255 919.21328 84.580327 918.03804 84.580327 \n",
       "C 916.8628 84.580327 915.735536 85.047255 914.904516 85.878276 \n",
       "C 914.073495 86.709296 913.606567 87.83656 913.606567 89.0118 \n",
       "C 913.606567 90.18704 914.073495 91.314304 914.904516 92.145324 \n",
       "C 915.735536 92.976345 916.8628 93.443272 918.03804 93.443272 \n",
       "z\n",
       "\" style=\"fill:#bb8bff;stroke:#bb8bff;stroke-linejoin:miter;stroke-width:1.5;\"/>\n",
       "   </g>\n",
       "   <g id=\"patch_30\">\n",
       "    <path clip-path=\"url(#p59bde7cf68)\" d=\"M 918.03804 235.704902 \n",
       "C 920.780267 235.704902 923.410549 234.615404 925.349597 232.676357 \n",
       "C 927.288644 230.737309 928.378142 228.107027 928.378142 225.3648 \n",
       "C 928.378142 222.622573 927.288644 219.992291 925.349597 218.053243 \n",
       "C 923.410549 216.114196 920.780267 215.024697 918.03804 215.024697 \n",
       "C 915.295813 215.024697 912.665531 216.114196 910.726483 218.053243 \n",
       "C 908.787436 219.992291 907.697937 222.622573 907.697937 225.3648 \n",
       "C 907.697937 228.107027 908.787436 230.737309 910.726483 232.676357 \n",
       "C 912.665531 234.615404 915.295813 235.704902 918.03804 235.704902 \n",
       "z\n",
       "\" style=\"fill:#bb8bff;stroke:#bb8bff;stroke-linejoin:miter;stroke-width:2;\"/>\n",
       "   </g>\n",
       "   <g id=\"patch_31\">\n",
       "    <path clip-path=\"url(#p59bde7cf68)\" d=\"M 966.272914 149.234375 \n",
       "L 1006.156166 149.234375 \n",
       "L 1006.156166 119.691225 \n",
       "L 966.272914 119.691225 \n",
       "z\n",
       "\" style=\"fill:#fa74a6;\"/>\n",
       "   </g>\n",
       "   <g id=\"patch_32\">\n",
       "    <path clip-path=\"url(#p59bde7cf68)\" d=\"M 986.21454 184.345272 \n",
       "C 987.38978 184.345272 988.517044 183.878345 989.348064 183.047324 \n",
       "C 990.179085 182.216304 990.646012 181.08904 990.646012 179.9138 \n",
       "C 990.646012 178.73856 990.179085 177.611296 989.348064 176.780276 \n",
       "C 988.517044 175.949255 987.38978 175.482327 986.21454 175.482327 \n",
       "C 985.0393 175.482327 983.912036 175.949255 983.081016 176.780276 \n",
       "C 982.249995 177.611296 981.783067 178.73856 981.783067 179.9138 \n",
       "C 981.783067 181.08904 982.249995 182.216304 983.081016 183.047324 \n",
       "C 983.912036 183.878345 985.0393 184.345272 986.21454 184.345272 \n",
       "z\n",
       "\" style=\"fill:#bb8bff;stroke:#bb8bff;stroke-linejoin:miter;stroke-width:1.5;\"/>\n",
       "   </g>\n",
       "   <g id=\"patch_33\">\n",
       "    <path clip-path=\"url(#p59bde7cf68)\" d=\"M 971.442965 240.136375 \n",
       "L 1000.986115 240.136375 \n",
       "L 1000.986115 210.593225 \n",
       "L 971.442965 210.593225 \n",
       "z\n",
       "\" style=\"fill:#bb8bff;\"/>\n",
       "   </g>\n",
       "   <g id=\"patch_34\">\n",
       "    <path clip-path=\"url(#p59bde7cf68)\" d=\"M 1054.39104 47.992272 \n",
       "C 1055.56628 47.992272 1056.693544 47.525345 1057.524564 46.694324 \n",
       "C 1058.355585 45.863304 1058.822512 44.73604 1058.822512 43.5608 \n",
       "C 1058.822512 42.38556 1058.355585 41.258296 1057.524564 40.427276 \n",
       "C 1056.693544 39.596255 1055.56628 39.129327 1054.39104 39.129327 \n",
       "C 1053.2158 39.129327 1052.088536 39.596255 1051.257516 40.427276 \n",
       "C 1050.426495 41.258296 1049.959567 42.38556 1049.959567 43.5608 \n",
       "C 1049.959567 44.73604 1050.426495 45.863304 1051.257516 46.694324 \n",
       "C 1052.088536 47.525345 1053.2158 47.992272 1054.39104 47.992272 \n",
       "z\n",
       "\" style=\"fill:#bb8bff;stroke:#bb8bff;stroke-linejoin:miter;stroke-width:1.5;\"/>\n",
       "   </g>\n",
       "   <g id=\"patch_35\">\n",
       "    <path clip-path=\"url(#p59bde7cf68)\" d=\"M 1054.39104 93.443272 \n",
       "C 1055.56628 93.443272 1056.693544 92.976345 1057.524564 92.145324 \n",
       "C 1058.355585 91.314304 1058.822512 90.18704 1058.822512 89.0118 \n",
       "C 1058.822512 87.83656 1058.355585 86.709296 1057.524564 85.878276 \n",
       "C 1056.693544 85.047255 1055.56628 84.580327 1054.39104 84.580327 \n",
       "C 1053.2158 84.580327 1052.088536 85.047255 1051.257516 85.878276 \n",
       "C 1050.426495 86.709296 1049.959567 87.83656 1049.959567 89.0118 \n",
       "C 1049.959567 90.18704 1050.426495 91.314304 1051.257516 92.145324 \n",
       "C 1052.088536 92.976345 1053.2158 93.443272 1054.39104 93.443272 \n",
       "z\n",
       "\" style=\"fill:#bb8bff;stroke:#bb8bff;stroke-linejoin:miter;stroke-width:1.5;\"/>\n",
       "   </g>\n",
       "   <g id=\"patch_36\">\n",
       "    <path clip-path=\"url(#p59bde7cf68)\" d=\"M 1054.39104 235.704902 \n",
       "C 1057.133267 235.704902 1059.763549 234.615404 1061.702597 232.676357 \n",
       "C 1063.641644 230.737309 1064.731142 228.107027 1064.731142 225.3648 \n",
       "C 1064.731142 222.622573 1063.641644 219.992291 1061.702597 218.053243 \n",
       "C 1059.763549 216.114196 1057.133267 215.024697 1054.39104 215.024697 \n",
       "C 1051.648813 215.024697 1049.018531 216.114196 1047.079483 218.053243 \n",
       "C 1045.140436 219.992291 1044.050937 222.622573 1044.050937 225.3648 \n",
       "C 1044.050937 228.107027 1045.140436 230.737309 1047.079483 232.676357 \n",
       "C 1049.018531 234.615404 1051.648813 235.704902 1054.39104 235.704902 \n",
       "z\n",
       "\" style=\"fill:#bb8bff;stroke:#bb8bff;stroke-linejoin:miter;stroke-width:2;\"/>\n",
       "   </g>\n",
       "   <g id=\"patch_37\">\n",
       "    <path clip-path=\"url(#p59bde7cf68)\" d=\"M 1102.625914 194.685375 \n",
       "L 1142.509166 194.685375 \n",
       "L 1142.509166 165.142225 \n",
       "L 1102.625914 165.142225 \n",
       "z\n",
       "\" style=\"fill:#fa74a6;\"/>\n",
       "   </g>\n",
       "   <g id=\"patch_38\">\n",
       "    <path clip-path=\"url(#p59bde7cf68)\" d=\"M 1102.625914 103.783375 \n",
       "L 1142.509166 103.783375 \n",
       "L 1142.509166 74.240225 \n",
       "L 1102.625914 74.240225 \n",
       "z\n",
       "\" style=\"fill:#fa74a6;\"/>\n",
       "   </g>\n",
       "   <g id=\"patch_39\">\n",
       "    <path clip-path=\"url(#p59bde7cf68)\" d=\"M 1190.74404 47.992272 \n",
       "C 1191.91928 47.992272 1193.046544 47.525345 1193.877564 46.694324 \n",
       "C 1194.708585 45.863304 1195.175512 44.73604 1195.175512 43.5608 \n",
       "C 1195.175512 42.38556 1194.708585 41.258296 1193.877564 40.427276 \n",
       "C 1193.046544 39.596255 1191.91928 39.129327 1190.74404 39.129327 \n",
       "C 1189.5688 39.129327 1188.441536 39.596255 1187.610516 40.427276 \n",
       "C 1186.779495 41.258296 1186.312567 42.38556 1186.312567 43.5608 \n",
       "C 1186.312567 44.73604 1186.779495 45.863304 1187.610516 46.694324 \n",
       "C 1188.441536 47.525345 1189.5688 47.992272 1190.74404 47.992272 \n",
       "z\n",
       "\" style=\"fill:#6fa4ff;stroke:#6fa4ff;stroke-linejoin:miter;stroke-width:1.5;\"/>\n",
       "   </g>\n",
       "   <g id=\"patch_40\">\n",
       "    <path clip-path=\"url(#p59bde7cf68)\" d=\"M 1190.74404 99.351902 \n",
       "C 1193.486267 99.351902 1196.116549 98.262404 1198.055597 96.323357 \n",
       "C 1199.994644 94.384309 1201.084142 91.754027 1201.084142 89.0118 \n",
       "C 1201.084142 86.269573 1199.994644 83.639291 1198.055597 81.700243 \n",
       "C 1196.116549 79.761196 1193.486267 78.671697 1190.74404 78.671697 \n",
       "C 1188.001813 78.671697 1185.371531 79.761196 1183.432483 81.700243 \n",
       "C 1181.493436 83.639291 1180.403937 86.269573 1180.403937 89.0118 \n",
       "C 1180.403937 91.754027 1181.493436 94.384309 1183.432483 96.323357 \n",
       "C 1185.371531 98.262404 1188.001813 99.351902 1190.74404 99.351902 \n",
       "z\n",
       "\" style=\"fill:#6fa4ff;stroke:#6fa4ff;stroke-linejoin:miter;stroke-width:2;\"/>\n",
       "   </g>\n",
       "   <g id=\"patch_41\">\n",
       "    <path clip-path=\"url(#p59bde7cf68)\" d=\"M 141.507705 376.489375 \n",
       "L 194.685375 376.489375 \n",
       "L 194.685375 346.946225 \n",
       "L 141.507705 346.946225 \n",
       "z\n",
       "\" style=\"fill:#fa74a6;\"/>\n",
       "   </g>\n",
       "   <g id=\"patch_42\">\n",
       "    <path clip-path=\"url(#p59bde7cf68)\" d=\"M 236.27304 320.698272 \n",
       "C 237.44828 320.698272 238.575544 320.231345 239.406564 319.400324 \n",
       "C 240.237585 318.569304 240.704512 317.44204 240.704512 316.2668 \n",
       "C 240.704512 315.09156 240.237585 313.964296 239.406564 313.133276 \n",
       "C 238.575544 312.302255 237.44828 311.835327 236.27304 311.835327 \n",
       "C 235.0978 311.835327 233.970536 312.302255 233.139516 313.133276 \n",
       "C 232.308495 313.964296 231.841567 315.09156 231.841567 316.2668 \n",
       "C 231.841567 317.44204 232.308495 318.569304 233.139516 319.400324 \n",
       "C 233.970536 320.231345 235.0978 320.698272 236.27304 320.698272 \n",
       "z\n",
       "\" style=\"fill:#6fa4ff;stroke:#6fa4ff;stroke-linejoin:miter;stroke-width:1.5;\"/>\n",
       "   </g>\n",
       "   <g id=\"patch_43\">\n",
       "    <path clip-path=\"url(#p59bde7cf68)\" d=\"M 236.27304 372.057902 \n",
       "C 239.015267 372.057902 241.645549 370.968404 243.584597 369.029357 \n",
       "C 245.523644 367.090309 246.613142 364.460027 246.613142 361.7178 \n",
       "C 246.613142 358.975573 245.523644 356.345291 243.584597 354.406243 \n",
       "C 241.645549 352.467196 239.015267 351.377697 236.27304 351.377697 \n",
       "C 233.530813 351.377697 230.900531 352.467196 228.961483 354.406243 \n",
       "C 227.022436 356.345291 225.932937 358.975573 225.932937 361.7178 \n",
       "C 225.932937 364.460027 227.022436 367.090309 228.961483 369.029357 \n",
       "C 230.900531 370.968404 233.530813 372.057902 236.27304 372.057902 \n",
       "z\n",
       "\" style=\"fill:#6fa4ff;stroke:#6fa4ff;stroke-linejoin:miter;stroke-width:2;\"/>\n",
       "   </g>\n",
       "   <g id=\"patch_44\">\n",
       "    <path clip-path=\"url(#p59bde7cf68)\" d=\"M 281.72404 320.698272 \n",
       "C 282.89928 320.698272 284.026544 320.231345 284.857564 319.400324 \n",
       "C 285.688585 318.569304 286.155512 317.44204 286.155512 316.2668 \n",
       "C 286.155512 315.09156 285.688585 313.964296 284.857564 313.133276 \n",
       "C 284.026544 312.302255 282.89928 311.835327 281.72404 311.835327 \n",
       "C 280.5488 311.835327 279.421536 312.302255 278.590516 313.133276 \n",
       "C 277.759495 313.964296 277.292567 315.09156 277.292567 316.2668 \n",
       "C 277.292567 317.44204 277.759495 318.569304 278.590516 319.400324 \n",
       "C 279.421536 320.231345 280.5488 320.698272 281.72404 320.698272 \n",
       "z\n",
       "\" style=\"fill:#6fa4ff;stroke:#6fa4ff;stroke-linejoin:miter;stroke-width:1.5;\"/>\n",
       "   </g>\n",
       "   <g id=\"patch_45\">\n",
       "    <path clip-path=\"url(#p59bde7cf68)\" d=\"M 281.72404 417.508902 \n",
       "C 284.466267 417.508902 287.096549 416.419404 289.035597 414.480357 \n",
       "C 290.974644 412.541309 292.064142 409.911027 292.064142 407.1688 \n",
       "C 292.064142 404.426573 290.974644 401.796291 289.035597 399.857243 \n",
       "C 287.096549 397.918196 284.466267 396.828697 281.72404 396.828697 \n",
       "C 278.981813 396.828697 276.351531 397.918196 274.412483 399.857243 \n",
       "C 272.473436 401.796291 271.383937 404.426573 271.383937 407.1688 \n",
       "C 271.383937 409.911027 272.473436 412.541309 274.412483 414.480357 \n",
       "C 276.351531 416.419404 278.981813 417.508902 281.72404 417.508902 \n",
       "z\n",
       "\" style=\"fill:#6fa4ff;stroke:#6fa4ff;stroke-linejoin:miter;stroke-width:2;\"/>\n",
       "   </g>\n",
       "   <g id=\"patch_46\">\n",
       "    <path clip-path=\"url(#p59bde7cf68)\" d=\"M 323.311705 421.940375 \n",
       "L 376.489375 421.940375 \n",
       "L 376.489375 392.397225 \n",
       "L 323.311705 392.397225 \n",
       "z\n",
       "\" style=\"fill:#fa74a6;\"/>\n",
       "   </g>\n",
       "   <g id=\"patch_47\">\n",
       "    <path clip-path=\"url(#p59bde7cf68)\" d=\"M 418.07704 320.698272 \n",
       "C 419.25228 320.698272 420.379544 320.231345 421.210564 319.400324 \n",
       "C 422.041585 318.569304 422.508512 317.44204 422.508512 316.2668 \n",
       "C 422.508512 315.09156 422.041585 313.964296 421.210564 313.133276 \n",
       "C 420.379544 312.302255 419.25228 311.835327 418.07704 311.835327 \n",
       "C 416.9018 311.835327 415.774536 312.302255 414.943516 313.133276 \n",
       "C 414.112495 313.964296 413.645567 315.09156 413.645567 316.2668 \n",
       "C 413.645567 317.44204 414.112495 318.569304 414.943516 319.400324 \n",
       "C 415.774536 320.231345 416.9018 320.698272 418.07704 320.698272 \n",
       "z\n",
       "\" style=\"fill:#6fa4ff;stroke:#6fa4ff;stroke-linejoin:miter;stroke-width:1.5;\"/>\n",
       "   </g>\n",
       "   <g id=\"patch_48\">\n",
       "    <path clip-path=\"url(#p59bde7cf68)\" d=\"M 418.07704 417.508902 \n",
       "C 420.819267 417.508902 423.449549 416.419404 425.388597 414.480357 \n",
       "C 427.327644 412.541309 428.417142 409.911027 428.417142 407.1688 \n",
       "C 428.417142 404.426573 427.327644 401.796291 425.388597 399.857243 \n",
       "C 423.449549 397.918196 420.819267 396.828697 418.07704 396.828697 \n",
       "C 415.334813 396.828697 412.704531 397.918196 410.765483 399.857243 \n",
       "C 408.826436 401.796291 407.736937 404.426573 407.736937 407.1688 \n",
       "C 407.736937 409.911027 408.826436 412.541309 410.765483 414.480357 \n",
       "C 412.704531 416.419404 415.334813 417.508902 418.07704 417.508902 \n",
       "z\n",
       "\" style=\"fill:#6fa4ff;stroke:#6fa4ff;stroke-linejoin:miter;stroke-width:2;\"/>\n",
       "   </g>\n",
       "   <g id=\"patch_49\">\n",
       "    <path clip-path=\"url(#p59bde7cf68)\" d=\"M 463.52804 320.698272 \n",
       "C 464.70328 320.698272 465.830544 320.231345 466.661564 319.400324 \n",
       "C 467.492585 318.569304 467.959512 317.44204 467.959512 316.2668 \n",
       "C 467.959512 315.09156 467.492585 313.964296 466.661564 313.133276 \n",
       "C 465.830544 312.302255 464.70328 311.835327 463.52804 311.835327 \n",
       "C 462.3528 311.835327 461.225536 312.302255 460.394516 313.133276 \n",
       "C 459.563495 313.964296 459.096567 315.09156 459.096567 316.2668 \n",
       "C 459.096567 317.44204 459.563495 318.569304 460.394516 319.400324 \n",
       "C 461.225536 320.231345 462.3528 320.698272 463.52804 320.698272 \n",
       "z\n",
       "\" style=\"fill:#6fa4ff;stroke:#6fa4ff;stroke-linejoin:miter;stroke-width:1.5;\"/>\n",
       "   </g>\n",
       "   <g id=\"patch_50\">\n",
       "    <path clip-path=\"url(#p59bde7cf68)\" d=\"M 463.52804 462.959902 \n",
       "C 466.270267 462.959902 468.900549 461.870404 470.839597 459.931357 \n",
       "C 472.778644 457.992309 473.868142 455.362027 473.868142 452.6198 \n",
       "C 473.868142 449.877573 472.778644 447.247291 470.839597 445.308243 \n",
       "C 468.900549 443.369196 466.270267 442.279697 463.52804 442.279697 \n",
       "C 460.785813 442.279697 458.155531 443.369196 456.216483 445.308243 \n",
       "C 454.277436 447.247291 453.187937 449.877573 453.187937 452.6198 \n",
       "C 453.187937 455.362027 454.277436 457.992309 456.216483 459.931357 \n",
       "C 458.155531 461.870404 460.785813 462.959902 463.52804 462.959902 \n",
       "z\n",
       "\" style=\"fill:#6fa4ff;stroke:#6fa4ff;stroke-linejoin:miter;stroke-width:2;\"/>\n",
       "   </g>\n",
       "   <g id=\"patch_51\">\n",
       "    <path clip-path=\"url(#p59bde7cf68)\" d=\"M 505.115705 467.391375 \n",
       "L 558.293375 467.391375 \n",
       "L 558.293375 437.848225 \n",
       "L 505.115705 437.848225 \n",
       "z\n",
       "\" style=\"fill:#fa74a6;\"/>\n",
       "   </g>\n",
       "   <g id=\"patch_52\">\n",
       "    <path clip-path=\"url(#p59bde7cf68)\" d=\"M 599.88104 320.698272 \n",
       "C 601.05628 320.698272 602.183544 320.231345 603.014564 319.400324 \n",
       "C 603.845585 318.569304 604.312512 317.44204 604.312512 316.2668 \n",
       "C 604.312512 315.09156 603.845585 313.964296 603.014564 313.133276 \n",
       "C 602.183544 312.302255 601.05628 311.835327 599.88104 311.835327 \n",
       "C 598.7058 311.835327 597.578536 312.302255 596.747516 313.133276 \n",
       "C 595.916495 313.964296 595.449567 315.09156 595.449567 316.2668 \n",
       "C 595.449567 317.44204 595.916495 318.569304 596.747516 319.400324 \n",
       "C 597.578536 320.231345 598.7058 320.698272 599.88104 320.698272 \n",
       "z\n",
       "\" style=\"fill:#6fa4ff;stroke:#6fa4ff;stroke-linejoin:miter;stroke-width:1.5;\"/>\n",
       "   </g>\n",
       "   <g id=\"patch_53\">\n",
       "    <path clip-path=\"url(#p59bde7cf68)\" d=\"M 599.88104 462.959902 \n",
       "C 602.623267 462.959902 605.253549 461.870404 607.192597 459.931357 \n",
       "C 609.131644 457.992309 610.221142 455.362027 610.221142 452.6198 \n",
       "C 610.221142 449.877573 609.131644 447.247291 607.192597 445.308243 \n",
       "C 605.253549 443.369196 602.623267 442.279697 599.88104 442.279697 \n",
       "C 597.138813 442.279697 594.508531 443.369196 592.569483 445.308243 \n",
       "C 590.630436 447.247291 589.540937 449.877573 589.540937 452.6198 \n",
       "C 589.540937 455.362027 590.630436 457.992309 592.569483 459.931357 \n",
       "C 594.508531 461.870404 597.138813 462.959902 599.88104 462.959902 \n",
       "z\n",
       "\" style=\"fill:#6fa4ff;stroke:#6fa4ff;stroke-linejoin:miter;stroke-width:2;\"/>\n",
       "   </g>\n",
       "   <g id=\"patch_54\">\n",
       "    <path clip-path=\"url(#p59bde7cf68)\" d=\"M 645.33204 320.698272 \n",
       "C 646.50728 320.698272 647.634544 320.231345 648.465564 319.400324 \n",
       "C 649.296585 318.569304 649.763512 317.44204 649.763512 316.2668 \n",
       "C 649.763512 315.09156 649.296585 313.964296 648.465564 313.133276 \n",
       "C 647.634544 312.302255 646.50728 311.835327 645.33204 311.835327 \n",
       "C 644.1568 311.835327 643.029536 312.302255 642.198516 313.133276 \n",
       "C 641.367495 313.964296 640.900567 315.09156 640.900567 316.2668 \n",
       "C 640.900567 317.44204 641.367495 318.569304 642.198516 319.400324 \n",
       "C 643.029536 320.231345 644.1568 320.698272 645.33204 320.698272 \n",
       "z\n",
       "\" style=\"fill:#bb8bff;stroke:#bb8bff;stroke-linejoin:miter;stroke-width:1.5;\"/>\n",
       "   </g>\n",
       "   <g id=\"patch_55\">\n",
       "    <path clip-path=\"url(#p59bde7cf68)\" d=\"M 645.33204 457.051272 \n",
       "C 646.50728 457.051272 647.634544 456.584345 648.465564 455.753324 \n",
       "C 649.296585 454.922304 649.763512 453.79504 649.763512 452.6198 \n",
       "C 649.763512 451.44456 649.296585 450.317296 648.465564 449.486276 \n",
       "C 647.634544 448.655255 646.50728 448.188327 645.33204 448.188327 \n",
       "C 644.1568 448.188327 643.029536 448.655255 642.198516 449.486276 \n",
       "C 641.367495 450.317296 640.900567 451.44456 640.900567 452.6198 \n",
       "C 640.900567 453.79504 641.367495 454.922304 642.198516 455.753324 \n",
       "C 643.029536 456.584345 644.1568 457.051272 645.33204 457.051272 \n",
       "z\n",
       "\" style=\"fill:#bb8bff;stroke:#bb8bff;stroke-linejoin:miter;stroke-width:1.5;\"/>\n",
       "   </g>\n",
       "   <g id=\"patch_56\">\n",
       "    <path clip-path=\"url(#p59bde7cf68)\" d=\"M 645.33204 508.410902 \n",
       "C 648.074267 508.410902 650.704549 507.321404 652.643597 505.382357 \n",
       "C 654.582644 503.443309 655.672142 500.813027 655.672142 498.0708 \n",
       "C 655.672142 495.328573 654.582644 492.698291 652.643597 490.759243 \n",
       "C 650.704549 488.820196 648.074267 487.730697 645.33204 487.730697 \n",
       "C 642.589813 487.730697 639.959531 488.820196 638.020483 490.759243 \n",
       "C 636.081436 492.698291 634.991937 495.328573 634.991937 498.0708 \n",
       "C 634.991937 500.813027 636.081436 503.443309 638.020483 505.382357 \n",
       "C 639.959531 507.321404 642.589813 508.410902 645.33204 508.410902 \n",
       "z\n",
       "\" style=\"fill:#bb8bff;stroke:#bb8bff;stroke-linejoin:miter;stroke-width:2;\"/>\n",
       "   </g>\n",
       "   <g id=\"patch_57\">\n",
       "    <path clip-path=\"url(#p59bde7cf68)\" d=\"M 690.78304 411.600272 \n",
       "C 691.95828 411.600272 693.085544 411.133345 693.916564 410.302324 \n",
       "C 694.747585 409.471304 695.214512 408.34404 695.214512 407.1688 \n",
       "C 695.214512 405.99356 694.747585 404.866296 693.916564 404.035276 \n",
       "C 693.085544 403.204255 691.95828 402.737327 690.78304 402.737327 \n",
       "C 689.6078 402.737327 688.480536 403.204255 687.649516 404.035276 \n",
       "C 686.818495 404.866296 686.351567 405.99356 686.351567 407.1688 \n",
       "C 686.351567 408.34404 686.818495 409.471304 687.649516 410.302324 \n",
       "C 688.480536 411.133345 689.6078 411.600272 690.78304 411.600272 \n",
       "z\n",
       "\" style=\"fill:#bb8bff;stroke:#bb8bff;stroke-linejoin:miter;stroke-width:1.5;\"/>\n",
       "   </g>\n",
       "   <g id=\"patch_58\">\n",
       "    <path clip-path=\"url(#p59bde7cf68)\" d=\"M 676.011465 512.842375 \n",
       "L 705.554615 512.842375 \n",
       "L 705.554615 483.299225 \n",
       "L 676.011465 483.299225 \n",
       "z\n",
       "\" style=\"fill:#bb8bff;\"/>\n",
       "   </g>\n",
       "   <g id=\"patch_59\">\n",
       "    <path clip-path=\"url(#p59bde7cf68)\" d=\"M 736.23404 320.698272 \n",
       "C 737.40928 320.698272 738.536544 320.231345 739.367564 319.400324 \n",
       "C 740.198585 318.569304 740.665512 317.44204 740.665512 316.2668 \n",
       "C 740.665512 315.09156 740.198585 313.964296 739.367564 313.133276 \n",
       "C 738.536544 312.302255 737.40928 311.835327 736.23404 311.835327 \n",
       "C 735.0588 311.835327 733.931536 312.302255 733.100516 313.133276 \n",
       "C 732.269495 313.964296 731.802567 315.09156 731.802567 316.2668 \n",
       "C 731.802567 317.44204 732.269495 318.569304 733.100516 319.400324 \n",
       "C 733.931536 320.231345 735.0588 320.698272 736.23404 320.698272 \n",
       "z\n",
       "\" style=\"fill:#bb8bff;stroke:#bb8bff;stroke-linejoin:miter;stroke-width:1.5;\"/>\n",
       "   </g>\n",
       "   <g id=\"patch_60\">\n",
       "    <path clip-path=\"url(#p59bde7cf68)\" d=\"M 736.23404 457.051272 \n",
       "C 737.40928 457.051272 738.536544 456.584345 739.367564 455.753324 \n",
       "C 740.198585 454.922304 740.665512 453.79504 740.665512 452.6198 \n",
       "C 740.665512 451.44456 740.198585 450.317296 739.367564 449.486276 \n",
       "C 738.536544 448.655255 737.40928 448.188327 736.23404 448.188327 \n",
       "C 735.0588 448.188327 733.931536 448.655255 733.100516 449.486276 \n",
       "C 732.269495 450.317296 731.802567 451.44456 731.802567 452.6198 \n",
       "C 731.802567 453.79504 732.269495 454.922304 733.100516 455.753324 \n",
       "C 733.931536 456.584345 735.0588 457.051272 736.23404 457.051272 \n",
       "z\n",
       "\" style=\"fill:#bb8bff;stroke:#bb8bff;stroke-linejoin:miter;stroke-width:1.5;\"/>\n",
       "   </g>\n",
       "   <g id=\"patch_61\">\n",
       "    <path clip-path=\"url(#p59bde7cf68)\" d=\"M 736.23404 508.410902 \n",
       "C 738.976267 508.410902 741.606549 507.321404 743.545597 505.382357 \n",
       "C 745.484644 503.443309 746.574142 500.813027 746.574142 498.0708 \n",
       "C 746.574142 495.328573 745.484644 492.698291 743.545597 490.759243 \n",
       "C 741.606549 488.820196 738.976267 487.730697 736.23404 487.730697 \n",
       "C 733.491813 487.730697 730.861531 488.820196 728.922483 490.759243 \n",
       "C 726.983436 492.698291 725.893937 495.328573 725.893937 498.0708 \n",
       "C 725.893937 500.813027 726.983436 503.443309 728.922483 505.382357 \n",
       "C 730.861531 507.321404 733.491813 508.410902 736.23404 508.410902 \n",
       "z\n",
       "\" style=\"fill:#bb8bff;stroke:#bb8bff;stroke-linejoin:miter;stroke-width:2;\"/>\n",
       "   </g>\n",
       "   <g id=\"patch_62\">\n",
       "    <path clip-path=\"url(#p59bde7cf68)\" d=\"M 784.468914 421.940375 \n",
       "L 824.352166 421.940375 \n",
       "L 824.352166 392.397225 \n",
       "L 784.468914 392.397225 \n",
       "z\n",
       "\" style=\"fill:#fa74a6;\"/>\n",
       "   </g>\n",
       "   <g id=\"patch_63\">\n",
       "    <path clip-path=\"url(#p59bde7cf68)\" d=\"M 872.58704 320.698272 \n",
       "C 873.76228 320.698272 874.889544 320.231345 875.720564 319.400324 \n",
       "C 876.551585 318.569304 877.018512 317.44204 877.018512 316.2668 \n",
       "C 877.018512 315.09156 876.551585 313.964296 875.720564 313.133276 \n",
       "C 874.889544 312.302255 873.76228 311.835327 872.58704 311.835327 \n",
       "C 871.4118 311.835327 870.284536 312.302255 869.453516 313.133276 \n",
       "C 868.622495 313.964296 868.155567 315.09156 868.155567 316.2668 \n",
       "C 868.155567 317.44204 868.622495 318.569304 869.453516 319.400324 \n",
       "C 870.284536 320.231345 871.4118 320.698272 872.58704 320.698272 \n",
       "z\n",
       "\" style=\"fill:#bb8bff;stroke:#bb8bff;stroke-linejoin:miter;stroke-width:1.5;\"/>\n",
       "   </g>\n",
       "   <g id=\"patch_64\">\n",
       "    <path clip-path=\"url(#p59bde7cf68)\" d=\"M 872.58704 366.149272 \n",
       "C 873.76228 366.149272 874.889544 365.682345 875.720564 364.851324 \n",
       "C 876.551585 364.020304 877.018512 362.89304 877.018512 361.7178 \n",
       "C 877.018512 360.54256 876.551585 359.415296 875.720564 358.584276 \n",
       "C 874.889544 357.753255 873.76228 357.286327 872.58704 357.286327 \n",
       "C 871.4118 357.286327 870.284536 357.753255 869.453516 358.584276 \n",
       "C 868.622495 359.415296 868.155567 360.54256 868.155567 361.7178 \n",
       "C 868.155567 362.89304 868.622495 364.020304 869.453516 364.851324 \n",
       "C 870.284536 365.682345 871.4118 366.149272 872.58704 366.149272 \n",
       "z\n",
       "\" style=\"fill:#bb8bff;stroke:#bb8bff;stroke-linejoin:miter;stroke-width:1.5;\"/>\n",
       "   </g>\n",
       "   <g id=\"patch_65\">\n",
       "    <path clip-path=\"url(#p59bde7cf68)\" d=\"M 872.58704 508.410902 \n",
       "C 875.329267 508.410902 877.959549 507.321404 879.898597 505.382357 \n",
       "C 881.837644 503.443309 882.927142 500.813027 882.927142 498.0708 \n",
       "C 882.927142 495.328573 881.837644 492.698291 879.898597 490.759243 \n",
       "C 877.959549 488.820196 875.329267 487.730697 872.58704 487.730697 \n",
       "C 869.844813 487.730697 867.214531 488.820196 865.275483 490.759243 \n",
       "C 863.336436 492.698291 862.246937 495.328573 862.246937 498.0708 \n",
       "C 862.246937 500.813027 863.336436 503.443309 865.275483 505.382357 \n",
       "C 867.214531 507.321404 869.844813 508.410902 872.58704 508.410902 \n",
       "z\n",
       "\" style=\"fill:#bb8bff;stroke:#bb8bff;stroke-linejoin:miter;stroke-width:2;\"/>\n",
       "   </g>\n",
       "   <g id=\"patch_66\">\n",
       "    <path clip-path=\"url(#p59bde7cf68)\" d=\"M 918.03804 457.051272 \n",
       "C 919.21328 457.051272 920.340544 456.584345 921.171564 455.753324 \n",
       "C 922.002585 454.922304 922.469512 453.79504 922.469512 452.6198 \n",
       "C 922.469512 451.44456 922.002585 450.317296 921.171564 449.486276 \n",
       "C 920.340544 448.655255 919.21328 448.188327 918.03804 448.188327 \n",
       "C 916.8628 448.188327 915.735536 448.655255 914.904516 449.486276 \n",
       "C 914.073495 450.317296 913.606567 451.44456 913.606567 452.6198 \n",
       "C 913.606567 453.79504 914.073495 454.922304 914.904516 455.753324 \n",
       "C 915.735536 456.584345 916.8628 457.051272 918.03804 457.051272 \n",
       "z\n",
       "\" style=\"fill:#bb8bff;stroke:#bb8bff;stroke-linejoin:miter;stroke-width:1.5;\"/>\n",
       "   </g>\n",
       "   <g id=\"patch_67\">\n",
       "    <path clip-path=\"url(#p59bde7cf68)\" d=\"M 903.266465 512.842375 \n",
       "L 932.809615 512.842375 \n",
       "L 932.809615 483.299225 \n",
       "L 903.266465 483.299225 \n",
       "z\n",
       "\" style=\"fill:#bb8bff;\"/>\n",
       "   </g>\n",
       "   <g id=\"patch_68\">\n",
       "    <path clip-path=\"url(#p59bde7cf68)\" d=\"M 963.48904 320.698272 \n",
       "C 964.66428 320.698272 965.791544 320.231345 966.622564 319.400324 \n",
       "C 967.453585 318.569304 967.920512 317.44204 967.920512 316.2668 \n",
       "C 967.920512 315.09156 967.453585 313.964296 966.622564 313.133276 \n",
       "C 965.791544 312.302255 964.66428 311.835327 963.48904 311.835327 \n",
       "C 962.3138 311.835327 961.186536 312.302255 960.355516 313.133276 \n",
       "C 959.524495 313.964296 959.057567 315.09156 959.057567 316.2668 \n",
       "C 959.057567 317.44204 959.524495 318.569304 960.355516 319.400324 \n",
       "C 961.186536 320.231345 962.3138 320.698272 963.48904 320.698272 \n",
       "z\n",
       "\" style=\"fill:#bb8bff;stroke:#bb8bff;stroke-linejoin:miter;stroke-width:1.5;\"/>\n",
       "   </g>\n",
       "   <g id=\"patch_69\">\n",
       "    <path clip-path=\"url(#p59bde7cf68)\" d=\"M 963.48904 366.149272 \n",
       "C 964.66428 366.149272 965.791544 365.682345 966.622564 364.851324 \n",
       "C 967.453585 364.020304 967.920512 362.89304 967.920512 361.7178 \n",
       "C 967.920512 360.54256 967.453585 359.415296 966.622564 358.584276 \n",
       "C 965.791544 357.753255 964.66428 357.286327 963.48904 357.286327 \n",
       "C 962.3138 357.286327 961.186536 357.753255 960.355516 358.584276 \n",
       "C 959.524495 359.415296 959.057567 360.54256 959.057567 361.7178 \n",
       "C 959.057567 362.89304 959.524495 364.020304 960.355516 364.851324 \n",
       "C 961.186536 365.682345 962.3138 366.149272 963.48904 366.149272 \n",
       "z\n",
       "\" style=\"fill:#bb8bff;stroke:#bb8bff;stroke-linejoin:miter;stroke-width:1.5;\"/>\n",
       "   </g>\n",
       "   <g id=\"patch_70\">\n",
       "    <path clip-path=\"url(#p59bde7cf68)\" d=\"M 963.48904 508.410902 \n",
       "C 966.231267 508.410902 968.861549 507.321404 970.800597 505.382357 \n",
       "C 972.739644 503.443309 973.829142 500.813027 973.829142 498.0708 \n",
       "C 973.829142 495.328573 972.739644 492.698291 970.800597 490.759243 \n",
       "C 968.861549 488.820196 966.231267 487.730697 963.48904 487.730697 \n",
       "C 960.746813 487.730697 958.116531 488.820196 956.177483 490.759243 \n",
       "C 954.238436 492.698291 953.148937 495.328573 953.148937 498.0708 \n",
       "C 953.148937 500.813027 954.238436 503.443309 956.177483 505.382357 \n",
       "C 958.116531 507.321404 960.746813 508.410902 963.48904 508.410902 \n",
       "z\n",
       "\" style=\"fill:#bb8bff;stroke:#bb8bff;stroke-linejoin:miter;stroke-width:2;\"/>\n",
       "   </g>\n",
       "   <g id=\"patch_71\">\n",
       "    <path clip-path=\"url(#p59bde7cf68)\" d=\"M 1011.723914 467.391375 \n",
       "L 1051.607166 467.391375 \n",
       "L 1051.607166 437.848225 \n",
       "L 1011.723914 437.848225 \n",
       "z\n",
       "\" style=\"fill:#fa74a6;\"/>\n",
       "   </g>\n",
       "   <g id=\"patch_72\">\n",
       "    <path clip-path=\"url(#p59bde7cf68)\" d=\"M 1011.723914 376.489375 \n",
       "L 1051.607166 376.489375 \n",
       "L 1051.607166 346.946225 \n",
       "L 1011.723914 346.946225 \n",
       "z\n",
       "\" style=\"fill:#fa74a6;\"/>\n",
       "   </g>\n",
       "   <g id=\"patch_73\">\n",
       "    <path clip-path=\"url(#p59bde7cf68)\" d=\"M 1099.84204 320.698272 \n",
       "C 1101.01728 320.698272 1102.144544 320.231345 1102.975564 319.400324 \n",
       "C 1103.806585 318.569304 1104.273512 317.44204 1104.273512 316.2668 \n",
       "C 1104.273512 315.09156 1103.806585 313.964296 1102.975564 313.133276 \n",
       "C 1102.144544 312.302255 1101.01728 311.835327 1099.84204 311.835327 \n",
       "C 1098.6668 311.835327 1097.539536 312.302255 1096.708516 313.133276 \n",
       "C 1095.877495 313.964296 1095.410567 315.09156 1095.410567 316.2668 \n",
       "C 1095.410567 317.44204 1095.877495 318.569304 1096.708516 319.400324 \n",
       "C 1097.539536 320.231345 1098.6668 320.698272 1099.84204 320.698272 \n",
       "z\n",
       "\" style=\"fill:#6fa4ff;stroke:#6fa4ff;stroke-linejoin:miter;stroke-width:1.5;\"/>\n",
       "   </g>\n",
       "   <g id=\"patch_74\">\n",
       "    <path clip-path=\"url(#p59bde7cf68)\" d=\"M 1099.84204 372.057902 \n",
       "C 1102.584267 372.057902 1105.214549 370.968404 1107.153597 369.029357 \n",
       "C 1109.092644 367.090309 1110.182142 364.460027 1110.182142 361.7178 \n",
       "C 1110.182142 358.975573 1109.092644 356.345291 1107.153597 354.406243 \n",
       "C 1105.214549 352.467196 1102.584267 351.377697 1099.84204 351.377697 \n",
       "C 1097.099813 351.377697 1094.469531 352.467196 1092.530483 354.406243 \n",
       "C 1090.591436 356.345291 1089.501937 358.975573 1089.501937 361.7178 \n",
       "C 1089.501937 364.460027 1090.591436 367.090309 1092.530483 369.029357 \n",
       "C 1094.469531 370.968404 1097.099813 372.057902 1099.84204 372.057902 \n",
       "z\n",
       "\" style=\"fill:#6fa4ff;stroke:#6fa4ff;stroke-linejoin:miter;stroke-width:2;\"/>\n",
       "   </g>\n",
       "   <g id=\"patch_75\">\n",
       "    <path clip-path=\"url(#p59bde7cf68)\" d=\"M 1141.429705 376.489375 \n",
       "L 1194.607375 376.489375 \n",
       "L 1194.607375 346.946225 \n",
       "L 1141.429705 346.946225 \n",
       "z\n",
       "\" style=\"fill:#fa74a6;\"/>\n",
       "   </g>\n",
       "   <g id=\"patch_76\">\n",
       "    <path clip-path=\"url(#p59bde7cf68)\" d=\"M 1236.19504 320.698272 \n",
       "C 1237.37028 320.698272 1238.497544 320.231345 1239.328564 319.400324 \n",
       "C 1240.159585 318.569304 1240.626512 317.44204 1240.626512 316.2668 \n",
       "C 1240.626512 315.09156 1240.159585 313.964296 1239.328564 313.133276 \n",
       "C 1238.497544 312.302255 1237.37028 311.835327 1236.19504 311.835327 \n",
       "C 1235.0198 311.835327 1233.892536 312.302255 1233.061516 313.133276 \n",
       "C 1232.230495 313.964296 1231.763567 315.09156 1231.763567 316.2668 \n",
       "C 1231.763567 317.44204 1232.230495 318.569304 1233.061516 319.400324 \n",
       "C 1233.892536 320.231345 1235.0198 320.698272 1236.19504 320.698272 \n",
       "z\n",
       "\" style=\"fill:#6fa4ff;stroke:#6fa4ff;stroke-linejoin:miter;stroke-width:1.5;\"/>\n",
       "   </g>\n",
       "   <g id=\"patch_77\">\n",
       "    <path clip-path=\"url(#p59bde7cf68)\" d=\"M 1236.19504 372.057902 \n",
       "C 1238.937267 372.057902 1241.567549 370.968404 1243.506597 369.029357 \n",
       "C 1245.445644 367.090309 1246.535142 364.460027 1246.535142 361.7178 \n",
       "C 1246.535142 358.975573 1245.445644 356.345291 1243.506597 354.406243 \n",
       "C 1241.567549 352.467196 1238.937267 351.377697 1236.19504 351.377697 \n",
       "C 1233.452813 351.377697 1230.822531 352.467196 1228.883483 354.406243 \n",
       "C 1226.944436 356.345291 1225.854937 358.975573 1225.854937 361.7178 \n",
       "C 1225.854937 364.460027 1226.944436 367.090309 1228.883483 369.029357 \n",
       "C 1230.822531 370.968404 1233.452813 372.057902 1236.19504 372.057902 \n",
       "z\n",
       "\" style=\"fill:#6fa4ff;stroke:#6fa4ff;stroke-linejoin:miter;stroke-width:2;\"/>\n",
       "   </g>\n",
       "   <g id=\"patch_78\">\n",
       "    <path clip-path=\"url(#p59bde7cf68)\" d=\"M 145.37104 593.404272 \n",
       "C 146.54628 593.404272 147.673544 592.937345 148.504564 592.106324 \n",
       "C 149.335585 591.275304 149.802513 590.14804 149.802513 588.9728 \n",
       "C 149.802513 587.79756 149.335585 586.670296 148.504564 585.839276 \n",
       "C 147.673544 585.008255 146.54628 584.541327 145.37104 584.541327 \n",
       "C 144.1958 584.541327 143.068536 585.008255 142.237516 585.839276 \n",
       "C 141.406495 586.670296 140.939567 587.79756 140.939567 588.9728 \n",
       "C 140.939567 590.14804 141.406495 591.275304 142.237516 592.106324 \n",
       "C 143.068536 592.937345 144.1958 593.404272 145.37104 593.404272 \n",
       "z\n",
       "\" style=\"fill:#6fa4ff;stroke:#6fa4ff;stroke-linejoin:miter;stroke-width:1.5;\"/>\n",
       "   </g>\n",
       "   <g id=\"patch_79\">\n",
       "    <path clip-path=\"url(#p59bde7cf68)\" d=\"M 145.37104 690.214902 \n",
       "C 148.113267 690.214902 150.743549 689.125404 152.682597 687.186357 \n",
       "C 154.621644 685.247309 155.711142 682.617027 155.711142 679.8748 \n",
       "C 155.711142 677.132573 154.621644 674.502291 152.682597 672.563243 \n",
       "C 150.743549 670.624196 148.113267 669.534697 145.37104 669.534697 \n",
       "C 142.628813 669.534697 139.998531 670.624196 138.059483 672.563243 \n",
       "C 136.120436 674.502291 135.030937 677.132573 135.030937 679.8748 \n",
       "C 135.030937 682.617027 136.120436 685.247309 138.059483 687.186357 \n",
       "C 139.998531 689.125404 142.628813 690.214902 145.37104 690.214902 \n",
       "z\n",
       "\" style=\"fill:#6fa4ff;stroke:#6fa4ff;stroke-linejoin:miter;stroke-width:2;\"/>\n",
       "   </g>\n",
       "   <g id=\"patch_80\">\n",
       "    <path clip-path=\"url(#p59bde7cf68)\" d=\"M 186.958705 694.646375 \n",
       "L 240.136375 694.646375 \n",
       "L 240.136375 665.103225 \n",
       "L 186.958705 665.103225 \n",
       "z\n",
       "\" style=\"fill:#fa74a6;\"/>\n",
       "   </g>\n",
       "   <g id=\"patch_81\">\n",
       "    <path clip-path=\"url(#p59bde7cf68)\" d=\"M 281.72404 593.404272 \n",
       "C 282.89928 593.404272 284.026544 592.937345 284.857564 592.106324 \n",
       "C 285.688585 591.275304 286.155512 590.14804 286.155512 588.9728 \n",
       "C 286.155512 587.79756 285.688585 586.670296 284.857564 585.839276 \n",
       "C 284.026544 585.008255 282.89928 584.541327 281.72404 584.541327 \n",
       "C 280.5488 584.541327 279.421536 585.008255 278.590516 585.839276 \n",
       "C 277.759495 586.670296 277.292567 587.79756 277.292567 588.9728 \n",
       "C 277.292567 590.14804 277.759495 591.275304 278.590516 592.106324 \n",
       "C 279.421536 592.937345 280.5488 593.404272 281.72404 593.404272 \n",
       "z\n",
       "\" style=\"fill:#6fa4ff;stroke:#6fa4ff;stroke-linejoin:miter;stroke-width:1.5;\"/>\n",
       "   </g>\n",
       "   <g id=\"patch_82\">\n",
       "    <path clip-path=\"url(#p59bde7cf68)\" d=\"M 281.72404 690.214902 \n",
       "C 284.466267 690.214902 287.096549 689.125404 289.035597 687.186357 \n",
       "C 290.974644 685.247309 292.064142 682.617027 292.064142 679.8748 \n",
       "C 292.064142 677.132573 290.974644 674.502291 289.035597 672.563243 \n",
       "C 287.096549 670.624196 284.466267 669.534697 281.72404 669.534697 \n",
       "C 278.981813 669.534697 276.351531 670.624196 274.412483 672.563243 \n",
       "C 272.473436 674.502291 271.383937 677.132573 271.383937 679.8748 \n",
       "C 271.383937 682.617027 272.473436 685.247309 274.412483 687.186357 \n",
       "C 276.351531 689.125404 278.981813 690.214902 281.72404 690.214902 \n",
       "z\n",
       "\" style=\"fill:#6fa4ff;stroke:#6fa4ff;stroke-linejoin:miter;stroke-width:2;\"/>\n",
       "   </g>\n",
       "   <g id=\"patch_83\">\n",
       "    <path clip-path=\"url(#p59bde7cf68)\" d=\"M 327.17504 593.404272 \n",
       "C 328.35028 593.404272 329.477544 592.937345 330.308564 592.106324 \n",
       "C 331.139585 591.275304 331.606512 590.14804 331.606512 588.9728 \n",
       "C 331.606512 587.79756 331.139585 586.670296 330.308564 585.839276 \n",
       "C 329.477544 585.008255 328.35028 584.541327 327.17504 584.541327 \n",
       "C 325.9998 584.541327 324.872536 585.008255 324.041516 585.839276 \n",
       "C 323.210495 586.670296 322.743567 587.79756 322.743567 588.9728 \n",
       "C 322.743567 590.14804 323.210495 591.275304 324.041516 592.106324 \n",
       "C 324.872536 592.937345 325.9998 593.404272 327.17504 593.404272 \n",
       "z\n",
       "\" style=\"fill:#6fa4ff;stroke:#6fa4ff;stroke-linejoin:miter;stroke-width:1.5;\"/>\n",
       "   </g>\n",
       "   <g id=\"patch_84\">\n",
       "    <path clip-path=\"url(#p59bde7cf68)\" d=\"M 327.17504 735.665902 \n",
       "C 329.917267 735.665902 332.547549 734.576404 334.486597 732.637357 \n",
       "C 336.425644 730.698309 337.515142 728.068027 337.515142 725.3258 \n",
       "C 337.515142 722.583573 336.425644 719.953291 334.486597 718.014243 \n",
       "C 332.547549 716.075196 329.917267 714.985697 327.17504 714.985697 \n",
       "C 324.432813 714.985697 321.802531 716.075196 319.863483 718.014243 \n",
       "C 317.924436 719.953291 316.834937 722.583573 316.834937 725.3258 \n",
       "C 316.834937 728.068027 317.924436 730.698309 319.863483 732.637357 \n",
       "C 321.802531 734.576404 324.432813 735.665902 327.17504 735.665902 \n",
       "z\n",
       "\" style=\"fill:#6fa4ff;stroke:#6fa4ff;stroke-linejoin:miter;stroke-width:2;\"/>\n",
       "   </g>\n",
       "   <g id=\"patch_85\">\n",
       "    <path clip-path=\"url(#p59bde7cf68)\" d=\"M 368.762705 740.097375 \n",
       "L 421.940375 740.097375 \n",
       "L 421.940375 710.554225 \n",
       "L 368.762705 710.554225 \n",
       "z\n",
       "\" style=\"fill:#fa74a6;\"/>\n",
       "   </g>\n",
       "   <g id=\"patch_86\">\n",
       "    <path clip-path=\"url(#p59bde7cf68)\" d=\"M 463.52804 593.404272 \n",
       "C 464.70328 593.404272 465.830544 592.937345 466.661564 592.106324 \n",
       "C 467.492585 591.275304 467.959512 590.14804 467.959512 588.9728 \n",
       "C 467.959512 587.79756 467.492585 586.670296 466.661564 585.839276 \n",
       "C 465.830544 585.008255 464.70328 584.541327 463.52804 584.541327 \n",
       "C 462.3528 584.541327 461.225536 585.008255 460.394516 585.839276 \n",
       "C 459.563495 586.670296 459.096567 587.79756 459.096567 588.9728 \n",
       "C 459.096567 590.14804 459.563495 591.275304 460.394516 592.106324 \n",
       "C 461.225536 592.937345 462.3528 593.404272 463.52804 593.404272 \n",
       "z\n",
       "\" style=\"fill:#6fa4ff;stroke:#6fa4ff;stroke-linejoin:miter;stroke-width:1.5;\"/>\n",
       "   </g>\n",
       "   <g id=\"patch_87\">\n",
       "    <path clip-path=\"url(#p59bde7cf68)\" d=\"M 463.52804 735.665902 \n",
       "C 466.270267 735.665902 468.900549 734.576404 470.839597 732.637357 \n",
       "C 472.778644 730.698309 473.868142 728.068027 473.868142 725.3258 \n",
       "C 473.868142 722.583573 472.778644 719.953291 470.839597 718.014243 \n",
       "C 468.900549 716.075196 466.270267 714.985697 463.52804 714.985697 \n",
       "C 460.785813 714.985697 458.155531 716.075196 456.216483 718.014243 \n",
       "C 454.277436 719.953291 453.187937 722.583573 453.187937 725.3258 \n",
       "C 453.187937 728.068027 454.277436 730.698309 456.216483 732.637357 \n",
       "C 458.155531 734.576404 460.785813 735.665902 463.52804 735.665902 \n",
       "z\n",
       "\" style=\"fill:#6fa4ff;stroke:#6fa4ff;stroke-linejoin:miter;stroke-width:2;\"/>\n",
       "   </g>\n",
       "   <g id=\"line2d_54\">\n",
       "    <path clip-path=\"url(#p59bde7cf68)\" d=\"M 236.27304 94.92043 \n",
       "L 236.27304 83.10317 \n",
       "\" style=\"fill:none;stroke:#ffffff;stroke-linecap:square;stroke-width:2;\"/>\n",
       "   </g>\n",
       "   <g id=\"line2d_55\">\n",
       "    <path clip-path=\"url(#p59bde7cf68)\" d=\"M 230.36441 89.0118 \n",
       "L 242.18167 89.0118 \n",
       "\" style=\"fill:none;stroke:#ffffff;stroke-linecap:square;stroke-width:2;\"/>\n",
       "   </g>\n",
       "   <g id=\"line2d_56\">\n",
       "    <path clip-path=\"url(#p59bde7cf68)\" d=\"M 372.62604 94.92043 \n",
       "L 372.62604 83.10317 \n",
       "\" style=\"fill:none;stroke:#ffffff;stroke-linecap:square;stroke-width:2;\"/>\n",
       "   </g>\n",
       "   <g id=\"line2d_57\">\n",
       "    <path clip-path=\"url(#p59bde7cf68)\" d=\"M 366.71741 89.0118 \n",
       "L 378.53467 89.0118 \n",
       "\" style=\"fill:none;stroke:#ffffff;stroke-linecap:square;stroke-width:2;\"/>\n",
       "   </g>\n",
       "   <g id=\"line2d_58\">\n",
       "    <path clip-path=\"url(#p59bde7cf68)\" d=\"M 418.07704 140.37143 \n",
       "L 418.07704 128.55417 \n",
       "\" style=\"fill:none;stroke:#ffffff;stroke-linecap:square;stroke-width:2;\"/>\n",
       "   </g>\n",
       "   <g id=\"line2d_59\">\n",
       "    <path clip-path=\"url(#p59bde7cf68)\" d=\"M 412.16841 134.4628 \n",
       "L 423.98567 134.4628 \n",
       "\" style=\"fill:none;stroke:#ffffff;stroke-linecap:square;stroke-width:2;\"/>\n",
       "   </g>\n",
       "   <g id=\"line2d_60\">\n",
       "    <path clip-path=\"url(#p59bde7cf68)\" d=\"M 554.43004 140.37143 \n",
       "L 554.43004 128.55417 \n",
       "\" style=\"fill:none;stroke:#ffffff;stroke-linecap:square;stroke-width:2;\"/>\n",
       "   </g>\n",
       "   <g id=\"line2d_61\">\n",
       "    <path clip-path=\"url(#p59bde7cf68)\" d=\"M 548.52141 134.4628 \n",
       "L 560.33867 134.4628 \n",
       "\" style=\"fill:none;stroke:#ffffff;stroke-linecap:square;stroke-width:2;\"/>\n",
       "   </g>\n",
       "   <g id=\"line2d_62\">\n",
       "    <path clip-path=\"url(#p59bde7cf68)\" d=\"M 599.88104 185.82243 \n",
       "L 599.88104 174.00517 \n",
       "\" style=\"fill:none;stroke:#ffffff;stroke-linecap:square;stroke-width:2;\"/>\n",
       "   </g>\n",
       "   <g id=\"line2d_63\">\n",
       "    <path clip-path=\"url(#p59bde7cf68)\" d=\"M 593.97241 179.9138 \n",
       "L 605.78967 179.9138 \n",
       "\" style=\"fill:none;stroke:#ffffff;stroke-linecap:square;stroke-width:2;\"/>\n",
       "   </g>\n",
       "   <g id=\"line2d_64\">\n",
       "    <path clip-path=\"url(#p59bde7cf68)\" d=\"M 736.23404 185.82243 \n",
       "L 736.23404 174.00517 \n",
       "\" style=\"fill:none;stroke:#ffffff;stroke-linecap:square;stroke-width:2;\"/>\n",
       "   </g>\n",
       "   <g id=\"line2d_65\">\n",
       "    <path clip-path=\"url(#p59bde7cf68)\" d=\"M 730.32541 179.9138 \n",
       "L 742.14267 179.9138 \n",
       "\" style=\"fill:none;stroke:#ffffff;stroke-linecap:square;stroke-width:2;\"/>\n",
       "   </g>\n",
       "   <g id=\"line2d_66\">\n",
       "    <path clip-path=\"url(#p59bde7cf68)\" d=\"M 781.68504 231.27343 \n",
       "L 781.68504 219.45617 \n",
       "\" style=\"fill:none;stroke:#ffffff;stroke-linecap:square;stroke-width:2;\"/>\n",
       "   </g>\n",
       "   <g id=\"line2d_67\">\n",
       "    <path clip-path=\"url(#p59bde7cf68)\" d=\"M 775.77641 225.3648 \n",
       "L 787.59367 225.3648 \n",
       "\" style=\"fill:none;stroke:#ffffff;stroke-linecap:square;stroke-width:2;\"/>\n",
       "   </g>\n",
       "   <g id=\"line2d_68\">\n",
       "    <path clip-path=\"url(#p59bde7cf68)\" d=\"M 872.58704 231.27343 \n",
       "L 872.58704 219.45617 \n",
       "\" style=\"fill:none;stroke:#ffffff;stroke-linecap:square;stroke-width:2;\"/>\n",
       "   </g>\n",
       "   <g id=\"line2d_69\">\n",
       "    <path clip-path=\"url(#p59bde7cf68)\" d=\"M 866.67841 225.3648 \n",
       "L 878.49567 225.3648 \n",
       "\" style=\"fill:none;stroke:#ffffff;stroke-linecap:square;stroke-width:2;\"/>\n",
       "   </g>\n",
       "   <g id=\"line2d_70\">\n",
       "    <path clip-path=\"url(#p59bde7cf68)\" d=\"M 918.03804 231.27343 \n",
       "L 918.03804 219.45617 \n",
       "\" style=\"fill:none;stroke:#ffffff;stroke-linecap:square;stroke-width:2;\"/>\n",
       "   </g>\n",
       "   <g id=\"line2d_71\">\n",
       "    <path clip-path=\"url(#p59bde7cf68)\" d=\"M 912.12941 225.3648 \n",
       "L 923.94667 225.3648 \n",
       "\" style=\"fill:none;stroke:#ffffff;stroke-linecap:square;stroke-width:2;\"/>\n",
       "   </g>\n",
       "   <g id=\"line2d_72\">\n",
       "    <path clip-path=\"url(#p59bde7cf68)\" d=\"M 1054.39104 231.27343 \n",
       "L 1054.39104 219.45617 \n",
       "\" style=\"fill:none;stroke:#ffffff;stroke-linecap:square;stroke-width:2;\"/>\n",
       "   </g>\n",
       "   <g id=\"line2d_73\">\n",
       "    <path clip-path=\"url(#p59bde7cf68)\" d=\"M 1048.48241 225.3648 \n",
       "L 1060.29967 225.3648 \n",
       "\" style=\"fill:none;stroke:#ffffff;stroke-linecap:square;stroke-width:2;\"/>\n",
       "   </g>\n",
       "   <g id=\"line2d_74\">\n",
       "    <path clip-path=\"url(#p59bde7cf68)\" d=\"M 1190.74404 94.92043 \n",
       "L 1190.74404 83.10317 \n",
       "\" style=\"fill:none;stroke:#ffffff;stroke-linecap:square;stroke-width:2;\"/>\n",
       "   </g>\n",
       "   <g id=\"line2d_75\">\n",
       "    <path clip-path=\"url(#p59bde7cf68)\" d=\"M 1184.83541 89.0118 \n",
       "L 1196.65267 89.0118 \n",
       "\" style=\"fill:none;stroke:#ffffff;stroke-linecap:square;stroke-width:2;\"/>\n",
       "   </g>\n",
       "   <g id=\"line2d_76\">\n",
       "    <path clip-path=\"url(#p59bde7cf68)\" d=\"M 236.27304 367.62643 \n",
       "L 236.27304 355.80917 \n",
       "\" style=\"fill:none;stroke:#ffffff;stroke-linecap:square;stroke-width:2;\"/>\n",
       "   </g>\n",
       "   <g id=\"line2d_77\">\n",
       "    <path clip-path=\"url(#p59bde7cf68)\" d=\"M 230.36441 361.7178 \n",
       "L 242.18167 361.7178 \n",
       "\" style=\"fill:none;stroke:#ffffff;stroke-linecap:square;stroke-width:2;\"/>\n",
       "   </g>\n",
       "   <g id=\"line2d_78\">\n",
       "    <path clip-path=\"url(#p59bde7cf68)\" d=\"M 281.72404 413.07743 \n",
       "L 281.72404 401.26017 \n",
       "\" style=\"fill:none;stroke:#ffffff;stroke-linecap:square;stroke-width:2;\"/>\n",
       "   </g>\n",
       "   <g id=\"line2d_79\">\n",
       "    <path clip-path=\"url(#p59bde7cf68)\" d=\"M 275.81541 407.1688 \n",
       "L 287.63267 407.1688 \n",
       "\" style=\"fill:none;stroke:#ffffff;stroke-linecap:square;stroke-width:2;\"/>\n",
       "   </g>\n",
       "   <g id=\"line2d_80\">\n",
       "    <path clip-path=\"url(#p59bde7cf68)\" d=\"M 418.07704 413.07743 \n",
       "L 418.07704 401.26017 \n",
       "\" style=\"fill:none;stroke:#ffffff;stroke-linecap:square;stroke-width:2;\"/>\n",
       "   </g>\n",
       "   <g id=\"line2d_81\">\n",
       "    <path clip-path=\"url(#p59bde7cf68)\" d=\"M 412.16841 407.1688 \n",
       "L 423.98567 407.1688 \n",
       "\" style=\"fill:none;stroke:#ffffff;stroke-linecap:square;stroke-width:2;\"/>\n",
       "   </g>\n",
       "   <g id=\"line2d_82\">\n",
       "    <path clip-path=\"url(#p59bde7cf68)\" d=\"M 463.52804 458.52843 \n",
       "L 463.52804 446.71117 \n",
       "\" style=\"fill:none;stroke:#ffffff;stroke-linecap:square;stroke-width:2;\"/>\n",
       "   </g>\n",
       "   <g id=\"line2d_83\">\n",
       "    <path clip-path=\"url(#p59bde7cf68)\" d=\"M 457.61941 452.6198 \n",
       "L 469.43667 452.6198 \n",
       "\" style=\"fill:none;stroke:#ffffff;stroke-linecap:square;stroke-width:2;\"/>\n",
       "   </g>\n",
       "   <g id=\"line2d_84\">\n",
       "    <path clip-path=\"url(#p59bde7cf68)\" d=\"M 599.88104 458.52843 \n",
       "L 599.88104 446.71117 \n",
       "\" style=\"fill:none;stroke:#ffffff;stroke-linecap:square;stroke-width:2;\"/>\n",
       "   </g>\n",
       "   <g id=\"line2d_85\">\n",
       "    <path clip-path=\"url(#p59bde7cf68)\" d=\"M 593.97241 452.6198 \n",
       "L 605.78967 452.6198 \n",
       "\" style=\"fill:none;stroke:#ffffff;stroke-linecap:square;stroke-width:2;\"/>\n",
       "   </g>\n",
       "   <g id=\"line2d_86\">\n",
       "    <path clip-path=\"url(#p59bde7cf68)\" d=\"M 645.33204 503.97943 \n",
       "L 645.33204 492.16217 \n",
       "\" style=\"fill:none;stroke:#ffffff;stroke-linecap:square;stroke-width:2;\"/>\n",
       "   </g>\n",
       "   <g id=\"line2d_87\">\n",
       "    <path clip-path=\"url(#p59bde7cf68)\" d=\"M 639.42341 498.0708 \n",
       "L 651.24067 498.0708 \n",
       "\" style=\"fill:none;stroke:#ffffff;stroke-linecap:square;stroke-width:2;\"/>\n",
       "   </g>\n",
       "   <g id=\"line2d_88\">\n",
       "    <path clip-path=\"url(#p59bde7cf68)\" d=\"M 736.23404 503.97943 \n",
       "L 736.23404 492.16217 \n",
       "\" style=\"fill:none;stroke:#ffffff;stroke-linecap:square;stroke-width:2;\"/>\n",
       "   </g>\n",
       "   <g id=\"line2d_89\">\n",
       "    <path clip-path=\"url(#p59bde7cf68)\" d=\"M 730.32541 498.0708 \n",
       "L 742.14267 498.0708 \n",
       "\" style=\"fill:none;stroke:#ffffff;stroke-linecap:square;stroke-width:2;\"/>\n",
       "   </g>\n",
       "   <g id=\"line2d_90\">\n",
       "    <path clip-path=\"url(#p59bde7cf68)\" d=\"M 872.58704 503.97943 \n",
       "L 872.58704 492.16217 \n",
       "\" style=\"fill:none;stroke:#ffffff;stroke-linecap:square;stroke-width:2;\"/>\n",
       "   </g>\n",
       "   <g id=\"line2d_91\">\n",
       "    <path clip-path=\"url(#p59bde7cf68)\" d=\"M 866.67841 498.0708 \n",
       "L 878.49567 498.0708 \n",
       "\" style=\"fill:none;stroke:#ffffff;stroke-linecap:square;stroke-width:2;\"/>\n",
       "   </g>\n",
       "   <g id=\"line2d_92\">\n",
       "    <path clip-path=\"url(#p59bde7cf68)\" d=\"M 963.48904 503.97943 \n",
       "L 963.48904 492.16217 \n",
       "\" style=\"fill:none;stroke:#ffffff;stroke-linecap:square;stroke-width:2;\"/>\n",
       "   </g>\n",
       "   <g id=\"line2d_93\">\n",
       "    <path clip-path=\"url(#p59bde7cf68)\" d=\"M 957.58041 498.0708 \n",
       "L 969.39767 498.0708 \n",
       "\" style=\"fill:none;stroke:#ffffff;stroke-linecap:square;stroke-width:2;\"/>\n",
       "   </g>\n",
       "   <g id=\"line2d_94\">\n",
       "    <path clip-path=\"url(#p59bde7cf68)\" d=\"M 1099.84204 367.62643 \n",
       "L 1099.84204 355.80917 \n",
       "\" style=\"fill:none;stroke:#ffffff;stroke-linecap:square;stroke-width:2;\"/>\n",
       "   </g>\n",
       "   <g id=\"line2d_95\">\n",
       "    <path clip-path=\"url(#p59bde7cf68)\" d=\"M 1093.93341 361.7178 \n",
       "L 1105.75067 361.7178 \n",
       "\" style=\"fill:none;stroke:#ffffff;stroke-linecap:square;stroke-width:2;\"/>\n",
       "   </g>\n",
       "   <g id=\"line2d_96\">\n",
       "    <path clip-path=\"url(#p59bde7cf68)\" d=\"M 1236.19504 367.62643 \n",
       "L 1236.19504 355.80917 \n",
       "\" style=\"fill:none;stroke:#ffffff;stroke-linecap:square;stroke-width:2;\"/>\n",
       "   </g>\n",
       "   <g id=\"line2d_97\">\n",
       "    <path clip-path=\"url(#p59bde7cf68)\" d=\"M 1230.28641 361.7178 \n",
       "L 1242.10367 361.7178 \n",
       "\" style=\"fill:none;stroke:#ffffff;stroke-linecap:square;stroke-width:2;\"/>\n",
       "   </g>\n",
       "   <g id=\"line2d_98\">\n",
       "    <path clip-path=\"url(#p59bde7cf68)\" d=\"M 145.37104 685.78343 \n",
       "L 145.37104 673.96617 \n",
       "\" style=\"fill:none;stroke:#ffffff;stroke-linecap:square;stroke-width:2;\"/>\n",
       "   </g>\n",
       "   <g id=\"line2d_99\">\n",
       "    <path clip-path=\"url(#p59bde7cf68)\" d=\"M 139.46241 679.8748 \n",
       "L 151.27967 679.8748 \n",
       "\" style=\"fill:none;stroke:#ffffff;stroke-linecap:square;stroke-width:2;\"/>\n",
       "   </g>\n",
       "   <g id=\"line2d_100\">\n",
       "    <path clip-path=\"url(#p59bde7cf68)\" d=\"M 281.72404 685.78343 \n",
       "L 281.72404 673.96617 \n",
       "\" style=\"fill:none;stroke:#ffffff;stroke-linecap:square;stroke-width:2;\"/>\n",
       "   </g>\n",
       "   <g id=\"line2d_101\">\n",
       "    <path clip-path=\"url(#p59bde7cf68)\" d=\"M 275.81541 679.8748 \n",
       "L 287.63267 679.8748 \n",
       "\" style=\"fill:none;stroke:#ffffff;stroke-linecap:square;stroke-width:2;\"/>\n",
       "   </g>\n",
       "   <g id=\"line2d_102\">\n",
       "    <path clip-path=\"url(#p59bde7cf68)\" d=\"M 327.17504 731.23443 \n",
       "L 327.17504 719.41717 \n",
       "\" style=\"fill:none;stroke:#ffffff;stroke-linecap:square;stroke-width:2;\"/>\n",
       "   </g>\n",
       "   <g id=\"line2d_103\">\n",
       "    <path clip-path=\"url(#p59bde7cf68)\" d=\"M 321.26641 725.3258 \n",
       "L 333.08367 725.3258 \n",
       "\" style=\"fill:none;stroke:#ffffff;stroke-linecap:square;stroke-width:2;\"/>\n",
       "   </g>\n",
       "   <g id=\"line2d_104\">\n",
       "    <path clip-path=\"url(#p59bde7cf68)\" d=\"M 463.52804 731.23443 \n",
       "L 463.52804 719.41717 \n",
       "\" style=\"fill:none;stroke:#ffffff;stroke-linecap:square;stroke-width:2;\"/>\n",
       "   </g>\n",
       "   <g id=\"line2d_105\">\n",
       "    <path clip-path=\"url(#p59bde7cf68)\" d=\"M 457.61941 725.3258 \n",
       "L 469.43667 725.3258 \n",
       "\" style=\"fill:none;stroke:#ffffff;stroke-linecap:square;stroke-width:2;\"/>\n",
       "   </g>\n",
       "   <g id=\"text_1\">\n",
       "    <g clip-path=\"url(#p59bde7cf68)\">\n",
       "     <!-- $U_3$ -->\n",
       "     <defs>\n",
       "      <path d=\"M 15.484375 72.90625 \n",
       "L 25.390625 72.90625 \n",
       "L 16.796875 28.609375 \n",
       "Q 16.265625 25.640625 16.046875 23.703125 \n",
       "Q 15.828125 21.78125 15.828125 20.3125 \n",
       "Q 15.828125 13.578125 19.578125 10.078125 \n",
       "Q 23.34375 6.59375 30.609375 6.59375 \n",
       "Q 40.046875 6.59375 45.28125 11.765625 \n",
       "Q 50.53125 16.9375 52.78125 28.609375 \n",
       "L 61.375 72.90625 \n",
       "L 71.296875 72.90625 \n",
       "L 62.5 27.390625 \n",
       "Q 59.625 12.640625 51.5625 5.609375 \n",
       "Q 43.5 -1.421875 29.5 -1.421875 \n",
       "Q 18.5625 -1.421875 12.1875 4.078125 \n",
       "Q 5.8125 9.578125 5.8125 19 \n",
       "Q 5.8125 20.703125 6.046875 22.828125 \n",
       "Q 6.296875 24.953125 6.78125 27.390625 \n",
       "z\n",
       "\" id=\"DejaVuSans-Oblique-85\"/>\n",
       "      <path d=\"M 40.578125 39.3125 \n",
       "Q 47.65625 37.796875 51.625 33 \n",
       "Q 55.609375 28.21875 55.609375 21.1875 \n",
       "Q 55.609375 10.40625 48.1875 4.484375 \n",
       "Q 40.765625 -1.421875 27.09375 -1.421875 \n",
       "Q 22.515625 -1.421875 17.65625 -0.515625 \n",
       "Q 12.796875 0.390625 7.625 2.203125 \n",
       "L 7.625 11.71875 \n",
       "Q 11.71875 9.328125 16.59375 8.109375 \n",
       "Q 21.484375 6.890625 26.8125 6.890625 \n",
       "Q 36.078125 6.890625 40.9375 10.546875 \n",
       "Q 45.796875 14.203125 45.796875 21.1875 \n",
       "Q 45.796875 27.640625 41.28125 31.265625 \n",
       "Q 36.765625 34.90625 28.71875 34.90625 \n",
       "L 20.21875 34.90625 \n",
       "L 20.21875 43.015625 \n",
       "L 29.109375 43.015625 \n",
       "Q 36.375 43.015625 40.234375 45.921875 \n",
       "Q 44.09375 48.828125 44.09375 54.296875 \n",
       "Q 44.09375 59.90625 40.109375 62.90625 \n",
       "Q 36.140625 65.921875 28.71875 65.921875 \n",
       "Q 24.65625 65.921875 20.015625 65.03125 \n",
       "Q 15.375 64.15625 9.8125 62.3125 \n",
       "L 9.8125 71.09375 \n",
       "Q 15.4375 72.65625 20.34375 73.4375 \n",
       "Q 25.25 74.21875 29.59375 74.21875 \n",
       "Q 40.828125 74.21875 47.359375 69.109375 \n",
       "Q 53.90625 64.015625 53.90625 55.328125 \n",
       "Q 53.90625 49.265625 50.4375 45.09375 \n",
       "Q 46.96875 40.921875 40.578125 39.3125 \n",
       "z\n",
       "\" id=\"DejaVuSans-51\"/>\n",
       "     </defs>\n",
       "     <g transform=\"translate(160.23154 88.167515)scale(0.13 -0.13)\">\n",
       "      <use transform=\"translate(0 0.09375)\" xlink:href=\"#DejaVuSans-Oblique-85\"/>\n",
       "      <use transform=\"translate(73.193359 -16.3125)scale(0.7)\" xlink:href=\"#DejaVuSans-51\"/>\n",
       "     </g>\n",
       "    </g>\n",
       "   </g>\n",
       "   <g id=\"text_2\">\n",
       "    <g clip-path=\"url(#p59bde7cf68)\">\n",
       "     <!-- 0.5, 0, 0 -->\n",
       "     <defs>\n",
       "      <path d=\"M 31.78125 66.40625 \n",
       "Q 24.171875 66.40625 20.328125 58.90625 \n",
       "Q 16.5 51.421875 16.5 36.375 \n",
       "Q 16.5 21.390625 20.328125 13.890625 \n",
       "Q 24.171875 6.390625 31.78125 6.390625 \n",
       "Q 39.453125 6.390625 43.28125 13.890625 \n",
       "Q 47.125 21.390625 47.125 36.375 \n",
       "Q 47.125 51.421875 43.28125 58.90625 \n",
       "Q 39.453125 66.40625 31.78125 66.40625 \n",
       "z\n",
       "M 31.78125 74.21875 \n",
       "Q 44.046875 74.21875 50.515625 64.515625 \n",
       "Q 56.984375 54.828125 56.984375 36.375 \n",
       "Q 56.984375 17.96875 50.515625 8.265625 \n",
       "Q 44.046875 -1.421875 31.78125 -1.421875 \n",
       "Q 19.53125 -1.421875 13.0625 8.265625 \n",
       "Q 6.59375 17.96875 6.59375 36.375 \n",
       "Q 6.59375 54.828125 13.0625 64.515625 \n",
       "Q 19.53125 74.21875 31.78125 74.21875 \n",
       "z\n",
       "\" id=\"DejaVuSans-48\"/>\n",
       "      <path d=\"M 10.6875 12.40625 \n",
       "L 21 12.40625 \n",
       "L 21 0 \n",
       "L 10.6875 0 \n",
       "z\n",
       "\" id=\"DejaVuSans-46\"/>\n",
       "      <path d=\"M 10.796875 72.90625 \n",
       "L 49.515625 72.90625 \n",
       "L 49.515625 64.59375 \n",
       "L 19.828125 64.59375 \n",
       "L 19.828125 46.734375 \n",
       "Q 21.96875 47.46875 24.109375 47.828125 \n",
       "Q 26.265625 48.1875 28.421875 48.1875 \n",
       "Q 40.625 48.1875 47.75 41.5 \n",
       "Q 54.890625 34.8125 54.890625 23.390625 \n",
       "Q 54.890625 11.625 47.5625 5.09375 \n",
       "Q 40.234375 -1.421875 26.90625 -1.421875 \n",
       "Q 22.3125 -1.421875 17.546875 -0.640625 \n",
       "Q 12.796875 0.140625 7.71875 1.703125 \n",
       "L 7.71875 11.625 \n",
       "Q 12.109375 9.234375 16.796875 8.0625 \n",
       "Q 21.484375 6.890625 26.703125 6.890625 \n",
       "Q 35.15625 6.890625 40.078125 11.328125 \n",
       "Q 45.015625 15.765625 45.015625 23.390625 \n",
       "Q 45.015625 31 40.078125 35.4375 \n",
       "Q 35.15625 39.890625 26.703125 39.890625 \n",
       "Q 22.75 39.890625 18.8125 39.015625 \n",
       "Q 14.890625 38.140625 10.796875 36.28125 \n",
       "z\n",
       "\" id=\"DejaVuSans-53\"/>\n",
       "      <path d=\"M 11.71875 12.40625 \n",
       "L 22.015625 12.40625 \n",
       "L 22.015625 4 \n",
       "L 14.015625 -11.625 \n",
       "L 7.71875 -11.625 \n",
       "L 11.71875 4 \n",
       "z\n",
       "\" id=\"DejaVuSans-44\"/>\n",
       "      <path id=\"DejaVuSans-32\"/>\n",
       "     </defs>\n",
       "     <g transform=\"translate(151.56029 100.082245)scale(0.08 -0.08)\">\n",
       "      <use xlink:href=\"#DejaVuSans-48\"/>\n",
       "      <use x=\"63.623047\" xlink:href=\"#DejaVuSans-46\"/>\n",
       "      <use x=\"95.410156\" xlink:href=\"#DejaVuSans-53\"/>\n",
       "      <use x=\"159.033203\" xlink:href=\"#DejaVuSans-44\"/>\n",
       "      <use x=\"190.820312\" xlink:href=\"#DejaVuSans-32\"/>\n",
       "      <use x=\"222.607422\" xlink:href=\"#DejaVuSans-48\"/>\n",
       "      <use x=\"286.230469\" xlink:href=\"#DejaVuSans-44\"/>\n",
       "      <use x=\"318.017578\" xlink:href=\"#DejaVuSans-32\"/>\n",
       "      <use x=\"349.804688\" xlink:href=\"#DejaVuSans-48\"/>\n",
       "     </g>\n",
       "    </g>\n",
       "   </g>\n",
       "   <g id=\"text_3\">\n",
       "    <g clip-path=\"url(#p59bde7cf68)\">\n",
       "     <!-- $U_3$ -->\n",
       "     <g transform=\"translate(160.23154 133.618515)scale(0.13 -0.13)\">\n",
       "      <use transform=\"translate(0 0.09375)\" xlink:href=\"#DejaVuSans-Oblique-85\"/>\n",
       "      <use transform=\"translate(73.193359 -16.3125)scale(0.7)\" xlink:href=\"#DejaVuSans-51\"/>\n",
       "     </g>\n",
       "    </g>\n",
       "   </g>\n",
       "   <g id=\"text_4\">\n",
       "    <g clip-path=\"url(#p59bde7cf68)\">\n",
       "     <!-- 0.5, 0, 0 -->\n",
       "     <g transform=\"translate(151.56029 145.533245)scale(0.08 -0.08)\">\n",
       "      <use xlink:href=\"#DejaVuSans-48\"/>\n",
       "      <use x=\"63.623047\" xlink:href=\"#DejaVuSans-46\"/>\n",
       "      <use x=\"95.410156\" xlink:href=\"#DejaVuSans-53\"/>\n",
       "      <use x=\"159.033203\" xlink:href=\"#DejaVuSans-44\"/>\n",
       "      <use x=\"190.820312\" xlink:href=\"#DejaVuSans-32\"/>\n",
       "      <use x=\"222.607422\" xlink:href=\"#DejaVuSans-48\"/>\n",
       "      <use x=\"286.230469\" xlink:href=\"#DejaVuSans-44\"/>\n",
       "      <use x=\"318.017578\" xlink:href=\"#DejaVuSans-32\"/>\n",
       "      <use x=\"349.804688\" xlink:href=\"#DejaVuSans-48\"/>\n",
       "     </g>\n",
       "    </g>\n",
       "   </g>\n",
       "   <g id=\"text_5\">\n",
       "    <g clip-path=\"url(#p59bde7cf68)\">\n",
       "     <!-- $U_3$ -->\n",
       "     <g transform=\"translate(160.23154 179.069515)scale(0.13 -0.13)\">\n",
       "      <use transform=\"translate(0 0.09375)\" xlink:href=\"#DejaVuSans-Oblique-85\"/>\n",
       "      <use transform=\"translate(73.193359 -16.3125)scale(0.7)\" xlink:href=\"#DejaVuSans-51\"/>\n",
       "     </g>\n",
       "    </g>\n",
       "   </g>\n",
       "   <g id=\"text_6\">\n",
       "    <g clip-path=\"url(#p59bde7cf68)\">\n",
       "     <!-- 0.5, 0, 0 -->\n",
       "     <g transform=\"translate(151.56029 190.984245)scale(0.08 -0.08)\">\n",
       "      <use xlink:href=\"#DejaVuSans-48\"/>\n",
       "      <use x=\"63.623047\" xlink:href=\"#DejaVuSans-46\"/>\n",
       "      <use x=\"95.410156\" xlink:href=\"#DejaVuSans-53\"/>\n",
       "      <use x=\"159.033203\" xlink:href=\"#DejaVuSans-44\"/>\n",
       "      <use x=\"190.820312\" xlink:href=\"#DejaVuSans-32\"/>\n",
       "      <use x=\"222.607422\" xlink:href=\"#DejaVuSans-48\"/>\n",
       "      <use x=\"286.230469\" xlink:href=\"#DejaVuSans-44\"/>\n",
       "      <use x=\"318.017578\" xlink:href=\"#DejaVuSans-32\"/>\n",
       "      <use x=\"349.804688\" xlink:href=\"#DejaVuSans-48\"/>\n",
       "     </g>\n",
       "    </g>\n",
       "   </g>\n",
       "   <g id=\"text_7\">\n",
       "    <g clip-path=\"url(#p59bde7cf68)\">\n",
       "     <!-- $U_3$ -->\n",
       "     <g transform=\"translate(296.58454 88.167515)scale(0.13 -0.13)\">\n",
       "      <use transform=\"translate(0 0.09375)\" xlink:href=\"#DejaVuSans-Oblique-85\"/>\n",
       "      <use transform=\"translate(73.193359 -16.3125)scale(0.7)\" xlink:href=\"#DejaVuSans-51\"/>\n",
       "     </g>\n",
       "    </g>\n",
       "   </g>\n",
       "   <g id=\"text_8\">\n",
       "    <g clip-path=\"url(#p59bde7cf68)\">\n",
       "     <!-- $-$0.5, 0, 0 -->\n",
       "     <defs>\n",
       "      <path d=\"M 10.59375 35.5 \n",
       "L 73.1875 35.5 \n",
       "L 73.1875 27.203125 \n",
       "L 10.59375 27.203125 \n",
       "z\n",
       "\" id=\"DejaVuSans-8722\"/>\n",
       "     </defs>\n",
       "     <g transform=\"translate(284.52954 100.082245)scale(0.08 -0.08)\">\n",
       "      <use transform=\"translate(0 0.78125)\" xlink:href=\"#DejaVuSans-8722\"/>\n",
       "      <use transform=\"translate(83.789062 0.78125)\" xlink:href=\"#DejaVuSans-48\"/>\n",
       "      <use transform=\"translate(147.412109 0.78125)\" xlink:href=\"#DejaVuSans-46\"/>\n",
       "      <use transform=\"translate(179.199219 0.78125)\" xlink:href=\"#DejaVuSans-53\"/>\n",
       "      <use transform=\"translate(242.822266 0.78125)\" xlink:href=\"#DejaVuSans-44\"/>\n",
       "      <use transform=\"translate(274.609375 0.78125)\" xlink:href=\"#DejaVuSans-32\"/>\n",
       "      <use transform=\"translate(306.396484 0.78125)\" xlink:href=\"#DejaVuSans-48\"/>\n",
       "      <use transform=\"translate(370.019531 0.78125)\" xlink:href=\"#DejaVuSans-44\"/>\n",
       "      <use transform=\"translate(401.806641 0.78125)\" xlink:href=\"#DejaVuSans-32\"/>\n",
       "      <use transform=\"translate(433.59375 0.78125)\" xlink:href=\"#DejaVuSans-48\"/>\n",
       "     </g>\n",
       "    </g>\n",
       "   </g>\n",
       "   <g id=\"text_9\">\n",
       "    <g clip-path=\"url(#p59bde7cf68)\">\n",
       "     <!-- $U_3$ -->\n",
       "     <g transform=\"translate(478.38854 133.618515)scale(0.13 -0.13)\">\n",
       "      <use transform=\"translate(0 0.09375)\" xlink:href=\"#DejaVuSans-Oblique-85\"/>\n",
       "      <use transform=\"translate(73.193359 -16.3125)scale(0.7)\" xlink:href=\"#DejaVuSans-51\"/>\n",
       "     </g>\n",
       "    </g>\n",
       "   </g>\n",
       "   <g id=\"text_10\">\n",
       "    <g clip-path=\"url(#p59bde7cf68)\">\n",
       "     <!-- $-$0.5, 0, 0 -->\n",
       "     <g transform=\"translate(466.33354 145.533245)scale(0.08 -0.08)\">\n",
       "      <use transform=\"translate(0 0.78125)\" xlink:href=\"#DejaVuSans-8722\"/>\n",
       "      <use transform=\"translate(83.789062 0.78125)\" xlink:href=\"#DejaVuSans-48\"/>\n",
       "      <use transform=\"translate(147.412109 0.78125)\" xlink:href=\"#DejaVuSans-46\"/>\n",
       "      <use transform=\"translate(179.199219 0.78125)\" xlink:href=\"#DejaVuSans-53\"/>\n",
       "      <use transform=\"translate(242.822266 0.78125)\" xlink:href=\"#DejaVuSans-44\"/>\n",
       "      <use transform=\"translate(274.609375 0.78125)\" xlink:href=\"#DejaVuSans-32\"/>\n",
       "      <use transform=\"translate(306.396484 0.78125)\" xlink:href=\"#DejaVuSans-48\"/>\n",
       "      <use transform=\"translate(370.019531 0.78125)\" xlink:href=\"#DejaVuSans-44\"/>\n",
       "      <use transform=\"translate(401.806641 0.78125)\" xlink:href=\"#DejaVuSans-32\"/>\n",
       "      <use transform=\"translate(433.59375 0.78125)\" xlink:href=\"#DejaVuSans-48\"/>\n",
       "     </g>\n",
       "    </g>\n",
       "   </g>\n",
       "   <g id=\"text_11\">\n",
       "    <g clip-path=\"url(#p59bde7cf68)\">\n",
       "     <!-- $U_3$ -->\n",
       "     <g transform=\"translate(660.19254 179.069515)scale(0.13 -0.13)\">\n",
       "      <use transform=\"translate(0 0.09375)\" xlink:href=\"#DejaVuSans-Oblique-85\"/>\n",
       "      <use transform=\"translate(73.193359 -16.3125)scale(0.7)\" xlink:href=\"#DejaVuSans-51\"/>\n",
       "     </g>\n",
       "    </g>\n",
       "   </g>\n",
       "   <g id=\"text_12\">\n",
       "    <g clip-path=\"url(#p59bde7cf68)\">\n",
       "     <!-- $-$0.5, 0, 0 -->\n",
       "     <g transform=\"translate(648.13754 190.984245)scale(0.08 -0.08)\">\n",
       "      <use transform=\"translate(0 0.78125)\" xlink:href=\"#DejaVuSans-8722\"/>\n",
       "      <use transform=\"translate(83.789062 0.78125)\" xlink:href=\"#DejaVuSans-48\"/>\n",
       "      <use transform=\"translate(147.412109 0.78125)\" xlink:href=\"#DejaVuSans-46\"/>\n",
       "      <use transform=\"translate(179.199219 0.78125)\" xlink:href=\"#DejaVuSans-53\"/>\n",
       "      <use transform=\"translate(242.822266 0.78125)\" xlink:href=\"#DejaVuSans-44\"/>\n",
       "      <use transform=\"translate(274.609375 0.78125)\" xlink:href=\"#DejaVuSans-32\"/>\n",
       "      <use transform=\"translate(306.396484 0.78125)\" xlink:href=\"#DejaVuSans-48\"/>\n",
       "      <use transform=\"translate(370.019531 0.78125)\" xlink:href=\"#DejaVuSans-44\"/>\n",
       "      <use transform=\"translate(401.806641 0.78125)\" xlink:href=\"#DejaVuSans-32\"/>\n",
       "      <use transform=\"translate(433.59375 0.78125)\" xlink:href=\"#DejaVuSans-48\"/>\n",
       "     </g>\n",
       "    </g>\n",
       "   </g>\n",
       "   <g id=\"text_13\">\n",
       "    <g clip-path=\"url(#p59bde7cf68)\">\n",
       "     <!-- $Z$ -->\n",
       "     <defs>\n",
       "      <path d=\"M 13.09375 72.90625 \n",
       "L 70.3125 72.90625 \n",
       "L 68.890625 65.375 \n",
       "L 12.40625 8.296875 \n",
       "L 58.890625 8.296875 \n",
       "L 57.328125 0 \n",
       "L -2.203125 0 \n",
       "L -0.78125 7.515625 \n",
       "L 55.71875 64.59375 \n",
       "L 11.53125 64.59375 \n",
       "z\n",
       "\" id=\"DejaVuSans-Oblique-90\"/>\n",
       "     </defs>\n",
       "     <g transform=\"translate(822.65104 228.951987)scale(0.13 -0.13)\">\n",
       "      <use transform=\"translate(0 0.09375)\" xlink:href=\"#DejaVuSans-Oblique-90\"/>\n",
       "     </g>\n",
       "    </g>\n",
       "   </g>\n",
       "   <g id=\"text_14\">\n",
       "    <g clip-path=\"url(#p59bde7cf68)\">\n",
       "     <!-- $U_3$ -->\n",
       "     <g transform=\"translate(978.34954 133.618515)scale(0.13 -0.13)\">\n",
       "      <use transform=\"translate(0 0.09375)\" xlink:href=\"#DejaVuSans-Oblique-85\"/>\n",
       "      <use transform=\"translate(73.193359 -16.3125)scale(0.7)\" xlink:href=\"#DejaVuSans-51\"/>\n",
       "     </g>\n",
       "    </g>\n",
       "   </g>\n",
       "   <g id=\"text_15\">\n",
       "    <g clip-path=\"url(#p59bde7cf68)\">\n",
       "     <!-- 0.5, 0, 0 -->\n",
       "     <g transform=\"translate(969.67829 145.533245)scale(0.08 -0.08)\">\n",
       "      <use xlink:href=\"#DejaVuSans-48\"/>\n",
       "      <use x=\"63.623047\" xlink:href=\"#DejaVuSans-46\"/>\n",
       "      <use x=\"95.410156\" xlink:href=\"#DejaVuSans-53\"/>\n",
       "      <use x=\"159.033203\" xlink:href=\"#DejaVuSans-44\"/>\n",
       "      <use x=\"190.820312\" xlink:href=\"#DejaVuSans-32\"/>\n",
       "      <use x=\"222.607422\" xlink:href=\"#DejaVuSans-48\"/>\n",
       "      <use x=\"286.230469\" xlink:href=\"#DejaVuSans-44\"/>\n",
       "      <use x=\"318.017578\" xlink:href=\"#DejaVuSans-32\"/>\n",
       "      <use x=\"349.804688\" xlink:href=\"#DejaVuSans-48\"/>\n",
       "     </g>\n",
       "    </g>\n",
       "   </g>\n",
       "   <g id=\"text_16\">\n",
       "    <g clip-path=\"url(#p59bde7cf68)\">\n",
       "     <!-- $Z$ -->\n",
       "     <g transform=\"translate(981.72954 228.951987)scale(0.13 -0.13)\">\n",
       "      <use transform=\"translate(0 0.09375)\" xlink:href=\"#DejaVuSans-Oblique-90\"/>\n",
       "     </g>\n",
       "    </g>\n",
       "   </g>\n",
       "   <g id=\"text_17\">\n",
       "    <g clip-path=\"url(#p59bde7cf68)\">\n",
       "     <!-- $U_3$ -->\n",
       "     <g transform=\"translate(1114.70254 179.069515)scale(0.13 -0.13)\">\n",
       "      <use transform=\"translate(0 0.09375)\" xlink:href=\"#DejaVuSans-Oblique-85\"/>\n",
       "      <use transform=\"translate(73.193359 -16.3125)scale(0.7)\" xlink:href=\"#DejaVuSans-51\"/>\n",
       "     </g>\n",
       "    </g>\n",
       "   </g>\n",
       "   <g id=\"text_18\">\n",
       "    <g clip-path=\"url(#p59bde7cf68)\">\n",
       "     <!-- 0.5, 0, 0 -->\n",
       "     <g transform=\"translate(1106.03129 190.984245)scale(0.08 -0.08)\">\n",
       "      <use xlink:href=\"#DejaVuSans-48\"/>\n",
       "      <use x=\"63.623047\" xlink:href=\"#DejaVuSans-46\"/>\n",
       "      <use x=\"95.410156\" xlink:href=\"#DejaVuSans-53\"/>\n",
       "      <use x=\"159.033203\" xlink:href=\"#DejaVuSans-44\"/>\n",
       "      <use x=\"190.820312\" xlink:href=\"#DejaVuSans-32\"/>\n",
       "      <use x=\"222.607422\" xlink:href=\"#DejaVuSans-48\"/>\n",
       "      <use x=\"286.230469\" xlink:href=\"#DejaVuSans-44\"/>\n",
       "      <use x=\"318.017578\" xlink:href=\"#DejaVuSans-32\"/>\n",
       "      <use x=\"349.804688\" xlink:href=\"#DejaVuSans-48\"/>\n",
       "     </g>\n",
       "    </g>\n",
       "   </g>\n",
       "   <g id=\"text_19\">\n",
       "    <g clip-path=\"url(#p59bde7cf68)\">\n",
       "     <!-- $U_3$ -->\n",
       "     <g transform=\"translate(1114.70254 88.167515)scale(0.13 -0.13)\">\n",
       "      <use transform=\"translate(0 0.09375)\" xlink:href=\"#DejaVuSans-Oblique-85\"/>\n",
       "      <use transform=\"translate(73.193359 -16.3125)scale(0.7)\" xlink:href=\"#DejaVuSans-51\"/>\n",
       "     </g>\n",
       "    </g>\n",
       "   </g>\n",
       "   <g id=\"text_20\">\n",
       "    <g clip-path=\"url(#p59bde7cf68)\">\n",
       "     <!-- 0.5, 0, 0 -->\n",
       "     <g transform=\"translate(1106.03129 100.082245)scale(0.08 -0.08)\">\n",
       "      <use xlink:href=\"#DejaVuSans-48\"/>\n",
       "      <use x=\"63.623047\" xlink:href=\"#DejaVuSans-46\"/>\n",
       "      <use x=\"95.410156\" xlink:href=\"#DejaVuSans-53\"/>\n",
       "      <use x=\"159.033203\" xlink:href=\"#DejaVuSans-44\"/>\n",
       "      <use x=\"190.820312\" xlink:href=\"#DejaVuSans-32\"/>\n",
       "      <use x=\"222.607422\" xlink:href=\"#DejaVuSans-48\"/>\n",
       "      <use x=\"286.230469\" xlink:href=\"#DejaVuSans-44\"/>\n",
       "      <use x=\"318.017578\" xlink:href=\"#DejaVuSans-32\"/>\n",
       "      <use x=\"349.804688\" xlink:href=\"#DejaVuSans-48\"/>\n",
       "     </g>\n",
       "    </g>\n",
       "   </g>\n",
       "   <g id=\"text_21\">\n",
       "    <g clip-path=\"url(#p59bde7cf68)\">\n",
       "     <!-- $U_3$ -->\n",
       "     <g transform=\"translate(160.23154 360.873515)scale(0.13 -0.13)\">\n",
       "      <use transform=\"translate(0 0.09375)\" xlink:href=\"#DejaVuSans-Oblique-85\"/>\n",
       "      <use transform=\"translate(73.193359 -16.3125)scale(0.7)\" xlink:href=\"#DejaVuSans-51\"/>\n",
       "     </g>\n",
       "    </g>\n",
       "   </g>\n",
       "   <g id=\"text_22\">\n",
       "    <g clip-path=\"url(#p59bde7cf68)\">\n",
       "     <!-- $-$0.5, 0, 0 -->\n",
       "     <g transform=\"translate(148.17654 372.788245)scale(0.08 -0.08)\">\n",
       "      <use transform=\"translate(0 0.78125)\" xlink:href=\"#DejaVuSans-8722\"/>\n",
       "      <use transform=\"translate(83.789062 0.78125)\" xlink:href=\"#DejaVuSans-48\"/>\n",
       "      <use transform=\"translate(147.412109 0.78125)\" xlink:href=\"#DejaVuSans-46\"/>\n",
       "      <use transform=\"translate(179.199219 0.78125)\" xlink:href=\"#DejaVuSans-53\"/>\n",
       "      <use transform=\"translate(242.822266 0.78125)\" xlink:href=\"#DejaVuSans-44\"/>\n",
       "      <use transform=\"translate(274.609375 0.78125)\" xlink:href=\"#DejaVuSans-32\"/>\n",
       "      <use transform=\"translate(306.396484 0.78125)\" xlink:href=\"#DejaVuSans-48\"/>\n",
       "      <use transform=\"translate(370.019531 0.78125)\" xlink:href=\"#DejaVuSans-44\"/>\n",
       "      <use transform=\"translate(401.806641 0.78125)\" xlink:href=\"#DejaVuSans-32\"/>\n",
       "      <use transform=\"translate(433.59375 0.78125)\" xlink:href=\"#DejaVuSans-48\"/>\n",
       "     </g>\n",
       "    </g>\n",
       "   </g>\n",
       "   <g id=\"text_23\">\n",
       "    <g clip-path=\"url(#p59bde7cf68)\">\n",
       "     <!-- $U_3$ -->\n",
       "     <g transform=\"translate(342.03554 406.324515)scale(0.13 -0.13)\">\n",
       "      <use transform=\"translate(0 0.09375)\" xlink:href=\"#DejaVuSans-Oblique-85\"/>\n",
       "      <use transform=\"translate(73.193359 -16.3125)scale(0.7)\" xlink:href=\"#DejaVuSans-51\"/>\n",
       "     </g>\n",
       "    </g>\n",
       "   </g>\n",
       "   <g id=\"text_24\">\n",
       "    <g clip-path=\"url(#p59bde7cf68)\">\n",
       "     <!-- $-$0.5, 0, 0 -->\n",
       "     <g transform=\"translate(329.98054 418.239245)scale(0.08 -0.08)\">\n",
       "      <use transform=\"translate(0 0.78125)\" xlink:href=\"#DejaVuSans-8722\"/>\n",
       "      <use transform=\"translate(83.789062 0.78125)\" xlink:href=\"#DejaVuSans-48\"/>\n",
       "      <use transform=\"translate(147.412109 0.78125)\" xlink:href=\"#DejaVuSans-46\"/>\n",
       "      <use transform=\"translate(179.199219 0.78125)\" xlink:href=\"#DejaVuSans-53\"/>\n",
       "      <use transform=\"translate(242.822266 0.78125)\" xlink:href=\"#DejaVuSans-44\"/>\n",
       "      <use transform=\"translate(274.609375 0.78125)\" xlink:href=\"#DejaVuSans-32\"/>\n",
       "      <use transform=\"translate(306.396484 0.78125)\" xlink:href=\"#DejaVuSans-48\"/>\n",
       "      <use transform=\"translate(370.019531 0.78125)\" xlink:href=\"#DejaVuSans-44\"/>\n",
       "      <use transform=\"translate(401.806641 0.78125)\" xlink:href=\"#DejaVuSans-32\"/>\n",
       "      <use transform=\"translate(433.59375 0.78125)\" xlink:href=\"#DejaVuSans-48\"/>\n",
       "     </g>\n",
       "    </g>\n",
       "   </g>\n",
       "   <g id=\"text_25\">\n",
       "    <g clip-path=\"url(#p59bde7cf68)\">\n",
       "     <!-- $U_3$ -->\n",
       "     <g transform=\"translate(523.83954 451.775515)scale(0.13 -0.13)\">\n",
       "      <use transform=\"translate(0 0.09375)\" xlink:href=\"#DejaVuSans-Oblique-85\"/>\n",
       "      <use transform=\"translate(73.193359 -16.3125)scale(0.7)\" xlink:href=\"#DejaVuSans-51\"/>\n",
       "     </g>\n",
       "    </g>\n",
       "   </g>\n",
       "   <g id=\"text_26\">\n",
       "    <g clip-path=\"url(#p59bde7cf68)\">\n",
       "     <!-- $-$0.5, 0, 0 -->\n",
       "     <g transform=\"translate(511.78454 463.690245)scale(0.08 -0.08)\">\n",
       "      <use transform=\"translate(0 0.78125)\" xlink:href=\"#DejaVuSans-8722\"/>\n",
       "      <use transform=\"translate(83.789062 0.78125)\" xlink:href=\"#DejaVuSans-48\"/>\n",
       "      <use transform=\"translate(147.412109 0.78125)\" xlink:href=\"#DejaVuSans-46\"/>\n",
       "      <use transform=\"translate(179.199219 0.78125)\" xlink:href=\"#DejaVuSans-53\"/>\n",
       "      <use transform=\"translate(242.822266 0.78125)\" xlink:href=\"#DejaVuSans-44\"/>\n",
       "      <use transform=\"translate(274.609375 0.78125)\" xlink:href=\"#DejaVuSans-32\"/>\n",
       "      <use transform=\"translate(306.396484 0.78125)\" xlink:href=\"#DejaVuSans-48\"/>\n",
       "      <use transform=\"translate(370.019531 0.78125)\" xlink:href=\"#DejaVuSans-44\"/>\n",
       "      <use transform=\"translate(401.806641 0.78125)\" xlink:href=\"#DejaVuSans-32\"/>\n",
       "      <use transform=\"translate(433.59375 0.78125)\" xlink:href=\"#DejaVuSans-48\"/>\n",
       "     </g>\n",
       "    </g>\n",
       "   </g>\n",
       "   <g id=\"text_27\">\n",
       "    <g clip-path=\"url(#p59bde7cf68)\">\n",
       "     <!-- $Z$ -->\n",
       "     <g transform=\"translate(686.29804 501.657987)scale(0.13 -0.13)\">\n",
       "      <use transform=\"translate(0 0.09375)\" xlink:href=\"#DejaVuSans-Oblique-90\"/>\n",
       "     </g>\n",
       "    </g>\n",
       "   </g>\n",
       "   <g id=\"text_28\">\n",
       "    <g clip-path=\"url(#p59bde7cf68)\">\n",
       "     <!-- $U_3$ -->\n",
       "     <g transform=\"translate(796.54554 406.324515)scale(0.13 -0.13)\">\n",
       "      <use transform=\"translate(0 0.09375)\" xlink:href=\"#DejaVuSans-Oblique-85\"/>\n",
       "      <use transform=\"translate(73.193359 -16.3125)scale(0.7)\" xlink:href=\"#DejaVuSans-51\"/>\n",
       "     </g>\n",
       "    </g>\n",
       "   </g>\n",
       "   <g id=\"text_29\">\n",
       "    <g clip-path=\"url(#p59bde7cf68)\">\n",
       "     <!-- 0.5, 0, 0 -->\n",
       "     <g transform=\"translate(787.87429 418.239245)scale(0.08 -0.08)\">\n",
       "      <use xlink:href=\"#DejaVuSans-48\"/>\n",
       "      <use x=\"63.623047\" xlink:href=\"#DejaVuSans-46\"/>\n",
       "      <use x=\"95.410156\" xlink:href=\"#DejaVuSans-53\"/>\n",
       "      <use x=\"159.033203\" xlink:href=\"#DejaVuSans-44\"/>\n",
       "      <use x=\"190.820312\" xlink:href=\"#DejaVuSans-32\"/>\n",
       "      <use x=\"222.607422\" xlink:href=\"#DejaVuSans-48\"/>\n",
       "      <use x=\"286.230469\" xlink:href=\"#DejaVuSans-44\"/>\n",
       "      <use x=\"318.017578\" xlink:href=\"#DejaVuSans-32\"/>\n",
       "      <use x=\"349.804688\" xlink:href=\"#DejaVuSans-48\"/>\n",
       "     </g>\n",
       "    </g>\n",
       "   </g>\n",
       "   <g id=\"text_30\">\n",
       "    <g clip-path=\"url(#p59bde7cf68)\">\n",
       "     <!-- $Z$ -->\n",
       "     <g transform=\"translate(913.55304 501.657987)scale(0.13 -0.13)\">\n",
       "      <use transform=\"translate(0 0.09375)\" xlink:href=\"#DejaVuSans-Oblique-90\"/>\n",
       "     </g>\n",
       "    </g>\n",
       "   </g>\n",
       "   <g id=\"text_31\">\n",
       "    <g clip-path=\"url(#p59bde7cf68)\">\n",
       "     <!-- $U_3$ -->\n",
       "     <g transform=\"translate(1023.80054 451.775515)scale(0.13 -0.13)\">\n",
       "      <use transform=\"translate(0 0.09375)\" xlink:href=\"#DejaVuSans-Oblique-85\"/>\n",
       "      <use transform=\"translate(73.193359 -16.3125)scale(0.7)\" xlink:href=\"#DejaVuSans-51\"/>\n",
       "     </g>\n",
       "    </g>\n",
       "   </g>\n",
       "   <g id=\"text_32\">\n",
       "    <g clip-path=\"url(#p59bde7cf68)\">\n",
       "     <!-- 0.5, 0, 0 -->\n",
       "     <g transform=\"translate(1015.12929 463.690245)scale(0.08 -0.08)\">\n",
       "      <use xlink:href=\"#DejaVuSans-48\"/>\n",
       "      <use x=\"63.623047\" xlink:href=\"#DejaVuSans-46\"/>\n",
       "      <use x=\"95.410156\" xlink:href=\"#DejaVuSans-53\"/>\n",
       "      <use x=\"159.033203\" xlink:href=\"#DejaVuSans-44\"/>\n",
       "      <use x=\"190.820312\" xlink:href=\"#DejaVuSans-32\"/>\n",
       "      <use x=\"222.607422\" xlink:href=\"#DejaVuSans-48\"/>\n",
       "      <use x=\"286.230469\" xlink:href=\"#DejaVuSans-44\"/>\n",
       "      <use x=\"318.017578\" xlink:href=\"#DejaVuSans-32\"/>\n",
       "      <use x=\"349.804688\" xlink:href=\"#DejaVuSans-48\"/>\n",
       "     </g>\n",
       "    </g>\n",
       "   </g>\n",
       "   <g id=\"text_33\">\n",
       "    <g clip-path=\"url(#p59bde7cf68)\">\n",
       "     <!-- $U_3$ -->\n",
       "     <g transform=\"translate(1023.80054 360.873515)scale(0.13 -0.13)\">\n",
       "      <use transform=\"translate(0 0.09375)\" xlink:href=\"#DejaVuSans-Oblique-85\"/>\n",
       "      <use transform=\"translate(73.193359 -16.3125)scale(0.7)\" xlink:href=\"#DejaVuSans-51\"/>\n",
       "     </g>\n",
       "    </g>\n",
       "   </g>\n",
       "   <g id=\"text_34\">\n",
       "    <g clip-path=\"url(#p59bde7cf68)\">\n",
       "     <!-- 0.5, 0, 0 -->\n",
       "     <g transform=\"translate(1015.12929 372.788245)scale(0.08 -0.08)\">\n",
       "      <use xlink:href=\"#DejaVuSans-48\"/>\n",
       "      <use x=\"63.623047\" xlink:href=\"#DejaVuSans-46\"/>\n",
       "      <use x=\"95.410156\" xlink:href=\"#DejaVuSans-53\"/>\n",
       "      <use x=\"159.033203\" xlink:href=\"#DejaVuSans-44\"/>\n",
       "      <use x=\"190.820312\" xlink:href=\"#DejaVuSans-32\"/>\n",
       "      <use x=\"222.607422\" xlink:href=\"#DejaVuSans-48\"/>\n",
       "      <use x=\"286.230469\" xlink:href=\"#DejaVuSans-44\"/>\n",
       "      <use x=\"318.017578\" xlink:href=\"#DejaVuSans-32\"/>\n",
       "      <use x=\"349.804688\" xlink:href=\"#DejaVuSans-48\"/>\n",
       "     </g>\n",
       "    </g>\n",
       "   </g>\n",
       "   <g id=\"text_35\">\n",
       "    <g clip-path=\"url(#p59bde7cf68)\">\n",
       "     <!-- $U_3$ -->\n",
       "     <g transform=\"translate(1160.15354 360.873515)scale(0.13 -0.13)\">\n",
       "      <use transform=\"translate(0 0.09375)\" xlink:href=\"#DejaVuSans-Oblique-85\"/>\n",
       "      <use transform=\"translate(73.193359 -16.3125)scale(0.7)\" xlink:href=\"#DejaVuSans-51\"/>\n",
       "     </g>\n",
       "    </g>\n",
       "   </g>\n",
       "   <g id=\"text_36\">\n",
       "    <g clip-path=\"url(#p59bde7cf68)\">\n",
       "     <!-- $-$0.5, 0, 0 -->\n",
       "     <g transform=\"translate(1148.09854 372.788245)scale(0.08 -0.08)\">\n",
       "      <use transform=\"translate(0 0.78125)\" xlink:href=\"#DejaVuSans-8722\"/>\n",
       "      <use transform=\"translate(83.789062 0.78125)\" xlink:href=\"#DejaVuSans-48\"/>\n",
       "      <use transform=\"translate(147.412109 0.78125)\" xlink:href=\"#DejaVuSans-46\"/>\n",
       "      <use transform=\"translate(179.199219 0.78125)\" xlink:href=\"#DejaVuSans-53\"/>\n",
       "      <use transform=\"translate(242.822266 0.78125)\" xlink:href=\"#DejaVuSans-44\"/>\n",
       "      <use transform=\"translate(274.609375 0.78125)\" xlink:href=\"#DejaVuSans-32\"/>\n",
       "      <use transform=\"translate(306.396484 0.78125)\" xlink:href=\"#DejaVuSans-48\"/>\n",
       "      <use transform=\"translate(370.019531 0.78125)\" xlink:href=\"#DejaVuSans-44\"/>\n",
       "      <use transform=\"translate(401.806641 0.78125)\" xlink:href=\"#DejaVuSans-32\"/>\n",
       "      <use transform=\"translate(433.59375 0.78125)\" xlink:href=\"#DejaVuSans-48\"/>\n",
       "     </g>\n",
       "    </g>\n",
       "   </g>\n",
       "   <g id=\"text_37\">\n",
       "    <g clip-path=\"url(#p59bde7cf68)\">\n",
       "     <!-- $U_3$ -->\n",
       "     <g transform=\"translate(205.68254 679.030515)scale(0.13 -0.13)\">\n",
       "      <use transform=\"translate(0 0.09375)\" xlink:href=\"#DejaVuSans-Oblique-85\"/>\n",
       "      <use transform=\"translate(73.193359 -16.3125)scale(0.7)\" xlink:href=\"#DejaVuSans-51\"/>\n",
       "     </g>\n",
       "    </g>\n",
       "   </g>\n",
       "   <g id=\"text_38\">\n",
       "    <g clip-path=\"url(#p59bde7cf68)\">\n",
       "     <!-- $-$0.5, 0, 0 -->\n",
       "     <g transform=\"translate(193.62754 690.945245)scale(0.08 -0.08)\">\n",
       "      <use transform=\"translate(0 0.78125)\" xlink:href=\"#DejaVuSans-8722\"/>\n",
       "      <use transform=\"translate(83.789062 0.78125)\" xlink:href=\"#DejaVuSans-48\"/>\n",
       "      <use transform=\"translate(147.412109 0.78125)\" xlink:href=\"#DejaVuSans-46\"/>\n",
       "      <use transform=\"translate(179.199219 0.78125)\" xlink:href=\"#DejaVuSans-53\"/>\n",
       "      <use transform=\"translate(242.822266 0.78125)\" xlink:href=\"#DejaVuSans-44\"/>\n",
       "      <use transform=\"translate(274.609375 0.78125)\" xlink:href=\"#DejaVuSans-32\"/>\n",
       "      <use transform=\"translate(306.396484 0.78125)\" xlink:href=\"#DejaVuSans-48\"/>\n",
       "      <use transform=\"translate(370.019531 0.78125)\" xlink:href=\"#DejaVuSans-44\"/>\n",
       "      <use transform=\"translate(401.806641 0.78125)\" xlink:href=\"#DejaVuSans-32\"/>\n",
       "      <use transform=\"translate(433.59375 0.78125)\" xlink:href=\"#DejaVuSans-48\"/>\n",
       "     </g>\n",
       "    </g>\n",
       "   </g>\n",
       "   <g id=\"text_39\">\n",
       "    <g clip-path=\"url(#p59bde7cf68)\">\n",
       "     <!-- $U_3$ -->\n",
       "     <g transform=\"translate(387.48654 724.481515)scale(0.13 -0.13)\">\n",
       "      <use transform=\"translate(0 0.09375)\" xlink:href=\"#DejaVuSans-Oblique-85\"/>\n",
       "      <use transform=\"translate(73.193359 -16.3125)scale(0.7)\" xlink:href=\"#DejaVuSans-51\"/>\n",
       "     </g>\n",
       "    </g>\n",
       "   </g>\n",
       "   <g id=\"text_40\">\n",
       "    <g clip-path=\"url(#p59bde7cf68)\">\n",
       "     <!-- $-$0.5, 0, 0 -->\n",
       "     <g transform=\"translate(375.43154 736.396245)scale(0.08 -0.08)\">\n",
       "      <use transform=\"translate(0 0.78125)\" xlink:href=\"#DejaVuSans-8722\"/>\n",
       "      <use transform=\"translate(83.789062 0.78125)\" xlink:href=\"#DejaVuSans-48\"/>\n",
       "      <use transform=\"translate(147.412109 0.78125)\" xlink:href=\"#DejaVuSans-46\"/>\n",
       "      <use transform=\"translate(179.199219 0.78125)\" xlink:href=\"#DejaVuSans-53\"/>\n",
       "      <use transform=\"translate(242.822266 0.78125)\" xlink:href=\"#DejaVuSans-44\"/>\n",
       "      <use transform=\"translate(274.609375 0.78125)\" xlink:href=\"#DejaVuSans-32\"/>\n",
       "      <use transform=\"translate(306.396484 0.78125)\" xlink:href=\"#DejaVuSans-48\"/>\n",
       "      <use transform=\"translate(370.019531 0.78125)\" xlink:href=\"#DejaVuSans-44\"/>\n",
       "      <use transform=\"translate(401.806641 0.78125)\" xlink:href=\"#DejaVuSans-32\"/>\n",
       "      <use transform=\"translate(433.59375 0.78125)\" xlink:href=\"#DejaVuSans-48\"/>\n",
       "     </g>\n",
       "    </g>\n",
       "   </g>\n",
       "   <g id=\"text_41\">\n",
       "    <g clip-path=\"url(#p59bde7cf68)\">\n",
       "     <!-- ${q0}_{0}$ -->\n",
       "     <defs>\n",
       "      <path d=\"M 41.703125 8.203125 \n",
       "Q 38.09375 3.46875 33.171875 1.015625 \n",
       "Q 28.265625 -1.421875 22.3125 -1.421875 \n",
       "Q 14.015625 -1.421875 9.296875 4.171875 \n",
       "Q 4.59375 9.765625 4.59375 19.578125 \n",
       "Q 4.59375 27.484375 7.5 34.859375 \n",
       "Q 10.40625 42.234375 15.828125 48.09375 \n",
       "Q 19.34375 51.90625 23.90625 53.953125 \n",
       "Q 28.46875 56 33.5 56 \n",
       "Q 39.546875 56 43.453125 53.609375 \n",
       "Q 47.359375 51.21875 49.125 46.390625 \n",
       "L 50.6875 54.59375 \n",
       "L 59.71875 54.59375 \n",
       "L 45.125 -20.609375 \n",
       "L 36.078125 -20.609375 \n",
       "z\n",
       "M 13.921875 20.90625 \n",
       "Q 13.921875 13.671875 16.9375 9.890625 \n",
       "Q 19.96875 6.109375 25.6875 6.109375 \n",
       "Q 34.1875 6.109375 40.1875 14.234375 \n",
       "Q 46.1875 22.359375 46.1875 33.984375 \n",
       "Q 46.1875 41.015625 43.078125 44.75 \n",
       "Q 39.984375 48.484375 34.1875 48.484375 \n",
       "Q 29.9375 48.484375 26.3125 46.5 \n",
       "Q 22.703125 44.53125 20.015625 40.71875 \n",
       "Q 17.1875 36.71875 15.546875 31.34375 \n",
       "Q 13.921875 25.984375 13.921875 20.90625 \n",
       "z\n",
       "\" id=\"DejaVuSans-Oblique-113\"/>\n",
       "     </defs>\n",
       "     <g transform=\"translate(71.32004 48.011777)scale(0.1625 -0.1625)\">\n",
       "      <use transform=\"translate(0 0.78125)\" xlink:href=\"#DejaVuSans-Oblique-113\"/>\n",
       "      <use transform=\"translate(63.476562 0.78125)\" xlink:href=\"#DejaVuSans-48\"/>\n",
       "      <use transform=\"translate(128.056641 -15.625)scale(0.7)\" xlink:href=\"#DejaVuSans-48\"/>\n",
       "     </g>\n",
       "    </g>\n",
       "   </g>\n",
       "   <g id=\"text_42\">\n",
       "    <g clip-path=\"url(#p59bde7cf68)\">\n",
       "     <!-- ${q0}_{1}$ -->\n",
       "     <defs>\n",
       "      <path d=\"M 12.40625 8.296875 \n",
       "L 28.515625 8.296875 \n",
       "L 28.515625 63.921875 \n",
       "L 10.984375 60.40625 \n",
       "L 10.984375 69.390625 \n",
       "L 28.421875 72.90625 \n",
       "L 38.28125 72.90625 \n",
       "L 38.28125 8.296875 \n",
       "L 54.390625 8.296875 \n",
       "L 54.390625 0 \n",
       "L 12.40625 0 \n",
       "z\n",
       "\" id=\"DejaVuSans-49\"/>\n",
       "     </defs>\n",
       "     <g transform=\"translate(71.32004 93.462777)scale(0.1625 -0.1625)\">\n",
       "      <use transform=\"translate(0 0.78125)\" xlink:href=\"#DejaVuSans-Oblique-113\"/>\n",
       "      <use transform=\"translate(63.476562 0.78125)\" xlink:href=\"#DejaVuSans-48\"/>\n",
       "      <use transform=\"translate(128.056641 -15.625)scale(0.7)\" xlink:href=\"#DejaVuSans-49\"/>\n",
       "     </g>\n",
       "    </g>\n",
       "   </g>\n",
       "   <g id=\"text_43\">\n",
       "    <g clip-path=\"url(#p59bde7cf68)\">\n",
       "     <!-- ${q0}_{2}$ -->\n",
       "     <defs>\n",
       "      <path d=\"M 19.1875 8.296875 \n",
       "L 53.609375 8.296875 \n",
       "L 53.609375 0 \n",
       "L 7.328125 0 \n",
       "L 7.328125 8.296875 \n",
       "Q 12.9375 14.109375 22.625 23.890625 \n",
       "Q 32.328125 33.6875 34.8125 36.53125 \n",
       "Q 39.546875 41.84375 41.421875 45.53125 \n",
       "Q 43.3125 49.21875 43.3125 52.78125 \n",
       "Q 43.3125 58.59375 39.234375 62.25 \n",
       "Q 35.15625 65.921875 28.609375 65.921875 \n",
       "Q 23.96875 65.921875 18.8125 64.3125 \n",
       "Q 13.671875 62.703125 7.8125 59.421875 \n",
       "L 7.8125 69.390625 \n",
       "Q 13.765625 71.78125 18.9375 73 \n",
       "Q 24.125 74.21875 28.421875 74.21875 \n",
       "Q 39.75 74.21875 46.484375 68.546875 \n",
       "Q 53.21875 62.890625 53.21875 53.421875 \n",
       "Q 53.21875 48.921875 51.53125 44.890625 \n",
       "Q 49.859375 40.875 45.40625 35.40625 \n",
       "Q 44.1875 33.984375 37.640625 27.21875 \n",
       "Q 31.109375 20.453125 19.1875 8.296875 \n",
       "z\n",
       "\" id=\"DejaVuSans-50\"/>\n",
       "     </defs>\n",
       "     <g transform=\"translate(71.32004 138.913777)scale(0.1625 -0.1625)\">\n",
       "      <use transform=\"translate(0 0.78125)\" xlink:href=\"#DejaVuSans-Oblique-113\"/>\n",
       "      <use transform=\"translate(63.476562 0.78125)\" xlink:href=\"#DejaVuSans-48\"/>\n",
       "      <use transform=\"translate(128.056641 -15.625)scale(0.7)\" xlink:href=\"#DejaVuSans-50\"/>\n",
       "     </g>\n",
       "    </g>\n",
       "   </g>\n",
       "   <g id=\"text_44\">\n",
       "    <g clip-path=\"url(#p59bde7cf68)\">\n",
       "     <!-- ${q0}_{3}$ -->\n",
       "     <g transform=\"translate(71.32004 184.364777)scale(0.1625 -0.1625)\">\n",
       "      <use transform=\"translate(0 0.78125)\" xlink:href=\"#DejaVuSans-Oblique-113\"/>\n",
       "      <use transform=\"translate(63.476562 0.78125)\" xlink:href=\"#DejaVuSans-48\"/>\n",
       "      <use transform=\"translate(128.056641 -15.625)scale(0.7)\" xlink:href=\"#DejaVuSans-51\"/>\n",
       "     </g>\n",
       "    </g>\n",
       "   </g>\n",
       "   <g id=\"text_45\">\n",
       "    <g clip-path=\"url(#p59bde7cf68)\">\n",
       "     <!-- ${q0}_{4}$ -->\n",
       "     <defs>\n",
       "      <path d=\"M 37.796875 64.3125 \n",
       "L 12.890625 25.390625 \n",
       "L 37.796875 25.390625 \n",
       "z\n",
       "M 35.203125 72.90625 \n",
       "L 47.609375 72.90625 \n",
       "L 47.609375 25.390625 \n",
       "L 58.015625 25.390625 \n",
       "L 58.015625 17.1875 \n",
       "L 47.609375 17.1875 \n",
       "L 47.609375 0 \n",
       "L 37.796875 0 \n",
       "L 37.796875 17.1875 \n",
       "L 4.890625 17.1875 \n",
       "L 4.890625 26.703125 \n",
       "z\n",
       "\" id=\"DejaVuSans-52\"/>\n",
       "     </defs>\n",
       "     <g transform=\"translate(71.32004 229.815777)scale(0.1625 -0.1625)\">\n",
       "      <use transform=\"translate(0 0.78125)\" xlink:href=\"#DejaVuSans-Oblique-113\"/>\n",
       "      <use transform=\"translate(63.476562 0.78125)\" xlink:href=\"#DejaVuSans-48\"/>\n",
       "      <use transform=\"translate(128.056641 -15.625)scale(0.7)\" xlink:href=\"#DejaVuSans-52\"/>\n",
       "     </g>\n",
       "    </g>\n",
       "   </g>\n",
       "   <g id=\"text_46\">\n",
       "    <g clip-path=\"url(#p59bde7cf68)\">\n",
       "     <!-- ${q0}_{0}$ -->\n",
       "     <g transform=\"translate(71.32004 320.717777)scale(0.1625 -0.1625)\">\n",
       "      <use transform=\"translate(0 0.78125)\" xlink:href=\"#DejaVuSans-Oblique-113\"/>\n",
       "      <use transform=\"translate(63.476562 0.78125)\" xlink:href=\"#DejaVuSans-48\"/>\n",
       "      <use transform=\"translate(128.056641 -15.625)scale(0.7)\" xlink:href=\"#DejaVuSans-48\"/>\n",
       "     </g>\n",
       "    </g>\n",
       "   </g>\n",
       "   <g id=\"text_47\">\n",
       "    <g clip-path=\"url(#p59bde7cf68)\">\n",
       "     <!-- ${q0}_{1}$ -->\n",
       "     <g transform=\"translate(71.32004 366.168777)scale(0.1625 -0.1625)\">\n",
       "      <use transform=\"translate(0 0.78125)\" xlink:href=\"#DejaVuSans-Oblique-113\"/>\n",
       "      <use transform=\"translate(63.476562 0.78125)\" xlink:href=\"#DejaVuSans-48\"/>\n",
       "      <use transform=\"translate(128.056641 -15.625)scale(0.7)\" xlink:href=\"#DejaVuSans-49\"/>\n",
       "     </g>\n",
       "    </g>\n",
       "   </g>\n",
       "   <g id=\"text_48\">\n",
       "    <g clip-path=\"url(#p59bde7cf68)\">\n",
       "     <!-- ${q0}_{2}$ -->\n",
       "     <g transform=\"translate(71.32004 411.619777)scale(0.1625 -0.1625)\">\n",
       "      <use transform=\"translate(0 0.78125)\" xlink:href=\"#DejaVuSans-Oblique-113\"/>\n",
       "      <use transform=\"translate(63.476562 0.78125)\" xlink:href=\"#DejaVuSans-48\"/>\n",
       "      <use transform=\"translate(128.056641 -15.625)scale(0.7)\" xlink:href=\"#DejaVuSans-50\"/>\n",
       "     </g>\n",
       "    </g>\n",
       "   </g>\n",
       "   <g id=\"text_49\">\n",
       "    <g clip-path=\"url(#p59bde7cf68)\">\n",
       "     <!-- ${q0}_{3}$ -->\n",
       "     <g transform=\"translate(71.32004 457.070777)scale(0.1625 -0.1625)\">\n",
       "      <use transform=\"translate(0 0.78125)\" xlink:href=\"#DejaVuSans-Oblique-113\"/>\n",
       "      <use transform=\"translate(63.476562 0.78125)\" xlink:href=\"#DejaVuSans-48\"/>\n",
       "      <use transform=\"translate(128.056641 -15.625)scale(0.7)\" xlink:href=\"#DejaVuSans-51\"/>\n",
       "     </g>\n",
       "    </g>\n",
       "   </g>\n",
       "   <g id=\"text_50\">\n",
       "    <g clip-path=\"url(#p59bde7cf68)\">\n",
       "     <!-- ${q0}_{4}$ -->\n",
       "     <g transform=\"translate(71.32004 502.521777)scale(0.1625 -0.1625)\">\n",
       "      <use transform=\"translate(0 0.78125)\" xlink:href=\"#DejaVuSans-Oblique-113\"/>\n",
       "      <use transform=\"translate(63.476562 0.78125)\" xlink:href=\"#DejaVuSans-48\"/>\n",
       "      <use transform=\"translate(128.056641 -15.625)scale(0.7)\" xlink:href=\"#DejaVuSans-52\"/>\n",
       "     </g>\n",
       "    </g>\n",
       "   </g>\n",
       "   <g id=\"text_51\">\n",
       "    <g clip-path=\"url(#p59bde7cf68)\">\n",
       "     <!-- ${q0}_{0}$ -->\n",
       "     <g transform=\"translate(71.32004 593.423777)scale(0.1625 -0.1625)\">\n",
       "      <use transform=\"translate(0 0.78125)\" xlink:href=\"#DejaVuSans-Oblique-113\"/>\n",
       "      <use transform=\"translate(63.476562 0.78125)\" xlink:href=\"#DejaVuSans-48\"/>\n",
       "      <use transform=\"translate(128.056641 -15.625)scale(0.7)\" xlink:href=\"#DejaVuSans-48\"/>\n",
       "     </g>\n",
       "    </g>\n",
       "   </g>\n",
       "   <g id=\"text_52\">\n",
       "    <g clip-path=\"url(#p59bde7cf68)\">\n",
       "     <!-- ${q0}_{1}$ -->\n",
       "     <g transform=\"translate(71.32004 638.874777)scale(0.1625 -0.1625)\">\n",
       "      <use transform=\"translate(0 0.78125)\" xlink:href=\"#DejaVuSans-Oblique-113\"/>\n",
       "      <use transform=\"translate(63.476562 0.78125)\" xlink:href=\"#DejaVuSans-48\"/>\n",
       "      <use transform=\"translate(128.056641 -15.625)scale(0.7)\" xlink:href=\"#DejaVuSans-49\"/>\n",
       "     </g>\n",
       "    </g>\n",
       "   </g>\n",
       "   <g id=\"text_53\">\n",
       "    <g clip-path=\"url(#p59bde7cf68)\">\n",
       "     <!-- ${q0}_{2}$ -->\n",
       "     <g transform=\"translate(71.32004 684.325777)scale(0.1625 -0.1625)\">\n",
       "      <use transform=\"translate(0 0.78125)\" xlink:href=\"#DejaVuSans-Oblique-113\"/>\n",
       "      <use transform=\"translate(63.476562 0.78125)\" xlink:href=\"#DejaVuSans-48\"/>\n",
       "      <use transform=\"translate(128.056641 -15.625)scale(0.7)\" xlink:href=\"#DejaVuSans-50\"/>\n",
       "     </g>\n",
       "    </g>\n",
       "   </g>\n",
       "   <g id=\"text_54\">\n",
       "    <g clip-path=\"url(#p59bde7cf68)\">\n",
       "     <!-- ${q0}_{3}$ -->\n",
       "     <g transform=\"translate(71.32004 729.776777)scale(0.1625 -0.1625)\">\n",
       "      <use transform=\"translate(0 0.78125)\" xlink:href=\"#DejaVuSans-Oblique-113\"/>\n",
       "      <use transform=\"translate(63.476562 0.78125)\" xlink:href=\"#DejaVuSans-48\"/>\n",
       "      <use transform=\"translate(128.056641 -15.625)scale(0.7)\" xlink:href=\"#DejaVuSans-51\"/>\n",
       "     </g>\n",
       "    </g>\n",
       "   </g>\n",
       "   <g id=\"text_55\">\n",
       "    <g clip-path=\"url(#p59bde7cf68)\">\n",
       "     <!-- ${q0}_{4}$ -->\n",
       "     <g transform=\"translate(71.32004 775.227777)scale(0.1625 -0.1625)\">\n",
       "      <use transform=\"translate(0 0.78125)\" xlink:href=\"#DejaVuSans-Oblique-113\"/>\n",
       "      <use transform=\"translate(63.476562 0.78125)\" xlink:href=\"#DejaVuSans-48\"/>\n",
       "      <use transform=\"translate(128.056641 -15.625)scale(0.7)\" xlink:href=\"#DejaVuSans-52\"/>\n",
       "     </g>\n",
       "    </g>\n",
       "   </g>\n",
       "  </g>\n",
       " </g>\n",
       " <defs>\n",
       "  <clipPath id=\"p59bde7cf68\">\n",
       "   <rect height=\"790.8474\" width=\"1278.99114\" x=\"7.2\" y=\"7.2\"/>\n",
       "  </clipPath>\n",
       " </defs>\n",
       "</svg>\n"
      ],
      "text/plain": [
       "<Figure size 1694.03x1047.48 with 1 Axes>"
      ]
     },
     "execution_count": 4,
     "metadata": {},
     "output_type": "execute_result"
    }
   ],
   "source": [
    "#Creates controlled anstaz for calculating |<b|psi>|^2 with a Hadamard test\n",
    "\n",
    "def control_fixed_ansatz(qubits, parameters, ancilla, reg):\n",
    "\n",
    "    for i in range (0, len(qubits)):\n",
    "        circ.cry(parameters[0][i], qiskit.circuit.Qubit(reg, ancilla), qiskit.circuit.Qubit(reg, qubits[i]))\n",
    "\n",
    "    circ.ccx(ancilla, qubits[1], 4)\n",
    "    circ.cz(qubits[0], 4)\n",
    "    circ.ccx(ancilla, qubits[1], 4)\n",
    "\n",
    "    circ.ccx(ancilla, qubits[0], 4)\n",
    "    circ.cz(qubits[2], 4)\n",
    "    circ.ccx(ancilla, qubits[0], 4)\n",
    "\n",
    "    for i in range (0, len(qubits)):\n",
    "        circ.cry(parameters[1][i], qiskit.circuit.Qubit(reg, ancilla), qiskit.circuit.Qubit(reg, qubits[i]))\n",
    "\n",
    "    circ.ccx(ancilla, qubits[2], 4)\n",
    "    circ.cz(qubits[1], 4)\n",
    "    circ.ccx(ancilla, qubits[2], 4)\n",
    "\n",
    "    circ.ccx(ancilla, qubits[0], 4)\n",
    "    circ.cz(qubits[2], 4)\n",
    "    circ.ccx(ancilla, qubits[0], 4)\n",
    "\n",
    "    for i in range (0, len(qubits)):\n",
    "        circ.cry(parameters[2][i], qiskit.circuit.Qubit(reg, ancilla), qiskit.circuit.Qubit(reg, qubits[i]))\n",
    "\n",
    "q_reg = QuantumRegister(5)\n",
    "circ = QuantumCircuit(q_reg)\n",
    "control_fixed_ansatz([1, 2, 3], [[1, 1, 1], [1, 1, 1], [1, 1, 1]], 0, q_reg)\n",
    "circ.draw(output='mpl')"
   ]
  },
  {
   "cell_type": "markdown",
   "metadata": {},
   "source": [
    "Notice the extra qubit, `q0_4`. This is an ancilla, and allows us to create a $CCZ$ gate, as is shown in the circuit. Now, we also have to create the circuit for $U$. In our implementation, we will pick $U$ as:\n",
    "\n",
    "<br>\n",
    "\n",
    "\n",
    "\n",
    "$$U \\ = \\ H_1 H_2 H_3$$\n",
    "\n",
    "\n",
    "\n",
    "<br>\n",
    "\n",
    "Thus, we have:"
   ]
  },
  {
   "cell_type": "code",
   "execution_count": 5,
   "metadata": {},
   "outputs": [
    {
     "data": {
      "image/svg+xml": [
       "<?xml version=\"1.0\" encoding=\"utf-8\" standalone=\"no\"?>\n",
       "<!DOCTYPE svg PUBLIC \"-//W3C//DTD SVG 1.1//EN\"\n",
       "  \"http://www.w3.org/Graphics/SVG/1.1/DTD/svg11.dtd\">\n",
       "<!-- Created with matplotlib (https://matplotlib.org/) -->\n",
       "<svg height=\"214.3844pt\" version=\"1.1\" viewBox=\"0 0 285.28796 214.3844\" width=\"285.28796pt\" xmlns=\"http://www.w3.org/2000/svg\" xmlns:xlink=\"http://www.w3.org/1999/xlink\">\n",
       " <defs>\n",
       "  <style type=\"text/css\">\n",
       "*{stroke-linecap:butt;stroke-linejoin:round;}\n",
       "  </style>\n",
       " </defs>\n",
       " <g id=\"figure_1\">\n",
       "  <g id=\"patch_1\">\n",
       "   <path d=\"M 0 214.3844 \n",
       "L 285.28796 214.3844 \n",
       "L 285.28796 0 \n",
       "L 0 0 \n",
       "z\n",
       "\" style=\"fill:#ffffff;\"/>\n",
       "  </g>\n",
       "  <g id=\"axes_1\">\n",
       "   <g id=\"line2d_1\">\n",
       "    <path clip-path=\"url(#pf503d2dc82)\" d=\"M 114.46436 43.5608 \n",
       "L 273.54286 43.5608 \n",
       "\" style=\"fill:none;stroke:#000000;stroke-linecap:square;stroke-width:2;\"/>\n",
       "   </g>\n",
       "   <g id=\"line2d_2\">\n",
       "    <path clip-path=\"url(#pf503d2dc82)\" d=\"M 114.46436 89.0118 \n",
       "L 273.54286 89.0118 \n",
       "\" style=\"fill:none;stroke:#000000;stroke-linecap:square;stroke-width:2;\"/>\n",
       "   </g>\n",
       "   <g id=\"line2d_3\">\n",
       "    <path clip-path=\"url(#pf503d2dc82)\" d=\"M 114.46436 134.4628 \n",
       "L 273.54286 134.4628 \n",
       "\" style=\"fill:none;stroke:#000000;stroke-linecap:square;stroke-width:2;\"/>\n",
       "   </g>\n",
       "   <g id=\"line2d_4\">\n",
       "    <path clip-path=\"url(#pf503d2dc82)\" d=\"M 114.46436 179.9138 \n",
       "L 273.54286 179.9138 \n",
       "\" style=\"fill:none;stroke:#000000;stroke-linecap:square;stroke-width:2;\"/>\n",
       "   </g>\n",
       "   <g id=\"line2d_5\">\n",
       "    <path clip-path=\"url(#pf503d2dc82)\" d=\"M 137.18986 89.0118 \n",
       "L 137.18986 43.5608 \n",
       "\" style=\"fill:none;stroke:#bb8bff;stroke-linecap:square;stroke-width:2;\"/>\n",
       "   </g>\n",
       "   <g id=\"line2d_6\">\n",
       "    <path clip-path=\"url(#pf503d2dc82)\" d=\"M 182.64086 134.4628 \n",
       "L 182.64086 43.5608 \n",
       "\" style=\"fill:none;stroke:#bb8bff;stroke-linecap:square;stroke-width:2;\"/>\n",
       "   </g>\n",
       "   <g id=\"line2d_7\">\n",
       "    <path clip-path=\"url(#pf503d2dc82)\" d=\"M 228.09186 179.9138 \n",
       "L 228.09186 43.5608 \n",
       "\" style=\"fill:none;stroke:#bb8bff;stroke-linecap:square;stroke-width:2;\"/>\n",
       "   </g>\n",
       "   <g id=\"patch_2\">\n",
       "    <path clip-path=\"url(#pf503d2dc82)\" d=\"M 137.18986 47.992272 \n",
       "C 138.3651 47.992272 139.492364 47.525345 140.323384 46.694324 \n",
       "C 141.154405 45.863304 141.621333 44.73604 141.621333 43.5608 \n",
       "C 141.621333 42.38556 141.154405 41.258296 140.323384 40.427276 \n",
       "C 139.492364 39.596255 138.3651 39.129328 137.18986 39.129328 \n",
       "C 136.01462 39.129328 134.887356 39.596255 134.056336 40.427276 \n",
       "C 133.225315 41.258296 132.758387 42.38556 132.758387 43.5608 \n",
       "C 132.758387 44.73604 133.225315 45.863304 134.056336 46.694324 \n",
       "C 134.887356 47.525345 136.01462 47.992272 137.18986 47.992272 \n",
       "z\n",
       "\" style=\"fill:#bb8bff;stroke:#bb8bff;stroke-linejoin:miter;stroke-width:1.5;\"/>\n",
       "   </g>\n",
       "   <g id=\"patch_3\">\n",
       "    <path clip-path=\"url(#pf503d2dc82)\" d=\"M 122.418285 103.783375 \n",
       "L 151.961435 103.783375 \n",
       "L 151.961435 74.240225 \n",
       "L 122.418285 74.240225 \n",
       "z\n",
       "\" style=\"fill:#6fa4ff;\"/>\n",
       "   </g>\n",
       "   <g id=\"patch_4\">\n",
       "    <path clip-path=\"url(#pf503d2dc82)\" d=\"M 182.64086 47.992272 \n",
       "C 183.8161 47.992272 184.943364 47.525345 185.774384 46.694324 \n",
       "C 186.605405 45.863304 187.072333 44.73604 187.072333 43.5608 \n",
       "C 187.072333 42.38556 186.605405 41.258296 185.774384 40.427276 \n",
       "C 184.943364 39.596255 183.8161 39.129328 182.64086 39.129328 \n",
       "C 181.46562 39.129328 180.338356 39.596255 179.507336 40.427276 \n",
       "C 178.676315 41.258296 178.209388 42.38556 178.209388 43.5608 \n",
       "C 178.209388 44.73604 178.676315 45.863304 179.507336 46.694324 \n",
       "C 180.338356 47.525345 181.46562 47.992272 182.64086 47.992272 \n",
       "z\n",
       "\" style=\"fill:#bb8bff;stroke:#bb8bff;stroke-linejoin:miter;stroke-width:1.5;\"/>\n",
       "   </g>\n",
       "   <g id=\"patch_5\">\n",
       "    <path clip-path=\"url(#pf503d2dc82)\" d=\"M 167.869285 149.234375 \n",
       "L 197.412435 149.234375 \n",
       "L 197.412435 119.691225 \n",
       "L 167.869285 119.691225 \n",
       "z\n",
       "\" style=\"fill:#6fa4ff;\"/>\n",
       "   </g>\n",
       "   <g id=\"patch_6\">\n",
       "    <path clip-path=\"url(#pf503d2dc82)\" d=\"M 228.09186 47.992272 \n",
       "C 229.2671 47.992272 230.394364 47.525345 231.225384 46.694324 \n",
       "C 232.056405 45.863304 232.523333 44.73604 232.523333 43.5608 \n",
       "C 232.523333 42.38556 232.056405 41.258296 231.225384 40.427276 \n",
       "C 230.394364 39.596255 229.2671 39.129328 228.09186 39.129328 \n",
       "C 226.91662 39.129328 225.789356 39.596255 224.958336 40.427276 \n",
       "C 224.127315 41.258296 223.660388 42.38556 223.660388 43.5608 \n",
       "C 223.660388 44.73604 224.127315 45.863304 224.958336 46.694324 \n",
       "C 225.789356 47.525345 226.91662 47.992272 228.09186 47.992272 \n",
       "z\n",
       "\" style=\"fill:#bb8bff;stroke:#bb8bff;stroke-linejoin:miter;stroke-width:1.5;\"/>\n",
       "   </g>\n",
       "   <g id=\"patch_7\">\n",
       "    <path clip-path=\"url(#pf503d2dc82)\" d=\"M 213.320285 194.685375 \n",
       "L 242.863435 194.685375 \n",
       "L 242.863435 165.142225 \n",
       "L 213.320285 165.142225 \n",
       "z\n",
       "\" style=\"fill:#6fa4ff;\"/>\n",
       "   </g>\n",
       "   <g id=\"text_1\">\n",
       "    <g clip-path=\"url(#pf503d2dc82)\">\n",
       "     <!-- $H$ -->\n",
       "     <defs>\n",
       "      <path d=\"M 16.890625 72.90625 \n",
       "L 26.8125 72.90625 \n",
       "L 21 43.015625 \n",
       "L 56.78125 43.015625 \n",
       "L 62.59375 72.90625 \n",
       "L 72.515625 72.90625 \n",
       "L 58.296875 0 \n",
       "L 48.390625 0 \n",
       "L 55.171875 34.71875 \n",
       "L 19.390625 34.71875 \n",
       "L 12.59375 0 \n",
       "L 2.6875 0 \n",
       "z\n",
       "\" id=\"DejaVuSans-Oblique-72\"/>\n",
       "     </defs>\n",
       "     <g transform=\"translate(132.24986 92.598987)scale(0.13 -0.13)\">\n",
       "      <use transform=\"translate(0 0.09375)\" xlink:href=\"#DejaVuSans-Oblique-72\"/>\n",
       "     </g>\n",
       "    </g>\n",
       "   </g>\n",
       "   <g id=\"text_2\">\n",
       "    <g clip-path=\"url(#pf503d2dc82)\">\n",
       "     <!-- $H$ -->\n",
       "     <g transform=\"translate(177.70086 138.049987)scale(0.13 -0.13)\">\n",
       "      <use transform=\"translate(0 0.09375)\" xlink:href=\"#DejaVuSans-Oblique-72\"/>\n",
       "     </g>\n",
       "    </g>\n",
       "   </g>\n",
       "   <g id=\"text_3\">\n",
       "    <g clip-path=\"url(#pf503d2dc82)\">\n",
       "     <!-- $H$ -->\n",
       "     <g transform=\"translate(223.15186 183.500988)scale(0.13 -0.13)\">\n",
       "      <use transform=\"translate(0 0.09375)\" xlink:href=\"#DejaVuSans-Oblique-72\"/>\n",
       "     </g>\n",
       "    </g>\n",
       "   </g>\n",
       "   <g id=\"text_4\">\n",
       "    <g clip-path=\"url(#pf503d2dc82)\">\n",
       "     <!-- ${q}_{0}$ -->\n",
       "     <defs>\n",
       "      <path d=\"M 41.703125 8.203125 \n",
       "Q 38.09375 3.46875 33.171875 1.015625 \n",
       "Q 28.265625 -1.421875 22.3125 -1.421875 \n",
       "Q 14.015625 -1.421875 9.296875 4.171875 \n",
       "Q 4.59375 9.765625 4.59375 19.578125 \n",
       "Q 4.59375 27.484375 7.5 34.859375 \n",
       "Q 10.40625 42.234375 15.828125 48.09375 \n",
       "Q 19.34375 51.90625 23.90625 53.953125 \n",
       "Q 28.46875 56 33.5 56 \n",
       "Q 39.546875 56 43.453125 53.609375 \n",
       "Q 47.359375 51.21875 49.125 46.390625 \n",
       "L 50.6875 54.59375 \n",
       "L 59.71875 54.59375 \n",
       "L 45.125 -20.609375 \n",
       "L 36.078125 -20.609375 \n",
       "z\n",
       "M 13.921875 20.90625 \n",
       "Q 13.921875 13.671875 16.9375 9.890625 \n",
       "Q 19.96875 6.109375 25.6875 6.109375 \n",
       "Q 34.1875 6.109375 40.1875 14.234375 \n",
       "Q 46.1875 22.359375 46.1875 33.984375 \n",
       "Q 46.1875 41.015625 43.078125 44.75 \n",
       "Q 39.984375 48.484375 34.1875 48.484375 \n",
       "Q 29.9375 48.484375 26.3125 46.5 \n",
       "Q 22.703125 44.53125 20.015625 40.71875 \n",
       "Q 17.1875 36.71875 15.546875 31.34375 \n",
       "Q 13.921875 25.984375 13.921875 20.90625 \n",
       "z\n",
       "\" id=\"DejaVuSans-Oblique-113\"/>\n",
       "      <path d=\"M 31.78125 66.40625 \n",
       "Q 24.171875 66.40625 20.328125 58.90625 \n",
       "Q 16.5 51.421875 16.5 36.375 \n",
       "Q 16.5 21.390625 20.328125 13.890625 \n",
       "Q 24.171875 6.390625 31.78125 6.390625 \n",
       "Q 39.453125 6.390625 43.28125 13.890625 \n",
       "Q 47.125 21.390625 47.125 36.375 \n",
       "Q 47.125 51.421875 43.28125 58.90625 \n",
       "Q 39.453125 66.40625 31.78125 66.40625 \n",
       "z\n",
       "M 31.78125 74.21875 \n",
       "Q 44.046875 74.21875 50.515625 64.515625 \n",
       "Q 56.984375 54.828125 56.984375 36.375 \n",
       "Q 56.984375 17.96875 50.515625 8.265625 \n",
       "Q 44.046875 -1.421875 31.78125 -1.421875 \n",
       "Q 19.53125 -1.421875 13.0625 8.265625 \n",
       "Q 6.59375 17.96875 6.59375 36.375 \n",
       "Q 6.59375 54.828125 13.0625 64.515625 \n",
       "Q 19.53125 74.21875 31.78125 74.21875 \n",
       "z\n",
       "\" id=\"DejaVuSans-48\"/>\n",
       "     </defs>\n",
       "     <g transform=\"translate(73.70136 48.011777)scale(0.1625 -0.1625)\">\n",
       "      <use xlink:href=\"#DejaVuSans-Oblique-113\"/>\n",
       "      <use transform=\"translate(63.476562 -16.40625)scale(0.7)\" xlink:href=\"#DejaVuSans-48\"/>\n",
       "     </g>\n",
       "    </g>\n",
       "   </g>\n",
       "   <g id=\"text_5\">\n",
       "    <g clip-path=\"url(#pf503d2dc82)\">\n",
       "     <!-- ${q}_{1}$ -->\n",
       "     <defs>\n",
       "      <path d=\"M 12.40625 8.296875 \n",
       "L 28.515625 8.296875 \n",
       "L 28.515625 63.921875 \n",
       "L 10.984375 60.40625 \n",
       "L 10.984375 69.390625 \n",
       "L 28.421875 72.90625 \n",
       "L 38.28125 72.90625 \n",
       "L 38.28125 8.296875 \n",
       "L 54.390625 8.296875 \n",
       "L 54.390625 0 \n",
       "L 12.40625 0 \n",
       "z\n",
       "\" id=\"DejaVuSans-49\"/>\n",
       "     </defs>\n",
       "     <g transform=\"translate(73.70136 93.462777)scale(0.1625 -0.1625)\">\n",
       "      <use xlink:href=\"#DejaVuSans-Oblique-113\"/>\n",
       "      <use transform=\"translate(63.476562 -16.40625)scale(0.7)\" xlink:href=\"#DejaVuSans-49\"/>\n",
       "     </g>\n",
       "    </g>\n",
       "   </g>\n",
       "   <g id=\"text_6\">\n",
       "    <g clip-path=\"url(#pf503d2dc82)\">\n",
       "     <!-- ${q}_{2}$ -->\n",
       "     <defs>\n",
       "      <path d=\"M 19.1875 8.296875 \n",
       "L 53.609375 8.296875 \n",
       "L 53.609375 0 \n",
       "L 7.328125 0 \n",
       "L 7.328125 8.296875 \n",
       "Q 12.9375 14.109375 22.625 23.890625 \n",
       "Q 32.328125 33.6875 34.8125 36.53125 \n",
       "Q 39.546875 41.84375 41.421875 45.53125 \n",
       "Q 43.3125 49.21875 43.3125 52.78125 \n",
       "Q 43.3125 58.59375 39.234375 62.25 \n",
       "Q 35.15625 65.921875 28.609375 65.921875 \n",
       "Q 23.96875 65.921875 18.8125 64.3125 \n",
       "Q 13.671875 62.703125 7.8125 59.421875 \n",
       "L 7.8125 69.390625 \n",
       "Q 13.765625 71.78125 18.9375 73 \n",
       "Q 24.125 74.21875 28.421875 74.21875 \n",
       "Q 39.75 74.21875 46.484375 68.546875 \n",
       "Q 53.21875 62.890625 53.21875 53.421875 \n",
       "Q 53.21875 48.921875 51.53125 44.890625 \n",
       "Q 49.859375 40.875 45.40625 35.40625 \n",
       "Q 44.1875 33.984375 37.640625 27.21875 \n",
       "Q 31.109375 20.453125 19.1875 8.296875 \n",
       "z\n",
       "\" id=\"DejaVuSans-50\"/>\n",
       "     </defs>\n",
       "     <g transform=\"translate(73.70136 138.913777)scale(0.1625 -0.1625)\">\n",
       "      <use xlink:href=\"#DejaVuSans-Oblique-113\"/>\n",
       "      <use transform=\"translate(63.476562 -16.40625)scale(0.7)\" xlink:href=\"#DejaVuSans-50\"/>\n",
       "     </g>\n",
       "    </g>\n",
       "   </g>\n",
       "   <g id=\"text_7\">\n",
       "    <g clip-path=\"url(#pf503d2dc82)\">\n",
       "     <!-- ${q}_{3}$ -->\n",
       "     <defs>\n",
       "      <path d=\"M 40.578125 39.3125 \n",
       "Q 47.65625 37.796875 51.625 33 \n",
       "Q 55.609375 28.21875 55.609375 21.1875 \n",
       "Q 55.609375 10.40625 48.1875 4.484375 \n",
       "Q 40.765625 -1.421875 27.09375 -1.421875 \n",
       "Q 22.515625 -1.421875 17.65625 -0.515625 \n",
       "Q 12.796875 0.390625 7.625 2.203125 \n",
       "L 7.625 11.71875 \n",
       "Q 11.71875 9.328125 16.59375 8.109375 \n",
       "Q 21.484375 6.890625 26.8125 6.890625 \n",
       "Q 36.078125 6.890625 40.9375 10.546875 \n",
       "Q 45.796875 14.203125 45.796875 21.1875 \n",
       "Q 45.796875 27.640625 41.28125 31.265625 \n",
       "Q 36.765625 34.90625 28.71875 34.90625 \n",
       "L 20.21875 34.90625 \n",
       "L 20.21875 43.015625 \n",
       "L 29.109375 43.015625 \n",
       "Q 36.375 43.015625 40.234375 45.921875 \n",
       "Q 44.09375 48.828125 44.09375 54.296875 \n",
       "Q 44.09375 59.90625 40.109375 62.90625 \n",
       "Q 36.140625 65.921875 28.71875 65.921875 \n",
       "Q 24.65625 65.921875 20.015625 65.03125 \n",
       "Q 15.375 64.15625 9.8125 62.3125 \n",
       "L 9.8125 71.09375 \n",
       "Q 15.4375 72.65625 20.34375 73.4375 \n",
       "Q 25.25 74.21875 29.59375 74.21875 \n",
       "Q 40.828125 74.21875 47.359375 69.109375 \n",
       "Q 53.90625 64.015625 53.90625 55.328125 \n",
       "Q 53.90625 49.265625 50.4375 45.09375 \n",
       "Q 46.96875 40.921875 40.578125 39.3125 \n",
       "z\n",
       "\" id=\"DejaVuSans-51\"/>\n",
       "     </defs>\n",
       "     <g transform=\"translate(73.70136 184.364777)scale(0.1625 -0.1625)\">\n",
       "      <use xlink:href=\"#DejaVuSans-Oblique-113\"/>\n",
       "      <use transform=\"translate(63.476562 -16.40625)scale(0.7)\" xlink:href=\"#DejaVuSans-51\"/>\n",
       "     </g>\n",
       "    </g>\n",
       "   </g>\n",
       "  </g>\n",
       " </g>\n",
       " <defs>\n",
       "  <clipPath id=\"pf503d2dc82\">\n",
       "   <rect height=\"199.9844\" width=\"270.88796\" x=\"7.2\" y=\"7.2\"/>\n",
       "  </clipPath>\n",
       " </defs>\n",
       "</svg>\n"
      ],
      "text/plain": [
       "<Figure size 358.792x264.88 with 1 Axes>"
      ]
     },
     "execution_count": 5,
     "metadata": {},
     "output_type": "execute_result"
    }
   ],
   "source": [
    "def control_b(ancilla, qubits):\n",
    "\n",
    "    for ia in qubits:\n",
    "        circ.ch(ancilla, ia)\n",
    "\n",
    "circ = QuantumCircuit(4)\n",
    "control_b(0, [1, 2, 3])\n",
    "circ.draw(output='mpl')"
   ]
  },
  {
   "cell_type": "markdown",
   "metadata": {},
   "source": [
    "Finally, we construct our new Hadamard test:"
   ]
  },
  {
   "cell_type": "code",
   "execution_count": 6,
   "metadata": {},
   "outputs": [
    {
     "name": "stdout",
     "output_type": "stream",
     "text": [
      "              ┌───┐                                                         »\n",
      "q1_0: |0>─────┤ H ├───────■────────────────────■────■────────────────────■──»\n",
      "         ┌────┴───┴────┐┌─┴─┐┌──────────────┐┌─┴─┐  │                    │  »\n",
      "q1_1: |0>┤ U3(0.5,0,0) ├┤ X ├┤ U3(-0.5,0,0) ├┤ X ├──┼────────────────────┼──»\n",
      "         ├─────────────┤└───┘└──────────────┘└───┘┌─┴─┐┌──────────────┐┌─┴─┐»\n",
      "q1_2: |0>┤ U3(0.5,0,0) ├──────────────────────────┤ X ├┤ U3(-0.5,0,0) ├┤ X ├»\n",
      "         ├─────────────┤                          └───┘└──────────────┘└───┘»\n",
      "q1_3: |0>┤ U3(0.5,0,0) ├────────────────────────────────────────────────────»\n",
      "         └─────────────┘                                                    »\n",
      "q1_4: |0>───────────────────────────────────────────────────────────────────»\n",
      "                                                                            »\n",
      "«                                                                      »\n",
      "«q1_0: ──■────────────────────■────■───────■────■───────────────────■──»\n",
      "«        │                    │    │       │    │                   │  »\n",
      "«q1_1: ──┼────────────────────┼────┼───■───┼────■───────────────────■──»\n",
      "«        │                    │    │   │   │    │  ┌─────────────┐  │  »\n",
      "«q1_2: ──┼────────────────────┼────■───┼───■────┼──┤ U3(0.5,0,0) ├──┼──»\n",
      "«      ┌─┴─┐┌──────────────┐┌─┴─┐  │   │   │    │  └─────────────┘  │  »\n",
      "«q1_3: ┤ X ├┤ U3(-0.5,0,0) ├┤ X ├──┼───┼───┼────┼─────────■─────────┼──»\n",
      "«      └───┘└──────────────┘└───┘┌─┴─┐ │ ┌─┴─┐┌─┴─┐       │       ┌─┴─┐»\n",
      "«q1_4: ──────────────────────────┤ X ├─■─┤ X ├┤ X ├───────■───────┤ X ├»\n",
      "«                                └───┘   └───┘└───┘               └───┘»\n",
      "«                                                                              »\n",
      "«q1_0: ─────────────────■────────────────────■────■────────────────────■────■──»\n",
      "«      ┌─────────────┐┌─┴─┐┌──────────────┐┌─┴─┐  │                    │    │  »\n",
      "«q1_1: ┤ U3(0.5,0,0) ├┤ X ├┤ U3(-0.5,0,0) ├┤ X ├──┼────────────────────┼────┼──»\n",
      "«      └─────────────┘└───┘└──────────────┘└───┘┌─┴─┐┌──────────────┐┌─┴─┐  │  »\n",
      "«q1_2: ─────────────────────────────────────────┤ X ├┤ U3(-0.5,0,0) ├┤ X ├──┼──»\n",
      "«      ┌─────────────┐                          └───┘└──────────────┘└───┘┌─┴─┐»\n",
      "«q1_3: ┤ U3(0.5,0,0) ├────────────────────────────────────────────────────┤ X ├»\n",
      "«      └─────────────┘                                                    └───┘»\n",
      "«q1_4: ────────────────────────────────────────────────────────────────────────»\n",
      "«                                                                              »\n",
      "«                                                                    »\n",
      "«q1_0: ──────────────────■────■───────■───────────────────■───────■──»\n",
      "«                        │    │       │                   │       │  »\n",
      "«q1_1: ──────────────────┼────┼───────┼───────────────────■───────■──»\n",
      "«                        │    │       │  ┌─────────────┐  │       │  »\n",
      "«q1_2: ──────────────────┼────┼───■───┼──┤ U3(0.5,0,0) ├──┼───────┼──»\n",
      "«      ┌──────────────┐┌─┴─┐  │   │   │  └─────────────┘  │       │  »\n",
      "«q1_3: ┤ U3(-0.5,0,0) ├┤ X ├──■───┼───■───────────────────┼───■───┼──»\n",
      "«      └──────────────┘└───┘┌─┴─┐ │ ┌─┴─┐               ┌─┴─┐ │ ┌─┴─┐»\n",
      "«q1_4: ─────────────────────┤ X ├─■─┤ X ├───────────────┤ X ├─■─┤ X ├»\n",
      "«                           └───┘   └───┘               └───┘   └───┘»\n",
      "«                                                                              »\n",
      "«q1_0: ─────────────────■────────────────────■────■────────────────────■────■──»\n",
      "«      ┌─────────────┐┌─┴─┐┌──────────────┐┌─┴─┐  │                    │    │  »\n",
      "«q1_1: ┤ U3(0.5,0,0) ├┤ X ├┤ U3(-0.5,0,0) ├┤ X ├──┼────────────────────┼────┼──»\n",
      "«      └─────────────┘└───┘└──────────────┘└───┘┌─┴─┐┌──────────────┐┌─┴─┐  │  »\n",
      "«q1_2: ─────────────────────────────────────────┤ X ├┤ U3(-0.5,0,0) ├┤ X ├──┼──»\n",
      "«      ┌─────────────┐                          └───┘└──────────────┘└───┘┌─┴─┐»\n",
      "«q1_3: ┤ U3(0.5,0,0) ├────────────────────────────────────────────────────┤ X ├»\n",
      "«      └─────────────┘                                                    └───┘»\n",
      "«q1_4: ────────────────────────────────────────────────────────────────────────»\n",
      "«                                                                              »\n",
      "«                                          ┌───┐\n",
      "«q1_0: ──────────────────■────■────■────■──┤ H ├\n",
      "«                        │  ┌─┴─┐  │    │  └───┘\n",
      "«q1_1: ──────────────────┼──┤ H ├──┼────┼───────\n",
      "«                        │  └───┘┌─┴─┐  │       \n",
      "«q1_2: ──────────────────┼───────┤ H ├──┼───────\n",
      "«      ┌──────────────┐┌─┴─┐     └───┘┌─┴─┐     \n",
      "«q1_3: ┤ U3(-0.5,0,0) ├┤ X ├──────────┤ H ├─────\n",
      "«      └──────────────┘└───┘          └───┘     \n",
      "«q1_4: ─────────────────────────────────────────\n",
      "«                                               \n"
     ]
    }
   ],
   "source": [
    "#Create the controlled Hadamard test, for calculating <psi|psi>\n",
    "\n",
    "def special_had_test(gate_type, qubits, ancilla_index, parameters, reg):\n",
    "\n",
    "    circ.h(ancilla_index)\n",
    "\n",
    "    control_fixed_ansatz(qubits, parameters, ancilla_index, reg)\n",
    "\n",
    "    for ty in range (0, len(gate_type)):\n",
    "        if (gate_type[ty] == 1):\n",
    "            circ.cz(ancilla_index, qubits[ty])\n",
    "\n",
    "\n",
    "    control_b(ancilla_index, qubits)\n",
    "    \n",
    "    circ.h(ancilla_index)\n",
    "\n",
    "q_reg = QuantumRegister(5)\n",
    "circ = QuantumCircuit(q_reg)\n",
    "special_had_test([[0, 0, 0], [0, 0, 1]], [1, 2, 3], 0, [[1, 1, 1], [1, 1, 1], [1, 1, 1]], q_reg)\n",
    "print(circ)"
   ]
  },
  {
   "cell_type": "markdown",
   "metadata": {},
   "source": [
    "This is for the specific implementation when all of our parameters are set to $1$, and the set of gates $A_n$ is simply `[0, 0, 0]`, and `[0, 0, 1]`, which corresponds to the identity matrix on all qubits, as well as the $Z$ matrix on the third qubit (with my \"code notation\").\n",
    "\n",
    "Now, we are ready to calculate the final cost function. This simply involves us taking the products of all combinations of the expectation outputs from the different circuits, multiplying by their respective coefficients, and arranging into the cost function that we discussed previously!"
   ]
  },
  {
   "cell_type": "code",
   "execution_count": 7,
   "metadata": {},
   "outputs": [],
   "source": [
    "#Implements the entire cost function on the quantum circuit\n",
    "\n",
    "def calculate_cost_function(parameters):\n",
    "    \n",
    "    global opt\n",
    "\n",
    "    overall_sum_1 = 0\n",
    "    \n",
    "    parameters = [parameters[0:3], parameters[3:6], parameters[6:9]]\n",
    "\n",
    "    for i in range(0, len(gate_set)):\n",
    "        for j in range(0, len(gate_set)):\n",
    "\n",
    "            global circ\n",
    "\n",
    "            qctl = QuantumRegister(5)\n",
    "            qc = ClassicalRegister(5)\n",
    "            circ = QuantumCircuit(qctl, qc)\n",
    "\n",
    "            backend = Aer.get_backend('statevector_simulator')\n",
    "            \n",
    "            multiply = coefficient_set[i]*coefficient_set[j]\n",
    "\n",
    "            had_test([gate_set[i], gate_set[j]], [1, 2, 3], 0, parameters)\n",
    "\n",
    "            job = execute(circ, backend)\n",
    "\n",
    "            result = job.result()\n",
    "            outputstate = np.real(result.get_statevector(circ, decimals=100))\n",
    "            o = outputstate\n",
    "\n",
    "            m_sum = 0\n",
    "            for l in range (0, len(o)):\n",
    "                if (l%2 == 1):\n",
    "                    n = o[l]**2\n",
    "                    m_sum+=n\n",
    "\n",
    "            overall_sum_1+=multiply*(1-(2*m_sum))\n",
    "\n",
    "    overall_sum_2 = 0\n",
    "\n",
    "    for i in range(0, len(gate_set)):\n",
    "        for j in range(0, len(gate_set)):\n",
    "\n",
    "            multiply = coefficient_set[i]*coefficient_set[j]\n",
    "            mult = 1\n",
    "\n",
    "            for extra in range(0, 2):\n",
    "\n",
    "                qctl = QuantumRegister(5)\n",
    "                qc = ClassicalRegister(5)\n",
    "                circ = QuantumCircuit(qctl, qc)\n",
    "\n",
    "                backend = Aer.get_backend('statevector_simulator')\n",
    "\n",
    "                if (extra == 0):\n",
    "                    special_had_test(gate_set[i], [1, 2, 3], 0, parameters, qctl)\n",
    "                if (extra == 1):\n",
    "                    special_had_test(gate_set[j], [1, 2, 3], 0, parameters, qctl)\n",
    "\n",
    "                job = execute(circ, backend)\n",
    "\n",
    "                result = job.result()\n",
    "                outputstate = np.real(result.get_statevector(circ, decimals=100))\n",
    "                o = outputstate\n",
    "\n",
    "                m_sum = 0\n",
    "                for l in range (0, len(o)):\n",
    "                    if (l%2 == 1):\n",
    "                        n = o[l]**2\n",
    "                        m_sum+=n\n",
    "                mult = mult*(1-(2*m_sum))\n",
    "\n",
    "            overall_sum_2+=multiply*mult\n",
    "            \n",
    "    print(1-float(overall_sum_2/overall_sum_1))\n",
    "\n",
    "    return 1-float(overall_sum_2/overall_sum_1)"
   ]
  },
  {
   "cell_type": "markdown",
   "metadata": {},
   "source": [
    "This code may look long and daunting, but it isn't! In this simulation, I'm taking a **numerical** approach, where I'm calculating the amplitude squared of each state corresponding to a measurement of the ancilla Hadamard test qubit in the $1$ state, then calculating $P(0) \\ - \\ P(1) \\ = \\ 1 \\ - \\ 2P(1)$ with that information. This is very exact, but is not realistic, as a real quantum device would have to sample the circuit many times to generate these probabilities (I'll discuss sampling later). In addition, this code is not completely optimized (it completes more evaluations of the quantum circuit than it has to), but this is the simplest way in which the code can be implemented, and I will be optimizing it in an update to thiss tutorial in the near future.\n",
    "\n",
    "The final step is to actually use this code to solve a real linear system. We will first be looking at the example:\n",
    "\n",
    "<br>\n",
    "\n",
    "\n",
    "\n",
    "$$A \\ = \\ 0.45 Z_3 \\ + \\ 0.55 \\mathbb{I}$$\n",
    "\n",
    "\n",
    "\n",
    "<br>\n",
    "\n",
    "In order to minimize the cost function, we use the COBYLA optimizer method, which we repeatedly applying. Our search space for parameters is determined by $\\frac{k}{1000} \\ k \\ \\in \\ \\{0, \\ 3000\\}$, which is initially chosen randomly. We will run the optimizer for $200$ steps, then terminate and apply the ansatz for our optimal parameters, to get our optimized state vector! In addition, we will compute some post-processing, to see if our algorithm actually works! In order to do this, we will apply $A$ to our optimal vector $|\\psi\\rangle_o$, normalize it, then calculate the inner product squared of this vector and the solution vector, $|b\\rangle$! We can put this all into code as:"
   ]
  },
  {
   "cell_type": "code",
   "execution_count": 8,
   "metadata": {
    "scrolled": true
   },
   "outputs": [
    {
     "name": "stdout",
     "output_type": "stream",
     "text": [
      "0.7260295360394795\n"
     ]
    },
    {
     "name": "stdout",
     "output_type": "stream",
     "text": [
      "0.7752900217571115\n"
     ]
    },
    {
     "name": "stdout",
     "output_type": "stream",
     "text": [
      "0.904521042497052\n"
     ]
    },
    {
     "name": "stdout",
     "output_type": "stream",
     "text": [
      "0.6724723336557688\n"
     ]
    },
    {
     "name": "stdout",
     "output_type": "stream",
     "text": [
      "0.6868949431101335\n"
     ]
    },
    {
     "name": "stdout",
     "output_type": "stream",
     "text": [
      "0.6306960091742932\n"
     ]
    },
    {
     "name": "stdout",
     "output_type": "stream",
     "text": [
      "0.7630616806939006\n"
     ]
    },
    {
     "name": "stdout",
     "output_type": "stream",
     "text": [
      "0.7306463892585625\n"
     ]
    },
    {
     "name": "stdout",
     "output_type": "stream",
     "text": [
      "0.8312325830113914\n"
     ]
    },
    {
     "name": "stdout",
     "output_type": "stream",
     "text": [
      "0.6174578614160815\n"
     ]
    },
    {
     "name": "stdout",
     "output_type": "stream",
     "text": [
      "0.638606585405306\n"
     ]
    },
    {
     "name": "stdout",
     "output_type": "stream",
     "text": [
      "0.7207460248610225\n"
     ]
    },
    {
     "name": "stdout",
     "output_type": "stream",
     "text": [
      "0.6433213665156894\n"
     ]
    },
    {
     "name": "stdout",
     "output_type": "stream",
     "text": [
      "0.6022399761757863\n"
     ]
    },
    {
     "name": "stdout",
     "output_type": "stream",
     "text": [
      "0.6462199632470047\n"
     ]
    },
    {
     "name": "stdout",
     "output_type": "stream",
     "text": [
      "0.5449846007832502\n"
     ]
    },
    {
     "name": "stdout",
     "output_type": "stream",
     "text": [
      "0.5397341708892227\n"
     ]
    },
    {
     "name": "stdout",
     "output_type": "stream",
     "text": [
      "0.5409746651062586\n"
     ]
    },
    {
     "name": "stdout",
     "output_type": "stream",
     "text": [
      "0.5111180380723979\n"
     ]
    },
    {
     "name": "stdout",
     "output_type": "stream",
     "text": [
      "0.6162296971381425\n"
     ]
    },
    {
     "name": "stdout",
     "output_type": "stream",
     "text": [
      "0.5156752328437468\n"
     ]
    },
    {
     "name": "stdout",
     "output_type": "stream",
     "text": [
      "0.4842879727317029\n"
     ]
    },
    {
     "name": "stdout",
     "output_type": "stream",
     "text": [
      "0.4758566460233299\n"
     ]
    },
    {
     "name": "stdout",
     "output_type": "stream",
     "text": [
      "0.5018911068084597\n"
     ]
    },
    {
     "name": "stdout",
     "output_type": "stream",
     "text": [
      "0.47907822723092186\n"
     ]
    },
    {
     "name": "stdout",
     "output_type": "stream",
     "text": [
      "0.5073425789966872\n"
     ]
    },
    {
     "name": "stdout",
     "output_type": "stream",
     "text": [
      "0.476915983807092\n"
     ]
    },
    {
     "name": "stdout",
     "output_type": "stream",
     "text": [
      "0.47332558635970345\n"
     ]
    },
    {
     "name": "stdout",
     "output_type": "stream",
     "text": [
      "0.4777767604283929\n"
     ]
    },
    {
     "name": "stdout",
     "output_type": "stream",
     "text": [
      "0.4681885041341526\n"
     ]
    },
    {
     "name": "stdout",
     "output_type": "stream",
     "text": [
      "0.4758158477109029\n"
     ]
    },
    {
     "name": "stdout",
     "output_type": "stream",
     "text": [
      "0.4674981706432103\n"
     ]
    },
    {
     "name": "stdout",
     "output_type": "stream",
     "text": [
      "0.4803836618563354\n"
     ]
    },
    {
     "name": "stdout",
     "output_type": "stream",
     "text": [
      "0.4555875935935608\n"
     ]
    },
    {
     "name": "stdout",
     "output_type": "stream",
     "text": [
      "0.46178941037415344\n"
     ]
    },
    {
     "name": "stdout",
     "output_type": "stream",
     "text": [
      "0.45307179779105\n"
     ]
    },
    {
     "name": "stdout",
     "output_type": "stream",
     "text": [
      "0.4703075307640757\n"
     ]
    },
    {
     "name": "stdout",
     "output_type": "stream",
     "text": [
      "0.46092238548525777\n"
     ]
    },
    {
     "name": "stdout",
     "output_type": "stream",
     "text": [
      "0.443435956130099\n"
     ]
    },
    {
     "name": "stdout",
     "output_type": "stream",
     "text": [
      "0.42463423730936267\n"
     ]
    },
    {
     "name": "stdout",
     "output_type": "stream",
     "text": [
      "0.43535383472867617\n"
     ]
    },
    {
     "name": "stdout",
     "output_type": "stream",
     "text": [
      "0.4244209535908664\n"
     ]
    },
    {
     "name": "stdout",
     "output_type": "stream",
     "text": [
      "0.43905067474107407\n"
     ]
    },
    {
     "name": "stdout",
     "output_type": "stream",
     "text": [
      "0.43640458924290126\n"
     ]
    },
    {
     "name": "stdout",
     "output_type": "stream",
     "text": [
      "0.3980316199521827\n"
     ]
    },
    {
     "name": "stdout",
     "output_type": "stream",
     "text": [
      "0.3678551315695432\n"
     ]
    },
    {
     "name": "stdout",
     "output_type": "stream",
     "text": [
      "0.3554584529897057\n"
     ]
    },
    {
     "name": "stdout",
     "output_type": "stream",
     "text": [
      "0.33867536469193116\n"
     ]
    },
    {
     "name": "stdout",
     "output_type": "stream",
     "text": [
      "0.32860009191501915\n"
     ]
    },
    {
     "name": "stdout",
     "output_type": "stream",
     "text": [
      "0.23549878760921594\n"
     ]
    },
    {
     "name": "stdout",
     "output_type": "stream",
     "text": [
      "0.30115531925961314\n"
     ]
    },
    {
     "name": "stdout",
     "output_type": "stream",
     "text": [
      "0.26385415039275684\n"
     ]
    },
    {
     "name": "stdout",
     "output_type": "stream",
     "text": [
      "0.4115687428368776\n"
     ]
    },
    {
     "name": "stdout",
     "output_type": "stream",
     "text": [
      "0.2395479973161876\n"
     ]
    },
    {
     "name": "stdout",
     "output_type": "stream",
     "text": [
      "0.3817521474191111\n"
     ]
    },
    {
     "name": "stdout",
     "output_type": "stream",
     "text": [
      "0.2595384456433133\n"
     ]
    },
    {
     "name": "stdout",
     "output_type": "stream",
     "text": [
      "0.2897830092739342\n"
     ]
    },
    {
     "name": "stdout",
     "output_type": "stream",
     "text": [
      "0.2452496435262551\n"
     ]
    },
    {
     "name": "stdout",
     "output_type": "stream",
     "text": [
      "0.2972235857517188\n"
     ]
    },
    {
     "name": "stdout",
     "output_type": "stream",
     "text": [
      "0.2729340297836287\n"
     ]
    },
    {
     "name": "stdout",
     "output_type": "stream",
     "text": [
      "0.24618822977289734\n"
     ]
    },
    {
     "name": "stdout",
     "output_type": "stream",
     "text": [
      "0.23589154132903023\n"
     ]
    },
    {
     "name": "stdout",
     "output_type": "stream",
     "text": [
      "0.2377597945583586\n"
     ]
    },
    {
     "name": "stdout",
     "output_type": "stream",
     "text": [
      "0.22809615041579845\n"
     ]
    },
    {
     "name": "stdout",
     "output_type": "stream",
     "text": [
      "0.20268637070957418\n"
     ]
    },
    {
     "name": "stdout",
     "output_type": "stream",
     "text": [
      "0.19224962343636498\n"
     ]
    },
    {
     "name": "stdout",
     "output_type": "stream",
     "text": [
      "0.21880058357084164\n"
     ]
    },
    {
     "name": "stdout",
     "output_type": "stream",
     "text": [
      "0.19808866929263902\n"
     ]
    },
    {
     "name": "stdout",
     "output_type": "stream",
     "text": [
      "0.20731798623400133\n"
     ]
    },
    {
     "name": "stdout",
     "output_type": "stream",
     "text": [
      "0.18534788294899218\n"
     ]
    },
    {
     "name": "stdout",
     "output_type": "stream",
     "text": [
      "0.18721101669517093\n"
     ]
    },
    {
     "name": "stdout",
     "output_type": "stream",
     "text": [
      "0.18289916794816463\n"
     ]
    },
    {
     "name": "stdout",
     "output_type": "stream",
     "text": [
      "0.1877797836970415\n"
     ]
    },
    {
     "name": "stdout",
     "output_type": "stream",
     "text": [
      "0.1725216290735485\n"
     ]
    },
    {
     "name": "stdout",
     "output_type": "stream",
     "text": [
      "0.1681986707149299\n"
     ]
    },
    {
     "name": "stdout",
     "output_type": "stream",
     "text": [
      "0.2083268076904189\n"
     ]
    },
    {
     "name": "stdout",
     "output_type": "stream",
     "text": [
      "0.1575639884596498\n"
     ]
    },
    {
     "name": "stdout",
     "output_type": "stream",
     "text": [
      "0.14548519552713546\n"
     ]
    },
    {
     "name": "stdout",
     "output_type": "stream",
     "text": [
      "0.14144146621012132\n"
     ]
    },
    {
     "name": "stdout",
     "output_type": "stream",
     "text": [
      "0.14090090363063668\n"
     ]
    },
    {
     "name": "stdout",
     "output_type": "stream",
     "text": [
      "0.14080716772423962\n"
     ]
    },
    {
     "name": "stdout",
     "output_type": "stream",
     "text": [
      "0.13752130428844866\n"
     ]
    },
    {
     "name": "stdout",
     "output_type": "stream",
     "text": [
      "0.13157740433100307\n"
     ]
    },
    {
     "name": "stdout",
     "output_type": "stream",
     "text": [
      "0.12966708521948023\n"
     ]
    },
    {
     "name": "stdout",
     "output_type": "stream",
     "text": [
      "0.1286139382963335\n"
     ]
    },
    {
     "name": "stdout",
     "output_type": "stream",
     "text": [
      "0.12659555519763588\n"
     ]
    },
    {
     "name": "stdout",
     "output_type": "stream",
     "text": [
      "0.13596219604226722\n"
     ]
    },
    {
     "name": "stdout",
     "output_type": "stream",
     "text": [
      "0.1159448735542582\n"
     ]
    },
    {
     "name": "stdout",
     "output_type": "stream",
     "text": [
      "0.10912725770034237\n"
     ]
    },
    {
     "name": "stdout",
     "output_type": "stream",
     "text": [
      "0.1054671391230968\n"
     ]
    },
    {
     "name": "stdout",
     "output_type": "stream",
     "text": [
      "0.10586299469232241\n"
     ]
    },
    {
     "name": "stdout",
     "output_type": "stream",
     "text": [
      "0.10672344809533729\n"
     ]
    },
    {
     "name": "stdout",
     "output_type": "stream",
     "text": [
      "0.1090481898340625\n"
     ]
    },
    {
     "name": "stdout",
     "output_type": "stream",
     "text": [
      "0.10526484769984845\n"
     ]
    },
    {
     "name": "stdout",
     "output_type": "stream",
     "text": [
      "0.11380228311795426\n"
     ]
    },
    {
     "name": "stdout",
     "output_type": "stream",
     "text": [
      "0.10878159198344062\n"
     ]
    },
    {
     "name": "stdout",
     "output_type": "stream",
     "text": [
      "0.10873008241917426\n"
     ]
    },
    {
     "name": "stdout",
     "output_type": "stream",
     "text": [
      "0.10351394337048447\n"
     ]
    },
    {
     "name": "stdout",
     "output_type": "stream",
     "text": [
      "0.10696289349095078\n"
     ]
    },
    {
     "name": "stdout",
     "output_type": "stream",
     "text": [
      "0.10292020289185777\n"
     ]
    },
    {
     "name": "stdout",
     "output_type": "stream",
     "text": [
      "0.10702578572360721\n"
     ]
    },
    {
     "name": "stdout",
     "output_type": "stream",
     "text": [
      "0.10486839433130757\n"
     ]
    },
    {
     "name": "stdout",
     "output_type": "stream",
     "text": [
      "0.09934112401530104\n"
     ]
    },
    {
     "name": "stdout",
     "output_type": "stream",
     "text": [
      "0.10051386227265602\n"
     ]
    },
    {
     "name": "stdout",
     "output_type": "stream",
     "text": [
      "0.09817080431600811\n"
     ]
    },
    {
     "name": "stdout",
     "output_type": "stream",
     "text": [
      "0.09486213192674342\n"
     ]
    },
    {
     "name": "stdout",
     "output_type": "stream",
     "text": [
      "0.09469517501329472\n"
     ]
    },
    {
     "name": "stdout",
     "output_type": "stream",
     "text": [
      "0.09379956510205645\n"
     ]
    },
    {
     "name": "stdout",
     "output_type": "stream",
     "text": [
      "0.08986365724381662\n"
     ]
    },
    {
     "name": "stdout",
     "output_type": "stream",
     "text": [
      "0.08804514743249103\n"
     ]
    },
    {
     "name": "stdout",
     "output_type": "stream",
     "text": [
      "0.08735580853433189\n"
     ]
    },
    {
     "name": "stdout",
     "output_type": "stream",
     "text": [
      "0.08922877507608795\n"
     ]
    },
    {
     "name": "stdout",
     "output_type": "stream",
     "text": [
      "0.08941718872508841\n"
     ]
    },
    {
     "name": "stdout",
     "output_type": "stream",
     "text": [
      "0.08694165029693868\n"
     ]
    },
    {
     "name": "stdout",
     "output_type": "stream",
     "text": [
      "0.08407461645423897\n"
     ]
    },
    {
     "name": "stdout",
     "output_type": "stream",
     "text": [
      "0.08487293693176434\n"
     ]
    },
    {
     "name": "stdout",
     "output_type": "stream",
     "text": [
      "0.08319527119686076\n"
     ]
    },
    {
     "name": "stdout",
     "output_type": "stream",
     "text": [
      "0.08237645202260813\n"
     ]
    },
    {
     "name": "stdout",
     "output_type": "stream",
     "text": [
      "0.08240040915217095\n"
     ]
    },
    {
     "name": "stdout",
     "output_type": "stream",
     "text": [
      "0.0843710921298978\n"
     ]
    },
    {
     "name": "stdout",
     "output_type": "stream",
     "text": [
      "0.08181083505285369\n"
     ]
    },
    {
     "name": "stdout",
     "output_type": "stream",
     "text": [
      "0.0816465477217101\n"
     ]
    },
    {
     "name": "stdout",
     "output_type": "stream",
     "text": [
      "0.08184178555490951\n"
     ]
    },
    {
     "name": "stdout",
     "output_type": "stream",
     "text": [
      "0.08272429267515291\n"
     ]
    },
    {
     "name": "stdout",
     "output_type": "stream",
     "text": [
      "0.08310717935567002\n"
     ]
    },
    {
     "name": "stdout",
     "output_type": "stream",
     "text": [
      "0.07966383661051135\n"
     ]
    },
    {
     "name": "stdout",
     "output_type": "stream",
     "text": [
      "0.07904322175823186\n"
     ]
    },
    {
     "name": "stdout",
     "output_type": "stream",
     "text": [
      "0.07769278113813682\n"
     ]
    },
    {
     "name": "stdout",
     "output_type": "stream",
     "text": [
      "0.07830133912512638\n"
     ]
    },
    {
     "name": "stdout",
     "output_type": "stream",
     "text": [
      "0.07816975596055875\n"
     ]
    },
    {
     "name": "stdout",
     "output_type": "stream",
     "text": [
      "0.0780420850796989\n"
     ]
    },
    {
     "name": "stdout",
     "output_type": "stream",
     "text": [
      "0.0777324238160344\n"
     ]
    },
    {
     "name": "stdout",
     "output_type": "stream",
     "text": [
      "0.07625138202055637\n"
     ]
    },
    {
     "name": "stdout",
     "output_type": "stream",
     "text": [
      "0.07591186527791804\n"
     ]
    },
    {
     "name": "stdout",
     "output_type": "stream",
     "text": [
      "0.07570890620776438\n"
     ]
    },
    {
     "name": "stdout",
     "output_type": "stream",
     "text": [
      "0.07523387420535466\n"
     ]
    },
    {
     "name": "stdout",
     "output_type": "stream",
     "text": [
      "0.07540107154195386\n"
     ]
    },
    {
     "name": "stdout",
     "output_type": "stream",
     "text": [
      "0.07498221796752802\n"
     ]
    },
    {
     "name": "stdout",
     "output_type": "stream",
     "text": [
      "0.07296771955175585\n"
     ]
    },
    {
     "name": "stdout",
     "output_type": "stream",
     "text": [
      "0.07161047471727089\n"
     ]
    },
    {
     "name": "stdout",
     "output_type": "stream",
     "text": [
      "0.07076811862964916\n"
     ]
    },
    {
     "name": "stdout",
     "output_type": "stream",
     "text": [
      "0.07042342757433862\n"
     ]
    },
    {
     "name": "stdout",
     "output_type": "stream",
     "text": [
      "0.07003265946884663\n"
     ]
    },
    {
     "name": "stdout",
     "output_type": "stream",
     "text": [
      "0.0699061851264503\n"
     ]
    },
    {
     "name": "stdout",
     "output_type": "stream",
     "text": [
      "0.07016780636684783\n"
     ]
    },
    {
     "name": "stdout",
     "output_type": "stream",
     "text": [
      "0.07199026092169569\n"
     ]
    },
    {
     "name": "stdout",
     "output_type": "stream",
     "text": [
      "0.07030712702581532\n"
     ]
    },
    {
     "name": "stdout",
     "output_type": "stream",
     "text": [
      "0.0697920450062306\n"
     ]
    },
    {
     "name": "stdout",
     "output_type": "stream",
     "text": [
      "0.06947187823094658\n"
     ]
    },
    {
     "name": "stdout",
     "output_type": "stream",
     "text": [
      "0.06739830473203023\n"
     ]
    },
    {
     "name": "stdout",
     "output_type": "stream",
     "text": [
      "0.06627517255867998\n"
     ]
    },
    {
     "name": "stdout",
     "output_type": "stream",
     "text": [
      "0.066333759679441\n"
     ]
    },
    {
     "name": "stdout",
     "output_type": "stream",
     "text": [
      "0.06620146488910861\n"
     ]
    },
    {
     "name": "stdout",
     "output_type": "stream",
     "text": [
      "0.06469041632702877\n"
     ]
    },
    {
     "name": "stdout",
     "output_type": "stream",
     "text": [
      "0.06353750268799219\n"
     ]
    },
    {
     "name": "stdout",
     "output_type": "stream",
     "text": [
      "0.06311501919345741\n"
     ]
    },
    {
     "name": "stdout",
     "output_type": "stream",
     "text": [
      "0.06312162196110616\n"
     ]
    },
    {
     "name": "stdout",
     "output_type": "stream",
     "text": [
      "0.06283684917278987\n"
     ]
    },
    {
     "name": "stdout",
     "output_type": "stream",
     "text": [
      "0.061466165411680485\n"
     ]
    },
    {
     "name": "stdout",
     "output_type": "stream",
     "text": [
      "0.06041442080906856\n"
     ]
    },
    {
     "name": "stdout",
     "output_type": "stream",
     "text": [
      "0.05960576581068\n"
     ]
    },
    {
     "name": "stdout",
     "output_type": "stream",
     "text": [
      "0.05872072327596134\n"
     ]
    },
    {
     "name": "stdout",
     "output_type": "stream",
     "text": [
      "0.05821073917700714\n"
     ]
    },
    {
     "name": "stdout",
     "output_type": "stream",
     "text": [
      "0.05734585799573699\n"
     ]
    },
    {
     "name": "stdout",
     "output_type": "stream",
     "text": [
      "0.057620502916340244\n"
     ]
    },
    {
     "name": "stdout",
     "output_type": "stream",
     "text": [
      "0.05705768186413995\n"
     ]
    },
    {
     "name": "stdout",
     "output_type": "stream",
     "text": [
      "0.057895980190840635\n"
     ]
    },
    {
     "name": "stdout",
     "output_type": "stream",
     "text": [
      "0.05746745390541019\n"
     ]
    },
    {
     "name": "stdout",
     "output_type": "stream",
     "text": [
      "0.055796424450000326\n"
     ]
    },
    {
     "name": "stdout",
     "output_type": "stream",
     "text": [
      "0.055531859985066045\n"
     ]
    },
    {
     "name": "stdout",
     "output_type": "stream",
     "text": [
      "0.055562660878860415\n"
     ]
    },
    {
     "name": "stdout",
     "output_type": "stream",
     "text": [
      "0.055721997560861936\n"
     ]
    },
    {
     "name": "stdout",
     "output_type": "stream",
     "text": [
      "0.055458926545191134\n"
     ]
    },
    {
     "name": "stdout",
     "output_type": "stream",
     "text": [
      "0.05596649424847522\n"
     ]
    },
    {
     "name": "stdout",
     "output_type": "stream",
     "text": [
      "0.05616240332698008\n"
     ]
    },
    {
     "name": "stdout",
     "output_type": "stream",
     "text": [
      "0.054249472349463645\n"
     ]
    },
    {
     "name": "stdout",
     "output_type": "stream",
     "text": [
      "0.05370242750879162\n"
     ]
    },
    {
     "name": "stdout",
     "output_type": "stream",
     "text": [
      "0.05319501499345103\n"
     ]
    },
    {
     "name": "stdout",
     "output_type": "stream",
     "text": [
      "0.05300260968771153\n"
     ]
    },
    {
     "name": "stdout",
     "output_type": "stream",
     "text": [
      "0.05266213682795906\n"
     ]
    },
    {
     "name": "stdout",
     "output_type": "stream",
     "text": [
      "0.0514453150511901\n"
     ]
    },
    {
     "name": "stdout",
     "output_type": "stream",
     "text": [
      "0.050438418803681606\n"
     ]
    },
    {
     "name": "stdout",
     "output_type": "stream",
     "text": [
      "0.05051007755034875\n"
     ]
    },
    {
     "name": "stdout",
     "output_type": "stream",
     "text": [
      "0.05036518763092179\n"
     ]
    },
    {
     "name": "stdout",
     "output_type": "stream",
     "text": [
      "0.05008760786485533\n"
     ]
    },
    {
     "name": "stdout",
     "output_type": "stream",
     "text": [
      "0.050124892489988526\n"
     ]
    },
    {
     "name": "stdout",
     "output_type": "stream",
     "text": [
      "0.04948552266963446\n"
     ]
    },
    {
     "name": "stdout",
     "output_type": "stream",
     "text": [
      "0.04965231965640937\n"
     ]
    },
    {
     "name": "stdout",
     "output_type": "stream",
     "text": [
      "0.04889121590975276\n"
     ]
    },
    {
     "name": "stdout",
     "output_type": "stream",
     "text": [
      "0.04912494807061751\n"
     ]
    },
    {
     "name": "stdout",
     "output_type": "stream",
     "text": [
      "0.04851387476482616\n"
     ]
    },
    {
     "name": "stdout",
     "output_type": "stream",
     "text": [
      "0.04733879709722921\n"
     ]
    },
    {
     "name": "stdout",
     "output_type": "stream",
     "text": [
      "0.04668378681913088\n"
     ]
    },
    {
     "name": "stdout",
     "output_type": "stream",
     "text": [
      "0.046000358891536086\n"
     ]
    },
    {
     "name": "stdout",
     "output_type": "stream",
     "text": [
      "0.04641821589537132\n"
     ]
    },
    {
     "name": "stdout",
     "output_type": "stream",
     "text": [
      "0.04607177382671146\n"
     ]
    },
    {
     "name": "stdout",
     "output_type": "stream",
     "text": [
      "0.0455079708734053\n"
     ]
    },
    {
     "name": "stdout",
     "output_type": "stream",
     "text": [
      "0.04575109909207409\n"
     ]
    },
    {
     "name": "stdout",
     "output_type": "stream",
     "text": [
      "0.04639360288121852\n"
     ]
    },
    {
     "name": "stdout",
     "output_type": "stream",
     "text": [
      "0.04538357433638929\n",
      "     fun: 0.04538357433638929\n",
      "   maxcv: 0.0\n",
      " message: 'Maximum number of function evaluations has been exceeded.'\n",
      "    nfev: 200\n",
      "  status: 2\n",
      " success: False\n",
      "       x: array([1.88514537, 0.00847878, 3.04330519, 1.75327891, 0.08770506,\n",
      "       2.43756353, 1.63178745, 2.09752409, 3.62520129])\n",
      "(0.9546164256514695-0j)\n"
     ]
    }
   ],
   "source": [
    "coefficient_set = [0.55, 0.45]\n",
    "gate_set = [[0, 0, 0], [0, 0, 1]]\n",
    "\n",
    "out = minimize(calculate_cost_function, x0=[float(random.randint(0,3000))/1000 for i in range(0, 9)], method=\"COBYLA\", options={'maxiter':200})\n",
    "print(out)\n",
    "\n",
    "out_f = [out['x'][0:3], out['x'][3:6], out['x'][6:9]]\n",
    "\n",
    "circ = QuantumCircuit(3, 3)\n",
    "apply_fixed_ansatz([0, 1, 2], out_f)\n",
    "\n",
    "backend = Aer.get_backend('statevector_simulator')\n",
    "\n",
    "job = execute(circ, backend)\n",
    "\n",
    "result = job.result()\n",
    "o = result.get_statevector(circ, decimals=10)\n",
    "\n",
    "a1 = coefficient_set[1]*np.array([[1,0,0,0,0,0,0,0], [0,1,0,0,0,0,0,0], [0,0,1,0,0,0,0,0], [0,0,0,1,0,0,0,0], [0,0,0,0,-1,0,0,0], [0,0,0,0,0,-1,0,0], [0,0,0,0,0,0,-1,0], [0,0,0,0,0,0,0,-1]])\n",
    "a2 = coefficient_set[0]*np.array([[1,0,0,0,0,0,0,0], [0,1,0,0,0,0,0,0], [0,0,1,0,0,0,0,0], [0,0,0,1,0,0,0,0], [0,0,0,0,1,0,0,0], [0,0,0,0,0,1,0,0], [0,0,0,0,0,0,1,0], [0,0,0,0,0,0,0,1]])\n",
    "a3 = np.add(a1, a2)\n",
    "\n",
    "b = np.array([float(1/np.sqrt(8)),float(1/np.sqrt(8)),float(1/np.sqrt(8)),float(1/np.sqrt(8)),float(1/np.sqrt(8)),float(1/np.sqrt(8)),float(1/np.sqrt(8)),float(1/np.sqrt(8))])\n",
    "\n",
    "print((b.dot(a3.dot(o)/(np.linalg.norm(a3.dot(o)))))**2)"
   ]
  },
  {
   "cell_type": "markdown",
   "metadata": {},
   "source": [
    "As you can see, our cost function has acheived a fairly low value of `0.03273673575407443`, and when we calculate our classical cost function, we get `0.96776862579723`, which agrees perfectly with what we measured, the vectors $|\\psi\\rangle_o$ and $|b\\rangle$ are very similar!\n",
    "\n",
    "Let's do another test! This time, we will keep $|b\\rangle$ the same, but we will have:\n",
    "\n",
    "<br>\n",
    "\n",
    "\n",
    "\n",
    "$$A \\ = \\ 0.55 \\mathbb{I} \\ + \\ 0.225 Z_2 \\ + \\ 0.225 Z_3$$\n",
    "\n",
    "\n",
    "\n",
    "Again, we run our optimization code:"
   ]
  },
  {
   "cell_type": "code",
   "execution_count": 9,
   "metadata": {
    "scrolled": true
   },
   "outputs": [
    {
     "name": "stdout",
     "output_type": "stream",
     "text": [
      "0.9799856290093593\n"
     ]
    },
    {
     "name": "stdout",
     "output_type": "stream",
     "text": [
      "0.9191792111360295\n"
     ]
    },
    {
     "name": "stdout",
     "output_type": "stream",
     "text": [
      "0.973364494052271\n"
     ]
    },
    {
     "name": "stdout",
     "output_type": "stream",
     "text": [
      "0.8305003425889084\n"
     ]
    },
    {
     "name": "stdout",
     "output_type": "stream",
     "text": [
      "0.7516802955839005\n"
     ]
    },
    {
     "name": "stdout",
     "output_type": "stream",
     "text": [
      "0.7635599522039713\n"
     ]
    },
    {
     "name": "stdout",
     "output_type": "stream",
     "text": [
      "0.6094749425505793\n"
     ]
    },
    {
     "name": "stdout",
     "output_type": "stream",
     "text": [
      "0.6668103394361817\n"
     ]
    },
    {
     "name": "stdout",
     "output_type": "stream",
     "text": [
      "0.5239427481348197\n"
     ]
    },
    {
     "name": "stdout",
     "output_type": "stream",
     "text": [
      "0.49286347441968004\n"
     ]
    },
    {
     "name": "stdout",
     "output_type": "stream",
     "text": [
      "0.4184982398819488\n"
     ]
    },
    {
     "name": "stdout",
     "output_type": "stream",
     "text": [
      "0.4739108593052248\n"
     ]
    },
    {
     "name": "stdout",
     "output_type": "stream",
     "text": [
      "0.3976498333377706\n"
     ]
    },
    {
     "name": "stdout",
     "output_type": "stream",
     "text": [
      "0.9530662230594242\n"
     ]
    },
    {
     "name": "stdout",
     "output_type": "stream",
     "text": [
      "0.45543570881078843\n"
     ]
    },
    {
     "name": "stdout",
     "output_type": "stream",
     "text": [
      "0.6241906351672615\n"
     ]
    },
    {
     "name": "stdout",
     "output_type": "stream",
     "text": [
      "0.42936051702341127\n"
     ]
    },
    {
     "name": "stdout",
     "output_type": "stream",
     "text": [
      "0.2852410093024703\n"
     ]
    },
    {
     "name": "stdout",
     "output_type": "stream",
     "text": [
      "0.4690632779294306\n"
     ]
    },
    {
     "name": "stdout",
     "output_type": "stream",
     "text": [
      "0.36513856837796566\n"
     ]
    },
    {
     "name": "stdout",
     "output_type": "stream",
     "text": [
      "0.36845240443478466\n"
     ]
    },
    {
     "name": "stdout",
     "output_type": "stream",
     "text": [
      "0.20068047796352817\n"
     ]
    },
    {
     "name": "stdout",
     "output_type": "stream",
     "text": [
      "0.2653385164308232\n"
     ]
    },
    {
     "name": "stdout",
     "output_type": "stream",
     "text": [
      "0.21966516932642843\n"
     ]
    },
    {
     "name": "stdout",
     "output_type": "stream",
     "text": [
      "0.29259451850610807\n"
     ]
    },
    {
     "name": "stdout",
     "output_type": "stream",
     "text": [
      "0.20360149836717656\n"
     ]
    },
    {
     "name": "stdout",
     "output_type": "stream",
     "text": [
      "0.2491355266510582\n"
     ]
    },
    {
     "name": "stdout",
     "output_type": "stream",
     "text": [
      "0.16975661101848682\n"
     ]
    },
    {
     "name": "stdout",
     "output_type": "stream",
     "text": [
      "0.327892884360087\n"
     ]
    },
    {
     "name": "stdout",
     "output_type": "stream",
     "text": [
      "0.19588698850142017\n"
     ]
    },
    {
     "name": "stdout",
     "output_type": "stream",
     "text": [
      "0.14909182223070738\n"
     ]
    },
    {
     "name": "stdout",
     "output_type": "stream",
     "text": [
      "0.16625774705283758\n"
     ]
    },
    {
     "name": "stdout",
     "output_type": "stream",
     "text": [
      "0.16222036559534425\n"
     ]
    },
    {
     "name": "stdout",
     "output_type": "stream",
     "text": [
      "0.17372651887227886\n"
     ]
    },
    {
     "name": "stdout",
     "output_type": "stream",
     "text": [
      "0.15395939216577414\n"
     ]
    },
    {
     "name": "stdout",
     "output_type": "stream",
     "text": [
      "0.15948604388183563\n"
     ]
    },
    {
     "name": "stdout",
     "output_type": "stream",
     "text": [
      "0.16069377158075815\n"
     ]
    },
    {
     "name": "stdout",
     "output_type": "stream",
     "text": [
      "0.18661247759263122\n"
     ]
    },
    {
     "name": "stdout",
     "output_type": "stream",
     "text": [
      "0.1658240419641217\n"
     ]
    },
    {
     "name": "stdout",
     "output_type": "stream",
     "text": [
      "0.14149416087835887\n"
     ]
    },
    {
     "name": "stdout",
     "output_type": "stream",
     "text": [
      "0.15215976189514202\n"
     ]
    },
    {
     "name": "stdout",
     "output_type": "stream",
     "text": [
      "0.13690236088900476\n"
     ]
    },
    {
     "name": "stdout",
     "output_type": "stream",
     "text": [
      "0.14541704604575467\n"
     ]
    },
    {
     "name": "stdout",
     "output_type": "stream",
     "text": [
      "0.14755323066767156\n"
     ]
    },
    {
     "name": "stdout",
     "output_type": "stream",
     "text": [
      "0.12158576116273945\n"
     ]
    },
    {
     "name": "stdout",
     "output_type": "stream",
     "text": [
      "0.13463741297329013\n"
     ]
    },
    {
     "name": "stdout",
     "output_type": "stream",
     "text": [
      "0.12821813681472372\n"
     ]
    },
    {
     "name": "stdout",
     "output_type": "stream",
     "text": [
      "0.09430625249682723\n"
     ]
    },
    {
     "name": "stdout",
     "output_type": "stream",
     "text": [
      "0.08946046892530746\n"
     ]
    },
    {
     "name": "stdout",
     "output_type": "stream",
     "text": [
      "0.09229268465043683\n"
     ]
    },
    {
     "name": "stdout",
     "output_type": "stream",
     "text": [
      "0.07262210419139115\n"
     ]
    },
    {
     "name": "stdout",
     "output_type": "stream",
     "text": [
      "0.0668484687791071\n"
     ]
    },
    {
     "name": "stdout",
     "output_type": "stream",
     "text": [
      "0.07022776023757538\n"
     ]
    },
    {
     "name": "stdout",
     "output_type": "stream",
     "text": [
      "0.057757863845067314\n"
     ]
    },
    {
     "name": "stdout",
     "output_type": "stream",
     "text": [
      "0.09204616134113686\n"
     ]
    },
    {
     "name": "stdout",
     "output_type": "stream",
     "text": [
      "0.055942181474200936\n"
     ]
    },
    {
     "name": "stdout",
     "output_type": "stream",
     "text": [
      "0.06577476745961086\n"
     ]
    },
    {
     "name": "stdout",
     "output_type": "stream",
     "text": [
      "0.046339686487442355\n"
     ]
    },
    {
     "name": "stdout",
     "output_type": "stream",
     "text": [
      "0.05922962935848941\n"
     ]
    },
    {
     "name": "stdout",
     "output_type": "stream",
     "text": [
      "0.04177784270550522\n"
     ]
    },
    {
     "name": "stdout",
     "output_type": "stream",
     "text": [
      "0.045532680830652095\n"
     ]
    },
    {
     "name": "stdout",
     "output_type": "stream",
     "text": [
      "0.04325678852544235\n"
     ]
    },
    {
     "name": "stdout",
     "output_type": "stream",
     "text": [
      "0.061238790099715\n"
     ]
    },
    {
     "name": "stdout",
     "output_type": "stream",
     "text": [
      "0.04152174780050777\n"
     ]
    },
    {
     "name": "stdout",
     "output_type": "stream",
     "text": [
      "0.0377500124206418\n"
     ]
    },
    {
     "name": "stdout",
     "output_type": "stream",
     "text": [
      "0.03659834261333794\n"
     ]
    },
    {
     "name": "stdout",
     "output_type": "stream",
     "text": [
      "0.03357196475346835\n"
     ]
    },
    {
     "name": "stdout",
     "output_type": "stream",
     "text": [
      "0.027467059632344526\n"
     ]
    },
    {
     "name": "stdout",
     "output_type": "stream",
     "text": [
      "0.030064385925937298\n"
     ]
    },
    {
     "name": "stdout",
     "output_type": "stream",
     "text": [
      "0.026919143194243267\n"
     ]
    },
    {
     "name": "stdout",
     "output_type": "stream",
     "text": [
      "0.026773589861557867\n"
     ]
    },
    {
     "name": "stdout",
     "output_type": "stream",
     "text": [
      "0.025924959055732888\n"
     ]
    },
    {
     "name": "stdout",
     "output_type": "stream",
     "text": [
      "0.04026946868405146\n"
     ]
    },
    {
     "name": "stdout",
     "output_type": "stream",
     "text": [
      "0.026199152646672386\n"
     ]
    },
    {
     "name": "stdout",
     "output_type": "stream",
     "text": [
      "0.03664382536695876\n"
     ]
    },
    {
     "name": "stdout",
     "output_type": "stream",
     "text": [
      "0.02736438150320486\n"
     ]
    },
    {
     "name": "stdout",
     "output_type": "stream",
     "text": [
      "0.026717239580175467\n"
     ]
    },
    {
     "name": "stdout",
     "output_type": "stream",
     "text": [
      "0.026940231244494295\n"
     ]
    },
    {
     "name": "stdout",
     "output_type": "stream",
     "text": [
      "0.02518338681736043\n"
     ]
    },
    {
     "name": "stdout",
     "output_type": "stream",
     "text": [
      "0.02336578389117383\n"
     ]
    },
    {
     "name": "stdout",
     "output_type": "stream",
     "text": [
      "0.02386499415861487\n"
     ]
    },
    {
     "name": "stdout",
     "output_type": "stream",
     "text": [
      "0.02054887163555963\n"
     ]
    },
    {
     "name": "stdout",
     "output_type": "stream",
     "text": [
      "0.020999900619672718\n"
     ]
    },
    {
     "name": "stdout",
     "output_type": "stream",
     "text": [
      "0.020379926447405494\n"
     ]
    },
    {
     "name": "stdout",
     "output_type": "stream",
     "text": [
      "0.01986680569483046\n"
     ]
    },
    {
     "name": "stdout",
     "output_type": "stream",
     "text": [
      "0.020317505712876827\n"
     ]
    },
    {
     "name": "stdout",
     "output_type": "stream",
     "text": [
      "0.019795603496917225\n"
     ]
    },
    {
     "name": "stdout",
     "output_type": "stream",
     "text": [
      "0.01924868829153037\n"
     ]
    },
    {
     "name": "stdout",
     "output_type": "stream",
     "text": [
      "0.019845584492823698\n"
     ]
    },
    {
     "name": "stdout",
     "output_type": "stream",
     "text": [
      "0.019425605972771876\n"
     ]
    },
    {
     "name": "stdout",
     "output_type": "stream",
     "text": [
      "0.020961109938494427\n"
     ]
    },
    {
     "name": "stdout",
     "output_type": "stream",
     "text": [
      "0.019867030479932324\n"
     ]
    },
    {
     "name": "stdout",
     "output_type": "stream",
     "text": [
      "0.017601920911080482\n"
     ]
    },
    {
     "name": "stdout",
     "output_type": "stream",
     "text": [
      "0.017800998171310756\n"
     ]
    },
    {
     "name": "stdout",
     "output_type": "stream",
     "text": [
      "0.017772125030900643\n"
     ]
    },
    {
     "name": "stdout",
     "output_type": "stream",
     "text": [
      "0.01778056620052837\n"
     ]
    },
    {
     "name": "stdout",
     "output_type": "stream",
     "text": [
      "0.017279189720405763\n"
     ]
    },
    {
     "name": "stdout",
     "output_type": "stream",
     "text": [
      "0.016038255304365534\n"
     ]
    },
    {
     "name": "stdout",
     "output_type": "stream",
     "text": [
      "0.016883510152338355\n"
     ]
    },
    {
     "name": "stdout",
     "output_type": "stream",
     "text": [
      "0.01625493537319711\n"
     ]
    },
    {
     "name": "stdout",
     "output_type": "stream",
     "text": [
      "0.015456661360145008\n"
     ]
    },
    {
     "name": "stdout",
     "output_type": "stream",
     "text": [
      "0.015499826369471448\n"
     ]
    },
    {
     "name": "stdout",
     "output_type": "stream",
     "text": [
      "0.01514547950000289\n"
     ]
    },
    {
     "name": "stdout",
     "output_type": "stream",
     "text": [
      "0.014489807089640427\n"
     ]
    },
    {
     "name": "stdout",
     "output_type": "stream",
     "text": [
      "0.0151839491404826\n"
     ]
    },
    {
     "name": "stdout",
     "output_type": "stream",
     "text": [
      "0.014316713298186179\n"
     ]
    },
    {
     "name": "stdout",
     "output_type": "stream",
     "text": [
      "0.012791590734334779\n"
     ]
    },
    {
     "name": "stdout",
     "output_type": "stream",
     "text": [
      "0.012439803841772235\n"
     ]
    },
    {
     "name": "stdout",
     "output_type": "stream",
     "text": [
      "0.012469180360866527\n"
     ]
    },
    {
     "name": "stdout",
     "output_type": "stream",
     "text": [
      "0.012945043360529818\n"
     ]
    },
    {
     "name": "stdout",
     "output_type": "stream",
     "text": [
      "0.012464227392226968\n"
     ]
    },
    {
     "name": "stdout",
     "output_type": "stream",
     "text": [
      "0.011971037945049723\n"
     ]
    },
    {
     "name": "stdout",
     "output_type": "stream",
     "text": [
      "0.011539198685674101\n"
     ]
    },
    {
     "name": "stdout",
     "output_type": "stream",
     "text": [
      "0.012034862230211774\n"
     ]
    },
    {
     "name": "stdout",
     "output_type": "stream",
     "text": [
      "0.012058649495036211\n"
     ]
    },
    {
     "name": "stdout",
     "output_type": "stream",
     "text": [
      "0.011677388188484183\n"
     ]
    },
    {
     "name": "stdout",
     "output_type": "stream",
     "text": [
      "0.011599724253368415\n"
     ]
    },
    {
     "name": "stdout",
     "output_type": "stream",
     "text": [
      "0.011083895430504587\n"
     ]
    },
    {
     "name": "stdout",
     "output_type": "stream",
     "text": [
      "0.011149409509215724\n"
     ]
    },
    {
     "name": "stdout",
     "output_type": "stream",
     "text": [
      "0.011319389201733032\n"
     ]
    },
    {
     "name": "stdout",
     "output_type": "stream",
     "text": [
      "0.011041259406596615\n"
     ]
    },
    {
     "name": "stdout",
     "output_type": "stream",
     "text": [
      "0.01107951240548255\n"
     ]
    },
    {
     "name": "stdout",
     "output_type": "stream",
     "text": [
      "0.011079809008358699\n"
     ]
    },
    {
     "name": "stdout",
     "output_type": "stream",
     "text": [
      "0.011168268250918767\n"
     ]
    },
    {
     "name": "stdout",
     "output_type": "stream",
     "text": [
      "0.010489376639473358\n"
     ]
    },
    {
     "name": "stdout",
     "output_type": "stream",
     "text": [
      "0.010235692606724411\n"
     ]
    },
    {
     "name": "stdout",
     "output_type": "stream",
     "text": [
      "0.010250990214547118\n"
     ]
    },
    {
     "name": "stdout",
     "output_type": "stream",
     "text": [
      "0.010225238039414775\n"
     ]
    },
    {
     "name": "stdout",
     "output_type": "stream",
     "text": [
      "0.01011499999465737\n"
     ]
    },
    {
     "name": "stdout",
     "output_type": "stream",
     "text": [
      "0.009803355869706376\n"
     ]
    },
    {
     "name": "stdout",
     "output_type": "stream",
     "text": [
      "0.009797829748396159\n"
     ]
    },
    {
     "name": "stdout",
     "output_type": "stream",
     "text": [
      "0.009829740501075546\n"
     ]
    },
    {
     "name": "stdout",
     "output_type": "stream",
     "text": [
      "0.009526855961166203\n"
     ]
    },
    {
     "name": "stdout",
     "output_type": "stream",
     "text": [
      "0.009289620244751884\n"
     ]
    },
    {
     "name": "stdout",
     "output_type": "stream",
     "text": [
      "0.00878917631557219\n"
     ]
    },
    {
     "name": "stdout",
     "output_type": "stream",
     "text": [
      "0.008884659386701577\n"
     ]
    },
    {
     "name": "stdout",
     "output_type": "stream",
     "text": [
      "0.00884624480574736\n"
     ]
    },
    {
     "name": "stdout",
     "output_type": "stream",
     "text": [
      "0.008659345398035034\n"
     ]
    },
    {
     "name": "stdout",
     "output_type": "stream",
     "text": [
      "0.00870960677831012\n"
     ]
    },
    {
     "name": "stdout",
     "output_type": "stream",
     "text": [
      "0.008583728506632471\n"
     ]
    },
    {
     "name": "stdout",
     "output_type": "stream",
     "text": [
      "0.00861109177353414\n"
     ]
    },
    {
     "name": "stdout",
     "output_type": "stream",
     "text": [
      "0.008619734496420284\n"
     ]
    },
    {
     "name": "stdout",
     "output_type": "stream",
     "text": [
      "0.00868173074832257\n"
     ]
    },
    {
     "name": "stdout",
     "output_type": "stream",
     "text": [
      "0.0082027060185772\n"
     ]
    },
    {
     "name": "stdout",
     "output_type": "stream",
     "text": [
      "0.008290520360556108\n"
     ]
    },
    {
     "name": "stdout",
     "output_type": "stream",
     "text": [
      "0.008393039854594941\n"
     ]
    },
    {
     "name": "stdout",
     "output_type": "stream",
     "text": [
      "0.007917144606766291\n"
     ]
    },
    {
     "name": "stdout",
     "output_type": "stream",
     "text": [
      "0.007947200755492045\n"
     ]
    },
    {
     "name": "stdout",
     "output_type": "stream",
     "text": [
      "0.007918002282275238\n"
     ]
    },
    {
     "name": "stdout",
     "output_type": "stream",
     "text": [
      "0.007794757927797602\n"
     ]
    },
    {
     "name": "stdout",
     "output_type": "stream",
     "text": [
      "0.007341903137072947\n"
     ]
    },
    {
     "name": "stdout",
     "output_type": "stream",
     "text": [
      "0.007198155323815514\n"
     ]
    },
    {
     "name": "stdout",
     "output_type": "stream",
     "text": [
      "0.007114840336078787\n"
     ]
    },
    {
     "name": "stdout",
     "output_type": "stream",
     "text": [
      "0.007024853366090711\n"
     ]
    },
    {
     "name": "stdout",
     "output_type": "stream",
     "text": [
      "0.007067837243369346\n"
     ]
    },
    {
     "name": "stdout",
     "output_type": "stream",
     "text": [
      "0.007278955955795197\n"
     ]
    },
    {
     "name": "stdout",
     "output_type": "stream",
     "text": [
      "0.006778834450219984\n"
     ]
    },
    {
     "name": "stdout",
     "output_type": "stream",
     "text": [
      "0.006671134958018743\n"
     ]
    },
    {
     "name": "stdout",
     "output_type": "stream",
     "text": [
      "0.006680556712555297\n"
     ]
    },
    {
     "name": "stdout",
     "output_type": "stream",
     "text": [
      "0.006785522971328506\n"
     ]
    },
    {
     "name": "stdout",
     "output_type": "stream",
     "text": [
      "0.0066469962853700215\n"
     ]
    },
    {
     "name": "stdout",
     "output_type": "stream",
     "text": [
      "0.007288886090001112\n"
     ]
    },
    {
     "name": "stdout",
     "output_type": "stream",
     "text": [
      "0.006612044042874632\n"
     ]
    },
    {
     "name": "stdout",
     "output_type": "stream",
     "text": [
      "0.00632806274922626\n"
     ]
    },
    {
     "name": "stdout",
     "output_type": "stream",
     "text": [
      "0.006306917535010781\n"
     ]
    },
    {
     "name": "stdout",
     "output_type": "stream",
     "text": [
      "0.006578103253129464\n"
     ]
    },
    {
     "name": "stdout",
     "output_type": "stream",
     "text": [
      "0.006661041449477323\n"
     ]
    },
    {
     "name": "stdout",
     "output_type": "stream",
     "text": [
      "0.00600695931063866\n"
     ]
    },
    {
     "name": "stdout",
     "output_type": "stream",
     "text": [
      "0.005656923601361719\n"
     ]
    },
    {
     "name": "stdout",
     "output_type": "stream",
     "text": [
      "0.005443724543466422\n"
     ]
    },
    {
     "name": "stdout",
     "output_type": "stream",
     "text": [
      "0.0056021736343971895\n"
     ]
    },
    {
     "name": "stdout",
     "output_type": "stream",
     "text": [
      "0.005421451601949845\n"
     ]
    },
    {
     "name": "stdout",
     "output_type": "stream",
     "text": [
      "0.005475014017682245\n"
     ]
    },
    {
     "name": "stdout",
     "output_type": "stream",
     "text": [
      "0.005416362785635731\n"
     ]
    },
    {
     "name": "stdout",
     "output_type": "stream",
     "text": [
      "0.00558643864358499\n"
     ]
    },
    {
     "name": "stdout",
     "output_type": "stream",
     "text": [
      "0.00541943220199026\n"
     ]
    },
    {
     "name": "stdout",
     "output_type": "stream",
     "text": [
      "0.005750719175477537\n"
     ]
    },
    {
     "name": "stdout",
     "output_type": "stream",
     "text": [
      "0.0055675927265953495\n"
     ]
    },
    {
     "name": "stdout",
     "output_type": "stream",
     "text": [
      "0.0052710530278442524\n"
     ]
    },
    {
     "name": "stdout",
     "output_type": "stream",
     "text": [
      "0.00556142972010798\n"
     ]
    },
    {
     "name": "stdout",
     "output_type": "stream",
     "text": [
      "0.0051402240100154595\n"
     ]
    },
    {
     "name": "stdout",
     "output_type": "stream",
     "text": [
      "0.005098037905946873\n"
     ]
    },
    {
     "name": "stdout",
     "output_type": "stream",
     "text": [
      "0.00495122753851851\n"
     ]
    },
    {
     "name": "stdout",
     "output_type": "stream",
     "text": [
      "0.004900931905580497\n"
     ]
    },
    {
     "name": "stdout",
     "output_type": "stream",
     "text": [
      "0.004863816077308347\n"
     ]
    },
    {
     "name": "stdout",
     "output_type": "stream",
     "text": [
      "0.004851786559028626\n"
     ]
    },
    {
     "name": "stdout",
     "output_type": "stream",
     "text": [
      "0.004838569720133301\n"
     ]
    },
    {
     "name": "stdout",
     "output_type": "stream",
     "text": [
      "0.00467760627330871\n"
     ]
    },
    {
     "name": "stdout",
     "output_type": "stream",
     "text": [
      "0.00465185047795047\n"
     ]
    },
    {
     "name": "stdout",
     "output_type": "stream",
     "text": [
      "0.004640402012920597\n"
     ]
    },
    {
     "name": "stdout",
     "output_type": "stream",
     "text": [
      "0.004638628493393249\n"
     ]
    },
    {
     "name": "stdout",
     "output_type": "stream",
     "text": [
      "0.004565574095728997\n"
     ]
    },
    {
     "name": "stdout",
     "output_type": "stream",
     "text": [
      "0.004433385557737979\n"
     ]
    },
    {
     "name": "stdout",
     "output_type": "stream",
     "text": [
      "0.004397170089196711\n"
     ]
    },
    {
     "name": "stdout",
     "output_type": "stream",
     "text": [
      "0.004364361537186112\n"
     ]
    },
    {
     "name": "stdout",
     "output_type": "stream",
     "text": [
      "0.004400570781092794\n"
     ]
    },
    {
     "name": "stdout",
     "output_type": "stream",
     "text": [
      "0.0043649061738640915\n"
     ]
    },
    {
     "name": "stdout",
     "output_type": "stream",
     "text": [
      "0.0043229904460660995\n"
     ]
    },
    {
     "name": "stdout",
     "output_type": "stream",
     "text": [
      "0.004229819596867079\n"
     ]
    },
    {
     "name": "stdout",
     "output_type": "stream",
     "text": [
      "0.004181852882589876\n",
      "     fun: 0.004181852882589876\n",
      "   maxcv: 0.0\n",
      " message: 'Maximum number of function evaluations has been exceeded.'\n",
      "    nfev: 200\n",
      "  status: 2\n",
      " success: False\n",
      "       x: array([2.85165255, 0.21129123, 3.1363429 , 2.89342992, 0.37618081,\n",
      "       2.28115687, 1.72738044, 2.64220854, 3.60407879])\n",
      "(0.9958181471157969-0j)\n"
     ]
    }
   ],
   "source": [
    "coefficient_set = [0.55, 0.225, 0.225]\n",
    "gate_set = [[0, 0, 0], [0, 1, 0], [0, 0, 1]]\n",
    "\n",
    "out = minimize(calculate_cost_function, x0=[float(random.randint(0,3000))/1000 for i in range(0, 9)], method=\"COBYLA\", options={'maxiter':200})\n",
    "print(out)\n",
    "\n",
    "out_f = [out['x'][0:3], out['x'][3:6], out['x'][6:9]]\n",
    "\n",
    "circ = QuantumCircuit(3, 3)\n",
    "apply_fixed_ansatz([0, 1, 2], out_f)\n",
    "\n",
    "backend = Aer.get_backend('statevector_simulator')\n",
    "\n",
    "job = execute(circ, backend)\n",
    "\n",
    "result = job.result()\n",
    "o = result.get_statevector(circ, decimals=10)\n",
    "\n",
    "a1 = coefficient_set[2]*np.array([[1,0,0,0,0,0,0,0], [0,1,0,0,0,0,0,0], [0,0,1,0,0,0,0,0], [0,0,0,1,0,0,0,0], [0,0,0,0,-1,0,0,0], [0,0,0,0,0,-1,0,0], [0,0,0,0,0,0,-1,0], [0,0,0,0,0,0,0,-1]])\n",
    "a0 = coefficient_set[1]*np.array([[1,0,0,0,0,0,0,0], [0,1,0,0,0,0,0,0], [0,0,-1,0,0,0,0,0], [0,0,0,-1,0,0,0,0], [0,0,0,0,1,0,0,0], [0,0,0,0,0,1,0,0], [0,0,0,0,0,0,-1,0], [0,0,0,0,0,0,0,-1]])\n",
    "a2 = coefficient_set[0]*np.array([[1,0,0,0,0,0,0,0], [0,1,0,0,0,0,0,0], [0,0,1,0,0,0,0,0], [0,0,0,1,0,0,0,0], [0,0,0,0,1,0,0,0], [0,0,0,0,0,1,0,0], [0,0,0,0,0,0,1,0], [0,0,0,0,0,0,0,1]])\n",
    "\n",
    "a3 = np.add(np.add(a2, a0), a1)\n",
    "\n",
    "b = np.array([float(1/np.sqrt(8)),float(1/np.sqrt(8)),float(1/np.sqrt(8)),float(1/np.sqrt(8)),float(1/np.sqrt(8)),float(1/np.sqrt(8)),float(1/np.sqrt(8)),float(1/np.sqrt(8))])\n",
    "\n",
    "print((b.dot(a3.dot(o)/(np.linalg.norm(a3.dot(o)))))**2)"
   ]
  },
  {
   "cell_type": "markdown",
   "metadata": {},
   "source": [
    "Again, very low error, `0.00014718223342624626`, and the classical cost function agrees, being `0.9998563418983931`! Great, so it works!\n",
    "\n",
    "Now, we have found that this algorithm works **in theory**. I tried to run some simulations with a circuit that samples the circuit instead of calculating the probabilities numerically. Now, let's try to **sample** the quantum circuit, as a real quantum computer would do! For some reason, this simulation would only converge somewhat well for a ridiculously high number of \"shots\" (runs of the circuit, in order to calculate the probability distribution of outcomes). I think that this is mostly to do with limitations in the classical optimizer (COBYLA), due to the noisy nature of sampling a quantum circuit (a measurement with the same parameters won't always yield the same outcome). Luckily, there are other optimizers that are built for noisy functions, such as SPSA, but we won't be looking into that in this tutorial. Let's try our sampling for our second value of $A$, with the same matrix $U$:"
   ]
  },
  {
   "cell_type": "code",
   "execution_count": 10,
   "metadata": {},
   "outputs": [],
   "source": [
    "#Implements the entire cost function on the quantum circuit (sampling, 100000 shots)\n",
    "\n",
    "def calculate_cost_function(parameters):\n",
    "\n",
    "    global opt\n",
    "\n",
    "    overall_sum_1 = 0\n",
    "    \n",
    "    parameters = [parameters[0:3], parameters[3:6], parameters[6:9]]\n",
    "\n",
    "    for i in range(0, len(gate_set)):\n",
    "        for j in range(0, len(gate_set)):\n",
    "\n",
    "            global circ\n",
    "\n",
    "            qctl = QuantumRegister(5)\n",
    "            qc = ClassicalRegister(1)\n",
    "            circ = QuantumCircuit(qctl, qc)\n",
    "\n",
    "            backend = Aer.get_backend('qasm_simulator')\n",
    "            \n",
    "            multiply = coefficient_set[i]*coefficient_set[j]\n",
    "\n",
    "            had_test([gate_set[i], gate_set[j]], [1, 2, 3], 0, parameters)\n",
    "\n",
    "            circ.measure(0, 0)\n",
    "\n",
    "            job = execute(circ, backend, shots=100000)\n",
    "\n",
    "            result = job.result()\n",
    "            outputstate = result.get_counts(circ)\n",
    "\n",
    "            if ('1' in outputstate.keys()):\n",
    "                m_sum = float(outputstate[\"1\"])/100000\n",
    "            else:\n",
    "                m_sum = 0\n",
    "\n",
    "            overall_sum_1+=multiply*(1-2*m_sum)\n",
    "\n",
    "    overall_sum_2 = 0\n",
    "\n",
    "    for i in range(0, len(gate_set)):\n",
    "        for j in range(0, len(gate_set)):\n",
    "\n",
    "            multiply = coefficient_set[i]*coefficient_set[j]\n",
    "            mult = 1\n",
    "\n",
    "            for extra in range(0, 2):\n",
    "\n",
    "                qctl = QuantumRegister(5)\n",
    "                qc = ClassicalRegister(1)\n",
    "                \n",
    "                circ = QuantumCircuit(qctl, qc)\n",
    "\n",
    "                backend = Aer.get_backend('qasm_simulator')\n",
    "\n",
    "                if (extra == 0):\n",
    "                    special_had_test(gate_set[i], [1, 2, 3], 0, parameters, qctl)\n",
    "                if (extra == 1):\n",
    "                    special_had_test(gate_set[j], [1, 2, 3], 0, parameters, qctl)\n",
    "\n",
    "                circ.measure(0, 0)\n",
    "\n",
    "                job = execute(circ, backend, shots=100000)\n",
    "\n",
    "                result = job.result()\n",
    "                outputstate = result.get_counts(circ)\n",
    "\n",
    "                if ('1' in outputstate.keys()):\n",
    "                    m_sum = float(outputstate[\"1\"])/100000\n",
    "                else:\n",
    "                    m_sum = 0\n",
    "\n",
    "                mult = mult*(1-2*m_sum)\n",
    "            \n",
    "            overall_sum_2+=multiply*mult\n",
    "            \n",
    "    print(1-float(overall_sum_2/overall_sum_1))\n",
    "\n",
    "    return 1-float(overall_sum_2/overall_sum_1)"
   ]
  },
  {
   "cell_type": "code",
   "execution_count": 11,
   "metadata": {
    "scrolled": true
   },
   "outputs": [
    {
     "name": "stdout",
     "output_type": "stream",
     "text": [
      "0.9976270561870009\n"
     ]
    },
    {
     "name": "stdout",
     "output_type": "stream",
     "text": [
      "0.9603157153260821\n"
     ]
    },
    {
     "name": "stdout",
     "output_type": "stream",
     "text": [
      "1.000634831321319\n"
     ]
    },
    {
     "name": "stdout",
     "output_type": "stream",
     "text": [
      "0.992700398720803\n"
     ]
    },
    {
     "name": "stdout",
     "output_type": "stream",
     "text": [
      "0.9252342213336547\n"
     ]
    },
    {
     "name": "stdout",
     "output_type": "stream",
     "text": [
      "0.8295557412544711\n"
     ]
    },
    {
     "name": "stdout",
     "output_type": "stream",
     "text": [
      "0.7068874919627403\n"
     ]
    },
    {
     "name": "stdout",
     "output_type": "stream",
     "text": [
      "0.7010966276428088\n"
     ]
    },
    {
     "name": "stdout",
     "output_type": "stream",
     "text": [
      "0.5545443633539994\n"
     ]
    },
    {
     "name": "stdout",
     "output_type": "stream",
     "text": [
      "0.4049711211897823\n"
     ]
    },
    {
     "name": "stdout",
     "output_type": "stream",
     "text": [
      "0.2955818422989497\n"
     ]
    },
    {
     "name": "stdout",
     "output_type": "stream",
     "text": [
      "0.43590857507171554\n"
     ]
    },
    {
     "name": "stdout",
     "output_type": "stream",
     "text": [
      "0.30921579342669936\n"
     ]
    },
    {
     "name": "stdout",
     "output_type": "stream",
     "text": [
      "0.6336135633498698\n"
     ]
    },
    {
     "name": "stdout",
     "output_type": "stream",
     "text": [
      "0.312447573131061\n"
     ]
    },
    {
     "name": "stdout",
     "output_type": "stream",
     "text": [
      "0.36348072400188824\n"
     ]
    },
    {
     "name": "stdout",
     "output_type": "stream",
     "text": [
      "0.4771528838327328\n"
     ]
    },
    {
     "name": "stdout",
     "output_type": "stream",
     "text": [
      "0.5685426442270995\n"
     ]
    },
    {
     "name": "stdout",
     "output_type": "stream",
     "text": [
      "0.8229008387149263\n"
     ]
    },
    {
     "name": "stdout",
     "output_type": "stream",
     "text": [
      "0.2787226765983877\n"
     ]
    },
    {
     "name": "stdout",
     "output_type": "stream",
     "text": [
      "0.471996032581137\n"
     ]
    },
    {
     "name": "stdout",
     "output_type": "stream",
     "text": [
      "0.2541614818494189\n"
     ]
    },
    {
     "name": "stdout",
     "output_type": "stream",
     "text": [
      "0.1727147164353916\n"
     ]
    },
    {
     "name": "stdout",
     "output_type": "stream",
     "text": [
      "0.19508920148454545\n"
     ]
    },
    {
     "name": "stdout",
     "output_type": "stream",
     "text": [
      "0.15038566937111741\n"
     ]
    },
    {
     "name": "stdout",
     "output_type": "stream",
     "text": [
      "0.14959880787973223\n"
     ]
    },
    {
     "name": "stdout",
     "output_type": "stream",
     "text": [
      "0.1436542646594936\n"
     ]
    },
    {
     "name": "stdout",
     "output_type": "stream",
     "text": [
      "0.19737933700451804\n"
     ]
    },
    {
     "name": "stdout",
     "output_type": "stream",
     "text": [
      "0.15459749912522458\n"
     ]
    },
    {
     "name": "stdout",
     "output_type": "stream",
     "text": [
      "0.11914622281679788\n"
     ]
    },
    {
     "name": "stdout",
     "output_type": "stream",
     "text": [
      "0.1374857523863371\n"
     ]
    },
    {
     "name": "stdout",
     "output_type": "stream",
     "text": [
      "0.1388976305142332\n"
     ]
    },
    {
     "name": "stdout",
     "output_type": "stream",
     "text": [
      "0.14180722452100825\n"
     ]
    },
    {
     "name": "stdout",
     "output_type": "stream",
     "text": [
      "0.1340783874315371\n"
     ]
    },
    {
     "name": "stdout",
     "output_type": "stream",
     "text": [
      "0.1302941542450451\n"
     ]
    },
    {
     "name": "stdout",
     "output_type": "stream",
     "text": [
      "0.13257825244457921\n"
     ]
    },
    {
     "name": "stdout",
     "output_type": "stream",
     "text": [
      "0.1507231798596892\n"
     ]
    },
    {
     "name": "stdout",
     "output_type": "stream",
     "text": [
      "0.13637345777249077\n"
     ]
    },
    {
     "name": "stdout",
     "output_type": "stream",
     "text": [
      "0.13450722735714726\n"
     ]
    },
    {
     "name": "stdout",
     "output_type": "stream",
     "text": [
      "0.13850877262495775\n"
     ]
    },
    {
     "name": "stdout",
     "output_type": "stream",
     "text": [
      "0.12710616021399013\n"
     ]
    },
    {
     "name": "stdout",
     "output_type": "stream",
     "text": [
      "0.12693966513497779\n"
     ]
    },
    {
     "name": "stdout",
     "output_type": "stream",
     "text": [
      "0.14200130648164222\n"
     ]
    },
    {
     "name": "stdout",
     "output_type": "stream",
     "text": [
      "0.13326736512466653\n"
     ]
    },
    {
     "name": "stdout",
     "output_type": "stream",
     "text": [
      "0.13370114310813486\n"
     ]
    },
    {
     "name": "stdout",
     "output_type": "stream",
     "text": [
      "0.12231206063978439\n"
     ]
    },
    {
     "name": "stdout",
     "output_type": "stream",
     "text": [
      "0.1257201110409214\n"
     ]
    },
    {
     "name": "stdout",
     "output_type": "stream",
     "text": [
      "0.14046530232571075\n"
     ]
    },
    {
     "name": "stdout",
     "output_type": "stream",
     "text": [
      "0.13167635779753784\n"
     ]
    },
    {
     "name": "stdout",
     "output_type": "stream",
     "text": [
      "0.12902707406293012\n"
     ]
    },
    {
     "name": "stdout",
     "output_type": "stream",
     "text": [
      "0.13117689407306676\n"
     ]
    },
    {
     "name": "stdout",
     "output_type": "stream",
     "text": [
      "0.14067752840942915\n"
     ]
    },
    {
     "name": "stdout",
     "output_type": "stream",
     "text": [
      "0.13004285306255903\n"
     ]
    },
    {
     "name": "stdout",
     "output_type": "stream",
     "text": [
      "0.12573789541782443\n"
     ]
    },
    {
     "name": "stdout",
     "output_type": "stream",
     "text": [
      "0.1295887215186281\n"
     ]
    },
    {
     "name": "stdout",
     "output_type": "stream",
     "text": [
      "0.1357386425853322\n"
     ]
    },
    {
     "name": "stdout",
     "output_type": "stream",
     "text": [
      "0.13075152514142108\n"
     ]
    },
    {
     "name": "stdout",
     "output_type": "stream",
     "text": [
      "0.13259478808181835\n"
     ]
    },
    {
     "name": "stdout",
     "output_type": "stream",
     "text": [
      "0.13314575578748633\n"
     ]
    },
    {
     "name": "stdout",
     "output_type": "stream",
     "text": [
      "0.13225141704406063\n"
     ]
    },
    {
     "name": "stdout",
     "output_type": "stream",
     "text": [
      "0.1428039000082404\n"
     ]
    },
    {
     "name": "stdout",
     "output_type": "stream",
     "text": [
      "0.15088183843735736\n"
     ]
    },
    {
     "name": "stdout",
     "output_type": "stream",
     "text": [
      "0.12718207566342732\n"
     ]
    },
    {
     "name": "stdout",
     "output_type": "stream",
     "text": [
      "0.13560302897213328\n"
     ]
    },
    {
     "name": "stdout",
     "output_type": "stream",
     "text": [
      "0.13020700973596333\n"
     ]
    },
    {
     "name": "stdout",
     "output_type": "stream",
     "text": [
      "0.12948784343144248\n"
     ]
    },
    {
     "name": "stdout",
     "output_type": "stream",
     "text": [
      "0.12484058428936917\n"
     ]
    },
    {
     "name": "stdout",
     "output_type": "stream",
     "text": [
      "0.13014839299230752\n"
     ]
    },
    {
     "name": "stdout",
     "output_type": "stream",
     "text": [
      "0.12982553981274902\n"
     ]
    },
    {
     "name": "stdout",
     "output_type": "stream",
     "text": [
      "0.12664022486331483\n"
     ]
    },
    {
     "name": "stdout",
     "output_type": "stream",
     "text": [
      "0.1345389864545723\n"
     ]
    },
    {
     "name": "stdout",
     "output_type": "stream",
     "text": [
      "0.13769592021412524\n"
     ]
    },
    {
     "name": "stdout",
     "output_type": "stream",
     "text": [
      "0.13759721409613812\n"
     ]
    },
    {
     "name": "stdout",
     "output_type": "stream",
     "text": [
      "0.1431760799579359\n"
     ]
    },
    {
     "name": "stdout",
     "output_type": "stream",
     "text": [
      "0.14383091996363473\n"
     ]
    },
    {
     "name": "stdout",
     "output_type": "stream",
     "text": [
      "0.13605076670606286\n"
     ]
    },
    {
     "name": "stdout",
     "output_type": "stream",
     "text": [
      "0.13709634397875825\n"
     ]
    },
    {
     "name": "stdout",
     "output_type": "stream",
     "text": [
      "0.13372724466956998\n"
     ]
    },
    {
     "name": "stdout",
     "output_type": "stream",
     "text": [
      "0.132349991154167\n"
     ]
    },
    {
     "name": "stdout",
     "output_type": "stream",
     "text": [
      "0.13440571009278457\n"
     ]
    },
    {
     "name": "stdout",
     "output_type": "stream",
     "text": [
      "0.13033568614496638\n"
     ]
    },
    {
     "name": "stdout",
     "output_type": "stream",
     "text": [
      "0.12807404833528568\n"
     ]
    },
    {
     "name": "stdout",
     "output_type": "stream",
     "text": [
      "0.1291652508302179\n"
     ]
    },
    {
     "name": "stdout",
     "output_type": "stream",
     "text": [
      "0.1324543043980656\n"
     ]
    },
    {
     "name": "stdout",
     "output_type": "stream",
     "text": [
      "0.1355247977422468\n"
     ]
    },
    {
     "name": "stdout",
     "output_type": "stream",
     "text": [
      "0.13521554879292486\n"
     ]
    },
    {
     "name": "stdout",
     "output_type": "stream",
     "text": [
      "0.13956436036052466\n"
     ]
    },
    {
     "name": "stdout",
     "output_type": "stream",
     "text": [
      "0.12676778753757212\n"
     ]
    },
    {
     "name": "stdout",
     "output_type": "stream",
     "text": [
      "0.14129664599420277\n",
      "     fun: 0.14129664599420277\n",
      "   maxcv: 0.0\n",
      " message: 'Optimization terminated successfully.'\n",
      "    nfev: 89\n",
      "  status: 1\n",
      " success: True\n",
      "       x: array([3.13129837, 2.09915719, 0.41385805, 2.80186963, 2.07705487,\n",
      "       1.34235155, 2.04766207, 2.15752003, 1.21068401])\n",
      "(0.8672034881342295-0j)\n"
     ]
    }
   ],
   "source": [
    "coefficient_set = [0.55, 0.225, 0.225]\n",
    "gate_set = [[0, 0, 0], [0, 1, 0], [0, 0, 1]]\n",
    "\n",
    "out = minimize(calculate_cost_function, x0=[float(random.randint(0,3000))/1000 for i in range(0, 9)], method=\"COBYLA\", options={'maxiter':200})\n",
    "print(out)\n",
    "\n",
    "out_f = [out['x'][0:3], out['x'][3:6], out['x'][6:9]]\n",
    "\n",
    "circ = QuantumCircuit(3, 3)\n",
    "apply_fixed_ansatz([0, 1, 2], out_f)\n",
    "\n",
    "backend = Aer.get_backend('statevector_simulator')\n",
    "\n",
    "job = execute(circ, backend)\n",
    "\n",
    "result = job.result()\n",
    "o = result.get_statevector(circ, decimals=10)\n",
    "\n",
    "a1 = coefficient_set[2]*np.array([[1,0,0,0,0,0,0,0], [0,1,0,0,0,0,0,0], [0,0,1,0,0,0,0,0], [0,0,0,1,0,0,0,0], [0,0,0,0,-1,0,0,0], [0,0,0,0,0,-1,0,0], [0,0,0,0,0,0,-1,0], [0,0,0,0,0,0,0,-1]])\n",
    "a0 = coefficient_set[1]*np.array([[1,0,0,0,0,0,0,0], [0,1,0,0,0,0,0,0], [0,0,-1,0,0,0,0,0], [0,0,0,-1,0,0,0,0], [0,0,0,0,1,0,0,0], [0,0,0,0,0,1,0,0], [0,0,0,0,0,0,-1,0], [0,0,0,0,0,0,0,-1]])\n",
    "a2 = coefficient_set[0]*np.array([[1,0,0,0,0,0,0,0], [0,1,0,0,0,0,0,0], [0,0,1,0,0,0,0,0], [0,0,0,1,0,0,0,0], [0,0,0,0,1,0,0,0], [0,0,0,0,0,1,0,0], [0,0,0,0,0,0,1,0], [0,0,0,0,0,0,0,1]])\n",
    "\n",
    "a3 = np.add(np.add(a2, a0), a1)\n",
    "\n",
    "b = np.array([float(1/np.sqrt(8)),float(1/np.sqrt(8)),float(1/np.sqrt(8)),float(1/np.sqrt(8)),float(1/np.sqrt(8)),float(1/np.sqrt(8)),float(1/np.sqrt(8)),float(1/np.sqrt(8))])\n",
    "\n",
    "print((b.dot(a3.dot(o)/(np.linalg.norm(a3.dot(o)))))**2)"
   ]
  },
  {
   "cell_type": "markdown",
   "metadata": {},
   "source": [
    "So as you can see, not amazing, our solution is still off by a fairly significant margin ($3.677\\%$ error isn't awful, but ideally, we want it to be **much** closer to 0). Again, I think this is due to the optimizer itself, not the actual quantum circuit. I will be making an update to this Notebook once I figure out how to correct this problem (likely with the introduction of a noisy optimizer, as I previously mentioned).\n",
    "\n",
    "**Acknowledgements**\n",
    "\n",
    "This implementation is based off of the work presented in the research paper \"Variational Quantum Linear Solver: A Hybrid Algorithm for Linear Systems\", written by Carlos Bravo-Prieto, Ryan LaRose, M. Cerezo, Yiğit Subaşı, Lukasz Cincio, and Patrick J. Coles, which is available at [this](https://arxiv.org/abs/1909.05820) link.\n",
    "\n",
    "Special thanks to Carlos Bravo-Prieto for personally helping me out, by answering some of my questions concerning the paper!"
   ]
  },
  {
   "cell_type": "code",
   "execution_count": 12,
   "metadata": {},
   "outputs": [
    {
     "data": {
      "text/plain": [
       "{'qiskit-terra': '0.12.0',\n",
       " 'qiskit-aer': '0.4.0',\n",
       " 'qiskit-ignis': '0.2.0',\n",
       " 'qiskit-ibmq-provider': '0.4.6',\n",
       " 'qiskit-aqua': '0.6.4',\n",
       " 'qiskit': '0.15.0'}"
      ]
     },
     "execution_count": 12,
     "metadata": {},
     "output_type": "execute_result"
    }
   ],
   "source": [
    "import qiskit\n",
    "qiskit.__qiskit_version__"
   ]
  }
 ],
 "metadata": {
  "kernelspec": {
   "display_name": "Python 3",
   "language": "python",
   "name": "python3"
  },
  "language_info": {
   "codemirror_mode": {
    "name": "ipython",
    "version": 3
   },
   "file_extension": ".py",
   "mimetype": "text/x-python",
   "name": "python",
   "nbconvert_exporter": "python",
   "pygments_lexer": "ipython3",
   "version": "3.7.6"
  }
 },
 "nbformat": 4,
 "nbformat_minor": 2
}
