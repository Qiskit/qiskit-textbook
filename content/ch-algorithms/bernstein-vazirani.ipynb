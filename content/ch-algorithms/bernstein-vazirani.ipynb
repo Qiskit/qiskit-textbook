{
 "cells": [
  {
   "cell_type": "markdown",
   "metadata": {
    "tags": [
     "remove_cell"
    ]
   },
   "source": [
    "# Bernstein-Vazirani Algorithm"
   ]
  },
  {
   "cell_type": "markdown",
   "metadata": {},
   "source": [
    "In this section, we first introduce the Bernstein-Vazirani problem, its classical solution, and the quantum algorithm to solve it. We then implement the quantum algorithm using Qiskit and run it on both a simulator and a device.\n",
    "\n",
    "## Contents\n",
    "\n",
    "1. [The Bernstein-Vazirani Algorithm](#algorithm)    \n",
    "   1.1 [Bernstein-Vazirani Problem](#bvproblem)    \n",
    "   1.2 [The Classical Solution](#bclassical-solution)    \n",
    "   1.3 [The Quantum Solution](#quantum-solution) \n",
    "2. [Example](#example)\n",
    "3. [Qiskit Implementation](#implementation)     \n",
    "   3.1 [Simulation](#simulation)     \n",
    "   3.2 [Device](#device)     \n",
    "4. [Problems](#problems)\n",
    "5. [References](#references)"
   ]
  },
  {
   "cell_type": "markdown",
   "metadata": {},
   "source": [
    "## 1. The Bernstein-Vazirani Algorithm<a id='algorithm'></a>\n",
    "\n",
    "The Bernstein-Vazirani algorithm, first introduced in Reference [1], can be seen as an extension of the Deutsch-Josza algorithm we covered in the last section. It showed that there can be advantages in using a quantum computer as a computational tool for more complex problems than the Deutsch-Josza problem.\n",
    "\n",
    "### 1.1 The Bernstein-Vazirani Problem <a id='bvproblem'> </a>\n",
    "\n",
    "We are again given a black-box function $f$, which takes as as input a string of bits ($x$), and returns either $0$ or $1$, that is:\n",
    "$$f(\\{x_0,x_1,x_2,...\\}) \\rightarrow 0 \\textrm{ or } 1 \\textrm{ where } x_n \\textrm{ is }0 \\textrm{ or } 1  $$ \n",
    "\n",
    "Instead of the function being balanced or constant as in the Deutsch-Josza problem, now the function is guaranteed to return the bitwise product of the input with some string, $s$. In other words, given an input $x$, $f(x) = s \\cdot x \\, \\text{(mod 2)}$. We are expected to find $s$. As a classical reversible circuit, the Bernstein-Vazirani oracle looks like this:\n",
    "    \n",
    "![classical reversible circuit](images/bv2.svg)\n",
    "\n",
    "\n",
    "\n",
    "### 1.2 The Classical Solution <a id='classical-solution'> </a>\n",
    "\n",
    "Classically, the oracle returns:\n",
    "$$f_s(x) = s \\cdot x \\mod 2$$ \n",
    "given an input $x$. Thus, the hidden bit string $s$ can be revealed by querying the oracle with the sequence of inputs:\n",
    "\n",
    "|Input(x)|\n",
    "|:-----:|\n",
    "|100...0|\n",
    "|010...0|\n",
    "|001...0|\n",
    "|000...1|\n",
    "\n",
    "Where each query reveals a different bit of $s$ (the bit $s_i$). For example, with `x = 1000...0` one can obtain the least significant bit of $s$, with with `x = 0100...0` we can find the next least significant, and so on. This means we would need to call the function $f_s(x)$, $n$ times. "
   ]
  },
  {
   "cell_type": "markdown",
   "metadata": {},
   "source": [
    "### 1.3 The Quantum Solution <a id='quantum-solution'> </a>\n",
    "\n",
    "Using a quantum computer, we can solve this problem with 100% confidence after only one call to the function $f(x)$. The quantum Bernstein-Vazirani algorithm to find the hidden bit string is very simple: \n",
    "\n",
    "1. Initialise the inputs qubits to the $|0\\rangle^{\\otimes n}$ state, and output qubit to $|{-}\\rangle$.\n",
    "2. Apply Hadamard gates to the input register\n",
    "3. Query the oracle\n",
    "4. Apply Hadamard gates to the input register\n",
    "5. Measure\n",
    "\n",
    "![Bernstein-Vazirani quantum circuit](images/bv1.svg)\n",
    "\n",
    "To explain the algorithm, let’s look more closely at what happens when we apply a H-gate to each qubit. If we have an $n$-qubit state, $|a\\rangle$, and apply the H-gates, we will see the transformation:\n",
    "\n",
    "$$\n",
    "|a\\rangle \\xrightarrow{H^{\\otimes n}} \\frac{1}{\\sqrt{2^n}} \\sum_{x\\in \\{0,1\\}^n} (-1)^{a\\cdot x}|x\\rangle.\n",
    "$$\n",
    "\n",
    "\n",
    "\n",
    "<details>\n",
    "    <summary>Explain Equation (Click to Expand)</summary>\n",
    "We remember the Hadamard performs the following transformations on one qubit:\n",
    "\n",
    "$$\n",
    "H|0\\rangle = \\tfrac{1}{\\sqrt{2}}(|0\\rangle + |1\\rangle)\n",
    "$$ $$\n",
    "H|1\\rangle = \\tfrac{1}{\\sqrt{2}}(|0\\rangle - |1\\rangle)\n",
    "$$\n",
    "\n",
    "Using summation notation, we could rewrite it like this:\n",
    "\n",
    "$$\n",
    "H|a\\rangle = \\sum_{x\\in \\{0,1\\}} (-1)^{a\\cdot x}|x\\rangle.\n",
    "$$\n",
    "\n",
    "For two qubits, applying a Hadamard to each performs the following transformations:\n",
    "\n",
    "$$\n",
    "H^{\\otimes 2}|00\\rangle = |00\\rangle + |01\\rangle + |10\\rangle + |11\\rangle\n",
    "$$ $$\n",
    "H^{\\otimes 2}|01\\rangle = |00\\rangle - |01\\rangle + |10\\rangle - |11\\rangle\n",
    "$$ $$\n",
    "H^{\\otimes 2}|10\\rangle = |00\\rangle + |01\\rangle - |10\\rangle - |11\\rangle\n",
    "$$ $$\n",
    "H^{\\otimes 2}|11\\rangle = |00\\rangle - |01\\rangle - |10\\rangle + |11\\rangle\n",
    "$$\n",
    "\n",
    "We can express this using the summation below:\n",
    "\n",
    "$$\n",
    "H^{\\otimes 2}|a\\rangle = \\sum_{x\\in \\{0,1\\}^2} (-1)^{a\\cdot x}|x\\rangle\n",
    "$$\n",
    "\n",
    "You will hopefully now see how we arrive at the equation above.\n",
    "</details>\n",
    "\n",
    "In particular, when we start with a quantum register $|00\\dots 0\\rangle$ and apply $n$ Hadamard gates to it, we have the familiar quantum superposition:\n",
    "\n",
    "$$\n",
    "|00\\dots 0\\rangle \\xrightarrow{H^{\\otimes n}} \\frac{1}{\\sqrt{2^n}} \\sum_{x\\in \\{0,1\\}^n} |x\\rangle\n",
    "$$\n",
    "\n",
    "In this case, the phase term $(-1)^{a\\cdot x}$ disappears, since $a=0$, and thus $(-1)^{a\\cdot x} = 1$. \n",
    "\n",
    "The classical oracle $f_s$ returns $1$ for any input $x$ such that $s \\cdot x\\mod 2 = 1$, and returns $0$ otherwise. If we use the same phase kickback trick from the Deutsch-Joza algorithm and act on a qubit in the state $|{-}\\rangle$, we get the following transformation:\n",
    "\n",
    "$$\n",
    "|x \\rangle \\xrightarrow{f_s} (-1)^{s\\cdot x} |x \\rangle \n",
    "$$\n",
    "\n",
    "The algorithm to reveal the hidden bit string follows naturally by querying the quantum oracle $f_s$ with the quantum superposition obtained from the Hadamard transformation of $|00\\dots 0\\rangle$. Namely,\n",
    "\n",
    "$$\n",
    "|00\\dots 0\\rangle \\xrightarrow{H^{\\otimes n}} \\frac{1}{\\sqrt{2^n}} \\sum_{x\\in \\{0,1\\}^n} |x\\rangle \\xrightarrow{f_a} \\frac{1}{\\sqrt{2^n}} \\sum_{x\\in \\{0,1\\}^n} (-1)^{a\\cdot x}|x\\rangle\n",
    "$$\n",
    "\n",
    "Because the inverse of the $n$ Hadamard gates is again the $n$ Hadamard gates, we can obtain $a$ by\n",
    "\n",
    "$$\n",
    "\\frac{1}{\\sqrt{2^n}} \\sum_{x\\in \\{0,1\\}^n} (-1)^{a\\cdot x}|x\\rangle \\xrightarrow{H^{\\otimes n}} |a\\rangle\n",
    "$$"
   ]
  },
  {
   "cell_type": "markdown",
   "metadata": {},
   "source": [
    "## 2. Example  <a id='example'></a>\n",
    "\n",
    "Let's go through a specific example for $n=2$ qubits and a secret string $s=11$. Note that we are following the formulation in Reference [2] that generates a circuit for the Bernstein-Vazirani quantum oracle using only one register. \n",
    "\n",
    "<ol>\n",
    "    <li> The register of two qubits is initialized to zero:\n",
    "    \n",
    "\n",
    "$$\\lvert \\psi_0 \\rangle = \\lvert 0 0 \\rangle$$\n",
    "\n",
    " \n",
    "   </li>\n",
    "\n",
    "   <li> Apply a Hadamard gate to both qubits:\n",
    "    \n",
    "\n",
    "$$\\lvert \\psi_1 \\rangle = \\frac{1}{2} \\left( \\lvert 0 0 \\rangle + \\lvert 0 1 \\rangle + \\lvert 1 0 \\rangle + \\lvert 1 1 \\rangle \\right) $$\n",
    "\n",
    " \n",
    "   </li>\n",
    "\n",
    "   <li> For the string $s=11$, the quantum oracle performs the operation:\n",
    "$$\n",
    "|x \\rangle \\xrightarrow{f_s} (-1)^{s\\cdot 11} |x \\rangle. \n",
    "$$\n",
    "\n",
    "$$\\lvert \\psi_2 \\rangle = \\frac{1}{2} \\left( (-1)^{00\\cdot 11}|00\\rangle + (-1)^{01\\cdot 11}|01\\rangle + (-1)^{10\\cdot 11}|10\\rangle + (-1)^{s\\cdot 11}|11\\rangle \\right)$$\n",
    "\n",
    "$$\\lvert \\psi_2 \\rangle = \\frac{1}{2} \\left( \\lvert 0 0 \\rangle - \\lvert 0 1 \\rangle - \\lvert 1 0 \\rangle + \\lvert 1 1 \\rangle \\right)$$\n",
    "\n",
    " \n",
    "   </li>\n",
    "\n",
    "   <li> Apply a Hadamard gate to both qubits:\n",
    "    \n",
    "\n",
    "$$\\lvert \\psi_3 \\rangle = \\lvert 1 1 \\rangle$$\n",
    "\n",
    " \n",
    "   </li>\n",
    "\n",
    "   <li> Measure to find the secret string $s=11$\n",
    "   </li>\n",
    "\n",
    "\n",
    "</ol>\n",
    "\n",
    "Use the widget `bv_widget` below. Press the buttons to apply the different steps, and try to follow the algorithm through. You can change the number of input qubits and the value of the secret string through the first two positional arguments."
   ]
  },
  {
   "cell_type": "code",
   "execution_count": 1,
   "metadata": {},
   "outputs": [
    {
     "data": {
      "application/vnd.jupyter.widget-view+json": {
       "model_id": "1e1d08b22ab34b5db1854b9cebac2189",
       "version_major": 2,
       "version_minor": 0
      },
      "text/plain": [
       "HBox(children=(Button(description='H⊗ⁿ', style=ButtonStyle()), Button(description='Oracle', style=ButtonStyle(…"
      ]
     },
     "metadata": {},
     "output_type": "display_data"
    },
    {
     "data": {
      "application/vnd.jupyter.widget-view+json": {
       "model_id": "5c3ca8ff18b24d06820935b299a1d09f",
       "version_major": 2,
       "version_minor": 0
      },
      "text/plain": [
       "HTMLMath(value='$$ |00\\\\rangle = |00\\\\rangle $$')"
      ]
     },
     "metadata": {},
     "output_type": "display_data"
    },
    {
     "data": {
      "application/vnd.jupyter.widget-view+json": {
       "model_id": "7dc667a981104a28aca129bc2bb773f7",
       "version_major": 2,
       "version_minor": 0
      },
      "text/plain": [
       "Image(value=b'\\x89PNG\\r\\n\\x1a\\n\\x00\\x00\\x00\\rIHDR\\x00\\x00\\x01*\\x00\\x00\\x00\\xcc\\x08\\x06\\x00\\x00\\x00\\xc4P\\xee\\x0…"
      ]
     },
     "metadata": {},
     "output_type": "display_data"
    }
   ],
   "source": [
    "from qiskit_textbook.widgets import bv_widget\n",
    "bv_widget(2, \"11\")"
   ]
  },
  {
   "cell_type": "markdown",
   "metadata": {},
   "source": [
    "## 3. Qiskit Implementation  <a id='implementation'></a>\n",
    "\n",
    "We'll now walk through the Bernstein-Vazirani algorithm implementation in Qiskit for a three bit function with $s=011$."
   ]
  },
  {
   "cell_type": "code",
   "execution_count": 2,
   "metadata": {},
   "outputs": [],
   "source": [
    "# initialization\n",
    "import matplotlib.pyplot as plt\n",
    "import numpy as np\n",
    "\n",
    "# importing Qiskit\n",
    "from qiskit import IBMQ, BasicAer\n",
    "from qiskit.providers.ibmq import least_busy\n",
    "from qiskit import QuantumCircuit, ClassicalRegister, QuantumRegister, execute\n",
    "\n",
    "# import basic plot tools\n",
    "from qiskit.visualization import plot_histogram"
   ]
  },
  {
   "cell_type": "markdown",
   "metadata": {},
   "source": [
    "We first set the number of qubits used in the experiment, and the hidden bit string $s$ to be found by the algorithm. The hidden bit string $s$ determines the circuit for the quantum oracle. "
   ]
  },
  {
   "cell_type": "code",
   "execution_count": 3,
   "metadata": {},
   "outputs": [],
   "source": [
    "n = 3 # number of qubits used to represent s\n",
    "s = '011'   # the hidden binary string"
   ]
  },
  {
   "cell_type": "markdown",
   "metadata": {},
   "source": [
    "We then use Qiskit to program the Bernstein-Vazirani algorithm."
   ]
  },
  {
   "cell_type": "code",
   "execution_count": 4,
   "metadata": {},
   "outputs": [
    {
     "data": {
      "image/svg+xml": [
       "<?xml version=\"1.0\" encoding=\"utf-8\" standalone=\"no\"?>\n",
       "<!DOCTYPE svg PUBLIC \"-//W3C//DTD SVG 1.1//EN\"\n",
       "  \"http://www.w3.org/Graphics/SVG/1.1/DTD/svg11.dtd\">\n",
       "<!-- Created with matplotlib (https://matplotlib.org/) -->\n",
       "<svg height=\"259.8354pt\" version=\"1.1\" viewBox=\"0 0 648.89596 259.8354\" width=\"648.89596pt\" xmlns=\"http://www.w3.org/2000/svg\" xmlns:xlink=\"http://www.w3.org/1999/xlink\">\n",
       " <defs>\n",
       "  <style type=\"text/css\">\n",
       "*{stroke-linecap:butt;stroke-linejoin:round;}\n",
       "  </style>\n",
       " </defs>\n",
       " <g id=\"figure_1\">\n",
       "  <g id=\"patch_1\">\n",
       "   <path d=\"M 0 259.8354 \n",
       "L 648.89596 259.8354 \n",
       "L 648.89596 0 \n",
       "L 0 0 \n",
       "z\n",
       "\" style=\"fill:#ffffff;\"/>\n",
       "  </g>\n",
       "  <g id=\"axes_1\">\n",
       "   <g id=\"patch_2\">\n",
       "    <path clip-path=\"url(#p903fc93f3d)\" d=\"M 494.88923 215.024697 \n",
       "L 506.70649 215.024697 \n",
       "L 500.79786 225.3648 \n",
       "z\n",
       "\" style=\"fill:#778899;\"/>\n",
       "   </g>\n",
       "   <g id=\"patch_3\">\n",
       "    <path clip-path=\"url(#p903fc93f3d)\" d=\"M 540.34023 215.024697 \n",
       "L 552.15749 215.024697 \n",
       "L 546.24886 225.3648 \n",
       "z\n",
       "\" style=\"fill:#778899;\"/>\n",
       "   </g>\n",
       "   <g id=\"patch_4\">\n",
       "    <path clip-path=\"url(#p903fc93f3d)\" d=\"M 585.79123 215.024697 \n",
       "L 597.60849 215.024697 \n",
       "L 591.69986 225.3648 \n",
       "z\n",
       "\" style=\"fill:#778899;\"/>\n",
       "   </g>\n",
       "   <g id=\"line2d_1\">\n",
       "    <path clip-path=\"url(#p903fc93f3d)\" d=\"M 100.82906 43.5608 \n",
       "L 637.15086 43.5608 \n",
       "\" style=\"fill:none;stroke:#000000;stroke-linecap:square;stroke-width:2;\"/>\n",
       "   </g>\n",
       "   <g id=\"line2d_2\">\n",
       "    <path clip-path=\"url(#p903fc93f3d)\" d=\"M 100.82906 89.0118 \n",
       "L 637.15086 89.0118 \n",
       "\" style=\"fill:none;stroke:#000000;stroke-linecap:square;stroke-width:2;\"/>\n",
       "   </g>\n",
       "   <g id=\"line2d_3\">\n",
       "    <path clip-path=\"url(#p903fc93f3d)\" d=\"M 100.82906 134.4628 \n",
       "L 637.15086 134.4628 \n",
       "\" style=\"fill:none;stroke:#000000;stroke-linecap:square;stroke-width:2;\"/>\n",
       "   </g>\n",
       "   <g id=\"line2d_4\">\n",
       "    <path clip-path=\"url(#p903fc93f3d)\" d=\"M 100.82906 179.9138 \n",
       "L 637.15086 179.9138 \n",
       "\" style=\"fill:none;stroke:#000000;stroke-linecap:square;stroke-width:2;\"/>\n",
       "   </g>\n",
       "   <g id=\"line2d_5\">\n",
       "    <path clip-path=\"url(#p903fc93f3d)\" d=\"M 100.82906 223.887642 \n",
       "L 637.15086 223.887642 \n",
       "\" style=\"fill:none;stroke:#778899;stroke-linecap:square;stroke-width:2;\"/>\n",
       "   </g>\n",
       "   <g id=\"line2d_6\">\n",
       "    <path clip-path=\"url(#p903fc93f3d)\" d=\"M 100.82906 226.841957 \n",
       "L 637.15086 226.841957 \n",
       "\" style=\"fill:none;stroke:#778899;stroke-linecap:square;stroke-width:2;\"/>\n",
       "   </g>\n",
       "   <g id=\"patch_5\">\n",
       "    <path clip-path=\"url(#p903fc93f3d)\" d=\"M 219.228915 202.6393 \n",
       "L 236.954805 202.6393 \n",
       "L 236.954805 20.8353 \n",
       "L 219.228915 20.8353 \n",
       "z\n",
       "\" style=\"fill:#bdbdbd;opacity:0.6;\"/>\n",
       "   </g>\n",
       "   <g id=\"patch_6\">\n",
       "    <path clip-path=\"url(#p903fc93f3d)\" d=\"M 401.032915 202.6393 \n",
       "L 418.758805 202.6393 \n",
       "L 418.758805 20.8353 \n",
       "L 401.032915 20.8353 \n",
       "z\n",
       "\" style=\"fill:#bdbdbd;opacity:0.6;\"/>\n",
       "   </g>\n",
       "   <g id=\"line2d_7\">\n",
       "    <path clip-path=\"url(#p903fc93f3d)\" d=\"M 273.54286 179.9138 \n",
       "L 273.54286 43.5608 \n",
       "\" style=\"fill:none;stroke:#6fa4ff;stroke-linecap:square;stroke-width:2;\"/>\n",
       "   </g>\n",
       "   <g id=\"line2d_8\">\n",
       "    <path clip-path=\"url(#p903fc93f3d)\" d=\"M 364.44486 179.9138 \n",
       "L 364.44486 89.0118 \n",
       "\" style=\"fill:none;stroke:#6fa4ff;stroke-linecap:square;stroke-width:2;\"/>\n",
       "   </g>\n",
       "   <g id=\"line2d_9\">\n",
       "    <path clip-path=\"url(#p903fc93f3d)\" d=\"M 502.275017 43.5608 \n",
       "L 502.275017 215.024697 \n",
       "\" style=\"fill:none;stroke:#778899;stroke-linecap:square;stroke-width:2;\"/>\n",
       "   </g>\n",
       "   <g id=\"line2d_10\">\n",
       "    <path clip-path=\"url(#p903fc93f3d)\" d=\"M 499.320702 43.5608 \n",
       "L 499.320702 215.024697 \n",
       "\" style=\"fill:none;stroke:#778899;stroke-linecap:square;stroke-width:2;\"/>\n",
       "   </g>\n",
       "   <g id=\"line2d_11\">\n",
       "    <path clip-path=\"url(#p903fc93f3d)\" d=\"M 547.726017 89.0118 \n",
       "L 547.726017 215.024697 \n",
       "\" style=\"fill:none;stroke:#778899;stroke-linecap:square;stroke-width:2;\"/>\n",
       "   </g>\n",
       "   <g id=\"line2d_12\">\n",
       "    <path clip-path=\"url(#p903fc93f3d)\" d=\"M 544.771702 89.0118 \n",
       "L 544.771702 215.024697 \n",
       "\" style=\"fill:none;stroke:#778899;stroke-linecap:square;stroke-width:2;\"/>\n",
       "   </g>\n",
       "   <g id=\"line2d_13\">\n",
       "    <path clip-path=\"url(#p903fc93f3d)\" d=\"M 593.177017 134.4628 \n",
       "L 593.177017 215.024697 \n",
       "\" style=\"fill:none;stroke:#778899;stroke-linecap:square;stroke-width:2;\"/>\n",
       "   </g>\n",
       "   <g id=\"line2d_14\">\n",
       "    <path clip-path=\"url(#p903fc93f3d)\" d=\"M 590.222702 134.4628 \n",
       "L 590.222702 215.024697 \n",
       "\" style=\"fill:none;stroke:#778899;stroke-linecap:square;stroke-width:2;\"/>\n",
       "   </g>\n",
       "   <g id=\"line2d_15\">\n",
       "    <path clip-path=\"url(#p903fc93f3d)\" d=\"M 141.73496 229.9099 \n",
       "L 146.28006 220.8197 \n",
       "\" style=\"fill:none;stroke:#778899;stroke-linecap:square;stroke-width:1.5;\"/>\n",
       "   </g>\n",
       "   <g id=\"patch_7\">\n",
       "    <path clip-path=\"url(#p903fc93f3d)\" d=\"M 122.418285 194.685375 \n",
       "L 151.961435 194.685375 \n",
       "L 151.961435 165.142225 \n",
       "L 122.418285 165.142225 \n",
       "z\n",
       "\" style=\"fill:#6fa4ff;\"/>\n",
       "   </g>\n",
       "   <g id=\"patch_8\">\n",
       "    <path clip-path=\"url(#p903fc93f3d)\" d=\"M 122.418285 58.332375 \n",
       "L 151.961435 58.332375 \n",
       "L 151.961435 28.789225 \n",
       "L 122.418285 28.789225 \n",
       "z\n",
       "\" style=\"fill:#6fa4ff;\"/>\n",
       "   </g>\n",
       "   <g id=\"patch_9\">\n",
       "    <path clip-path=\"url(#p903fc93f3d)\" d=\"M 122.418285 103.783375 \n",
       "L 151.961435 103.783375 \n",
       "L 151.961435 74.240225 \n",
       "L 122.418285 74.240225 \n",
       "z\n",
       "\" style=\"fill:#6fa4ff;\"/>\n",
       "   </g>\n",
       "   <g id=\"patch_10\">\n",
       "    <path clip-path=\"url(#p903fc93f3d)\" d=\"M 122.418285 149.234375 \n",
       "L 151.961435 149.234375 \n",
       "L 151.961435 119.691225 \n",
       "L 122.418285 119.691225 \n",
       "z\n",
       "\" style=\"fill:#6fa4ff;\"/>\n",
       "   </g>\n",
       "   <g id=\"patch_11\">\n",
       "    <path clip-path=\"url(#p903fc93f3d)\" d=\"M 167.869285 194.685375 \n",
       "L 197.412435 194.685375 \n",
       "L 197.412435 165.142225 \n",
       "L 167.869285 165.142225 \n",
       "z\n",
       "\" style=\"fill:#05bab6;\"/>\n",
       "   </g>\n",
       "   <g id=\"patch_12\">\n",
       "    <path clip-path=\"url(#p903fc93f3d)\" d=\"M 273.54286 47.992272 \n",
       "C 274.7181 47.992272 275.845364 47.525345 276.676384 46.694324 \n",
       "C 277.507405 45.863304 277.974332 44.73604 277.974332 43.5608 \n",
       "C 277.974332 42.38556 277.507405 41.258296 276.676384 40.427276 \n",
       "C 275.845364 39.596255 274.7181 39.129327 273.54286 39.129327 \n",
       "C 272.36762 39.129327 271.240356 39.596255 270.409336 40.427276 \n",
       "C 269.578315 41.258296 269.111387 42.38556 269.111387 43.5608 \n",
       "C 269.111387 44.73604 269.578315 45.863304 270.409336 46.694324 \n",
       "C 271.240356 47.525345 272.36762 47.992272 273.54286 47.992272 \n",
       "z\n",
       "\" style=\"fill:#6fa4ff;stroke:#6fa4ff;stroke-linejoin:miter;stroke-width:1.5;\"/>\n",
       "   </g>\n",
       "   <g id=\"patch_13\">\n",
       "    <path clip-path=\"url(#p903fc93f3d)\" d=\"M 273.54286 190.253902 \n",
       "C 276.285087 190.253902 278.915369 189.164404 280.854417 187.225357 \n",
       "C 282.793464 185.286309 283.882962 182.656027 283.882962 179.9138 \n",
       "C 283.882962 177.171573 282.793464 174.541291 280.854417 172.602243 \n",
       "C 278.915369 170.663196 276.285087 169.573697 273.54286 169.573697 \n",
       "C 270.800633 169.573697 268.170351 170.663196 266.231303 172.602243 \n",
       "C 264.292256 174.541291 263.202757 177.171573 263.202757 179.9138 \n",
       "C 263.202757 182.656027 264.292256 185.286309 266.231303 187.225357 \n",
       "C 268.170351 189.164404 270.800633 190.253902 273.54286 190.253902 \n",
       "z\n",
       "\" style=\"fill:#6fa4ff;stroke:#6fa4ff;stroke-linejoin:miter;stroke-width:2;\"/>\n",
       "   </g>\n",
       "   <g id=\"patch_14\">\n",
       "    <path clip-path=\"url(#p903fc93f3d)\" d=\"M 304.222285 149.234375 \n",
       "L 333.765435 149.234375 \n",
       "L 333.765435 119.691225 \n",
       "L 304.222285 119.691225 \n",
       "z\n",
       "\" style=\"fill:#05bab6;\"/>\n",
       "   </g>\n",
       "   <g id=\"patch_15\">\n",
       "    <path clip-path=\"url(#p903fc93f3d)\" d=\"M 364.44486 93.443272 \n",
       "C 365.6201 93.443272 366.747364 92.976345 367.578384 92.145324 \n",
       "C 368.409405 91.314304 368.876332 90.18704 368.876332 89.0118 \n",
       "C 368.876332 87.83656 368.409405 86.709296 367.578384 85.878276 \n",
       "C 366.747364 85.047255 365.6201 84.580327 364.44486 84.580327 \n",
       "C 363.26962 84.580327 362.142356 85.047255 361.311336 85.878276 \n",
       "C 360.480315 86.709296 360.013387 87.83656 360.013387 89.0118 \n",
       "C 360.013387 90.18704 360.480315 91.314304 361.311336 92.145324 \n",
       "C 362.142356 92.976345 363.26962 93.443272 364.44486 93.443272 \n",
       "z\n",
       "\" style=\"fill:#6fa4ff;stroke:#6fa4ff;stroke-linejoin:miter;stroke-width:1.5;\"/>\n",
       "   </g>\n",
       "   <g id=\"patch_16\">\n",
       "    <path clip-path=\"url(#p903fc93f3d)\" d=\"M 364.44486 190.253902 \n",
       "C 367.187087 190.253902 369.817369 189.164404 371.756417 187.225357 \n",
       "C 373.695464 185.286309 374.784962 182.656027 374.784962 179.9138 \n",
       "C 374.784962 177.171573 373.695464 174.541291 371.756417 172.602243 \n",
       "C 369.817369 170.663196 367.187087 169.573697 364.44486 169.573697 \n",
       "C 361.702633 169.573697 359.072351 170.663196 357.133303 172.602243 \n",
       "C 355.194256 174.541291 354.104757 177.171573 354.104757 179.9138 \n",
       "C 354.104757 182.656027 355.194256 185.286309 357.133303 187.225357 \n",
       "C 359.072351 189.164404 361.702633 190.253902 364.44486 190.253902 \n",
       "z\n",
       "\" style=\"fill:#6fa4ff;stroke:#6fa4ff;stroke-linejoin:miter;stroke-width:2;\"/>\n",
       "   </g>\n",
       "   <g id=\"patch_17\">\n",
       "    <path clip-path=\"url(#p903fc93f3d)\" d=\"M 440.575285 58.332375 \n",
       "L 470.118435 58.332375 \n",
       "L 470.118435 28.789225 \n",
       "L 440.575285 28.789225 \n",
       "z\n",
       "\" style=\"fill:#6fa4ff;\"/>\n",
       "   </g>\n",
       "   <g id=\"patch_18\">\n",
       "    <path clip-path=\"url(#p903fc93f3d)\" d=\"M 440.575285 103.783375 \n",
       "L 470.118435 103.783375 \n",
       "L 470.118435 74.240225 \n",
       "L 440.575285 74.240225 \n",
       "z\n",
       "\" style=\"fill:#6fa4ff;\"/>\n",
       "   </g>\n",
       "   <g id=\"patch_19\">\n",
       "    <path clip-path=\"url(#p903fc93f3d)\" d=\"M 440.575285 149.234375 \n",
       "L 470.118435 149.234375 \n",
       "L 470.118435 119.691225 \n",
       "L 440.575285 119.691225 \n",
       "z\n",
       "\" style=\"fill:#6fa4ff;\"/>\n",
       "   </g>\n",
       "   <g id=\"patch_20\">\n",
       "    <path clip-path=\"url(#p903fc93f3d)\" d=\"M 486.026285 58.332375 \n",
       "L 515.569435 58.332375 \n",
       "L 515.569435 28.789225 \n",
       "L 486.026285 28.789225 \n",
       "z\n",
       "\"/>\n",
       "   </g>\n",
       "   <g id=\"patch_21\">\n",
       "    <path clip-path=\"url(#p903fc93f3d)\" d=\"M 511.137962 47.992272 \n",
       "C 511.137962 45.250959 510.047818 42.619118 508.109417 40.680716 \n",
       "C 506.171015 38.742314 503.539174 37.65217 500.79786 37.65217 \n",
       "C 498.056546 37.65217 495.424705 38.742314 493.486303 40.680716 \n",
       "C 491.547902 42.619118 490.457757 45.250959 490.457757 47.992272 \n",
       "\" style=\"fill:none;stroke:#ffffff;stroke-linejoin:miter;stroke-width:2;\"/>\n",
       "   </g>\n",
       "   <g id=\"patch_22\">\n",
       "    <path clip-path=\"url(#p903fc93f3d)\" d=\"M 531.477285 103.783375 \n",
       "L 561.020435 103.783375 \n",
       "L 561.020435 74.240225 \n",
       "L 531.477285 74.240225 \n",
       "z\n",
       "\"/>\n",
       "   </g>\n",
       "   <g id=\"patch_23\">\n",
       "    <path clip-path=\"url(#p903fc93f3d)\" d=\"M 556.588962 93.443272 \n",
       "C 556.588962 90.701959 555.498818 88.070118 553.560417 86.131716 \n",
       "C 551.622015 84.193314 548.990174 83.10317 546.24886 83.10317 \n",
       "C 543.507546 83.10317 540.875705 84.193314 538.937303 86.131716 \n",
       "C 536.998902 88.070118 535.908757 90.701959 535.908757 93.443272 \n",
       "\" style=\"fill:none;stroke:#ffffff;stroke-linejoin:miter;stroke-width:2;\"/>\n",
       "   </g>\n",
       "   <g id=\"patch_24\">\n",
       "    <path clip-path=\"url(#p903fc93f3d)\" d=\"M 576.928285 149.234375 \n",
       "L 606.471435 149.234375 \n",
       "L 606.471435 119.691225 \n",
       "L 576.928285 119.691225 \n",
       "z\n",
       "\"/>\n",
       "   </g>\n",
       "   <g id=\"patch_25\">\n",
       "    <path clip-path=\"url(#p903fc93f3d)\" d=\"M 602.039962 138.894272 \n",
       "C 602.039962 136.152959 600.949818 133.521118 599.011417 131.582716 \n",
       "C 597.073015 129.644314 594.441174 128.55417 591.69986 128.55417 \n",
       "C 588.958546 128.55417 586.326705 129.644314 584.388303 131.582716 \n",
       "C 582.449902 133.521118 581.359757 136.152959 581.359757 138.894272 \n",
       "\" style=\"fill:none;stroke:#ffffff;stroke-linejoin:miter;stroke-width:2;\"/>\n",
       "   </g>\n",
       "   <g id=\"line2d_16\">\n",
       "    <path clip-path=\"url(#p903fc93f3d)\" d=\"M 500.79786 47.992272 \n",
       "L 511.137962 37.65217 \n",
       "\" style=\"fill:none;stroke:#ffffff;stroke-linecap:square;stroke-width:2;\"/>\n",
       "   </g>\n",
       "   <g id=\"line2d_17\">\n",
       "    <path clip-path=\"url(#p903fc93f3d)\" d=\"M 546.24886 93.443272 \n",
       "L 556.588962 83.10317 \n",
       "\" style=\"fill:none;stroke:#ffffff;stroke-linecap:square;stroke-width:2;\"/>\n",
       "   </g>\n",
       "   <g id=\"line2d_18\">\n",
       "    <path clip-path=\"url(#p903fc93f3d)\" d=\"M 591.69986 138.894272 \n",
       "L 602.039962 128.55417 \n",
       "\" style=\"fill:none;stroke:#ffffff;stroke-linecap:square;stroke-width:2;\"/>\n",
       "   </g>\n",
       "   <g id=\"line2d_19\">\n",
       "    <path clip-path=\"url(#p903fc93f3d)\" d=\"M 228.09186 20.8353 \n",
       "L 228.09186 66.2863 \n",
       "\" style=\"fill:none;stroke:#000000;stroke-dasharray:3.7,1.6;stroke-dashoffset:0;\"/>\n",
       "   </g>\n",
       "   <g id=\"line2d_20\">\n",
       "    <path clip-path=\"url(#p903fc93f3d)\" d=\"M 228.09186 66.2863 \n",
       "L 228.09186 111.7373 \n",
       "\" style=\"fill:none;stroke:#000000;stroke-dasharray:3.7,1.6;stroke-dashoffset:0;\"/>\n",
       "   </g>\n",
       "   <g id=\"line2d_21\">\n",
       "    <path clip-path=\"url(#p903fc93f3d)\" d=\"M 228.09186 111.7373 \n",
       "L 228.09186 157.1883 \n",
       "\" style=\"fill:none;stroke:#000000;stroke-dasharray:3.7,1.6;stroke-dashoffset:0;\"/>\n",
       "   </g>\n",
       "   <g id=\"line2d_22\">\n",
       "    <path clip-path=\"url(#p903fc93f3d)\" d=\"M 228.09186 157.1883 \n",
       "L 228.09186 202.6393 \n",
       "\" style=\"fill:none;stroke:#000000;stroke-dasharray:3.7,1.6;stroke-dashoffset:0;\"/>\n",
       "   </g>\n",
       "   <g id=\"line2d_23\">\n",
       "    <path clip-path=\"url(#p903fc93f3d)\" d=\"M 273.54286 185.82243 \n",
       "L 273.54286 174.00517 \n",
       "\" style=\"fill:none;stroke:#ffffff;stroke-linecap:square;stroke-width:2;\"/>\n",
       "   </g>\n",
       "   <g id=\"line2d_24\">\n",
       "    <path clip-path=\"url(#p903fc93f3d)\" d=\"M 267.63423 179.9138 \n",
       "L 279.45149 179.9138 \n",
       "\" style=\"fill:none;stroke:#ffffff;stroke-linecap:square;stroke-width:2;\"/>\n",
       "   </g>\n",
       "   <g id=\"line2d_25\">\n",
       "    <path clip-path=\"url(#p903fc93f3d)\" d=\"M 364.44486 185.82243 \n",
       "L 364.44486 174.00517 \n",
       "\" style=\"fill:none;stroke:#ffffff;stroke-linecap:square;stroke-width:2;\"/>\n",
       "   </g>\n",
       "   <g id=\"line2d_26\">\n",
       "    <path clip-path=\"url(#p903fc93f3d)\" d=\"M 358.53623 179.9138 \n",
       "L 370.35349 179.9138 \n",
       "\" style=\"fill:none;stroke:#ffffff;stroke-linecap:square;stroke-width:2;\"/>\n",
       "   </g>\n",
       "   <g id=\"line2d_27\">\n",
       "    <path clip-path=\"url(#p903fc93f3d)\" d=\"M 409.89586 20.8353 \n",
       "L 409.89586 66.2863 \n",
       "\" style=\"fill:none;stroke:#000000;stroke-dasharray:3.7,1.6;stroke-dashoffset:0;\"/>\n",
       "   </g>\n",
       "   <g id=\"line2d_28\">\n",
       "    <path clip-path=\"url(#p903fc93f3d)\" d=\"M 409.89586 66.2863 \n",
       "L 409.89586 111.7373 \n",
       "\" style=\"fill:none;stroke:#000000;stroke-dasharray:3.7,1.6;stroke-dashoffset:0;\"/>\n",
       "   </g>\n",
       "   <g id=\"line2d_29\">\n",
       "    <path clip-path=\"url(#p903fc93f3d)\" d=\"M 409.89586 111.7373 \n",
       "L 409.89586 157.1883 \n",
       "\" style=\"fill:none;stroke:#000000;stroke-dasharray:3.7,1.6;stroke-dashoffset:0;\"/>\n",
       "   </g>\n",
       "   <g id=\"line2d_30\">\n",
       "    <path clip-path=\"url(#p903fc93f3d)\" d=\"M 409.89586 157.1883 \n",
       "L 409.89586 202.6393 \n",
       "\" style=\"fill:none;stroke:#000000;stroke-dasharray:3.7,1.6;stroke-dashoffset:0;\"/>\n",
       "   </g>\n",
       "   <g id=\"text_1\">\n",
       "    <g clip-path=\"url(#p903fc93f3d)\">\n",
       "     <!-- $H$ -->\n",
       "     <defs>\n",
       "      <path d=\"M 16.890625 72.90625 \n",
       "L 26.8125 72.90625 \n",
       "L 21 43.015625 \n",
       "L 56.78125 43.015625 \n",
       "L 62.59375 72.90625 \n",
       "L 72.515625 72.90625 \n",
       "L 58.296875 0 \n",
       "L 48.390625 0 \n",
       "L 55.171875 34.71875 \n",
       "L 19.390625 34.71875 \n",
       "L 12.59375 0 \n",
       "L 2.6875 0 \n",
       "z\n",
       "\" id=\"DejaVuSans-Oblique-72\"/>\n",
       "     </defs>\n",
       "     <g transform=\"translate(132.24986 183.500987)scale(0.13 -0.13)\">\n",
       "      <use transform=\"translate(0 0.09375)\" xlink:href=\"#DejaVuSans-Oblique-72\"/>\n",
       "     </g>\n",
       "    </g>\n",
       "   </g>\n",
       "   <g id=\"text_2\">\n",
       "    <g clip-path=\"url(#p903fc93f3d)\">\n",
       "     <!-- $H$ -->\n",
       "     <g transform=\"translate(132.24986 47.147987)scale(0.13 -0.13)\">\n",
       "      <use transform=\"translate(0 0.09375)\" xlink:href=\"#DejaVuSans-Oblique-72\"/>\n",
       "     </g>\n",
       "    </g>\n",
       "   </g>\n",
       "   <g id=\"text_3\">\n",
       "    <g clip-path=\"url(#p903fc93f3d)\">\n",
       "     <!-- $H$ -->\n",
       "     <g transform=\"translate(132.24986 92.598987)scale(0.13 -0.13)\">\n",
       "      <use transform=\"translate(0 0.09375)\" xlink:href=\"#DejaVuSans-Oblique-72\"/>\n",
       "     </g>\n",
       "    </g>\n",
       "   </g>\n",
       "   <g id=\"text_4\">\n",
       "    <g clip-path=\"url(#p903fc93f3d)\">\n",
       "     <!-- $H$ -->\n",
       "     <g transform=\"translate(132.24986 138.049987)scale(0.13 -0.13)\">\n",
       "      <use transform=\"translate(0 0.09375)\" xlink:href=\"#DejaVuSans-Oblique-72\"/>\n",
       "     </g>\n",
       "    </g>\n",
       "   </g>\n",
       "   <g id=\"text_5\">\n",
       "    <g clip-path=\"url(#p903fc93f3d)\">\n",
       "     <!-- $Z$ -->\n",
       "     <defs>\n",
       "      <path d=\"M 13.09375 72.90625 \n",
       "L 70.3125 72.90625 \n",
       "L 68.890625 65.375 \n",
       "L 12.40625 8.296875 \n",
       "L 58.890625 8.296875 \n",
       "L 57.328125 0 \n",
       "L -2.203125 0 \n",
       "L -0.78125 7.515625 \n",
       "L 55.71875 64.59375 \n",
       "L 11.53125 64.59375 \n",
       "z\n",
       "\" id=\"DejaVuSans-Oblique-90\"/>\n",
       "     </defs>\n",
       "     <g transform=\"translate(178.15586 183.500987)scale(0.13 -0.13)\">\n",
       "      <use transform=\"translate(0 0.09375)\" xlink:href=\"#DejaVuSans-Oblique-90\"/>\n",
       "     </g>\n",
       "    </g>\n",
       "   </g>\n",
       "   <g id=\"text_6\">\n",
       "    <g clip-path=\"url(#p903fc93f3d)\">\n",
       "     <!-- $I$ -->\n",
       "     <defs>\n",
       "      <path d=\"M 16.890625 72.90625 \n",
       "L 26.8125 72.90625 \n",
       "L 12.59375 0 \n",
       "L 2.6875 0 \n",
       "z\n",
       "\" id=\"DejaVuSans-Oblique-73\"/>\n",
       "     </defs>\n",
       "     <g transform=\"translate(317.04386 138.049987)scale(0.13 -0.13)\">\n",
       "      <use transform=\"translate(0 0.09375)\" xlink:href=\"#DejaVuSans-Oblique-73\"/>\n",
       "     </g>\n",
       "    </g>\n",
       "   </g>\n",
       "   <g id=\"text_7\">\n",
       "    <g clip-path=\"url(#p903fc93f3d)\">\n",
       "     <!-- $H$ -->\n",
       "     <g transform=\"translate(450.40686 47.147987)scale(0.13 -0.13)\">\n",
       "      <use transform=\"translate(0 0.09375)\" xlink:href=\"#DejaVuSans-Oblique-72\"/>\n",
       "     </g>\n",
       "    </g>\n",
       "   </g>\n",
       "   <g id=\"text_8\">\n",
       "    <g clip-path=\"url(#p903fc93f3d)\">\n",
       "     <!-- $H$ -->\n",
       "     <g transform=\"translate(450.40686 92.598987)scale(0.13 -0.13)\">\n",
       "      <use transform=\"translate(0 0.09375)\" xlink:href=\"#DejaVuSans-Oblique-72\"/>\n",
       "     </g>\n",
       "    </g>\n",
       "   </g>\n",
       "   <g id=\"text_9\">\n",
       "    <g clip-path=\"url(#p903fc93f3d)\">\n",
       "     <!-- $H$ -->\n",
       "     <g transform=\"translate(450.40686 138.049987)scale(0.13 -0.13)\">\n",
       "      <use transform=\"translate(0 0.09375)\" xlink:href=\"#DejaVuSans-Oblique-72\"/>\n",
       "     </g>\n",
       "    </g>\n",
       "   </g>\n",
       "   <g id=\"text_10\">\n",
       "    <g clip-path=\"url(#p903fc93f3d)\">\n",
       "     <!-- 0 -->\n",
       "     <defs>\n",
       "      <path d=\"M 31.78125 66.40625 \n",
       "Q 24.171875 66.40625 20.328125 58.90625 \n",
       "Q 16.5 51.421875 16.5 36.375 \n",
       "Q 16.5 21.390625 20.328125 13.890625 \n",
       "Q 24.171875 6.390625 31.78125 6.390625 \n",
       "Q 39.453125 6.390625 43.28125 13.890625 \n",
       "Q 47.125 21.390625 47.125 36.375 \n",
       "Q 47.125 51.421875 43.28125 58.90625 \n",
       "Q 39.453125 66.40625 31.78125 66.40625 \n",
       "z\n",
       "M 31.78125 74.21875 \n",
       "Q 44.046875 74.21875 50.515625 64.515625 \n",
       "Q 56.984375 54.828125 56.984375 36.375 \n",
       "Q 56.984375 17.96875 50.515625 8.265625 \n",
       "Q 44.046875 -1.421875 31.78125 -1.421875 \n",
       "Q 19.53125 -1.421875 13.0625 8.265625 \n",
       "Q 6.59375 17.96875 6.59375 36.375 \n",
       "Q 6.59375 54.828125 13.0625 64.515625 \n",
       "Q 19.53125 74.21875 31.78125 74.21875 \n",
       "z\n",
       "\" id=\"DejaVuSans-48\"/>\n",
       "     </defs>\n",
       "     <g transform=\"translate(512.16061 218.656825)scale(0.104 -0.104)\">\n",
       "      <use xlink:href=\"#DejaVuSans-48\"/>\n",
       "     </g>\n",
       "    </g>\n",
       "   </g>\n",
       "   <g id=\"text_11\">\n",
       "    <g clip-path=\"url(#p903fc93f3d)\">\n",
       "     <!-- 1 -->\n",
       "     <defs>\n",
       "      <path d=\"M 12.40625 8.296875 \n",
       "L 28.515625 8.296875 \n",
       "L 28.515625 63.921875 \n",
       "L 10.984375 60.40625 \n",
       "L 10.984375 69.390625 \n",
       "L 28.421875 72.90625 \n",
       "L 38.28125 72.90625 \n",
       "L 38.28125 8.296875 \n",
       "L 54.390625 8.296875 \n",
       "L 54.390625 0 \n",
       "L 12.40625 0 \n",
       "z\n",
       "\" id=\"DejaVuSans-49\"/>\n",
       "     </defs>\n",
       "     <g transform=\"translate(557.61161 218.656825)scale(0.104 -0.104)\">\n",
       "      <use xlink:href=\"#DejaVuSans-49\"/>\n",
       "     </g>\n",
       "    </g>\n",
       "   </g>\n",
       "   <g id=\"text_12\">\n",
       "    <g clip-path=\"url(#p903fc93f3d)\">\n",
       "     <!-- 2 -->\n",
       "     <defs>\n",
       "      <path d=\"M 19.1875 8.296875 \n",
       "L 53.609375 8.296875 \n",
       "L 53.609375 0 \n",
       "L 7.328125 0 \n",
       "L 7.328125 8.296875 \n",
       "Q 12.9375 14.109375 22.625 23.890625 \n",
       "Q 32.328125 33.6875 34.8125 36.53125 \n",
       "Q 39.546875 41.84375 41.421875 45.53125 \n",
       "Q 43.3125 49.21875 43.3125 52.78125 \n",
       "Q 43.3125 58.59375 39.234375 62.25 \n",
       "Q 35.15625 65.921875 28.609375 65.921875 \n",
       "Q 23.96875 65.921875 18.8125 64.3125 \n",
       "Q 13.671875 62.703125 7.8125 59.421875 \n",
       "L 7.8125 69.390625 \n",
       "Q 13.765625 71.78125 18.9375 73 \n",
       "Q 24.125 74.21875 28.421875 74.21875 \n",
       "Q 39.75 74.21875 46.484375 68.546875 \n",
       "Q 53.21875 62.890625 53.21875 53.421875 \n",
       "Q 53.21875 48.921875 51.53125 44.890625 \n",
       "Q 49.859375 40.875 45.40625 35.40625 \n",
       "Q 44.1875 33.984375 37.640625 27.21875 \n",
       "Q 31.109375 20.453125 19.1875 8.296875 \n",
       "z\n",
       "\" id=\"DejaVuSans-50\"/>\n",
       "     </defs>\n",
       "     <g transform=\"translate(603.06261 218.656825)scale(0.104 -0.104)\">\n",
       "      <use xlink:href=\"#DejaVuSans-50\"/>\n",
       "     </g>\n",
       "    </g>\n",
       "   </g>\n",
       "   <g id=\"text_13\">\n",
       "    <g clip-path=\"url(#p903fc93f3d)\">\n",
       "     <!-- ${q}_{0}$ -->\n",
       "     <defs>\n",
       "      <path d=\"M 41.703125 8.203125 \n",
       "Q 38.09375 3.46875 33.171875 1.015625 \n",
       "Q 28.265625 -1.421875 22.3125 -1.421875 \n",
       "Q 14.015625 -1.421875 9.296875 4.171875 \n",
       "Q 4.59375 9.765625 4.59375 19.578125 \n",
       "Q 4.59375 27.484375 7.5 34.859375 \n",
       "Q 10.40625 42.234375 15.828125 48.09375 \n",
       "Q 19.34375 51.90625 23.90625 53.953125 \n",
       "Q 28.46875 56 33.5 56 \n",
       "Q 39.546875 56 43.453125 53.609375 \n",
       "Q 47.359375 51.21875 49.125 46.390625 \n",
       "L 50.6875 54.59375 \n",
       "L 59.71875 54.59375 \n",
       "L 45.125 -20.609375 \n",
       "L 36.078125 -20.609375 \n",
       "z\n",
       "M 13.921875 20.90625 \n",
       "Q 13.921875 13.671875 16.9375 9.890625 \n",
       "Q 19.96875 6.109375 25.6875 6.109375 \n",
       "Q 34.1875 6.109375 40.1875 14.234375 \n",
       "Q 46.1875 22.359375 46.1875 33.984375 \n",
       "Q 46.1875 41.015625 43.078125 44.75 \n",
       "Q 39.984375 48.484375 34.1875 48.484375 \n",
       "Q 29.9375 48.484375 26.3125 46.5 \n",
       "Q 22.703125 44.53125 20.015625 40.71875 \n",
       "Q 17.1875 36.71875 15.546875 31.34375 \n",
       "Q 13.921875 25.984375 13.921875 20.90625 \n",
       "z\n",
       "\" id=\"DejaVuSans-Oblique-113\"/>\n",
       "     </defs>\n",
       "     <g transform=\"translate(64.61116 48.011777)scale(0.1625 -0.1625)\">\n",
       "      <use xlink:href=\"#DejaVuSans-Oblique-113\"/>\n",
       "      <use transform=\"translate(63.476562 -16.40625)scale(0.7)\" xlink:href=\"#DejaVuSans-48\"/>\n",
       "     </g>\n",
       "    </g>\n",
       "   </g>\n",
       "   <g id=\"text_14\">\n",
       "    <g clip-path=\"url(#p903fc93f3d)\">\n",
       "     <!-- ${q}_{1}$ -->\n",
       "     <g transform=\"translate(64.61116 93.462777)scale(0.1625 -0.1625)\">\n",
       "      <use xlink:href=\"#DejaVuSans-Oblique-113\"/>\n",
       "      <use transform=\"translate(63.476562 -16.40625)scale(0.7)\" xlink:href=\"#DejaVuSans-49\"/>\n",
       "     </g>\n",
       "    </g>\n",
       "   </g>\n",
       "   <g id=\"text_15\">\n",
       "    <g clip-path=\"url(#p903fc93f3d)\">\n",
       "     <!-- ${q}_{2}$ -->\n",
       "     <g transform=\"translate(64.61116 138.913777)scale(0.1625 -0.1625)\">\n",
       "      <use xlink:href=\"#DejaVuSans-Oblique-113\"/>\n",
       "      <use transform=\"translate(63.476562 -16.40625)scale(0.7)\" xlink:href=\"#DejaVuSans-50\"/>\n",
       "     </g>\n",
       "    </g>\n",
       "   </g>\n",
       "   <g id=\"text_16\">\n",
       "    <g clip-path=\"url(#p903fc93f3d)\">\n",
       "     <!-- ${q}_{3}$ -->\n",
       "     <defs>\n",
       "      <path d=\"M 40.578125 39.3125 \n",
       "Q 47.65625 37.796875 51.625 33 \n",
       "Q 55.609375 28.21875 55.609375 21.1875 \n",
       "Q 55.609375 10.40625 48.1875 4.484375 \n",
       "Q 40.765625 -1.421875 27.09375 -1.421875 \n",
       "Q 22.515625 -1.421875 17.65625 -0.515625 \n",
       "Q 12.796875 0.390625 7.625 2.203125 \n",
       "L 7.625 11.71875 \n",
       "Q 11.71875 9.328125 16.59375 8.109375 \n",
       "Q 21.484375 6.890625 26.8125 6.890625 \n",
       "Q 36.078125 6.890625 40.9375 10.546875 \n",
       "Q 45.796875 14.203125 45.796875 21.1875 \n",
       "Q 45.796875 27.640625 41.28125 31.265625 \n",
       "Q 36.765625 34.90625 28.71875 34.90625 \n",
       "L 20.21875 34.90625 \n",
       "L 20.21875 43.015625 \n",
       "L 29.109375 43.015625 \n",
       "Q 36.375 43.015625 40.234375 45.921875 \n",
       "Q 44.09375 48.828125 44.09375 54.296875 \n",
       "Q 44.09375 59.90625 40.109375 62.90625 \n",
       "Q 36.140625 65.921875 28.71875 65.921875 \n",
       "Q 24.65625 65.921875 20.015625 65.03125 \n",
       "Q 15.375 64.15625 9.8125 62.3125 \n",
       "L 9.8125 71.09375 \n",
       "Q 15.4375 72.65625 20.34375 73.4375 \n",
       "Q 25.25 74.21875 29.59375 74.21875 \n",
       "Q 40.828125 74.21875 47.359375 69.109375 \n",
       "Q 53.90625 64.015625 53.90625 55.328125 \n",
       "Q 53.90625 49.265625 50.4375 45.09375 \n",
       "Q 46.96875 40.921875 40.578125 39.3125 \n",
       "z\n",
       "\" id=\"DejaVuSans-51\"/>\n",
       "     </defs>\n",
       "     <g transform=\"translate(64.61116 184.364777)scale(0.1625 -0.1625)\">\n",
       "      <use xlink:href=\"#DejaVuSans-Oblique-113\"/>\n",
       "      <use transform=\"translate(63.476562 -16.40625)scale(0.7)\" xlink:href=\"#DejaVuSans-51\"/>\n",
       "     </g>\n",
       "    </g>\n",
       "   </g>\n",
       "   <g id=\"text_17\">\n",
       "    <g clip-path=\"url(#p903fc93f3d)\">\n",
       "     <!-- 3 -->\n",
       "     <g transform=\"translate(137.18986 218.656825)scale(0.104 -0.104)\">\n",
       "      <use xlink:href=\"#DejaVuSans-51\"/>\n",
       "     </g>\n",
       "    </g>\n",
       "   </g>\n",
       "   <g id=\"text_18\">\n",
       "    <g clip-path=\"url(#p903fc93f3d)\">\n",
       "     <!-- $c$ -->\n",
       "     <defs>\n",
       "      <path d=\"M 53.609375 52.59375 \n",
       "L 51.8125 43.703125 \n",
       "Q 48.578125 46.046875 44.9375 47.21875 \n",
       "Q 41.3125 48.390625 37.40625 48.390625 \n",
       "Q 33.109375 48.390625 29.21875 46.875 \n",
       "Q 25.34375 45.359375 22.703125 42.578125 \n",
       "Q 18.5 38.328125 16.203125 32.609375 \n",
       "Q 13.921875 26.90625 13.921875 20.796875 \n",
       "Q 13.921875 13.421875 17.609375 9.8125 \n",
       "Q 21.296875 6.203125 28.8125 6.203125 \n",
       "Q 32.515625 6.203125 36.6875 7.328125 \n",
       "Q 40.875 8.453125 45.40625 10.6875 \n",
       "L 43.703125 1.8125 \n",
       "Q 39.796875 0.203125 35.671875 -0.609375 \n",
       "Q 31.546875 -1.421875 27.203125 -1.421875 \n",
       "Q 16.3125 -1.421875 10.453125 4.015625 \n",
       "Q 4.59375 9.46875 4.59375 19.578125 \n",
       "Q 4.59375 28.078125 7.640625 35.234375 \n",
       "Q 10.6875 42.390625 16.703125 48.09375 \n",
       "Q 20.796875 52 26.3125 54 \n",
       "Q 31.84375 56 38.375 56 \n",
       "Q 42.1875 56 45.9375 55.140625 \n",
       "Q 49.703125 54.296875 53.609375 52.59375 \n",
       "z\n",
       "\" id=\"DejaVuSans-Oblique-99\"/>\n",
       "     </defs>\n",
       "     <g transform=\"translate(71.92366 230.745581)scale(0.195 -0.195)\">\n",
       "      <use xlink:href=\"#DejaVuSans-Oblique-99\"/>\n",
       "     </g>\n",
       "    </g>\n",
       "   </g>\n",
       "  </g>\n",
       " </g>\n",
       " <defs>\n",
       "  <clipPath id=\"p903fc93f3d\">\n",
       "   <rect height=\"245.4354\" width=\"634.49596\" x=\"7.2\" y=\"7.2\"/>\n",
       "  </clipPath>\n",
       " </defs>\n",
       "</svg>\n"
      ],
      "text/plain": [
       "<Figure size 840.392x325.08 with 1 Axes>"
      ]
     },
     "execution_count": 4,
     "metadata": {},
     "output_type": "execute_result"
    }
   ],
   "source": [
    "# We need a circuit with n qubits, plus one ancilla qubit\n",
    "# Also need n classical bits to write the output to\n",
    "bv_circuit = QuantumCircuit(n+1, n)\n",
    "\n",
    "# put ancilla in state |->\n",
    "bv_circuit.h(n)\n",
    "bv_circuit.z(n)\n",
    "\n",
    "# Apply Hadamard gates before querying the oracle\n",
    "for i in range(n):\n",
    "    bv_circuit.h(i)\n",
    "    \n",
    "# Apply barrier \n",
    "bv_circuit.barrier()\n",
    "\n",
    "# Apply the inner-product oracle\n",
    "s = s[::-1] # reverse s to fit qiskit's qubit ordering\n",
    "for q in range(n):\n",
    "    if s[q] == '0':\n",
    "        bv_circuit.i(q)\n",
    "    else:\n",
    "        bv_circuit.cx(q, n)\n",
    "        \n",
    "# Apply barrier \n",
    "bv_circuit.barrier()\n",
    "\n",
    "#Apply Hadamard gates after querying the oracle\n",
    "for i in range(n):\n",
    "    bv_circuit.h(i)\n",
    "\n",
    "# Measurement\n",
    "for i in range(n):\n",
    "    bv_circuit.measure(i, i)\n",
    "\n",
    "bv_circuit.draw()"
   ]
  },
  {
   "cell_type": "markdown",
   "metadata": {},
   "source": [
    "### 3a. Experiment with Simulators  <a id='simulation'></a>\n",
    "\n",
    "We can run the above circuit on the simulator. "
   ]
  },
  {
   "cell_type": "code",
   "execution_count": 5,
   "metadata": {
    "scrolled": false
   },
   "outputs": [
    {
     "data": {
      "image/svg+xml": [
       "<?xml version=\"1.0\" encoding=\"utf-8\" standalone=\"no\"?>\n",
       "<!DOCTYPE svg PUBLIC \"-//W3C//DTD SVG 1.1//EN\"\n",
       "  \"http://www.w3.org/Graphics/SVG/1.1/DTD/svg11.dtd\">\n",
       "<!-- Created with matplotlib (https://matplotlib.org/) -->\n",
       "<svg height=\"322.945095pt\" version=\"1.1\" viewBox=\"0 0 460.72125 322.945095\" width=\"460.72125pt\" xmlns=\"http://www.w3.org/2000/svg\" xmlns:xlink=\"http://www.w3.org/1999/xlink\">\n",
       " <defs>\n",
       "  <style type=\"text/css\">\n",
       "*{stroke-linecap:butt;stroke-linejoin:round;}\n",
       "  </style>\n",
       " </defs>\n",
       " <g id=\"figure_1\">\n",
       "  <g id=\"patch_1\">\n",
       "   <path d=\"M 0 322.945095 \n",
       "L 460.72125 322.945095 \n",
       "L 460.72125 0 \n",
       "L 0 0 \n",
       "z\n",
       "\" style=\"fill:none;\"/>\n",
       "  </g>\n",
       "  <g id=\"axes_1\">\n",
       "   <g id=\"patch_2\">\n",
       "    <path d=\"M 62.92125 279 \n",
       "L 453.52125 279 \n",
       "L 453.52125 7.2 \n",
       "L 62.92125 7.2 \n",
       "z\n",
       "\" style=\"fill:#ffffff;\"/>\n",
       "   </g>\n",
       "   <g id=\"matplotlib.axis_1\">\n",
       "    <g id=\"xtick_1\">\n",
       "     <g id=\"line2d_1\">\n",
       "      <defs>\n",
       "       <path d=\"M 0 0 \n",
       "L 0 3.5 \n",
       "\" id=\"mf517da8d22\" style=\"stroke:#000000;stroke-width:0.8;\"/>\n",
       "      </defs>\n",
       "      <g>\n",
       "       <use style=\"stroke:#000000;stroke-width:0.8;\" x=\"258.22125\" xlink:href=\"#mf517da8d22\" y=\"279\"/>\n",
       "      </g>\n",
       "     </g>\n",
       "     <g id=\"text_1\">\n",
       "      <!-- 011 -->\n",
       "      <defs>\n",
       "       <path d=\"M 31.78125 66.40625 \n",
       "Q 24.171875 66.40625 20.328125 58.90625 \n",
       "Q 16.5 51.421875 16.5 36.375 \n",
       "Q 16.5 21.390625 20.328125 13.890625 \n",
       "Q 24.171875 6.390625 31.78125 6.390625 \n",
       "Q 39.453125 6.390625 43.28125 13.890625 \n",
       "Q 47.125 21.390625 47.125 36.375 \n",
       "Q 47.125 51.421875 43.28125 58.90625 \n",
       "Q 39.453125 66.40625 31.78125 66.40625 \n",
       "z\n",
       "M 31.78125 74.21875 \n",
       "Q 44.046875 74.21875 50.515625 64.515625 \n",
       "Q 56.984375 54.828125 56.984375 36.375 \n",
       "Q 56.984375 17.96875 50.515625 8.265625 \n",
       "Q 44.046875 -1.421875 31.78125 -1.421875 \n",
       "Q 19.53125 -1.421875 13.0625 8.265625 \n",
       "Q 6.59375 17.96875 6.59375 36.375 \n",
       "Q 6.59375 54.828125 13.0625 64.515625 \n",
       "Q 19.53125 74.21875 31.78125 74.21875 \n",
       "z\n",
       "\" id=\"DejaVuSans-48\"/>\n",
       "       <path d=\"M 12.40625 8.296875 \n",
       "L 28.515625 8.296875 \n",
       "L 28.515625 63.921875 \n",
       "L 10.984375 60.40625 \n",
       "L 10.984375 69.390625 \n",
       "L 28.421875 72.90625 \n",
       "L 38.28125 72.90625 \n",
       "L 38.28125 8.296875 \n",
       "L 54.390625 8.296875 \n",
       "L 54.390625 0 \n",
       "L 12.40625 0 \n",
       "z\n",
       "\" id=\"DejaVuSans-49\"/>\n",
       "      </defs>\n",
       "      <g transform=\"translate(257.281583 314.749282)rotate(-70)scale(0.14 -0.14)\">\n",
       "       <use xlink:href=\"#DejaVuSans-48\"/>\n",
       "       <use x=\"63.623047\" xlink:href=\"#DejaVuSans-49\"/>\n",
       "       <use x=\"127.246094\" xlink:href=\"#DejaVuSans-49\"/>\n",
       "      </g>\n",
       "     </g>\n",
       "    </g>\n",
       "   </g>\n",
       "   <g id=\"matplotlib.axis_2\">\n",
       "    <g id=\"ytick_1\">\n",
       "     <g id=\"line2d_2\">\n",
       "      <path clip-path=\"url(#p2f149f0ce7)\" d=\"M 62.92125 279 \n",
       "L 453.52125 279 \n",
       "\" style=\"fill:none;stroke:#b0b0b0;stroke-dasharray:2.96,1.28;stroke-dashoffset:0;stroke-width:0.8;\"/>\n",
       "     </g>\n",
       "     <g id=\"line2d_3\">\n",
       "      <defs>\n",
       "       <path d=\"M 0 0 \n",
       "L -3.5 0 \n",
       "\" id=\"mdda56a6bdb\" style=\"stroke:#000000;stroke-width:0.8;\"/>\n",
       "      </defs>\n",
       "      <g>\n",
       "       <use style=\"stroke:#000000;stroke-width:0.8;\" x=\"62.92125\" xlink:href=\"#mdda56a6bdb\" y=\"279\"/>\n",
       "      </g>\n",
       "     </g>\n",
       "     <g id=\"text_2\">\n",
       "      <!-- 0.00 -->\n",
       "      <defs>\n",
       "       <path d=\"M 10.6875 12.40625 \n",
       "L 21 12.40625 \n",
       "L 21 0 \n",
       "L 10.6875 0 \n",
       "z\n",
       "\" id=\"DejaVuSans-46\"/>\n",
       "      </defs>\n",
       "      <g transform=\"translate(24.749375 284.318906)scale(0.14 -0.14)\">\n",
       "       <use xlink:href=\"#DejaVuSans-48\"/>\n",
       "       <use x=\"63.623047\" xlink:href=\"#DejaVuSans-46\"/>\n",
       "       <use x=\"95.410156\" xlink:href=\"#DejaVuSans-48\"/>\n",
       "       <use x=\"159.033203\" xlink:href=\"#DejaVuSans-48\"/>\n",
       "      </g>\n",
       "     </g>\n",
       "    </g>\n",
       "    <g id=\"ytick_2\">\n",
       "     <g id=\"line2d_4\">\n",
       "      <path clip-path=\"url(#p2f149f0ce7)\" d=\"M 62.92125 222.375 \n",
       "L 453.52125 222.375 \n",
       "\" style=\"fill:none;stroke:#b0b0b0;stroke-dasharray:2.96,1.28;stroke-dashoffset:0;stroke-width:0.8;\"/>\n",
       "     </g>\n",
       "     <g id=\"line2d_5\">\n",
       "      <g>\n",
       "       <use style=\"stroke:#000000;stroke-width:0.8;\" x=\"62.92125\" xlink:href=\"#mdda56a6bdb\" y=\"222.375\"/>\n",
       "      </g>\n",
       "     </g>\n",
       "     <g id=\"text_3\">\n",
       "      <!-- 0.25 -->\n",
       "      <defs>\n",
       "       <path d=\"M 19.1875 8.296875 \n",
       "L 53.609375 8.296875 \n",
       "L 53.609375 0 \n",
       "L 7.328125 0 \n",
       "L 7.328125 8.296875 \n",
       "Q 12.9375 14.109375 22.625 23.890625 \n",
       "Q 32.328125 33.6875 34.8125 36.53125 \n",
       "Q 39.546875 41.84375 41.421875 45.53125 \n",
       "Q 43.3125 49.21875 43.3125 52.78125 \n",
       "Q 43.3125 58.59375 39.234375 62.25 \n",
       "Q 35.15625 65.921875 28.609375 65.921875 \n",
       "Q 23.96875 65.921875 18.8125 64.3125 \n",
       "Q 13.671875 62.703125 7.8125 59.421875 \n",
       "L 7.8125 69.390625 \n",
       "Q 13.765625 71.78125 18.9375 73 \n",
       "Q 24.125 74.21875 28.421875 74.21875 \n",
       "Q 39.75 74.21875 46.484375 68.546875 \n",
       "Q 53.21875 62.890625 53.21875 53.421875 \n",
       "Q 53.21875 48.921875 51.53125 44.890625 \n",
       "Q 49.859375 40.875 45.40625 35.40625 \n",
       "Q 44.1875 33.984375 37.640625 27.21875 \n",
       "Q 31.109375 20.453125 19.1875 8.296875 \n",
       "z\n",
       "\" id=\"DejaVuSans-50\"/>\n",
       "       <path d=\"M 10.796875 72.90625 \n",
       "L 49.515625 72.90625 \n",
       "L 49.515625 64.59375 \n",
       "L 19.828125 64.59375 \n",
       "L 19.828125 46.734375 \n",
       "Q 21.96875 47.46875 24.109375 47.828125 \n",
       "Q 26.265625 48.1875 28.421875 48.1875 \n",
       "Q 40.625 48.1875 47.75 41.5 \n",
       "Q 54.890625 34.8125 54.890625 23.390625 \n",
       "Q 54.890625 11.625 47.5625 5.09375 \n",
       "Q 40.234375 -1.421875 26.90625 -1.421875 \n",
       "Q 22.3125 -1.421875 17.546875 -0.640625 \n",
       "Q 12.796875 0.140625 7.71875 1.703125 \n",
       "L 7.71875 11.625 \n",
       "Q 12.109375 9.234375 16.796875 8.0625 \n",
       "Q 21.484375 6.890625 26.703125 6.890625 \n",
       "Q 35.15625 6.890625 40.078125 11.328125 \n",
       "Q 45.015625 15.765625 45.015625 23.390625 \n",
       "Q 45.015625 31 40.078125 35.4375 \n",
       "Q 35.15625 39.890625 26.703125 39.890625 \n",
       "Q 22.75 39.890625 18.8125 39.015625 \n",
       "Q 14.890625 38.140625 10.796875 36.28125 \n",
       "z\n",
       "\" id=\"DejaVuSans-53\"/>\n",
       "      </defs>\n",
       "      <g transform=\"translate(24.749375 227.693906)scale(0.14 -0.14)\">\n",
       "       <use xlink:href=\"#DejaVuSans-48\"/>\n",
       "       <use x=\"63.623047\" xlink:href=\"#DejaVuSans-46\"/>\n",
       "       <use x=\"95.410156\" xlink:href=\"#DejaVuSans-50\"/>\n",
       "       <use x=\"159.033203\" xlink:href=\"#DejaVuSans-53\"/>\n",
       "      </g>\n",
       "     </g>\n",
       "    </g>\n",
       "    <g id=\"ytick_3\">\n",
       "     <g id=\"line2d_6\">\n",
       "      <path clip-path=\"url(#p2f149f0ce7)\" d=\"M 62.92125 165.75 \n",
       "L 453.52125 165.75 \n",
       "\" style=\"fill:none;stroke:#b0b0b0;stroke-dasharray:2.96,1.28;stroke-dashoffset:0;stroke-width:0.8;\"/>\n",
       "     </g>\n",
       "     <g id=\"line2d_7\">\n",
       "      <g>\n",
       "       <use style=\"stroke:#000000;stroke-width:0.8;\" x=\"62.92125\" xlink:href=\"#mdda56a6bdb\" y=\"165.75\"/>\n",
       "      </g>\n",
       "     </g>\n",
       "     <g id=\"text_4\">\n",
       "      <!-- 0.50 -->\n",
       "      <g transform=\"translate(24.749375 171.068906)scale(0.14 -0.14)\">\n",
       "       <use xlink:href=\"#DejaVuSans-48\"/>\n",
       "       <use x=\"63.623047\" xlink:href=\"#DejaVuSans-46\"/>\n",
       "       <use x=\"95.410156\" xlink:href=\"#DejaVuSans-53\"/>\n",
       "       <use x=\"159.033203\" xlink:href=\"#DejaVuSans-48\"/>\n",
       "      </g>\n",
       "     </g>\n",
       "    </g>\n",
       "    <g id=\"ytick_4\">\n",
       "     <g id=\"line2d_8\">\n",
       "      <path clip-path=\"url(#p2f149f0ce7)\" d=\"M 62.92125 109.125 \n",
       "L 453.52125 109.125 \n",
       "\" style=\"fill:none;stroke:#b0b0b0;stroke-dasharray:2.96,1.28;stroke-dashoffset:0;stroke-width:0.8;\"/>\n",
       "     </g>\n",
       "     <g id=\"line2d_9\">\n",
       "      <g>\n",
       "       <use style=\"stroke:#000000;stroke-width:0.8;\" x=\"62.92125\" xlink:href=\"#mdda56a6bdb\" y=\"109.125\"/>\n",
       "      </g>\n",
       "     </g>\n",
       "     <g id=\"text_5\">\n",
       "      <!-- 0.75 -->\n",
       "      <defs>\n",
       "       <path d=\"M 8.203125 72.90625 \n",
       "L 55.078125 72.90625 \n",
       "L 55.078125 68.703125 \n",
       "L 28.609375 0 \n",
       "L 18.3125 0 \n",
       "L 43.21875 64.59375 \n",
       "L 8.203125 64.59375 \n",
       "z\n",
       "\" id=\"DejaVuSans-55\"/>\n",
       "      </defs>\n",
       "      <g transform=\"translate(24.749375 114.443906)scale(0.14 -0.14)\">\n",
       "       <use xlink:href=\"#DejaVuSans-48\"/>\n",
       "       <use x=\"63.623047\" xlink:href=\"#DejaVuSans-46\"/>\n",
       "       <use x=\"95.410156\" xlink:href=\"#DejaVuSans-55\"/>\n",
       "       <use x=\"159.033203\" xlink:href=\"#DejaVuSans-53\"/>\n",
       "      </g>\n",
       "     </g>\n",
       "    </g>\n",
       "    <g id=\"ytick_5\">\n",
       "     <g id=\"line2d_10\">\n",
       "      <path clip-path=\"url(#p2f149f0ce7)\" d=\"M 62.92125 52.5 \n",
       "L 453.52125 52.5 \n",
       "\" style=\"fill:none;stroke:#b0b0b0;stroke-dasharray:2.96,1.28;stroke-dashoffset:0;stroke-width:0.8;\"/>\n",
       "     </g>\n",
       "     <g id=\"line2d_11\">\n",
       "      <g>\n",
       "       <use style=\"stroke:#000000;stroke-width:0.8;\" x=\"62.92125\" xlink:href=\"#mdda56a6bdb\" y=\"52.5\"/>\n",
       "      </g>\n",
       "     </g>\n",
       "     <g id=\"text_6\">\n",
       "      <!-- 1.00 -->\n",
       "      <g transform=\"translate(24.749375 57.818906)scale(0.14 -0.14)\">\n",
       "       <use xlink:href=\"#DejaVuSans-49\"/>\n",
       "       <use x=\"63.623047\" xlink:href=\"#DejaVuSans-46\"/>\n",
       "       <use x=\"95.410156\" xlink:href=\"#DejaVuSans-48\"/>\n",
       "       <use x=\"159.033203\" xlink:href=\"#DejaVuSans-48\"/>\n",
       "      </g>\n",
       "     </g>\n",
       "    </g>\n",
       "    <g id=\"text_7\">\n",
       "     <!-- Probabilities -->\n",
       "     <defs>\n",
       "      <path d=\"M 19.671875 64.796875 \n",
       "L 19.671875 37.40625 \n",
       "L 32.078125 37.40625 \n",
       "Q 38.96875 37.40625 42.71875 40.96875 \n",
       "Q 46.484375 44.53125 46.484375 51.125 \n",
       "Q 46.484375 57.671875 42.71875 61.234375 \n",
       "Q 38.96875 64.796875 32.078125 64.796875 \n",
       "z\n",
       "M 9.8125 72.90625 \n",
       "L 32.078125 72.90625 \n",
       "Q 44.34375 72.90625 50.609375 67.359375 \n",
       "Q 56.890625 61.8125 56.890625 51.125 \n",
       "Q 56.890625 40.328125 50.609375 34.8125 \n",
       "Q 44.34375 29.296875 32.078125 29.296875 \n",
       "L 19.671875 29.296875 \n",
       "L 19.671875 0 \n",
       "L 9.8125 0 \n",
       "z\n",
       "\" id=\"DejaVuSans-80\"/>\n",
       "      <path d=\"M 41.109375 46.296875 \n",
       "Q 39.59375 47.171875 37.8125 47.578125 \n",
       "Q 36.03125 48 33.890625 48 \n",
       "Q 26.265625 48 22.1875 43.046875 \n",
       "Q 18.109375 38.09375 18.109375 28.8125 \n",
       "L 18.109375 0 \n",
       "L 9.078125 0 \n",
       "L 9.078125 54.6875 \n",
       "L 18.109375 54.6875 \n",
       "L 18.109375 46.1875 \n",
       "Q 20.953125 51.171875 25.484375 53.578125 \n",
       "Q 30.03125 56 36.53125 56 \n",
       "Q 37.453125 56 38.578125 55.875 \n",
       "Q 39.703125 55.765625 41.0625 55.515625 \n",
       "z\n",
       "\" id=\"DejaVuSans-114\"/>\n",
       "      <path d=\"M 30.609375 48.390625 \n",
       "Q 23.390625 48.390625 19.1875 42.75 \n",
       "Q 14.984375 37.109375 14.984375 27.296875 \n",
       "Q 14.984375 17.484375 19.15625 11.84375 \n",
       "Q 23.34375 6.203125 30.609375 6.203125 \n",
       "Q 37.796875 6.203125 41.984375 11.859375 \n",
       "Q 46.1875 17.53125 46.1875 27.296875 \n",
       "Q 46.1875 37.015625 41.984375 42.703125 \n",
       "Q 37.796875 48.390625 30.609375 48.390625 \n",
       "z\n",
       "M 30.609375 56 \n",
       "Q 42.328125 56 49.015625 48.375 \n",
       "Q 55.71875 40.765625 55.71875 27.296875 \n",
       "Q 55.71875 13.875 49.015625 6.21875 \n",
       "Q 42.328125 -1.421875 30.609375 -1.421875 \n",
       "Q 18.84375 -1.421875 12.171875 6.21875 \n",
       "Q 5.515625 13.875 5.515625 27.296875 \n",
       "Q 5.515625 40.765625 12.171875 48.375 \n",
       "Q 18.84375 56 30.609375 56 \n",
       "z\n",
       "\" id=\"DejaVuSans-111\"/>\n",
       "      <path d=\"M 48.6875 27.296875 \n",
       "Q 48.6875 37.203125 44.609375 42.84375 \n",
       "Q 40.53125 48.484375 33.40625 48.484375 \n",
       "Q 26.265625 48.484375 22.1875 42.84375 \n",
       "Q 18.109375 37.203125 18.109375 27.296875 \n",
       "Q 18.109375 17.390625 22.1875 11.75 \n",
       "Q 26.265625 6.109375 33.40625 6.109375 \n",
       "Q 40.53125 6.109375 44.609375 11.75 \n",
       "Q 48.6875 17.390625 48.6875 27.296875 \n",
       "z\n",
       "M 18.109375 46.390625 \n",
       "Q 20.953125 51.265625 25.265625 53.625 \n",
       "Q 29.59375 56 35.59375 56 \n",
       "Q 45.5625 56 51.78125 48.09375 \n",
       "Q 58.015625 40.1875 58.015625 27.296875 \n",
       "Q 58.015625 14.40625 51.78125 6.484375 \n",
       "Q 45.5625 -1.421875 35.59375 -1.421875 \n",
       "Q 29.59375 -1.421875 25.265625 0.953125 \n",
       "Q 20.953125 3.328125 18.109375 8.203125 \n",
       "L 18.109375 0 \n",
       "L 9.078125 0 \n",
       "L 9.078125 75.984375 \n",
       "L 18.109375 75.984375 \n",
       "z\n",
       "\" id=\"DejaVuSans-98\"/>\n",
       "      <path d=\"M 34.28125 27.484375 \n",
       "Q 23.390625 27.484375 19.1875 25 \n",
       "Q 14.984375 22.515625 14.984375 16.5 \n",
       "Q 14.984375 11.71875 18.140625 8.90625 \n",
       "Q 21.296875 6.109375 26.703125 6.109375 \n",
       "Q 34.1875 6.109375 38.703125 11.40625 \n",
       "Q 43.21875 16.703125 43.21875 25.484375 \n",
       "L 43.21875 27.484375 \n",
       "z\n",
       "M 52.203125 31.203125 \n",
       "L 52.203125 0 \n",
       "L 43.21875 0 \n",
       "L 43.21875 8.296875 \n",
       "Q 40.140625 3.328125 35.546875 0.953125 \n",
       "Q 30.953125 -1.421875 24.3125 -1.421875 \n",
       "Q 15.921875 -1.421875 10.953125 3.296875 \n",
       "Q 6 8.015625 6 15.921875 \n",
       "Q 6 25.140625 12.171875 29.828125 \n",
       "Q 18.359375 34.515625 30.609375 34.515625 \n",
       "L 43.21875 34.515625 \n",
       "L 43.21875 35.40625 \n",
       "Q 43.21875 41.609375 39.140625 45 \n",
       "Q 35.0625 48.390625 27.6875 48.390625 \n",
       "Q 23 48.390625 18.546875 47.265625 \n",
       "Q 14.109375 46.140625 10.015625 43.890625 \n",
       "L 10.015625 52.203125 \n",
       "Q 14.9375 54.109375 19.578125 55.046875 \n",
       "Q 24.21875 56 28.609375 56 \n",
       "Q 40.484375 56 46.34375 49.84375 \n",
       "Q 52.203125 43.703125 52.203125 31.203125 \n",
       "z\n",
       "\" id=\"DejaVuSans-97\"/>\n",
       "      <path d=\"M 9.421875 54.6875 \n",
       "L 18.40625 54.6875 \n",
       "L 18.40625 0 \n",
       "L 9.421875 0 \n",
       "z\n",
       "M 9.421875 75.984375 \n",
       "L 18.40625 75.984375 \n",
       "L 18.40625 64.59375 \n",
       "L 9.421875 64.59375 \n",
       "z\n",
       "\" id=\"DejaVuSans-105\"/>\n",
       "      <path d=\"M 9.421875 75.984375 \n",
       "L 18.40625 75.984375 \n",
       "L 18.40625 0 \n",
       "L 9.421875 0 \n",
       "z\n",
       "\" id=\"DejaVuSans-108\"/>\n",
       "      <path d=\"M 18.3125 70.21875 \n",
       "L 18.3125 54.6875 \n",
       "L 36.8125 54.6875 \n",
       "L 36.8125 47.703125 \n",
       "L 18.3125 47.703125 \n",
       "L 18.3125 18.015625 \n",
       "Q 18.3125 11.328125 20.140625 9.421875 \n",
       "Q 21.96875 7.515625 27.59375 7.515625 \n",
       "L 36.8125 7.515625 \n",
       "L 36.8125 0 \n",
       "L 27.59375 0 \n",
       "Q 17.1875 0 13.234375 3.875 \n",
       "Q 9.28125 7.765625 9.28125 18.015625 \n",
       "L 9.28125 47.703125 \n",
       "L 2.6875 47.703125 \n",
       "L 2.6875 54.6875 \n",
       "L 9.28125 54.6875 \n",
       "L 9.28125 70.21875 \n",
       "z\n",
       "\" id=\"DejaVuSans-116\"/>\n",
       "      <path d=\"M 56.203125 29.59375 \n",
       "L 56.203125 25.203125 \n",
       "L 14.890625 25.203125 \n",
       "Q 15.484375 15.921875 20.484375 11.0625 \n",
       "Q 25.484375 6.203125 34.421875 6.203125 \n",
       "Q 39.59375 6.203125 44.453125 7.46875 \n",
       "Q 49.3125 8.734375 54.109375 11.28125 \n",
       "L 54.109375 2.78125 \n",
       "Q 49.265625 0.734375 44.1875 -0.34375 \n",
       "Q 39.109375 -1.421875 33.890625 -1.421875 \n",
       "Q 20.796875 -1.421875 13.15625 6.1875 \n",
       "Q 5.515625 13.8125 5.515625 26.8125 \n",
       "Q 5.515625 40.234375 12.765625 48.109375 \n",
       "Q 20.015625 56 32.328125 56 \n",
       "Q 43.359375 56 49.78125 48.890625 \n",
       "Q 56.203125 41.796875 56.203125 29.59375 \n",
       "z\n",
       "M 47.21875 32.234375 \n",
       "Q 47.125 39.59375 43.09375 43.984375 \n",
       "Q 39.0625 48.390625 32.421875 48.390625 \n",
       "Q 24.90625 48.390625 20.390625 44.140625 \n",
       "Q 15.875 39.890625 15.1875 32.171875 \n",
       "z\n",
       "\" id=\"DejaVuSans-101\"/>\n",
       "      <path d=\"M 44.28125 53.078125 \n",
       "L 44.28125 44.578125 \n",
       "Q 40.484375 46.53125 36.375 47.5 \n",
       "Q 32.28125 48.484375 27.875 48.484375 \n",
       "Q 21.1875 48.484375 17.84375 46.4375 \n",
       "Q 14.5 44.390625 14.5 40.28125 \n",
       "Q 14.5 37.15625 16.890625 35.375 \n",
       "Q 19.28125 33.59375 26.515625 31.984375 \n",
       "L 29.59375 31.296875 \n",
       "Q 39.15625 29.25 43.1875 25.515625 \n",
       "Q 47.21875 21.78125 47.21875 15.09375 \n",
       "Q 47.21875 7.46875 41.1875 3.015625 \n",
       "Q 35.15625 -1.421875 24.609375 -1.421875 \n",
       "Q 20.21875 -1.421875 15.453125 -0.5625 \n",
       "Q 10.6875 0.296875 5.421875 2 \n",
       "L 5.421875 11.28125 \n",
       "Q 10.40625 8.6875 15.234375 7.390625 \n",
       "Q 20.0625 6.109375 24.8125 6.109375 \n",
       "Q 31.15625 6.109375 34.5625 8.28125 \n",
       "Q 37.984375 10.453125 37.984375 14.40625 \n",
       "Q 37.984375 18.0625 35.515625 20.015625 \n",
       "Q 33.0625 21.96875 24.703125 23.78125 \n",
       "L 21.578125 24.515625 \n",
       "Q 13.234375 26.265625 9.515625 29.90625 \n",
       "Q 5.8125 33.546875 5.8125 39.890625 \n",
       "Q 5.8125 47.609375 11.28125 51.796875 \n",
       "Q 16.75 56 26.8125 56 \n",
       "Q 31.78125 56 36.171875 55.265625 \n",
       "Q 40.578125 54.546875 44.28125 53.078125 \n",
       "z\n",
       "\" id=\"DejaVuSans-115\"/>\n",
       "     </defs>\n",
       "     <g transform=\"translate(17.837813 185.855781)rotate(-90)scale(0.14 -0.14)\">\n",
       "      <use xlink:href=\"#DejaVuSans-80\"/>\n",
       "      <use x=\"58.552734\" xlink:href=\"#DejaVuSans-114\"/>\n",
       "      <use x=\"97.416016\" xlink:href=\"#DejaVuSans-111\"/>\n",
       "      <use x=\"158.597656\" xlink:href=\"#DejaVuSans-98\"/>\n",
       "      <use x=\"222.074219\" xlink:href=\"#DejaVuSans-97\"/>\n",
       "      <use x=\"283.353516\" xlink:href=\"#DejaVuSans-98\"/>\n",
       "      <use x=\"346.830078\" xlink:href=\"#DejaVuSans-105\"/>\n",
       "      <use x=\"374.613281\" xlink:href=\"#DejaVuSans-108\"/>\n",
       "      <use x=\"402.396484\" xlink:href=\"#DejaVuSans-105\"/>\n",
       "      <use x=\"430.179688\" xlink:href=\"#DejaVuSans-116\"/>\n",
       "      <use x=\"469.388672\" xlink:href=\"#DejaVuSans-105\"/>\n",
       "      <use x=\"497.171875\" xlink:href=\"#DejaVuSans-101\"/>\n",
       "      <use x=\"558.695312\" xlink:href=\"#DejaVuSans-115\"/>\n",
       "     </g>\n",
       "    </g>\n",
       "   </g>\n",
       "   <g id=\"patch_3\">\n",
       "    <path clip-path=\"url(#p2f149f0ce7)\" d=\"M 80.675795 279 \n",
       "L 435.766705 279 \n",
       "L 435.766705 52.5 \n",
       "L 80.675795 52.5 \n",
       "z\n",
       "\" style=\"fill:#648fff;\"/>\n",
       "   </g>\n",
       "   <g id=\"patch_4\">\n",
       "    <path d=\"M 62.92125 279 \n",
       "L 62.92125 7.2 \n",
       "\" style=\"fill:none;stroke:#000000;stroke-linecap:square;stroke-linejoin:miter;stroke-width:0.8;\"/>\n",
       "   </g>\n",
       "   <g id=\"patch_5\">\n",
       "    <path d=\"M 453.52125 279 \n",
       "L 453.52125 7.2 \n",
       "\" style=\"fill:none;stroke:#000000;stroke-linecap:square;stroke-linejoin:miter;stroke-width:0.8;\"/>\n",
       "   </g>\n",
       "   <g id=\"patch_6\">\n",
       "    <path d=\"M 62.92125 279 \n",
       "L 453.52125 279 \n",
       "\" style=\"fill:none;stroke:#000000;stroke-linecap:square;stroke-linejoin:miter;stroke-width:0.8;\"/>\n",
       "   </g>\n",
       "   <g id=\"patch_7\">\n",
       "    <path d=\"M 62.92125 7.2 \n",
       "L 453.52125 7.2 \n",
       "\" style=\"fill:none;stroke:#000000;stroke-linecap:square;stroke-linejoin:miter;stroke-width:0.8;\"/>\n",
       "   </g>\n",
       "   <g id=\"text_8\">\n",
       "    <!-- 1.000 -->\n",
       "    <g transform=\"translate(243.907187 39.095312)scale(0.1 -0.1)\">\n",
       "     <use xlink:href=\"#DejaVuSans-49\"/>\n",
       "     <use x=\"63.623047\" xlink:href=\"#DejaVuSans-46\"/>\n",
       "     <use x=\"95.410156\" xlink:href=\"#DejaVuSans-48\"/>\n",
       "     <use x=\"159.033203\" xlink:href=\"#DejaVuSans-48\"/>\n",
       "     <use x=\"222.65625\" xlink:href=\"#DejaVuSans-48\"/>\n",
       "    </g>\n",
       "   </g>\n",
       "  </g>\n",
       " </g>\n",
       " <defs>\n",
       "  <clipPath id=\"p2f149f0ce7\">\n",
       "   <rect height=\"271.8\" width=\"390.6\" x=\"62.92125\" y=\"7.2\"/>\n",
       "  </clipPath>\n",
       " </defs>\n",
       "</svg>\n"
      ],
      "text/plain": [
       "<Figure size 504x360 with 1 Axes>"
      ]
     },
     "execution_count": 5,
     "metadata": {},
     "output_type": "execute_result"
    }
   ],
   "source": [
    "# use local simulator\n",
    "backend = BasicAer.get_backend('qasm_simulator')\n",
    "shots = 1024\n",
    "results = execute(bv_circuit, backend=backend, shots=shots).result()\n",
    "answer = results.get_counts()\n",
    "\n",
    "plot_histogram(answer)"
   ]
  },
  {
   "cell_type": "markdown",
   "metadata": {},
   "source": [
    "We can see that the result of the measurement is the hidden string `011`. "
   ]
  },
  {
   "cell_type": "markdown",
   "metadata": {},
   "source": [
    "### 3b. Experiment with Real Devices <a id='device'></a>\n",
    "\n",
    "We can run the circuit on the real device as below."
   ]
  },
  {
   "cell_type": "code",
   "execution_count": 6,
   "metadata": {
    "tags": [
     "uses-hardware"
    ]
   },
   "outputs": [
    {
     "name": "stdout",
     "output_type": "stream",
     "text": [
      "least busy backend:  ibmq_burlington\n"
     ]
    }
   ],
   "source": [
    "# Load our saved IBMQ accounts and get the least busy backend device with less than or equal to 5 qubits\n",
    "IBMQ.load_account()\n",
    "provider = IBMQ.get_provider(hub='ibm-q')\n",
    "provider.backends()\n",
    "backend = least_busy(provider.backends(filters=lambda x: x.configuration().n_qubits <= 5 and\n",
    "                                   x.configuration().n_qubits >= 2 and\n",
    "                                   not x.configuration().simulator and x.status().operational==True))\n",
    "print(\"least busy backend: \", backend)"
   ]
  },
  {
   "cell_type": "code",
   "execution_count": 7,
   "metadata": {
    "tags": [
     "uses-hardware"
    ]
   },
   "outputs": [
    {
     "name": "stdout",
     "output_type": "stream",
     "text": [
      "Job Status: job has successfully run\n"
     ]
    }
   ],
   "source": [
    "# Run our circuit on the least busy backend. Monitor the execution of the job in the queue\n",
    "from qiskit.tools.monitor import job_monitor\n",
    "\n",
    "shots = 1024\n",
    "job = execute(bv_circuit, backend=backend, shots=shots)\n",
    "\n",
    "job_monitor(job, interval = 2)"
   ]
  },
  {
   "cell_type": "code",
   "execution_count": 8,
   "metadata": {
    "tags": [
     "uses-hardware"
    ]
   },
   "outputs": [
    {
     "data": {
      "image/svg+xml": [
       "<?xml version=\"1.0\" encoding=\"utf-8\" standalone=\"no\"?>\n",
       "<!DOCTYPE svg PUBLIC \"-//W3C//DTD SVG 1.1//EN\"\n",
       "  \"http://www.w3.org/Graphics/SVG/1.1/DTD/svg11.dtd\">\n",
       "<!-- Created with matplotlib (https://matplotlib.org/) -->\n",
       "<svg height=\"322.945095pt\" version=\"1.1\" viewBox=\"0 0 460.72125 322.945095\" width=\"460.72125pt\" xmlns=\"http://www.w3.org/2000/svg\" xmlns:xlink=\"http://www.w3.org/1999/xlink\">\n",
       " <defs>\n",
       "  <style type=\"text/css\">\n",
       "*{stroke-linecap:butt;stroke-linejoin:round;}\n",
       "  </style>\n",
       " </defs>\n",
       " <g id=\"figure_1\">\n",
       "  <g id=\"patch_1\">\n",
       "   <path d=\"M 0 322.945095 \n",
       "L 460.72125 322.945095 \n",
       "L 460.72125 0 \n",
       "L 0 0 \n",
       "z\n",
       "\" style=\"fill:none;\"/>\n",
       "  </g>\n",
       "  <g id=\"axes_1\">\n",
       "   <g id=\"patch_2\">\n",
       "    <path d=\"M 62.92125 279 \n",
       "L 453.52125 279 \n",
       "L 453.52125 7.2 \n",
       "L 62.92125 7.2 \n",
       "z\n",
       "\" style=\"fill:#ffffff;\"/>\n",
       "   </g>\n",
       "   <g id=\"matplotlib.axis_1\">\n",
       "    <g id=\"xtick_1\">\n",
       "     <g id=\"line2d_1\">\n",
       "      <defs>\n",
       "       <path d=\"M 0 0 \n",
       "L 0 3.5 \n",
       "\" id=\"ma8417a062f\" style=\"stroke:#000000;stroke-width:0.8;\"/>\n",
       "      </defs>\n",
       "      <g>\n",
       "       <use style=\"stroke:#000000;stroke-width:0.8;\" x=\"92.512159\" xlink:href=\"#ma8417a062f\" y=\"279\"/>\n",
       "      </g>\n",
       "     </g>\n",
       "     <g id=\"text_1\">\n",
       "      <!-- 000 -->\n",
       "      <defs>\n",
       "       <path d=\"M 31.78125 66.40625 \n",
       "Q 24.171875 66.40625 20.328125 58.90625 \n",
       "Q 16.5 51.421875 16.5 36.375 \n",
       "Q 16.5 21.390625 20.328125 13.890625 \n",
       "Q 24.171875 6.390625 31.78125 6.390625 \n",
       "Q 39.453125 6.390625 43.28125 13.890625 \n",
       "Q 47.125 21.390625 47.125 36.375 \n",
       "Q 47.125 51.421875 43.28125 58.90625 \n",
       "Q 39.453125 66.40625 31.78125 66.40625 \n",
       "z\n",
       "M 31.78125 74.21875 \n",
       "Q 44.046875 74.21875 50.515625 64.515625 \n",
       "Q 56.984375 54.828125 56.984375 36.375 \n",
       "Q 56.984375 17.96875 50.515625 8.265625 \n",
       "Q 44.046875 -1.421875 31.78125 -1.421875 \n",
       "Q 19.53125 -1.421875 13.0625 8.265625 \n",
       "Q 6.59375 17.96875 6.59375 36.375 \n",
       "Q 6.59375 54.828125 13.0625 64.515625 \n",
       "Q 19.53125 74.21875 31.78125 74.21875 \n",
       "z\n",
       "\" id=\"DejaVuSans-48\"/>\n",
       "      </defs>\n",
       "      <g transform=\"translate(91.572493 314.749282)rotate(-70)scale(0.14 -0.14)\">\n",
       "       <use xlink:href=\"#DejaVuSans-48\"/>\n",
       "       <use x=\"63.623047\" xlink:href=\"#DejaVuSans-48\"/>\n",
       "       <use x=\"127.246094\" xlink:href=\"#DejaVuSans-48\"/>\n",
       "      </g>\n",
       "     </g>\n",
       "    </g>\n",
       "    <g id=\"xtick_2\">\n",
       "     <g id=\"line2d_2\">\n",
       "      <g>\n",
       "       <use style=\"stroke:#000000;stroke-width:0.8;\" x=\"139.857614\" xlink:href=\"#ma8417a062f\" y=\"279\"/>\n",
       "      </g>\n",
       "     </g>\n",
       "     <g id=\"text_2\">\n",
       "      <!-- 001 -->\n",
       "      <defs>\n",
       "       <path d=\"M 12.40625 8.296875 \n",
       "L 28.515625 8.296875 \n",
       "L 28.515625 63.921875 \n",
       "L 10.984375 60.40625 \n",
       "L 10.984375 69.390625 \n",
       "L 28.421875 72.90625 \n",
       "L 38.28125 72.90625 \n",
       "L 38.28125 8.296875 \n",
       "L 54.390625 8.296875 \n",
       "L 54.390625 0 \n",
       "L 12.40625 0 \n",
       "z\n",
       "\" id=\"DejaVuSans-49\"/>\n",
       "      </defs>\n",
       "      <g transform=\"translate(138.917947 314.749282)rotate(-70)scale(0.14 -0.14)\">\n",
       "       <use xlink:href=\"#DejaVuSans-48\"/>\n",
       "       <use x=\"63.623047\" xlink:href=\"#DejaVuSans-48\"/>\n",
       "       <use x=\"127.246094\" xlink:href=\"#DejaVuSans-49\"/>\n",
       "      </g>\n",
       "     </g>\n",
       "    </g>\n",
       "    <g id=\"xtick_3\">\n",
       "     <g id=\"line2d_3\">\n",
       "      <g>\n",
       "       <use style=\"stroke:#000000;stroke-width:0.8;\" x=\"187.203068\" xlink:href=\"#ma8417a062f\" y=\"279\"/>\n",
       "      </g>\n",
       "     </g>\n",
       "     <g id=\"text_3\">\n",
       "      <!-- 010 -->\n",
       "      <g transform=\"translate(186.263402 314.749282)rotate(-70)scale(0.14 -0.14)\">\n",
       "       <use xlink:href=\"#DejaVuSans-48\"/>\n",
       "       <use x=\"63.623047\" xlink:href=\"#DejaVuSans-49\"/>\n",
       "       <use x=\"127.246094\" xlink:href=\"#DejaVuSans-48\"/>\n",
       "      </g>\n",
       "     </g>\n",
       "    </g>\n",
       "    <g id=\"xtick_4\">\n",
       "     <g id=\"line2d_4\">\n",
       "      <g>\n",
       "       <use style=\"stroke:#000000;stroke-width:0.8;\" x=\"234.548523\" xlink:href=\"#ma8417a062f\" y=\"279\"/>\n",
       "      </g>\n",
       "     </g>\n",
       "     <g id=\"text_4\">\n",
       "      <!-- 011 -->\n",
       "      <g transform=\"translate(233.608856 314.749282)rotate(-70)scale(0.14 -0.14)\">\n",
       "       <use xlink:href=\"#DejaVuSans-48\"/>\n",
       "       <use x=\"63.623047\" xlink:href=\"#DejaVuSans-49\"/>\n",
       "       <use x=\"127.246094\" xlink:href=\"#DejaVuSans-49\"/>\n",
       "      </g>\n",
       "     </g>\n",
       "    </g>\n",
       "    <g id=\"xtick_5\">\n",
       "     <g id=\"line2d_5\">\n",
       "      <g>\n",
       "       <use style=\"stroke:#000000;stroke-width:0.8;\" x=\"281.893977\" xlink:href=\"#ma8417a062f\" y=\"279\"/>\n",
       "      </g>\n",
       "     </g>\n",
       "     <g id=\"text_5\">\n",
       "      <!-- 100 -->\n",
       "      <g transform=\"translate(280.954311 314.749282)rotate(-70)scale(0.14 -0.14)\">\n",
       "       <use xlink:href=\"#DejaVuSans-49\"/>\n",
       "       <use x=\"63.623047\" xlink:href=\"#DejaVuSans-48\"/>\n",
       "       <use x=\"127.246094\" xlink:href=\"#DejaVuSans-48\"/>\n",
       "      </g>\n",
       "     </g>\n",
       "    </g>\n",
       "    <g id=\"xtick_6\">\n",
       "     <g id=\"line2d_6\">\n",
       "      <g>\n",
       "       <use style=\"stroke:#000000;stroke-width:0.8;\" x=\"329.239432\" xlink:href=\"#ma8417a062f\" y=\"279\"/>\n",
       "      </g>\n",
       "     </g>\n",
       "     <g id=\"text_6\">\n",
       "      <!-- 101 -->\n",
       "      <g transform=\"translate(328.299765 314.749282)rotate(-70)scale(0.14 -0.14)\">\n",
       "       <use xlink:href=\"#DejaVuSans-49\"/>\n",
       "       <use x=\"63.623047\" xlink:href=\"#DejaVuSans-48\"/>\n",
       "       <use x=\"127.246094\" xlink:href=\"#DejaVuSans-49\"/>\n",
       "      </g>\n",
       "     </g>\n",
       "    </g>\n",
       "    <g id=\"xtick_7\">\n",
       "     <g id=\"line2d_7\">\n",
       "      <g>\n",
       "       <use style=\"stroke:#000000;stroke-width:0.8;\" x=\"376.584886\" xlink:href=\"#ma8417a062f\" y=\"279\"/>\n",
       "      </g>\n",
       "     </g>\n",
       "     <g id=\"text_7\">\n",
       "      <!-- 110 -->\n",
       "      <g transform=\"translate(375.64522 314.749282)rotate(-70)scale(0.14 -0.14)\">\n",
       "       <use xlink:href=\"#DejaVuSans-49\"/>\n",
       "       <use x=\"63.623047\" xlink:href=\"#DejaVuSans-49\"/>\n",
       "       <use x=\"127.246094\" xlink:href=\"#DejaVuSans-48\"/>\n",
       "      </g>\n",
       "     </g>\n",
       "    </g>\n",
       "    <g id=\"xtick_8\">\n",
       "     <g id=\"line2d_8\">\n",
       "      <g>\n",
       "       <use style=\"stroke:#000000;stroke-width:0.8;\" x=\"423.930341\" xlink:href=\"#ma8417a062f\" y=\"279\"/>\n",
       "      </g>\n",
       "     </g>\n",
       "     <g id=\"text_8\">\n",
       "      <!-- 111 -->\n",
       "      <g transform=\"translate(422.990674 314.749282)rotate(-70)scale(0.14 -0.14)\">\n",
       "       <use xlink:href=\"#DejaVuSans-49\"/>\n",
       "       <use x=\"63.623047\" xlink:href=\"#DejaVuSans-49\"/>\n",
       "       <use x=\"127.246094\" xlink:href=\"#DejaVuSans-49\"/>\n",
       "      </g>\n",
       "     </g>\n",
       "    </g>\n",
       "   </g>\n",
       "   <g id=\"matplotlib.axis_2\">\n",
       "    <g id=\"ytick_1\">\n",
       "     <g id=\"line2d_9\">\n",
       "      <path clip-path=\"url(#p0b63d65f9d)\" d=\"M 62.92125 279 \n",
       "L 453.52125 279 \n",
       "\" style=\"fill:none;stroke:#b0b0b0;stroke-dasharray:2.96,1.28;stroke-dashoffset:0;stroke-width:0.8;\"/>\n",
       "     </g>\n",
       "     <g id=\"line2d_10\">\n",
       "      <defs>\n",
       "       <path d=\"M 0 0 \n",
       "L -3.5 0 \n",
       "\" id=\"mbfe9f11164\" style=\"stroke:#000000;stroke-width:0.8;\"/>\n",
       "      </defs>\n",
       "      <g>\n",
       "       <use style=\"stroke:#000000;stroke-width:0.8;\" x=\"62.92125\" xlink:href=\"#mbfe9f11164\" y=\"279\"/>\n",
       "      </g>\n",
       "     </g>\n",
       "     <g id=\"text_9\">\n",
       "      <!-- 0.00 -->\n",
       "      <defs>\n",
       "       <path d=\"M 10.6875 12.40625 \n",
       "L 21 12.40625 \n",
       "L 21 0 \n",
       "L 10.6875 0 \n",
       "z\n",
       "\" id=\"DejaVuSans-46\"/>\n",
       "      </defs>\n",
       "      <g transform=\"translate(24.749375 284.318906)scale(0.14 -0.14)\">\n",
       "       <use xlink:href=\"#DejaVuSans-48\"/>\n",
       "       <use x=\"63.623047\" xlink:href=\"#DejaVuSans-46\"/>\n",
       "       <use x=\"95.410156\" xlink:href=\"#DejaVuSans-48\"/>\n",
       "       <use x=\"159.033203\" xlink:href=\"#DejaVuSans-48\"/>\n",
       "      </g>\n",
       "     </g>\n",
       "    </g>\n",
       "    <g id=\"ytick_2\">\n",
       "     <g id=\"line2d_11\">\n",
       "      <path clip-path=\"url(#p0b63d65f9d)\" d=\"M 62.92125 224.265841 \n",
       "L 453.52125 224.265841 \n",
       "\" style=\"fill:none;stroke:#b0b0b0;stroke-dasharray:2.96,1.28;stroke-dashoffset:0;stroke-width:0.8;\"/>\n",
       "     </g>\n",
       "     <g id=\"line2d_12\">\n",
       "      <g>\n",
       "       <use style=\"stroke:#000000;stroke-width:0.8;\" x=\"62.92125\" xlink:href=\"#mbfe9f11164\" y=\"224.265841\"/>\n",
       "      </g>\n",
       "     </g>\n",
       "     <g id=\"text_10\">\n",
       "      <!-- 0.08 -->\n",
       "      <defs>\n",
       "       <path d=\"M 31.78125 34.625 \n",
       "Q 24.75 34.625 20.71875 30.859375 \n",
       "Q 16.703125 27.09375 16.703125 20.515625 \n",
       "Q 16.703125 13.921875 20.71875 10.15625 \n",
       "Q 24.75 6.390625 31.78125 6.390625 \n",
       "Q 38.8125 6.390625 42.859375 10.171875 \n",
       "Q 46.921875 13.96875 46.921875 20.515625 \n",
       "Q 46.921875 27.09375 42.890625 30.859375 \n",
       "Q 38.875 34.625 31.78125 34.625 \n",
       "z\n",
       "M 21.921875 38.8125 \n",
       "Q 15.578125 40.375 12.03125 44.71875 \n",
       "Q 8.5 49.078125 8.5 55.328125 \n",
       "Q 8.5 64.0625 14.71875 69.140625 \n",
       "Q 20.953125 74.21875 31.78125 74.21875 \n",
       "Q 42.671875 74.21875 48.875 69.140625 \n",
       "Q 55.078125 64.0625 55.078125 55.328125 \n",
       "Q 55.078125 49.078125 51.53125 44.71875 \n",
       "Q 48 40.375 41.703125 38.8125 \n",
       "Q 48.828125 37.15625 52.796875 32.3125 \n",
       "Q 56.78125 27.484375 56.78125 20.515625 \n",
       "Q 56.78125 9.90625 50.3125 4.234375 \n",
       "Q 43.84375 -1.421875 31.78125 -1.421875 \n",
       "Q 19.734375 -1.421875 13.25 4.234375 \n",
       "Q 6.78125 9.90625 6.78125 20.515625 \n",
       "Q 6.78125 27.484375 10.78125 32.3125 \n",
       "Q 14.796875 37.15625 21.921875 38.8125 \n",
       "z\n",
       "M 18.3125 54.390625 \n",
       "Q 18.3125 48.734375 21.84375 45.5625 \n",
       "Q 25.390625 42.390625 31.78125 42.390625 \n",
       "Q 38.140625 42.390625 41.71875 45.5625 \n",
       "Q 45.3125 48.734375 45.3125 54.390625 \n",
       "Q 45.3125 60.0625 41.71875 63.234375 \n",
       "Q 38.140625 66.40625 31.78125 66.40625 \n",
       "Q 25.390625 66.40625 21.84375 63.234375 \n",
       "Q 18.3125 60.0625 18.3125 54.390625 \n",
       "z\n",
       "\" id=\"DejaVuSans-56\"/>\n",
       "      </defs>\n",
       "      <g transform=\"translate(24.749375 229.584747)scale(0.14 -0.14)\">\n",
       "       <use xlink:href=\"#DejaVuSans-48\"/>\n",
       "       <use x=\"63.623047\" xlink:href=\"#DejaVuSans-46\"/>\n",
       "       <use x=\"95.410156\" xlink:href=\"#DejaVuSans-48\"/>\n",
       "       <use x=\"159.033203\" xlink:href=\"#DejaVuSans-56\"/>\n",
       "      </g>\n",
       "     </g>\n",
       "    </g>\n",
       "    <g id=\"ytick_3\">\n",
       "     <g id=\"line2d_13\">\n",
       "      <path clip-path=\"url(#p0b63d65f9d)\" d=\"M 62.92125 169.531681 \n",
       "L 453.52125 169.531681 \n",
       "\" style=\"fill:none;stroke:#b0b0b0;stroke-dasharray:2.96,1.28;stroke-dashoffset:0;stroke-width:0.8;\"/>\n",
       "     </g>\n",
       "     <g id=\"line2d_14\">\n",
       "      <g>\n",
       "       <use style=\"stroke:#000000;stroke-width:0.8;\" x=\"62.92125\" xlink:href=\"#mbfe9f11164\" y=\"169.531681\"/>\n",
       "      </g>\n",
       "     </g>\n",
       "     <g id=\"text_11\">\n",
       "      <!-- 0.16 -->\n",
       "      <defs>\n",
       "       <path d=\"M 33.015625 40.375 \n",
       "Q 26.375 40.375 22.484375 35.828125 \n",
       "Q 18.609375 31.296875 18.609375 23.390625 \n",
       "Q 18.609375 15.53125 22.484375 10.953125 \n",
       "Q 26.375 6.390625 33.015625 6.390625 \n",
       "Q 39.65625 6.390625 43.53125 10.953125 \n",
       "Q 47.40625 15.53125 47.40625 23.390625 \n",
       "Q 47.40625 31.296875 43.53125 35.828125 \n",
       "Q 39.65625 40.375 33.015625 40.375 \n",
       "z\n",
       "M 52.59375 71.296875 \n",
       "L 52.59375 62.3125 \n",
       "Q 48.875 64.0625 45.09375 64.984375 \n",
       "Q 41.3125 65.921875 37.59375 65.921875 \n",
       "Q 27.828125 65.921875 22.671875 59.328125 \n",
       "Q 17.53125 52.734375 16.796875 39.40625 \n",
       "Q 19.671875 43.65625 24.015625 45.921875 \n",
       "Q 28.375 48.1875 33.59375 48.1875 \n",
       "Q 44.578125 48.1875 50.953125 41.515625 \n",
       "Q 57.328125 34.859375 57.328125 23.390625 \n",
       "Q 57.328125 12.15625 50.6875 5.359375 \n",
       "Q 44.046875 -1.421875 33.015625 -1.421875 \n",
       "Q 20.359375 -1.421875 13.671875 8.265625 \n",
       "Q 6.984375 17.96875 6.984375 36.375 \n",
       "Q 6.984375 53.65625 15.1875 63.9375 \n",
       "Q 23.390625 74.21875 37.203125 74.21875 \n",
       "Q 40.921875 74.21875 44.703125 73.484375 \n",
       "Q 48.484375 72.75 52.59375 71.296875 \n",
       "z\n",
       "\" id=\"DejaVuSans-54\"/>\n",
       "      </defs>\n",
       "      <g transform=\"translate(24.749375 174.850588)scale(0.14 -0.14)\">\n",
       "       <use xlink:href=\"#DejaVuSans-48\"/>\n",
       "       <use x=\"63.623047\" xlink:href=\"#DejaVuSans-46\"/>\n",
       "       <use x=\"95.410156\" xlink:href=\"#DejaVuSans-49\"/>\n",
       "       <use x=\"159.033203\" xlink:href=\"#DejaVuSans-54\"/>\n",
       "      </g>\n",
       "     </g>\n",
       "    </g>\n",
       "    <g id=\"ytick_4\">\n",
       "     <g id=\"line2d_15\">\n",
       "      <path clip-path=\"url(#p0b63d65f9d)\" d=\"M 62.92125 114.797522 \n",
       "L 453.52125 114.797522 \n",
       "\" style=\"fill:none;stroke:#b0b0b0;stroke-dasharray:2.96,1.28;stroke-dashoffset:0;stroke-width:0.8;\"/>\n",
       "     </g>\n",
       "     <g id=\"line2d_16\">\n",
       "      <g>\n",
       "       <use style=\"stroke:#000000;stroke-width:0.8;\" x=\"62.92125\" xlink:href=\"#mbfe9f11164\" y=\"114.797522\"/>\n",
       "      </g>\n",
       "     </g>\n",
       "     <g id=\"text_12\">\n",
       "      <!-- 0.24 -->\n",
       "      <defs>\n",
       "       <path d=\"M 19.1875 8.296875 \n",
       "L 53.609375 8.296875 \n",
       "L 53.609375 0 \n",
       "L 7.328125 0 \n",
       "L 7.328125 8.296875 \n",
       "Q 12.9375 14.109375 22.625 23.890625 \n",
       "Q 32.328125 33.6875 34.8125 36.53125 \n",
       "Q 39.546875 41.84375 41.421875 45.53125 \n",
       "Q 43.3125 49.21875 43.3125 52.78125 \n",
       "Q 43.3125 58.59375 39.234375 62.25 \n",
       "Q 35.15625 65.921875 28.609375 65.921875 \n",
       "Q 23.96875 65.921875 18.8125 64.3125 \n",
       "Q 13.671875 62.703125 7.8125 59.421875 \n",
       "L 7.8125 69.390625 \n",
       "Q 13.765625 71.78125 18.9375 73 \n",
       "Q 24.125 74.21875 28.421875 74.21875 \n",
       "Q 39.75 74.21875 46.484375 68.546875 \n",
       "Q 53.21875 62.890625 53.21875 53.421875 \n",
       "Q 53.21875 48.921875 51.53125 44.890625 \n",
       "Q 49.859375 40.875 45.40625 35.40625 \n",
       "Q 44.1875 33.984375 37.640625 27.21875 \n",
       "Q 31.109375 20.453125 19.1875 8.296875 \n",
       "z\n",
       "\" id=\"DejaVuSans-50\"/>\n",
       "       <path d=\"M 37.796875 64.3125 \n",
       "L 12.890625 25.390625 \n",
       "L 37.796875 25.390625 \n",
       "z\n",
       "M 35.203125 72.90625 \n",
       "L 47.609375 72.90625 \n",
       "L 47.609375 25.390625 \n",
       "L 58.015625 25.390625 \n",
       "L 58.015625 17.1875 \n",
       "L 47.609375 17.1875 \n",
       "L 47.609375 0 \n",
       "L 37.796875 0 \n",
       "L 37.796875 17.1875 \n",
       "L 4.890625 17.1875 \n",
       "L 4.890625 26.703125 \n",
       "z\n",
       "\" id=\"DejaVuSans-52\"/>\n",
       "      </defs>\n",
       "      <g transform=\"translate(24.749375 120.116428)scale(0.14 -0.14)\">\n",
       "       <use xlink:href=\"#DejaVuSans-48\"/>\n",
       "       <use x=\"63.623047\" xlink:href=\"#DejaVuSans-46\"/>\n",
       "       <use x=\"95.410156\" xlink:href=\"#DejaVuSans-50\"/>\n",
       "       <use x=\"159.033203\" xlink:href=\"#DejaVuSans-52\"/>\n",
       "      </g>\n",
       "     </g>\n",
       "    </g>\n",
       "    <g id=\"ytick_5\">\n",
       "     <g id=\"line2d_17\">\n",
       "      <path clip-path=\"url(#p0b63d65f9d)\" d=\"M 62.92125 60.063363 \n",
       "L 453.52125 60.063363 \n",
       "\" style=\"fill:none;stroke:#b0b0b0;stroke-dasharray:2.96,1.28;stroke-dashoffset:0;stroke-width:0.8;\"/>\n",
       "     </g>\n",
       "     <g id=\"line2d_18\">\n",
       "      <g>\n",
       "       <use style=\"stroke:#000000;stroke-width:0.8;\" x=\"62.92125\" xlink:href=\"#mbfe9f11164\" y=\"60.063363\"/>\n",
       "      </g>\n",
       "     </g>\n",
       "     <g id=\"text_13\">\n",
       "      <!-- 0.32 -->\n",
       "      <defs>\n",
       "       <path d=\"M 40.578125 39.3125 \n",
       "Q 47.65625 37.796875 51.625 33 \n",
       "Q 55.609375 28.21875 55.609375 21.1875 \n",
       "Q 55.609375 10.40625 48.1875 4.484375 \n",
       "Q 40.765625 -1.421875 27.09375 -1.421875 \n",
       "Q 22.515625 -1.421875 17.65625 -0.515625 \n",
       "Q 12.796875 0.390625 7.625 2.203125 \n",
       "L 7.625 11.71875 \n",
       "Q 11.71875 9.328125 16.59375 8.109375 \n",
       "Q 21.484375 6.890625 26.8125 6.890625 \n",
       "Q 36.078125 6.890625 40.9375 10.546875 \n",
       "Q 45.796875 14.203125 45.796875 21.1875 \n",
       "Q 45.796875 27.640625 41.28125 31.265625 \n",
       "Q 36.765625 34.90625 28.71875 34.90625 \n",
       "L 20.21875 34.90625 \n",
       "L 20.21875 43.015625 \n",
       "L 29.109375 43.015625 \n",
       "Q 36.375 43.015625 40.234375 45.921875 \n",
       "Q 44.09375 48.828125 44.09375 54.296875 \n",
       "Q 44.09375 59.90625 40.109375 62.90625 \n",
       "Q 36.140625 65.921875 28.71875 65.921875 \n",
       "Q 24.65625 65.921875 20.015625 65.03125 \n",
       "Q 15.375 64.15625 9.8125 62.3125 \n",
       "L 9.8125 71.09375 \n",
       "Q 15.4375 72.65625 20.34375 73.4375 \n",
       "Q 25.25 74.21875 29.59375 74.21875 \n",
       "Q 40.828125 74.21875 47.359375 69.109375 \n",
       "Q 53.90625 64.015625 53.90625 55.328125 \n",
       "Q 53.90625 49.265625 50.4375 45.09375 \n",
       "Q 46.96875 40.921875 40.578125 39.3125 \n",
       "z\n",
       "\" id=\"DejaVuSans-51\"/>\n",
       "      </defs>\n",
       "      <g transform=\"translate(24.749375 65.382269)scale(0.14 -0.14)\">\n",
       "       <use xlink:href=\"#DejaVuSans-48\"/>\n",
       "       <use x=\"63.623047\" xlink:href=\"#DejaVuSans-46\"/>\n",
       "       <use x=\"95.410156\" xlink:href=\"#DejaVuSans-51\"/>\n",
       "       <use x=\"159.033203\" xlink:href=\"#DejaVuSans-50\"/>\n",
       "      </g>\n",
       "     </g>\n",
       "    </g>\n",
       "    <g id=\"text_14\">\n",
       "     <!-- Probabilities -->\n",
       "     <defs>\n",
       "      <path d=\"M 19.671875 64.796875 \n",
       "L 19.671875 37.40625 \n",
       "L 32.078125 37.40625 \n",
       "Q 38.96875 37.40625 42.71875 40.96875 \n",
       "Q 46.484375 44.53125 46.484375 51.125 \n",
       "Q 46.484375 57.671875 42.71875 61.234375 \n",
       "Q 38.96875 64.796875 32.078125 64.796875 \n",
       "z\n",
       "M 9.8125 72.90625 \n",
       "L 32.078125 72.90625 \n",
       "Q 44.34375 72.90625 50.609375 67.359375 \n",
       "Q 56.890625 61.8125 56.890625 51.125 \n",
       "Q 56.890625 40.328125 50.609375 34.8125 \n",
       "Q 44.34375 29.296875 32.078125 29.296875 \n",
       "L 19.671875 29.296875 \n",
       "L 19.671875 0 \n",
       "L 9.8125 0 \n",
       "z\n",
       "\" id=\"DejaVuSans-80\"/>\n",
       "      <path d=\"M 41.109375 46.296875 \n",
       "Q 39.59375 47.171875 37.8125 47.578125 \n",
       "Q 36.03125 48 33.890625 48 \n",
       "Q 26.265625 48 22.1875 43.046875 \n",
       "Q 18.109375 38.09375 18.109375 28.8125 \n",
       "L 18.109375 0 \n",
       "L 9.078125 0 \n",
       "L 9.078125 54.6875 \n",
       "L 18.109375 54.6875 \n",
       "L 18.109375 46.1875 \n",
       "Q 20.953125 51.171875 25.484375 53.578125 \n",
       "Q 30.03125 56 36.53125 56 \n",
       "Q 37.453125 56 38.578125 55.875 \n",
       "Q 39.703125 55.765625 41.0625 55.515625 \n",
       "z\n",
       "\" id=\"DejaVuSans-114\"/>\n",
       "      <path d=\"M 30.609375 48.390625 \n",
       "Q 23.390625 48.390625 19.1875 42.75 \n",
       "Q 14.984375 37.109375 14.984375 27.296875 \n",
       "Q 14.984375 17.484375 19.15625 11.84375 \n",
       "Q 23.34375 6.203125 30.609375 6.203125 \n",
       "Q 37.796875 6.203125 41.984375 11.859375 \n",
       "Q 46.1875 17.53125 46.1875 27.296875 \n",
       "Q 46.1875 37.015625 41.984375 42.703125 \n",
       "Q 37.796875 48.390625 30.609375 48.390625 \n",
       "z\n",
       "M 30.609375 56 \n",
       "Q 42.328125 56 49.015625 48.375 \n",
       "Q 55.71875 40.765625 55.71875 27.296875 \n",
       "Q 55.71875 13.875 49.015625 6.21875 \n",
       "Q 42.328125 -1.421875 30.609375 -1.421875 \n",
       "Q 18.84375 -1.421875 12.171875 6.21875 \n",
       "Q 5.515625 13.875 5.515625 27.296875 \n",
       "Q 5.515625 40.765625 12.171875 48.375 \n",
       "Q 18.84375 56 30.609375 56 \n",
       "z\n",
       "\" id=\"DejaVuSans-111\"/>\n",
       "      <path d=\"M 48.6875 27.296875 \n",
       "Q 48.6875 37.203125 44.609375 42.84375 \n",
       "Q 40.53125 48.484375 33.40625 48.484375 \n",
       "Q 26.265625 48.484375 22.1875 42.84375 \n",
       "Q 18.109375 37.203125 18.109375 27.296875 \n",
       "Q 18.109375 17.390625 22.1875 11.75 \n",
       "Q 26.265625 6.109375 33.40625 6.109375 \n",
       "Q 40.53125 6.109375 44.609375 11.75 \n",
       "Q 48.6875 17.390625 48.6875 27.296875 \n",
       "z\n",
       "M 18.109375 46.390625 \n",
       "Q 20.953125 51.265625 25.265625 53.625 \n",
       "Q 29.59375 56 35.59375 56 \n",
       "Q 45.5625 56 51.78125 48.09375 \n",
       "Q 58.015625 40.1875 58.015625 27.296875 \n",
       "Q 58.015625 14.40625 51.78125 6.484375 \n",
       "Q 45.5625 -1.421875 35.59375 -1.421875 \n",
       "Q 29.59375 -1.421875 25.265625 0.953125 \n",
       "Q 20.953125 3.328125 18.109375 8.203125 \n",
       "L 18.109375 0 \n",
       "L 9.078125 0 \n",
       "L 9.078125 75.984375 \n",
       "L 18.109375 75.984375 \n",
       "z\n",
       "\" id=\"DejaVuSans-98\"/>\n",
       "      <path d=\"M 34.28125 27.484375 \n",
       "Q 23.390625 27.484375 19.1875 25 \n",
       "Q 14.984375 22.515625 14.984375 16.5 \n",
       "Q 14.984375 11.71875 18.140625 8.90625 \n",
       "Q 21.296875 6.109375 26.703125 6.109375 \n",
       "Q 34.1875 6.109375 38.703125 11.40625 \n",
       "Q 43.21875 16.703125 43.21875 25.484375 \n",
       "L 43.21875 27.484375 \n",
       "z\n",
       "M 52.203125 31.203125 \n",
       "L 52.203125 0 \n",
       "L 43.21875 0 \n",
       "L 43.21875 8.296875 \n",
       "Q 40.140625 3.328125 35.546875 0.953125 \n",
       "Q 30.953125 -1.421875 24.3125 -1.421875 \n",
       "Q 15.921875 -1.421875 10.953125 3.296875 \n",
       "Q 6 8.015625 6 15.921875 \n",
       "Q 6 25.140625 12.171875 29.828125 \n",
       "Q 18.359375 34.515625 30.609375 34.515625 \n",
       "L 43.21875 34.515625 \n",
       "L 43.21875 35.40625 \n",
       "Q 43.21875 41.609375 39.140625 45 \n",
       "Q 35.0625 48.390625 27.6875 48.390625 \n",
       "Q 23 48.390625 18.546875 47.265625 \n",
       "Q 14.109375 46.140625 10.015625 43.890625 \n",
       "L 10.015625 52.203125 \n",
       "Q 14.9375 54.109375 19.578125 55.046875 \n",
       "Q 24.21875 56 28.609375 56 \n",
       "Q 40.484375 56 46.34375 49.84375 \n",
       "Q 52.203125 43.703125 52.203125 31.203125 \n",
       "z\n",
       "\" id=\"DejaVuSans-97\"/>\n",
       "      <path d=\"M 9.421875 54.6875 \n",
       "L 18.40625 54.6875 \n",
       "L 18.40625 0 \n",
       "L 9.421875 0 \n",
       "z\n",
       "M 9.421875 75.984375 \n",
       "L 18.40625 75.984375 \n",
       "L 18.40625 64.59375 \n",
       "L 9.421875 64.59375 \n",
       "z\n",
       "\" id=\"DejaVuSans-105\"/>\n",
       "      <path d=\"M 9.421875 75.984375 \n",
       "L 18.40625 75.984375 \n",
       "L 18.40625 0 \n",
       "L 9.421875 0 \n",
       "z\n",
       "\" id=\"DejaVuSans-108\"/>\n",
       "      <path d=\"M 18.3125 70.21875 \n",
       "L 18.3125 54.6875 \n",
       "L 36.8125 54.6875 \n",
       "L 36.8125 47.703125 \n",
       "L 18.3125 47.703125 \n",
       "L 18.3125 18.015625 \n",
       "Q 18.3125 11.328125 20.140625 9.421875 \n",
       "Q 21.96875 7.515625 27.59375 7.515625 \n",
       "L 36.8125 7.515625 \n",
       "L 36.8125 0 \n",
       "L 27.59375 0 \n",
       "Q 17.1875 0 13.234375 3.875 \n",
       "Q 9.28125 7.765625 9.28125 18.015625 \n",
       "L 9.28125 47.703125 \n",
       "L 2.6875 47.703125 \n",
       "L 2.6875 54.6875 \n",
       "L 9.28125 54.6875 \n",
       "L 9.28125 70.21875 \n",
       "z\n",
       "\" id=\"DejaVuSans-116\"/>\n",
       "      <path d=\"M 56.203125 29.59375 \n",
       "L 56.203125 25.203125 \n",
       "L 14.890625 25.203125 \n",
       "Q 15.484375 15.921875 20.484375 11.0625 \n",
       "Q 25.484375 6.203125 34.421875 6.203125 \n",
       "Q 39.59375 6.203125 44.453125 7.46875 \n",
       "Q 49.3125 8.734375 54.109375 11.28125 \n",
       "L 54.109375 2.78125 \n",
       "Q 49.265625 0.734375 44.1875 -0.34375 \n",
       "Q 39.109375 -1.421875 33.890625 -1.421875 \n",
       "Q 20.796875 -1.421875 13.15625 6.1875 \n",
       "Q 5.515625 13.8125 5.515625 26.8125 \n",
       "Q 5.515625 40.234375 12.765625 48.109375 \n",
       "Q 20.015625 56 32.328125 56 \n",
       "Q 43.359375 56 49.78125 48.890625 \n",
       "Q 56.203125 41.796875 56.203125 29.59375 \n",
       "z\n",
       "M 47.21875 32.234375 \n",
       "Q 47.125 39.59375 43.09375 43.984375 \n",
       "Q 39.0625 48.390625 32.421875 48.390625 \n",
       "Q 24.90625 48.390625 20.390625 44.140625 \n",
       "Q 15.875 39.890625 15.1875 32.171875 \n",
       "z\n",
       "\" id=\"DejaVuSans-101\"/>\n",
       "      <path d=\"M 44.28125 53.078125 \n",
       "L 44.28125 44.578125 \n",
       "Q 40.484375 46.53125 36.375 47.5 \n",
       "Q 32.28125 48.484375 27.875 48.484375 \n",
       "Q 21.1875 48.484375 17.84375 46.4375 \n",
       "Q 14.5 44.390625 14.5 40.28125 \n",
       "Q 14.5 37.15625 16.890625 35.375 \n",
       "Q 19.28125 33.59375 26.515625 31.984375 \n",
       "L 29.59375 31.296875 \n",
       "Q 39.15625 29.25 43.1875 25.515625 \n",
       "Q 47.21875 21.78125 47.21875 15.09375 \n",
       "Q 47.21875 7.46875 41.1875 3.015625 \n",
       "Q 35.15625 -1.421875 24.609375 -1.421875 \n",
       "Q 20.21875 -1.421875 15.453125 -0.5625 \n",
       "Q 10.6875 0.296875 5.421875 2 \n",
       "L 5.421875 11.28125 \n",
       "Q 10.40625 8.6875 15.234375 7.390625 \n",
       "Q 20.0625 6.109375 24.8125 6.109375 \n",
       "Q 31.15625 6.109375 34.5625 8.28125 \n",
       "Q 37.984375 10.453125 37.984375 14.40625 \n",
       "Q 37.984375 18.0625 35.515625 20.015625 \n",
       "Q 33.0625 21.96875 24.703125 23.78125 \n",
       "L 21.578125 24.515625 \n",
       "Q 13.234375 26.265625 9.515625 29.90625 \n",
       "Q 5.8125 33.546875 5.8125 39.890625 \n",
       "Q 5.8125 47.609375 11.28125 51.796875 \n",
       "Q 16.75 56 26.8125 56 \n",
       "Q 31.78125 56 36.171875 55.265625 \n",
       "Q 40.578125 54.546875 44.28125 53.078125 \n",
       "z\n",
       "\" id=\"DejaVuSans-115\"/>\n",
       "     </defs>\n",
       "     <g transform=\"translate(17.837813 185.855781)rotate(-90)scale(0.14 -0.14)\">\n",
       "      <use xlink:href=\"#DejaVuSans-80\"/>\n",
       "      <use x=\"58.552734\" xlink:href=\"#DejaVuSans-114\"/>\n",
       "      <use x=\"97.416016\" xlink:href=\"#DejaVuSans-111\"/>\n",
       "      <use x=\"158.597656\" xlink:href=\"#DejaVuSans-98\"/>\n",
       "      <use x=\"222.074219\" xlink:href=\"#DejaVuSans-97\"/>\n",
       "      <use x=\"283.353516\" xlink:href=\"#DejaVuSans-98\"/>\n",
       "      <use x=\"346.830078\" xlink:href=\"#DejaVuSans-105\"/>\n",
       "      <use x=\"374.613281\" xlink:href=\"#DejaVuSans-108\"/>\n",
       "      <use x=\"402.396484\" xlink:href=\"#DejaVuSans-105\"/>\n",
       "      <use x=\"430.179688\" xlink:href=\"#DejaVuSans-116\"/>\n",
       "      <use x=\"469.388672\" xlink:href=\"#DejaVuSans-105\"/>\n",
       "      <use x=\"497.171875\" xlink:href=\"#DejaVuSans-101\"/>\n",
       "      <use x=\"558.695312\" xlink:href=\"#DejaVuSans-115\"/>\n",
       "     </g>\n",
       "    </g>\n",
       "   </g>\n",
       "   <g id=\"patch_3\">\n",
       "    <path clip-path=\"url(#p0b63d65f9d)\" d=\"M 80.675795 279 \n",
       "L 104.348523 279 \n",
       "L 104.348523 181.451327 \n",
       "L 80.675795 181.451327 \n",
       "z\n",
       "\" style=\"fill:#648fff;\"/>\n",
       "   </g>\n",
       "   <g id=\"patch_4\">\n",
       "    <path clip-path=\"url(#p0b63d65f9d)\" d=\"M 128.02125 279 \n",
       "L 151.693977 279 \n",
       "L 151.693977 136.685841 \n",
       "L 128.02125 136.685841 \n",
       "z\n",
       "\" style=\"fill:#648fff;\"/>\n",
       "   </g>\n",
       "   <g id=\"patch_5\">\n",
       "    <path clip-path=\"url(#p0b63d65f9d)\" d=\"M 175.366705 279 \n",
       "L 199.039432 279 \n",
       "L 199.039432 176.774336 \n",
       "L 175.366705 176.774336 \n",
       "z\n",
       "\" style=\"fill:#648fff;\"/>\n",
       "   </g>\n",
       "   <g id=\"patch_6\">\n",
       "    <path clip-path=\"url(#p0b63d65f9d)\" d=\"M 222.712159 279 \n",
       "L 246.384886 279 \n",
       "L 246.384886 52.5 \n",
       "L 222.712159 52.5 \n",
       "z\n",
       "\" style=\"fill:#648fff;\"/>\n",
       "   </g>\n",
       "   <g id=\"patch_7\">\n",
       "    <path clip-path=\"url(#p0b63d65f9d)\" d=\"M 270.057614 279 \n",
       "L 293.730341 279 \n",
       "L 293.730341 241.584071 \n",
       "L 270.057614 241.584071 \n",
       "z\n",
       "\" style=\"fill:#648fff;\"/>\n",
       "   </g>\n",
       "   <g id=\"patch_8\">\n",
       "    <path clip-path=\"url(#p0b63d65f9d)\" d=\"M 317.403068 279 \n",
       "L 341.075795 279 \n",
       "L 341.075795 262.964602 \n",
       "L 317.403068 262.964602 \n",
       "z\n",
       "\" style=\"fill:#648fff;\"/>\n",
       "   </g>\n",
       "   <g id=\"patch_9\">\n",
       "    <path clip-path=\"url(#p0b63d65f9d)\" d=\"M 364.748523 279 \n",
       "L 388.42125 279 \n",
       "L 388.42125 242.252212 \n",
       "L 364.748523 242.252212 \n",
       "z\n",
       "\" style=\"fill:#648fff;\"/>\n",
       "   </g>\n",
       "   <g id=\"patch_10\">\n",
       "    <path clip-path=\"url(#p0b63d65f9d)\" d=\"M 412.093977 279 \n",
       "L 435.766705 279 \n",
       "L 435.766705 253.610619 \n",
       "L 412.093977 253.610619 \n",
       "z\n",
       "\" style=\"fill:#648fff;\"/>\n",
       "   </g>\n",
       "   <g id=\"patch_11\">\n",
       "    <path d=\"M 62.92125 279 \n",
       "L 62.92125 7.2 \n",
       "\" style=\"fill:none;stroke:#000000;stroke-linecap:square;stroke-linejoin:miter;stroke-width:0.8;\"/>\n",
       "   </g>\n",
       "   <g id=\"patch_12\">\n",
       "    <path d=\"M 453.52125 279 \n",
       "L 453.52125 7.2 \n",
       "\" style=\"fill:none;stroke:#000000;stroke-linecap:square;stroke-linejoin:miter;stroke-width:0.8;\"/>\n",
       "   </g>\n",
       "   <g id=\"patch_13\">\n",
       "    <path d=\"M 62.92125 279 \n",
       "L 453.52125 279 \n",
       "\" style=\"fill:none;stroke:#000000;stroke-linecap:square;stroke-linejoin:miter;stroke-width:0.8;\"/>\n",
       "   </g>\n",
       "   <g id=\"patch_14\">\n",
       "    <path d=\"M 62.92125 7.2 \n",
       "L 453.52125 7.2 \n",
       "\" style=\"fill:none;stroke:#000000;stroke-linecap:square;stroke-linejoin:miter;stroke-width:0.8;\"/>\n",
       "   </g>\n",
       "   <g id=\"text_15\">\n",
       "    <!-- 0.143 -->\n",
       "    <g transform=\"translate(78.198097 174.494206)scale(0.1 -0.1)\">\n",
       "     <use xlink:href=\"#DejaVuSans-48\"/>\n",
       "     <use x=\"63.623047\" xlink:href=\"#DejaVuSans-46\"/>\n",
       "     <use x=\"95.410156\" xlink:href=\"#DejaVuSans-49\"/>\n",
       "     <use x=\"159.033203\" xlink:href=\"#DejaVuSans-52\"/>\n",
       "     <use x=\"222.65625\" xlink:href=\"#DejaVuSans-51\"/>\n",
       "    </g>\n",
       "   </g>\n",
       "   <g id=\"text_16\">\n",
       "    <!-- 0.208 -->\n",
       "    <g transform=\"translate(125.543551 127.490445)scale(0.1 -0.1)\">\n",
       "     <use xlink:href=\"#DejaVuSans-48\"/>\n",
       "     <use x=\"63.623047\" xlink:href=\"#DejaVuSans-46\"/>\n",
       "     <use x=\"95.410156\" xlink:href=\"#DejaVuSans-50\"/>\n",
       "     <use x=\"159.033203\" xlink:href=\"#DejaVuSans-48\"/>\n",
       "     <use x=\"222.65625\" xlink:href=\"#DejaVuSans-56\"/>\n",
       "    </g>\n",
       "   </g>\n",
       "   <g id=\"text_17\">\n",
       "    <!-- 0.149 -->\n",
       "    <defs>\n",
       "     <path d=\"M 10.984375 1.515625 \n",
       "L 10.984375 10.5 \n",
       "Q 14.703125 8.734375 18.5 7.8125 \n",
       "Q 22.3125 6.890625 25.984375 6.890625 \n",
       "Q 35.75 6.890625 40.890625 13.453125 \n",
       "Q 46.046875 20.015625 46.78125 33.40625 \n",
       "Q 43.953125 29.203125 39.59375 26.953125 \n",
       "Q 35.25 24.703125 29.984375 24.703125 \n",
       "Q 19.046875 24.703125 12.671875 31.3125 \n",
       "Q 6.296875 37.9375 6.296875 49.421875 \n",
       "Q 6.296875 60.640625 12.9375 67.421875 \n",
       "Q 19.578125 74.21875 30.609375 74.21875 \n",
       "Q 43.265625 74.21875 49.921875 64.515625 \n",
       "Q 56.59375 54.828125 56.59375 36.375 \n",
       "Q 56.59375 19.140625 48.40625 8.859375 \n",
       "Q 40.234375 -1.421875 26.421875 -1.421875 \n",
       "Q 22.703125 -1.421875 18.890625 -0.6875 \n",
       "Q 15.09375 0.046875 10.984375 1.515625 \n",
       "z\n",
       "M 30.609375 32.421875 \n",
       "Q 37.25 32.421875 41.125 36.953125 \n",
       "Q 45.015625 41.5 45.015625 49.421875 \n",
       "Q 45.015625 57.28125 41.125 61.84375 \n",
       "Q 37.25 66.40625 30.609375 66.40625 \n",
       "Q 23.96875 66.40625 20.09375 61.84375 \n",
       "Q 16.21875 57.28125 16.21875 49.421875 \n",
       "Q 16.21875 41.5 20.09375 36.953125 \n",
       "Q 23.96875 32.421875 30.609375 32.421875 \n",
       "z\n",
       "\" id=\"DejaVuSans-57\"/>\n",
       "    </defs>\n",
       "    <g transform=\"translate(172.889006 169.583366)scale(0.1 -0.1)\">\n",
       "     <use xlink:href=\"#DejaVuSans-48\"/>\n",
       "     <use x=\"63.623047\" xlink:href=\"#DejaVuSans-46\"/>\n",
       "     <use x=\"95.410156\" xlink:href=\"#DejaVuSans-49\"/>\n",
       "     <use x=\"159.033203\" xlink:href=\"#DejaVuSans-52\"/>\n",
       "     <use x=\"222.65625\" xlink:href=\"#DejaVuSans-57\"/>\n",
       "    </g>\n",
       "   </g>\n",
       "   <g id=\"text_18\">\n",
       "    <!-- 0.331 -->\n",
       "    <g transform=\"translate(220.23446 39.095313)scale(0.1 -0.1)\">\n",
       "     <use xlink:href=\"#DejaVuSans-48\"/>\n",
       "     <use x=\"63.623047\" xlink:href=\"#DejaVuSans-46\"/>\n",
       "     <use x=\"95.410156\" xlink:href=\"#DejaVuSans-51\"/>\n",
       "     <use x=\"159.033203\" xlink:href=\"#DejaVuSans-51\"/>\n",
       "     <use x=\"222.65625\" xlink:href=\"#DejaVuSans-49\"/>\n",
       "    </g>\n",
       "   </g>\n",
       "   <g id=\"text_19\">\n",
       "    <!-- 0.055 -->\n",
       "    <defs>\n",
       "     <path d=\"M 10.796875 72.90625 \n",
       "L 49.515625 72.90625 \n",
       "L 49.515625 64.59375 \n",
       "L 19.828125 64.59375 \n",
       "L 19.828125 46.734375 \n",
       "Q 21.96875 47.46875 24.109375 47.828125 \n",
       "Q 26.265625 48.1875 28.421875 48.1875 \n",
       "Q 40.625 48.1875 47.75 41.5 \n",
       "Q 54.890625 34.8125 54.890625 23.390625 \n",
       "Q 54.890625 11.625 47.5625 5.09375 \n",
       "Q 40.234375 -1.421875 26.90625 -1.421875 \n",
       "Q 22.3125 -1.421875 17.546875 -0.640625 \n",
       "Q 12.796875 0.140625 7.71875 1.703125 \n",
       "L 7.71875 11.625 \n",
       "Q 12.109375 9.234375 16.796875 8.0625 \n",
       "Q 21.484375 6.890625 26.703125 6.890625 \n",
       "Q 35.15625 6.890625 40.078125 11.328125 \n",
       "Q 45.015625 15.765625 45.015625 23.390625 \n",
       "Q 45.015625 31 40.078125 35.4375 \n",
       "Q 35.15625 39.890625 26.703125 39.890625 \n",
       "Q 22.75 39.890625 18.8125 39.015625 \n",
       "Q 14.890625 38.140625 10.796875 36.28125 \n",
       "z\n",
       "\" id=\"DejaVuSans-53\"/>\n",
       "    </defs>\n",
       "    <g transform=\"translate(267.579915 237.633587)scale(0.1 -0.1)\">\n",
       "     <use xlink:href=\"#DejaVuSans-48\"/>\n",
       "     <use x=\"63.623047\" xlink:href=\"#DejaVuSans-46\"/>\n",
       "     <use x=\"95.410156\" xlink:href=\"#DejaVuSans-48\"/>\n",
       "     <use x=\"159.033203\" xlink:href=\"#DejaVuSans-53\"/>\n",
       "     <use x=\"222.65625\" xlink:href=\"#DejaVuSans-53\"/>\n",
       "    </g>\n",
       "   </g>\n",
       "   <g id=\"text_20\">\n",
       "    <!-- 0.023 -->\n",
       "    <g transform=\"translate(314.925369 260.083144)scale(0.1 -0.1)\">\n",
       "     <use xlink:href=\"#DejaVuSans-48\"/>\n",
       "     <use x=\"63.623047\" xlink:href=\"#DejaVuSans-46\"/>\n",
       "     <use x=\"95.410156\" xlink:href=\"#DejaVuSans-48\"/>\n",
       "     <use x=\"159.033203\" xlink:href=\"#DejaVuSans-50\"/>\n",
       "     <use x=\"222.65625\" xlink:href=\"#DejaVuSans-51\"/>\n",
       "    </g>\n",
       "   </g>\n",
       "   <g id=\"text_21\">\n",
       "    <!-- 0.054 -->\n",
       "    <g transform=\"translate(362.270824 238.335136)scale(0.1 -0.1)\">\n",
       "     <use xlink:href=\"#DejaVuSans-48\"/>\n",
       "     <use x=\"63.623047\" xlink:href=\"#DejaVuSans-46\"/>\n",
       "     <use x=\"95.410156\" xlink:href=\"#DejaVuSans-48\"/>\n",
       "     <use x=\"159.033203\" xlink:href=\"#DejaVuSans-53\"/>\n",
       "     <use x=\"222.65625\" xlink:href=\"#DejaVuSans-52\"/>\n",
       "    </g>\n",
       "   </g>\n",
       "   <g id=\"text_22\">\n",
       "    <!-- 0.037 -->\n",
       "    <defs>\n",
       "     <path d=\"M 8.203125 72.90625 \n",
       "L 55.078125 72.90625 \n",
       "L 55.078125 68.703125 \n",
       "L 28.609375 0 \n",
       "L 18.3125 0 \n",
       "L 43.21875 64.59375 \n",
       "L 8.203125 64.59375 \n",
       "z\n",
       "\" id=\"DejaVuSans-55\"/>\n",
       "    </defs>\n",
       "    <g transform=\"translate(409.616278 250.261463)scale(0.1 -0.1)\">\n",
       "     <use xlink:href=\"#DejaVuSans-48\"/>\n",
       "     <use x=\"63.623047\" xlink:href=\"#DejaVuSans-46\"/>\n",
       "     <use x=\"95.410156\" xlink:href=\"#DejaVuSans-48\"/>\n",
       "     <use x=\"159.033203\" xlink:href=\"#DejaVuSans-51\"/>\n",
       "     <use x=\"222.65625\" xlink:href=\"#DejaVuSans-55\"/>\n",
       "    </g>\n",
       "   </g>\n",
       "  </g>\n",
       " </g>\n",
       " <defs>\n",
       "  <clipPath id=\"p0b63d65f9d\">\n",
       "   <rect height=\"271.8\" width=\"390.6\" x=\"62.92125\" y=\"7.2\"/>\n",
       "  </clipPath>\n",
       " </defs>\n",
       "</svg>\n"
      ],
      "text/plain": [
       "<Figure size 504x360 with 1 Axes>"
      ]
     },
     "execution_count": 8,
     "metadata": {},
     "output_type": "execute_result"
    }
   ],
   "source": [
    "# Get the results from the computation\n",
    "results = job.result()\n",
    "answer = results.get_counts()\n",
    "\n",
    "plot_histogram(answer)"
   ]
  },
  {
   "cell_type": "markdown",
   "metadata": {},
   "source": [
    "As we can see, most of the results are `011`. The other results are due to errors in the quantum computation. "
   ]
  },
  {
   "cell_type": "markdown",
   "metadata": {},
   "source": [
    "## 4. Exercises <a id='problems'></a>\n",
    "\n",
    "1. Use the widget below to see the Bernstein-Vazirani algorithm in action on different oracles:"
   ]
  },
  {
   "cell_type": "code",
   "execution_count": 2,
   "metadata": {},
   "outputs": [
    {
     "data": {
      "application/vnd.jupyter.widget-view+json": {
       "model_id": "cddca19127324cbc9e69116cd8d0027b",
       "version_major": 2,
       "version_minor": 0
      },
      "text/plain": [
       "HBox(children=(Button(description='H⊗ⁿ', style=ButtonStyle()), Button(description='Oracle', style=ButtonStyle(…"
      ]
     },
     "metadata": {},
     "output_type": "display_data"
    },
    {
     "data": {
      "application/vnd.jupyter.widget-view+json": {
       "model_id": "85c9fcb8b6114dcb93d097df81edd55f",
       "version_major": 2,
       "version_minor": 0
      },
      "text/plain": [
       "HTMLMath(value='$$ |000\\\\rangle = |000\\\\rangle $$')"
      ]
     },
     "metadata": {},
     "output_type": "display_data"
    },
    {
     "data": {
      "application/vnd.jupyter.widget-view+json": {
       "model_id": "7ff50d6c0440473cb81670e29e7b688b",
       "version_major": 2,
       "version_minor": 0
      },
      "text/plain": [
       "Image(value=b'\\x89PNG\\r\\n\\x1a\\n\\x00\\x00\\x00\\rIHDR\\x00\\x00\\x01*\\x00\\x00\\x01\\x08\\x08\\x06\\x00\\x00\\x00\\xe8^\\xb9\\x1…"
      ]
     },
     "metadata": {},
     "output_type": "display_data"
    }
   ],
   "source": [
    "from qiskit_textbook.widgets import bv_widget\n",
    "bv_widget(3, \"011\", hide_oracle=False)"
   ]
  },
  {
   "cell_type": "markdown",
   "metadata": {},
   "source": [
    "2. The above [implementation](#implementation) of Bernstein-Vazirani is for a secret bit string $s = 11$. Modify the implementation for a secret string $s = 1011$. Are the results what you expect? Explain.\n",
    "3. The above [implementation](#implementation) of Bernstein-Vazirani is for a secret bit string $s = 11$. Modify the implementation for a secret string $s = 11101101$. Are the results what you expect? Explain."
   ]
  },
  {
   "cell_type": "markdown",
   "metadata": {},
   "source": [
    "## 5. References <a id='references'></a>\n",
    "1. Ethan Bernstein and Umesh Vazirani (1997) \"Quantum Complexity Theory\" SIAM Journal on Computing, Vol. 26, No. 5: 1411-1473, [doi:10.1137/S0097539796300921](https://doi.org/10.1137/S0097539796300921).\n",
    "2. Jiangfeng Du, Mingjun Shi, Jihui Wu, Xianyi Zhou, Yangmei Fan, BangJiao Ye, Rongdian Han (2001) \"Implementation of a quantum algorithm to solve the Bernstein-Vazirani parity problem without entanglement on an ensemble quantum computer\", Phys. Rev. A 64, 042306, [10.1103/PhysRevA.64.042306](https://doi.org/10.1103/PhysRevA.64.042306), [arXiv:quant-ph/0012114](https://arxiv.org/abs/quant-ph/0012114). "
   ]
  },
  {
   "cell_type": "code",
   "execution_count": 10,
   "metadata": {},
   "outputs": [
    {
     "data": {
      "text/plain": [
       "{'qiskit-terra': '0.13.0',\n",
       " 'qiskit-aer': '0.5.0',\n",
       " 'qiskit-ignis': '0.3.0',\n",
       " 'qiskit-ibmq-provider': '0.6.0',\n",
       " 'qiskit-aqua': '0.6.5',\n",
       " 'qiskit': '0.18.0'}"
      ]
     },
     "execution_count": 10,
     "metadata": {},
     "output_type": "execute_result"
    }
   ],
   "source": [
    "import qiskit\n",
    "qiskit.__qiskit_version__"
   ]
  }
 ],
 "metadata": {
  "kernelspec": {
   "display_name": "Python 3",
   "language": "python",
   "name": "python3"
  },
  "language_info": {
   "codemirror_mode": {
    "name": "ipython",
    "version": 3
   },
   "file_extension": ".py",
   "mimetype": "text/x-python",
   "name": "python",
   "nbconvert_exporter": "python",
   "pygments_lexer": "ipython3",
   "version": "3.7.6"
  },
  "widgets": {
   "application/vnd.jupyter.widget-state+json": {
    "state": {
     "0095cfac751b4f7a9085d5cf50cf0ea1": {
      "model_module": "@jupyter-widgets/controls",
      "model_module_version": "1.5.0",
      "model_name": "ButtonStyleModel",
      "state": {}
     },
     "00cc0e8509944741ba5b2d9051ecd5e4": {
      "model_module": "@jupyter-widgets/base",
      "model_module_version": "1.2.0",
      "model_name": "LayoutModel",
      "state": {}
     },
     "0129e183f4814e33863655debbb40e33": {
      "model_module": "@jupyter-widgets/base",
      "model_module_version": "1.2.0",
      "model_name": "LayoutModel",
      "state": {}
     },
     "01de9a45f94f42f982f09f89bad85c44": {
      "model_module": "@jupyter-widgets/base",
      "model_module_version": "1.2.0",
      "model_name": "LayoutModel",
      "state": {}
     },
     "01ea48d9f3a74c8ea374d2e6222edbdd": {
      "model_module": "@jupyter-widgets/base",
      "model_module_version": "1.2.0",
      "model_name": "LayoutModel",
      "state": {}
     },
     "024321e51d204db9a6b45cc9dc18a80b": {
      "model_module": "@jupyter-widgets/controls",
      "model_module_version": "1.5.0",
      "model_name": "ButtonModel",
      "state": {
       "description": "Clear",
       "layout": "IPY_MODEL_c0b21e537b8844aa846ca04f0ed909f2",
       "style": "IPY_MODEL_92c4e68633084c95ab6ccdbae41f71c5"
      }
     },
     "02884495b8614da7b97fc8719b8dbd71": {
      "model_module": "@jupyter-widgets/base",
      "model_module_version": "1.2.0",
      "model_name": "LayoutModel",
      "state": {}
     },
     "045e5d7f11d54f22abea82ed00078ec6": {
      "model_module": "@jupyter-widgets/base",
      "model_module_version": "1.2.0",
      "model_name": "LayoutModel",
      "state": {}
     },
     "0564f632ed7b4dd9b3b6e068ec1aaf04": {
      "model_module": "@jupyter-widgets/controls",
      "model_module_version": "1.5.0",
      "model_name": "ButtonStyleModel",
      "state": {}
     },
     "05ea4da86f434b90ac83432d3abb55b3": {
      "model_module": "@jupyter-widgets/base",
      "model_module_version": "1.2.0",
      "model_name": "LayoutModel",
      "state": {}
     },
     "05fb3f47c2c14ac2b51df4a949e33c65": {
      "model_module": "@jupyter-widgets/base",
      "model_module_version": "1.2.0",
      "model_name": "LayoutModel",
      "state": {}
     },
     "065303a6bf494434a8dc2426078beed5": {
      "model_module": "@jupyter-widgets/controls",
      "model_module_version": "1.5.0",
      "model_name": "ButtonStyleModel",
      "state": {}
     },
     "06c75a767d48482ba3ac0af6936d6cce": {
      "model_module": "@jupyter-widgets/base",
      "model_module_version": "1.2.0",
      "model_name": "LayoutModel",
      "state": {}
     },
     "06c9593fafeb4c7ca8a233bc9632478c": {
      "model_module": "@jupyter-widgets/base",
      "model_module_version": "1.2.0",
      "model_name": "LayoutModel",
      "state": {}
     },
     "06c9e502b15e455f8177bb4262498a7a": {
      "model_module": "@jupyter-widgets/controls",
      "model_module_version": "1.5.0",
      "model_name": "HTMLMathModel",
      "state": {
       "layout": "IPY_MODEL_3cb55112ae97421c8fb267ba175c561f",
       "style": "IPY_MODEL_2a04018a0b234f64baf78f168fe19c6a",
       "value": "$$ |000\\rangle = |000\\rangle $$"
      }
     },
     "07f31c8b480141b9a666119356f89345": {
      "model_module": "@jupyter-widgets/controls",
      "model_module_version": "1.5.0",
      "model_name": "ButtonStyleModel",
      "state": {}
     },
     "090ecc58947247e09618ec60726a994d": {
      "model_module": "@jupyter-widgets/controls",
      "model_module_version": "1.5.0",
      "model_name": "DescriptionStyleModel",
      "state": {
       "description_width": ""
      }
     },
     "091deb74160f427ea2969f0d3bf55f47": {
      "model_module": "@jupyter-widgets/base",
      "model_module_version": "1.2.0",
      "model_name": "LayoutModel",
      "state": {}
     },
     "09cc3eaa86ac484380755e261262180b": {
      "model_module": "@jupyter-widgets/base",
      "model_module_version": "1.2.0",
      "model_name": "LayoutModel",
      "state": {}
     },
     "0a8fecee99294635809bcb08dcad3a66": {
      "model_module": "@jupyter-widgets/base",
      "model_module_version": "1.2.0",
      "model_name": "LayoutModel",
      "state": {}
     },
     "0a9954d2dfe94ef080e8769e7ed59b6b": {
      "model_module": "@jupyter-widgets/controls",
      "model_module_version": "1.5.0",
      "model_name": "DescriptionStyleModel",
      "state": {
       "description_width": ""
      }
     },
     "0ad17427f769484abd1d453e0c82743d": {
      "model_module": "@jupyter-widgets/controls",
      "model_module_version": "1.5.0",
      "model_name": "ButtonModel",
      "state": {
       "description": "Uf",
       "layout": "IPY_MODEL_2c19ce9d41b94eb29e4c57f593f9b8a1",
       "style": "IPY_MODEL_9768686f616a497787f99ff9d8db953f"
      }
     },
     "0be7b7e1905b433b8ce41810c693b2a5": {
      "model_module": "@jupyter-widgets/base",
      "model_module_version": "1.2.0",
      "model_name": "LayoutModel",
      "state": {}
     },
     "0c39fe0dd4f94af4ad3cc44eda6f1dac": {
      "model_module": "@jupyter-widgets/base",
      "model_module_version": "1.2.0",
      "model_name": "LayoutModel",
      "state": {}
     },
     "0c8e1fe6c76e40c2a2d2f73b868183f1": {
      "model_module": "@jupyter-widgets/controls",
      "model_module_version": "1.5.0",
      "model_name": "ButtonStyleModel",
      "state": {}
     },
     "0cb7739f3fe740438942c389c6614a74": {
      "model_module": "@jupyter-widgets/controls",
      "model_module_version": "1.5.0",
      "model_name": "HBoxModel",
      "state": {
       "children": [
        "IPY_MODEL_86c6ddc1bb6a40aeb2ecc37392d9e8b0",
        "IPY_MODEL_84ba62afba7e4cd592500d151ae4b091",
        "IPY_MODEL_840c0e99052d495f84b69d8c51662511"
       ],
       "layout": "IPY_MODEL_4442aaf03a384a389365b0a4abbbdf19"
      }
     },
     "0d2849fd78a14e84a7123dacc2df2f3a": {
      "model_module": "@jupyter-widgets/controls",
      "model_module_version": "1.5.0",
      "model_name": "DescriptionStyleModel",
      "state": {
       "description_width": ""
      }
     },
     "0f657576b1464701b119548c996c32aa": {
      "model_module": "@jupyter-widgets/controls",
      "model_module_version": "1.5.0",
      "model_name": "ButtonStyleModel",
      "state": {}
     },
     "1091710ad2a6430bb3b05feed0314c21": {
      "model_module": "@jupyter-widgets/controls",
      "model_module_version": "1.5.0",
      "model_name": "ButtonModel",
      "state": {
       "description": "H⊗ⁿ",
       "layout": "IPY_MODEL_e963db80d28a42169545ac7445cfad8a",
       "style": "IPY_MODEL_1f8bd6852d29458db76d5ad27f1fa516"
      }
     },
     "112314ce38e949fc88790251472fc3be": {
      "model_module": "@jupyter-widgets/base",
      "model_module_version": "1.2.0",
      "model_name": "LayoutModel",
      "state": {}
     },
     "11bf384d452445e9a11420689b43e74e": {
      "buffers": [
       {
        "data": "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",
        "encoding": "base64",
        "path": [
         "value"
        ]
       }
      ],
      "model_module": "@jupyter-widgets/controls",
      "model_module_version": "1.5.0",
      "model_name": "ImageModel",
      "state": {
       "layout": "IPY_MODEL_1c47ccd823ab4239a69ff8d46db7a704",
       "value": {}
      }
     },
     "11e61d3c25fc422f9ef8d3d3ec8174dc": {
      "model_module": "@jupyter-widgets/base",
      "model_module_version": "1.2.0",
      "model_name": "LayoutModel",
      "state": {}
     },
     "1200b42296e443b5adbb3a6803c1deba": {
      "model_module": "@jupyter-widgets/base",
      "model_module_version": "1.2.0",
      "model_name": "LayoutModel",
      "state": {}
     },
     "123b596a38c94983a73e1eae8c180df5": {
      "model_module": "@jupyter-widgets/controls",
      "model_module_version": "1.5.0",
      "model_name": "ButtonStyleModel",
      "state": {}
     },
     "125a7a461a2b4e0eb362a91de811d759": {
      "model_module": "@jupyter-widgets/base",
      "model_module_version": "1.2.0",
      "model_name": "LayoutModel",
      "state": {}
     },
     "125dab17dcb746ffb93e4e6c771a15aa": {
      "model_module": "@jupyter-widgets/controls",
      "model_module_version": "1.5.0",
      "model_name": "HBoxModel",
      "state": {
       "children": [
        "IPY_MODEL_21176099f6ba435fa52e5572e3fd4c61",
        "IPY_MODEL_def3a70b95284cc99ea81a005162ffdc",
        "IPY_MODEL_391265e47dbc40a991cd2bef67b91a3e"
       ],
       "layout": "IPY_MODEL_c31887fcf1e149a5a6b8537ddbb92616"
      }
     },
     "12a7559640614301a22d28268260a98d": {
      "model_module": "@jupyter-widgets/base",
      "model_module_version": "1.2.0",
      "model_name": "LayoutModel",
      "state": {}
     },
     "1303622ea7574b2ca8050e5080fe8903": {
      "model_module": "@jupyter-widgets/controls",
      "model_module_version": "1.5.0",
      "model_name": "DescriptionStyleModel",
      "state": {
       "description_width": ""
      }
     },
     "13901135be9b40d0bf8a116787ac7d8b": {
      "model_module": "@jupyter-widgets/base",
      "model_module_version": "1.2.0",
      "model_name": "LayoutModel",
      "state": {}
     },
     "1419c820ecda4543a836d2aedcd975d6": {
      "model_module": "@jupyter-widgets/base",
      "model_module_version": "1.2.0",
      "model_name": "LayoutModel",
      "state": {}
     },
     "142881f61fb74127a9df6e0bbcada00e": {
      "model_module": "@jupyter-widgets/controls",
      "model_module_version": "1.5.0",
      "model_name": "ButtonStyleModel",
      "state": {}
     },
     "14694d777a91417c84abf520466e7ee1": {
      "model_module": "@jupyter-widgets/controls",
      "model_module_version": "1.5.0",
      "model_name": "ButtonStyleModel",
      "state": {}
     },
     "159f44f5dfd5452b96e87c408c67df33": {
      "model_module": "@jupyter-widgets/controls",
      "model_module_version": "1.5.0",
      "model_name": "HBoxModel",
      "state": {
       "children": [
        "IPY_MODEL_21e39d32429d4036bf974396cefc33dc",
        "IPY_MODEL_2de04f27f8544c9e9b84bdce656db32b",
        "IPY_MODEL_700b2a5f7b724358bfd9caa015a21de9"
       ],
       "layout": "IPY_MODEL_f9a09752f0104510bf343419f953ae61"
      }
     },
     "15bb3aba5e30497da6134f4231a5e6b8": {
      "model_module": "@jupyter-widgets/controls",
      "model_module_version": "1.5.0",
      "model_name": "HTMLMathModel",
      "state": {
       "layout": "IPY_MODEL_df9940f5058f463693b3b152790a6152",
       "style": "IPY_MODEL_c11be5efee58486c8a821c2c7ec5cd71",
       "value": "$$ |00\\rangle = |00\\rangle  $$"
      }
     },
     "1630405ec14d4839aa999ab0d6fc1204": {
      "model_module": "@jupyter-widgets/controls",
      "model_module_version": "1.5.0",
      "model_name": "HTMLMathModel",
      "state": {
       "layout": "IPY_MODEL_344a15faa34d40f38dbb1b42728eb2e8",
       "style": "IPY_MODEL_cfc63b7383f34bd983d3006b2e1be509",
       "value": "$$ |000\\rangle = |000\\rangle $$"
      }
     },
     "176f7339454a4dd7bb8e100fa070dd83": {
      "model_module": "@jupyter-widgets/controls",
      "model_module_version": "1.5.0",
      "model_name": "ButtonModel",
      "state": {
       "description": "Uf",
       "layout": "IPY_MODEL_c7952c7923bd48d3927dde1bd7166b17",
       "style": "IPY_MODEL_d964d6dc549a4aca989b0d70453a3113"
      }
     },
     "177b8e600da94d73800eb815667e53c4": {
      "model_module": "@jupyter-widgets/controls",
      "model_module_version": "1.5.0",
      "model_name": "DescriptionStyleModel",
      "state": {
       "description_width": ""
      }
     },
     "1799818cc21a4166a01a511fb2907511": {
      "model_module": "@jupyter-widgets/base",
      "model_module_version": "1.2.0",
      "model_name": "LayoutModel",
      "state": {}
     },
     "1855f65fbb5844e89a09f78079c0ab7a": {
      "model_module": "@jupyter-widgets/controls",
      "model_module_version": "1.5.0",
      "model_name": "HBoxModel",
      "state": {
       "children": [
        "IPY_MODEL_a67a100069554897b682857c56296a38",
        "IPY_MODEL_1fce394eaad74a8b84588dabe7d9c6c2",
        "IPY_MODEL_aafcb6d119c84f5eb9a804d20b083887"
       ],
       "layout": "IPY_MODEL_e392cc05980a49c4bd2c9e264c2616f4"
      }
     },
     "1921e7fe749241da82f142435a1de7e4": {
      "model_module": "@jupyter-widgets/controls",
      "model_module_version": "1.5.0",
      "model_name": "ButtonStyleModel",
      "state": {}
     },
     "194efd3555d947988d1fb155ca137067": {
      "model_module": "@jupyter-widgets/base",
      "model_module_version": "1.2.0",
      "model_name": "LayoutModel",
      "state": {}
     },
     "196aad3a99124589a0a1b3e5bfa317e5": {
      "model_module": "@jupyter-widgets/controls",
      "model_module_version": "1.5.0",
      "model_name": "HBoxModel",
      "state": {
       "children": [
        "IPY_MODEL_ac29b3dd16704c37bf11d44a4c047273",
        "IPY_MODEL_638426752ee540648158e8b75aac658e",
        "IPY_MODEL_98bf0e4e6abc47c8855f6dce25ba2112"
       ],
       "layout": "IPY_MODEL_d8101ce2012948ddbb9d9c575b8c1bcf"
      }
     },
     "1a5548b89cf94b5cb9043d36f3544bb7": {
      "model_module": "@jupyter-widgets/controls",
      "model_module_version": "1.5.0",
      "model_name": "ButtonModel",
      "state": {
       "description": "Clear",
       "layout": "IPY_MODEL_34d1d841d1b04d39919a6364cb7b2f21",
       "style": "IPY_MODEL_065303a6bf494434a8dc2426078beed5"
      }
     },
     "1a9b33f0c15f454ba777c393e5763d31": {
      "buffers": [
       {
        "data": "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",
        "encoding": "base64",
        "path": [
         "value"
        ]
       }
      ],
      "model_module": "@jupyter-widgets/controls",
      "model_module_version": "1.5.0",
      "model_name": "ImageModel",
      "state": {
       "layout": "IPY_MODEL_7c0b31335bf34ecdb3a7d5f07bc38ace",
       "value": {}
      }
     },
     "1b46d5d67e6d4ab09a6e15dba8704e2c": {
      "model_module": "@jupyter-widgets/controls",
      "model_module_version": "1.5.0",
      "model_name": "ButtonModel",
      "state": {
       "description": "Uf",
       "layout": "IPY_MODEL_13901135be9b40d0bf8a116787ac7d8b",
       "style": "IPY_MODEL_2863451e53664b66bb9f548a975a9f60"
      }
     },
     "1bfa6e2313aa4340a3a8595b9c5df207": {
      "model_module": "@jupyter-widgets/base",
      "model_module_version": "1.2.0",
      "model_name": "LayoutModel",
      "state": {}
     },
     "1c47ccd823ab4239a69ff8d46db7a704": {
      "model_module": "@jupyter-widgets/base",
      "model_module_version": "1.2.0",
      "model_name": "LayoutModel",
      "state": {}
     },
     "1c956091ceb34c5aa0150844b2fe8055": {
      "model_module": "@jupyter-widgets/controls",
      "model_module_version": "1.5.0",
      "model_name": "ButtonModel",
      "state": {
       "description": "H⊗ⁿ",
       "layout": "IPY_MODEL_9d8a167296d94b6280e976551014cefb",
       "style": "IPY_MODEL_f4b384b6a96b42b3a548706447f1bd27"
      }
     },
     "1da59b56b1cd40c486a91e189ba995b4": {
      "model_module": "@jupyter-widgets/base",
      "model_module_version": "1.2.0",
      "model_name": "LayoutModel",
      "state": {}
     },
     "1dad43c09a6d48a09d8fabbe3743d23b": {
      "model_module": "@jupyter-widgets/controls",
      "model_module_version": "1.5.0",
      "model_name": "ButtonStyleModel",
      "state": {}
     },
     "1e1d08b22ab34b5db1854b9cebac2189": {
      "model_module": "@jupyter-widgets/controls",
      "model_module_version": "1.5.0",
      "model_name": "HBoxModel",
      "state": {
       "children": [
        "IPY_MODEL_aaa1173bf1a94a17a8672a5ee3eda497",
        "IPY_MODEL_6a8c7ffd109b410098fff60a42b54819",
        "IPY_MODEL_23aae7cb2f8b47c6aaa11d5cc1055c2e"
       ],
       "layout": "IPY_MODEL_867acad67e224a3f80c6e4f614ba27c3"
      }
     },
     "1f624e0d25d442a2a53b628510d4625c": {
      "model_module": "@jupyter-widgets/base",
      "model_module_version": "1.2.0",
      "model_name": "LayoutModel",
      "state": {}
     },
     "1f8bd6852d29458db76d5ad27f1fa516": {
      "model_module": "@jupyter-widgets/controls",
      "model_module_version": "1.5.0",
      "model_name": "ButtonStyleModel",
      "state": {}
     },
     "1f9fa2e282444f2ea963048519d49f48": {
      "model_module": "@jupyter-widgets/controls",
      "model_module_version": "1.5.0",
      "model_name": "ButtonModel",
      "state": {
       "description": "H⊗ⁿ",
       "layout": "IPY_MODEL_44c2db73c45c432a9be76f24d3f5f411",
       "style": "IPY_MODEL_ce2aecb85b9f49059e1177922de78894"
      }
     },
     "1fce394eaad74a8b84588dabe7d9c6c2": {
      "model_module": "@jupyter-widgets/controls",
      "model_module_version": "1.5.0",
      "model_name": "ButtonModel",
      "state": {
       "description": "Uf",
       "layout": "IPY_MODEL_885818fc763d471da988ed893bb5d333",
       "style": "IPY_MODEL_225f39625db14cd3bd4d706c58c2401d"
      }
     },
     "1fd3cad2f54a4507bc6c3f7ec40317d1": {
      "model_module": "@jupyter-widgets/controls",
      "model_module_version": "1.5.0",
      "model_name": "DescriptionStyleModel",
      "state": {
       "description_width": ""
      }
     },
     "204db7f16eb4426ba67bd989d8874e6d": {
      "model_module": "@jupyter-widgets/base",
      "model_module_version": "1.2.0",
      "model_name": "LayoutModel",
      "state": {}
     },
     "20e734df1e904122a1c1268469c6acd5": {
      "model_module": "@jupyter-widgets/base",
      "model_module_version": "1.2.0",
      "model_name": "LayoutModel",
      "state": {}
     },
     "21176099f6ba435fa52e5572e3fd4c61": {
      "model_module": "@jupyter-widgets/controls",
      "model_module_version": "1.5.0",
      "model_name": "ButtonModel",
      "state": {
       "description": "H⊗ⁿ",
       "layout": "IPY_MODEL_84d09282211a48118cb869700e4363fa",
       "style": "IPY_MODEL_3c6f1c88b0ef4776b67e01e4c6946e5a"
      }
     },
     "212c64bbb802419b8d1f64a28977312f": {
      "model_module": "@jupyter-widgets/base",
      "model_module_version": "1.2.0",
      "model_name": "LayoutModel",
      "state": {}
     },
     "21d0ddc0527c493288a6575b619bf2f0": {
      "model_module": "@jupyter-widgets/controls",
      "model_module_version": "1.5.0",
      "model_name": "ButtonModel",
      "state": {
       "description": "Uf",
       "layout": "IPY_MODEL_2f50a9e782bc45e69aed32dd4b721571",
       "style": "IPY_MODEL_afe97bc6d0fb439a9852e29118e05c75"
      }
     },
     "21e39d32429d4036bf974396cefc33dc": {
      "model_module": "@jupyter-widgets/controls",
      "model_module_version": "1.5.0",
      "model_name": "ButtonModel",
      "state": {
       "description": "H⊗ⁿ",
       "layout": "IPY_MODEL_f346092d4dd8462eade0183b02ef58a2",
       "style": "IPY_MODEL_e6943053e5f84c538528dc28b468fccd"
      }
     },
     "220c132b36f34b64ae2db892c168d685": {
      "model_module": "@jupyter-widgets/base",
      "model_module_version": "1.2.0",
      "model_name": "LayoutModel",
      "state": {}
     },
     "225f39625db14cd3bd4d706c58c2401d": {
      "model_module": "@jupyter-widgets/controls",
      "model_module_version": "1.5.0",
      "model_name": "ButtonStyleModel",
      "state": {}
     },
     "2273358f827a48ebaca8cb4a816cdd05": {
      "model_module": "@jupyter-widgets/controls",
      "model_module_version": "1.5.0",
      "model_name": "HTMLMathModel",
      "state": {
       "layout": "IPY_MODEL_61ec4f4bf0a045fe82290515a942a3bb",
       "style": "IPY_MODEL_090ecc58947247e09618ec60726a994d",
       "value": "$$ H^{\\otimes n}U_fH^{\\otimes n}|00000000\\rangle = |10110111\\rangle  $$"
      }
     },
     "22e3cdbbe8c4467fa91d590c4df2f3ff": {
      "model_module": "@jupyter-widgets/controls",
      "model_module_version": "1.5.0",
      "model_name": "HBoxModel",
      "state": {
       "children": [
        "IPY_MODEL_a5e488a1f61a4beb98d50cc2118246b8",
        "IPY_MODEL_176f7339454a4dd7bb8e100fa070dd83",
        "IPY_MODEL_1a5548b89cf94b5cb9043d36f3544bb7"
       ],
       "layout": "IPY_MODEL_91e897915fc14eefad87db1b115c3bcd"
      }
     },
     "23aae7cb2f8b47c6aaa11d5cc1055c2e": {
      "model_module": "@jupyter-widgets/controls",
      "model_module_version": "1.5.0",
      "model_name": "ButtonModel",
      "state": {
       "description": "Clear",
       "layout": "IPY_MODEL_06c9593fafeb4c7ca8a233bc9632478c",
       "style": "IPY_MODEL_eaa603c6544c4fe986ebed910ad677b1"
      }
     },
     "23d24db5aa6d424cb32a5753b102e734": {
      "model_module": "@jupyter-widgets/base",
      "model_module_version": "1.2.0",
      "model_name": "LayoutModel",
      "state": {}
     },
     "23e1f28edabc4995aee949b44df65690": {
      "model_module": "@jupyter-widgets/base",
      "model_module_version": "1.2.0",
      "model_name": "LayoutModel",
      "state": {}
     },
     "240351317a524b0ebbbe504ad1fb8c8e": {
      "buffers": [
       {
        "data": "iVBORw0KGgoAAAANSUhEUgAAASoAAAEICAYAAADoXrkSAAAABHNCSVQICAgIfAhkiAAAAAlwSFlzAAALEgAACxIB0t1+/AAAADh0RVh0U29mdHdhcmUAbWF0cGxvdGxpYiB2ZXJzaW9uMy4yLjEsIGh0dHA6Ly9tYXRwbG90bGliLm9yZy+j8jraAAANfUlEQVR4nO3df0zc933H8dfdgYEIC4avBQXHljE/ZJ9z13BJylC2C1PqYJSqdEtkoY3GhBYK1JuhmrREIYq36P5AbEKRrHpSlDDNGVW5XJv+QZYmC1yckChGJLbIP1dsHHQVpSROrJzHnIq7/eH5prNT1Ynhvm/Hz8d//tyvNwI/7/P9GLArnU6nBQCGuZ0eAAD+GEIFwDxCBcA8QgXAPEIFwDxCBcA8QgXAPEIFwDxCBcA8QgXAPEIFwDxCBcA8QgXAPEIFwDxCBcA8QgXAPEIFwDxCBcA8QgXAPEIFwDxCBcA8QgXAPEIFwDxCBcA8QgXAPEIFwDxCBcA8QgXAPEIFwDxCBcA8QgXAPEIFwDxCBcA8QgXAPEIFwDxCBcA8QgXAPEIFwDxCBcA8QgXAPEIFwDxCBcA8QgXAPEIFwDxCBcA8QgXAPEIFwDxCBcA8QgXAPEIFwDxCBcA8QgXAPEIFwDxCBcA8QgXAPEIFwDxCBcA8QgXAPEIFwDxCBcA8QgXAPEJlTCqV0vDwsGpqalRYWKhAIKBYLKa6ujp1dXU5PR7giDynB0C2zs5ORaNRDQ4OKhgManp6Wm1tbVpZWdHAwIDT4wGOIFSGjI2NaXR0VFNTUwqFQpKkpqYmzc7OKhqNqr6+3uEJAWdw6WdIOBxWc3NzJlKXVVdXKz8/X36/X5J09uxZhUIh1dbW6vbbb9fx48edGBfIGXZURiQSCc3Nzam/v/+q2xYXF+Xz+VRQUCBJ6u7u1v79+9Xb26vp6Wk99NBDWlhY0KZNm9ZlFpfLtS7PgxtXOp12eoQs7KiMSCQSkqSKioqs9dXVVcViscxl34cffqg33nhDnZ2dkqTGxkbdeuutmpyczO3AQA6xozLC6/VKkuLxuFpaWjLrQ0NDWlpaUjAYlHRpd1VeXp7ZXUnSjh079MEHH6zbLNbeTQFCZURVVZX8fr/C4bDKyspUWVmpSCSiiYkJScqECrgZcelnhNvt1vj4uHw+n3p6etTR0SGv16u+vj55PJ7MQfq2bdu0vLysixcvZh67sLCg7du3OzU6sOFcafb5prW3t+vkyZM6depUZm3v3r1qbW3NHKY/+OCDOnv27LodpgPWcOln3MzMjBoaGrLWjh49qgMHDmhkZESbNm3S2NgYkcJXGjsqw5LJpEpKSjQyMqKDBw86PQ7gGEIFwDwO0wGYR6gAmEeoAJhHqACYR6gAmEeoAJhHqACYR6gAmEeoAJhHqACYR6gAmEeoAJhHqACYR6gAmEeoAJhHqACYR6gAmEeoAJhHqACYR6gAmEeoAJhHqACYR6gAmEeoAJhHqACYR6gAmEeoAJhHqACYR6gAmEeoAJhHqACYR6gAmEeoAJhHqIxJpVIaHh5WTU2NCgsLFQgEFIvFVFdXp66uLqfHAxyR5/QAyNbZ2aloNKrBwUEFg0FNT0+rra1NKysrGhgYcHo8wBGEypCxsTGNjo5qampKoVBIktTU1KTZ2VlFo1HV19c7PCHgDC79DAmHw2pubs5E6rLq6mrl5+fL7/dLkp544gnV1tbK7XYrEok4MSqQU+yojEgkEpqbm1N/f/9Vty0uLsrn86mgoECS1NzcrAMHDuiRRx7ZkFlcLteGPC9uHOl02ukRshAqIxKJhCSpoqIia311dVWxWEz79u3LrDU2NuZ0NsBphMoIr9crSYrH42ppacmsDw0NaWlpScFgMGezWHs3BQiVEVVVVfL7/QqHwyorK1NlZaUikYgmJiYkKaehAqzhMN0It9ut8fFx+Xw+9fT0qKOjQ16vV319ffJ4PJmDdOBmxI7KkNraWk1OTmattbe3a/fu3SoqKnJoKsB57KiMm5mZueqyb3BwUFu3btVbb72l7u5ubd26VadPn3ZoQmDjudKcnJqVTCZVUlKikZERHTx40OlxAMcQKgDmcekHwDxCBcA8QgXAPEIFwDxCBcA8QgXAPEIFwDxCBcA8QgXAPEIFwDxCBcA8QgXAPEIFwDxCBcA8QgXAPEIFwDxCBcA8QgXAPEIFwDxCBcA8QgXAPEIFwDxCBcA8QgXAPEIFwDxCBcA8QgXAPEIFwDxCBcA8QgXAPEIFwDxCBcA8QmVMKpXS8PCwampqVFhYqEAgoFgsprq6OnV1dTk9HuCIPKcHQLbOzk5Fo1ENDg4qGAxqenpabW1tWllZ0cDAgNPjAY4gVIaMjY1pdHRUU1NTCoVCkqSmpibNzs4qGo2qvr7e4QkBZ3DpZ0g4HFZzc3MmUpdVV1crPz9ffr9fH3/8sR544AHV1tYqEAho7969mp+fd2hiIDfYURmRSCQ0Nzen/v7+q25bXFyUz+dTQUGBVldXdejQId13332SpKefflodHR06fvz4us3icrnW7blwY0qn006PkIUdlRGJREKSVFFRkbW+urqqWCyWuewrLS3NREqSGhsbtbCwkLtBAQewozLC6/VKkuLxuFpaWjLrQ0NDWlpaUjAY/NzHjYyMqLW1dV1nsfZuChAqI6qqquT3+xUOh1VWVqbKykpFIhFNTExI0ueG6vDhw5qfn9drr72W63GBnHKlefs0Ix6Pq7u7W++88462bNmihx9+WJs3b9Zjjz2mTz/9VEVFRZn7PvXUU3rxxRf1yiuvqLS01MGpgY1HqIxrb2/XyZMnderUqcza4cOHNTExoZdffplI4aZAqIzbtWuXGhoa9Nxzz0mS3n//fe3Zs0c7d+5UcXFx5n7vvfeeUyMCG44zKsOSyaTi8bh6e3szaz6fj8Nu3HTYUQEwj++jAmAeoQJgHqECYB6hAmAeoQJgHqECYB6hAmAeoQJgHqECYB6hAmAeoQJgHqECYB6hAmAeoQJgHqECYB6hAmAeoQJgHqECYB6hAmAeoQJgHqECYB6hAmAeoQJgHv8BKXLq0PO5f82Rv76+x2965aX1GeQL+uxb+xx5XYvYUQEwj1ABMI9QATCPUAEwj1ABMI9QATCPUAEwj1ABMI9QGZNKpTQ8PKyamhoVFhYqEAgoFouprq5OXV1dTo8HOILvTDems7NT0WhUg4ODCgaDmp6eVltbm1ZWVjQwMOD0eDn3zI9uVcNf/aP2NH0/s5ZOp3X0ByX6Vve/qfqu7zo43dVSL/9Ka0eOXn3DZ59JkvJ+Pi5XUVGOp7rxESpDxsbGNDo6qqmpKYVCIUlSU1OTZmdnFY1GVV9f7/CEuZU89xtd+GRJX9v+jaz18787o8/+51OVV93p0GR/mPv+vXLfvzdrLRV7XWtD/yzP3/YRqS+JSz9DwuGwmpubM5G6rLq6Wvn5+fL7/ZKk1tZW+f1+3XHHHbr77rv16quvOjHuhls+c0Iut0dbtu7JWv9w8aRuKSnX5i23OTTZtUu9+l+XIvXjQ1cFDNeOHZURiURCc3Nz6u/vv+q2xcVF+Xw+FRQUSJJGR0dVWloqSXr33Xd177336ty5c/J4PDmdeaMtnzmhP6moVd6mwqz1lcWT+voOe7upK6Um/lNrR34izz/8vdx/do/T49zQCJURiURCklRRUZG1vrq6qlgspn37/v8n6S9HSpLOnz8vl8uldDq9brO4XK51e64r/d2xa59z+cwJfbI8r3/9oTdr/fcXk7rz249e8/Nc78eT/6uJL/yYtV/8UqlnnpXn8cfk/tNvfqnX3cjPwx+znl9P64FQGeH1XvrLGI/H1dLSklkfGhrS0tKSgsFg1v37+vr00ksv6fz583rhhReUl/fV+1QuL8zom3/5pHbd872s9ecfvV3lhndUaz+LKPXvz8vz5BNy33lznStulK/eV/cNqqqqSn6/X+FwWGVlZaqsrFQkEtHExKV38ytDdeTIEUlSLBZTf3+/Xn/9dRUXF6/LLBv5bnqtv4/qk9/O6+KFj7Xdf782b9mavf7fn6i86q5rfs3r/Xi+yO+jWjv2H0qNvyDPU4flDviv63Wt7WqcxGG6EW63W+Pj4/L5fOrp6VFHR4e8Xq/6+vrk8XgyB+lXCoVCcrvdevPNN3M88cZaPnNCeQW36GvbAlnrS7+eVvGW23RLydcdmuwPW3t2VKlIVJ7wP113pJCNHZUhtbW1mpyczFprb2/X7t27VfR//6ydTCb10Ucfafv27ZIuHaafPn1au3btyvm8G2n5zAmV77hLbk/2l+jS/FsmL/vSp08r9dOfSR6P1h59XGtX3O7+zrfl6exwZLavAkJl3MzMjBoaGjJ/vnDhgvbv369kMqm8vDwVFhbq2LFj2rZtm4NTrr8//5t/+dz1v+j4SY4nuTaunTu/1KE7rg2hMiyZTCoej6u3tzezVl5errffftvBqYDcI1SGFRcXa23tyosI4ObDYToA8wgVAPMIFQDzCBUA8wgVAPMIFQDzCBUA81xpfvIRgHHsqACYR6gAmEeoAJhHqACYR6gAmEeoAJhHqACYR6gAmEeoAJhHqACYR6gAmEeoAJhHqACYR6gAmEeoAJhHqACYR6gAmEeoAJhHqACYR6gAmEeoAJhHqACYR6gAmEeoAJhHqACYR6gAmEeoAJhHqACYR6gAmEeoAJhHqACYR6gAmEeoAJhHqACYR6gAmEeoAJhHqACYR6gAmEeoAJhHqACYR6gAmEeoAJhHqACYR6gAmEeoAJj3v/gVIdw2vqjZAAAAAElFTkSuQmCC",
        "encoding": "base64",
        "path": [
         "value"
        ]
       }
      ],
      "model_module": "@jupyter-widgets/controls",
      "model_module_version": "1.5.0",
      "model_name": "ImageModel",
      "state": {
       "layout": "IPY_MODEL_4c194c26e1064fa8a4d816ab3ce74029",
       "value": {}
      }
     },
     "255bee9240ca4048a0d877ab75c3e75c": {
      "model_module": "@jupyter-widgets/controls",
      "model_module_version": "1.5.0",
      "model_name": "HBoxModel",
      "state": {
       "children": [
        "IPY_MODEL_43569e60a7fd496f81af91691392c3cc",
        "IPY_MODEL_289d90df9e0042209246d8636c817a96",
        "IPY_MODEL_4889188c72814df8b90adeaf911d7725"
       ],
       "layout": "IPY_MODEL_2a4c454ba3a54a6aadad981133b7f478"
      }
     },
     "25638eaf2e0d4ea9ae1a9d52b3afd235": {
      "model_module": "@jupyter-widgets/base",
      "model_module_version": "1.2.0",
      "model_name": "LayoutModel",
      "state": {}
     },
     "25d0cf245e564fb1a19fb3b9ac1d737e": {
      "model_module": "@jupyter-widgets/base",
      "model_module_version": "1.2.0",
      "model_name": "LayoutModel",
      "state": {}
     },
     "26d6b6050c004ddfa863b1b70084a584": {
      "model_module": "@jupyter-widgets/base",
      "model_module_version": "1.2.0",
      "model_name": "LayoutModel",
      "state": {}
     },
     "26dff6289bd74c5b9a6e5fe6d4431d05": {
      "model_module": "@jupyter-widgets/base",
      "model_module_version": "1.2.0",
      "model_name": "LayoutModel",
      "state": {}
     },
     "272d0112468b42a5b8c1f9387d1ce8ac": {
      "model_module": "@jupyter-widgets/controls",
      "model_module_version": "1.5.0",
      "model_name": "HTMLMathModel",
      "state": {
       "layout": "IPY_MODEL_26d6b6050c004ddfa863b1b70084a584",
       "style": "IPY_MODEL_a6c0028ee2b34f3a990aef4bce7c9a51",
       "value": "$$ |0000\\rangle = |0000\\rangle  $$"
      }
     },
     "279c09f8b2034ccd87ce74456ceec055": {
      "model_module": "@jupyter-widgets/base",
      "model_module_version": "1.2.0",
      "model_name": "LayoutModel",
      "state": {}
     },
     "27c971b10472459bbb7f30440bd04fd2": {
      "model_module": "@jupyter-widgets/base",
      "model_module_version": "1.2.0",
      "model_name": "LayoutModel",
      "state": {}
     },
     "284ed4ad04374b53a2d5897e6a146595": {
      "model_module": "@jupyter-widgets/base",
      "model_module_version": "1.2.0",
      "model_name": "LayoutModel",
      "state": {}
     },
     "2863451e53664b66bb9f548a975a9f60": {
      "model_module": "@jupyter-widgets/controls",
      "model_module_version": "1.5.0",
      "model_name": "ButtonStyleModel",
      "state": {}
     },
     "289d90df9e0042209246d8636c817a96": {
      "model_module": "@jupyter-widgets/controls",
      "model_module_version": "1.5.0",
      "model_name": "ButtonModel",
      "state": {
       "description": "Oracle",
       "layout": "IPY_MODEL_97cbaccbecbb45f3a17f9e36543ad3a3",
       "style": "IPY_MODEL_79ac4a0d87474451a1e3d27fe1da7f53"
      }
     },
     "29204979d5ca4836b0583146dd05e226": {
      "model_module": "@jupyter-widgets/base",
      "model_module_version": "1.2.0",
      "model_name": "LayoutModel",
      "state": {}
     },
     "2a04018a0b234f64baf78f168fe19c6a": {
      "model_module": "@jupyter-widgets/controls",
      "model_module_version": "1.5.0",
      "model_name": "DescriptionStyleModel",
      "state": {
       "description_width": ""
      }
     },
     "2a1500d7cd0b46fcb2f5c4108587d250": {
      "model_module": "@jupyter-widgets/controls",
      "model_module_version": "1.5.0",
      "model_name": "ButtonStyleModel",
      "state": {}
     },
     "2a4c454ba3a54a6aadad981133b7f478": {
      "model_module": "@jupyter-widgets/base",
      "model_module_version": "1.2.0",
      "model_name": "LayoutModel",
      "state": {}
     },
     "2aced3cbdc7048fd8938a3a2941bc89a": {
      "model_module": "@jupyter-widgets/controls",
      "model_module_version": "1.5.0",
      "model_name": "ButtonModel",
      "state": {
       "description": "Clear",
       "layout": "IPY_MODEL_212c64bbb802419b8d1f64a28977312f",
       "style": "IPY_MODEL_eedf8f0455484d9187a103109a0a243d"
      }
     },
     "2b50c9edca694a5c9001d1f76a496d35": {
      "model_module": "@jupyter-widgets/controls",
      "model_module_version": "1.5.0",
      "model_name": "DescriptionStyleModel",
      "state": {
       "description_width": ""
      }
     },
     "2bb215d8e21c480e9bb31ecddbc2c5cf": {
      "model_module": "@jupyter-widgets/controls",
      "model_module_version": "1.5.0",
      "model_name": "ButtonStyleModel",
      "state": {}
     },
     "2c19ce9d41b94eb29e4c57f593f9b8a1": {
      "model_module": "@jupyter-widgets/base",
      "model_module_version": "1.2.0",
      "model_name": "LayoutModel",
      "state": {}
     },
     "2de04f27f8544c9e9b84bdce656db32b": {
      "model_module": "@jupyter-widgets/controls",
      "model_module_version": "1.5.0",
      "model_name": "ButtonModel",
      "state": {
       "description": "Uf",
       "layout": "IPY_MODEL_23e1f28edabc4995aee949b44df65690",
       "style": "IPY_MODEL_89596cfd1d4c42cf9ded148ee26768d9"
      }
     },
     "2e46b534e71b44e5b6d5213d90a9dfdf": {
      "model_module": "@jupyter-widgets/controls",
      "model_module_version": "1.5.0",
      "model_name": "ButtonStyleModel",
      "state": {}
     },
     "2f50a9e782bc45e69aed32dd4b721571": {
      "model_module": "@jupyter-widgets/base",
      "model_module_version": "1.2.0",
      "model_name": "LayoutModel",
      "state": {}
     },
     "3176d1c93a1e4d799049cbe1cd9ef6dd": {
      "model_module": "@jupyter-widgets/base",
      "model_module_version": "1.2.0",
      "model_name": "LayoutModel",
      "state": {}
     },
     "32046e3fb76b4b1a966cc1a05f341347": {
      "model_module": "@jupyter-widgets/controls",
      "model_module_version": "1.5.0",
      "model_name": "ButtonStyleModel",
      "state": {}
     },
     "321ada9b9d5e4afc9639e050c90a932d": {
      "model_module": "@jupyter-widgets/controls",
      "model_module_version": "1.5.0",
      "model_name": "ButtonStyleModel",
      "state": {}
     },
     "3354780cbeb944ca8d38cd8b3c82ca35": {
      "model_module": "@jupyter-widgets/base",
      "model_module_version": "1.2.0",
      "model_name": "LayoutModel",
      "state": {}
     },
     "33c163861d8c4fb980f987c8e6038ff9": {
      "model_module": "@jupyter-widgets/controls",
      "model_module_version": "1.5.0",
      "model_name": "ButtonModel",
      "state": {
       "description": "Uf",
       "layout": "IPY_MODEL_4b4d754bf5b84252b153ae761dd39936",
       "style": "IPY_MODEL_d49f8cd035c543f4b132035a6cb818fa"
      }
     },
     "343a54dd371645e2a844c480998f4502": {
      "model_module": "@jupyter-widgets/controls",
      "model_module_version": "1.5.0",
      "model_name": "ButtonStyleModel",
      "state": {}
     },
     "344a15faa34d40f38dbb1b42728eb2e8": {
      "model_module": "@jupyter-widgets/base",
      "model_module_version": "1.2.0",
      "model_name": "LayoutModel",
      "state": {}
     },
     "34d1d841d1b04d39919a6364cb7b2f21": {
      "model_module": "@jupyter-widgets/base",
      "model_module_version": "1.2.0",
      "model_name": "LayoutModel",
      "state": {}
     },
     "35214cf2176f4172aa634d0959e182fa": {
      "model_module": "@jupyter-widgets/controls",
      "model_module_version": "1.5.0",
      "model_name": "ButtonStyleModel",
      "state": {}
     },
     "3579ce0404344d79b5d2d1cf24beb49a": {
      "model_module": "@jupyter-widgets/controls",
      "model_module_version": "1.5.0",
      "model_name": "ButtonModel",
      "state": {
       "description": "Oracle",
       "layout": "IPY_MODEL_045e5d7f11d54f22abea82ed00078ec6",
       "style": "IPY_MODEL_7251cc50ac47477498e3f9cc0ead9408"
      }
     },
     "360f50e2af0b4aa2bdd24bf8c7b7ae95": {
      "model_module": "@jupyter-widgets/controls",
      "model_module_version": "1.5.0",
      "model_name": "ButtonModel",
      "state": {
       "description": "Uf",
       "layout": "IPY_MODEL_4168debde0da4d4ba6eeefa17a15f610",
       "style": "IPY_MODEL_a4cf4619289d454497db019590053af9"
      }
     },
     "3659290715f747a4871183c23e0a1c3b": {
      "model_module": "@jupyter-widgets/controls",
      "model_module_version": "1.5.0",
      "model_name": "ButtonModel",
      "state": {
       "description": "Clear",
       "layout": "IPY_MODEL_e7ea1a1d82594960ae04d41f67363ff3",
       "style": "IPY_MODEL_e86004d7d2424dd9a8d646c4a289f82d"
      }
     },
     "3678094605004195919b379b0de25259": {
      "model_module": "@jupyter-widgets/base",
      "model_module_version": "1.2.0",
      "model_name": "LayoutModel",
      "state": {}
     },
     "370f06e7934e43b68b71741b432da3ea": {
      "model_module": "@jupyter-widgets/controls",
      "model_module_version": "1.5.0",
      "model_name": "ButtonStyleModel",
      "state": {}
     },
     "3726b1a348cb4177a470d9723a5bdbd1": {
      "model_module": "@jupyter-widgets/controls",
      "model_module_version": "1.5.0",
      "model_name": "ButtonModel",
      "state": {
       "description": "H⊗ⁿ",
       "layout": "IPY_MODEL_4d1c2d1eb3c949a6b497b2cfc3fd714b",
       "style": "IPY_MODEL_5b21ca945ad340308152c264b7d09613"
      }
     },
     "37df40e31ead442ea37e1da8a44ee3bd": {
      "model_module": "@jupyter-widgets/controls",
      "model_module_version": "1.5.0",
      "model_name": "ButtonStyleModel",
      "state": {}
     },
     "38711c762f67405db4426ba7a3551e96": {
      "buffers": [
       {
        "data": "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",
        "encoding": "base64",
        "path": [
         "value"
        ]
       }
      ],
      "model_module": "@jupyter-widgets/controls",
      "model_module_version": "1.5.0",
      "model_name": "ImageModel",
      "state": {
       "layout": "IPY_MODEL_9572eb35d2744aafb850e01218d17967",
       "value": {}
      }
     },
     "391265e47dbc40a991cd2bef67b91a3e": {
      "model_module": "@jupyter-widgets/controls",
      "model_module_version": "1.5.0",
      "model_name": "ButtonModel",
      "state": {
       "description": "Clear",
       "layout": "IPY_MODEL_6a4c44ab24204577bf67f31ad2fc2370",
       "style": "IPY_MODEL_caf4db86623e4e84af98e9fd94510a28"
      }
     },
     "39bf7e3d403e41c28cb9b8175c72688c": {
      "model_module": "@jupyter-widgets/controls",
      "model_module_version": "1.5.0",
      "model_name": "ButtonModel",
      "state": {
       "description": "H⊗ⁿ",
       "layout": "IPY_MODEL_64ab3e4afba545358b031dbcce324598",
       "style": "IPY_MODEL_321ada9b9d5e4afc9639e050c90a932d"
      }
     },
     "39c8375cb0404308bed41f250abce538": {
      "model_module": "@jupyter-widgets/controls",
      "model_module_version": "1.5.0",
      "model_name": "ButtonStyleModel",
      "state": {}
     },
     "3a07de11cbba4b749c11947e6338b306": {
      "model_module": "@jupyter-widgets/controls",
      "model_module_version": "1.5.0",
      "model_name": "ButtonStyleModel",
      "state": {}
     },
     "3b8fcb2ff2a844659da048dfa6ca9126": {
      "model_module": "@jupyter-widgets/controls",
      "model_module_version": "1.5.0",
      "model_name": "ButtonModel",
      "state": {
       "description": "H⊗ⁿ",
       "layout": "IPY_MODEL_cb39a85ad8ab4ff7b47f8c11f037ca68",
       "style": "IPY_MODEL_a18a11170d5f416bb2cc9d04dae77579"
      }
     },
     "3c6f1c88b0ef4776b67e01e4c6946e5a": {
      "model_module": "@jupyter-widgets/controls",
      "model_module_version": "1.5.0",
      "model_name": "ButtonStyleModel",
      "state": {}
     },
     "3cb55112ae97421c8fb267ba175c561f": {
      "model_module": "@jupyter-widgets/base",
      "model_module_version": "1.2.0",
      "model_name": "LayoutModel",
      "state": {}
     },
     "3d018a0e60b04ca08f3dfba6fe27ecde": {
      "model_module": "@jupyter-widgets/controls",
      "model_module_version": "1.5.0",
      "model_name": "ButtonModel",
      "state": {
       "description": "Uf",
       "layout": "IPY_MODEL_0a8fecee99294635809bcb08dcad3a66",
       "style": "IPY_MODEL_84b372a806e34eb9b7eb127d3b3712e3"
      }
     },
     "3de8b3d7c2254ea991474f7dfce9c6dc": {
      "model_module": "@jupyter-widgets/controls",
      "model_module_version": "1.5.0",
      "model_name": "HTMLMathModel",
      "state": {
       "layout": "IPY_MODEL_506c3f04599e4e32976bcbe0fc072ff1",
       "style": "IPY_MODEL_64eb191ae5d34d7db727d19697f2ffeb",
       "value": "$$ |\\rangle = |\\rangle $$"
      }
     },
     "3eb889645ed5463da68398d9b9cc9fa8": {
      "model_module": "@jupyter-widgets/base",
      "model_module_version": "1.2.0",
      "model_name": "LayoutModel",
      "state": {}
     },
     "3ebdd3d4ae594b14b0789bab988ba354": {
      "model_module": "@jupyter-widgets/controls",
      "model_module_version": "1.5.0",
      "model_name": "ButtonModel",
      "state": {
       "description": "Uf",
       "layout": "IPY_MODEL_71394152c01d48c7aa372315b523e08f",
       "style": "IPY_MODEL_f3ac9e94e48e4d6ea6e8656aacd3ab5c"
      }
     },
     "3efcffa1aee54ef39c311a8289df45ff": {
      "model_module": "@jupyter-widgets/controls",
      "model_module_version": "1.5.0",
      "model_name": "ButtonStyleModel",
      "state": {}
     },
     "405aa9bc1b294989ad05a0046551142b": {
      "model_module": "@jupyter-widgets/controls",
      "model_module_version": "1.5.0",
      "model_name": "DescriptionStyleModel",
      "state": {
       "description_width": ""
      }
     },
     "415d9b5ac7024344b848c6ec07776d84": {
      "model_module": "@jupyter-widgets/base",
      "model_module_version": "1.2.0",
      "model_name": "LayoutModel",
      "state": {}
     },
     "4168debde0da4d4ba6eeefa17a15f610": {
      "model_module": "@jupyter-widgets/base",
      "model_module_version": "1.2.0",
      "model_name": "LayoutModel",
      "state": {}
     },
     "41bffbcd9fd541008f4b02cd739509bf": {
      "model_module": "@jupyter-widgets/base",
      "model_module_version": "1.2.0",
      "model_name": "LayoutModel",
      "state": {}
     },
     "42740bd0e3b844cd94e167d667161806": {
      "buffers": [
       {
        "data": "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",
        "encoding": "base64",
        "path": [
         "value"
        ]
       }
      ],
      "model_module": "@jupyter-widgets/controls",
      "model_module_version": "1.5.0",
      "model_name": "ImageModel",
      "state": {
       "layout": "IPY_MODEL_688e7dfcb610424582066bbd9c7f1472",
       "value": {}
      }
     },
     "43569e60a7fd496f81af91691392c3cc": {
      "model_module": "@jupyter-widgets/controls",
      "model_module_version": "1.5.0",
      "model_name": "ButtonModel",
      "state": {
       "description": "H⊗ⁿ",
       "layout": "IPY_MODEL_06c75a767d48482ba3ac0af6936d6cce",
       "style": "IPY_MODEL_942f9716d8b64a9683f1396969dbfc93"
      }
     },
     "4442aaf03a384a389365b0a4abbbdf19": {
      "model_module": "@jupyter-widgets/base",
      "model_module_version": "1.2.0",
      "model_name": "LayoutModel",
      "state": {}
     },
     "4485e1952dfb4036a8ae05bd58586c61": {
      "model_module": "@jupyter-widgets/base",
      "model_module_version": "1.2.0",
      "model_name": "LayoutModel",
      "state": {}
     },
     "44c2db73c45c432a9be76f24d3f5f411": {
      "model_module": "@jupyter-widgets/base",
      "model_module_version": "1.2.0",
      "model_name": "LayoutModel",
      "state": {}
     },
     "44c47cb43cf548ed8575ed4927c0bb72": {
      "buffers": [
       {
        "data": "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",
        "encoding": "base64",
        "path": [
         "value"
        ]
       }
      ],
      "model_module": "@jupyter-widgets/controls",
      "model_module_version": "1.5.0",
      "model_name": "ImageModel",
      "state": {
       "layout": "IPY_MODEL_d3107cd9998e427f92b81225ee054a40",
       "value": {}
      }
     },
     "46003eee94dc47468a70688d794708b4": {
      "model_module": "@jupyter-widgets/base",
      "model_module_version": "1.2.0",
      "model_name": "LayoutModel",
      "state": {}
     },
     "46624a02015c49448f4ca4d56592dc5a": {
      "model_module": "@jupyter-widgets/controls",
      "model_module_version": "1.5.0",
      "model_name": "DescriptionStyleModel",
      "state": {
       "description_width": ""
      }
     },
     "46d068d0ecda4984bbad00c2f7ac9a68": {
      "model_module": "@jupyter-widgets/base",
      "model_module_version": "1.2.0",
      "model_name": "LayoutModel",
      "state": {}
     },
     "476da6fd791049018a9e5268c942cffa": {
      "model_module": "@jupyter-widgets/controls",
      "model_module_version": "1.5.0",
      "model_name": "ButtonStyleModel",
      "state": {}
     },
     "4889188c72814df8b90adeaf911d7725": {
      "model_module": "@jupyter-widgets/controls",
      "model_module_version": "1.5.0",
      "model_name": "ButtonModel",
      "state": {
       "description": "Clear",
       "layout": "IPY_MODEL_00cc0e8509944741ba5b2d9051ecd5e4",
       "style": "IPY_MODEL_8733b236ba084b8fa594929c2722acf8"
      }
     },
     "4954535d318246d19415862d53d1fe08": {
      "model_module": "@jupyter-widgets/base",
      "model_module_version": "1.2.0",
      "model_name": "LayoutModel",
      "state": {}
     },
     "4a53c1de4d96407b95ef1f18a0613938": {
      "model_module": "@jupyter-widgets/controls",
      "model_module_version": "1.5.0",
      "model_name": "HBoxModel",
      "state": {
       "children": [
        "IPY_MODEL_39bf7e3d403e41c28cb9b8175c72688c",
        "IPY_MODEL_ff325820638445e09ab24d8e9c178849",
        "IPY_MODEL_73665194203b42e9bbee9bd8c5968887"
       ],
       "layout": "IPY_MODEL_7cb967fa2b934c26b5782161c37bde1e"
      }
     },
     "4b1c7f803ba3473595213053753a4a48": {
      "model_module": "@jupyter-widgets/controls",
      "model_module_version": "1.5.0",
      "model_name": "HTMLMathModel",
      "state": {
       "layout": "IPY_MODEL_dfa45fafef56455aaf4326116fd5bf98",
       "style": "IPY_MODEL_4d9c9c095a7246768ba7f019a1d3c8ab",
       "value": "$$ |00\\rangle = |00\\rangle $$"
      }
     },
     "4b4d754bf5b84252b153ae761dd39936": {
      "model_module": "@jupyter-widgets/base",
      "model_module_version": "1.2.0",
      "model_name": "LayoutModel",
      "state": {}
     },
     "4c194c26e1064fa8a4d816ab3ce74029": {
      "model_module": "@jupyter-widgets/base",
      "model_module_version": "1.2.0",
      "model_name": "LayoutModel",
      "state": {}
     },
     "4d1c2d1eb3c949a6b497b2cfc3fd714b": {
      "model_module": "@jupyter-widgets/base",
      "model_module_version": "1.2.0",
      "model_name": "LayoutModel",
      "state": {}
     },
     "4d7d1f905ca548a7952f998447252b5a": {
      "model_module": "@jupyter-widgets/controls",
      "model_module_version": "1.5.0",
      "model_name": "ButtonStyleModel",
      "state": {}
     },
     "4d9c9c095a7246768ba7f019a1d3c8ab": {
      "model_module": "@jupyter-widgets/controls",
      "model_module_version": "1.5.0",
      "model_name": "DescriptionStyleModel",
      "state": {
       "description_width": ""
      }
     },
     "4e75e5803b3f47e6820b78f8ef39bd19": {
      "model_module": "@jupyter-widgets/base",
      "model_module_version": "1.2.0",
      "model_name": "LayoutModel",
      "state": {}
     },
     "50135e4ff93a40249b317bde87534963": {
      "buffers": [
       {
        "data": "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",
        "encoding": "base64",
        "path": [
         "value"
        ]
       }
      ],
      "model_module": "@jupyter-widgets/controls",
      "model_module_version": "1.5.0",
      "model_name": "ImageModel",
      "state": {
       "layout": "IPY_MODEL_ddc83ed3380c4f19bc2230e3635e43c2",
       "value": {}
      }
     },
     "5050ec04c89b4bc6be46ebb23391b8be": {
      "model_module": "@jupyter-widgets/controls",
      "model_module_version": "1.5.0",
      "model_name": "ButtonStyleModel",
      "state": {}
     },
     "506c3f04599e4e32976bcbe0fc072ff1": {
      "model_module": "@jupyter-widgets/base",
      "model_module_version": "1.2.0",
      "model_name": "LayoutModel",
      "state": {}
     },
     "50ad69a15e0e474e92c5f05c2b7aae94": {
      "model_module": "@jupyter-widgets/base",
      "model_module_version": "1.2.0",
      "model_name": "LayoutModel",
      "state": {}
     },
     "50d630041f1546b3855f44d32285e526": {
      "model_module": "@jupyter-widgets/controls",
      "model_module_version": "1.5.0",
      "model_name": "ButtonModel",
      "state": {
       "description": "H⊗ⁿ",
       "layout": "IPY_MODEL_82e6b24168ee488aab5205ba41408975",
       "style": "IPY_MODEL_5dd64fc8c0884e879e5a6dabde9dd6a1"
      }
     },
     "510c859a116448f9a47eba0c3cb07b77": {
      "model_module": "@jupyter-widgets/controls",
      "model_module_version": "1.5.0",
      "model_name": "DescriptionStyleModel",
      "state": {
       "description_width": ""
      }
     },
     "5125e013834249f88da5ce601f7a1186": {
      "model_module": "@jupyter-widgets/controls",
      "model_module_version": "1.5.0",
      "model_name": "ButtonStyleModel",
      "state": {}
     },
     "51c76f080a99450d95452170531b2132": {
      "model_module": "@jupyter-widgets/controls",
      "model_module_version": "1.5.0",
      "model_name": "HBoxModel",
      "state": {
       "children": [
        "IPY_MODEL_f77d7e4d16fe4e5faac9359cca8704ae",
        "IPY_MODEL_21d0ddc0527c493288a6575b619bf2f0",
        "IPY_MODEL_ef7a7d61410c438e843d3cf853003a92"
       ],
       "layout": "IPY_MODEL_c440a4b0aaa047cf92ff59adc25770aa"
      }
     },
     "52265997be92412a96da169e274b7999": {
      "model_module": "@jupyter-widgets/base",
      "model_module_version": "1.2.0",
      "model_name": "LayoutModel",
      "state": {}
     },
     "52331fff5adf4c0a812138139bbba79e": {
      "model_module": "@jupyter-widgets/base",
      "model_module_version": "1.2.0",
      "model_name": "LayoutModel",
      "state": {}
     },
     "536c6de0a5234be6bdfb2bdb1150b3a6": {
      "model_module": "@jupyter-widgets/controls",
      "model_module_version": "1.5.0",
      "model_name": "ButtonStyleModel",
      "state": {}
     },
     "543eee33f3f0459f8ea0cb61305491ef": {
      "buffers": [
       {
        "data": "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",
        "encoding": "base64",
        "path": [
         "value"
        ]
       }
      ],
      "model_module": "@jupyter-widgets/controls",
      "model_module_version": "1.5.0",
      "model_name": "ImageModel",
      "state": {
       "layout": "IPY_MODEL_5c4d6472957f4bdda6529c68958adabf",
       "value": {}
      }
     },
     "54d2a35841ac4226b56aacaa8c90cd62": {
      "model_module": "@jupyter-widgets/base",
      "model_module_version": "1.2.0",
      "model_name": "LayoutModel",
      "state": {}
     },
     "559e279a254240b3866678a6a5d65d25": {
      "model_module": "@jupyter-widgets/base",
      "model_module_version": "1.2.0",
      "model_name": "LayoutModel",
      "state": {}
     },
     "55a4423e5d994ead87246ea1b1bd949d": {
      "model_module": "@jupyter-widgets/base",
      "model_module_version": "1.2.0",
      "model_name": "LayoutModel",
      "state": {}
     },
     "56d6ab4a26c54015a6c2e223525fd5cf": {
      "model_module": "@jupyter-widgets/controls",
      "model_module_version": "1.5.0",
      "model_name": "ButtonModel",
      "state": {
       "description": "Uf",
       "layout": "IPY_MODEL_e3be87da4d9543eaa08f90ce65a99af5",
       "style": "IPY_MODEL_c117cdae1fec4dd1b1cfb35bd3241213"
      }
     },
     "56e44ecb7f9d4b06abda6ad370ab13c7": {
      "model_module": "@jupyter-widgets/controls",
      "model_module_version": "1.5.0",
      "model_name": "HBoxModel",
      "state": {
       "children": [
        "IPY_MODEL_6140356f7e214c799f6975a6ca80d2fa",
        "IPY_MODEL_1b46d5d67e6d4ab09a6e15dba8704e2c",
        "IPY_MODEL_5894eb7ba69345979040f8b7eaf0d4c3"
       ],
       "layout": "IPY_MODEL_a5326492c179415d97e0b1423b6a9ae8"
      }
     },
     "5782ca8518904a55b988e2603ecd376d": {
      "model_module": "@jupyter-widgets/controls",
      "model_module_version": "1.5.0",
      "model_name": "ButtonStyleModel",
      "state": {}
     },
     "5894eb7ba69345979040f8b7eaf0d4c3": {
      "model_module": "@jupyter-widgets/controls",
      "model_module_version": "1.5.0",
      "model_name": "ButtonModel",
      "state": {
       "description": "Clear",
       "layout": "IPY_MODEL_e05e1b0779944495af65db5d844e33ad",
       "style": "IPY_MODEL_b2f2e6eb3e9f404e80ee080b9fea73d7"
      }
     },
     "5af6a64bac7a410d98675f2be1c96278": {
      "model_module": "@jupyter-widgets/base",
      "model_module_version": "1.2.0",
      "model_name": "LayoutModel",
      "state": {}
     },
     "5b21ca945ad340308152c264b7d09613": {
      "model_module": "@jupyter-widgets/controls",
      "model_module_version": "1.5.0",
      "model_name": "ButtonStyleModel",
      "state": {}
     },
     "5bc15ee7548c4588a97d3a4ec1f0ba72": {
      "model_module": "@jupyter-widgets/base",
      "model_module_version": "1.2.0",
      "model_name": "LayoutModel",
      "state": {}
     },
     "5c3ca8ff18b24d06820935b299a1d09f": {
      "model_module": "@jupyter-widgets/controls",
      "model_module_version": "1.5.0",
      "model_name": "HTMLMathModel",
      "state": {
       "layout": "IPY_MODEL_fa0a7c8570d64163a7bec84a614f8e25",
       "style": "IPY_MODEL_510c859a116448f9a47eba0c3cb07b77",
       "value": "$$ |00\\rangle = |00\\rangle $$"
      }
     },
     "5c4d6472957f4bdda6529c68958adabf": {
      "model_module": "@jupyter-widgets/base",
      "model_module_version": "1.2.0",
      "model_name": "LayoutModel",
      "state": {}
     },
     "5d647e0ae36c4e268a21b90f82c8e0e0": {
      "model_module": "@jupyter-widgets/controls",
      "model_module_version": "1.5.0",
      "model_name": "ButtonStyleModel",
      "state": {}
     },
     "5dd64fc8c0884e879e5a6dabde9dd6a1": {
      "model_module": "@jupyter-widgets/controls",
      "model_module_version": "1.5.0",
      "model_name": "ButtonStyleModel",
      "state": {}
     },
     "5ded810e379f44c9a6771f1c6d143178": {
      "model_module": "@jupyter-widgets/base",
      "model_module_version": "1.2.0",
      "model_name": "LayoutModel",
      "state": {}
     },
     "5dfefd123d6442a5b0e9422200502a5e": {
      "model_module": "@jupyter-widgets/controls",
      "model_module_version": "1.5.0",
      "model_name": "HTMLMathModel",
      "state": {
       "layout": "IPY_MODEL_11e61d3c25fc422f9ef8d3d3ec8174dc",
       "style": "IPY_MODEL_aed44350396047e08a1611a90498874b",
       "value": "$$ |000000000\\rangle = |000000000\\rangle  $$"
      }
     },
     "5e3e12e510e442229599a511f9b7279b": {
      "model_module": "@jupyter-widgets/controls",
      "model_module_version": "1.5.0",
      "model_name": "HBoxModel",
      "state": {
       "children": [
        "IPY_MODEL_1c956091ceb34c5aa0150844b2fe8055",
        "IPY_MODEL_ab98ae13a67747c19b18185ba76eb04e",
        "IPY_MODEL_f75681efa82f4a1598ed71e9f304ddf2"
       ],
       "layout": "IPY_MODEL_a21383f253dd4586998794ae2d8ec10c"
      }
     },
     "5eb4ae31babe4132a4e33e30c780769f": {
      "model_module": "@jupyter-widgets/controls",
      "model_module_version": "1.5.0",
      "model_name": "HTMLMathModel",
      "state": {
       "layout": "IPY_MODEL_87cf742be21f40798069d59ff720942b",
       "style": "IPY_MODEL_1fd3cad2f54a4507bc6c3f7ec40317d1",
       "value": "$$ |0\\rangle = |0\\rangle $$"
      }
     },
     "5fa5fafa56534e5abf21b773633b4cc1": {
      "model_module": "@jupyter-widgets/controls",
      "model_module_version": "1.5.0",
      "model_name": "HBoxModel",
      "state": {
       "children": [
        "IPY_MODEL_3726b1a348cb4177a470d9723a5bdbd1",
        "IPY_MODEL_8db8c20f0e014f4d9cd176e88fd6652c",
        "IPY_MODEL_3659290715f747a4871183c23e0a1c3b"
       ],
       "layout": "IPY_MODEL_415d9b5ac7024344b848c6ec07776d84"
      }
     },
     "6140356f7e214c799f6975a6ca80d2fa": {
      "model_module": "@jupyter-widgets/controls",
      "model_module_version": "1.5.0",
      "model_name": "ButtonModel",
      "state": {
       "description": "H⊗ⁿ",
       "layout": "IPY_MODEL_27c971b10472459bbb7f30440bd04fd2",
       "style": "IPY_MODEL_123b596a38c94983a73e1eae8c180df5"
      }
     },
     "61d7b7fd9e5f4a30a0300acd52af35dc": {
      "model_module": "@jupyter-widgets/controls",
      "model_module_version": "1.5.0",
      "model_name": "ButtonModel",
      "state": {
       "description": "Uf",
       "layout": "IPY_MODEL_1da59b56b1cd40c486a91e189ba995b4",
       "style": "IPY_MODEL_db7430f135ec44dfb6fdab6220e8a354"
      }
     },
     "61ec4f4bf0a045fe82290515a942a3bb": {
      "model_module": "@jupyter-widgets/base",
      "model_module_version": "1.2.0",
      "model_name": "LayoutModel",
      "state": {}
     },
     "638426752ee540648158e8b75aac658e": {
      "model_module": "@jupyter-widgets/controls",
      "model_module_version": "1.5.0",
      "model_name": "ButtonModel",
      "state": {
       "description": "Uf",
       "layout": "IPY_MODEL_eff48ebcfd7742cfb8edb399ed5adc39",
       "style": "IPY_MODEL_d35855ecd3cd4cc197f888c583deca3f"
      }
     },
     "642bdaca06b5413fb8619378d47c5205": {
      "model_module": "@jupyter-widgets/controls",
      "model_module_version": "1.5.0",
      "model_name": "ButtonModel",
      "state": {
       "description": "Clear",
       "layout": "IPY_MODEL_5af6a64bac7a410d98675f2be1c96278",
       "style": "IPY_MODEL_0564f632ed7b4dd9b3b6e068ec1aaf04"
      }
     },
     "64ab3e4afba545358b031dbcce324598": {
      "model_module": "@jupyter-widgets/base",
      "model_module_version": "1.2.0",
      "model_name": "LayoutModel",
      "state": {}
     },
     "64eb191ae5d34d7db727d19697f2ffeb": {
      "model_module": "@jupyter-widgets/controls",
      "model_module_version": "1.5.0",
      "model_name": "DescriptionStyleModel",
      "state": {
       "description_width": ""
      }
     },
     "654118146b3f4f3bacaa58f8c4e3d45e": {
      "model_module": "@jupyter-widgets/controls",
      "model_module_version": "1.5.0",
      "model_name": "ButtonModel",
      "state": {
       "description": "Uf",
       "layout": "IPY_MODEL_4e75e5803b3f47e6820b78f8ef39bd19",
       "style": "IPY_MODEL_5d647e0ae36c4e268a21b90f82c8e0e0"
      }
     },
     "673fac4295214f2fa5a52a99673a8621": {
      "model_module": "@jupyter-widgets/controls",
      "model_module_version": "1.5.0",
      "model_name": "HTMLMathModel",
      "state": {
       "layout": "IPY_MODEL_74293f03fbea4ee6bd2fde36a47e7ba3",
       "style": "IPY_MODEL_b235f7d854d844b294c80921211230a4",
       "value": "$$ |00000000\\rangle = |00000000\\rangle  $$"
      }
     },
     "681aebb27cec42b9aba19376a784caf5": {
      "model_module": "@jupyter-widgets/base",
      "model_module_version": "1.2.0",
      "model_name": "LayoutModel",
      "state": {}
     },
     "68743413c2754fa4854f38a816fbcab7": {
      "model_module": "@jupyter-widgets/base",
      "model_module_version": "1.2.0",
      "model_name": "LayoutModel",
      "state": {}
     },
     "688e7dfcb610424582066bbd9c7f1472": {
      "model_module": "@jupyter-widgets/base",
      "model_module_version": "1.2.0",
      "model_name": "LayoutModel",
      "state": {}
     },
     "69337712729c49f1803617c1644e6a58": {
      "model_module": "@jupyter-widgets/controls",
      "model_module_version": "1.5.0",
      "model_name": "ButtonModel",
      "state": {
       "description": "Clear",
       "layout": "IPY_MODEL_1bfa6e2313aa4340a3a8595b9c5df207",
       "style": "IPY_MODEL_e3397fb53041440296121090778cfb9f"
      }
     },
     "69f5e6fd3e754fe6984df2041d60af00": {
      "model_module": "@jupyter-widgets/controls",
      "model_module_version": "1.5.0",
      "model_name": "HBoxModel",
      "state": {
       "children": [
        "IPY_MODEL_c6a60ea5281d4e57a9dd45c428e69540",
        "IPY_MODEL_a0e8ab0b187b496795bc041682770d77",
        "IPY_MODEL_024321e51d204db9a6b45cc9dc18a80b"
       ],
       "layout": "IPY_MODEL_f6fbabdf4ebb4398b7d2a9305ab5c571"
      }
     },
     "6a4c44ab24204577bf67f31ad2fc2370": {
      "model_module": "@jupyter-widgets/base",
      "model_module_version": "1.2.0",
      "model_name": "LayoutModel",
      "state": {}
     },
     "6a5cc1588d5745219155d5a6bffabf9a": {
      "model_module": "@jupyter-widgets/base",
      "model_module_version": "1.2.0",
      "model_name": "LayoutModel",
      "state": {}
     },
     "6a8c7ffd109b410098fff60a42b54819": {
      "model_module": "@jupyter-widgets/controls",
      "model_module_version": "1.5.0",
      "model_name": "ButtonModel",
      "state": {
       "description": "Oracle",
       "layout": "IPY_MODEL_46003eee94dc47468a70688d794708b4",
       "style": "IPY_MODEL_2a1500d7cd0b46fcb2f5c4108587d250"
      }
     },
     "6af80d493dd24efebf63815cfe8caa29": {
      "model_module": "@jupyter-widgets/controls",
      "model_module_version": "1.5.0",
      "model_name": "ButtonStyleModel",
      "state": {}
     },
     "6fbf029f653946c09543fca9aefe3380": {
      "model_module": "@jupyter-widgets/base",
      "model_module_version": "1.2.0",
      "model_name": "LayoutModel",
      "state": {}
     },
     "6ff5f8738bb04c0d93c6e4c2c25b171c": {
      "model_module": "@jupyter-widgets/controls",
      "model_module_version": "1.5.0",
      "model_name": "DescriptionStyleModel",
      "state": {
       "description_width": ""
      }
     },
     "700b2a5f7b724358bfd9caa015a21de9": {
      "model_module": "@jupyter-widgets/controls",
      "model_module_version": "1.5.0",
      "model_name": "ButtonModel",
      "state": {
       "description": "Clear",
       "layout": "IPY_MODEL_b7c2765519884b73bcacf78409e58a5d",
       "style": "IPY_MODEL_370f06e7934e43b68b71741b432da3ea"
      }
     },
     "7100d79efc294b208bde70b90c1707ca": {
      "model_module": "@jupyter-widgets/controls",
      "model_module_version": "1.5.0",
      "model_name": "ButtonStyleModel",
      "state": {}
     },
     "712b819f2f994e18abadaf4dcf580192": {
      "model_module": "@jupyter-widgets/controls",
      "model_module_version": "1.5.0",
      "model_name": "ButtonModel",
      "state": {
       "description": "Uf",
       "layout": "IPY_MODEL_25d0cf245e564fb1a19fb3b9ac1d737e",
       "style": "IPY_MODEL_b4e0e2ad3df64cd58d3d7919fd91de59"
      }
     },
     "71394152c01d48c7aa372315b523e08f": {
      "model_module": "@jupyter-widgets/base",
      "model_module_version": "1.2.0",
      "model_name": "LayoutModel",
      "state": {}
     },
     "7251cc50ac47477498e3f9cc0ead9408": {
      "model_module": "@jupyter-widgets/controls",
      "model_module_version": "1.5.0",
      "model_name": "ButtonStyleModel",
      "state": {}
     },
     "727b7a7a6fc540ca95dc4d4eddde666d": {
      "model_module": "@jupyter-widgets/controls",
      "model_module_version": "1.5.0",
      "model_name": "ButtonModel",
      "state": {
       "description": "Uf",
       "layout": "IPY_MODEL_8d01329a27b84c369cc38dab5029003a",
       "style": "IPY_MODEL_a0fed6e5f10d4088aaf54934a2a11807"
      }
     },
     "72e719eb024a40c0984309d82403c845": {
      "model_module": "@jupyter-widgets/controls",
      "model_module_version": "1.5.0",
      "model_name": "ButtonStyleModel",
      "state": {}
     },
     "73457d404e7e4ea7b407f2b6a0d84853": {
      "model_module": "@jupyter-widgets/controls",
      "model_module_version": "1.5.0",
      "model_name": "HBoxModel",
      "state": {
       "children": [
        "IPY_MODEL_a1f66f5858eb4cedb25038f7092319b7",
        "IPY_MODEL_3d018a0e60b04ca08f3dfba6fe27ecde",
        "IPY_MODEL_69337712729c49f1803617c1644e6a58"
       ],
       "layout": "IPY_MODEL_1419c820ecda4543a836d2aedcd975d6"
      }
     },
     "73665194203b42e9bbee9bd8c5968887": {
      "model_module": "@jupyter-widgets/controls",
      "model_module_version": "1.5.0",
      "model_name": "ButtonModel",
      "state": {
       "description": "Clear",
       "layout": "IPY_MODEL_5ded810e379f44c9a6771f1c6d143178",
       "style": "IPY_MODEL_afcf2d09ebd94c77a0eab04e59510afd"
      }
     },
     "73ad5ad5e70943b58128e1fd316eab49": {
      "model_module": "@jupyter-widgets/controls",
      "model_module_version": "1.5.0",
      "model_name": "ButtonStyleModel",
      "state": {}
     },
     "74293f03fbea4ee6bd2fde36a47e7ba3": {
      "model_module": "@jupyter-widgets/base",
      "model_module_version": "1.2.0",
      "model_name": "LayoutModel",
      "state": {}
     },
     "742d6541c90448f58b7a555e9af32f2b": {
      "model_module": "@jupyter-widgets/controls",
      "model_module_version": "1.5.0",
      "model_name": "HTMLMathModel",
      "state": {
       "layout": "IPY_MODEL_c1d860062ffb4342a4bce6a49c8dfaf0",
       "style": "IPY_MODEL_e10e767eeb134a3d8a097a47b0d76bd9",
       "value": "$$ |000\\rangle = |000\\rangle  $$"
      }
     },
     "744e14b0cccb4df993db03e58cd821af": {
      "model_module": "@jupyter-widgets/controls",
      "model_module_version": "1.5.0",
      "model_name": "HTMLMathModel",
      "state": {
       "layout": "IPY_MODEL_01ea48d9f3a74c8ea374d2e6222edbdd",
       "style": "IPY_MODEL_0d2849fd78a14e84a7123dacc2df2f3a",
       "value": "$$ |00\\rangle = |00\\rangle $$"
      }
     },
     "76ec200e6dbf4f48a29b856ae4673f61": {
      "buffers": [
       {
        "data": "iVBORw0KGgoAAAANSUhEUgAAAOkAAABUCAYAAABnYxBIAAAABHNCSVQICAgIfAhkiAAAAAlwSFlzAAALEgAACxIB0t1+/AAAADh0RVh0U29mdHdhcmUAbWF0cGxvdGxpYiB2ZXJzaW9uMy4yLjEsIGh0dHA6Ly9tYXRwbG90bGliLm9yZy+j8jraAAAEuklEQVR4nO3bXWhbdRjH8V/OadcXOoZrtxa3OdZ1HbYzlXVjFcTSwV5hiMouhk4o1Wmp6JgITjaZL+Si1BcEccIYFTcna43iRdWptPGiXrQUBr2qW4USibGiFTvnKkm8KE6zN7Ol2XlO9v1c/tPkPCH95p8ccgKpVColAGY5Xg8A4NqIFDCOSAHjiBQwjkgB44gUMI5IAeOIFDCOSAHjiBQwjkgB44gUMI5IAeOIFDCOSAHjiBQwjkgB44gUMI5IAeOIFDCOSAHjiBQwjkgB44gUMI5IAeOIFDCOSAHjiBQwjkgB44gUMK7A6wEwa+/xm3/MNx/O7v7zvvxsbga5TjObtnlyXK+wkwLGESlgHJECxhEpYByRAsYRKWAckQLGESlgXF5Emkwm1dXVpVWrVqm4uFgNDQ2KRCJavXq19uzZ4/V4QFby4hdHbW1tCofDOnjwoBobGzU4OKhdu3ZpcnJS+/bt83q8nDjy1O1qeuhlrWl57OJaKpXS4ccXaNMT76lm/QMeTne55BenlHj78OU3zMxIkgo+7lGgpOQmT+UPvo/0xIkT6u7u1sDAgJqbmyVJLS0tGhkZUTgc1tq1az2ecO5N//KDzk3FtGj53Wnrv/00rpk/f1dl9TqPJrs6Z8tmOVs2p60lI98o0fma3Kc7CPQafB9pKBTS1q1bLwb6j5qaGhUWFioYDHo0We7Ex4cUcFyVL12Ttv7zxGmVLqjU/PJlHk2WueRXXyvxxltyn90rZ2OL1+OY5uvvpNFoVKOjo9q5c+dlt01MTKi+vl5FRUUeTJZb8fEh3VZVq4J5xWnrkxOntXiFvV30Usm+z2cDff45As2Ar3fSaDQqSaqqqkpbP3/+vCKRiLZtm9urJQKBwJw+3n89cyyV8d/Gx4c0FT+jd5+sSFv/68K01u3Yn/HjZPt8Ck/1Xfd9Ep98quSRo3IPvCDnng03dNxcvg7/J5XK/HWaK76OtKJi9p90bGxM27dvv7je2dmpWCymxsZGr0bLqfj3w9rw4CHdee+jaevH99+lSsM7aeJkr5LvH5d76EU56/LvXEGu+DrS6upqBYNBhUIhLVy4UEuWLFFvb6/6+mbf4ec60ly+i2Z6PenUj2d04dyvWh7covnlS9PX/5hSZfX6jI+Z7fO5nutJE8c+ULLnI7mvviSnIbvzBF7sZl7y9XdSx3HU09Oj+vp6tbe3q7W1VRUVFero6JDrunl70qigqFSL7mhIW499N6iy8mUqXbDYo8muLnG0W8nesNzQK1kHeivy9U4qSbW1terv709b2717t+rq6lSSh6f14+NDqlyxXo6b/tLFznxr8qNu6uxZJT88KbmuEvsPKHHJ7c79O+S2tXoym1/4PtIrGR4eVlNTk9dj5MR9j7x+xfWNre/c5EkyE1i58oZOMOFfvv64eyXT09MaGxvLyx8x4NaUdztpWVmZEolLP1QB/pV3OymQb4gUMI5IAeOIFDCOSAHjiBQwjkgB44gUMC6QutUuKQB8hp0UMI5IAeOIFDCOSAHjiBQwjkgB44gUMI5IAeOIFDCOSAHjiBQwjkgB44gUMI5IAeOIFDCOSAHjiBQwjkgB44gUMI5IAeOIFDCOSAHj/gaopAr5wJ6FhgAAAABJRU5ErkJggg==",
        "encoding": "base64",
        "path": [
         "value"
        ]
       }
      ],
      "model_module": "@jupyter-widgets/controls",
      "model_module_version": "1.5.0",
      "model_name": "ImageModel",
      "state": {
       "layout": "IPY_MODEL_3eb889645ed5463da68398d9b9cc9fa8",
       "value": {}
      }
     },
     "786404b1a3e345508d958f4f4cbad809": {
      "model_module": "@jupyter-widgets/controls",
      "model_module_version": "1.5.0",
      "model_name": "HTMLMathModel",
      "state": {
       "layout": "IPY_MODEL_559e279a254240b3866678a6a5d65d25",
       "style": "IPY_MODEL_b1dde016faf24529a9cd647f8dc0fc7f",
       "value": "$$ |00\\rangle = |00\\rangle $$"
      }
     },
     "79ac4a0d87474451a1e3d27fe1da7f53": {
      "model_module": "@jupyter-widgets/controls",
      "model_module_version": "1.5.0",
      "model_name": "ButtonStyleModel",
      "state": {}
     },
     "79b45a43aae8425d99690fb2c275e072": {
      "model_module": "@jupyter-widgets/base",
      "model_module_version": "1.2.0",
      "model_name": "LayoutModel",
      "state": {}
     },
     "7a96f663bcdf4f53a69803c2a8dc2498": {
      "model_module": "@jupyter-widgets/base",
      "model_module_version": "1.2.0",
      "model_name": "LayoutModel",
      "state": {}
     },
     "7b45eb59e7454fc19c80bf570f3739ff": {
      "model_module": "@jupyter-widgets/controls",
      "model_module_version": "1.5.0",
      "model_name": "ButtonStyleModel",
      "state": {}
     },
     "7b5c6111b8de4b779fb3d7e6ac036c42": {
      "model_module": "@jupyter-widgets/controls",
      "model_module_version": "1.5.0",
      "model_name": "HBoxModel",
      "state": {
       "children": [
        "IPY_MODEL_967b49d4a94c4aa885b7178572aa7c52",
        "IPY_MODEL_8af1badb4faf4e519109169d3b1aadd6",
        "IPY_MODEL_96375409a3f54d6da060ae0c3d5551aa"
       ],
       "layout": "IPY_MODEL_a4eef3cc7bb241e5b203157285701486"
      }
     },
     "7b7dacbee5994f7e8e3308468edd11e6": {
      "model_module": "@jupyter-widgets/controls",
      "model_module_version": "1.5.0",
      "model_name": "ButtonModel",
      "state": {
       "description": "Clear",
       "layout": "IPY_MODEL_194efd3555d947988d1fb155ca137067",
       "style": "IPY_MODEL_7b45eb59e7454fc19c80bf570f3739ff"
      }
     },
     "7b8247d4d68a470c991e2ba88ee1dad0": {
      "model_module": "@jupyter-widgets/base",
      "model_module_version": "1.2.0",
      "model_name": "LayoutModel",
      "state": {}
     },
     "7b832103b44a4903b97c778084a1d97d": {
      "model_module": "@jupyter-widgets/controls",
      "model_module_version": "1.5.0",
      "model_name": "HBoxModel",
      "state": {
       "children": [
        "IPY_MODEL_1091710ad2a6430bb3b05feed0314c21",
        "IPY_MODEL_360f50e2af0b4aa2bdd24bf8c7b7ae95",
        "IPY_MODEL_ff85e0cacaa14910b5e118327ca07fa3"
       ],
       "layout": "IPY_MODEL_cb51431fb0554acebc765a7bb91cde56"
      }
     },
     "7ba6171d232649698732493a8c7d6a21": {
      "model_module": "@jupyter-widgets/base",
      "model_module_version": "1.2.0",
      "model_name": "LayoutModel",
      "state": {}
     },
     "7bc882b4f87640699fd87876d23dab81": {
      "model_module": "@jupyter-widgets/base",
      "model_module_version": "1.2.0",
      "model_name": "LayoutModel",
      "state": {}
     },
     "7c0b31335bf34ecdb3a7d5f07bc38ace": {
      "model_module": "@jupyter-widgets/base",
      "model_module_version": "1.2.0",
      "model_name": "LayoutModel",
      "state": {}
     },
     "7cb967fa2b934c26b5782161c37bde1e": {
      "model_module": "@jupyter-widgets/base",
      "model_module_version": "1.2.0",
      "model_name": "LayoutModel",
      "state": {}
     },
     "7dc667a981104a28aca129bc2bb773f7": {
      "buffers": [
       {
        "data": "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",
        "encoding": "base64",
        "path": [
         "value"
        ]
       }
      ],
      "model_module": "@jupyter-widgets/controls",
      "model_module_version": "1.5.0",
      "model_name": "ImageModel",
      "state": {
       "layout": "IPY_MODEL_52265997be92412a96da169e274b7999",
       "value": {}
      }
     },
     "7ff50d6c0440473cb81670e29e7b688b": {
      "buffers": [
       {
        "data": "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",
        "encoding": "base64",
        "path": [
         "value"
        ]
       }
      ],
      "model_module": "@jupyter-widgets/controls",
      "model_module_version": "1.5.0",
      "model_name": "ImageModel",
      "state": {
       "layout": "IPY_MODEL_80ac4c4fef7b491dba49aa0a4186b980",
       "value": {}
      }
     },
     "803293e8ea8e4ec693bdf194644cefc4": {
      "model_module": "@jupyter-widgets/controls",
      "model_module_version": "1.5.0",
      "model_name": "HBoxModel",
      "state": {
       "children": [
        "IPY_MODEL_50d630041f1546b3855f44d32285e526",
        "IPY_MODEL_d767e209360e4cc6b57e1f8add4ef0ba",
        "IPY_MODEL_dd03942f52fc493a9647112d9b7de049"
       ],
       "layout": "IPY_MODEL_848c690c36274f319c356dce68556a1d"
      }
     },
     "8065ad4427064f2094e53866447883ab": {
      "model_module": "@jupyter-widgets/base",
      "model_module_version": "1.2.0",
      "model_name": "LayoutModel",
      "state": {}
     },
     "80ac4c4fef7b491dba49aa0a4186b980": {
      "model_module": "@jupyter-widgets/base",
      "model_module_version": "1.2.0",
      "model_name": "LayoutModel",
      "state": {}
     },
     "8119218c1cf0469b92a48282fd7bab24": {
      "model_module": "@jupyter-widgets/base",
      "model_module_version": "1.2.0",
      "model_name": "LayoutModel",
      "state": {}
     },
     "81dffca1a7a54949918847e5d4003f5e": {
      "model_module": "@jupyter-widgets/base",
      "model_module_version": "1.2.0",
      "model_name": "LayoutModel",
      "state": {}
     },
     "8201452abdca4962993ffb833af28392": {
      "model_module": "@jupyter-widgets/base",
      "model_module_version": "1.2.0",
      "model_name": "LayoutModel",
      "state": {}
     },
     "8293f2ea14df446db6de1ca35da10b80": {
      "model_module": "@jupyter-widgets/controls",
      "model_module_version": "1.5.0",
      "model_name": "HBoxModel",
      "state": {
       "children": [
        "IPY_MODEL_da4984a792634a0fb41b2981e25b6e59",
        "IPY_MODEL_33c163861d8c4fb980f987c8e6038ff9",
        "IPY_MODEL_c0e74920fdd140698af2ebd2ebcde6f4"
       ],
       "layout": "IPY_MODEL_a21654f1707247bc90c50d29ad666945"
      }
     },
     "82ca1362bad14e4c9f7ba64345650aab": {
      "model_module": "@jupyter-widgets/controls",
      "model_module_version": "1.5.0",
      "model_name": "ButtonStyleModel",
      "state": {}
     },
     "82cc22884ca74cd490de6b3ebd3e6f76": {
      "model_module": "@jupyter-widgets/base",
      "model_module_version": "1.2.0",
      "model_name": "LayoutModel",
      "state": {}
     },
     "82e6b24168ee488aab5205ba41408975": {
      "model_module": "@jupyter-widgets/base",
      "model_module_version": "1.2.0",
      "model_name": "LayoutModel",
      "state": {}
     },
     "83361231a40b4795bbc47c942ff057bc": {
      "model_module": "@jupyter-widgets/controls",
      "model_module_version": "1.5.0",
      "model_name": "ButtonModel",
      "state": {
       "description": "Clear",
       "layout": "IPY_MODEL_7b8247d4d68a470c991e2ba88ee1dad0",
       "style": "IPY_MODEL_1921e7fe749241da82f142435a1de7e4"
      }
     },
     "840c0e99052d495f84b69d8c51662511": {
      "model_module": "@jupyter-widgets/controls",
      "model_module_version": "1.5.0",
      "model_name": "ButtonModel",
      "state": {
       "description": "Clear",
       "layout": "IPY_MODEL_4954535d318246d19415862d53d1fe08",
       "style": "IPY_MODEL_fd2ffce66ac94bfaa987bfeb77b055f7"
      }
     },
     "848c690c36274f319c356dce68556a1d": {
      "model_module": "@jupyter-widgets/base",
      "model_module_version": "1.2.0",
      "model_name": "LayoutModel",
      "state": {}
     },
     "84b372a806e34eb9b7eb127d3b3712e3": {
      "model_module": "@jupyter-widgets/controls",
      "model_module_version": "1.5.0",
      "model_name": "ButtonStyleModel",
      "state": {}
     },
     "84ba62afba7e4cd592500d151ae4b091": {
      "model_module": "@jupyter-widgets/controls",
      "model_module_version": "1.5.0",
      "model_name": "ButtonModel",
      "state": {
       "description": "Uf",
       "layout": "IPY_MODEL_25638eaf2e0d4ea9ae1a9d52b3afd235",
       "style": "IPY_MODEL_07f31c8b480141b9a666119356f89345"
      }
     },
     "84d09282211a48118cb869700e4363fa": {
      "model_module": "@jupyter-widgets/base",
      "model_module_version": "1.2.0",
      "model_name": "LayoutModel",
      "state": {}
     },
     "84d515d6e1604beca726ebff3759879f": {
      "buffers": [
       {
        "data": "iVBORw0KGgoAAAANSUhEUgAAAOkAAABUCAYAAABnYxBIAAAABHNCSVQICAgIfAhkiAAAAAlwSFlzAAALEgAACxIB0t1+/AAAADh0RVh0U29mdHdhcmUAbWF0cGxvdGxpYiB2ZXJzaW9uMy4yLjEsIGh0dHA6Ly9tYXRwbG90bGliLm9yZy+j8jraAAAEuklEQVR4nO3bXWhbdRjH8V/OadcXOoZrtxa3OdZ1HbYzlXVjFcTSwV5hiMouhk4o1Wmp6JgITjaZL+Si1BcEccIYFTcna43iRdWptPGiXrQUBr2qW4USibGiFTvnKkm8KE6zN7Ol2XlO9v1c/tPkPCH95p8ccgKpVColAGY5Xg8A4NqIFDCOSAHjiBQwjkgB44gUMI5IAeOIFDCOSAHjiBQwjkgB44gUMI5IAeOIFDCOSAHjiBQwjkgB44gUMI5IAeOIFDCOSAHjiBQwjkgB44gUMI5IAeOIFDCOSAHjiBQwjkgB44gUMK7A6wEwa+/xm3/MNx/O7v7zvvxsbga5TjObtnlyXK+wkwLGESlgHJECxhEpYByRAsYRKWAckQLGESlgXF5Emkwm1dXVpVWrVqm4uFgNDQ2KRCJavXq19uzZ4/V4QFby4hdHbW1tCofDOnjwoBobGzU4OKhdu3ZpcnJS+/bt83q8nDjy1O1qeuhlrWl57OJaKpXS4ccXaNMT76lm/QMeTne55BenlHj78OU3zMxIkgo+7lGgpOQmT+UPvo/0xIkT6u7u1sDAgJqbmyVJLS0tGhkZUTgc1tq1az2ecO5N//KDzk3FtGj53Wnrv/00rpk/f1dl9TqPJrs6Z8tmOVs2p60lI98o0fma3Kc7CPQafB9pKBTS1q1bLwb6j5qaGhUWFioYDHo0We7Ex4cUcFyVL12Ttv7zxGmVLqjU/PJlHk2WueRXXyvxxltyn90rZ2OL1+OY5uvvpNFoVKOjo9q5c+dlt01MTKi+vl5FRUUeTJZb8fEh3VZVq4J5xWnrkxOntXiFvV30Usm+z2cDff45As2Ar3fSaDQqSaqqqkpbP3/+vCKRiLZtm9urJQKBwJw+3n89cyyV8d/Gx4c0FT+jd5+sSFv/68K01u3Yn/HjZPt8Ck/1Xfd9Ep98quSRo3IPvCDnng03dNxcvg7/J5XK/HWaK76OtKJi9p90bGxM27dvv7je2dmpWCymxsZGr0bLqfj3w9rw4CHdee+jaevH99+lSsM7aeJkr5LvH5d76EU56/LvXEGu+DrS6upqBYNBhUIhLVy4UEuWLFFvb6/6+mbf4ec60ly+i2Z6PenUj2d04dyvWh7covnlS9PX/5hSZfX6jI+Z7fO5nutJE8c+ULLnI7mvviSnIbvzBF7sZl7y9XdSx3HU09Oj+vp6tbe3q7W1VRUVFero6JDrunl70qigqFSL7mhIW499N6iy8mUqXbDYo8muLnG0W8nesNzQK1kHeivy9U4qSbW1terv709b2717t+rq6lSSh6f14+NDqlyxXo6b/tLFznxr8qNu6uxZJT88KbmuEvsPKHHJ7c79O+S2tXoym1/4PtIrGR4eVlNTk9dj5MR9j7x+xfWNre/c5EkyE1i58oZOMOFfvv64eyXT09MaGxvLyx8x4NaUdztpWVmZEolLP1QB/pV3OymQb4gUMI5IAeOIFDCOSAHjiBQwjkgB44gUMC6QutUuKQB8hp0UMI5IAeOIFDCOSAHjiBQwjkgB44gUMI5IAeOIFDCOSAHjiBQwjkgB44gUMI5IAeOIFDCOSAHjiBQwjkgB44gUMI5IAeOIFDCOSAHj/gaopAr5wJ6FhgAAAABJRU5ErkJggg==",
        "encoding": "base64",
        "path": [
         "value"
        ]
       }
      ],
      "model_module": "@jupyter-widgets/controls",
      "model_module_version": "1.5.0",
      "model_name": "ImageModel",
      "state": {
       "layout": "IPY_MODEL_921198ea17ad4f759d1927aba6fa17ef",
       "value": {}
      }
     },
     "84eb8ab0d8a54e84a819e05af9c85344": {
      "model_module": "@jupyter-widgets/controls",
      "model_module_version": "1.5.0",
      "model_name": "DescriptionStyleModel",
      "state": {
       "description_width": ""
      }
     },
     "84f29a005d7c46b18b3ed25760bf4a9e": {
      "model_module": "@jupyter-widgets/controls",
      "model_module_version": "1.5.0",
      "model_name": "ButtonStyleModel",
      "state": {}
     },
     "85c9fcb8b6114dcb93d097df81edd55f": {
      "model_module": "@jupyter-widgets/controls",
      "model_module_version": "1.5.0",
      "model_name": "HTMLMathModel",
      "state": {
       "layout": "IPY_MODEL_7bc882b4f87640699fd87876d23dab81",
       "style": "IPY_MODEL_2b50c9edca694a5c9001d1f76a496d35",
       "value": "$$ |000\\rangle = |000\\rangle $$"
      }
     },
     "85d6d279d9e4497085baf82fc314412d": {
      "buffers": [
       {
        "data": "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",
        "encoding": "base64",
        "path": [
         "value"
        ]
       }
      ],
      "model_module": "@jupyter-widgets/controls",
      "model_module_version": "1.5.0",
      "model_name": "ImageModel",
      "state": {
       "layout": "IPY_MODEL_0129e183f4814e33863655debbb40e33",
       "value": {}
      }
     },
     "85ef92331f324be08e2847676bff860e": {
      "model_module": "@jupyter-widgets/controls",
      "model_module_version": "1.5.0",
      "model_name": "ButtonModel",
      "state": {
       "description": "Uf",
       "layout": "IPY_MODEL_05fb3f47c2c14ac2b51df4a949e33c65",
       "style": "IPY_MODEL_142881f61fb74127a9df6e0bbcada00e"
      }
     },
     "8664b13c916c48d7a3bbad50bd00980e": {
      "model_module": "@jupyter-widgets/controls",
      "model_module_version": "1.5.0",
      "model_name": "ButtonModel",
      "state": {
       "description": "Clear",
       "layout": "IPY_MODEL_c240c9a046a54c73bde1aebffda4374f",
       "style": "IPY_MODEL_7100d79efc294b208bde70b90c1707ca"
      }
     },
     "867222366437405f838ab69a80e74645": {
      "model_module": "@jupyter-widgets/controls",
      "model_module_version": "1.5.0",
      "model_name": "ButtonModel",
      "state": {
       "description": "H⊗ⁿ",
       "layout": "IPY_MODEL_204db7f16eb4426ba67bd989d8874e6d",
       "style": "IPY_MODEL_c654d427e3444f6ba3be49996b3989d8"
      }
     },
     "867acad67e224a3f80c6e4f614ba27c3": {
      "model_module": "@jupyter-widgets/base",
      "model_module_version": "1.2.0",
      "model_name": "LayoutModel",
      "state": {}
     },
     "86c6ddc1bb6a40aeb2ecc37392d9e8b0": {
      "model_module": "@jupyter-widgets/controls",
      "model_module_version": "1.5.0",
      "model_name": "ButtonModel",
      "state": {
       "description": "H⊗ⁿ",
       "layout": "IPY_MODEL_46d068d0ecda4984bbad00c2f7ac9a68",
       "style": "IPY_MODEL_39c8375cb0404308bed41f250abce538"
      }
     },
     "8733b236ba084b8fa594929c2722acf8": {
      "model_module": "@jupyter-widgets/controls",
      "model_module_version": "1.5.0",
      "model_name": "ButtonStyleModel",
      "state": {}
     },
     "8737981b4d4d41bbaa087c271bcb4651": {
      "model_module": "@jupyter-widgets/controls",
      "model_module_version": "1.5.0",
      "model_name": "ButtonModel",
      "state": {
       "description": "Uf",
       "layout": "IPY_MODEL_79b45a43aae8425d99690fb2c275e072",
       "style": "IPY_MODEL_971b29738b6a4d5d86264256d63428a7"
      }
     },
     "876ba982f7aa453696d3fc58c2101aa6": {
      "buffers": [
       {
        "data": "iVBORw0KGgoAAAANSUhEUgAAASoAAADMCAYAAADEUO4EAAAABHNCSVQICAgIfAhkiAAAAAlwSFlzAAALEgAACxIB0t1+/AAAADh0RVh0U29mdHdhcmUAbWF0cGxvdGxpYiB2ZXJzaW9uMy4yLjEsIGh0dHA6Ly9tYXRwbG90bGliLm9yZy+j8jraAAAKfUlEQVR4nO3df0jc9x3H8dfdxR8J6czMtUq0CbF6stxyN7yWZjJqHZ29lGyE0hBkOCoOM+OyJY7BOmqILNwf4pjkn3XQdcKa3ajHbZTgTLdFbymXPyJSg/3HmZjKDecMS8bsrjZ4tz9Cb1zT0mTR+77TPh9wf+Rz3t37OHj6+XxR48pms1kBgGFupwcAgE9CqACYR6gAmEeoAJhHqACYR6gAmEeoAJhHqACYR6gAmEeoAJhHqACYR6gAmEeoAJhHqACYR6gAmEeoAJhHqACYR6gAmEeoAJhHqACYR6gAmEeoAJhHqACYR6gAmEeoAJhHqACYR6gAmEeoAJhHqACYR6gAmEeoAJhHqACYR6gAmEeoAJhHqACYR6gAmEeoAJhHqACYR6gAmEeoAJhHqACYR6gAmEeoAJhHqACYR6gAmEeoAJhHqACYR6gAmEeoAJhHqACYR6gAmEeoAJhHqACYR6gAmEeojMlkMhoYGFBdXZ1KS0sVDAaVSCRUX1+vzs5Op8cDHLHB6QGQr6OjQ/F4XL29vQqFQkomk2ptbdXS0pJ6enqcHg9wBKEyJBqNamhoSOPj42pqapIkNTc3a3JyUvF4XA0NDQ5PCDiDo58hkUhE4XA4F6kP1NbWqqioSIFAQJJ09epVNTU1yefzaffu3Tp//rwT4wIFw47KiFQqpenpaR07duy2++bn5+X3+1VSUiJJOnTokA4ePKjDhw8rmUzqwIEDmpubU3Fx8ZrM4nK51uR5cP/KZrNOj5CHHZURqVRKklRZWZm3nk6nlUgkcse+a9eu6c0331RHR4ckqbGxUdu2bdPY2FhhBwYKiB2VEV6vV5I0MzOjZ555Jrfe39+vhYUFhUIhSbd2VxUVFbndlSTt3LlT77zzzprNYu27KUCojKipqVEgEFAkElF5ebmqqqoUi8U0MjIiSblQAZ9FHP2McLvdGh4elt/vV1dXl9rb2+X1etXd3S2Px5O7kL59+3YtLi5qZWUl99i5uTnt2LHDqdGBdefKss83ra2tTVNTU7p06VJuraWlRfv3789dTH/uued09erVNbuYDljD0c+4iYkJ7dmzJ2/tpZde0vPPP6/BwUEVFxcrGo0SKXyqsaMybHl5WWVlZRocHNSRI0ecHgdwDKECYB4X0wGYR6gAmEeoAJhHqACYR6gAmEeoAJhHqACYR6gAmEeoAJhHqACYR6gAmEeoAJhHqACYR6gAmEeoAJhHqACYR6gAmEeoAJhHqACYR6gAmEeoAJhHqACYR6gAmEeoAJhHqACYR6gAmEeoAJhHqACYR6gAmEeoAJhHqACYR6gAmEeojMlkMhoYGFBdXZ1KS0sVDAaVSCRUX1+vzs5Op8cDHLHB6QGQr6OjQ/F4XL29vQqFQkomk2ptbdXS0pJ6enqcHg9wBKEyJBqNamhoSOPj42pqapIkNTc3a3JyUvF4XA0NDQ5PCDiDo58hkUhE4XA4F6kP1NbWqqioSIFAQJJ0/Phx+Xw+ud1uxWIxJ0YFCopQGZFKpTQ9Pa0DBw7cdt/8/Lz8fr9KSkokSeFwWKOjo3riiScKPSbgCI5+RqRSKUlSZWVl3no6nVYikdDevXtza42Njes6i8vlWtfnh33ZbNbpEfKwozLC6/VKkmZmZvLW+/v7tbCwoFAo5MRYgAnsqIyoqalRIBBQJBJReXm5qqqqFIvFNDIyIkkFDZW176YAOyoj3G63hoeH5ff71dXVpfb2dnm9XnV3d8vj8eQupAOfReyoDPH5fBobG8tba2tr065du7Rx40aHpgKcx47KuImJiduOfb29vaqurtaFCxd06NAhVVdX6/Llyw5NCKw/V5YLEmYtLy+rrKxMg4ODOnLkiNPjAI4hVADM4+gHwDxCBcA8QgXAPEIFwDxCBcA8QgXAPEIFwDxCBcA8QgXAPEIFwDxCBcA8QgXAPEIFwDxCBcA8QgXAPEIFwDxCBcA8QgXAPEIFwDxCBcA8QgXAPEIFwDxCBcA8/kt3FNTR04V/zcFv3tvji//4h7UZ5C69/7W9jryuReyoAJhHqACYR6gAmEeoAJhHqACYR6gAmEeoAJhHqACYR6gAmEeojMlkMhoYGFBdXZ1KS0sVDAaVSCRUX1+vzs5Op8cruJe/u03TYy/nrWWzWf3825/T7MXfOTTVx8ucfUM3v/Hs7bfwPt0M71M2nXZ6xPsSv0JjTEdHh+LxuHp7exUKhZRMJtXa2qqlpSX19PQ4PV5BLf/zb3r3xoIe3PGlvPV//eOK3n/v36qoedShyT6e++kWuZ9uyVvLJP6i1f6fyvO9brk2bnRosvsboTIkGo1qaGhI4+PjampqkiQ1NzdrcnJS8XhcDQ0NDk9YWItXLsrl9mhr9Rfz1q/NT2lTWYUe2PqwQ5Pducyf/qzVn52S5wdH5f5qs9Pj3Lc4+hkSiUQUDodzkfpAbW2tioqKFAgEdP36de3bt08+n0/BYFAtLS2anZ11aOL1tXjloj5f6dOG4tK89aX5KT20095u6sMyI6O3IvWjHxKpe8SOyohUKqXp6WkdO3bstvvm5+fl9/tVUlKidDqto0eP6qmnnpIknTp1Su3t7Tp//vyazeJyudbsuT7s+69m7/hrF69c1I3FWf3iO9689Zsry3r06y/c8fPc6/spemPkrh+z+vvXlXn5FXle/LHcX378/3rd9fwcPkk2e+efUyEQKiNSqZQkqbKyMm89nU4rkUho795bf/Jjy5YtuUhJUmNjo/r7+ws3aAEtzk3o8WdP6Atf+Vbe+ukXdqvC8I5q9bWYMr8+Lc+J43I/+tk6rq8Xjn5GeL23dg0zMzN56/39/VpYWFAoFPrIxw0ODmr//v1rOks2m12325268fdZrbx7XTsCT+uBrdW52+rN97TynxuqqHmsYO/nbqy++htlTkflOdl3z5Faz89hLd9zIbCjMqKmpkaBQECRSETl5eWqqqpSLBbTyMitY8dHhaqvr0+zs7M6d+5cocddd4tXLmpDySY9uD2Yt77w16Q2b31Ym8oecmiyj7f6ypAyr5+RJ/ITuf27nB7nU4UdlRFut1vDw8Py+/3q6upSe3u7vF6vuru75fF4FAgE8r7+5MmTOnPmjEZHR7Vp0yaHpl4/i1cuqmLnY3J78r+XLsxeMHnsy16+rMxvX5NWVrT6wou3/RzV6i9/5fSI9zVX1uI+DzltbW2amprSpUuXcmt9fX0aGRnR2bNntWXLFgenu3v8KeI7x58i/h+OfsZNTExoz549uX+//fbbOnHihB555BE9+eSTufW33nrLgemAwiBUhi0vL2tmZkaHDx/Orfn9fpMXO4H1RKgM27x5s1ZXV50eA3AcF9MBmEeoAJhHqACYR6gAmEeoAJhHqACYR6gAmMev0AAwjx0VAPMIFQDzCBUA8wgVAPMIFQDzCBUA8wgVAPMIFQDzCBUA8wgVAPMIFQDzCBUA8wgVAPMIFQDzCBUA8wgVAPMIFQDzCBUA8wgVAPMIFQDzCBUA8wgVAPMIFQDzCBUA8wgVAPMIFQDzCBUA8wgVAPMIFQDzCBUA8wgVAPMIFQDzCBUA8wgVAPMIFQDzCBUA8wgVAPP+CzY6RdF24abKAAAAAElFTkSuQmCC",
        "encoding": "base64",
        "path": [
         "value"
        ]
       }
      ],
      "model_module": "@jupyter-widgets/controls",
      "model_module_version": "1.5.0",
      "model_name": "ImageModel",
      "state": {
       "layout": "IPY_MODEL_bc2479fb05c042099969939934be8e88",
       "value": {}
      }
     },
     "87cf742be21f40798069d59ff720942b": {
      "model_module": "@jupyter-widgets/base",
      "model_module_version": "1.2.0",
      "model_name": "LayoutModel",
      "state": {}
     },
     "885818fc763d471da988ed893bb5d333": {
      "model_module": "@jupyter-widgets/base",
      "model_module_version": "1.2.0",
      "model_name": "LayoutModel",
      "state": {}
     },
     "88d3018a45a04e0494231d92b80bb75e": {
      "model_module": "@jupyter-widgets/controls",
      "model_module_version": "1.5.0",
      "model_name": "HBoxModel",
      "state": {
       "children": [
        "IPY_MODEL_3b8fcb2ff2a844659da048dfa6ca9126",
        "IPY_MODEL_0ad17427f769484abd1d453e0c82743d",
        "IPY_MODEL_f85a32d37a4c40be810c8c8b2bc1ebad"
       ],
       "layout": "IPY_MODEL_26dff6289bd74c5b9a6e5fe6d4431d05"
      }
     },
     "89596cfd1d4c42cf9ded148ee26768d9": {
      "model_module": "@jupyter-widgets/controls",
      "model_module_version": "1.5.0",
      "model_name": "ButtonStyleModel",
      "state": {}
     },
     "89dd97fe06f74e7ab8458337d1131c59": {
      "model_module": "@jupyter-widgets/controls",
      "model_module_version": "1.5.0",
      "model_name": "ButtonModel",
      "state": {
       "description": "H⊗ⁿ",
       "layout": "IPY_MODEL_01de9a45f94f42f982f09f89bad85c44",
       "style": "IPY_MODEL_d0bb8d73d43a49cb8253cd4bfee53de3"
      }
     },
     "8af1badb4faf4e519109169d3b1aadd6": {
      "model_module": "@jupyter-widgets/controls",
      "model_module_version": "1.5.0",
      "model_name": "ButtonModel",
      "state": {
       "description": "Oracle",
       "layout": "IPY_MODEL_1f624e0d25d442a2a53b628510d4625c",
       "style": "IPY_MODEL_84f29a005d7c46b18b3ed25760bf4a9e"
      }
     },
     "8c41650719ec4ea99c3086e1a60a3a43": {
      "buffers": [
       {
        "data": "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",
        "encoding": "base64",
        "path": [
         "value"
        ]
       }
      ],
      "model_module": "@jupyter-widgets/controls",
      "model_module_version": "1.5.0",
      "model_name": "ImageModel",
      "state": {
       "layout": "IPY_MODEL_958e338f19234301bcb1d18367926af3",
       "value": {}
      }
     },
     "8cb8ced58fc34005bd67f3137dc93a6a": {
      "model_module": "@jupyter-widgets/controls",
      "model_module_version": "1.5.0",
      "model_name": "ButtonModel",
      "state": {
       "description": "H⊗ⁿ",
       "layout": "IPY_MODEL_f6e3a0178b5e4c60b63905205d978a39",
       "style": "IPY_MODEL_32046e3fb76b4b1a966cc1a05f341347"
      }
     },
     "8cbcfd72ab2f493f828c02c93df24e92": {
      "model_module": "@jupyter-widgets/controls",
      "model_module_version": "1.5.0",
      "model_name": "HTMLMathModel",
      "state": {
       "layout": "IPY_MODEL_0c39fe0dd4f94af4ad3cc44eda6f1dac",
       "style": "IPY_MODEL_46624a02015c49448f4ca4d56592dc5a",
       "value": "$$ |\\rangle = \\tfrac{1}{\\sqrt{2}}(|0\\rangle -|1\\rangle ) $$"
      }
     },
     "8d01329a27b84c369cc38dab5029003a": {
      "model_module": "@jupyter-widgets/base",
      "model_module_version": "1.2.0",
      "model_name": "LayoutModel",
      "state": {}
     },
     "8d7948f8d9504fefa2093d7c119442f1": {
      "model_module": "@jupyter-widgets/controls",
      "model_module_version": "1.5.0",
      "model_name": "ButtonStyleModel",
      "state": {}
     },
     "8db8c20f0e014f4d9cd176e88fd6652c": {
      "model_module": "@jupyter-widgets/controls",
      "model_module_version": "1.5.0",
      "model_name": "ButtonModel",
      "state": {
       "description": "Oracle",
       "layout": "IPY_MODEL_8119218c1cf0469b92a48282fd7bab24",
       "style": "IPY_MODEL_949e8ac5439c4829894a2684cdabc716"
      }
     },
     "8f4048e055ef40f889d1a47ea9751552": {
      "model_module": "@jupyter-widgets/controls",
      "model_module_version": "1.5.0",
      "model_name": "HBoxModel",
      "state": {
       "children": [
        "IPY_MODEL_8cb8ced58fc34005bd67f3137dc93a6a",
        "IPY_MODEL_56d6ab4a26c54015a6c2e223525fd5cf",
        "IPY_MODEL_83361231a40b4795bbc47c942ff057bc"
       ],
       "layout": "IPY_MODEL_b97cdb5dad674a7fa2a58962418f817b"
      }
     },
     "8ff45194fcd94b42a43aeb30e2551114": {
      "buffers": [
       {
        "data": "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",
        "encoding": "base64",
        "path": [
         "value"
        ]
       }
      ],
      "model_module": "@jupyter-widgets/controls",
      "model_module_version": "1.5.0",
      "model_name": "ImageModel",
      "state": {
       "layout": "IPY_MODEL_cdb458628e21465fa586619fe427f459",
       "value": {}
      }
     },
     "90466404f32542fc9b782bb9177d2252": {
      "model_module": "@jupyter-widgets/controls",
      "model_module_version": "1.5.0",
      "model_name": "DescriptionStyleModel",
      "state": {
       "description_width": ""
      }
     },
     "911cd9909625478b8a3df231945e9e00": {
      "model_module": "@jupyter-widgets/base",
      "model_module_version": "1.2.0",
      "model_name": "LayoutModel",
      "state": {}
     },
     "9139737e64f744af8944ba92277809da": {
      "model_module": "@jupyter-widgets/controls",
      "model_module_version": "1.5.0",
      "model_name": "HBoxModel",
      "state": {
       "children": [
        "IPY_MODEL_89dd97fe06f74e7ab8458337d1131c59",
        "IPY_MODEL_3ebdd3d4ae594b14b0789bab988ba354",
        "IPY_MODEL_8664b13c916c48d7a3bbad50bd00980e"
       ],
       "layout": "IPY_MODEL_0be7b7e1905b433b8ce41810c693b2a5"
      }
     },
     "914366ecf11b462889e85a579cda3894": {
      "buffers": [
       {
        "data": "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",
        "encoding": "base64",
        "path": [
         "value"
        ]
       }
      ],
      "model_module": "@jupyter-widgets/controls",
      "model_module_version": "1.5.0",
      "model_name": "ImageModel",
      "state": {
       "layout": "IPY_MODEL_da9c927902984e0482351f4425677f47",
       "value": {}
      }
     },
     "91e897915fc14eefad87db1b115c3bcd": {
      "model_module": "@jupyter-widgets/base",
      "model_module_version": "1.2.0",
      "model_name": "LayoutModel",
      "state": {}
     },
     "91f9a9fc6ec845a4aa215cf192fd9c01": {
      "model_module": "@jupyter-widgets/controls",
      "model_module_version": "1.5.0",
      "model_name": "ButtonStyleModel",
      "state": {}
     },
     "921198ea17ad4f759d1927aba6fa17ef": {
      "model_module": "@jupyter-widgets/base",
      "model_module_version": "1.2.0",
      "model_name": "LayoutModel",
      "state": {}
     },
     "92c4e68633084c95ab6ccdbae41f71c5": {
      "model_module": "@jupyter-widgets/controls",
      "model_module_version": "1.5.0",
      "model_name": "ButtonStyleModel",
      "state": {}
     },
     "934018330e094a87bd80232977a4663b": {
      "model_module": "@jupyter-widgets/controls",
      "model_module_version": "1.5.0",
      "model_name": "ButtonModel",
      "state": {
       "description": "H⊗ⁿ",
       "layout": "IPY_MODEL_5bc15ee7548c4588a97d3a4ec1f0ba72",
       "style": "IPY_MODEL_3efcffa1aee54ef39c311a8289df45ff"
      }
     },
     "9340c8219b934c7ba389520dfbaa15b2": {
      "model_module": "@jupyter-widgets/controls",
      "model_module_version": "1.5.0",
      "model_name": "HBoxModel",
      "state": {
       "children": [
        "IPY_MODEL_867222366437405f838ab69a80e74645",
        "IPY_MODEL_654118146b3f4f3bacaa58f8c4e3d45e",
        "IPY_MODEL_a1c4276ac6cf43cf9265324c3bdf26ee"
       ],
       "layout": "IPY_MODEL_50ad69a15e0e474e92c5f05c2b7aae94"
      }
     },
     "93a47e7529284aefa522564e16766dc9": {
      "model_module": "@jupyter-widgets/base",
      "model_module_version": "1.2.0",
      "model_name": "LayoutModel",
      "state": {}
     },
     "942f9716d8b64a9683f1396969dbfc93": {
      "model_module": "@jupyter-widgets/controls",
      "model_module_version": "1.5.0",
      "model_name": "ButtonStyleModel",
      "state": {}
     },
     "9449e3b496f44e56923ccb01d98fe77b": {
      "model_module": "@jupyter-widgets/controls",
      "model_module_version": "1.5.0",
      "model_name": "ButtonModel",
      "state": {
       "description": "Clear",
       "layout": "IPY_MODEL_9e769e9229dc42b0a7f82260dcd40b33",
       "style": "IPY_MODEL_91f9a9fc6ec845a4aa215cf192fd9c01"
      }
     },
     "945df52bc2224972a35ad31d687a2b70": {
      "buffers": [
       {
        "data": "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",
        "encoding": "base64",
        "path": [
         "value"
        ]
       }
      ],
      "model_module": "@jupyter-widgets/controls",
      "model_module_version": "1.5.0",
      "model_name": "ImageModel",
      "state": {
       "layout": "IPY_MODEL_e2eb2f9d87c14c859e1853651a0b540a",
       "value": {}
      }
     },
     "94837ec72dd545a7a57028f5efd632b1": {
      "model_module": "@jupyter-widgets/base",
      "model_module_version": "1.2.0",
      "model_name": "LayoutModel",
      "state": {}
     },
     "949e8ac5439c4829894a2684cdabc716": {
      "model_module": "@jupyter-widgets/controls",
      "model_module_version": "1.5.0",
      "model_name": "ButtonStyleModel",
      "state": {}
     },
     "94dc202befa845bcb93ba56f71e7fb33": {
      "model_module": "@jupyter-widgets/controls",
      "model_module_version": "1.5.0",
      "model_name": "ButtonModel",
      "state": {
       "description": "Clear",
       "layout": "IPY_MODEL_8065ad4427064f2094e53866447883ab",
       "style": "IPY_MODEL_14694d777a91417c84abf520466e7ee1"
      }
     },
     "954f42b9cf994a37bb3a87f36879d678": {
      "model_module": "@jupyter-widgets/base",
      "model_module_version": "1.2.0",
      "model_name": "LayoutModel",
      "state": {}
     },
     "9572eb35d2744aafb850e01218d17967": {
      "model_module": "@jupyter-widgets/base",
      "model_module_version": "1.2.0",
      "model_name": "LayoutModel",
      "state": {}
     },
     "958e338f19234301bcb1d18367926af3": {
      "model_module": "@jupyter-widgets/base",
      "model_module_version": "1.2.0",
      "model_name": "LayoutModel",
      "state": {}
     },
     "96375409a3f54d6da060ae0c3d5551aa": {
      "model_module": "@jupyter-widgets/controls",
      "model_module_version": "1.5.0",
      "model_name": "ButtonModel",
      "state": {
       "description": "Clear",
       "layout": "IPY_MODEL_b4df08e1a81c437dae1d6a2be9bf65a0",
       "style": "IPY_MODEL_343a54dd371645e2a844c480998f4502"
      }
     },
     "967b49d4a94c4aa885b7178572aa7c52": {
      "model_module": "@jupyter-widgets/controls",
      "model_module_version": "1.5.0",
      "model_name": "ButtonModel",
      "state": {
       "description": "H⊗ⁿ",
       "layout": "IPY_MODEL_b3061c6078954735a6cf141d4412b384",
       "style": "IPY_MODEL_2bb215d8e21c480e9bb31ecddbc2c5cf"
      }
     },
     "96def88564d84d40ad481d0cc9dc3c0e": {
      "model_module": "@jupyter-widgets/controls",
      "model_module_version": "1.5.0",
      "model_name": "DescriptionStyleModel",
      "state": {
       "description_width": ""
      }
     },
     "971b29738b6a4d5d86264256d63428a7": {
      "model_module": "@jupyter-widgets/controls",
      "model_module_version": "1.5.0",
      "model_name": "ButtonStyleModel",
      "state": {}
     },
     "9768686f616a497787f99ff9d8db953f": {
      "model_module": "@jupyter-widgets/controls",
      "model_module_version": "1.5.0",
      "model_name": "ButtonStyleModel",
      "state": {}
     },
     "97cbaccbecbb45f3a17f9e36543ad3a3": {
      "model_module": "@jupyter-widgets/base",
      "model_module_version": "1.2.0",
      "model_name": "LayoutModel",
      "state": {}
     },
     "9850184ed202442e9668d7b8bfdb1ae6": {
      "model_module": "@jupyter-widgets/controls",
      "model_module_version": "1.5.0",
      "model_name": "HTMLMathModel",
      "state": {
       "layout": "IPY_MODEL_02884495b8614da7b97fc8719b8dbd71",
       "style": "IPY_MODEL_a5289e70ebd54c92842fc1bc7b62e982",
       "value": "$$ |00\\rangle = |00\\rangle $$"
      }
     },
     "98bf0e4e6abc47c8855f6dce25ba2112": {
      "model_module": "@jupyter-widgets/controls",
      "model_module_version": "1.5.0",
      "model_name": "ButtonModel",
      "state": {
       "description": "Clear",
       "layout": "IPY_MODEL_b12fbd9f312d4085bd15ca6f1fa38404",
       "style": "IPY_MODEL_72e719eb024a40c0984309d82403c845"
      }
     },
     "9945a6c33d2f423d9923110f57ba3041": {
      "model_module": "@jupyter-widgets/controls",
      "model_module_version": "1.5.0",
      "model_name": "ButtonModel",
      "state": {
       "description": "H⊗ⁿ",
       "layout": "IPY_MODEL_9dbd972461d24dd49df029af4944b3ac",
       "style": "IPY_MODEL_dbe53cad437340ebb9d003cc0bc3f575"
      }
     },
     "9cad984d83cc467eb5807374a9d8f23c": {
      "model_module": "@jupyter-widgets/controls",
      "model_module_version": "1.5.0",
      "model_name": "DescriptionStyleModel",
      "state": {
       "description_width": ""
      }
     },
     "9d8a167296d94b6280e976551014cefb": {
      "model_module": "@jupyter-widgets/base",
      "model_module_version": "1.2.0",
      "model_name": "LayoutModel",
      "state": {}
     },
     "9dbd972461d24dd49df029af4944b3ac": {
      "model_module": "@jupyter-widgets/base",
      "model_module_version": "1.2.0",
      "model_name": "LayoutModel",
      "state": {}
     },
     "9e346c7420e5454e862eb55dc184ffab": {
      "model_module": "@jupyter-widgets/controls",
      "model_module_version": "1.5.0",
      "model_name": "ButtonStyleModel",
      "state": {}
     },
     "9e769e9229dc42b0a7f82260dcd40b33": {
      "model_module": "@jupyter-widgets/base",
      "model_module_version": "1.2.0",
      "model_name": "LayoutModel",
      "state": {}
     },
     "9f4adb81ef2d4cc19c52bf1c3362fbbd": {
      "model_module": "@jupyter-widgets/controls",
      "model_module_version": "1.5.0",
      "model_name": "ButtonStyleModel",
      "state": {}
     },
     "a0e8ab0b187b496795bc041682770d77": {
      "model_module": "@jupyter-widgets/controls",
      "model_module_version": "1.5.0",
      "model_name": "ButtonModel",
      "state": {
       "description": "Uf",
       "layout": "IPY_MODEL_954f42b9cf994a37bb3a87f36879d678",
       "style": "IPY_MODEL_37df40e31ead442ea37e1da8a44ee3bd"
      }
     },
     "a0fed6e5f10d4088aaf54934a2a11807": {
      "model_module": "@jupyter-widgets/controls",
      "model_module_version": "1.5.0",
      "model_name": "ButtonStyleModel",
      "state": {}
     },
     "a18a11170d5f416bb2cc9d04dae77579": {
      "model_module": "@jupyter-widgets/controls",
      "model_module_version": "1.5.0",
      "model_name": "ButtonStyleModel",
      "state": {}
     },
     "a1c4276ac6cf43cf9265324c3bdf26ee": {
      "model_module": "@jupyter-widgets/controls",
      "model_module_version": "1.5.0",
      "model_name": "ButtonModel",
      "state": {
       "description": "Clear",
       "layout": "IPY_MODEL_12a7559640614301a22d28268260a98d",
       "style": "IPY_MODEL_82ca1362bad14e4c9f7ba64345650aab"
      }
     },
     "a1f66f5858eb4cedb25038f7092319b7": {
      "model_module": "@jupyter-widgets/controls",
      "model_module_version": "1.5.0",
      "model_name": "ButtonModel",
      "state": {
       "description": "H⊗ⁿ",
       "layout": "IPY_MODEL_284ed4ad04374b53a2d5897e6a146595",
       "style": "IPY_MODEL_0095cfac751b4f7a9085d5cf50cf0ea1"
      }
     },
     "a203bb07bdd34f7880d407f23c4ce3a4": {
      "model_module": "@jupyter-widgets/controls",
      "model_module_version": "1.5.0",
      "model_name": "HBoxModel",
      "state": {
       "children": [
        "IPY_MODEL_d3e7d5f803fc45cc88962a9be3dc91c2",
        "IPY_MODEL_e102e1bfbca54ed093055ce51510a34e",
        "IPY_MODEL_2aced3cbdc7048fd8938a3a2941bc89a"
       ],
       "layout": "IPY_MODEL_a567ac2e71be46629c8b029d66080d02"
      }
     },
     "a21383f253dd4586998794ae2d8ec10c": {
      "model_module": "@jupyter-widgets/base",
      "model_module_version": "1.2.0",
      "model_name": "LayoutModel",
      "state": {}
     },
     "a21654f1707247bc90c50d29ad666945": {
      "model_module": "@jupyter-widgets/base",
      "model_module_version": "1.2.0",
      "model_name": "LayoutModel",
      "state": {}
     },
     "a3869b5af34746859b6f962102b2a3ad": {
      "model_module": "@jupyter-widgets/controls",
      "model_module_version": "1.5.0",
      "model_name": "HTMLMathModel",
      "state": {
       "layout": "IPY_MODEL_a6df8d2aff8441c193a1fcf0563f3951",
       "style": "IPY_MODEL_90466404f32542fc9b782bb9177d2252",
       "value": "$$ H^{\\otimes n}U_fH^{\\otimes n}|00000\\rangle = |00011\\rangle  $$"
      }
     },
     "a4cf4619289d454497db019590053af9": {
      "model_module": "@jupyter-widgets/controls",
      "model_module_version": "1.5.0",
      "model_name": "ButtonStyleModel",
      "state": {}
     },
     "a4eef3cc7bb241e5b203157285701486": {
      "model_module": "@jupyter-widgets/base",
      "model_module_version": "1.2.0",
      "model_name": "LayoutModel",
      "state": {}
     },
     "a51a3ef29c0840da9e6bed0efb422de7": {
      "model_module": "@jupyter-widgets/controls",
      "model_module_version": "1.5.0",
      "model_name": "HTMLMathModel",
      "state": {
       "layout": "IPY_MODEL_52331fff5adf4c0a812138139bbba79e",
       "style": "IPY_MODEL_d438ba012e46463caa086bd624d0c127",
       "value": "$$ H^{\\otimes n}U_fH^{\\otimes n}|00\\rangle = |11\\rangle  $$"
      }
     },
     "a5289e70ebd54c92842fc1bc7b62e982": {
      "model_module": "@jupyter-widgets/controls",
      "model_module_version": "1.5.0",
      "model_name": "DescriptionStyleModel",
      "state": {
       "description_width": ""
      }
     },
     "a5326492c179415d97e0b1423b6a9ae8": {
      "model_module": "@jupyter-widgets/base",
      "model_module_version": "1.2.0",
      "model_name": "LayoutModel",
      "state": {}
     },
     "a567ac2e71be46629c8b029d66080d02": {
      "model_module": "@jupyter-widgets/base",
      "model_module_version": "1.2.0",
      "model_name": "LayoutModel",
      "state": {}
     },
     "a5e488a1f61a4beb98d50cc2118246b8": {
      "model_module": "@jupyter-widgets/controls",
      "model_module_version": "1.5.0",
      "model_name": "ButtonModel",
      "state": {
       "description": "H⊗ⁿ",
       "layout": "IPY_MODEL_c081cb5c13b64e54b2770ef388e7a272",
       "style": "IPY_MODEL_5050ec04c89b4bc6be46ebb23391b8be"
      }
     },
     "a67a100069554897b682857c56296a38": {
      "model_module": "@jupyter-widgets/controls",
      "model_module_version": "1.5.0",
      "model_name": "ButtonModel",
      "state": {
       "description": "H⊗ⁿ",
       "layout": "IPY_MODEL_220c132b36f34b64ae2db892c168d685",
       "style": "IPY_MODEL_2e46b534e71b44e5b6d5213d90a9dfdf"
      }
     },
     "a6c0028ee2b34f3a990aef4bce7c9a51": {
      "model_module": "@jupyter-widgets/controls",
      "model_module_version": "1.5.0",
      "model_name": "DescriptionStyleModel",
      "state": {
       "description_width": ""
      }
     },
     "a6df8d2aff8441c193a1fcf0563f3951": {
      "model_module": "@jupyter-widgets/base",
      "model_module_version": "1.2.0",
      "model_name": "LayoutModel",
      "state": {}
     },
     "a86586bccd7441858ede4d152061727e": {
      "model_module": "@jupyter-widgets/base",
      "model_module_version": "1.2.0",
      "model_name": "LayoutModel",
      "state": {}
     },
     "a8a1b743df6a4d3988bb856fcd0f78d4": {
      "buffers": [
       {
        "data": "iVBORw0KGgoAAAANSUhEUgAAASoAAAFFCAYAAABbmKCgAAAABHNCSVQICAgIfAhkiAAAAAlwSFlzAAALEgAACxIB0t1+/AAAADh0RVh0U29mdHdhcmUAbWF0cGxvdGxpYiB2ZXJzaW9uMy4yLjEsIGh0dHA6Ly9tYXRwbG90bGliLm9yZy+j8jraAAAQKUlEQVR4nO3df0zbd37H8ZdtCFAlSkZ8Byq5pCH8UOLUNLhtWDTV4dRLoMpp2RqUoo21lI0MaLaEaVJaHdVlrfwHohuaNDWtThdOS8d0uN7aP1h77QLuD5o2iJaI/uOGNEWePEZ/qs5YsmLvjyyeXNo1bcHfd5Ln47+8jc0bhTz9+X7zy5VOp9MCAMPcTi8AAN+EUAEwj1ABMI9QATCPUAEwj1ABMI9QATCPUAEwj1ABMI9QATCPUAEwj1ABMI9QATCPUAEwj1ABMI9QATCPUAEwj1ABMI9QATCPUAEwj1ABMI9QATCPUAEwj1ABMI9QATCPUAEwj1ABMI9QATCPUAEwj1ABMI9QATCPUAEwj1ABMI9QATCPUAEwj1ABMI9QATCPUAEwj1ABMI9QATCPUAEwj1ABMI9QATCPUAEwj1ABMI9QATCPUAEwj1ABMI9QATCPUAEwj1ABMI9QATCPUAEwj1ABMI9QATCPUAEwj1ABMI9QATCPUAEwj1ABMI9QATCPUAEwj1ABMI9QATCPUAEwj1ABMI9QATCPUAEwj1AZk0ql1NfXp8rKShUWFqqmpkbRaFTV1dVqb293ej3AEXlOL4BsbW1tikQi6unpUSAQ0NjYmJqbmzU3N6fu7m6n1wMcQagMGRwc1MDAgEZHRxUMBiVJ9fX1mpiYUCQSUW1trcMbAs7g0s+QUCikhoaGTKSuqKioUH5+vvx+vyTp/PnzCgaDqqqq0q233qpXX33ViXWBnCFURsTjcU1NTampqWnRYzMzM/L5fCooKJAkHThwQPv371csFtNTTz2l++67T5cuXcr1ykDOcOlnRDwelySVlpZmzefn5xWNRtXY2ChJ+vDDD/Xaa6/p+eeflyTt2LFDN998s0ZGRrR79+4l2cXlci3J6+DalU6nnV4hCycqI7xeryQpFotlzXt7e5VIJBQIBCRdPl2VlJRkTleStHHjRn3wwQe5WxbIMU5URpSXl8vv9ysUCqm4uFhlZWUKh8MaHh6WpEyocsHauynAicoIt9utoaEh+Xw+dXR0qLW1VV6vV11dXfJ4PJkb6evXr9fs7KwuXryYee7777+vDRs2OLU6sOxcad4+TWtpadHk5KTOnDmTme3atUt79+5VZ2enxsbGtG/fPp0/f14rVqxwcFNg+XDpZ9z4+Ljq6uqyZseOHdMDDzyg/v5+rVixQoODg0QK1zVOVIYlk0mtXr1a/f39OnjwoNPrAI4hVADM42Y6APMIFQDzCBUA8wgVAPMIFQDzCBUA8wgVAPMIFQDzCBUA8wgVAPMIFQDzCBUA8wgVAPMIFQDzCBUA8wgVAPMIFQDzCBUA8wgVAPMIFQDzCBUA8wgVAPMIFQDzCBUA8wgVAPMIFQDzCBUA8wgVAPMIFQDzCBUA8wgVAPMIFQDzCBUA8wiVMalUSn19faqsrFRhYaFqamoUjUZVXV2t9vZ2p9cDHJHn9ALI1tbWpkgkop6eHgUCAY2Njam5uVlzc3Pq7u52ej3AEYTKkMHBQQ0MDGh0dFTBYFCSVF9fr4mJCUUiEdXW1jq8IeAMLv0MCYVCamhoyETqioqKCuXn58vv90uSHn30UVVVVcntdiscDjuxKpBThMqIeDyuqakpNTU1LXpsZmZGPp9PBQUFkqSGhga98MILuuuuu3K9JuAILv2MiMfjkqTS0tKs+fz8vKLRqBobGzOzHTt2LOsuLpdrWV8f9qXTaadXyMKJygiv1ytJisViWfPe3l4lEgkFAgEn1gJM4ERlRHl5ufx+v0KhkIqLi1VWVqZwOKzh4WFJymmorL2bApyojHC73RoaGpLP51NHR4daW1vl9XrV1dUlj8eTuZEO3Ig4URlSVVWlkZGRrFlLS4u2bNmioqIih7YCnMeJyrjx8fFFl309PT1at26d3njjDR04cEDr1q3T9PS0QxsCy8+V5oaEWclkUqtXr1Z/f78OHjzo9DqAYwgVAPO49ANgHqECYB6hAmAeoQJgHqECYB6hAmAeoQJgHqECYB6hAmAeoQJgHqECYB6hAmAeoQJgHqECYB6hAmAeoQJgHqECYB6hAmAeoQJgHqECYB6hAmAeoQJgHqECYB6hAmAeoQJgHqECYB6hAmAeoQJgHqECYB6hAmAeoQJgHqECYB6hMiaVSqmvr0+VlZUqLCxUTU2NotGoqqur1d7e7vR6gCPynF4A2dra2hSJRNTT06NAIKCxsTE1Nzdrbm5O3d3dTq8HOIJQGTI4OKiBgQGNjo4qGAxKkurr6zUxMaFIJKLa2lqHNwScwaWfIaFQSA0NDZlIXVFRUaH8/Hz5/X598skn2rNnj6qqqlRTU6Ndu3bp7NmzDm0M5AahMiIej2tqakpNTU2LHpuZmZHP51NBQYFcLpcOHTqkWCymyclJ7dmzR62trQ5sDOQOl35GxONxSVJpaWnWfH5+XtFoVI2NjZKkNWvW6O677848vmPHDvX29i7pLi6Xa0lfD9eedDrt9ApZOFEZ4fV6JUmxWCxr3tvbq0QioUAg8JXP6+/v1969e5d9P8BJnKiMKC8vl9/vVygUUnFxscrKyhQOhzU8PCxJXxmqo0eP6uzZszp58uSS7mLt3RRwpfmuNCMWi+nAgQN66623tHbtWt1///1atWqVHnnkEX3++ecqKirKfOzjjz+u5557Ti+99JLWrFnj4NbA8iNUxrW0tGhyclJnzpzJzI4eParh4WG9+OKLRAo3BEJl3ObNm1VXV6fjx49Lkt59911t3bpVmzZt0sqVKzMf98477zi1IrDsuEdlWDKZVCwWU2dnZ2bm8/m4h4QbDicqAObxxxMAmEeoAJhHqACYR6gAmEeoAJhHqACYR6gAmEeoAJhHqACYR6gAmEeoAJhHqACYR6gAmEeoAJhHqACYR6gAmEeoAJhHqACYR6gAmEeoAJhHqACYR6gAmEeoAJhHqACYR6gAmEeoAJhHqACYR6gAmEeoAJhHqACYR6gAmEeoAJhHqACYR6iMSaVS6uvrU2VlpQoLC1VTU6NoNKrq6mq1t7c7vR7giDynF0C2trY2RSIR9fT0KBAIaGxsTM3NzZqbm1N3d7fT6wGOIFSGDA4OamBgQKOjowoGg5Kk+vp6TUxMKBKJqLa21uENAWdw6WdIKBRSQ0NDJlJXVFRUKD8/X36/X5K0d+9e+f1+bdu2TXfeeadefvllJ9YFcoYTlRHxeFxTU1M6fPjwosdmZmbk8/lUUFAgSRoYGNCaNWskSW+//bZ27typjz/+WB6PJ6c7A7lCqIyIx+OSpNLS0qz5/Py8otGoGhsbM7MrkZKkzz77TC6XS+l0esl2cblcS/ZauDYt5ffTUuDSzwiv1ytJisViWfPe3l4lEgkFAoGseVdXl8rLy3Xvvffq2WefVV4e7zm4frnS1tJ5g0qlUtq2bZsSiYT6+vpUVlamcDis4eFhzczM6NSpU9q+ffui50WjUR0+fFivvPKKVq5c6cDmwPLjRGWE2+3W0NCQfD6fOjo61NraKq/Xq66uLnk8nsyN9C8LBoNyu916/fXXc7wxkDtcLxhSVVWlkZGRrFlLS4u2bNmioqIiSVIymdRHH32kDRs2SLp8M316elqbN2/O+b5ArhAq48bHx1VXV5f58YULF7R//34lk0nl5eWpsLBQJ06c0Pr16x3cElhehMqwZDKpWCymzs7OzKykpESnTp1ycCsg97iZDsA8bqYDMI9QATCPUAEwj1ABMI9QATCPUAEwj1ABMI9QATCPUAEwj1ABMI9QATCPUAEwj1ABMI9QATCPUAEwj1ABMI9QATCPUAEwj1ABMI9QATCPUAEwj1ABMI9QATCP/4AUOXXomdx/zv4/+H7PX/HSvyzNIt/SpZ80OvJ5LeJEBcA8QgXAPEIFwDxCBcA8QgXAPEIFwDxCBcA8QgXAPEJlTCqVUl9fnyorK1VYWKiamhpFo1FVV1ervb3d6fUAR/An041pa2tTJBJRT0+PAoGAxsbG1NzcrLm5OXV3dzu9Xs794qGbVXfvX2lr/R9nZul0Wsf+ZLV+cuBXqrjj9xzcbrHUi7/Rwt8dW/zApUuSpLx/GpKrqCjHW137CJUhg4ODGhgY0OjoqILBoCSpvr5eExMTikQiqq2tdXjD3Ep+/G+68GlCP9hwW9b8s/84p0v/9blKym93aLOv5969S+7du7JmqegrWuh9Qp4/6yJS3xGXfoaEQiE1NDRkInVFRUWF8vPz5ff7s+ZPP/20XC6XwuFwLtfMmdlzp+Vye7R23das+Yczk7ppdYlWrf2RQ5tdvdTL/3o5Un9xaFHAcPUIlRHxeFxTU1Nqampa9NjMzIx8Pp8KCgoys/fee0/Hjx9XXV1dLtfMqdlzp/VbpVXKW1GYNZ+bmdQPN9o7TX1ZavgFLfzN38pz5C/l/nG90+tc07j0MyIej0uSSktLs+bz8/OKRqNqbPy/v0n/xRdf6MEHH9STTz6pQ4cOLfkuLpdryV/zij8/kb7qj509d1qfzp7VU3/qzZr/98Wkbv/pw1f9Ot/368n/zfC3fs7CPz+v1C9+Kc/PHpH7t7d/p8+7nD8P3ySdvvqfp1wgVEZ4vZd/McZiMd1zzz2ZeW9vrxKJhAKBQGb22GOPqbGxUbfddtui17mezL4/ru2//3Nt/p0/ypo/8/CtKjF8olr4dVipv39Gnp8/KvftN9Z9xeVCqIwoLy+X3+9XKBRScXGxysrKFA6HNTx8+d38SqjefPNNnTx5UqOjo8u2y3K+m17tv0f16b+f1cULn2iDf7dWrV2XPf/PT1VSfsdVf87v+/V8m3+PauHEPyg19Kw8jx+Vu8b/zU/4f1g71TiJe1RGuN1uDQ0NyefzqaOjQ62trfJ6verq6pLH48ncSB8ZGdH09LQ2bdqkW265RadOnVJnZ6eeeOIJh7+CpTV77rTyCm7SD9bXZM0T741p5dof6abVP3Ros6+38MsBpcIReUKPfe9IIRsnKkOqqqo0MjKSNWtpadGWLVtU9L+/rX3kyBEdOXIk8/jOnTv10EMPad++fTnddbnNnjutko13yO3J/hZNnH3D5GVfenpaqX/8teTxaOHhn2nhS4+7f/en8rS1OrLb9YBQGTc+Pn5d/87e17nrD//6K+c/bn0yx5tcHdemTd/ppjuuDqEyLJlMKhaLqbOz82s/ZjnvVQFWECrDVq5cqYWFL19EADcebqYDMI9QATCPUAEwj1ABMI9QATCPUAEwj1ABMI9QATDPleavaAMwjhMVAPMIFQDzCBUA8wgVAPMIFQDzCBUA8wgVAPMIFQDzCBUA8wgVAPMIFQDzCBUA8wgVAPMIFQDzCBUA8wgVAPMIFQDzCBUA8wgVAPMIFQDzCBUA8wgVAPMIFQDzCBUA8wgVAPMIFQDzCBUA8wgVAPMIFQDzCBUA8wgVAPMIFQDzCBUA8wgVAPMIFQDzCBUA8wgVAPMIFQDzCBUA8wgVAPMIFQDzCBUA8wgVAPMIFQDzCBUA8wgVAPMIFQDzCBUA8wgVAPMIFQDzCBUA8wgVAPP+B5YCupdyr6iqAAAAAElFTkSuQmCC",
        "encoding": "base64",
        "path": [
         "value"
        ]
       }
      ],
      "model_module": "@jupyter-widgets/controls",
      "model_module_version": "1.5.0",
      "model_name": "ImageModel",
      "state": {
       "layout": "IPY_MODEL_a86586bccd7441858ede4d152061727e",
       "value": {}
      }
     },
     "a915eca7ceb741e08236bd65ab859591": {
      "model_module": "@jupyter-widgets/base",
      "model_module_version": "1.2.0",
      "model_name": "LayoutModel",
      "state": {}
     },
     "aaa1173bf1a94a17a8672a5ee3eda497": {
      "model_module": "@jupyter-widgets/controls",
      "model_module_version": "1.5.0",
      "model_name": "ButtonModel",
      "state": {
       "description": "H⊗ⁿ",
       "layout": "IPY_MODEL_3176d1c93a1e4d799049cbe1cd9ef6dd",
       "style": "IPY_MODEL_5782ca8518904a55b988e2603ecd376d"
      }
     },
     "aafcb6d119c84f5eb9a804d20b083887": {
      "model_module": "@jupyter-widgets/controls",
      "model_module_version": "1.5.0",
      "model_name": "ButtonModel",
      "state": {
       "description": "Clear",
       "layout": "IPY_MODEL_112314ce38e949fc88790251472fc3be",
       "style": "IPY_MODEL_e3fb25e0437b43cca99ca8ea3d642d03"
      }
     },
     "ab83d100e0f445f992a4f278d9dc359c": {
      "model_module": "@jupyter-widgets/controls",
      "model_module_version": "1.5.0",
      "model_name": "ButtonStyleModel",
      "state": {}
     },
     "ab98ae13a67747c19b18185ba76eb04e": {
      "model_module": "@jupyter-widgets/controls",
      "model_module_version": "1.5.0",
      "model_name": "ButtonModel",
      "state": {
       "description": "Uf",
       "layout": "IPY_MODEL_3354780cbeb944ca8d38cd8b3c82ca35",
       "style": "IPY_MODEL_0c8e1fe6c76e40c2a2d2f73b868183f1"
      }
     },
     "ac29b3dd16704c37bf11d44a4c047273": {
      "model_module": "@jupyter-widgets/controls",
      "model_module_version": "1.5.0",
      "model_name": "ButtonModel",
      "state": {
       "description": "H⊗ⁿ",
       "layout": "IPY_MODEL_94837ec72dd545a7a57028f5efd632b1",
       "style": "IPY_MODEL_73ad5ad5e70943b58128e1fd316eab49"
      }
     },
     "aed44350396047e08a1611a90498874b": {
      "model_module": "@jupyter-widgets/controls",
      "model_module_version": "1.5.0",
      "model_name": "DescriptionStyleModel",
      "state": {
       "description_width": ""
      }
     },
     "afcf2d09ebd94c77a0eab04e59510afd": {
      "model_module": "@jupyter-widgets/controls",
      "model_module_version": "1.5.0",
      "model_name": "ButtonStyleModel",
      "state": {}
     },
     "afe97bc6d0fb439a9852e29118e05c75": {
      "model_module": "@jupyter-widgets/controls",
      "model_module_version": "1.5.0",
      "model_name": "ButtonStyleModel",
      "state": {}
     },
     "b07c716086074fffa8cf694b77996a31": {
      "model_module": "@jupyter-widgets/controls",
      "model_module_version": "1.5.0",
      "model_name": "DescriptionStyleModel",
      "state": {
       "description_width": ""
      }
     },
     "b12fbd9f312d4085bd15ca6f1fa38404": {
      "model_module": "@jupyter-widgets/base",
      "model_module_version": "1.2.0",
      "model_name": "LayoutModel",
      "state": {}
     },
     "b1cebd08524e44a99908e063509e02fe": {
      "buffers": [
       {
        "data": "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",
        "encoding": "base64",
        "path": [
         "value"
        ]
       }
      ],
      "model_module": "@jupyter-widgets/controls",
      "model_module_version": "1.5.0",
      "model_name": "ImageModel",
      "state": {
       "layout": "IPY_MODEL_29204979d5ca4836b0583146dd05e226",
       "value": {}
      }
     },
     "b1dde016faf24529a9cd647f8dc0fc7f": {
      "model_module": "@jupyter-widgets/controls",
      "model_module_version": "1.5.0",
      "model_name": "DescriptionStyleModel",
      "state": {
       "description_width": ""
      }
     },
     "b235f7d854d844b294c80921211230a4": {
      "model_module": "@jupyter-widgets/controls",
      "model_module_version": "1.5.0",
      "model_name": "DescriptionStyleModel",
      "state": {
       "description_width": ""
      }
     },
     "b280597ceebb4da5a4d3e4ad87b9efe4": {
      "buffers": [
       {
        "data": "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",
        "encoding": "base64",
        "path": [
         "value"
        ]
       }
      ],
      "model_module": "@jupyter-widgets/controls",
      "model_module_version": "1.5.0",
      "model_name": "ImageModel",
      "state": {
       "layout": "IPY_MODEL_93a47e7529284aefa522564e16766dc9",
       "value": {}
      }
     },
     "b2f2e6eb3e9f404e80ee080b9fea73d7": {
      "model_module": "@jupyter-widgets/controls",
      "model_module_version": "1.5.0",
      "model_name": "ButtonStyleModel",
      "state": {}
     },
     "b3061c6078954735a6cf141d4412b384": {
      "model_module": "@jupyter-widgets/base",
      "model_module_version": "1.2.0",
      "model_name": "LayoutModel",
      "state": {}
     },
     "b44c1aefe1aa45f2afb256bba7b26403": {
      "model_module": "@jupyter-widgets/base",
      "model_module_version": "1.2.0",
      "model_name": "LayoutModel",
      "state": {}
     },
     "b4620cf268a243b087371640001f9cbd": {
      "model_module": "@jupyter-widgets/controls",
      "model_module_version": "1.5.0",
      "model_name": "HTMLMathModel",
      "state": {
       "layout": "IPY_MODEL_d22529518c70426d868c1d3e505329a3",
       "style": "IPY_MODEL_0a9954d2dfe94ef080e8769e7ed59b6b",
       "value": "$$ |000\\rangle = |000\\rangle $$"
      }
     },
     "b4df08e1a81c437dae1d6a2be9bf65a0": {
      "model_module": "@jupyter-widgets/base",
      "model_module_version": "1.2.0",
      "model_name": "LayoutModel",
      "state": {}
     },
     "b4e0e2ad3df64cd58d3d7919fd91de59": {
      "model_module": "@jupyter-widgets/controls",
      "model_module_version": "1.5.0",
      "model_name": "ButtonStyleModel",
      "state": {}
     },
     "b4f0343742a542e9900cdc1777e57873": {
      "model_module": "@jupyter-widgets/controls",
      "model_module_version": "1.5.0",
      "model_name": "ButtonStyleModel",
      "state": {}
     },
     "b6026b790c9c4f32a4aa954c3a975814": {
      "model_module": "@jupyter-widgets/base",
      "model_module_version": "1.2.0",
      "model_name": "LayoutModel",
      "state": {}
     },
     "b6a41bcf05fd423b86f6b1ae6b3c8238": {
      "model_module": "@jupyter-widgets/controls",
      "model_module_version": "1.5.0",
      "model_name": "DescriptionStyleModel",
      "state": {
       "description_width": ""
      }
     },
     "b6d1440fe6a1487c90fcaf14ea63b849": {
      "model_module": "@jupyter-widgets/base",
      "model_module_version": "1.2.0",
      "model_name": "LayoutModel",
      "state": {}
     },
     "b7c2765519884b73bcacf78409e58a5d": {
      "model_module": "@jupyter-widgets/base",
      "model_module_version": "1.2.0",
      "model_name": "LayoutModel",
      "state": {}
     },
     "b97cdb5dad674a7fa2a58962418f817b": {
      "model_module": "@jupyter-widgets/base",
      "model_module_version": "1.2.0",
      "model_name": "LayoutModel",
      "state": {}
     },
     "b9e486d6f8974201b5a9e17ae1756b04": {
      "model_module": "@jupyter-widgets/base",
      "model_module_version": "1.2.0",
      "model_name": "LayoutModel",
      "state": {}
     },
     "bc2479fb05c042099969939934be8e88": {
      "model_module": "@jupyter-widgets/base",
      "model_module_version": "1.2.0",
      "model_name": "LayoutModel",
      "state": {}
     },
     "bde5ceab89644d0cbad37b4c97e2c79d": {
      "model_module": "@jupyter-widgets/controls",
      "model_module_version": "1.5.0",
      "model_name": "ButtonStyleModel",
      "state": {}
     },
     "bff5e6fecd94413fa622d6da7182551b": {
      "model_module": "@jupyter-widgets/base",
      "model_module_version": "1.2.0",
      "model_name": "LayoutModel",
      "state": {}
     },
     "c081cb5c13b64e54b2770ef388e7a272": {
      "model_module": "@jupyter-widgets/base",
      "model_module_version": "1.2.0",
      "model_name": "LayoutModel",
      "state": {}
     },
     "c0b21e537b8844aa846ca04f0ed909f2": {
      "model_module": "@jupyter-widgets/base",
      "model_module_version": "1.2.0",
      "model_name": "LayoutModel",
      "state": {}
     },
     "c0e74920fdd140698af2ebd2ebcde6f4": {
      "model_module": "@jupyter-widgets/controls",
      "model_module_version": "1.5.0",
      "model_name": "ButtonModel",
      "state": {
       "description": "Clear",
       "layout": "IPY_MODEL_1200b42296e443b5adbb3a6803c1deba",
       "style": "IPY_MODEL_4d7d1f905ca548a7952f998447252b5a"
      }
     },
     "c117cdae1fec4dd1b1cfb35bd3241213": {
      "model_module": "@jupyter-widgets/controls",
      "model_module_version": "1.5.0",
      "model_name": "ButtonStyleModel",
      "state": {}
     },
     "c11be5efee58486c8a821c2c7ec5cd71": {
      "model_module": "@jupyter-widgets/controls",
      "model_module_version": "1.5.0",
      "model_name": "DescriptionStyleModel",
      "state": {
       "description_width": ""
      }
     },
     "c1d860062ffb4342a4bce6a49c8dfaf0": {
      "model_module": "@jupyter-widgets/base",
      "model_module_version": "1.2.0",
      "model_name": "LayoutModel",
      "state": {}
     },
     "c240c9a046a54c73bde1aebffda4374f": {
      "model_module": "@jupyter-widgets/base",
      "model_module_version": "1.2.0",
      "model_name": "LayoutModel",
      "state": {}
     },
     "c249d68fa1c54ee4a092000658bd9630": {
      "model_module": "@jupyter-widgets/base",
      "model_module_version": "1.2.0",
      "model_name": "LayoutModel",
      "state": {}
     },
     "c31887fcf1e149a5a6b8537ddbb92616": {
      "model_module": "@jupyter-widgets/base",
      "model_module_version": "1.2.0",
      "model_name": "LayoutModel",
      "state": {}
     },
     "c440a4b0aaa047cf92ff59adc25770aa": {
      "model_module": "@jupyter-widgets/base",
      "model_module_version": "1.2.0",
      "model_name": "LayoutModel",
      "state": {}
     },
     "c654d427e3444f6ba3be49996b3989d8": {
      "model_module": "@jupyter-widgets/controls",
      "model_module_version": "1.5.0",
      "model_name": "ButtonStyleModel",
      "state": {}
     },
     "c6a60ea5281d4e57a9dd45c428e69540": {
      "model_module": "@jupyter-widgets/controls",
      "model_module_version": "1.5.0",
      "model_name": "ButtonModel",
      "state": {
       "description": "H⊗ⁿ",
       "layout": "IPY_MODEL_b9e486d6f8974201b5a9e17ae1756b04",
       "style": "IPY_MODEL_ab83d100e0f445f992a4f278d9dc359c"
      }
     },
     "c7952c7923bd48d3927dde1bd7166b17": {
      "model_module": "@jupyter-widgets/base",
      "model_module_version": "1.2.0",
      "model_name": "LayoutModel",
      "state": {}
     },
     "ca41b02c562445f981487ae809c4f803": {
      "buffers": [
       {
        "data": "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",
        "encoding": "base64",
        "path": [
         "value"
        ]
       }
      ],
      "model_module": "@jupyter-widgets/controls",
      "model_module_version": "1.5.0",
      "model_name": "ImageModel",
      "state": {
       "layout": "IPY_MODEL_a915eca7ceb741e08236bd65ab859591",
       "value": {}
      }
     },
     "ca8d9ca4e61b4861b439adf623b7043c": {
      "buffers": [
       {
        "data": "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",
        "encoding": "base64",
        "path": [
         "value"
        ]
       }
      ],
      "model_module": "@jupyter-widgets/controls",
      "model_module_version": "1.5.0",
      "model_name": "ImageModel",
      "state": {
       "layout": "IPY_MODEL_b6d1440fe6a1487c90fcaf14ea63b849",
       "value": {}
      }
     },
     "caa2fd362e79487e989d3c75b1ce65a5": {
      "model_module": "@jupyter-widgets/controls",
      "model_module_version": "1.5.0",
      "model_name": "HTMLMathModel",
      "state": {
       "layout": "IPY_MODEL_ffbf4b922d1a46d3be8f0e804d82a5db",
       "style": "IPY_MODEL_b07c716086074fffa8cf694b77996a31",
       "value": "$$ H^{\\otimes n}U_fH^{\\otimes n}|000\\rangle = |101\\rangle  $$"
      }
     },
     "caf4db86623e4e84af98e9fd94510a28": {
      "model_module": "@jupyter-widgets/controls",
      "model_module_version": "1.5.0",
      "model_name": "ButtonStyleModel",
      "state": {}
     },
     "cb39a85ad8ab4ff7b47f8c11f037ca68": {
      "model_module": "@jupyter-widgets/base",
      "model_module_version": "1.2.0",
      "model_name": "LayoutModel",
      "state": {}
     },
     "cb51431fb0554acebc765a7bb91cde56": {
      "model_module": "@jupyter-widgets/base",
      "model_module_version": "1.2.0",
      "model_name": "LayoutModel",
      "state": {}
     },
     "cbabde7b96004ed6a66865258803b638": {
      "model_module": "@jupyter-widgets/controls",
      "model_module_version": "1.5.0",
      "model_name": "HBoxModel",
      "state": {
       "children": [
        "IPY_MODEL_cd8825b3044b403aa2ebb161c322b4eb",
        "IPY_MODEL_712b819f2f994e18abadaf4dcf580192",
        "IPY_MODEL_94dc202befa845bcb93ba56f71e7fb33"
       ],
       "layout": "IPY_MODEL_d349e0c1b28441e99d12dd2d57c21967"
      }
     },
     "ccb3335b780d4b51b7fafeda18d1fdad": {
      "model_module": "@jupyter-widgets/base",
      "model_module_version": "1.2.0",
      "model_name": "LayoutModel",
      "state": {}
     },
     "cd8825b3044b403aa2ebb161c322b4eb": {
      "model_module": "@jupyter-widgets/controls",
      "model_module_version": "1.5.0",
      "model_name": "ButtonModel",
      "state": {
       "description": "H⊗ⁿ",
       "layout": "IPY_MODEL_81dffca1a7a54949918847e5d4003f5e",
       "style": "IPY_MODEL_d985054351e34370a33b35a862d03fb1"
      }
     },
     "cdb458628e21465fa586619fe427f459": {
      "model_module": "@jupyter-widgets/base",
      "model_module_version": "1.2.0",
      "model_name": "LayoutModel",
      "state": {}
     },
     "cddca19127324cbc9e69116cd8d0027b": {
      "model_module": "@jupyter-widgets/controls",
      "model_module_version": "1.5.0",
      "model_name": "HBoxModel",
      "state": {
       "children": [
        "IPY_MODEL_e3c50f9c41b8447b94d6906bbb7543cf",
        "IPY_MODEL_3579ce0404344d79b5d2d1cf24beb49a",
        "IPY_MODEL_7b7dacbee5994f7e8e3308468edd11e6"
       ],
       "layout": "IPY_MODEL_05ea4da86f434b90ac83432d3abb55b3"
      }
     },
     "ce2aecb85b9f49059e1177922de78894": {
      "model_module": "@jupyter-widgets/controls",
      "model_module_version": "1.5.0",
      "model_name": "ButtonStyleModel",
      "state": {}
     },
     "cf831401b1404a64b4ecfc031fbf7a9b": {
      "model_module": "@jupyter-widgets/base",
      "model_module_version": "1.2.0",
      "model_name": "LayoutModel",
      "state": {}
     },
     "cfc63b7383f34bd983d3006b2e1be509": {
      "model_module": "@jupyter-widgets/controls",
      "model_module_version": "1.5.0",
      "model_name": "DescriptionStyleModel",
      "state": {
       "description_width": ""
      }
     },
     "d02ec4d22daf413dab702592da409bba": {
      "model_module": "@jupyter-widgets/controls",
      "model_module_version": "1.5.0",
      "model_name": "HBoxModel",
      "state": {
       "children": [
        "IPY_MODEL_934018330e094a87bd80232977a4663b",
        "IPY_MODEL_8737981b4d4d41bbaa087c271bcb4651",
        "IPY_MODEL_9449e3b496f44e56923ccb01d98fe77b"
       ],
       "layout": "IPY_MODEL_edc871fe87c3463caf01b941d37928ac"
      }
     },
     "d0bb8d73d43a49cb8253cd4bfee53de3": {
      "model_module": "@jupyter-widgets/controls",
      "model_module_version": "1.5.0",
      "model_name": "ButtonStyleModel",
      "state": {}
     },
     "d10f3fba6f3a4dce80055e756418cf67": {
      "model_module": "@jupyter-widgets/base",
      "model_module_version": "1.2.0",
      "model_name": "LayoutModel",
      "state": {}
     },
     "d16ba6a588bf40f5bb32453dd0ec5771": {
      "model_module": "@jupyter-widgets/controls",
      "model_module_version": "1.5.0",
      "model_name": "ButtonStyleModel",
      "state": {}
     },
     "d22529518c70426d868c1d3e505329a3": {
      "model_module": "@jupyter-widgets/base",
      "model_module_version": "1.2.0",
      "model_name": "LayoutModel",
      "state": {}
     },
     "d3107cd9998e427f92b81225ee054a40": {
      "model_module": "@jupyter-widgets/base",
      "model_module_version": "1.2.0",
      "model_name": "LayoutModel",
      "state": {}
     },
     "d349e0c1b28441e99d12dd2d57c21967": {
      "model_module": "@jupyter-widgets/base",
      "model_module_version": "1.2.0",
      "model_name": "LayoutModel",
      "state": {}
     },
     "d35855ecd3cd4cc197f888c583deca3f": {
      "model_module": "@jupyter-widgets/controls",
      "model_module_version": "1.5.0",
      "model_name": "ButtonStyleModel",
      "state": {}
     },
     "d3e7d5f803fc45cc88962a9be3dc91c2": {
      "model_module": "@jupyter-widgets/controls",
      "model_module_version": "1.5.0",
      "model_name": "ButtonModel",
      "state": {
       "description": "H⊗ⁿ",
       "layout": "IPY_MODEL_f46f61ad29db4c6db6b3022b9d51b81a",
       "style": "IPY_MODEL_8d7948f8d9504fefa2093d7c119442f1"
      }
     },
     "d438ba012e46463caa086bd624d0c127": {
      "model_module": "@jupyter-widgets/controls",
      "model_module_version": "1.5.0",
      "model_name": "DescriptionStyleModel",
      "state": {
       "description_width": ""
      }
     },
     "d49f8cd035c543f4b132035a6cb818fa": {
      "model_module": "@jupyter-widgets/controls",
      "model_module_version": "1.5.0",
      "model_name": "ButtonStyleModel",
      "state": {}
     },
     "d57c9d8de8da4a0f90866b7ebd36b9bd": {
      "model_module": "@jupyter-widgets/controls",
      "model_module_version": "1.5.0",
      "model_name": "DescriptionStyleModel",
      "state": {
       "description_width": ""
      }
     },
     "d6cdbf0ebdf14fbab492b63a4983e18d": {
      "model_module": "@jupyter-widgets/controls",
      "model_module_version": "1.5.0",
      "model_name": "HTMLMathModel",
      "state": {
       "layout": "IPY_MODEL_d10f3fba6f3a4dce80055e756418cf67",
       "style": "IPY_MODEL_9cad984d83cc467eb5807374a9d8f23c",
       "value": "$$ |0\\rangle = |0\\rangle  $$"
      }
     },
     "d6d9306fe3d147d5a3e3f7bf51c78bc7": {
      "buffers": [
       {
        "data": "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",
        "encoding": "base64",
        "path": [
         "value"
        ]
       }
      ],
      "model_module": "@jupyter-widgets/controls",
      "model_module_version": "1.5.0",
      "model_name": "ImageModel",
      "state": {
       "layout": "IPY_MODEL_eddbe72d2d1e455991890ca26ca2ecd8",
       "value": {}
      }
     },
     "d767e209360e4cc6b57e1f8add4ef0ba": {
      "model_module": "@jupyter-widgets/controls",
      "model_module_version": "1.5.0",
      "model_name": "ButtonModel",
      "state": {
       "description": "Oracle",
       "layout": "IPY_MODEL_681aebb27cec42b9aba19376a784caf5",
       "style": "IPY_MODEL_9e346c7420e5454e862eb55dc184ffab"
      }
     },
     "d8101ce2012948ddbb9d9c575b8c1bcf": {
      "model_module": "@jupyter-widgets/base",
      "model_module_version": "1.2.0",
      "model_name": "LayoutModel",
      "state": {}
     },
     "d964d6dc549a4aca989b0d70453a3113": {
      "model_module": "@jupyter-widgets/controls",
      "model_module_version": "1.5.0",
      "model_name": "ButtonStyleModel",
      "state": {}
     },
     "d985054351e34370a33b35a862d03fb1": {
      "model_module": "@jupyter-widgets/controls",
      "model_module_version": "1.5.0",
      "model_name": "ButtonStyleModel",
      "state": {}
     },
     "da4984a792634a0fb41b2981e25b6e59": {
      "model_module": "@jupyter-widgets/controls",
      "model_module_version": "1.5.0",
      "model_name": "ButtonModel",
      "state": {
       "description": "H⊗ⁿ",
       "layout": "IPY_MODEL_7a96f663bcdf4f53a69803c2a8dc2498",
       "style": "IPY_MODEL_db87afd66fd14ec38647e148b126afc1"
      }
     },
     "da9c927902984e0482351f4425677f47": {
      "model_module": "@jupyter-widgets/base",
      "model_module_version": "1.2.0",
      "model_name": "LayoutModel",
      "state": {}
     },
     "db5c6179287a4ff69c77204c9c8f1169": {
      "model_module": "@jupyter-widgets/controls",
      "model_module_version": "1.5.0",
      "model_name": "HTMLMathModel",
      "state": {
       "layout": "IPY_MODEL_911cd9909625478b8a3df231945e9e00",
       "style": "IPY_MODEL_84eb8ab0d8a54e84a819e05af9c85344",
       "value": "$$ H^{\\otimes n}U_fH^{\\otimes n}|0000000000\\rangle = |1010110111\\rangle  $$"
      }
     },
     "db7430f135ec44dfb6fdab6220e8a354": {
      "model_module": "@jupyter-widgets/controls",
      "model_module_version": "1.5.0",
      "model_name": "ButtonStyleModel",
      "state": {}
     },
     "db87afd66fd14ec38647e148b126afc1": {
      "model_module": "@jupyter-widgets/controls",
      "model_module_version": "1.5.0",
      "model_name": "ButtonStyleModel",
      "state": {}
     },
     "dbe53cad437340ebb9d003cc0bc3f575": {
      "model_module": "@jupyter-widgets/controls",
      "model_module_version": "1.5.0",
      "model_name": "ButtonStyleModel",
      "state": {}
     },
     "dc9316d3b6f04c528720367b45ff533b": {
      "buffers": [
       {
        "data": "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",
        "encoding": "base64",
        "path": [
         "value"
        ]
       }
      ],
      "model_module": "@jupyter-widgets/controls",
      "model_module_version": "1.5.0",
      "model_name": "ImageModel",
      "state": {
       "layout": "IPY_MODEL_6a5cc1588d5745219155d5a6bffabf9a",
       "value": {}
      }
     },
     "dd03942f52fc493a9647112d9b7de049": {
      "model_module": "@jupyter-widgets/controls",
      "model_module_version": "1.5.0",
      "model_name": "ButtonModel",
      "state": {
       "description": "Clear",
       "layout": "IPY_MODEL_8201452abdca4962993ffb833af28392",
       "style": "IPY_MODEL_3a07de11cbba4b749c11947e6338b306"
      }
     },
     "ddc83ed3380c4f19bc2230e3635e43c2": {
      "model_module": "@jupyter-widgets/base",
      "model_module_version": "1.2.0",
      "model_name": "LayoutModel",
      "state": {}
     },
     "def3a70b95284cc99ea81a005162ffdc": {
      "model_module": "@jupyter-widgets/controls",
      "model_module_version": "1.5.0",
      "model_name": "ButtonModel",
      "state": {
       "description": "Uf",
       "layout": "IPY_MODEL_20e734df1e904122a1c1268469c6acd5",
       "style": "IPY_MODEL_0f657576b1464701b119548c996c32aa"
      }
     },
     "df9940f5058f463693b3b152790a6152": {
      "model_module": "@jupyter-widgets/base",
      "model_module_version": "1.2.0",
      "model_name": "LayoutModel",
      "state": {}
     },
     "dfa45fafef56455aaf4326116fd5bf98": {
      "model_module": "@jupyter-widgets/base",
      "model_module_version": "1.2.0",
      "model_name": "LayoutModel",
      "state": {}
     },
     "e03f63f2669a4cb8a85446f5ad7b5e5f": {
      "buffers": [
       {
        "data": "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",
        "encoding": "base64",
        "path": [
         "value"
        ]
       }
      ],
      "model_module": "@jupyter-widgets/controls",
      "model_module_version": "1.5.0",
      "model_name": "ImageModel",
      "state": {
       "layout": "IPY_MODEL_23d24db5aa6d424cb32a5753b102e734",
       "value": {}
      }
     },
     "e05e1b0779944495af65db5d844e33ad": {
      "model_module": "@jupyter-widgets/base",
      "model_module_version": "1.2.0",
      "model_name": "LayoutModel",
      "state": {}
     },
     "e102e1bfbca54ed093055ce51510a34e": {
      "model_module": "@jupyter-widgets/controls",
      "model_module_version": "1.5.0",
      "model_name": "ButtonModel",
      "state": {
       "description": "Uf",
       "layout": "IPY_MODEL_b44c1aefe1aa45f2afb256bba7b26403",
       "style": "IPY_MODEL_5125e013834249f88da5ce601f7a1186"
      }
     },
     "e10e767eeb134a3d8a097a47b0d76bd9": {
      "model_module": "@jupyter-widgets/controls",
      "model_module_version": "1.5.0",
      "model_name": "DescriptionStyleModel",
      "state": {
       "description_width": ""
      }
     },
     "e1fdc6520f7141c2aabf3ff0175b9174": {
      "buffers": [
       {
        "data": "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",
        "encoding": "base64",
        "path": [
         "value"
        ]
       }
      ],
      "model_module": "@jupyter-widgets/controls",
      "model_module_version": "1.5.0",
      "model_name": "ImageModel",
      "state": {
       "layout": "IPY_MODEL_82cc22884ca74cd490de6b3ebd3e6f76",
       "value": {}
      }
     },
     "e2b1fad905eb459b8304d10afef3ae09": {
      "model_module": "@jupyter-widgets/controls",
      "model_module_version": "1.5.0",
      "model_name": "HTMLMathModel",
      "state": {
       "layout": "IPY_MODEL_7ba6171d232649698732493a8c7d6a21",
       "style": "IPY_MODEL_1303622ea7574b2ca8050e5080fe8903",
       "value": "$$ |000\\rangle = |000\\rangle  $$"
      }
     },
     "e2eb2f9d87c14c859e1853651a0b540a": {
      "model_module": "@jupyter-widgets/base",
      "model_module_version": "1.2.0",
      "model_name": "LayoutModel",
      "state": {}
     },
     "e3397fb53041440296121090778cfb9f": {
      "model_module": "@jupyter-widgets/controls",
      "model_module_version": "1.5.0",
      "model_name": "ButtonStyleModel",
      "state": {}
     },
     "e392cc05980a49c4bd2c9e264c2616f4": {
      "model_module": "@jupyter-widgets/base",
      "model_module_version": "1.2.0",
      "model_name": "LayoutModel",
      "state": {}
     },
     "e3be87da4d9543eaa08f90ce65a99af5": {
      "model_module": "@jupyter-widgets/base",
      "model_module_version": "1.2.0",
      "model_name": "LayoutModel",
      "state": {}
     },
     "e3c50f9c41b8447b94d6906bbb7543cf": {
      "model_module": "@jupyter-widgets/controls",
      "model_module_version": "1.5.0",
      "model_name": "ButtonModel",
      "state": {
       "description": "H⊗ⁿ",
       "layout": "IPY_MODEL_54d2a35841ac4226b56aacaa8c90cd62",
       "style": "IPY_MODEL_d16ba6a588bf40f5bb32453dd0ec5771"
      }
     },
     "e3fb25e0437b43cca99ca8ea3d642d03": {
      "model_module": "@jupyter-widgets/controls",
      "model_module_version": "1.5.0",
      "model_name": "ButtonStyleModel",
      "state": {}
     },
     "e6943053e5f84c538528dc28b468fccd": {
      "model_module": "@jupyter-widgets/controls",
      "model_module_version": "1.5.0",
      "model_name": "ButtonStyleModel",
      "state": {}
     },
     "e6fdd3057e004e56b53660a6afcdf12d": {
      "model_module": "@jupyter-widgets/controls",
      "model_module_version": "1.5.0",
      "model_name": "HBoxModel",
      "state": {
       "children": [
        "IPY_MODEL_1f9fa2e282444f2ea963048519d49f48",
        "IPY_MODEL_727b7a7a6fc540ca95dc4d4eddde666d",
        "IPY_MODEL_ffd7e740b2d44293baa410d096f80e25"
       ],
       "layout": "IPY_MODEL_bff5e6fecd94413fa622d6da7182551b"
      }
     },
     "e7ea1a1d82594960ae04d41f67363ff3": {
      "model_module": "@jupyter-widgets/base",
      "model_module_version": "1.2.0",
      "model_name": "LayoutModel",
      "state": {}
     },
     "e86004d7d2424dd9a8d646c4a289f82d": {
      "model_module": "@jupyter-widgets/controls",
      "model_module_version": "1.5.0",
      "model_name": "ButtonStyleModel",
      "state": {}
     },
     "e963db80d28a42169545ac7445cfad8a": {
      "model_module": "@jupyter-widgets/base",
      "model_module_version": "1.2.0",
      "model_name": "LayoutModel",
      "state": {}
     },
     "e9946cfd0fe0435b955404e75922f392": {
      "buffers": [
       {
        "data": "iVBORw0KGgoAAAANSUhEUgAAA0gAAAI1CAYAAADsLNpwAAAABHNCSVQICAgIfAhkiAAAAAlwSFlzAAALEgAACxIB0t1+/AAAADh0RVh0U29mdHdhcmUAbWF0cGxvdGxpYiB2ZXJzaW9uMy4yLjEsIGh0dHA6Ly9tYXRwbG90bGliLm9yZy+j8jraAAAgAElEQVR4nOzdfXxV9Z32+ysPkEADKIkE5UkiCU0iCQVSqVoCnmkFps7dcTAtR2mLdKAhnFuw5z6jM0cwhzmZ+1CGcM9UqNW2tCNDh4Q4ZSzYqk22VrAmRbEgaQxBYzDEiAQJhqdknz/2Irh5SLJg7fXbK+vzfr14Kb8skishfH+59lp77ZhgMBgUAAAAAECxpgMAAAAAQLSgIAEAAACAhYIEAAAAABYKEgAAAABYKEgAAAAAYKEgAQAAAICFggQAAAAAFgoSAAAAAFgoSAAAAABgoSABAAAAgIWCBAAAAAAWChIAAAAAWChIAAAAAGChIAEAAACAhYIEAAAAABYKEgAAAABYKEgAAAAAYKEgAQAAAICFggQAAAAAFgoSAAAAAFgoSAAAAABgoSABAAAAgIWCBAAAAAAWChIAAAAAWChIAAAAAGChIAEAAACAhYIEAAAAABYKEgAAAABYKEgAAAAAYKEgAQAAAICFggQAAAAAFgoSAAAAAFgoSAAAAABgoSABAAAAgIWCBAAAAAAWChIAAAAAWChIAAAAAGChIAEAAACAhYIEAAAAABYKEgAAAABYKEgAAAAAYKEgAQAAAICFggQAAAAAFgoSAAAAAFgoSAAAAABgoSABAAAAgIWCBAAAAAAWChIAAAAAWChIAAAAAGChIAEAAACAhYIEAAAAABYKEgAAAABYKEgAAAAAYKEgAQAAAICFggQAAAAAFgoSAAAAAFgoSAAAAABgoSABAAAAgIWCBAAAAAAWChIAAAAAWChIAAAAAGChIAEAAACAhYIEAAAAABYKEgAAAABYKEgAAAAAYKEgAQAAAICFggQAAAAAFgoSAAAAAFgoSAAAAABgoSABAAAAgIWCBAAAAAAWChIAAAAAWChIAAAAAGChIAEAAACAhYIEAAAAABYKEgAAAABYKEgAAAAAYKEgAQAAAICFggQAAAAAFgoSAAAAAFjiTQcAgGhSW1vb6zE//OEPtWzZsh6P+fznP+9UJACIOCdmH3MP/QVnkADApieeeMJ0BABwHbMPfkFBAgAAAAALBQkAAAAALBQkALCpvLzcdAQAcB2zD35BQQIAAAAACwUJAGyaN2+e6QgA4DpmH/yCggQAAAAAFl4HCYgyyze7/zHX3+/+xwQAoC9M7IsSe6OfcQYJAGwqKioyHQEAXMfsg19QkADApp5eSR4A+itmH/yCggQANs2YMcN0BABwHbMPfkFBAgCbWltbTUcAANcx++AXFCQAAAAAsFCQAMCmrKws0xEAwHXMPvgFBQkAbNq2bZvpCADgOmYf/IKCBAA2rVy50nQEAHAdsw9+QUGC53R1dWnt2rVKT09XYmKicnNzFQgENHHiRC1evNh0PPhAWVmZ6Qh9EgxK730k/ftuqfR56V9fkH73tnTytOlkALzIK7MPuFYUJHjOokWLtHr1ai1ZskQ7d+5UQUGB5s+fr4aGBk2dOtV0PNc9vewm7at8OmwtGAxq43eHqr76WUOpYFpXUNr6ulT6G6m6QXrvqHTwQ2n7G1Lxf0p1R0wnBIDIYF/EtYo3HQCwY8uWLdq0aZOqqqqUn58vSZo1a5b27NmjiooKTZkyxXBCd7V/fFgn25p1w7jJYevHP2zQmVMnlJo2zVAymPabP0m760P/H7zobWfPSU9VSX/3l1LKELeTAUDksC/CCZxBgqeUlJRo9uzZ3eXovAkTJmjAgAHKycmRJL377rvKz89XRkaGJk2apFdeecVE3IhraahWTGyckkffGrb+UeNeDR6WqiHJYwwl698CgYDpCD06fU6qOnDltwclne2UXqlzLRKAfiDaZ5/EvghncAYJntHU1KR9+/ZpxYoVl7ytsbFR2dnZSkhIkCQtWbJE3/jGN7R06VLt2rVL9913nw4dOqSBAwc6kiUmJsaR93M5Dz1z8eP9V9bSUK3rR2YofmBi2Hpr416NGN/3R8ki+fl4zeW+vy528OBB3XLLLT0eU1pa6lQk29Km/jfds+I/ez1u5x8+1L3TUl1IBCDaOTH7IjX3TOyLktm9MRjs++cM51GQ4BlNTU2SpJEjR4atd3R0KBAIaM6cOZKkjz76SL///e+1fft2SdLtt9+um266SZWVlbr77rvdDR1hLQ3Vamup15PfSwlbP3u6XdPuedRQqv5v+/btffphwpSEwcP6dNzAwUMjnARAfxLts09iX4QzKEjwjJSU0LCrq6vT3Llzu9fXrFmj5ubm7hs0NDY2KjU1tftskiSNHz9e7733nmNZIvnIzvLNfT+25VCNbrv3cWXe+a2w9c2PTlKqjUfKeKTqgtra2l6PKS0t7fWOievWrXMqkm11R6QNL/V+XOr1ifzdA5DkzOyL1NwzsS9K7I1+RkGCZ6SlpSknJ0clJSUaPny4Ro0apfLycu3YsUOSfHcHu7Yj9Tp98pjG5dytIcmjw9c/bVNqWp7BdDBpwgjpusFS26c9H/elCe7kAQA3sC/CKdykAZ4RGxursrIyZWdnq7CwUAsXLlRKSoqKiooUFxfXfYOGsWPHqqWlRadPX3ixl0OHDmncuHGmokdES0O14hMG64axuWHrze/sUlLyGA0eNsJQsv6vuLjYdIQexcZKf/WFK789RtL1n6MgAbAn2mcf+yKcwhkkeEpGRoYqKyvD1hYsWKCsrCwNGjRIUuhSvDvuuEM/+clPum/ScPjwYc2aNctE5IhpaahW6vg8xcaF/zNurt9t+zIC2FNQUGA6Qq+m3By6U11FTeiudp81arj04JelzyVc9o8CwGVF++xjX4RTKEjwvJqaGk2fPj1s7Uc/+pG+853vaP369Ro4cKC2bNni2B3sosWMBy5/rfddCze6nMR/MjMzdeBAD/fRjhK33SJNHiu98Z70yz+E1h76qnRzisSNCwHYFe2zj30RTqEgwdPa29tVV1enpUuXhq2npaXp5ZdfNpQKiB4JA6TpEy4UpPE3mM0DAEC0oyDB05KSktTZ2Wk6BgAAAPoJbtIAADbNnDnTdAQAcB2zD35BQQIAmzZu5Hp2AP7D7INfUJAAwKbCwkLTEQDAdcw++AUFCQBsqqqqMh0BAFzH7INfUJAAAAAAwEJBAgAAAAALBQkAbIrmF0oEgEhh9sEveB0kIMqsv990AvRm69atKigoMB0DAFxlavaxL8JtnEECAJtWrVplOgIAuI7ZB7+gIAEAAACAhYIEAAAAABYKEgDYtGHDBtMRAMB1zD74BQUJAGzKzs42HQEAXMfsg19QkADApvz8fNMRAMB1zD74BQUJAAAAACwUJACwKS8vz3QEAHAdsw9+QUECAJuqq6tNRwAA1zH74BcUJAAAAACwUJAAAAAAwEJBAgCbysvLTUcAANcx++AXFCQAAAAAsFCQAMCmefPmmY4AAK5j9sEvKEgAAAAAYIk3HQBAuOWb3f+Y6+93/2MCANAXJvZFib3RzziDBAA2FRUVmY4AAK5j9sEvKEgAYNOyZctMRwAA1zH74BcUJACwacaMGaYjAIDrmH3wCwoSANjU2tpqOgIAuI7ZB7+gIAEAAACAhYIEADZlZWWZjgAArmP2wS8oSABg07Zt20xHAADXMfvgFxQkALBp5cqVpiMAgOuYffALChIA2FRWVmY6Qr93+qy0/7D0ZqP0wTHTaQBIzD74BwUJntPV1aW1a9cqPT1diYmJys3NVSAQ0MSJE7V48WLT8Vz39LKbtK/y6bC1YDCojd8dqvrqZw2lAq7OuU7pV3ukxyqkp6qkTa9Ia3ZI656XDnEDLQB9wL6Ia0VBgucsWrRIq1ev1pIlS7Rz504VFBRo/vz5amho0NSpU03Hc1X7x4d1sq1ZN4ybHLZ+/MMGnTl1Qqlp0wwlA+zr6pJ+9opUeUA6cy78be8flX74otTwoZlsALyBfRFOiDcdALBjy5Yt2rRpk6qqqpSfny9JmjVrlvbs2aOKigpNmTLFcEJ3tTRUKyY2Tsmjbw1b/6hxrwYPS9WQ5DGGkvVvgUDAdIR+ae/7ocvqLieoUIH6j9elR/5SiolxNRoAeWP2sS/CCZxBgqeUlJRo9uzZ3eXovAkTJmjAgAHKycmRFHoiaUZGhmJjY1VeXm4iqitaGqp1/cgMxQ9MDFtvbdyrEeN5lCxS9u/fbzpCv/T7up6LT1BSy3EutQNM8cLsY1+EEziDBM9oamrSvn37tGLFikve1tjYqOzsbCUkJEiSZs+ere985zt68MEHI5IlJoIPXz/0TLDPx7Y0VKutpV5Pfi8lbP3s6XZNu+fRPr+fSH4+XnO576+LlZaW9npcaWmpU5Eccf77Kpr/rhf/6CMNSkru9bivz/+e/vS7J11IBPiHE7MvUnPPxL4omZ2XwWDfP2c4j4IEz2hqapIkjRw5Mmy9o6NDgUBAc+bM6V67/fbbXc1mSsuhGt127+PKvPNbYeubH52kVB4pg8d0nTvbp+M6z52JcBIAXsW+CCdQkOAZKSmhR4Pq6uo0d+7c7vU1a9aoubnZ1Rs0RPKRneWb+3Zc25F6nT55TONy7taQ5NHh65+2KTUtr88fk0eqLqitre31mNLS0l7vmLhu3TqnIjni/PdVNP9db3lNev1g6FK6K4mR9Mqvf6rhST91KxbgC07MvkjNPRP7ohTd8xKRRUGCZ6SlpSknJ0clJSUaPny4Ro0apfLycu3YsUOSfHcHu5aGasUnDNYNY3PD1pvf2aWk5DEaPGyEoWT9X3FxsekI/dKXM6Q/HOz5mFvHSMOT3MkDIFy0zz72RTiFmzTAM2JjY1VWVqbs7GwVFhZq4cKFSklJUVFRkeLi4rpv0OAXLQ3VSh2fp9i48Mc5mut3cxlBhBUUFJiO0C+NHi7d98XQ/1/uyv8br5O+eZurkQB8RrTPPvZFOIUzSPCUjIwMVVZWhq0tWLBAWVlZGjRokKFUZsx44PKXMty1cKPLSfwnMzNTBw4cMB2jX7ojXbrpOilQK73ZGFpLTpLuzJC+NEFKHGA2H+Bn0T772BfhFM4gwfNqamouubzuscce0+jRo7V7924tWbJEo0eP1sGDvVy7AyAqjL9B+s6XL/z+sf8mzcqkHAEA3EFBgqe1t7errq7ukheIXb16tZqamnT69GkdPXpUTU1NuuWWWwylBAAAgFdwiR08LSkpSZ2dnaZjwGdmzpxpOgIAuI7ZB7/gDBIA2LRxI9ezA/AfZh/8goIEADYVFhaajgAArmP2wS8oSABgU1VVlekIAOA6Zh/8goIEAAAAABYKEgAAAABYKEgAYFM0v1AiAEQKsw9+QUECAJu2bt1qOgIAuI7ZB7/gdZCAKLP+ftMJ0JtVq1apoKDAdAwAcJWp2ce+CLdxBgkAAAAALBQkAAAAALBQkADApg0bNpiOAACuY/bBLyhIAGBTdna26QgA4DpmH/yCggQANuXn55uOAACuY/bBLyhIAAAAAGChIAEAAACAhYIEADbl5eWZjgAArmP2wS8oSABgU3V1tekIAOA6Zh/8goIEAAAAABYKEgAAAABYKEgAYFN5ebnpCADgOmYf/IKCBAAAAAAWChIA2DRv3jzTEQDAdcw++AUFCQAAAAAs8aYDAAi3fLP7H3P9/e5/TAAA+sLEviixN/oZZ5AAwKaioiLTEQDAdcw++AUFCQBsWrZsmekIAOA6Zh/8goIEADbNmDHDdAQAcB2zD35BQQIAm1pbW01HAADXMfvgFxQkAAAAALBQkADApqysLNMRAMB1zD74BQUJAGzatm2b6QgA4DpmH/yCggQANq1cudJ0BABwHbMPfkFBgid1dXVp7dq1Sk9PV2JionJzcxUIBDRx4kQtXrzYdDz0c2VlZaYjIMqc65T+eEj61xekVRVSyX9Jv35TOnbSdDLAOcw++AUFCZ60aNEirV69WkuWLNHOnTtVUFCg+fPnq6GhQVOnTjUdz1VPL7tJ+yqfDlsLBoPa+N2hqq9+1lAqwD9OnZWeeEn6t11SQ6t0vEP68BPphf2holR3xHRCwF/YF3Gt4k0HAOzasmWLNm3apKqqKuXn50uSZs2apT179qiiokJTpkwxnNA97R8f1sm2Zt0wbnLY+vEPG3Tm1Amlpk0zlAzwj1++Jh2y7n4cDIa/7Vyn9FSV9A9/JV032PVogO+wL8IJnEGC55SUlGj27Nnd5ei8CRMmaMCAAcrJydGxY8f0ta99TRkZGcrNzdVXv/pV1dfXG0ocOS0N1YqJjVPy6FvD1j9q3KvBw1I1JHmMoWT9WyAQMB0BUeJou/Rm45XfHpR0tlPa3f/GD3zIC7OPfRFO4AwSPKWpqUn79u3TihUrLnlbY2OjsrOzlZCQoI6ODi1fvlx/8Rd/IUn6l3/5Fy1cuFCvvPKKIzliYmIceT+X89Azwd4PsrQ0VOv6kRmKH5gYtt7auFcjxvf9UbJIfj5ec7nvrYsdPHhQt9xyS4/HlJaWOhXJEee/r7z0d+2FzLlfWaaZ3/7XHo8JBrv07zvf1tzcSS6lAuxzYvZFau6Z2Bcls7MnePHpaLiKggRPaWpqkiSNHDkybL2jo0OBQEBz5syRJF133XXd5UiSbr/9dq1Zs8a9oC5paahWW0u9nvxeStj62dPtmnbPo4ZS9X/bt2/v0w8T6P8GJH6u12NiYmI1ICHJhTRAZHlh9rEvwgkUJHhKSkpo4NXV1Wnu3Lnd62vWrFFzc/MVb9Cwfv16ff3rX3csRyQf2Vm+ue/Hthyq0W33Pq7MO78Vtr750UlKtfFIGY9UXVBbW9vrMaWlpb3eLXHdunVORXLE+e8rL/1deyHzm43Spl5OTMdImjbpZv00ij8PwInZF6m5Z2JflKJ79iCyKEjwlLS0NOXk5KikpETDhw/XqFGjVF5erh07dkjSZQtScXGx6uvr9bvf/c7tuBHVdqRep08e07icuzUkeXT4+qdtSk3LM5gO8IdbR0mDB0qfnrnyMUFJt6e7FgnwLfZFOIWbNMBTYmNjVVZWpuzsbBUWFmrhwoVKSUlRUVGR4uLilJOTE3b8P/7jP+q5557T888/r8GD+9ctpFoaqhWfMFg3jM0NW29+Z5eSksdo8LARhpL1f8XFxaYjIErEx0l/3csrC0xIlSaN7vkYwAuiffaxL8IpnEGC52RkZKiysjJsbcGCBcrKytKgQYO614qLi7Vjxw698MILuu6669yOGXEtDdVKHZ+n2Ljwf8bN9bttX0YAewoKCkxHQBTJS5NiYqRn/yidPH1hPSZGmjpOuu82KY6HI9EPRPvsY1+EUyhI6Bdqamo0ffr07t/v379fjz/+uG655RbNnDmze/3NN980kC4yZjxw+Wu971q40eUk/pOZmakDBw6YjoEoMm28NHmstP+w9DPrOUmrvs5rH6F/ifbZx74Ip1CQ4Hnt7e2qq6vT0qVLu9eys7N5ciUAV8XHSbljL/yecgQA3kRBguclJSWps7PTdAwAAAD0A1wVDQA2ffayTQDwC2Yf/IKCBAA2bdzI9ewA/IfZB7+gIAGATYWFhaYjAIDrmH3wCwoSANhUVVVlOgIAuI7ZB7+gIAEAAACAhYIEAAAAABYKEgDYFM0vlAgAkcLsg1/wOkhAlFl/v+kE6M3WrVtVUFBgOgYAuMrU7GNfhNs4gwQANq1atcp0BABwHbMPfkFBAgAAAAALBQkAAAAALBQkALBpw4YNpiMAgOuYffALChIA2JSdnW06AgC4jtkHv6AgAYBN+fn5piMAgOuYffALChIAAAAAWChIAGBTXl6e6QgA4DpmH/yCggQANlVXV5uOAACuY/bBLyhIAAAAAGChIAEAAACAhYIEADaVl5ebjgAArmP2wS8oSAAAAABgoSABgE3z5s0zHQEAXMfsg19QkAAAAADAEm86AIBwyze7/zHX3+/+xwQAoC9M7IsSe6OfcQYJAGwqKioyHQEAXMfsg19QkADApmXLlpmOAACuY/bBLyhIAGDTjBkzTEcAANcx++AXFCQAsKm1tdV0BABwHbMPfkFBAgAAAAALBQkAbMrKyjIdAQBcx+yDX1CQAMCmbdu2mY4AAK5j9sEvKEgAYNPKlStNRwAA1zH74BcUJACwqayszHQEAHAdsw9+QUGC53R1dWnt2rVKT09XYmKicnNzFQgENHHiRC1evNh0PNc9vewm7at8OmwtGAxq43eHqr76WUOpAAAwg30R1yredADArkWLFqmiokKPPfaYpk6dql27dmn+/PlqbW3Vww8/bDqeq9o/PqyTbc26YdzksPXjHzbozKkTSk2bZigZAADuY1+EEyhI8JQtW7Zo06ZNqqqqUn5+viRp1qxZ2rNnjyoqKjRlyhTDCd3V0lCtmNg4JY++NWz9o8a9GjwsVUOSxxhK1r8FAgHTEQDAdV6YfeyLcAKX2MFTSkpKNHv27O5ydN6ECRM0YMAA5eTkSJK+/vWvKycnR1/4whf0xS9+US+++KKJuBHX0lCt60dmKH5gYth6a+NejRjPo2SRsn//ftMRAMB1Xph97ItwAmeQ4BlNTU3at2+fVqxYccnbGhsblZ2drYSEBEnSpk2bdN1110mS3njjDc2cOVMff/yx4uLiHMkSExPjyPu5nIeeCfb52JaGarW11OvJ76WErZ893a5p9zza5/cTyc/Hay73/XWx0tLSXo8rLS11KpIjzn9feenv2ouZJe/mhr85MfsiNfdM7IuS2X/DwWDfP2c4j4IEz2hqapIkjRw5Mmy9o6NDgUBAc+bM6V47X44k6fjx44qJiemXw6blUI1uu/dxZd75rbD1zY9OUiqPlAEAfIZ9EU6gIMEzUlJCjwbV1dVp7ty53etr1qxRc3Ozpk6dGnZ8UVGRdu7cqePHj2vbtm2Kj3fu2z2SZWv55r4d13akXqdPHtO4nLs1JHl0+PqnbUpNy+vzx+yP5fFq1dbW9npMaWlpr3dMXLdunVORHHH++8pLf9dezCx5Nzf8zYnZF6m5Z2JflPg37GcUJHhGWlqacnJyVFJSouHDh2vUqFEqLy/Xjh07JOmSgvTEE09ICj2pdMWKFXr55ZeVlJTkeu5IaWmoVnzCYN0wNjdsvfmdXUpKHqPBw0YYStb/FRcXm44AAK6L9tnHvgincJMGeEZsbKzKysqUnZ2twsJCLVy4UCkpKSoqKlJcXFz3DRoulp+fr9jYWL366qsuJ46sloZqpY7PU2xc+OMczfW7uYwgwgoKCkxHAADXRfvsY1+EUziDBE/JyMhQZWVl2NqCBQuUlZWlQYMGSZLa29t19OhRjRs3TlLoJg0HDx5UZmam63kjacYDl7+U4a6FG11O4j+ZmZk6cOCA6RgA4Kpon33si3AKBQmeV1NTo+nTp3f//uTJk/rGN76h9vZ2xcfHKzExUc8884zGjh1rMCUAAAC8gIIET2tvb1ddXZ2WLl3avZaamqrXXnvNYCoAAAB4FQUJnpaUlKTOzk7TMeAzM2fONB0BAFzH7INfcJMGALBp40auZwfgP8w++AUFCQBsKiwsNB0BAFzH7INfUJAAwKaqqirTEQDAdcw++AUFCQAAAAAsFCQAAAAAsFCQAMCmaH6hRACIFGYf/IKCBAA2bd261XQEAHAdsw9+wesgAVFm/f2mE6A3q1atUkFBgekYAOAqU7OPfRFu4wwSAAAAAFgoSAAAAABgoSABgE0bNmwwHQEAXMfsg19QkADApuzsbNMRAMB1zD74BQUJAGzKz883HQEAXMfsg19QkAAAAADAQkECAJvy8vJMRwAA1zH74BcUJACwqbq62nQEAHAdsw9+QUECAAAAAAsFCQAAAAAsFCQAsKm8vNx0BABwHbMPfkFBAgAAAAALBQkAbJo3b57pCADgOmYf/IKCBAAAAACWeNMBAIRbvtn9j7n+fvc/JgAAfWFiX5TYG/2MM0gAYFNRUZHpCADgOmYf/IKCBAA2LVu2zHQEAHAdsw9+QUECAJtmzJhhOgIAuI7ZB7+gIAGATa2traYjAIDrmH3wCwoSAAAAAFgoSABgU1ZWlukIAOA6Zh/8goIEADZt27bNdAQAcB2zD35BQQIAm1auXGk6AgC4jtkHv6AgAYBNZWVlpiMAgOuYffALChI8p6urS2vXrlV6eroSExOVm5urQCCgiRMnavHixabjAYBnvNMi/fRl6X/8Uvr+FmntDum1eulcp+lkAGAOBQmes2jRIq1evVpLlizRzp07VVBQoPnz56uhoUFTp041Hc91Ty+7Sfsqnw5bCwaD2vjdoaqvftZQKgDR7sX90hMvSn9qks52Sp1d0uFj0i//IP24KrQGeBH7Iq5VvOkAgB1btmzRpk2bVFVVpfz8fEnSrFmztGfPHlVUVGjKlCmGE7qr/ePDOtnWrBvGTQ5bP/5hg86cOqHUtGmGkvVvgUDAdATgmvy5WXruzdD/B4MX1s//b92R0Nv/2n+POaEHXph97ItwAmeQ4CklJSWaPXt2dzk6b8KECRowYIBycnLC1n/84x8rJiZG5eXlbsZ0TUtDtWJi45Q8+taw9Y8a92rwsFQNSR5jKFn/tn//ftMRgGsSqJViYno+Zne9dOqsO3ngDV6YfeyLcAJnkOAZTU1N2rdvn1asWHHJ2xobG5Wdna2EhITutXfeeUc/+9nPNH36dMezxPT2k8U1eOiZYO8HWVoaqnX9yAzFD0wMW29t3KsR4/v+KFkkPx+vudz318VKS0t7Pa60tNSpSI44/33lpb9rL2aWPJA7Jkb/x6Yzio3r+UeAM+ekz0+brffe+o1LwWCSE7MvUnPPxL4omf03HAz2/XOG8yhI8IympiZJ0siRI8PWOzo6FAgENGfOnO61c+fO6cEHH9TGjRu1fPlyV3O6qaWhWm0t9Xryeylh62dPt2vaPY8aSgUgmsXExPZajs6Li0/o/SAgirAvwgkUJHhGSkpo2NXV1Wnu3Lnd62vWrFFzc3PYDRpWr16tOXPmaPLkyZe8HydE8pGd5Zv7fmzLoRrddu/jyrzzW2Hrmx+dpFQbj6BAt7AAACAASURBVJTxSNUFtbW1vR5TWlra6x0T161b51QkR5z/vvLS37UXM0veyL36V9LH7Reec3Qluyt/pRFDXYkEw5yYfZGaeyb2RSm6/w0jsihI8Iy0tDTl5OSopKREw4cP16hRo1ReXq4dO3ZIUndB+sMf/qDf/e53qqqqMpg28tqO1Ov0yWMal3O3hiSPDl//tE2paXkG0/VvxcXFpiMA1+TODOlXe6789pgY6ZYRohwhTLTPPvZFOIWbNMAzYmNjVVZWpuzsbBUWFmrhwoVKSUlRUVGR4uLium/QUFlZqYMHD+qWW27RzTffrNdee01Lly7VP//zPxv+DJzV0lCt+ITBumFsbth68zu7lJQ8RoOHjTCUrP8rKCgwHQG4JnekS2OGX/5tMTHSgDjpXu5gh4tE++xjX4RTKEjwlIyMDFVWVurkyZNqbGzU6tWr9ac//UlZWVkaNGiQJOmRRx7RBx98oHfffVfvvvuupk+frg0bNuj73/++4fTOammoVur4vEueS9Bcv9v2ZQSwJzMz03QE4JoMjJeK/kLKS5NiL3oe+s3J0kNflW663kw2RK9on33si3AKl9jB82pqaiJyp7poN+OBy1/rfdfCjS4nAeBFiQOk+78k/dUXpMe2hdb+r7kUI3gX+yKcQkGCp7W3t6uurk5Lly694jH9/blIAHAthnzmbsiUIwCgIMHjkpKS1NnZaToGfGbmzJmmIwCA65h98AuegwQANm3cyOUaAPyH2Qe/oCABgE2FhYWmIwCA65h98AsKEgDYxPPaAPgRsw9+QUECAAAAAAsFCQAAAAAsFCQAsOnAgQOmIwCA65h98AsKEgDYtHXrVtMRAMB1zD74Ba+DBESZ9febToDerFq1SgUFBaZjAICrTM0+9kW4jTNIAAAAAGChIAEAAACAhYIEADZt2LDBdAQAcB2zD35BQQIAm7Kzs01HAADXMfvgFxQkALApPz/fdAQAcB2zD35BQQIAAAAACwUJAAAAACwUJACwKS8vz3QEAHAdsw9+QUECAJuqq6tNRwAA1zH74BcUJAAAAACwUJAAAAAAwEJBAgCbysvLTUcAANcx++AXFCQAAAAAsFCQAMCmefPmmY4AAK5j9sEvKEgAAAAAYIk3HQBAuOWb3f+Y6+93/2MCANAXJvZFib3RzziDBAA2FRUVmY4AAK5j9sEvKEgAYNOyZctMRwAA1zH74BcUJACwacaMGaYjAIDrmH3wCwoSANjU2tpqOgIAuI7ZB7+gIAEAAACAhYIEADZlZWWZjgAArmP2wS8oSABg07Zt20xHAADXMfvgFxQkALBp5cqVpiMAgOuYffALChIA2FRWVmY6AuBrJ09Lr/xZ+q83pBf3S0fbTSfyB2Yf/IKCBM/p6urS2rVrlZ6ersTEROXm5ioQCGjixIlavHix6Xiue3rZTdpX+XTYWjAY1MbvDlV99bOGUgGA84JBaedb0soKaVuN9NLb0nNvSqt/Jf3i99KZc6YTIhqwL+JaxZsOANi1aNEiVVRU6LHHHtPUqVO1a9cuzZ8/X62trXr44YdNx3NV+8eHdbKtWTeMmxy2fvzDBp05dUKpadMMJQMA5+3YK72w//Jv2/Oe9OkZacksKSbG3VyIHuyLcAIFCZ6yZcsWbdq0SVVVVcrPz5ckzZo1S3v27FFFRYWmTJliOKG7WhqqFRMbp+TRt4atf9S4V4OHpWpI8hhDyfq3QCBgOgLgOyc6QmeMelLbLL3TImWMdCeT33hh9rEvwglcYgdPKSkp0ezZs7vL0XkTJkzQgAEDlJOTI0maOXOmxo8fr8mTJ2vy5Ml65JFHTMSNuJaGal0/MkPxAxPD1lsb92rEeB4li5T9+6/wEDaAiKl5V+oK9nxMTIz0Wr0rcXzJC7OPfRFO4AwSPKOpqUn79u3TihUrLnlbY2OjsrOzlZCQ0L32gx/8QPPmzYtIlpgIXr/x0DO9/ATwGS0N1WprqdeT30sJWz97ul3T7nm0z+8nkp+P11zu++tipaWlvR5XWlrqVCRHnP++8tLftRczS97M7YXMMxasV+5Xlik2Nu6KxwSD0nO//b2+/eUvu5isf3Bi9kVq7pnYFyWz/x6Cwb5/znAeBQme0dTUJEkaOTL82omOjg4FAgHNmTPHRCyjWg7V6LZ7H1fmnd8KW9/86CSl8kgZgH7kTMcnvf7A2tXVqTMdn7iUCNGIfRFOoCDBM1JSQo8G1dXVae7cud3ra9asUXNzs6ZOnRp2/D/8wz+ouLhYaWlpWr16dffld06I5CM7yzf37bi2I/U6ffKYxuXcrSHJo8PXP21Talpenz8mj1RdUFtb2+sxpaWlvd4xcd26dU5FcsT57ysv/V17MbPkzdxeyHz4mPSDHT0fExsbp0e/N1f/+YPo/TyilROzL1Jzz8S+KEX3vwdEFgUJnpGWlqacnByVlJRo+PDhGjVqlMrLy7VjR2jH/GxB+sUvfqExY8YoJiZGv/zlL3X33Xervr5en/vc50zFd1xLQ7XiEwbrhrG5YevN7+xSUvIYDR42wlCy/q+4uNh0BMB3Rl0vff7G0I0YLicmRho2SPrCOHdz+Um0zz72RTiFmzTAM2JjY1VWVqbs7GwVFhZq4cKFSklJUVFRkeLi4sLOEI0dO7b7UoxvfvObGjhwoP785z+bih4RLQ3VSh2fp9i48Mc5mut3cxlBhBUUFJiOAPjSt+6QxllPLbn4YruhiVLh/yYN5KHfiIn22ce+CKcwRuApGRkZqqysDFtbsGCBsrKyNGjQIEnSqVOn1N7e3n1J3ksvvaQTJ05owoQJrueNpBkPXP5ShrsWbnQ5if9kZmbqwIEDpmMAvjM4QfrvX5H2Hw7dre7tD0Lr931RmnazlDDAaLx+L9pnH/sinEJBgufV1NRo+vTp3b//5JNPNGfOHJ05c0axsbEaOnSotm/frqFDhxpMCQBwQlyslDMm9Ov8c1PuSDebCUD/QkGCp7W3t6uurk5Lly7tXhsxYoT++Mc/GkwFAAAAr6IgwdOSkpLU2dlpOgZ8ZubMmaYjAIDrmH3wC27SAAA2bdzI9ewA/IfZB7+gIAGATYWFhaYjAIDrmH3wCwoSANhUVVVlOgIAuI7ZB7+gIAEAAACAhYIEAAAAABYKEgDYFM0vlAgAkcLsg19wm28gyqy/33QC9Gbr1q0qKCgwHQMAXGVq9rEvwm2cQQIAm1atWmU6AgC4jtkHv6AgAQAAAICFggQAAAAAFgoSANi0YcMG0xEAwHXMPvgFBQkAbMrOzjYdAQBcx+yDX1CQAMCm/Px80xEAwHXMPvgFBQkAAAAALBQkALApLy/PdAQAcB2zD35BQQIAm6qrq01HAADXMfvgFxQkAAAAALBQkAAAAADAQkECAJvKy8tNRwAA1zH74BcUJAAAAACwUJAAwKZ58+aZjgAArmP2wS8oSAAAAABgiTcdAEC45Zvd/5jr73f/YwIA0Bcm9kWJvdHPOIMEADYVFRWZjgAArmP2wS8oSABg07Jly0xHAADXMfvgFxQkALBpxowZpiMAgOuYffALChIA2NTa2mo6AgC4jtkHv6AgAQAAAICFggQANmVlZZmOAACuY/bBLyhIAGDTtm3bTEcAANcx++AXFCQAsGnlypWmIwCA65h98AsKEgDYVFZWZjoCALiO2Qe/oCDBc7q6urR27Vqlp6crMTFRubm5CgQCmjhxohYvXmw6nuueXnaT9lU+HbYWDAa18btDVV/9rKFUAACYwb6IaxVvOgBg16JFi1RRUaHHHntMU6dO1a5duzR//ny1trbq4YcfNh3PVe0fH9bJtmbdMG5y2PrxDxt05tQJpaZNM5QMAAD3sS/CCRQkeMqWLVu0adMmVVVVKT8/X5I0a9Ys7dmzRxUVFZoyZYrhhO5qaahWTGyckkffGrb+UeNeDR6WqiHJYwwl698CgYDpCADgOi/MPvZFOIFL7OApJSUlmj17dnc5Om/ChAkaMGCAcnJyJElnzpzRww8/rPT0dE2aNKnfvvp3S0O1rh+ZofiBiWHrrY17NWI8j5JFyv79+01HAADXeWH2sS/CCZxBgmc0NTVp3759WrFixSVva2xsVHZ2thISEiRJf//3f68TJ06otrZWcXFxam5udjRLTEyMo+/vsx56JtjnY1saqtXWUq8nv5cStn72dLum3fNon99PJD8fr7nc99fFSktLez2utLTUqUiOOP995aW/ay9mlryZ24uZJe/mjkZOzL5IzT0T+6Jk9vsqGOz75wznUZDgGU1NTZKkkSNHhq13dHQoEAhozpw5kqRPP/1UTz75pN5//33FxcVJkm688UZ3w7qk5VCNbrv3cWXe+a2w9c2PTlIqj5QBAHyGfRFOoCDBM1JSQo8G1dXVae7cud3ra9asUXNzs6ZOnSpJqq+v17Bhw7Ru3To9//zzio2N1cMPP6yCggLHskTykZ3lm/t2XNuRep0+eUzjcu7WkOTR4euftik1La/PH5NHqi6ora3t9ZjS0tJe75i4bt06pyI54vz3lZf+rr2YWfJmbi9mlrybOxo5MfsiNfdM7IsS31d+RkGCZ6SlpSknJ0clJSUaPny4Ro0apfLycu3YsUOSugvSuXPndPjwYd144416/fXX9e677+r2229Xenq6vvCFL5j8FBzV0lCt+ITBumFsbth68zu7lJQ8RoOHjTCUrP8rLi42HQEAXBfts499EU7hJg3wjNjYWJWVlSk7O1uFhYVauHChUlJSVFRUpLi4uO4bNIwdO1aS9O1vf1uSdPPNN+uOO+7Q66+/bix7JLQ0VCt1fJ5i48If52iu381lBBHm5NlIAPCKaJ997ItwCmeQ4CkZGRmqrKwMW1uwYIGysrI0aNAgSaFL8WbPnq1f//rXuu+++3T06FG9/vrr+v73v28icsTMeODylzLctXCjy0n8JzMzUwcOHDAdAwBcFe2zj30RTuEMEjyvpqam+/K68370ox/pySef1KRJk5Sfn69HHnlE06dPN5QQAAAAXsEZJHhae3u76urqtHTp0rD1cePG6cUXXzSUCgAAAF5FQYKnJSUlqbOz03QM+MzMmTNNRwAA1zH74BdcYgcANm3cyPXsAPyH2Qe/oCABgE2FhYWmIwCA65h98AsKEgDYVFVVZToCALiO2Qe/oCABAAAAgIWCBAAAAAAWChIA2BTNL5QIAJHC7INfUJAAwKatW7eajgAArmP2wS94HSQgyqy/33QC9GbVqlUqKCgwHQMAXGVq9rEvwm2cQQIAAAAACwUJAAAAACwUJACwacOGDaYjAIDrmH3wCwoSANiUnZ1tOgIAuI7ZB7+gIAGATfn5+aYjAIDrmH3wCwoSAAAAAFgoSAAAAABgoSABgE15eXmmIwCA65h98AsKEgDYVF1dbToCALiO2Qe/oCABAAAAgIWCBAAAAAAWChIA2FReXm46AgC4jtkHv6AgAQAAAICFggQANs2bN890BABwHbMPfkFBAgAAAABLvOkAAMIt3+z+x1x/v/sfEwCAvjCxL0rsjX7GGSQAsKmoqMh0BABwHbMPfkFBAgCbli1bZjoCALiO2Qe/oCABgE0zZswwHQEAXMfsg19QkADAptbWVtMRAMB1zD74BQUJAAAAACwUJACwKSsry3QEAHAdsw9+QUECAJu2bdtmOgIAuI7ZB7+gIAGATStXrjQdAQBcx+yDX1CQ4DldXV1au3at0tPTlZiYqNzcXAUCAU2cOFGLFy82HQ8+UFZWZjoCAI852ylVN0i/fE3a8pr0ap106qzpVPYw++AXFCR4zqJFi7R69WotWbJEO3fuVEFBgebPn6+GhgZNnTrVdDzXPb3sJu2rfDpsLRgMauN3h6q++llDqQAA573TIq2qkDbvlv7QIL3eIJVVh9b2NppO1/+wL+JaxZsOANixZcsWbdq0SVVVVcrPz5ckzZo1S3v27FFFRYWmTJliOKG72j8+rJNtzbph3OSw9eMfNujMqRNKTZtmKBkAQJI+OCY9WSl1doZ+HwxeeNuZc9Km30tL75LSR5rJ19+wL8IJFCR4SklJiWbPnt1djs6bMGGCBgwYoJycHLW1tWnmzJndbztz5owOHDigt956S5MmTXI5cWS1NFQrJjZOyaNvDVv/qHGvBg9L1ZDkMYaS9W+BQMB0BAAe8cL+UDkKXuZtQUkxQWnnW94oSF6YfeyLcAKX2MEzmpqatG/fPt13332XvK2xsVHZ2dlKSEjQddddpzfffLP71yOPPKLc3Nx+V46k0EZw/cgMxQ9MDFtvbdyrEeN5lCxS9u/fbzoCAA84fTZ0Cd3lytF5QUkNrdLRdrdSXT0vzD72RTiBM0jwjKamJknSyJHhD7N1dHQoEAhozpw5l/1zTz31lOM3b4iJiXH0/X3WQ8/0tJWGa2moVltLvZ78XkrY+tnT7Zp2z6N9fj+R/Hy8ZsWKFb0eU1pa2utxpaWlTkVyxPnvKy/9XXsxs+TN3F7MLEV/7iHJY/Tg/+rbk4xunTxdRw7+IcKJrsyJ2RepuWdiX5TMfl8Fg33/nOE8ChI8IyUlNOzq6uo0d+7c7vU1a9aoubn5sjdoqK2t1Z49e/Tcc8+5ltNNLYdqdNu9jyvzzm+FrW9+dJJSeaQMAIw6/Wmbgl2diomN6/XYU+1HXUjU/7EvwgkUJHhGWlqacnJyVFJSouHDh2vUqFEqLy/Xjh07JOmyBenHP/6xCgoKNGzYMEezRPKRneWb+3Zc25F6nT55TONy7taQ5NHh65+2KTUtr88fk0eqLqitre31mNLS0l7PSq5bt86pSI44/33lpb9rL2aWvJnbi5klb+R+OiDtPxx+c4bPipE0erh07Mg7rua6mBOzL1Jzz8S+KEX39xUii+cgwTNiY2NVVlam7OxsFRYWauHChUpJSVFRUZHi4uKUk5MTdvzp06f1i1/8ot++NlJLQ7XiEwbrhrG5YevN7+xSUvIYDR42wlCy/q+4uNh0BAAe8RfZoRJ0pYu1gpLu9shTZKN99rEvwimcQYKnZGRkqLKyMmxtwYIFysrK0qBBg8LWn332Wd1444360pe+5GZE17Q0VCt1fJ5i48L/GTfX7+YygggrKCgwHQGAR9ycIn3ny9K/vRp6sdjPio2R7vuidOvoy//ZaBPts499EU6hIMHzampqNH369EvWn3rqKf3t3/6tgUTumPHA5S9luGvhRpeT+E9mZqYOHDhgOgYAj8gZIz3+16EXiP3VntDanBxp+gRp2KCe/2w0ifbZx74Ip1CQ4Gnt7e2qq6vT0qVLL3nbSy+9ZCARAACX+lyCNCvzQkHyymV1gB9RkOBpSUlJ6uzs7P1AAAAAoA+4SQMA2DRz5kzTEQDAdcw++AUFCQBs2riR69kB+A+zD35BQQIAmwoLC01HAADXMfvgFxQkALCpqqrKdAQAcB2zD35BQQIAAAAACwUJAAAAACwUJACwKZpfKBEAIoXZB7/gdZCAKLP+ftMJ0JutW7eqoKDAdAwAcJWp2ce+CLdxBgkAbFq1apXpCADgOmYf/IKCBAAAAAAWChIAAAAAWChIAGDThg0bTEcAANcx++AXFCQAsCk7O9t0BABwHbMPfkFBAgCb8vPzTUcAANcx++AXFCQAAAAAsFCQAMCmvLw80xEAwHXMPvgFBQkAbKqurjYdAQBcx+yDX1CQAAAAAMBCQQIAAAAACwUJAGwqLy83HQEAXMfsg19QkAAAAADAQkECAJvmzZtnOgIAuI7ZB7+gIAEAAACAJd50AADhlm92/2Ouv//a/vzAF3Y6E8SmM1+ZY+TjAgCA/oszSABgU1FRkekIAOA6Zh/8goIEADYtW7bMdAQAcB2zD35BQQIAm2bMmGE6Qp+1n5L+3Hzh9+8flc51msvTF+c6paaPL/z+wAfSiQ5zefrq+KfS24cv/P6DY1Jnl7k8fXG2U3rvowu/rzsinTxtLk9fBIPSx+3S/qYLa0eOS11R/rU+fU5q+PDC7+tbpFNnzeW5Gl6afcC14DlIAGBTa2ur6Qg9aj8lvXYw9OujE+Fv++fnpbhYKWOkdGe6lHmTFBsFD5V1BUNF7vd1Um1zeLF4sjL03+Qk6bY0afoEaeggMzkv1vaptOsd6fWG0P9/1podUnyclH2TdEeGlJ4qxcSYyflZnV3Svibp1XdCP6R3BS+8bcNLof+mDg19nb+YJn0uwUzOi7WeCH2taw5JJ06Fv+1/PiclxEs5Y0Jf65tTzGS82NlOaW+j9Gqd9O7RULk774cvhv47+nrpS+nStJulhAFGYvZZtM8+wCkUJADoJ4JBaVe9tH1P6NHqK+nsCp2VOfCBNC5Z+t+/JKUOcy/nxVpPSFt2Sw29/Ox1tF3a8Zb0wn7pni9Id2ZIsYYKR2eXVHlA2vlWz2eJznVKe98P/Zp4o/TN26TrP+dezos1fSz9+2uhs1s9aflE+tUe6bd/ku6dJk0bb67cne2Unn9L+t3bUrCH406fk6oPhX5NHivNy5OSEl2LeYmDH4a+rz9q7/m4pmNS2evSb/4kfeOLUvZod/IBuLIoeNwQALwlKyvLdIRLnO2UfvZK6AetnsrRxd47Kv1gh/Tme5HL1pN9TdKaX/dejj7rbKdUUSM9VWXvc3VKx5nQmZbn3rR3Cd2fm0NnOuqORC5bT/5wUFr3fO/l6LM6zkqbd0ubd5m5XPCTDqn0N9JLvZSji73ZGPpav/9x78dGwov7pR++0Hs5+qxPOqSnAtKzfww/qxdNonH2AZFAQQIAm7Zt22Y6QpjOLmnTK9Jb71/dnz/XJf3891f/56/W24eln74cKjxX48AH0k8C7j6n6sy50CV/Bz/s/djLOX1O+nGVdLDF0Vi9qm6Qtrx29T9417wrPbPL3R/cT56WnnjRXqH7rPbT0oZr+PNX63dvh8rz1X6pArWhs3fRKNpmHxApFCQAsGnlypWmI4SpPCDtP9zzMevv7/n1roKS/n23dOyko9Gu6JOO3n/g7i2zFDob89t9zmbryXNvSu9+1PMxveU+1yn94lXpU5duhtDyifQfr/d8TF++1m+8F3oOkFvKXg9l70lvuTvOhr7WV1vC7TrUKv3XGz0f05evdaBW+pPLD1j0RbTNPiBSKEgAYFNZWZnpCN0+/CT0PBgnnDob+qHUDdtqpE/POPO+XtzvzlmCQ63Sy3925n0d75C29/KDtBOCQemXrzl3lm37G5fejCIS3no/dJmcE44cl15woUR3doXO0jl1km3r66HLOaNJNM0+IJIoSPCcrq4urV27Vunp6UpMTFRubq4CgYAmTpyoxYsXm47nuqeX3aR9lU+HrQWDQW387lDVVz9rKNWVdf3mtzr7V/de+mv213R29tcU7PDA/ZyjyMu1zj435O0PIl82Wk+E7uzllK6gVFXr3Pu7ksoDzr6/1xtCRSmSDrWGfjnlzLnQnQYj7aW3nX1/L/858s9X+1NT6AELp5w4FbrhBAD3UZDgOYsWLdLq1au1ZMkS7dy5UwUFBZo/f74aGho0depU0/Fc1f7xYZ1sa9YN4yaHrR//sEFnTp1Qato0Q8muLPbur2rA9oqwX3HfXy7FxSluxX9XzKAouX+zB5y/a5fTdtU7/z4/a3cELtPa855zZ6Qu5/inoR+AndQVDN04IZIicUnca/WRvWHD4WPhr83khFNnI38jkkh8rd28pBHABdzmG56yZcsWbdq0SVVVVcrPz5ckzZo1S3v27FFFRYWmTJliOKG7WhqqFRMbp+TRt4atf9S4V4OHpWpI8hhDyfqu68WX1Fn6L4r7/nLF3jXLdJw+CQQCpiNICt2yORKPikf6BgL1V3mDg56cs17wNPMm59+3FLrLXjACNyg42CLp1l4Pu2qR+Fq3n5Zajks3Xe/8+5ZCr80Uqfd72y2Red+dXeEvAuuUI8dDZ5KGGLxd+WdFy+wDIo0zSPCUkpISzZ49u7scnTdhwgQNGDBAOTk5kqSqqirl5eVp8uTJyszM1Nq1a03EjbiWhmpdPzJD8QPDd8/Wxr0aMT76zh5drGvH86Fy9Mj/8Ew5kqT9+/ebjiApcrcwPvJJ6FKqSOjsitwlfJG8pXOk3vf7H0emeEmhFwyO1POFGj36tY6UI8dDd4OMhPePRub9Xo1omX1ApMUEg5EazYCzmpqaNGbMGP3kJz/Rgw8+GPa2+fPnq7a2Vm+8EXrW85gxY/Tzn/9cd911l1pbWzVx4kS9+uqryszMdCRLTARfMfGhZ/r+T/LZ//lVNR2o0sBBQ8PWz55u17R7HtX0e1f16f38rweu7fMZ8Nsdtv9M539uV9fTP1XcPzyq2C/ddlUf9+xX517Vn+vJihUrej2mtLS01+NKS0udinRFd3zjnzTtnkfC1nq7O9aVLN8c/vufPjROJ446+EQhy6AhKVq8MfxJMU5lfvO3/6rAL/77VSbr2VeX/FyZX/5W2JpTuf/12wPV1Xn2KpNdWcqYSbr/n8Lv4OFU5l1b/17V2//pKpP17K//7rcaO+krYWtO5O44cVQ/Lky5hmRXNnbSV/XXf/ebsDWnvtYv/Hih3n5509W9MxucmH1uzD2/4Mdzs7jEDp7R1BR6AsDIkSPD1js6OhQIBDRnzpzutZiYGLW1tUmS2tvblZCQoOHDh7sX1iUth2p0272PK/PO8B/cNj86SalRfAapc2u5uv5ts+IeX6nYaf66LNI7IrM5R3TTj+D7Dkbo63H+vUfkvUby6+HJr7U3f+DkB2XAfZxBgmfU19crPT1dpaWlWr58efd6cXGxHn/8cT3xxBNaunSpJOm1117T3/zN3yg+Pl4ffvihnnrqKT3wwAOmotty8aOHV9J2pF4//z/T9c3VNUodP/WS9b99okWDh43o0/u62kc6zxv4ws4+H9v5zL+rq2yb4v6fVYrNzbmmj3vmK3N6P8im2treb4eWmZmpAwd6vqXZ5z//eaciXVFVrfSff+zbsef/jvvy/RUTI/1/ZGOJVwAACcRJREFUBdLACDyE1tkl/d1/9O1yJDuZJekvc6WvROj5PNvfCL0AaF/YyT14oPT/zgt9zZ3Wfkr6v/v4up52v9bzp0fu+TzP7JJq+njzETu5Rw6THvna1efqyeFj0g/6eCLd7td6yazIPbfus5yYfW7MPcANnEGCZ6SlpSknJ0clJSUaPny4Ro0apfLycu3YEdqVzt/BrrOzU8XFxdq0aZO+8pWvqL6+XrNmzdLkyZN1660RfDa0y1oaqhWfMFg3jM0NW29+Z5eSksf0uRy5qfOnm9S1/TnFlaxWbHaW6ThXrbi42HSE/7+9u/uxs6jjAP7dc7bttnS7YLeFlhZK3+gbaQsWiq30BRpElBtNJWhRQkJS0WAwxpiY8B94CRfGcOGNgSv/gpKgQJCYlhhSCgUjSi2ovAgiL6VezBSh7dI9y3nOOaWfT7LZZPOcyWSyO3m+OzO/SZIsbmhR9KI5zYSjJGm3yuH+vzRwrmJRg4vETY314i80E46SZPZIcv6sZs4hNTUeJ9qebEDqtN2mXDSWDLeaOYfUZL87NShzHzRNkQbOGq1WKw8//HDWrl2bvXv35o477sj4+HjuvvvutNvtjwo07N+/P88++2x27Sp72JcvX57Nmzfn0Ucf7Wf3u+7oC3/IhZdtSqv9yTfZI88/PpDb644fPpwPf/NQ8u67Ofazn59yD9KxXz3Y7y5O2u7du/vdhSTlxWlGA0Fm+YXdb7Pp9ofbyaXNHC9Jkiydn7QaCDJn41jPnpFcONb9dk9Y0dCYNDnW7Vb5Hem2i8ZK0B0UgzL3QdOsIHFWWblyZfbt2/eJn+3Zsydr1qzJzHp/zuLFi3P06NEcOHAg69evzyuvvJInnngi99xzTz+63JjrvvOL0/585x0P9LgnkzO0bNmUijkMoslsseuF6cPJpqXdv7jzSyu6294p7S+f/Ha1ybry0rJdrSljM5N1i5KnX+pem62h5rapnbBlRfdXY65dXgJBUxZekCwZT/7cxbuQZk5LNl7avfZOZ8uK5NDfu9/mIBmUuQ+aZgWJs95TTz31iQti58+fnwcffDC33357NmzYkO3bt+fee+/N1q1b+9hLaMa2y8vWnm5ZszBZcH732jud8dFkwyXda681lOzoToHKT7VzTdLNRaSrlyZzGr4Xecl4snRe99qbMZxsWdm99iZyw9rutnfdqua2jZ6wblEyf86Zn5us0ZHyDxCg9wQkzmpvvfVWDh06dMoFsbt3786BAweyf//+PPPMM5MqXwpno3lzkps+W62Lj4xMS3ZPreJ6x77xxeS8Lq347FrXfKhLSti4rktn0MdmJrf0oIDj0FApqDCt3Z32brmynGtq2rpF3VvxWTCW7Opy4Dqddiu57druhehvXVP+JoHes8WOs9rs2bNz7NixfneDc8z27dv73YVP2LE6efEfyZ/+OvEzZ6qY1RpKvn1tb15+k2R0ZrJna/LLfcmxCWqpTqbK1+ULevPye8LN68vFnS+8OvEzZ+r3tHby3a3Nbgn8uHlzkluvSX792MTPTGasr1pStkf2yjc3JUdeL5ewTuRM/Z41Pbl9azmj1gtLxkuI/O0fJ35mMmO9Y3UJiYNm0OY+aIoVJIAOPfDAYJ3zarWS721N1k9x29pwfWG/YnF3+3UmqxYkd26b+urG2ouTO6/r3ctvUrZp3bVj6oUERqaVzzdxoP/TXHVZWd1oT3F5Y9PSujrS3B3ZpzhvRnL39cmiC6b2+dGR5PvX92Z18eN2rE5u2Tj1laSd9fODaNDmPmiKgATQob179/a7C6cYbpeQdGuH23IuG09+8tWph6vPas3FyU9vTpZ1EBimD5fVhTu3NX+u5HRGpiV7d5aX2E7Of61aUO7haapK25lcvTT58U2dlUOfNT3ZsyW5bXOzhRkmMjoz+dGNZZWwkyqCV15axrrJ0u+fZuea5Ie7knmjk//M2Mzkru1lBaqXQbQTgzj3QRNssQPo0COPPNLvLpzW0FCyeXlZCXryheTx55NX3jz1ueFW2Zq2dWX53kT56k6MjyY/uKFUAPvdoeTgkeT90+ycnTdaqr5ds6ysDvRTq1Vegq9akjx+OHnycPKvt099bnq7hMAvryyrRv1+8V14QXLvjckzL5exfu5oubz3ZAvGyu/SpqW92wo4keF2cvOG0p/HnitV+d5459TnRqaVoL9lRXLJ3N7382RL55fw//RLye+fS158NfnwpO2kQ0kWzy1bFzcuaaZsfzcN6twH3Tbgf4oAdOq8GWWbz47VydvvJn97LfnPeyUIzZ1d7lbpx2rApxkaKmHt8gXlhf3oG8k/3yovlDOnJwvPH6z7YE4Ym5V85Yry9e//Ji+/lrzzftnKNm9OMn+0hKlB0mqV8y3rFiUfHEuOvJG89nZy/Hgya0Zy8QX9D0WnM3d28vWNydc2lIB05PXk3Q9K4L9wTjJ3tP9h/2TD7eTKJeXrvQ+Sl19P3nynjPXoSBnrGQoxwMARkAA+x86bkay8qN+96Ey7VVY6Fk7x7Em/jI6UgHc2GW6XC4cX92kr2lQMDZViIr0qKNIt04dLEQdg8A3Y/7UABp+LEoFzkbmPc4WABNChhx56qN9dAOg5cx/niqHjx49PcAMFwLnn4MGDZ3xm9erVZ/xP6qpVXbpRFKAHujH3mff4vLCCBAAAUAlIAAAAlYAE0KH777+/310A6DlzH+cKAQmgQ2vXru13FwB6ztzHuUJAAujQtm3b+t0FgJ4z93GuEJAAAAAqAQkAAKAa7ncHAAbJZO7xuO+++9z3AXyumPvg/1wUCwAAUNliBwAAUAlIAAAAlYAEAABQCUgAAACVgAQAAFAJSAAAAJWABAAAUAlIAAAAlYAEAABQCUgAAACVgAQAAFAJSAAAAJWABAAAUAlIAAAAlYAEAABQCUgAAACVgAQAAFAJSAAAAJWABAAAUAlIAAAAlYAEAABQCUgAAACVgAQAAFAJSAAAAJWABAAAUAlIAAAAlYAEAABQCUgAAACVgAQAAFAJSAAAAJWABAAAUAlIAAAAlYAEAABQCUgAAACVgAQAAFAJSAAAAJWABAAAUAlIAAAAlYAEAABQCUgAAACVgAQAAFAJSAAAAJWABAAAUAlIAAAAlYAEAABQCUgAAACVgAQAAFAJSAAAAJWABAAAUAlIAAAAlYAEAABQCUgAAACVgAQAAFAJSAAAAJWABAAAUAlIAAAAlYAEAABQCUgAAACVgAQAAFAJSAAAAJWABAAAUAlIAAAAlYAEAABQCUgAAACVgAQAAFAJSAAAAJWABAAAUAlIAAAAlYAEAABQCUgAAACVgAQAAFAJSAAAAJWABAAAUP0P3NR2XZsOt7oAAAAASUVORK5CYII=",
        "encoding": "base64",
        "path": [
         "value"
        ]
       }
      ],
      "model_module": "@jupyter-widgets/controls",
      "model_module_version": "1.5.0",
      "model_name": "ImageModel",
      "state": {
       "layout": "IPY_MODEL_ea7423932c7c48f583a8d4b576e3fa4f",
       "value": {}
      }
     },
     "e9e6101e319a4cc298a9bfb0a38a2937": {
      "model_module": "@jupyter-widgets/controls",
      "model_module_version": "1.5.0",
      "model_name": "HBoxModel",
      "state": {
       "children": [
        "IPY_MODEL_f14c18555aa4403396577a37efcf3422",
        "IPY_MODEL_61d7b7fd9e5f4a30a0300acd52af35dc",
        "IPY_MODEL_642bdaca06b5413fb8619378d47c5205"
       ],
       "layout": "IPY_MODEL_125a7a461a2b4e0eb362a91de811d759"
      }
     },
     "ea7423932c7c48f583a8d4b576e3fa4f": {
      "model_module": "@jupyter-widgets/base",
      "model_module_version": "1.2.0",
      "model_name": "LayoutModel",
      "state": {}
     },
     "eaa603c6544c4fe986ebed910ad677b1": {
      "model_module": "@jupyter-widgets/controls",
      "model_module_version": "1.5.0",
      "model_name": "ButtonStyleModel",
      "state": {}
     },
     "ecc7744c1f5b4d32ad1fc6572e3bfae6": {
      "model_module": "@jupyter-widgets/controls",
      "model_module_version": "1.5.0",
      "model_name": "HTMLMathModel",
      "state": {
       "layout": "IPY_MODEL_6fbf029f653946c09543fca9aefe3380",
       "style": "IPY_MODEL_405aa9bc1b294989ad05a0046551142b",
       "value": "$$ |\\rangle = |\\rangle $$"
      }
     },
     "ecc7e7fd468b41269fc2c57808384dc2": {
      "model_module": "@jupyter-widgets/base",
      "model_module_version": "1.2.0",
      "model_name": "LayoutModel",
      "state": {}
     },
     "ecd84f49042845e6b5aafce4e3701e3b": {
      "model_module": "@jupyter-widgets/base",
      "model_module_version": "1.2.0",
      "model_name": "LayoutModel",
      "state": {}
     },
     "ecda73c1cec344e3b948610ae0485fb9": {
      "model_module": "@jupyter-widgets/controls",
      "model_module_version": "1.5.0",
      "model_name": "HBoxModel",
      "state": {
       "children": [
        "IPY_MODEL_9945a6c33d2f423d9923110f57ba3041",
        "IPY_MODEL_85ef92331f324be08e2847676bff860e",
        "IPY_MODEL_fd4cb9778cc9498e8b7bfaaa1e76302c"
       ],
       "layout": "IPY_MODEL_1799818cc21a4166a01a511fb2907511"
      }
     },
     "edc871fe87c3463caf01b941d37928ac": {
      "model_module": "@jupyter-widgets/base",
      "model_module_version": "1.2.0",
      "model_name": "LayoutModel",
      "state": {}
     },
     "eddbe72d2d1e455991890ca26ca2ecd8": {
      "model_module": "@jupyter-widgets/base",
      "model_module_version": "1.2.0",
      "model_name": "LayoutModel",
      "state": {}
     },
     "eedf8f0455484d9187a103109a0a243d": {
      "model_module": "@jupyter-widgets/controls",
      "model_module_version": "1.5.0",
      "model_name": "ButtonStyleModel",
      "state": {}
     },
     "ef14b83e46c94303810a013f6d7ad7ba": {
      "model_module": "@jupyter-widgets/controls",
      "model_module_version": "1.5.0",
      "model_name": "ButtonStyleModel",
      "state": {}
     },
     "ef7a7d61410c438e843d3cf853003a92": {
      "model_module": "@jupyter-widgets/controls",
      "model_module_version": "1.5.0",
      "model_name": "ButtonModel",
      "state": {
       "description": "Clear",
       "layout": "IPY_MODEL_ecd84f49042845e6b5aafce4e3701e3b",
       "style": "IPY_MODEL_35214cf2176f4172aa634d0959e182fa"
      }
     },
     "eff48ebcfd7742cfb8edb399ed5adc39": {
      "model_module": "@jupyter-widgets/base",
      "model_module_version": "1.2.0",
      "model_name": "LayoutModel",
      "state": {}
     },
     "f14c18555aa4403396577a37efcf3422": {
      "model_module": "@jupyter-widgets/controls",
      "model_module_version": "1.5.0",
      "model_name": "ButtonModel",
      "state": {
       "description": "H⊗ⁿ",
       "layout": "IPY_MODEL_3678094605004195919b379b0de25259",
       "style": "IPY_MODEL_9f4adb81ef2d4cc19c52bf1c3362fbbd"
      }
     },
     "f1848947a5b14e3491931a429a71cc94": {
      "model_module": "@jupyter-widgets/base",
      "model_module_version": "1.2.0",
      "model_name": "LayoutModel",
      "state": {}
     },
     "f2ab348b9ab14f63b5138e3d645e251e": {
      "model_module": "@jupyter-widgets/controls",
      "model_module_version": "1.5.0",
      "model_name": "HTMLMathModel",
      "state": {
       "layout": "IPY_MODEL_4485e1952dfb4036a8ae05bd58586c61",
       "style": "IPY_MODEL_6ff5f8738bb04c0d93c6e4c2c25b171c",
       "value": "$$ |0000\\rangle = |0000\\rangle  $$"
      }
     },
     "f346092d4dd8462eade0183b02ef58a2": {
      "model_module": "@jupyter-widgets/base",
      "model_module_version": "1.2.0",
      "model_name": "LayoutModel",
      "state": {}
     },
     "f3a00ed022484b9985649138e2de5c97": {
      "model_module": "@jupyter-widgets/controls",
      "model_module_version": "1.5.0",
      "model_name": "HTMLMathModel",
      "state": {
       "layout": "IPY_MODEL_fe4dddf566d34063ba97960841825788",
       "style": "IPY_MODEL_d57c9d8de8da4a0f90866b7ebd36b9bd",
       "value": "$$ |000\\rangle = |000\\rangle $$"
      }
     },
     "f3ac9e94e48e4d6ea6e8656aacd3ab5c": {
      "model_module": "@jupyter-widgets/controls",
      "model_module_version": "1.5.0",
      "model_name": "ButtonStyleModel",
      "state": {}
     },
     "f46f61ad29db4c6db6b3022b9d51b81a": {
      "model_module": "@jupyter-widgets/base",
      "model_module_version": "1.2.0",
      "model_name": "LayoutModel",
      "state": {}
     },
     "f4b384b6a96b42b3a548706447f1bd27": {
      "model_module": "@jupyter-widgets/controls",
      "model_module_version": "1.5.0",
      "model_name": "ButtonStyleModel",
      "state": {}
     },
     "f53369b5c7244dd3baa20a54823a622e": {
      "buffers": [
       {
        "data": "iVBORw0KGgoAAAANSUhEUgAAAOkAAABUCAYAAABnYxBIAAAABHNCSVQICAgIfAhkiAAAAAlwSFlzAAALEgAACxIB0t1+/AAAADh0RVh0U29mdHdhcmUAbWF0cGxvdGxpYiB2ZXJzaW9uMy4yLjEsIGh0dHA6Ly9tYXRwbG90bGliLm9yZy+j8jraAAAEuklEQVR4nO3bXWhbdRjH8V/OadcXOoZrtxa3OdZ1HbYzlXVjFcTSwV5hiMouhk4o1Wmp6JgITjaZL+Si1BcEccIYFTcna43iRdWptPGiXrQUBr2qW4USibGiFTvnKkm8KE6zN7Ol2XlO9v1c/tPkPCH95p8ccgKpVColAGY5Xg8A4NqIFDCOSAHjiBQwjkgB44gUMI5IAeOIFDCOSAHjiBQwjkgB44gUMI5IAeOIFDCOSAHjiBQwjkgB44gUMI5IAeOIFDCOSAHjiBQwjkgB44gUMI5IAeOIFDCOSAHjiBQwjkgB44gUMK7A6wEwa+/xm3/MNx/O7v7zvvxsbga5TjObtnlyXK+wkwLGESlgHJECxhEpYByRAsYRKWAckQLGESlgXF5Emkwm1dXVpVWrVqm4uFgNDQ2KRCJavXq19uzZ4/V4QFby4hdHbW1tCofDOnjwoBobGzU4OKhdu3ZpcnJS+/bt83q8nDjy1O1qeuhlrWl57OJaKpXS4ccXaNMT76lm/QMeTne55BenlHj78OU3zMxIkgo+7lGgpOQmT+UPvo/0xIkT6u7u1sDAgJqbmyVJLS0tGhkZUTgc1tq1az2ecO5N//KDzk3FtGj53Wnrv/00rpk/f1dl9TqPJrs6Z8tmOVs2p60lI98o0fma3Kc7CPQafB9pKBTS1q1bLwb6j5qaGhUWFioYDHo0We7Ex4cUcFyVL12Ttv7zxGmVLqjU/PJlHk2WueRXXyvxxltyn90rZ2OL1+OY5uvvpNFoVKOjo9q5c+dlt01MTKi+vl5FRUUeTJZb8fEh3VZVq4J5xWnrkxOntXiFvV30Usm+z2cDff45As2Ar3fSaDQqSaqqqkpbP3/+vCKRiLZtm9urJQKBwJw+3n89cyyV8d/Gx4c0FT+jd5+sSFv/68K01u3Yn/HjZPt8Ck/1Xfd9Ep98quSRo3IPvCDnng03dNxcvg7/J5XK/HWaK76OtKJi9p90bGxM27dvv7je2dmpWCymxsZGr0bLqfj3w9rw4CHdee+jaevH99+lSsM7aeJkr5LvH5d76EU56/LvXEGu+DrS6upqBYNBhUIhLVy4UEuWLFFvb6/6+mbf4ec60ly+i2Z6PenUj2d04dyvWh7covnlS9PX/5hSZfX6jI+Z7fO5nutJE8c+ULLnI7mvviSnIbvzBF7sZl7y9XdSx3HU09Oj+vp6tbe3q7W1VRUVFero6JDrunl70qigqFSL7mhIW499N6iy8mUqXbDYo8muLnG0W8nesNzQK1kHeivy9U4qSbW1terv709b2717t+rq6lSSh6f14+NDqlyxXo6b/tLFznxr8qNu6uxZJT88KbmuEvsPKHHJ7c79O+S2tXoym1/4PtIrGR4eVlNTk9dj5MR9j7x+xfWNre/c5EkyE1i58oZOMOFfvv64eyXT09MaGxvLyx8x4NaUdztpWVmZEolLP1QB/pV3OymQb4gUMI5IAeOIFDCOSAHjiBQwjkgB44gUMC6QutUuKQB8hp0UMI5IAeOIFDCOSAHjiBQwjkgB44gUMI5IAeOIFDCOSAHjiBQwjkgB44gUMI5IAeOIFDCOSAHjiBQwjkgB44gUMI5IAeOIFDCOSAHj/gaopAr5wJ6FhgAAAABJRU5ErkJggg==",
        "encoding": "base64",
        "path": [
         "value"
        ]
       }
      ],
      "model_module": "@jupyter-widgets/controls",
      "model_module_version": "1.5.0",
      "model_name": "ImageModel",
      "state": {
       "layout": "IPY_MODEL_ecc7e7fd468b41269fc2c57808384dc2",
       "value": {}
      }
     },
     "f60c611b925d4554b6d8eff492c89c90": {
      "buffers": [
       {
        "data": "iVBORw0KGgoAAAANSUhEUgAAASoAAADMCAYAAADEUO4EAAAABHNCSVQICAgIfAhkiAAAAAlwSFlzAAALEgAACxIB0t1+/AAAADh0RVh0U29mdHdhcmUAbWF0cGxvdGxpYiB2ZXJzaW9uMy4yLjEsIGh0dHA6Ly9tYXRwbG90bGliLm9yZy+j8jraAAAKfUlEQVR4nO3df0jc9x3H8dfdxR8J6czMtUq0CbF6stxyN7yWZjJqHZ29lGyE0hBkOCoOM+OyJY7BOmqILNwf4pjkn3XQdcKa3ajHbZTgTLdFbymXPyJSg/3HmZjKDecMS8bsrjZ4tz9Cb1zT0mTR+77TPh9wf+Rz3t37OHj6+XxR48pms1kBgGFupwcAgE9CqACYR6gAmEeoAJhHqACYR6gAmEeoAJhHqACYR6gAmEeoAJhHqACYR6gAmEeoAJhHqACYR6gAmEeoAJhHqACYR6gAmEeoAJhHqACYR6gAmEeoAJhHqACYR6gAmEeoAJhHqACYR6gAmEeoAJhHqACYR6gAmEeoAJhHqACYR6gAmEeoAJhHqACYR6gAmEeoAJhHqACYR6gAmEeoAJhHqACYR6gAmEeoAJhHqACYR6gAmEeoAJhHqACYR6gAmEeoAJhHqACYR6gAmEeoAJhHqACYR6gAmEeojMlkMhoYGFBdXZ1KS0sVDAaVSCRUX1+vzs5Op8cDHLHB6QGQr6OjQ/F4XL29vQqFQkomk2ptbdXS0pJ6enqcHg9wBKEyJBqNamhoSOPj42pqapIkNTc3a3JyUvF4XA0NDQ5PCDiDo58hkUhE4XA4F6kP1NbWqqioSIFAQJJ09epVNTU1yefzaffu3Tp//rwT4wIFw47KiFQqpenpaR07duy2++bn5+X3+1VSUiJJOnTokA4ePKjDhw8rmUzqwIEDmpubU3Fx8ZrM4nK51uR5cP/KZrNOj5CHHZURqVRKklRZWZm3nk6nlUgkcse+a9eu6c0331RHR4ckqbGxUdu2bdPY2FhhBwYKiB2VEV6vV5I0MzOjZ555Jrfe39+vhYUFhUIhSbd2VxUVFbndlSTt3LlT77zzzprNYu27KUCojKipqVEgEFAkElF5ebmqqqoUi8U0MjIiSblQAZ9FHP2McLvdGh4elt/vV1dXl9rb2+X1etXd3S2Px5O7kL59+3YtLi5qZWUl99i5uTnt2LHDqdGBdefKss83ra2tTVNTU7p06VJuraWlRfv3789dTH/uued09erVNbuYDljD0c+4iYkJ7dmzJ2/tpZde0vPPP6/BwUEVFxcrGo0SKXyqsaMybHl5WWVlZRocHNSRI0ecHgdwDKECYB4X0wGYR6gAmEeoAJhHqACYR6gAmEeoAJhHqACYR6gAmEeoAJhHqACYR6gAmEeoAJhHqACYR6gAmEeoAJhHqACYR6gAmEeoAJhHqACYR6gAmEeoAJhHqACYR6gAmEeoAJhHqACYR6gAmEeoAJhHqACYR6gAmEeoAJhHqACYR6gAmEeojMlkMhoYGFBdXZ1KS0sVDAaVSCRUX1+vzs5Op8cDHLHB6QGQr6OjQ/F4XL29vQqFQkomk2ptbdXS0pJ6enqcHg9wBKEyJBqNamhoSOPj42pqapIkNTc3a3JyUvF4XA0NDQ5PCDiDo58hkUhE4XA4F6kP1NbWqqioSIFAQJJ0/Phx+Xw+ud1uxWIxJ0YFCopQGZFKpTQ9Pa0DBw7cdt/8/Lz8fr9KSkokSeFwWKOjo3riiScKPSbgCI5+RqRSKUlSZWVl3no6nVYikdDevXtza42Njes6i8vlWtfnh33ZbNbpEfKwozLC6/VKkmZmZvLW+/v7tbCwoFAo5MRYgAnsqIyoqalRIBBQJBJReXm5qqqqFIvFNDIyIkkFDZW176YAOyoj3G63hoeH5ff71dXVpfb2dnm9XnV3d8vj8eQupAOfReyoDPH5fBobG8tba2tr065du7Rx40aHpgKcx47KuImJiduOfb29vaqurtaFCxd06NAhVVdX6/Llyw5NCKw/V5YLEmYtLy+rrKxMg4ODOnLkiNPjAI4hVADM4+gHwDxCBcA8QgXAPEIFwDxCBcA8QgXAPEIFwDxCBcA8QgXAPEIFwDxCBcA8QgXAPEIFwDxCBcA8QgXAPEIFwDxCBcA8QgXAPEIFwDxCBcA8QgXAPEIFwDxCBcA8/kt3FNTR04V/zcFv3tvji//4h7UZ5C69/7W9jryuReyoAJhHqACYR6gAmEeoAJhHqACYR6gAmEeoAJhHqACYR6gAmEeojMlkMhoYGFBdXZ1KS0sVDAaVSCRUX1+vzs5Op8cruJe/u03TYy/nrWWzWf3825/T7MXfOTTVx8ucfUM3v/Hs7bfwPt0M71M2nXZ6xPsSv0JjTEdHh+LxuHp7exUKhZRMJtXa2qqlpSX19PQ4PV5BLf/zb3r3xoIe3PGlvPV//eOK3n/v36qoedShyT6e++kWuZ9uyVvLJP6i1f6fyvO9brk2bnRosvsboTIkGo1qaGhI4+PjampqkiQ1NzdrcnJS8XhcDQ0NDk9YWItXLsrl9mhr9Rfz1q/NT2lTWYUe2PqwQ5Pducyf/qzVn52S5wdH5f5qs9Pj3Lc4+hkSiUQUDodzkfpAbW2tioqKFAgEdP36de3bt08+n0/BYFAtLS2anZ11aOL1tXjloj5f6dOG4tK89aX5KT20095u6sMyI6O3IvWjHxKpe8SOyohUKqXp6WkdO3bstvvm5+fl9/tVUlKidDqto0eP6qmnnpIknTp1Su3t7Tp//vyazeJyudbsuT7s+69m7/hrF69c1I3FWf3iO9689Zsry3r06y/c8fPc6/spemPkrh+z+vvXlXn5FXle/LHcX378/3rd9fwcPkk2e+efUyEQKiNSqZQkqbKyMm89nU4rkUho795bf/Jjy5YtuUhJUmNjo/r7+ws3aAEtzk3o8WdP6Atf+Vbe+ukXdqvC8I5q9bWYMr8+Lc+J43I/+tk6rq8Xjn5GeL23dg0zMzN56/39/VpYWFAoFPrIxw0ODmr//v1rOks2m12325268fdZrbx7XTsCT+uBrdW52+rN97TynxuqqHmsYO/nbqy++htlTkflOdl3z5Faz89hLd9zIbCjMqKmpkaBQECRSETl5eWqqqpSLBbTyMitY8dHhaqvr0+zs7M6d+5cocddd4tXLmpDySY9uD2Yt77w16Q2b31Ym8oecmiyj7f6ypAyr5+RJ/ITuf27nB7nU4UdlRFut1vDw8Py+/3q6upSe3u7vF6vuru75fF4FAgE8r7+5MmTOnPmjEZHR7Vp0yaHpl4/i1cuqmLnY3J78r+XLsxeMHnsy16+rMxvX5NWVrT6wou3/RzV6i9/5fSI9zVX1uI+DzltbW2amprSpUuXcmt9fX0aGRnR2bNntWXLFgenu3v8KeI7x58i/h+OfsZNTExoz549uX+//fbbOnHihB555BE9+eSTufW33nrLgemAwiBUhi0vL2tmZkaHDx/Orfn9fpMXO4H1RKgM27x5s1ZXV50eA3AcF9MBmEeoAJhHqACYR6gAmEeoAJhHqACYR6gAmMev0AAwjx0VAPMIFQDzCBUA8wgVAPMIFQDzCBUA8wgVAPMIFQDzCBUA8wgVAPMIFQDzCBUA8wgVAPMIFQDzCBUA8wgVAPMIFQDzCBUA8wgVAPMIFQDzCBUA8wgVAPMIFQDzCBUA8wgVAPMIFQDzCBUA8wgVAPMIFQDzCBUA8wgVAPMIFQDzCBUA8wgVAPMIFQDzCBUA8wgVAPP+CzY6RdF24abKAAAAAElFTkSuQmCC",
        "encoding": "base64",
        "path": [
         "value"
        ]
       }
      ],
      "model_module": "@jupyter-widgets/controls",
      "model_module_version": "1.5.0",
      "model_name": "ImageModel",
      "state": {
       "layout": "IPY_MODEL_279c09f8b2034ccd87ce74456ceec055",
       "value": {}
      }
     },
     "f6e3a0178b5e4c60b63905205d978a39": {
      "model_module": "@jupyter-widgets/base",
      "model_module_version": "1.2.0",
      "model_name": "LayoutModel",
      "state": {}
     },
     "f6fbabdf4ebb4398b7d2a9305ab5c571": {
      "model_module": "@jupyter-widgets/base",
      "model_module_version": "1.2.0",
      "model_name": "LayoutModel",
      "state": {}
     },
     "f75681efa82f4a1598ed71e9f304ddf2": {
      "model_module": "@jupyter-widgets/controls",
      "model_module_version": "1.5.0",
      "model_name": "ButtonModel",
      "state": {
       "description": "Clear",
       "layout": "IPY_MODEL_41bffbcd9fd541008f4b02cd739509bf",
       "style": "IPY_MODEL_b4f0343742a542e9900cdc1777e57873"
      }
     },
     "f77d7e4d16fe4e5faac9359cca8704ae": {
      "model_module": "@jupyter-widgets/controls",
      "model_module_version": "1.5.0",
      "model_name": "ButtonModel",
      "state": {
       "description": "H⊗ⁿ",
       "layout": "IPY_MODEL_b6026b790c9c4f32a4aa954c3a975814",
       "style": "IPY_MODEL_6af80d493dd24efebf63815cfe8caa29"
      }
     },
     "f7a87d345848427ba3c9b071d681d9ed": {
      "model_module": "@jupyter-widgets/controls",
      "model_module_version": "1.5.0",
      "model_name": "HTMLMathModel",
      "state": {
       "layout": "IPY_MODEL_f1848947a5b14e3491931a429a71cc94",
       "style": "IPY_MODEL_96def88564d84d40ad481d0cc9dc3c0e",
       "value": "$$ |00\\rangle = |00\\rangle $$"
      }
     },
     "f80cea8926df47169ead5c44df8aed4c": {
      "model_module": "@jupyter-widgets/controls",
      "model_module_version": "1.5.0",
      "model_name": "HTMLMathModel",
      "state": {
       "layout": "IPY_MODEL_cf831401b1404a64b4ecfc031fbf7a9b",
       "style": "IPY_MODEL_177b8e600da94d73800eb815667e53c4",
       "value": "$$ |00\\rangle = |00\\rangle $$"
      }
     },
     "f85a32d37a4c40be810c8c8b2bc1ebad": {
      "model_module": "@jupyter-widgets/controls",
      "model_module_version": "1.5.0",
      "model_name": "ButtonModel",
      "state": {
       "description": "Clear",
       "layout": "IPY_MODEL_55a4423e5d994ead87246ea1b1bd949d",
       "style": "IPY_MODEL_476da6fd791049018a9e5268c942cffa"
      }
     },
     "f9a09752f0104510bf343419f953ae61": {
      "model_module": "@jupyter-widgets/base",
      "model_module_version": "1.2.0",
      "model_name": "LayoutModel",
      "state": {}
     },
     "fa0a7c8570d64163a7bec84a614f8e25": {
      "model_module": "@jupyter-widgets/base",
      "model_module_version": "1.2.0",
      "model_name": "LayoutModel",
      "state": {}
     },
     "fd2ffce66ac94bfaa987bfeb77b055f7": {
      "model_module": "@jupyter-widgets/controls",
      "model_module_version": "1.5.0",
      "model_name": "ButtonStyleModel",
      "state": {}
     },
     "fd4cb9778cc9498e8b7bfaaa1e76302c": {
      "model_module": "@jupyter-widgets/controls",
      "model_module_version": "1.5.0",
      "model_name": "ButtonModel",
      "state": {
       "description": "Clear",
       "layout": "IPY_MODEL_091deb74160f427ea2969f0d3bf55f47",
       "style": "IPY_MODEL_ef14b83e46c94303810a013f6d7ad7ba"
      }
     },
     "fe4dddf566d34063ba97960841825788": {
      "model_module": "@jupyter-widgets/base",
      "model_module_version": "1.2.0",
      "model_name": "LayoutModel",
      "state": {}
     },
     "ff325820638445e09ab24d8e9c178849": {
      "model_module": "@jupyter-widgets/controls",
      "model_module_version": "1.5.0",
      "model_name": "ButtonModel",
      "state": {
       "description": "Uf",
       "layout": "IPY_MODEL_09cc3eaa86ac484380755e261262180b",
       "style": "IPY_MODEL_bde5ceab89644d0cbad37b4c97e2c79d"
      }
     },
     "ff85e0cacaa14910b5e118327ca07fa3": {
      "model_module": "@jupyter-widgets/controls",
      "model_module_version": "1.5.0",
      "model_name": "ButtonModel",
      "state": {
       "description": "Clear",
       "layout": "IPY_MODEL_c249d68fa1c54ee4a092000658bd9630",
       "style": "IPY_MODEL_536c6de0a5234be6bdfb2bdb1150b3a6"
      }
     },
     "ff96a75762064f28b089a5171dde8c35": {
      "model_module": "@jupyter-widgets/controls",
      "model_module_version": "1.5.0",
      "model_name": "HTMLMathModel",
      "state": {
       "layout": "IPY_MODEL_68743413c2754fa4854f38a816fbcab7",
       "style": "IPY_MODEL_b6a41bcf05fd423b86f6b1ae6b3c8238",
       "value": "$$ |{-}\\rangle\\otimes H^{\\otimes n} U_f H^{\\otimes n}|00\\rangle = |{-}\\rangle\\otimes|11\\rangle  $$"
      }
     },
     "ffbf4b922d1a46d3be8f0e804d82a5db": {
      "model_module": "@jupyter-widgets/base",
      "model_module_version": "1.2.0",
      "model_name": "LayoutModel",
      "state": {}
     },
     "ffd7e740b2d44293baa410d096f80e25": {
      "model_module": "@jupyter-widgets/controls",
      "model_module_version": "1.5.0",
      "model_name": "ButtonModel",
      "state": {
       "description": "Clear",
       "layout": "IPY_MODEL_ccb3335b780d4b51b7fafeda18d1fdad",
       "style": "IPY_MODEL_1dad43c09a6d48a09d8fabbe3743d23b"
      }
     }
    },
    "version_major": 2,
    "version_minor": 0
   }
  }
 },
 "nbformat": 4,
 "nbformat_minor": 2
}
