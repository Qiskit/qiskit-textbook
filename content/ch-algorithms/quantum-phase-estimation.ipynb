{
 "cells": [
  {
   "cell_type": "markdown",
   "metadata": {},
   "source": [
    "# Quantum Phase Estimation"
   ]
  },
  {
   "cell_type": "markdown",
   "metadata": {},
   "source": [
    "Quantum phase estimation is one of the most important subroutines in quantum computation. It serves as a central building block for many quantum algorithms. The objective of the algorithm is the following:\n",
    "\n",
    "Given a unitary operator $U$, the algorithm estimates $\\theta$ in $U\\vert\\psi \\rangle =e^{\\boldsymbol{2\\pi i} \\theta }|\\psi \\rangle$. Here $|\\psi\\rangle$ is an eigenvector and $e^{\\boldsymbol{2\\pi i}\\theta}$ is the corresponding eigenvalue. Since $U$ is unitary, all of its eigenvalues have a norm of 1."
   ]
  },
  {
   "cell_type": "markdown",
   "metadata": {},
   "source": [
    "## Quantum Circuit for Phase Estimation "
   ]
  },
  {
   "cell_type": "markdown",
   "metadata": {},
   "source": [
    "The general quantum circuit for phase estimation is:\n",
    "<img src=\"images/qpe_tex_qz.png\">"
   ]
  },
  {
   "cell_type": "markdown",
   "metadata": {},
   "source": [
    "As mentioned above, this circuit estimates the phase of a unitary operator $U$. It estimates $\\theta$ in $U\\vert\\psi \\rangle =e^{\\boldsymbol{2\\pi i} \\theta }|\\psi \\rangle$, where $|\\psi\\rangle$ is an eigenvector and $e^{\\boldsymbol{2\\pi i}\\theta}$ is the corresponding eigenvalue. The circuit operates in the following steps:\n",
    "\n",
    "0. **Setup**: $\\vert\\psi\\rangle$ is in one set of qubit registers. An additional set of $n$ qubits form an ancilla register: \n",
    "\n",
    "$$ \\psi_0 = \\lvert 0 \\rangle^{\\otimes n} \\lvert \\psi \\rangle$$ \n",
    "\n",
    "1. **Superposition**: Apply a $n$-bit Hadamard gate operation $H^{\\otimes n}$ on the ancilla register: \n",
    "\n",
    "$$ \\psi_1 = {\\frac {1}{2^{\\frac {n}{2}}}}\\left(|0\\rangle +|1\\rangle \\right)^{\\otimes n} \\lvert \\psi \\rangle$$\n",
    "\n",
    "2. **Controlled Unitary Operations**: We need to introduce the controlled unitary $C-U$ that applies the unitary operator $U$ on the target register only if its corresponding control bit is $|1\\rangle$. Since $U$ is a unitary operatory with eigenvector $|\\psi\\rangle$ such that $U|\\psi \\rangle =e^{\\boldsymbol{2\\pi i} \\theta }|\\psi \\rangle$, this means: \n",
    "\n",
    "$$U^{2^{j}}|\\psi \\rangle =U^{2^{j}-1}U|\\psi \\rangle =U^{2^{j}-1}e^{2\\pi i\\theta }|\\psi \\rangle =\\cdots =e^{2\\pi i2^{j}\\theta }|\\psi \\rangle$$\n",
    "\n",
    "Applying all the $n$ controlled operations $C − U^{2^j}$ with $0\\leq j\\leq n-1$, and using the relation $|0\\rangle \\otimes |\\psi \\rangle +|1\\rangle \\otimes e^{2\\pi i\\theta }|\\psi \\rangle =\\left(|0\\rangle +e^{2\\pi i\\theta }|1\\rangle \\right)\\otimes |\\psi \\rangle$:\n",
    "\n",
    "\\begin{aligned}\n",
    "\\psi_{2} & =\\frac {1}{2^{\\frac {n}{2}}} \\left(|0\\rangle+{e^{\\boldsymbol{2\\pi i} \\theta 2^{n-1}}}|1\\rangle \\right) \\otimes \\cdots \\otimes \\left(|0\\rangle+{e^{\\boldsymbol{2\\pi i} \\theta 2^{1}}}\\vert1\\rangle \\right) \\otimes \\left(|0\\rangle+{e^{\\boldsymbol{2\\pi i} \\theta 2^{0}}}\\vert1\\rangle \\right) \\otimes |\\psi\\rangle\\\\\\\\\n",
    "& = \\frac{1}{2^{\\frac {n}{2}}}\\sum _{k=0}^{2^{n}-1}e^{\\boldsymbol{2\\pi i} \\theta k}|k\\rangle \\otimes \\vert\\psi\\rangle\n",
    "\\end{aligned}\n",
    "where $k$ denotes the integer representation of n-bit binary numbers. \n",
    "\n",
    "3. **Inverse Fourier Transform**: Notice that the above expression is exactly the result of applying a quantum Fourier transform as we derived in the notebook on [Quantum Fourier Transform and its Qiskit Implementation](qft.ipynb). Recall that QFT maps an n-qubit input state $\\vert x\\rangle$ into an output as\n",
    "\n",
    "$$\n",
    "QFT\\vert x \\rangle = \\frac{1}{2^\\frac{n}{2}}\n",
    "\\left(\\vert0\\rangle + e^{\\frac{2\\pi i}{2}x} \\vert1\\rangle\\right) \n",
    "\\otimes\n",
    "\\left(\\vert0\\rangle + e^{\\frac{2\\pi i}{2^2}x} \\vert1\\rangle\\right) \n",
    "\\otimes  \n",
    "\\ldots\n",
    "\\otimes\n",
    "\\left(\\vert0\\rangle + e^{\\frac{2\\pi i}{2^{n-1}}x} \\vert1\\rangle\\right) \n",
    "\\otimes\n",
    "\\left(\\vert0\\rangle + e^{\\frac{2\\pi i}{2^n}x} \\vert1\\rangle\\right) \n",
    "$$\n",
    "\n",
    "Replacing $x$ by $2^n\\theta$ in the above expression gives exactly the expression derived in step 2 above. Therefore, to recover the state $\\vert2^n\\theta\\rangle$, apply an inverse Fourier transform on the ancilla register. Doing so, we find\n",
    "\n",
    "$$\n",
    "\\vert\\psi_3\\rangle = \\frac {1}{2^{\\frac {n}{2}}}\\sum _{k=0}^{2^{n}-1}e^{\\boldsymbol{2\\pi i} \\theta k}|k\\rangle \\otimes | \\psi \\rangle \\xrightarrow{\\mathcal{QFT}_n^{-1}} \\frac {1}{2^n}\\sum _{x=0}^{2^{n}-1}\\sum _{k=0}^{2^{n}-1} e^{-\\frac{2\\pi i k}{2^n}(x - 2^n \\theta)} |x\\rangle \\otimes |\\psi\\rangle\n",
    "$$ \n",
    "\n",
    "4. **Measurement**: \n",
    "The above expression peaks near $x = 2^n\\theta$. For the case when $2^n\\theta$ is an integer, measuring in the computational basis gives the phase in the ancilla register with high probability: \n",
    "\n",
    "$$ |\\psi_4\\rangle = | 2^n \\theta \\rangle \\otimes | \\psi \\rangle$$\n",
    "\n",
    "For the case when $2^n\\theta$ is not an integer, it can be shown that the above expression still peaks near $x = 2^n\\theta$ with probability better than $4/\\pi^2 \\approx 40\\%$ [1]."
   ]
  },
  {
   "cell_type": "markdown",
   "metadata": {},
   "source": [
    "## Example"
   ]
  },
  {
   "cell_type": "markdown",
   "metadata": {},
   "source": [
    "Consider a 3-qubit quantum phase estimation of a one-qubit state $\\vert\\psi\\rangle$.\n",
    "\n",
    "For this example, let us take the unitary matrix to be $Z$. Then, the input state $\\vert1\\rangle$ is an eigenvector with eigenvalue $-1 = \\exp{\\left(2\\pi i \\times 0.5 \\right)}$. Hence, $\\theta = 0.5$ and $2^n\\theta = 2$ if we use $n = 2$ ancilla qubits. \n",
    "\n",
    "Note that in this case, the controlled unitary gates are\n",
    "\n",
    "$$\n",
    "U^{2^{n-1}} = Z^2 = I\n",
    "$$\n",
    "and \n",
    "$$\n",
    "U^{2^{0}} = Z\n",
    "$$"
   ]
  },
  {
   "cell_type": "markdown",
   "metadata": {},
   "source": [
    "## Implementation with two ancilla qubits and one state qubit\n",
    "\n",
    "Now we will implement the above example in Qiskit.\n",
    "\n",
    "Let's first prepare our environment."
   ]
  },
  {
   "cell_type": "code",
   "execution_count": 1,
   "metadata": {},
   "outputs": [],
   "source": [
    "#initialization\n",
    "import matplotlib.pyplot as plt\n",
    "%matplotlib inline\n",
    "import numpy as np\n",
    "import math\n",
    "\n",
    "# importing Qiskit\n",
    "from qiskit import IBMQ, BasicAer\n",
    "from qiskit.providers.ibmq import least_busy\n",
    "from qiskit import QuantumCircuit, ClassicalRegister, QuantumRegister, execute\n",
    "\n",
    "# import basic plot tools\n",
    "from qiskit.tools.visualization import plot_histogram"
   ]
  },
  {
   "cell_type": "markdown",
   "metadata": {},
   "source": [
    "Now, set up the quantum circuit. We will use three qubits -- qubits 0 and 1 as ancilla, and qubit 2 as the eigenstate of the unitary operator. \n",
    "\n",
    "We initialize qubit 2 with $\\vert\\psi\\rangle = \\vert1\\rangle$ by applying an $X$ gate."
   ]
  },
  {
   "cell_type": "code",
   "execution_count": 2,
   "metadata": {},
   "outputs": [
    {
     "data": {
      "text/plain": [
       "<qiskit.circuit.instructionset.InstructionSet at 0x1a19d19b00>"
      ]
     },
     "execution_count": 2,
     "metadata": {},
     "output_type": "execute_result"
    }
   ],
   "source": [
    "q = QuantumRegister(3, 'q')\n",
    "c = ClassicalRegister(2, 'c')\n",
    "\n",
    "qpe = QuantumCircuit(q, c)\n",
    "qpe.x(q[2])"
   ]
  },
  {
   "cell_type": "markdown",
   "metadata": {},
   "source": [
    "Next, we apply Hadamard gates to the ancilla qubits."
   ]
  },
  {
   "cell_type": "code",
   "execution_count": 3,
   "metadata": {},
   "outputs": [
    {
     "data": {
      "text/plain": [
       "<qiskit.circuit.instructionset.InstructionSet at 0x1a19d19d68>"
      ]
     },
     "execution_count": 3,
     "metadata": {},
     "output_type": "execute_result"
    }
   ],
   "source": [
    "qpe.h(q[0])\n",
    "qpe.h(q[1])\n",
    "# Initialization is done, draw a barrier\n",
    "qpe.barrier()"
   ]
  },
  {
   "cell_type": "markdown",
   "metadata": {},
   "source": [
    "Next we perform the controlled unitary operations:"
   ]
  },
  {
   "cell_type": "code",
   "execution_count": 4,
   "metadata": {},
   "outputs": [],
   "source": [
    "# controlled unitary from q[0] is the identity matrix\n",
    "\n",
    "# controlled unitary from q[1] is a controlled-Z gate\n",
    "qpe.cz(q[1], q[2]);"
   ]
  },
  {
   "cell_type": "markdown",
   "metadata": {},
   "source": [
    "We apply quantum inverse Fourier transformation to write the phase to the ancilla register. We will use exactly the code that we wrote to do a $QFT$ and adapt it to be that of $QFT^\\dagger$."
   ]
  },
  {
   "cell_type": "code",
   "execution_count": 5,
   "metadata": {},
   "outputs": [],
   "source": [
    "# =============================================================================\n",
    "# Inverse quantum Fourier transform\n",
    "# =============================================================================\n",
    "def inverse_qft(circ, q, N):\n",
    "    control_qubits = range(N)    \n",
    "    rev = list(reversed(control_qubits))  \n",
    "    # Swaps are not necessary for this endian ordering\n",
    "    # Perform the phase rotations\n",
    "    for i, n in enumerate(rev):\n",
    "        circ.h(q[i])\n",
    "        angle = -np.pi/2\n",
    "        for j in reversed(rev[:n]):\n",
    "            circ.cu1(angle, q[i], q[j])\n",
    "            angle /= 2"
   ]
  },
  {
   "cell_type": "markdown",
   "metadata": {},
   "source": [
    "We then measure the ancilla register:"
   ]
  },
  {
   "cell_type": "code",
   "execution_count": 6,
   "metadata": {},
   "outputs": [
    {
     "data": {
      "text/plain": [
       "<qiskit.circuit.instructionset.InstructionSet at 0x104b723c8>"
      ]
     },
     "execution_count": 6,
     "metadata": {},
     "output_type": "execute_result"
    }
   ],
   "source": [
    "qpe.barrier()\n",
    "inverse_qft(qpe, q, 2)\n",
    "\n",
    "qpe.barrier()\n",
    "qpe.measure(q[0],c[0])\n",
    "qpe.measure(q[1],c[1])\n",
    "# The command below will print the QASM circuit\n",
    "#print(qpe.qasm())"
   ]
  },
  {
   "cell_type": "markdown",
   "metadata": {},
   "source": [
    "## Experiment with two ancilla qubits on simulator"
   ]
  },
  {
   "cell_type": "code",
   "execution_count": 8,
   "metadata": {},
   "outputs": [
    {
     "name": "stdout",
     "output_type": "stream",
     "text": [
      "{'10': 2048}\n"
     ]
    },
    {
     "data": {
      "image/png": "[encoded data removed]",
      "text/plain": [
       "<Figure size 504x360 with 1 Axes>"
      ]
     },
     "execution_count": 8,
     "metadata": {},
     "output_type": "execute_result"
    }
   ],
   "source": [
    "backend = BasicAer.get_backend('qasm_simulator')\n",
    "shots = 2048\n",
    "results = execute(qpe, backend=backend, shots=shots).result()\n",
    "answer = results.get_counts()\n",
    "print(answer)\n",
    "plot_histogram(answer)"
   ]
  },
  {
   "cell_type": "markdown",
   "metadata": {},
   "source": [
    "We see that all the tests done on the simulator return the binary string `0.10` corresponding to the decimal value `0.5`. The phase is therefore $\\theta=0.5$ and thus the eigenvalue is $e^{2 \\pi i \\theta} = e^{\\pi i} = -1$, as expected."
   ]
  },
  {
   "cell_type": "markdown",
   "metadata": {},
   "source": [
    "## Experiment with two ancilla qubits on real quantum device"
   ]
  },
  {
   "cell_type": "code",
   "execution_count": 11,
   "metadata": {},
   "outputs": [
    {
     "name": "stdout",
     "output_type": "stream",
     "text": [
      "Least busy backend:  ibmq_16_melbourne\n"
     ]
    }
   ],
   "source": [
    "# Load IBMQ account and get the least busy backend device\n",
    "from qiskit.providers.ibmq import least_busy\n",
    "\n",
    "IBMQ.load_account()\n",
    "provider = IBMQ.get_provider(hub='ibm-q')\n",
    "provider.backends()\n",
    "backend = least_busy(provider.backends(simulator=False))\n",
    "print(\"Least busy backend: \", backend)"
   ]
  },
  {
   "cell_type": "code",
   "execution_count": 12,
   "metadata": {},
   "outputs": [
    {
     "name": "stdout",
     "output_type": "stream",
     "text": [
      "Job Status: job has successfully run\n",
      "{'10': 7150, '00': 827, '11': 163, '01': 52}\n"
     ]
    },
    {
     "data": {
      "image/png": "[encoded data removed]",
      "text/plain": [
       "<Figure size 504x360 with 1 Axes>"
      ]
     },
     "execution_count": 12,
     "metadata": {},
     "output_type": "execute_result"
    }
   ],
   "source": [
    "# submit job for execution\n",
    "from qiskit.tools.monitor import job_monitor\n",
    "\n",
    "job_exp = execute(qpe, backend=backend, shots=8192)\n",
    "job_monitor(job_exp, interval = 2)\n",
    "exp_result = job_exp.result()\n",
    "\n",
    "exp_measurement_result = exp_result.get_counts(qpe)\n",
    "print(exp_measurement_result)\n",
    "plot_histogram(exp_measurement_result)"
   ]
  },
  {
   "cell_type": "markdown",
   "metadata": {},
   "source": [
    "We see that the great majority (87%) of the tests done on the real device correctly return the binary string `0.10` corresponding to the decimal value `0.5`. "
   ]
  },
  {
   "cell_type": "markdown",
   "metadata": {},
   "source": [
    "## Implementation with three ancilla qubits and one state qubit"
   ]
  },
  {
   "cell_type": "code",
   "execution_count": 26,
   "metadata": {},
   "outputs": [
    {
     "data": {
      "text/plain": [
       "<qiskit.circuit.instructionset.InstructionSet at 0x1a1c46f0b8>"
      ]
     },
     "execution_count": 26,
     "metadata": {},
     "output_type": "execute_result"
    }
   ],
   "source": [
    "#initialization\n",
    "import matplotlib.pyplot as plt\n",
    "%matplotlib inline\n",
    "import numpy as np\n",
    "import math\n",
    "\n",
    "# importing Qiskit\n",
    "from qiskit import IBMQ, BasicAer\n",
    "from qiskit.providers.ibmq import least_busy\n",
    "from qiskit import QuantumCircuit, ClassicalRegister, QuantumRegister, execute\n",
    "\n",
    "# import basic plot tools\n",
    "from qiskit.tools.visualization import plot_histogram\n",
    "\n",
    "# =============================================================================\n",
    "# Inverse quantum Fourier transform\n",
    "# =============================================================================\n",
    "def inverse_qft(circ, q, N):\n",
    "    control_qubits = range(N)    \n",
    "    rev = list(reversed(control_qubits))\n",
    "\n",
    "#----------- Not needed\n",
    "#    # Apply the necessary swaps\n",
    "#    for i in  range(int(N / 2)):\n",
    "#        j = N - i - 1\n",
    "#        circ.swap(i, j)\n",
    "#------------------------        \n",
    "    # Phase rotations\n",
    "    for i, n in enumerate(rev):\n",
    "        circ.h(q[i])\n",
    "        angle = -np.pi/2\n",
    "        for j in reversed(rev[:n]):\n",
    "            circ.cu1(angle, q[i], q[j])\n",
    "            angle /= 2\n",
    "\n",
    "q = QuantumRegister(4, 'q')\n",
    "c = ClassicalRegister(3, 'c')\n",
    "\n",
    "qpe3 = QuantumCircuit(q, c)\n",
    "# Initialization\n",
    "qpe3.h(q[0])\n",
    "qpe3.h(q[1])\n",
    "qpe3.h(q[2])\n",
    "qpe3.x(q[3])\n",
    "# Initialization is done, draw a barrier\n",
    "qpe3.barrier()\n",
    "\n",
    "# Now apply the controlled gates\n",
    "# controlled unitary from q[2] is a controlled-Z gate\n",
    "qpe3.cz(q[2], q[3]);\n",
    "# controlled unitary from q[1] is the identity matrix\n",
    "# controlled unitary from q[0] is the identity matrix\n",
    "#Controlled rotations done, draw barrier for visualization\n",
    "qpe3.barrier()\n",
    "\n",
    "# Inverse QFT\n",
    "inverse_qft(qpe3, q, 3)\n",
    "qpe3.barrier()\n",
    "\n",
    "# Measurement\n",
    "qpe3.measure(q[0],c[0])\n",
    "qpe3.measure(q[1],c[1])\n",
    "qpe3.measure(q[2],c[2])\n",
    "#print(qpe3.qasm())"
   ]
  },
  {
   "cell_type": "markdown",
   "metadata": {},
   "source": [
    "## Experiment with three ancilla qubits on simulator"
   ]
  },
  {
   "cell_type": "code",
   "execution_count": 28,
   "metadata": {},
   "outputs": [
    {
     "name": "stdout",
     "output_type": "stream",
     "text": [
      "{'100': 2048}\n"
     ]
    },
    {
     "data": {
      "image/png": "[encoded data removed]",
      "text/plain": [
       "<Figure size 504x360 with 1 Axes>"
      ]
     },
     "execution_count": 28,
     "metadata": {},
     "output_type": "execute_result"
    }
   ],
   "source": [
    "backend = BasicAer.get_backend('qasm_simulator')\n",
    "shots = 2048\n",
    "results = execute(qpe3, backend=backend, shots=shots).result()\n",
    "answer = results.get_counts()\n",
    "print(answer)\n",
    "plot_histogram(answer)"
   ]
  },
  {
   "cell_type": "markdown",
   "metadata": {},
   "source": [
    "We again see that 100% of the tests done on the simulator return the binary string `0.100` corresponding to the decimal `0.5`. The phase is therefore $\\theta=0.5$ and thus the eigenvalue is $e^{2 \\pi i \\theta} = e^{\\pi i} = -1$."
   ]
  },
  {
   "cell_type": "markdown",
   "metadata": {},
   "source": [
    "## Experiment with three ancilla qubits on real quantum device"
   ]
  },
  {
   "cell_type": "code",
   "execution_count": 31,
   "metadata": {},
   "outputs": [
    {
     "name": "stdout",
     "output_type": "stream",
     "text": [
      "Least busy backend:  ibmq_16_melbourne\n"
     ]
    }
   ],
   "source": [
    "# Load IBMQ account and get the least busy backend device\n",
    "from qiskit.providers.ibmq import least_busy\n",
    "\n",
    "IBMQ.load_account()\n",
    "provider = IBMQ.get_provider(hub='ibm-q')\n",
    "provider.backends()\n",
    "backend = least_busy(provider.backends(simulator=False))\n",
    "print(\"Least busy backend: \", backend)"
   ]
  },
  {
   "cell_type": "code",
   "execution_count": 30,
   "metadata": {},
   "outputs": [
    {
     "name": "stdout",
     "output_type": "stream",
     "text": [
      "Job Status: job has successfully run\n",
      "{'101': 249, '010': 637, '110': 1640, '011': 58, '001': 80, '100': 4574, '000': 884, '111': 70}\n"
     ]
    },
    {
     "data": {
      "image/png": "[encoded data removed]",
      "text/plain": [
       "<Figure size 504x360 with 1 Axes>"
      ]
     },
     "execution_count": 30,
     "metadata": {},
     "output_type": "execute_result"
    }
   ],
   "source": [
    "# Run the quantum circuit on least busy device\n",
    "# submit job for execution\n",
    "from qiskit.tools.monitor import job_monitor\n",
    "\n",
    "job_exp = execute(qpe3, backend=backend, shots=8192)\n",
    "job_monitor(job_exp, interval = 2)\n",
    "exp_result = job_exp.result()\n",
    "\n",
    "exp_measurement_result = exp_result.get_counts(qpe3)\n",
    "print(exp_measurement_result)\n",
    "plot_histogram(exp_measurement_result)"
   ]
  },
  {
   "cell_type": "markdown",
   "metadata": {},
   "source": [
    "The tests on the real device still return most of the results as the string `100`, corresponding to the expected eigenvalue. However, there is a clear degradation from the results obtained with only two ancilla qubits. The percentage of correct results decreased to only 56% from 87% in the case of two qubits. Because of noise, further degradation of accuracy can be expected as the number of ancilla qubits is increased."
   ]
  },
  {
   "cell_type": "markdown",
   "metadata": {},
   "source": [
    "## Implementation with four ancilla qubits and one state qubit"
   ]
  },
  {
   "cell_type": "code",
   "execution_count": 21,
   "metadata": {},
   "outputs": [
    {
     "data": {
      "text/plain": [
       "<qiskit.circuit.instructionset.InstructionSet at 0x1a1be20320>"
      ]
     },
     "execution_count": 21,
     "metadata": {},
     "output_type": "execute_result"
    }
   ],
   "source": [
    "#initialization\n",
    "import matplotlib.pyplot as plt\n",
    "%matplotlib inline\n",
    "import numpy as np\n",
    "import math\n",
    "\n",
    "# importing Qiskit\n",
    "from qiskit import IBMQ, BasicAer\n",
    "from qiskit.providers.ibmq import least_busy\n",
    "from qiskit import QuantumCircuit, ClassicalRegister, QuantumRegister, execute\n",
    "\n",
    "# import basic plot tools\n",
    "from qiskit.tools.visualization import plot_histogram\n",
    "\n",
    "# =============================================================================\n",
    "# Inverse quantum Fourier transform\n",
    "# =============================================================================\n",
    "def inverse_qft(circ, q, N):\n",
    "    control_qubits = range(N)    \n",
    "    rev = list(reversed(control_qubits))\n",
    "\n",
    "#----------- Not needed\n",
    "#    # Apply the necessary swaps\n",
    "#    for i in  range(int(N / 2)):\n",
    "#        j = N - i - 1\n",
    "#        circ.swap(i, j)\n",
    "#------------------------        \n",
    "    # Phase rotations\n",
    "    for i, n in enumerate(rev):\n",
    "        circ.h(q[i])\n",
    "        angle = -np.pi/2\n",
    "        for j in reversed(rev[:n]):\n",
    "            circ.cu1(angle, q[i], q[j])\n",
    "            angle /= 2\n",
    "\n",
    "q = QuantumRegister(5, 'q')\n",
    "c = ClassicalRegister(4, 'c')\n",
    "\n",
    "qpe4 = QuantumCircuit(q, c)\n",
    "# Initialization\n",
    "qpe4.h(q[0])\n",
    "qpe4.h(q[1])\n",
    "qpe4.h(q[2])\n",
    "qpe4.h(q[3])\n",
    "qpe4.x(q[4])\n",
    "# Initialization is done, draw a barrier\n",
    "qpe4.barrier()\n",
    "\n",
    "# Now apply the controlled gates\n",
    "# controlled unitary from q[3] is a controlled-Z gate\n",
    "qpe4.cz(q[3], q[4]);\n",
    "# controlled unitary from q[2] is the identity matrix\n",
    "# controlled unitary from q[1] is the identity matrix\n",
    "# controlled unitary from q[0] is the identity matrix\n",
    "#Controlled rotations done, draw barrier\n",
    "qpe4.barrier()\n",
    "\n",
    "# Inverse QFT\n",
    "inverse_qft(qpe4, q, 4)\n",
    "qpe4.barrier()\n",
    "\n",
    "# Measurement\n",
    "qpe4.measure(q[0],c[0])\n",
    "qpe4.measure(q[1],c[1])\n",
    "qpe4.measure(q[2],c[2])\n",
    "qpe4.measure(q[3],c[3])\n",
    "#print(qpe4.qasm())"
   ]
  },
  {
   "cell_type": "markdown",
   "metadata": {},
   "source": [
    "## Experiment with four ancilla qubits on simulator"
   ]
  },
  {
   "cell_type": "code",
   "execution_count": 23,
   "metadata": {},
   "outputs": [
    {
     "name": "stdout",
     "output_type": "stream",
     "text": [
      "{'1000': 2048}\n"
     ]
    },
    {
     "data": {
      "image/png": "[encoded data removed]",
      "text/plain": [
       "<Figure size 504x360 with 1 Axes>"
      ]
     },
     "execution_count": 23,
     "metadata": {},
     "output_type": "execute_result"
    }
   ],
   "source": [
    "backend = BasicAer.get_backend('qasm_simulator')\n",
    "shots = 2048\n",
    "results = execute(qpe4, backend=backend, shots=shots).result()\n",
    "answer = results.get_counts()\n",
    "print(answer)\n",
    "plot_histogram(answer)"
   ]
  },
  {
   "cell_type": "markdown",
   "metadata": {},
   "source": [
    "We again see that all the tests done on the simulator return the binary string `0.1000`, corresponding to the decimal value `0.5`, as expected. "
   ]
  },
  {
   "cell_type": "markdown",
   "metadata": {},
   "source": [
    "## References\n",
    "\n",
    "[1] Michael A. Nielsen and Isaac L. Chuang. 2011. Quantum Computation and Quantum Information: 10th Anniversary Edition (10th ed.). Cambridge University Press, New York, NY, USA. "
   ]
  }
 ],
 "metadata": {
  "kernelspec": {
   "display_name": "Python 3",
   "language": "python",
   "name": "python3"
  },
  "language_info": {
   "codemirror_mode": {
    "name": "ipython",
    "version": 3
   },
   "file_extension": ".py",
   "mimetype": "text/x-python",
   "name": "python",
   "nbconvert_exporter": "python",
   "pygments_lexer": "ipython3",
   "version": "3.7.3"
  }
 },
 "nbformat": 4,
 "nbformat_minor": 4
}
