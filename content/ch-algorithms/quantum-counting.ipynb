{
 "cells": [
  {
   "cell_type": "markdown",
   "metadata": {},
   "source": [
    "# Quantum Counting"
   ]
  },
  {
   "cell_type": "markdown",
   "metadata": {},
   "source": [
    "To understand this algorithm, it is important that you first understand both Grover’s algorithm and the quantum phase estimation algorithm. Whereas Grover’s algorithm attempts to find a solution to the Oracle, the quantum counting algorithm tells us how many of these solutions there are. This algorithm is interesting as it combines both quantum search and quantum phase estimation."
   ]
  },
  {
   "cell_type": "markdown",
   "metadata": {},
   "source": [
    "## 1. Overview"
   ]
  },
  {
   "cell_type": "markdown",
   "metadata": {},
   "source": [
    "### 1.1 Intuition"
   ]
  },
  {
   "cell_type": "markdown",
   "metadata": {},
   "source": [
    "In quantum counting, we simply use the quantum phase estimation algorithm to find an eigenvalue of a Grover search iteration. You will remember that an iteration of Grover’s algorithm, $G$, rotates the state vector by $\\theta$ in the $|\\omega\\rangle$, $|s’\\rangle$ basis:\n",
    "<img src=\"images/quantum_counting1.svg\">"
   ]
  },
  {
   "cell_type": "markdown",
   "metadata": {},
   "source": [
    "The percentage number of solutions in our search space affects the difference between $|s\\rangle$ and $|s’\\rangle$. For example, if there are not many solutions, $|s\\rangle$ will be very close to $|s’\\rangle$ and $\\theta$ will be very small. It turns out that the eigenvalues of the Grover iterator are $e^{\\pm i\\theta}$, and we can extract this using quantum phase estimation (QPE) to estimate the number of solutions ($M$)."
   ]
  },
  {
   "cell_type": "markdown",
   "metadata": {},
   "source": [
    "### 1.2 A Closer Look"
   ]
  },
  {
   "cell_type": "markdown",
   "metadata": {},
   "source": [
    "In the $|\\omega\\rangle$,$|s’\\rangle$ basis we can write the Grover iterator as the matrix:\n",
    "\n",
    "$$\n",
    "G =\n",
    "\\begin{pmatrix}\n",
    "\\cos{\\theta} && -\\sin{\\theta}\\\\\n",
    "\\sin{\\theta} && \\cos{\\theta}\n",
    "\\end{pmatrix}\n",
    "$$\n",
    "\n",
    "The matrix $G$ has eigenvectors:\n",
    "\n",
    "$$\n",
    "\\begin{pmatrix}\n",
    "-i\\\\\n",
    "1\n",
    "\\end{pmatrix}\n",
    ",\n",
    "\\begin{pmatrix}\n",
    "i\\\\\n",
    "1\n",
    "\\end{pmatrix}\n",
    "$$\n",
    "\n",
    "With the aforementioned eigenvalues $e^{\\pm i\\theta}$. Fortunately, we do not need to prepare our register in either of these states, the state $|s\\rangle$ is in the space spanned by $|\\omega\\rangle$, $|s’\\rangle$, and thus is a superposition of the two vectors.\n",
    "$$\n",
    "|s\\rangle = \\alpha |\\omega\\rangle + \\beta|s'\\rangle\n",
    "$$\n",
    "\n",
    "As a result, the output of the QPE algorithm will be a superposition of the two phases, and when we measure the register we will obtain one of these two values! We can then use some simple maths to get our estimate of $M$.\n",
    "\n",
    "<img src=\"images/quantum_counting2.svg\">"
   ]
  },
  {
   "cell_type": "markdown",
   "metadata": {},
   "source": [
    "## 2. The Code"
   ]
  },
  {
   "cell_type": "markdown",
   "metadata": {},
   "source": [
    "### 2.1 Initialising our Code\n",
    "\n",
    "First, let’s import everything we’re going to need:"
   ]
  },
  {
   "cell_type": "code",
   "execution_count": 1,
   "metadata": {},
   "outputs": [],
   "source": [
    "import matplotlib.pyplot as plt\n",
    "import numpy as np\n",
    "import math\n",
    "\n",
    "# importing Qiskit\n",
    "import qiskit\n",
    "from qiskit import IBMQ, Aer\n",
    "from qiskit import QuantumCircuit, ClassicalRegister, QuantumRegister, execute\n",
    "\n",
    "# import basic plot tools\n",
    "from qiskit.tools.visualization import plot_histogram"
   ]
  },
  {
   "cell_type": "markdown",
   "metadata": {},
   "source": [
    "Next let’s initialise our registers and circuit objects:"
   ]
  },
  {
   "cell_type": "code",
   "execution_count": 2,
   "metadata": {},
   "outputs": [],
   "source": [
    "qreg = QuantumRegister(8)   # First 4 are for counting, last 4 for 'searching'\n",
    "t = 4   # no. of counting qubits\n",
    "n = 4   # no. of searching qubits\n",
    "creg = ClassicalRegister(4)\n",
    "circ = QuantumCircuit(qreg, creg)"
   ]
  },
  {
   "cell_type": "markdown",
   "metadata": {},
   "source": [
    "In this guide we choose to ‘count’ on the first 4 qubits (we call the number of counting qubits $t$, so $t = 4$), and to 'search' through the last 4 qubits ($n = 4$). Since we only care about the measurement of the counting qubits, we have initialised 4 classical bits to measure to.\n",
    "With that done, we can start creating the building blocks of our circuit."
   ]
  },
  {
   "cell_type": "markdown",
   "metadata": {},
   "source": [
    "### 2.2 The Controlled-Grover Iteration"
   ]
  },
  {
   "cell_type": "markdown",
   "metadata": {},
   "source": [
    "We have already covered Grover iterations in the Grover’s algorithm section. Here is an example with an Oracle we know has 5 solutions ($M = 5$) of 16 states ($N = 2^n = 16$):"
   ]
  },
  {
   "cell_type": "code",
   "execution_count": 3,
   "metadata": {},
   "outputs": [],
   "source": [
    "def example_grover_iteration():\n",
    "    \"\"\"Small circuit with 5/16 solutions\"\"\"\n",
    "    # Do circuit\n",
    "    q = QuantumRegister(4)\n",
    "    circ = QuantumCircuit(q)\n",
    "    # Oracle\n",
    "    circ.h(q[3])\n",
    "    qiskit.aqua.circuits.gates.multi_control_toffoli_gate._cccx(circ,q)\n",
    "    circ.x(q[0])\n",
    "    qiskit.aqua.circuits.gates.multi_control_toffoli_gate._cccx(circ,q)\n",
    "    circ.x(q[0])\n",
    "    circ.x(q[1])\n",
    "    qiskit.aqua.circuits.gates.multi_control_toffoli_gate._cccx(circ,q)\n",
    "    circ.x(q[1])\n",
    "    circ.x(q[2])\n",
    "    qiskit.aqua.circuits.gates.multi_control_toffoli_gate._cccx(circ,q)\n",
    "    circ.x(q[2])\n",
    "    circ.x(q[1])\n",
    "    circ.x(q[2])\n",
    "    qiskit.aqua.circuits.gates.multi_control_toffoli_gate._cccx(circ,q)\n",
    "    circ.x(q[2])\n",
    "    circ.x(q[1])\n",
    "    circ.h(q[3])\n",
    "    # Diffusion Operator\n",
    "    circ.z(q[3])\n",
    "    for qubit in q[:3]:\n",
    "        circ.h(qubit)\n",
    "        circ.x(qubit)\n",
    "    qiskit.aqua.circuits.gates.multi_control_toffoli_gate._cccx(circ, q)\n",
    "    for qubit in q[:3]:\n",
    "        circ.x(qubit)\n",
    "        circ.h(qubit)\n",
    "    circ.z(q[3])\n",
    "    return circ"
   ]
  },
  {
   "cell_type": "markdown",
   "metadata": {},
   "source": [
    "Notice the python function takes no input and returns a `QuantumCircuit` object with 4 qubits. In the past the functions you created might have modified an existing circuit, but a function like this allows us to turn the `QuantmCircuit` object into a single gate we can then control.\n",
    "\n",
    "We can use `.to_gate()` and `.control()` to create a controlled gate from a circuit. We will call our Grover iterator `grit` and the controlled Grover iterator `cgrit`:"
   ]
  },
  {
   "cell_type": "code",
   "execution_count": 4,
   "metadata": {},
   "outputs": [],
   "source": [
    "# Create controlled-Grover\n",
    "grit = example_grover_iteration().to_gate()\n",
    "cgrit = grit.control()"
   ]
  },
  {
   "cell_type": "markdown",
   "metadata": {},
   "source": [
    "### 2.3 The Inverse QFT\n",
    "We now need to create an inverse QFT. This code implements the QFT on n qubits:"
   ]
  },
  {
   "cell_type": "code",
   "execution_count": 5,
   "metadata": {},
   "outputs": [],
   "source": [
    "def qft(n):\n",
    "    \"\"\"n-qubit QFT on q in circ.\"\"\"\n",
    "    q = QuantumRegister(n)\n",
    "    circ = QuantumCircuit(q)\n",
    "    for j in range(n):\n",
    "        circ.h(q[j])\n",
    "        for k in range(j+1,n):\n",
    "            circ.cu1(math.pi/float(2**(k-j)), q[k], q[j])\n",
    "    # Don't Forget the Swaps!\n",
    "    for i in range(int(n/2)):\n",
    "        circ.swap(q[i], q[n-i-1])\n",
    "    return circ"
   ]
  },
  {
   "cell_type": "markdown",
   "metadata": {},
   "source": [
    "Again, note we have chosen to return another `QuantumCircuit` object, this is so we can easily invert the gate. We create the gate with t = 4 qubits as this is the number of counting qubits we have chosen in this guide:"
   ]
  },
  {
   "cell_type": "code",
   "execution_count": 6,
   "metadata": {
    "scrolled": true
   },
   "outputs": [],
   "source": [
    "qft_dagger = qft(4).to_gate().inverse()"
   ]
  },
  {
   "cell_type": "markdown",
   "metadata": {},
   "source": [
    "### 2.4 Putting it Together\n",
    "\n",
    "We now have everything we need to complete our circuit! Let’s put it together.\n",
    "\n",
    "First we need to put all qubits in the $|+\\rangle$ state:"
   ]
  },
  {
   "cell_type": "code",
   "execution_count": 7,
   "metadata": {},
   "outputs": [],
   "source": [
    "# Initialise all qubits to |+>\n",
    "for qubit in qreg:\n",
    "    circ.h(qubit)"
   ]
  },
  {
   "cell_type": "markdown",
   "metadata": {},
   "source": [
    "Easy enough! Next we need to do controlled Grover iterations for each qubit in the counting register, doubling the number of iterations each time. Note that we must `.append()` our custom gate to `circ`:"
   ]
  },
  {
   "cell_type": "code",
   "execution_count": 8,
   "metadata": {},
   "outputs": [],
   "source": [
    "# Begin controlled Grover iterations\n",
    "iterations = 1\n",
    "for qubit in reversed(qreg[:4]):\n",
    "    for i in range(iterations):\n",
    "        circ.append(cgrit, qargs=[qubit] + qreg[4:])\n",
    "    iterations *= 2"
   ]
  },
  {
   "cell_type": "markdown",
   "metadata": {},
   "source": [
    "Next we apply our inverse QFT to the counting qubits:"
   ]
  },
  {
   "cell_type": "code",
   "execution_count": 9,
   "metadata": {},
   "outputs": [
    {
     "data": {
      "text/plain": [
       "<qiskit.circuit.instructionset.InstructionSet at 0x7fc06071fd10>"
      ]
     },
     "execution_count": 9,
     "metadata": {},
     "output_type": "execute_result"
    }
   ],
   "source": [
    "# Do inverse QFT on counting qubits\n",
    "circ.append(qft_dagger, qargs=qreg[:4])"
   ]
  },
  {
   "cell_type": "markdown",
   "metadata": {},
   "source": [
    "And finally we measure the counting qubits and store the results in the classical register:\n"
   ]
  },
  {
   "cell_type": "code",
   "execution_count": 10,
   "metadata": {},
   "outputs": [
    {
     "data": {
      "text/plain": [
       "<qiskit.circuit.instructionset.InstructionSet at 0x7fc06073ded0>"
      ]
     },
     "execution_count": 10,
     "metadata": {},
     "output_type": "execute_result"
    }
   ],
   "source": [
    "# Measure Qubits\n",
    "circ.measure(qreg[:4],creg)"
   ]
  },
  {
   "cell_type": "markdown",
   "metadata": {},
   "source": [
    "Let's check our circuit looks correct:"
   ]
  },
  {
   "cell_type": "code",
   "execution_count": 11,
   "metadata": {},
   "outputs": [
    {
     "name": "stdout",
     "output_type": "stream",
     "text": [
      "         ┌───┐                                                            »\n",
      "q0_0: |0>┤ H ├────────────────────────────────────────────────────────────»\n",
      "         ├───┤                                                            »\n",
      "q0_1: |0>┤ H ├─────────────────────────────────────────■───────────■──────»\n",
      "         ├───┤                                         │           │      »\n",
      "q0_2: |0>┤ H ├─────────────────■───────────■───────────┼───────────┼──────»\n",
      "         ├───┤                 │           │           │           │      »\n",
      "q0_3: |0>┤ H ├─────■───────────┼───────────┼───────────┼───────────┼──────»\n",
      "         ├───┤     │           │           │           │           │      »\n",
      "q0_4: |0>┤ H ├─────■───────────■───────────■───────────■───────────■──────»\n",
      "         ├───┤     │           │           │           │           │      »\n",
      "q0_5: |0>┤ H ├─────■───────────■───────────■───────────■───────────■──────»\n",
      "         ├───┤     │           │           │           │           │      »\n",
      "q0_6: |0>┤ H ├─────■───────────■───────────■───────────■───────────■──────»\n",
      "         ├───┤┌────┴─────┐┌────┴─────┐┌────┴─────┐┌────┴─────┐┌────┴─────┐»\n",
      "q0_7: |0>┤ H ├┤ Circuit1 ├┤ Circuit1 ├┤ Circuit1 ├┤ Circuit1 ├┤ Circuit1 ├»\n",
      "         └───┘└──────────┘└──────────┘└──────────┘└──────────┘└──────────┘»\n",
      " c0_0: 0 ═════════════════════════════════════════════════════════════════»\n",
      "                                                                          »\n",
      " c0_1: 0 ═════════════════════════════════════════════════════════════════»\n",
      "                                                                          »\n",
      " c0_2: 0 ═════════════════════════════════════════════════════════════════»\n",
      "                                                                          »\n",
      " c0_3: 0 ═════════════════════════════════════════════════════════════════»\n",
      "                                                                          »\n",
      "«                                                                              »\n",
      "«q0_0: ─────────────────────────────■───────────■───────────■───────────■──────»\n",
      "«                                   │           │           │           │      »\n",
      "«q0_1: ─────■───────────■───────────┼───────────┼───────────┼───────────┼──────»\n",
      "«           │           │           │           │           │           │      »\n",
      "«q0_2: ─────┼───────────┼───────────┼───────────┼───────────┼───────────┼──────»\n",
      "«           │           │           │           │           │           │      »\n",
      "«q0_3: ─────┼───────────┼───────────┼───────────┼───────────┼───────────┼──────»\n",
      "«           │           │           │           │           │           │      »\n",
      "«q0_4: ─────■───────────■───────────■───────────■───────────■───────────■──────»\n",
      "«           │           │           │           │           │           │      »\n",
      "«q0_5: ─────■───────────■───────────■───────────■───────────■───────────■──────»\n",
      "«           │           │           │           │           │           │      »\n",
      "«q0_6: ─────■───────────■───────────■───────────■───────────■───────────■──────»\n",
      "«      ┌────┴─────┐┌────┴─────┐┌────┴─────┐┌────┴─────┐┌────┴─────┐┌────┴─────┐»\n",
      "«q0_7: ┤ Circuit1 ├┤ Circuit1 ├┤ Circuit1 ├┤ Circuit1 ├┤ Circuit1 ├┤ Circuit1 ├»\n",
      "«      └──────────┘└──────────┘└──────────┘└──────────┘└──────────┘└──────────┘»\n",
      "«c0_0: ════════════════════════════════════════════════════════════════════════»\n",
      "«                                                                              »\n",
      "«c0_1: ════════════════════════════════════════════════════════════════════════»\n",
      "«                                                                              »\n",
      "«c0_2: ════════════════════════════════════════════════════════════════════════»\n",
      "«                                                                              »\n",
      "«c0_3: ════════════════════════════════════════════════════════════════════════»\n",
      "«                                                                              »\n",
      "«                                                      ┌──────────────┐┌─┐   »\n",
      "«q0_0: ─────■───────────■───────────■───────────■──────┤0             ├┤M├───»\n",
      "«           │           │           │           │      │              │└╥┘┌─┐»\n",
      "«q0_1: ─────┼───────────┼───────────┼───────────┼──────┤1             ├─╫─┤M├»\n",
      "«           │           │           │           │      │  circuit5_dg │ ║ └╥┘»\n",
      "«q0_2: ─────┼───────────┼───────────┼───────────┼──────┤2             ├─╫──╫─»\n",
      "«           │           │           │           │      │              │ ║  ║ »\n",
      "«q0_3: ─────┼───────────┼───────────┼───────────┼──────┤3             ├─╫──╫─»\n",
      "«           │           │           │           │      └──────────────┘ ║  ║ »\n",
      "«q0_4: ─────■───────────■───────────■───────────■───────────────────────╫──╫─»\n",
      "«           │           │           │           │                       ║  ║ »\n",
      "«q0_5: ─────■───────────■───────────■───────────■───────────────────────╫──╫─»\n",
      "«           │           │           │           │                       ║  ║ »\n",
      "«q0_6: ─────■───────────■───────────■───────────■───────────────────────╫──╫─»\n",
      "«      ┌────┴─────┐┌────┴─────┐┌────┴─────┐┌────┴─────┐                 ║  ║ »\n",
      "«q0_7: ┤ Circuit1 ├┤ Circuit1 ├┤ Circuit1 ├┤ Circuit1 ├─────────────────╫──╫─»\n",
      "«      └──────────┘└──────────┘└──────────┘└──────────┘                 ║  ║ »\n",
      "«c0_0: ═════════════════════════════════════════════════════════════════╩══╬═»\n",
      "«                                                                          ║ »\n",
      "«c0_1: ════════════════════════════════════════════════════════════════════╩═»\n",
      "«                                                                            »\n",
      "«c0_2: ══════════════════════════════════════════════════════════════════════»\n",
      "«                                                                            »\n",
      "«c0_3: ══════════════════════════════════════════════════════════════════════»\n",
      "«                                                                            »\n",
      "«            \n",
      "«q0_0: ──────\n",
      "«            \n",
      "«q0_1: ──────\n",
      "«      ┌─┐   \n",
      "«q0_2: ┤M├───\n",
      "«      └╥┘┌─┐\n",
      "«q0_3: ─╫─┤M├\n",
      "«       ║ └╥┘\n",
      "«q0_4: ─╫──╫─\n",
      "«       ║  ║ \n",
      "«q0_5: ─╫──╫─\n",
      "«       ║  ║ \n",
      "«q0_6: ─╫──╫─\n",
      "«       ║  ║ \n",
      "«q0_7: ─╫──╫─\n",
      "«       ║  ║ \n",
      "«c0_0: ═╬══╬═\n",
      "«       ║  ║ \n",
      "«c0_1: ═╬══╬═\n",
      "«       ║  ║ \n",
      "«c0_2: ═╩══╬═\n",
      "«          ║ \n",
      "«c0_3: ════╩═\n",
      "«            \n"
     ]
    }
   ],
   "source": [
    "print(circ.draw())"
   ]
  },
  {
   "cell_type": "markdown",
   "metadata": {},
   "source": [
    "Great! Now let’s see some results."
   ]
  },
  {
   "cell_type": "markdown",
   "metadata": {
    "scrolled": true
   },
   "source": [
    "## 3. Simulating"
   ]
  },
  {
   "cell_type": "code",
   "execution_count": 12,
   "metadata": {},
   "outputs": [],
   "source": [
    "# Execute and see results\n",
    "emulator = Aer.get_backend('qasm_simulator')\n",
    "job = execute(circ, emulator, shots=8192 )\n",
    "hist = job.result().get_counts() "
   ]
  },
  {
   "cell_type": "markdown",
   "metadata": {},
   "source": [
    "We can see two values stand out, having a much higher probability of measurement than the rest. These two values correspond to $e^{i\\theta}$ and $e^{-i\\theta}$, but we can’t see the number of solutions yet. We need to little more processing to get this information, so first let us get our output into something we can work with (an `int`).\n",
    "\n",
    "We will get the string of the most probable result from our output data:"
   ]
  },
  {
   "cell_type": "code",
   "execution_count": 13,
   "metadata": {},
   "outputs": [],
   "source": [
    "measured_str = max(hist, key=hist.get)"
   ]
  },
  {
   "cell_type": "markdown",
   "metadata": {},
   "source": [
    "These bits are currently the wrong way round, so we’ll reverse them:"
   ]
  },
  {
   "cell_type": "code",
   "execution_count": 14,
   "metadata": {},
   "outputs": [],
   "source": [
    "measured_str = max(hist, key=hist.get)[::-1] # Need to reverse the order of bits"
   ]
  },
  {
   "cell_type": "markdown",
   "metadata": {},
   "source": [
    "Let us now store this as an integer:"
   ]
  },
  {
   "cell_type": "code",
   "execution_count": 15,
   "metadata": {},
   "outputs": [
    {
     "name": "stdout",
     "output_type": "stream",
     "text": [
      "Register Output = 5\n"
     ]
    }
   ],
   "source": [
    "measured_int = int(measured_str,2)\n",
    "print(\"Register Output = %i\" % measured_int)"
   ]
  },
  {
   "cell_type": "markdown",
   "metadata": {},
   "source": [
    "## 4. Finding the Number of Solutions (M)\n",
    "\n",
    "We will create a function, `calculate_M()` that takes as input the decimal integer output of our register, the number of counting qubits ($t$) and the number of searching qubits ($n$).\n",
    "\n",
    "First we want to get $\\theta$ from `measured_int`. You will remember that QPE gives us a measured $\\text{value} = 2^n \\phi$ from the eigenvalue $e^{2\\pi i\\phi}$, so to get $\\theta$ we need to do:\n",
    "\n",
    "$$\n",
    "\\theta = \\text{value}\\times\\frac{2\\pi}{2^t}\n",
    "$$\n",
    "\n",
    "Or, in code:"
   ]
  },
  {
   "cell_type": "code",
   "execution_count": 16,
   "metadata": {},
   "outputs": [
    {
     "name": "stdout",
     "output_type": "stream",
     "text": [
      "Theta = 1.96350\n"
     ]
    }
   ],
   "source": [
    "theta = (measured_int/(2**t))*math.pi*2\n",
    "print(\"Theta = %.5f\" % theta)"
   ]
  },
  {
   "cell_type": "markdown",
   "metadata": {},
   "source": [
    "You may remember that we can get the angle $\\theta/2$ can from the inner product of $|s\\rangle$ and $|s’\\rangle$:\n",
    "\n",
    "<img src=\"images/quantum_counting3.svg\">\n",
    "\n",
    "$$\n",
    "\\langle s'|s\\rangle = \\cos{\\tfrac{\\theta}{2}}\n",
    "$$\n",
    "\n",
    "And that the inner product of these vectors is:\n",
    "\n",
    "$$\n",
    "\\langle s'|s\\rangle = \\sqrt{\\frac{N-M}{N}}\n",
    "$$\n",
    "\n",
    "We can combine these equations, then use some trigonometry and algebra to show:\n",
    "\n",
    "$$\n",
    "N\\sin^2{\\frac{\\theta}{2}} = M\n",
    "$$\n",
    "\n",
    "And in code:"
   ]
  },
  {
   "cell_type": "code",
   "execution_count": 17,
   "metadata": {},
   "outputs": [
    {
     "name": "stdout",
     "output_type": "stream",
     "text": [
      "No. of Solutions = 4.9\n"
     ]
    }
   ],
   "source": [
    "N = 2**n\n",
    "M = N * (math.sin(theta/2)**2)\n",
    "print(\"No. of Solutions = %.1f\" % (N-M))"
   ]
  },
  {
   "cell_type": "markdown",
   "metadata": {},
   "source": [
    "And we can see we have (approximately) the correct answer! This is not *that* precise as we are only using 4 qubits. You might think that 4 qubits would be enough to give us an exact answer, but remember this space is split between two eigenvalues ($e^{\\pm i\\theta}$) and we lose some precision to the squared sine function. We can approximately calculate the error using:"
   ]
  },
  {
   "cell_type": "code",
   "execution_count": 18,
   "metadata": {},
   "outputs": [
    {
     "name": "stdout",
     "output_type": "stream",
     "text": [
      "Error < 2.85\n"
     ]
    }
   ],
   "source": [
    "m = t - 1 # Upper bound: Will be less than this \n",
    "err = (math.sqrt(2*M*N) + N/(2**(m-1)))*(2**(-m))\n",
    "print(\"Error < %.2f\" % err)"
   ]
  },
  {
   "cell_type": "markdown",
   "metadata": {},
   "source": [
    "Explaining the error calculation is outside the scope of this article, but an explanation can be found in [1].\n",
    "\n",
    "Finally, here is the finished function `calculate_M()`"
   ]
  },
  {
   "cell_type": "code",
   "execution_count": 19,
   "metadata": {},
   "outputs": [],
   "source": [
    "def calculate_M(measured_int, t, n):\n",
    "    \"\"\"For Processing Output of Quantum Counting\"\"\"\n",
    "    # Calculate Theta\n",
    "    theta = (measured_int/(2**t))*math.pi*2\n",
    "    print(\"Theta = %.5f\" % theta)\n",
    "    # Calculate No. of Solutions\n",
    "    N = 2**n\n",
    "    M = N * (math.sin(theta/2)**2)\n",
    "    print(\"No. of Solutions = %.1f\" % (N-M))\n",
    "    # Calculate Upper Error Bound\n",
    "    m = t - 1 #Will be less than this (out of scope) \n",
    "    err = (math.sqrt(2*M*N) + N/(2**(m-1)))*(2**(-m))\n",
    "    print(\"Error < %.2f\" % err)"
   ]
  },
  {
   "cell_type": "markdown",
   "metadata": {},
   "source": [
    "## 5. Exercises\n",
    "\n",
    "1.\tCan you create an oracle with a different number of solutions? How does the accuracy of the quantum counting algorithm change?\n",
    "2.\tCan you adapt the circuit to use more or less counting qubits to get a different precision in your result?\n"
   ]
  },
  {
   "cell_type": "markdown",
   "metadata": {},
   "source": [
    "## 6. References\n",
    "\n",
    "[1] Michael A. Nielsen and Isaac L. Chuang. 2011. Quantum Computation and Quantum Information: 10th Anniversary Edition (10th ed.). Cambridge University Press, New York, NY, USA. "
   ]
  },
  {
   "cell_type": "code",
   "execution_count": null,
   "metadata": {},
   "outputs": [],
   "source": []
  }
 ],
 "metadata": {
  "kernelspec": {
   "display_name": "Python 3",
   "language": "python",
   "name": "python3"
  },
  "language_info": {
   "codemirror_mode": {
    "name": "ipython",
    "version": 3
   },
   "file_extension": ".py",
   "mimetype": "text/x-python",
   "name": "python",
   "nbconvert_exporter": "python",
   "pygments_lexer": "ipython3",
   "version": "3.7.4"
  }
 },
 "nbformat": 4,
 "nbformat_minor": 4
}
