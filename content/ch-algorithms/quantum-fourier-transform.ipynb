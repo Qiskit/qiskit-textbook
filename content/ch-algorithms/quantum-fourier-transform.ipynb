{
 "cells": [
  {
   "cell_type": "markdown",
   "metadata": {},
   "source": [
    "# Quantum Fourier Transform"
   ]
  },
  {
   "cell_type": "markdown",
   "metadata": {},
   "source": [
    "In this tutorial, we introduce the quantum fourier transform (QFT), derive the circuit, and implement it using Qiskit. We show how to run QFT on a simulator and a five qubit device.\n",
    "\n",
    "## Contents\n",
    "1. [Introduction](#introduction)\n",
    "2. [Example 1: 1-qubit QFT](#example1)\n",
    "3. [The Quantum Fourier transform](#qfteqn)\n",
    "4. [The circuit that implements QFT](#circuit)\n",
    "5. [Example 2: 3-qubit QFT](#example1)\n",
    "6. [A note about the form of the QFT circuit](#formnote)\n",
    "7. [Qiskit Implementation](#implementation)\n",
    "    - [Running QFT on a simulator](#implementationsim)\n",
    "    - [Running QFT on a real quantum device](#implementationdev)\n",
    "8. [Problems](#problems)\n",
    "9. [References](#references)"
   ]
  },
  {
   "cell_type": "markdown",
   "metadata": {},
   "source": [
    "## 1. Introduction <a id='introduction'></a>\n",
    "\n",
    "The Fourier transform occurs in many different versions throughout classical computing, in areas ranging from signal processing to data compression to complexity theory. The quantum Fourier transform (QFT) is the quantum implementation of the discrete Fourier transform over the amplitudes of a wavefunction. It is part of many quantum algorithms, most notably Shor's factoring algorithm and quantum phase estimation. "
   ]
  },
  {
   "cell_type": "markdown",
   "metadata": {},
   "source": [
    "The discrete Fourier transform acts on a vector $(x_0, ..., x_{N-1})$ and maps it to the vector $(y_0, ..., y_{N-1})$ according to the formula\n",
    "$$y_k = \\frac{1}{\\sqrt{N}}\\sum_{j=0}^{N-1}x_j\\omega_N^{jk}$$\n",
    "where $\\omega_N^{jk} = e^{2\\pi i \\frac{jk}{N}}$.\n",
    "\n",
    "Similarly, the quantum Fourier transform acts on a quantum state $\\sum_{i=0}^{N-1} x_i \\vert i \\rangle$ and maps it to the quantum state $\\sum_{i=0}^{N-1} y_i \\vert i \\rangle$ according to the formula\n",
    "$$y_k = \\frac{1}{\\sqrt{N}}\\sum_{j=0}^{N-1}x_j\\omega_N^{jk}$$\n",
    "with $\\omega_N^{jk}$ defined as above. Note that only the amplitudes of the state were affected by this transformation.\n",
    "\n",
    "This can also be expressed as the map:\n",
    "$$\\vert x \\rangle \\mapsto \\frac{1}{\\sqrt{N}}\\sum_{y=0}^{N-1}\\omega_N^{xy} \\vert y \\rangle$$\n",
    "\n",
    "Or the unitary matrix:\n",
    "$$ U_{QFT} = \\frac{1}{\\sqrt{N}} \\sum_{x=0}^{N-1} \\sum_{y=0}^{N-1} \\omega_N^{xy} \\vert y \\rangle \\langle x \\vert$$"
   ]
  },
  {
   "cell_type": "markdown",
   "metadata": {},
   "source": [
    "## 2. Example 1: 1-qubit QFT <a id='example1'></a>\n",
    "\n",
    "Consider how the QFT operator as defined above acts on a single qubit state $\\vert\\psi\\rangle = \\alpha \\vert 0 \\rangle + \\beta \\vert 1 \\rangle$. In this case, $x_0 = \\alpha$, $x_1 = \\beta$, and $N = 2$. Then,\n",
    "\n",
    "$$y_0 = \\frac{1}{\\sqrt{2}}\\left(    \\alpha \\exp\\left(2\\pi i\\frac{0\\times0}{2}\\right) + \\beta \\exp\\left(2\\pi i\\frac{1\\times0}{2}\\right)      \\right) = \\frac{1}{\\sqrt{2}}\\left(\\alpha + \\beta\\right)$$\n",
    "\n",
    "and\n",
    "\n",
    "$$y_1 = \\frac{1}{\\sqrt{2}}\\left(    \\alpha \\exp\\left(2\\pi i\\frac{0\\times1}{2}\\right) + \\beta \\exp\\left(2\\pi i\\frac{1\\times1}{2}\\right)      \\right) = \\frac{1}{\\sqrt{2}}\\left(\\alpha - \\beta\\right)$$\n",
    "\n",
    "such that the final result is the state \n",
    "\n",
    "$$U_{QFT}\\vert\\psi\\rangle = \\frac{1}{\\sqrt{2}}(\\alpha + \\beta) \\vert 0 \\rangle + \\frac{1}{\\sqrt{2}}(\\alpha - \\beta)  \\vert 1 \\rangle$$\n",
    "\n",
    "This operation is exactly the result of applying the Hadamard operator ($H$) on the qubit:\n",
    "\n",
    "$$H = \\frac{1}{\\sqrt{2}}\\begin{bmatrix} 1 & 1 \\\\ 1 & -1 \\end{bmatrix}$$\n",
    "\n",
    "If we apply the $H$ operator to the state $\\vert\\psi\\rangle = \\alpha \\vert 0 \\rangle + \\beta \\vert 1 \\rangle$, we obtain the new state:\n",
    "\n",
    "$$\\frac{1}{\\sqrt{2}}(\\alpha + \\beta) \\vert 0 \\rangle + \\frac{1}{\\sqrt{2}}(\\alpha - \\beta)  \\vert 1 \\rangle \n",
    "\\equiv \\tilde{\\alpha}\\vert 0 \\rangle + \\tilde{\\beta}\\vert 1 \\rangle$$\n",
    "\n",
    "Notice how the Hadamard gate performs the discrete Fourier transform for $N = 2$ on the amplitudes of the state. "
   ]
  },
  {
   "cell_type": "markdown",
   "metadata": {},
   "source": [
    "## 3. The Quantum Fourier transform<a id=\"qfteqn\"></a>"
   ]
  },
  {
   "cell_type": "markdown",
   "metadata": {},
   "source": [
    "So what does the quantum Fourier transform look like for larger $N$? Let's derive a circuit for $N=2^n$, $QFT_N$ acting on the state $\\vert x \\rangle = \\vert x_1\\ldots x_n \\rangle$ where $x_1$ is the most significant bit.\n",
    "\n",
    "\\begin{aligned}\n",
    "QFT_N\\vert x \\rangle & = \\frac{1}{\\sqrt{N}} \\sum_{y=0}^{N-1}\\omega_N^{xy} \\vert y \\rangle \n",
    "\\\\\n",
    "& = \\frac{1}{\\sqrt{N}} \\sum_{y=0}^{N-1} e^{2 \\pi i xy / 2^n} \\vert y \\rangle ~\\text{since}\\: \\omega_N^{xy} = e^{2\\pi i \\frac{xy}{N}} \\:\\text{and}\\: N = 2^n \n",
    "\\\\\n",
    "& = \\frac{1}{\\sqrt{N}} \\sum_{y=0}^{N-1} e^{2 \\pi i \\left(\\sum_{k=1}^n y_k/2^k\\right) x} \\vert y_1 \\ldots y_n \\rangle \\:\\text{rewriting in fractional binary notation}\\: y = y_1\\ldots y_n, y/2^n = \\sum_{k=1}^n y_k/2^k \n",
    "\\\\\n",
    "& = \\frac{1}{\\sqrt{N}} \\sum_{y=0}^{N-1} \\prod_{k=1}^n e^{2 \\pi i x y_k/2^k } \\vert y_1 \\ldots y_n \\rangle \\:\\text{after expanding the exponential of a sum to a product of exponentials} \n",
    "\\\\\n",
    "& = \\frac{1}{\\sqrt{N}} \\bigotimes_{k=1}^n  \\left(\\vert0\\rangle + e^{2 \\pi i x /2^k } \\vert1\\rangle \\right) \\:\\text{after rearranging the sum and products, and expanding} \n",
    "\\sum_{y=0}^{N-1} = \\sum_{y_1=0}^{1}\\sum_{y_2=0}^{1}\\ldots\\sum_{y_n=0}^{1} \n",
    "\\\\\n",
    "& = \\frac{1}{\\sqrt{N}}\n",
    "\\left(\\vert0\\rangle + e^{\\frac{2\\pi i}{2}x} \\vert1\\rangle\\right) \n",
    "\\otimes\n",
    "\\left(\\vert0\\rangle + e^{\\frac{2\\pi i}{2^2}x} \\vert1\\rangle\\right) \n",
    "\\otimes  \n",
    "\\ldots\n",
    "\\otimes\n",
    "\\left(\\vert0\\rangle + e^{\\frac{2\\pi i}{2^{n-1}}x} \\vert1\\rangle\\right) \n",
    "\\otimes\n",
    "\\left(\\vert0\\rangle + e^{\\frac{2\\pi i}{2^n}x} \\vert1\\rangle\\right) \n",
    "\\end{aligned}"
   ]
  },
  {
   "cell_type": "markdown",
   "metadata": {},
   "source": [
    "## 4. The circuit that implements QFT <a name=\"circuit\"></a>\n",
    "\n",
    "The circuit that implements QFT makes use of two gates. The first one is a single-qubit Hadamard gate, $H$, that you already know. From the discussion in [Example 1](#example1) above, you have already seen that the action of $H$ on the single-qubit state $\\vert x_k\\rangle$ is\n",
    "\n",
    "$$H\\vert x_k \\rangle = \\vert0\\rangle + \\exp\\left(\\frac{2\\pi i}{2}x_k\\right)\\vert1\\rangle$$\n",
    "\n",
    "The second is a two-qubit controlled rotation $CROT_k$ given in block-diagonal form as \n",
    "\n",
    "$$CROT_k = \\left[\\begin{matrix}\n",
    "I&0\\\\\n",
    "0&UROT_k\\\\\n",
    "\\end{matrix}\\right]$$\n",
    "where \n",
    "$$UROT_k = \\left[\\begin{matrix}\n",
    "1&0\\\\\n",
    "0&\\exp\\left(\\frac{2\\pi i}{2^k}\\right)\\\\\n",
    "\\end{matrix}\\right]$$\n",
    "\n",
    "The action of $CROT_k$ on the two-qubit state $\\vert x_jx_k\\rangle$ where the first qubit is the control and the second is the target is given by\n",
    "\n",
    "$$CROT_k\\vert x_j0\\rangle = \\vert x_j0\\rangle$$\n",
    "and\n",
    "$$CROT_k\\vert x_j1\\rangle = \\exp\\left( \\frac{2\\pi i}{2^k}x_j \\right)\\vert x_j1\\rangle$$\n",
    "\n",
    "Given these two gates, a circuit that implements [an n-qubit QFT](#qfteqn) is shown below.\n",
    "\n",
    "<img src=\"images/qft.png\">\n",
    "\n",
    "The circuit operates as follows. We start with an n-qubit input state $\\vert x_1x_2\\ldots x_n\\rangle$.\n",
    "\n",
    "<ol>\n",
    "<li> After the first Hadamard gate on qubit 1, the state is transformed from the input state to \n",
    "\n",
    "$$\n",
    "H_1\\vert x_1x_2\\ldots x_n\\rangle = \n",
    "\\frac{1}{\\sqrt{2}}\n",
    "\\left[\\vert0\\rangle + \\exp\\left(\\frac{2\\pi i}{2}x_1\\right)\\vert1\\rangle\\right]\n",
    "\\otimes\n",
    "\\vert x_2x_3\\ldots x_n\\rangle\n",
    "$$\n",
    "\n",
    "<li> After the $CROT_2$ gate on qubit 1 controlled by qubit 2, the state is transformed to\n",
    "\n",
    "$$\n",
    "\\frac{1}{\\sqrt{2}}\n",
    "\\left[\\vert0\\rangle + \\exp\\left(\\frac{2\\pi i}{2^2}x_2 + \\frac{2\\pi i}{2}x_1\\right)\\vert1\\rangle\\right]\n",
    "\\otimes\n",
    "\\vert x_2x_3\\ldots x_n\\rangle\n",
    "$$\n",
    "\n",
    "<li> After the application of the last $CROT_n$ gate on qubit 1 controlled by qubit $n$, the state becomes\n",
    "\n",
    "$$\n",
    "\\frac{1}{\\sqrt{2}}\n",
    "\\left[\\vert0\\rangle + \n",
    "\\exp\\left(\n",
    "\\frac{2\\pi i}{2^n}x_n + \n",
    "\\frac{2\\pi i}{2^{n-1}}x_{n-1} + \n",
    "\\ldots + \n",
    "\\frac{2\\pi i}{2^2}x_2 + \n",
    "\\frac{2\\pi i}{2}x_1\n",
    "\\right)\n",
    "\\vert1\\rangle\\right]\n",
    "\\otimes\n",
    "\\vert x_2x_3\\ldots x_n\\rangle\n",
    "$$\n",
    "\n",
    "Noting that \n",
    "\n",
    "$$\n",
    "x = 2^{n-1}x_1 + 2^{n-2}x_2 + \\ldots + 2^1x_{n-1} + 2^0x_n\n",
    "$$\n",
    "\n",
    "we can write the above state as \n",
    "\n",
    "$$\n",
    "\\frac{1}{\\sqrt{2}}\n",
    "\\left[\\vert0\\rangle + \n",
    "\\exp\\left(\n",
    "\\frac{2\\pi i}{2^n}x \n",
    "\\right)\n",
    "\\vert1\\rangle\\right]\n",
    "\\otimes\n",
    "\\vert x_2x_3\\ldots x_n\\rangle\n",
    "$$\n",
    "\n",
    "<li> After the application of a similar sequence of gates for qubits $2\\ldots n$, we find the final state to be\n",
    "\n",
    "$$\n",
    "\\frac{1}{\\sqrt{2}}\n",
    "\\left[\\vert0\\rangle + \n",
    "\\exp\\left(\n",
    "\\frac{2\\pi i}{2^n}x \n",
    "\\right)\n",
    "\\vert1\\rangle\\right]\n",
    "\\otimes\n",
    "\\frac{1}{\\sqrt{2}}\n",
    "\\left[\\vert0\\rangle + \n",
    "\\exp\\left(\n",
    "\\frac{2\\pi i}{2^{n-1}}x \n",
    "\\right)\n",
    "\\vert1\\rangle\\right]\n",
    "\\otimes\n",
    "\\ldots\n",
    "\\otimes\n",
    "\\frac{1}{\\sqrt{2}}\n",
    "\\left[\\vert0\\rangle + \n",
    "\\exp\\left(\n",
    "\\frac{2\\pi i}{2^{2}}x \n",
    "\\right)\n",
    "\\vert1\\rangle\\right]\n",
    "\\otimes\n",
    "\\frac{1}{\\sqrt{2}}\n",
    "\\left[\\vert0\\rangle + \n",
    "\\exp\\left(\n",
    "\\frac{2\\pi i}{2^{1}}x \n",
    "\\right)\n",
    "\\vert1\\rangle\\right]\n",
    "$$\n",
    "which is exactly the QFT of the input state as derived <a href=\"#qfteqn\">above</a> with the caveat that the order of the qubits is reversed in the output state.\n",
    "</ol>"
   ]
  },
  {
   "cell_type": "markdown",
   "metadata": {},
   "source": [
    "## 5. Example 2: 3-qubit QFT <a id='example2'></a>\n",
    "\n",
    "The steps to creating the circuit for $\\vert y_1y_2y_3\\rangle = QFT_8\\vert x_1x_2x_3\\rangle$ would be:\n",
    "\n",
    "<ol>\n",
    "<li> Apply a Hadamard gate to $\\vert x_3 \\rangle$\n",
    "\n",
    "$$\n",
    "\\psi_1 = \n",
    "\\vert x_1\\rangle\n",
    "\\otimes\n",
    "\\vert x_2\\rangle\n",
    "\\otimes\n",
    "\\frac{1}{\\sqrt{2}}\n",
    "\\left[\n",
    "\\vert0\\rangle + \n",
    "\\exp\\left(\\frac{2\\pi i}{2}x_3\\right) \n",
    "\\vert1\\rangle\\right]\n",
    "$$\n",
    "\n",
    "<li> Apply a $CROT_2$ gate to $\\vert x_3\\rangle$ depending on $\\vert x_2\\rangle$\n",
    "\n",
    "$$\n",
    "\\psi_2 = \n",
    "\\vert x_1\\rangle\n",
    "\\otimes\n",
    "\\vert x_2\\rangle\n",
    "\\otimes\n",
    "\\frac{1}{\\sqrt{2}}\n",
    "\\left[\n",
    "\\vert0\\rangle + \n",
    "\\exp\\left(\n",
    "\\frac{2\\pi i}{2^2}x_2 + \\frac{2\\pi i}{2}x_3\n",
    "\\right) \n",
    "\\vert1\\rangle\\right]\n",
    "$$\n",
    "\n",
    "<li> Apply a $CROT_3$ gate to $\\vert x_3\\rangle$ depending on $\\vert x_1\\rangle$\n",
    "\n",
    "$$\n",
    "\\psi_3 = \n",
    "\\vert x_1\\rangle\n",
    "\\otimes\n",
    "\\vert x_2\\rangle\n",
    "\\otimes\n",
    "\\frac{1}{\\sqrt{2}}\n",
    "\\left[\n",
    "\\vert0\\rangle + \n",
    "\\exp\\left(\n",
    "\\frac{2\\pi i}{2^3}x_1 + \\frac{2\\pi i}{2^2}x_2 + \\frac{2\\pi i}{2}x_3\n",
    "\\right) \n",
    "\\vert1\\rangle\\right]\n",
    "$$\n",
    "\n",
    "<li> Apply a Hadamard gate to $\\vert x_2 \\rangle$\n",
    "\n",
    "$$\n",
    "\\psi_4 = \n",
    "\\vert x_1\\rangle\n",
    "\\otimes\n",
    "\\frac{1}{\\sqrt{2}}\n",
    "\\left[\n",
    "\\vert0\\rangle + \n",
    "\\exp\\left(\n",
    "\\frac{2\\pi i}{2}x_2\n",
    "\\right) \n",
    "\\vert1\\rangle\\right]\n",
    "\\otimes\n",
    "\\frac{1}{\\sqrt{2}}\n",
    "\\left[\n",
    "\\vert0\\rangle + \n",
    "\\exp\\left(\n",
    "\\frac{2\\pi i}{2^3}x_1 + \\frac{2\\pi i}{2^2}x_2 + \\frac{2\\pi i}{2}x_3\n",
    "\\right) \n",
    "\\vert1\\rangle\\right]\n",
    "$$\n",
    "\n",
    "<li> Apply a $CROT_2$ gate to $\\vert x_2\\rangle$ depending on $\\vert x_1\\rangle$\n",
    "\n",
    "$$\n",
    "\\psi_5 = \n",
    "\\vert x_1\\rangle\n",
    "\\otimes\n",
    "\\frac{1}{\\sqrt{2}}\n",
    "\\left[\n",
    "\\vert0\\rangle + \n",
    "\\exp\\left(\n",
    "\\frac{2\\pi i}{2^2}x_1 + \\frac{2\\pi i}{2}x_2\n",
    "\\right) \n",
    "\\vert1\\rangle\\right]\n",
    "\\otimes\n",
    "\\frac{1}{\\sqrt{2}}\n",
    "\\left[\n",
    "\\vert0\\rangle + \n",
    "\\exp\\left(\n",
    "\\frac{2\\pi i}{2^3}x_1 + \\frac{2\\pi i}{2^2}x_2 + \\frac{2\\pi i}{2}x_3\n",
    "\\right) \n",
    "\\vert1\\rangle\\right]\n",
    "$$\n",
    "\n",
    "<li> Apply a Hadamard gate to $\\vert x_1\\rangle$\n",
    "\n",
    "$$\n",
    "\\psi_6 = \n",
    "\\frac{1}{\\sqrt{2}}\n",
    "\\left[\n",
    "\\vert0\\rangle + \n",
    "\\exp\\left(\n",
    "\\frac{2\\pi i}{2}x_1\n",
    "\\right) \n",
    "\\vert1\\rangle\\right]\n",
    "\\otimes\n",
    "\\frac{1}{\\sqrt{2}}\n",
    "\\left[\n",
    "\\vert0\\rangle + \n",
    "\\exp\\left(\n",
    "\\frac{2\\pi i}{2^2}x_1 + \\frac{2\\pi i}{2}x_2\n",
    "\\right) \n",
    "\\vert1\\rangle\\right]\n",
    "\\otimes\n",
    "\\frac{1}{\\sqrt{2}}\n",
    "\\left[\n",
    "\\vert0\\rangle + \n",
    "\\exp\\left(\n",
    "\\frac{2\\pi i}{2^3}x_1 + \\frac{2\\pi i}{2^2}x_2 + \\frac{2\\pi i}{2}x_3\n",
    "\\right) \n",
    "\\vert1\\rangle\\right]\n",
    "$$\n",
    "\n",
    "<li> Keep in mind the reverse order of the output state relative to the desired QFT. Therefore, measure the bits in reverse order, that is $y_3 = x_1, y_2 = x_2, y_1 = x_3$."
   ]
  },
  {
   "cell_type": "markdown",
   "metadata": {},
   "source": [
    "## 6. A note about the form of the QFT circuit <a id=\"formnote\"></a>"
   ]
  },
  {
   "cell_type": "markdown",
   "metadata": {},
   "source": [
    "The example above demonstrates a very useful form of the QFT for $N=2^n$. Note that only the last qubit depends on the values of all the other input qubits and each further bit depends less and less on the input qubits. This becomes important in physical implementations of the QFT, where nearest-neighbor couplings are easier to achieve than distant couplings between qubits."
   ]
  },
  {
   "cell_type": "markdown",
   "metadata": {},
   "source": [
    "## 7. Qiskit Implementation<a id='implementation'></a>\n",
    "\n",
    "In Qiskit, the implementation of the $CROT$ gate used in the discussion above is a controlled phase rotation gate. This gate is defined in [OpenQASM](https://github.com/QISKit/openqasm) as\n",
    "\n",
    "$$\n",
    "CU_1(\\theta) =\n",
    "\\begin{bmatrix} 1 & 0 & 0 & 0 \\\\ 0 & 1 & 0 & 0 \\\\ 0 & 0 & 1 & 0 \\\\ 0 & 0 & 0 & e^{i\\theta}\\end{bmatrix}\n",
    "$$\n",
    "\n",
    "Hence, the mapping from the $CROT_k$ gate in the discussion above into the $CU_1$ gate is found from the equation\n",
    "\n",
    "$$\n",
    "\\theta = 2\\pi/2^k = \\pi/2^{k-1}\n",
    "$$\n",
    "\n",
    "It is instructive to write out the relevant code for the 3-qubit case before generalizing to the $n$-qubit case. In Qiskit, it is:\n",
    "```\n",
    "qft3 = QuantumCircuit(3, 3)\n",
    "qft3.h(0)\n",
    "qft3.cu1(math.pi/2.0, 1, 0) # CROT_2 from qubit 1 to qubit 0\n",
    "qft3.cu1(math.pi/4.0, 2, 0) # CROT_3 from qubit 2 to qubit 0\n",
    "qft3.h(q[1])\n",
    "qft3.cu1(math.pi/2.0, 2, 1) # CROT_2 from qubit 2 to qubit 1\n",
    "qft3.h(2)\n",
    "```\n",
    "\n",
    "Following the above example, the case for $n$ qubits can be generalized as:\n",
    "```\n",
    "def qft(circ, n):\n",
    "    \"\"\"n-qubit QFT on the qubits in circ.\"\"\"\n",
    "    for j in range(n):\n",
    "        circ.h(j)\n",
    "        for k in range(j+1,n):\n",
    "            circ.cu1(math.pi/float(2**(k-j)), k, j)\n",
    "```"
   ]
  },
  {
   "cell_type": "markdown",
   "metadata": {},
   "source": [
    "We will now implement the three-qubit QFT as discussed above. We first create a state whose QFT is known. The output after a QFT is applied to this special state is $\\vert001\\rangle$."
   ]
  },
  {
   "cell_type": "code",
   "execution_count": 1,
   "metadata": {},
   "outputs": [],
   "source": [
    "import numpy as np\n",
    "pi = np.pi\n",
    "\n",
    "# importing Qiskit\n",
    "from qiskit import BasicAer, IBMQ\n",
    "from qiskit import QuantumCircuit, execute\n",
    "\n",
    "from qiskit.providers.ibmq import least_busy\n",
    "from qiskit.tools.monitor import job_monitor\n",
    "from qiskit.visualization import plot_histogram"
   ]
  },
  {
   "cell_type": "markdown",
   "metadata": {},
   "source": [
    "First let's define the QFT function, as well as a function that creates a state from which a QFT will return 001:"
   ]
  },
  {
   "cell_type": "code",
   "execution_count": 2,
   "metadata": {},
   "outputs": [],
   "source": [
    "def input_state(circ, n):\n",
    "    \"\"\"special n-qubit input state for QFT that produces output 1.\"\"\"\n",
    "    for j in range(n):\n",
    "        circ.h(j)\n",
    "        circ.u1(-pi/float(2**(j)), j)\n",
    "        \n",
    "def qft(circ, n):\n",
    "    \"\"\"n-qubit QFT on the qubits in circ.\"\"\"\n",
    "    for j in range(n):\n",
    "        circ.h(j)\n",
    "        for k in range(j+1,n):\n",
    "            circ.cu1(pi/float(2**(k-j)), k, j)\n",
    "        circ.barrier()\n",
    "    swap_registers(circ, n)\n",
    "    \n",
    "def swap_registers(circ, n):\n",
    "    for j in range(int(np.floor(n/2.))):\n",
    "        circ.swap(j, n-j-1)\n",
    "    return circ"
   ]
  },
  {
   "cell_type": "markdown",
   "metadata": {},
   "source": [
    "Let's now implement a QFT on a prepared three qubit input state that should return $001$:"
   ]
  },
  {
   "cell_type": "code",
   "execution_count": 3,
   "metadata": {},
   "outputs": [
    {
     "data": {
      "image/png": "[encoded data removed]",
      "text/plain": [
       "<Figure size 276.92x204.68 with 1 Axes>"
      ]
     },
     "execution_count": 3,
     "metadata": {},
     "output_type": "execute_result"
    }
   ],
   "source": [
    "n = 3\n",
    "qft_circuit = QuantumCircuit(n)\n",
    "\n",
    "# first, prepare the state that should return 001 and draw that circuit\n",
    "input_state(qft_circuit, n)\n",
    "\n",
    "qft_circuit.draw(output='mpl')"
   ]
  },
  {
   "cell_type": "code",
   "execution_count": 4,
   "metadata": {},
   "outputs": [
    {
     "data": {
      "image/png": "[encoded data removed]",
      "text/plain": [
       "<Figure size 1201.59x264.88 with 1 Axes>"
      ]
     },
     "execution_count": 4,
     "metadata": {},
     "output_type": "execute_result"
    }
   ],
   "source": [
    "# next, do a qft on the prepared state and draw the entire circuit\n",
    "qft_circuit.barrier()\n",
    "qft(qft_circuit, n)\n",
    "qft_circuit.measure_all()\n",
    "    \n",
    "qft_circuit.draw(output='mpl')"
   ]
  },
  {
   "cell_type": "markdown",
   "metadata": {},
   "source": [
    "## 7a. Running QFT on a simulator<a id=\"implementationsim\"></a>"
   ]
  },
  {
   "cell_type": "code",
   "execution_count": 5,
   "metadata": {},
   "outputs": [
    {
     "data": {
      "text/plain": [
       "{'100': 1024}"
      ]
     },
     "execution_count": 5,
     "metadata": {},
     "output_type": "execute_result"
    }
   ],
   "source": [
    "# run on local simulator\n",
    "backend = BasicAer.get_backend(\"qasm_simulator\")\n",
    "\n",
    "simulate = execute(qft_circuit, backend=backend, shots=1024).result()\n",
    "simulate.get_counts()"
   ]
  },
  {
   "cell_type": "markdown",
   "metadata": {},
   "source": [
    "We indeed see that the outcome is always $001$ when we execute the code on the simulator. Note the reversed order of the output value $100$ compared to the expected value $001$. We expected this as well, since the output register contains the reversed QFT values."
   ]
  },
  {
   "cell_type": "markdown",
   "metadata": {},
   "source": [
    "## 7b. Running QFT on a real quantum device<a id=\"implementationdev\"></a>"
   ]
  },
  {
   "cell_type": "markdown",
   "metadata": {},
   "source": [
    "We then see how the same circuit can be executed on real-device backends."
   ]
  },
  {
   "cell_type": "code",
   "execution_count": 6,
   "metadata": {},
   "outputs": [
    {
     "name": "stdout",
     "output_type": "stream",
     "text": [
      "least busy backend:  ibmq_16_melbourne\n"
     ]
    }
   ],
   "source": [
    "# Load our saved IBMQ accounts and get the least busy backend device with less than or equal to n qubits\n",
    "IBMQ.load_account()\n",
    "provider = IBMQ.get_provider(hub='ibm-q')\n",
    "backend = least_busy(provider.backends(filters=lambda x: x.configuration().n_qubits >= n and\n",
    "                                   not x.configuration().simulator and x.status().operational==True))\n",
    "print(\"least busy backend: \", backend)"
   ]
  },
  {
   "cell_type": "code",
   "execution_count": 7,
   "metadata": {},
   "outputs": [
    {
     "name": "stdout",
     "output_type": "stream",
     "text": [
      "Job Status: job has successfully run\n"
     ]
    }
   ],
   "source": [
    "shots = 2048\n",
    "job_exp = execute(qft_circuit, backend=backend, shots=shots)\n",
    "job_monitor(job_exp)"
   ]
  },
  {
   "cell_type": "code",
   "execution_count": 8,
   "metadata": {},
   "outputs": [
    {
     "data": {
      "image/png": "[encoded data removed]",
      "text/plain": [
       "<Figure size 504x360 with 1 Axes>"
      ]
     },
     "execution_count": 8,
     "metadata": {},
     "output_type": "execute_result"
    }
   ],
   "source": [
    "results = job_exp.result()\n",
    "plot_histogram(results.get_counts())"
   ]
  },
  {
   "cell_type": "markdown",
   "metadata": {},
   "source": [
    "We see that the highest probability outcome is still $100$ on a real device. Recall again that the output of the QFT circuit has the qubits in reverse order."
   ]
  },
  {
   "cell_type": "markdown",
   "metadata": {},
   "source": [
    "## 8. Problems"
   ]
  },
  {
   "cell_type": "markdown",
   "metadata": {},
   "source": [
    "1. The [above implementation](#implementation) of QFT was tested by using a special input state for which QFT(input state) = 001. Implement an input state for which QFT(input state) = 100.\n",
    "2. The [above implementation](#implementation) of QFT was tested by using a special input state for which QFT(input state) = 001. Implement an input state for which QFT(input state) = 101."
   ]
  },
  {
   "cell_type": "markdown",
   "metadata": {},
   "source": [
    "## 9. References"
   ]
  },
  {
   "cell_type": "markdown",
   "metadata": {},
   "source": [
    "1. M. Nielsen and I. Chuang, Quantum Computation and Quantum Information, Cambridge Series on Information and the Natural Sciences (Cambridge University Press, Cambridge, 2000)."
   ]
  },
  {
   "cell_type": "code",
   "execution_count": 9,
   "metadata": {},
   "outputs": [
    {
     "data": {
      "text/plain": [
       "{'qiskit-terra': '0.11.1',\n",
       " 'qiskit-aer': '0.3.4',\n",
       " 'qiskit-ignis': '0.2.0',\n",
       " 'qiskit-ibmq-provider': '0.4.5',\n",
       " 'qiskit-aqua': '0.6.2',\n",
       " 'qiskit': '0.14.1'}"
      ]
     },
     "execution_count": 9,
     "metadata": {},
     "output_type": "execute_result"
    }
   ],
   "source": [
    "import qiskit\n",
    "qiskit.__qiskit_version__"
   ]
  }
 ],
 "metadata": {
  "kernelspec": {
   "display_name": "qiskitdevl",
   "language": "python",
   "name": "qiskitdevl"
  },
  "language_info": {
   "codemirror_mode": {
    "name": "ipython",
    "version": 3
   },
   "file_extension": ".py",
   "mimetype": "text/x-python",
   "name": "python",
   "nbconvert_exporter": "python",
   "pygments_lexer": "ipython3",
   "version": "3.7.3"
  }
 },
 "nbformat": 4,
 "nbformat_minor": 2
}
