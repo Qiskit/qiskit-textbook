{
 "cells": [
  {
   "cell_type": "markdown",
   "metadata": {},
   "source": [
    "# Grover's Algorithm"
   ]
  },
  {
   "cell_type": "markdown",
   "metadata": {},
   "source": [
    "In this section, we introduce Grover's algorithm and how it can be used to solve unstructured search problems. We then implement the quantum algorithm using Qiskit, and run on a simulator and device.\n",
    "\n",
    "\n",
    "## Contents\n",
    "\n",
    "1. [Introduction](#introduction)\n",
    "\n",
    "2. [Example: 2 Qubits](#2qubits)\n",
    "   - [Simulation](#2qubits-simulation)\n",
    "   - [Device](#2qubits-device)\n",
    "\n",
    "3. [Example: 3 Qubits](#3qubits)\n",
    "   - [Simulation](#3qubits-simulation)\n",
    "   - [Device](#3qubits-device)\n",
    "\n",
    "4. [Problems](#problems)\n",
    "\n",
    "5. [References](#references)"
   ]
  },
  {
   "cell_type": "markdown",
   "metadata": {},
   "source": [
    "## 1. Introduction <a id='introduction'></a>\n",
    "\n",
    "You have likely heard that one of the many advantages a quantum computer has over a classical computer is its superior speed searching databases. Grover's algorithm demonstrates this capability. This algorithm can speed up an unstructured search problem quadratically, but its uses extend beyond that; it can serve as a general trick or subroutine to obtain quadratic run time improvements for a variety of other algorithms. This is called the amplitude amplification trick.\n",
    "\n",
    "### Unstructured Search\n",
    "\n",
    "Suppose you are given a large list of $N$ items. Among these items there is one item with a unique property that we wish to locate; we will call this one the winner $w$. Think of each item in the list as a box of a particular color. Say all items in the list are gray except the winner $w$, which is pink.\n",
    "\n",
    "<img src=\"images/grover_search.png\">\n",
    "\n",
    "To find the pink box -- the *marked item* -- using classical computation, one would have to check on average $N/2$ of these boxes, and in the worst case, all $N$ of them. On a quantum computer, however, we can find the marked item in roughly $\\sqrt{N}$ steps with Grover's amplitude amplification trick. A quadratic speedup is indeed a substantial time-saver for finding marked items in long lists. Additionally, the algorithm does not use the list's internal structure, which makes it *generic;* this is why it immediately provides a quadratic quantum speed-up for many classical problems.\n",
    "\n",
    "### Oracle\n",
    "\n",
    "How will the list items be provided to the quantum computer? A common way to encode such a list is in terms of a function $f$ which returns $f(x) = 0$ for all unmarked items $x$ and $f(w) = 1$ for the winner. To use a quantum computer for this problem, we must provide the items in superposition to this function, so we encode the function into a unitary matrix called an *oracle*. First we choose a binary encoding of the items $x, w \\in \\{0,1\\}^n$ so that $N = 2^n$; now we can represent it in terms of qubits on a quantum computer. Then we define the oracle matrix $U_f$ to act on any of the simple, standard basis states $| x \\rangle$ by $U_f | x \\rangle = (-1)^{f(x)}  |  x \\rangle.$\n",
    "\n",
    "We see that if $x$ is an unmarked item, the oracle does nothing to the state. However, when we apply the oracle to the basis state $| w \\rangle$, it maps $U_f | w \\rangle = -| w \\rangle$. Geometrically, this unitary matrix corresponds to a reflection about the origin for the marked item in an $N = 2^n$ dimensional vector space.\n",
    "\n",
    "### Amplitude Amplification\n",
    "\n",
    "So how does the algorithm work? Before looking at the list of items, we have no idea where the marked item is. Therefore, any guess of its location is as good as any other, which can be expressed in terms of a\n",
    "uniform superposition: $|s \\rangle = \\frac{1}{\\sqrt{N}} \\sum_{x = 0}^{N -1} | x\n",
    "\\rangle.$\n",
    "\n",
    "If at this point we were to measure in the standard basis $\\{ | x \\rangle \\}$, this superposition would collapse, according to the fifth quantum law, to any one of the basis states with the same probability of $\\frac{1}{N} = \\frac{1}{2^n}$. Our chances of guessing the right value $w$ is therefore $1$ in $2^n$, as could be expected. Hence, on average we would need to try about $N = 2^n$ times to guess the correct item.\n",
    "\n",
    "Enter the procedure called amplitude amplification, which is how a quantum computer significantly enhances this probability. This procedure stretches out (amplifies) the amplitude of the marked item, which shrinks the other items' amplitude, so that measuring the final state will return the right item with near-certainty. \n",
    "\n",
    "This algorithm has a nice geometrical interpretation in terms of two reflections, which generate a rotation in a two-dimensional plane. The only two special states we need to consider are the winner $| w \\rangle$ and the uniform superposition $| s \\rangle$. These two vectors span a two-dimensional plane in the vector space $\\mathbb{C}^N.$ They are not quite perpendicular because $| w \\rangle$ occurs in the superposition with amplitude $N^{-1/2}$ as well.\n",
    "We can, however, introduce an additional state $|s'\\rangle$ that is in the span of these two vectors, which is perpendicular to $| w \\rangle$ and is obtained from $|s \\rangle$ by removing $| w \\rangle$ and\n",
    "rescaling. \n",
    "\n",
    "**Step 1**: The amplitude amplification procedure starts out in the uniform superposition $| s \\rangle$, which is easily constructed from $| s \\rangle = H^{\\otimes n} | 0 \\rangle^n$.\n",
    "\n",
    "<img src=\"images/grover_step1.png\">\n",
    "\n",
    "\n",
    "The left graphic corresponds to the two-dimensional plane spanned by perpendicular vectors $|w\\rangle$ and $|s'\\rangle$ which allows to express the initial state as $|s\\rangle = \\sin \\theta \\lvert w \\rangle + \\cos \\theta \\lvert s' \\rangle,$ where $\\theta = \\arcsin \\langle s \\lvert w \\rangle = \\arcsin \\frac{1}{\\sqrt{N}}$. The right graphic is a bar graph of the amplitudes of the state $| \\psi_t \\rangle$ for the case $N = 2^2 = 4$. The average amplitude is indicated by a dashed line.\n",
    "\n",
    "**Step 2**: We apply the oracle reflection $U_f$ to the state $U_f | \\psi_t \\rangle =  | \\psi_{t'} \\rangle$.\n",
    "\n",
    "<img src=\"images/grover_step2.png\">\n",
    "\n",
    "Geometrically this corresponds to a reflection of the state $|\\psi_t\\rangle$ about $-|w\\rangle$. This transformation means that the amplitude in front of the $|w\\rangle$ state becomes negative, which in turn means that the average amplitude has been lowered.\n",
    "\n",
    "**Step 3**: We now apply an additional reflection $U_s$ about the state $|s\\rangle$: $U_s = 2|s\\rangle\\langle s| - \\mathbb{1}$. This transformation maps the state to $U_s | \\psi_{t'} \\rangle$ and completes the transformation $|\\psi_{t+1}\\rangle = U_s U_f | \\psi_t \\rangle$. \n",
    "\n",
    "<img src=\"images/grover_step3.png\">\n",
    "\n",
    "Two reflections always correspond to a rotation. The transformation $U_s U_f$ rotates the initial state $|s\\rangle$ closer towards the winner $|w\\rangle$. The action of the reflection $U_s$ in the amplitude bar diagram can be understood as a reflection about the average amplitude. Since the average amplitude has been lowered by the first reflection, this transformation boosts the negative amplitude of $|w\\rangle$ to roughly three times its original value, while it decreases the other amplitudes. We then go to **step 2** to repeat the application. This procedure will be repeated several times to zero in on the winner. \n",
    "\n",
    "After $t$ steps the state will have transformed to $| \\psi_t \\rangle = (U_s U_f)^t  | \\psi_0 \\rangle.$\n",
    "\n",
    "How many times do we need to apply the rotation? It turns out that roughly $\\sqrt{N}$ rotations suffice. This becomes clear when looking at the amplitudes of the state $| \\psi_t \\rangle$. We can see that the amplitude of $| w \\rangle$ grows linearly with the number of applications $\\sim t N^{-1/2}$. However, since we are dealing with amplitudes and not probabilities, the vector space's dimension enters as a square root. Therefore it is the amplitude, and not just the probability, that is being amplified in this procedure.\n",
    "\n",
    "In the case that there are multiple solutions, $M$, it can be shown that roughly $\\sqrt{(N/M)}$ rotations will suffice.\n",
    "\n",
    "<img src=\"images/grover_algorithm.png\">\n"
   ]
  },
  {
   "cell_type": "markdown",
   "metadata": {},
   "source": [
    "## 2. Example: 2 Qubits <a id='2qubits'></a>\n",
    "\n",
    "Let's first have a look at the case of Grover's algorithm for $N=4$ which is realized with 2 qubits. In this particular case, contrary to inuition, only <b>one rotation</b> is required which will rotate the initial state $|s\\rangle$ to the winner $|w\\rangle$ which can easily be shown [3]:\n",
    "<ol>\n",
    "    <li>\n",
    "        Following  the above introduction, in the case $N=4$ we have $$\\theta = \\arcsin \\frac{1}{2} = \\frac{\\pi}{6}.$$\n",
    "    </li>\n",
    "    <li>\n",
    "        After $t$ steps, we have $$(U_s U_f)^t  \\lvert s \\rangle = \\sin \\theta_t \\lvert w \\rangle + \\cos \\theta_t \\lvert s' \\rangle ,$$where $$\\theta_t = (2t+1)\\theta.$$\n",
    "    </li>\n",
    "    <li>\n",
    "        In order to obtain $\\lvert w \\rangle$ we need $\\theta_t = \\frac{\\pi}{2}$, which with $\\theta=\\frac{\\pi}{6}$ inserted above results to $t=1$. This implies that after $t=1$ rotation the searched element is found.\n",
    "    </li>\n",
    "</ol>\n",
    "\n",
    "Now let us look into the possible oracles. We have $N=4$ possible elements, i.e. $\\lvert 00 \\rangle, \\lvert 01 \\rangle, \\lvert 10 \\rangle, \\lvert 11 \\rangle$ and hence require in total $4$ oracles.<br>\n",
    "\n",
    "#### Oracle for $\\lvert w \\rangle = \\lvert 11 \\rangle$\n",
    "Let us start with the case $\\lvert w \\rangle = \\lvert 11 \\rangle$. The oracle $U_f$ in this case acts as follows: $$U_f \\lvert s \\rangle = U_f\\frac{1}{2}\\left( \\lvert 00 \\rangle + \\lvert 01 \\rangle + \\lvert 10 \\rangle + \\lvert 11 \\rangle \\right) = \\frac{1}{2}\\left( \\lvert 00 \\rangle + \\lvert 01 \\rangle + \\lvert 10 \\rangle - \\lvert 11 \\rangle \\right).$$In order to realize the sign flip for $\\lvert 11 \\rangle$ we simply need to apply a controlled Z gate to the initial state. This leads to the following circuit:\n",
    "\n",
    "<img src=\"images/grover_circuit_2qbuits_oracle_11.png\">\n",
    "\n",
    "#### Oracle for $\\lvert w \\rangle = \\lvert 00 \\rangle$\n",
    "In the case of $\\lvert w \\rangle = \\lvert 00 \\rangle$ the oracle $U_f$ acts as follows: $$U_f \\lvert s \\rangle = U_f\\frac{1}{2}\\left( \\lvert 00 \\rangle + \\lvert 01 \\rangle + \\lvert 10 \\rangle + \\lvert 11 \\rangle \\right) = \\frac{1}{2}\\left( -\\lvert 00 \\rangle + \\lvert 01 \\rangle + \\lvert 10 \\rangle + \\lvert 11 \\rangle \\right).$$In order to realize the sign flip for $\\lvert 00 \\rangle$ we need to apply an \"inverted\" controlled Z gate to the initial state leading to the following circuit:\n",
    "\n",
    "<img src=\"images/grover_circuit_2qbuits_oracle_00.png\">\n",
    "\n",
    "#### Oracles for $\\lvert w \\rangle = \\lvert 01 \\rangle$ and $\\lvert w \\rangle = \\lvert 10 \\rangle$\n",
    "Following the above logic one can straight forwardly construct the oracles for $\\lvert w \\rangle = \\lvert 01 \\rangle$ (left circuit) and $\\lvert w \\rangle = \\lvert 10 \\rangle$ (right circuit):\n",
    "\n",
    "<img src=\"images/grover_circuit_2qbuits_oracle_01_10.png\">\n",
    "\n",
    "#### Reflection $U_s$\n",
    "In order to complete the circuit we need to implement the additional reflection $U_s = 2|s\\rangle\\langle s| - \\mathbb{1}$ which acts as follows $$U_s \\frac{1}{2}\\left( \\lvert 00 \\rangle + \\lvert 01 \\rangle + \\lvert 10 \\rangle + \\lvert 11 \\rangle \\right) = \\frac{1}{2}\\left( \\lvert 00 \\rangle - \\lvert 01 \\rangle - \\lvert 10 \\rangle - \\lvert 11 \\rangle \\right),$$i.e. the signs of each state are flipped except for $\\lvert 00 \\rangle$. As can easily be verified, one way of implementing $U_s$ is the following circuit:\n",
    "\n",
    "<img src=\"images/grover_circuit_2qbuits_reflection.png\">\n",
    "\n",
    "#### Full Circuit for $\\lvert w \\rangle = \\lvert 00 \\rangle$\n",
    "Since in the particular case of $N=4$ only one rotation is required we can combine the above components to build the full circuit for Grover's algorithm for the case $\\lvert w \\rangle = \\lvert 00 \\rangle$:\n",
    "\n",
    "<img src=\"images/grover_circuit_2qubits_full_00.png\">\n",
    "\n",
    "The other three circuits can be constructed in the same way and will not be depicted here."
   ]
  },
  {
   "cell_type": "markdown",
   "metadata": {},
   "source": [
    "### 2.1 Qiskit Implementation\n",
    "\n",
    "We now implement Grover's algorithm for the above case of 2 qubits for $\\lvert w \\rangle = \\lvert 00 \\rangle$."
   ]
  },
  {
   "cell_type": "code",
   "execution_count": 1,
   "metadata": {},
   "outputs": [],
   "source": [
    "#initialization\n",
    "import matplotlib.pyplot as plt\n",
    "%matplotlib inline\n",
    "import numpy as np\n",
    "\n",
    "# importing Qiskit\n",
    "from qiskit import IBMQ, BasicAer, Aer\n",
    "from qiskit.providers.ibmq import least_busy\n",
    "from qiskit import QuantumCircuit, ClassicalRegister, QuantumRegister, execute\n",
    "\n",
    "# import basic plot tools\n",
    "from qiskit.visualization import plot_histogram"
   ]
  },
  {
   "cell_type": "markdown",
   "metadata": {},
   "source": [
    "We start by preparing a quantum circuit for two qubits and a classical register with two bits."
   ]
  },
  {
   "cell_type": "code",
   "execution_count": 2,
   "metadata": {},
   "outputs": [],
   "source": [
    "qr = QuantumRegister(2)\n",
    "cr = ClassicalRegister(2)\n",
    "\n",
    "groverCircuit = QuantumCircuit(qr,cr)"
   ]
  },
  {
   "cell_type": "markdown",
   "metadata": {},
   "source": [
    "Then we simply need to write out the commands for the circuit depicted above. First, Initialize the state $|s\\rangle$:"
   ]
  },
  {
   "cell_type": "code",
   "execution_count": 3,
   "metadata": {},
   "outputs": [
    {
     "data": {
      "text/plain": [
       "<qiskit.circuit.instructionset.InstructionSet at 0x1a2608d4d0>"
      ]
     },
     "execution_count": 3,
     "metadata": {},
     "output_type": "execute_result"
    }
   ],
   "source": [
    "groverCircuit.h(qr)"
   ]
  },
  {
   "cell_type": "markdown",
   "metadata": {},
   "source": [
    "Apply the Oracle for $|w\\rangle = |00\\rangle$:"
   ]
  },
  {
   "cell_type": "code",
   "execution_count": 4,
   "metadata": {},
   "outputs": [
    {
     "data": {
      "text/plain": [
       "<qiskit.circuit.instructionset.InstructionSet at 0x1a2608ddd0>"
      ]
     },
     "execution_count": 4,
     "metadata": {},
     "output_type": "execute_result"
    }
   ],
   "source": [
    "groverCircuit.x(qr)\n",
    "groverCircuit.cz(qr[0],qr[1])\n",
    "groverCircuit.x(qr)"
   ]
  },
  {
   "cell_type": "markdown",
   "metadata": {},
   "source": [
    "Apply a Hadamard operation to both qubits:"
   ]
  },
  {
   "cell_type": "code",
   "execution_count": 5,
   "metadata": {},
   "outputs": [
    {
     "data": {
      "text/plain": [
       "<qiskit.circuit.instructionset.InstructionSet at 0x1a2613a3d0>"
      ]
     },
     "execution_count": 5,
     "metadata": {},
     "output_type": "execute_result"
    }
   ],
   "source": [
    "groverCircuit.h(qr)"
   ]
  },
  {
   "cell_type": "markdown",
   "metadata": {},
   "source": [
    "Apply the reflection $U_s$:"
   ]
  },
  {
   "cell_type": "code",
   "execution_count": 6,
   "metadata": {},
   "outputs": [
    {
     "data": {
      "text/plain": [
       "<qiskit.circuit.instructionset.InstructionSet at 0x1a2613f090>"
      ]
     },
     "execution_count": 6,
     "metadata": {},
     "output_type": "execute_result"
    }
   ],
   "source": [
    "groverCircuit.z(qr)\n",
    "groverCircuit.cz(qr[0],qr[1])"
   ]
  },
  {
   "cell_type": "markdown",
   "metadata": {},
   "source": [
    "Apply the final Hadamard to both qubits:"
   ]
  },
  {
   "cell_type": "code",
   "execution_count": 7,
   "metadata": {},
   "outputs": [
    {
     "data": {
      "text/plain": [
       "<qiskit.circuit.instructionset.InstructionSet at 0x1a2613f6d0>"
      ]
     },
     "execution_count": 7,
     "metadata": {},
     "output_type": "execute_result"
    }
   ],
   "source": [
    "groverCircuit.h(qr)"
   ]
  },
  {
   "cell_type": "markdown",
   "metadata": {},
   "source": [
    "Drawing the circuit confirms that we have assembled it correctly:"
   ]
  },
  {
   "cell_type": "code",
   "execution_count": 8,
   "metadata": {},
   "outputs": [
    {
     "data": {
      "image/png": "[encoded data removed]",
      "text/plain": [
       "<Figure size 648.956x204.68 with 1 Axes>"
      ]
     },
     "execution_count": 8,
     "metadata": {},
     "output_type": "execute_result"
    }
   ],
   "source": [
    "groverCircuit.draw(output=\"mpl\")"
   ]
  },
  {
   "cell_type": "markdown",
   "metadata": {},
   "source": [
    "### 2.1.1 Experiment with Simulators <a id='2qubits-simulation'></a>\n",
    "\n",
    "Let's run the circuit in simulation. First, we can verify that we have the correct statevector:"
   ]
  },
  {
   "cell_type": "code",
   "execution_count": 9,
   "metadata": {},
   "outputs": [
    {
     "name": "stdout",
     "output_type": "stream",
     "text": [
      "[1.+0.j 0.+0.j 0.+0.j 0.+0.j]\n"
     ]
    }
   ],
   "source": [
    "backend_sim = Aer.get_backend('statevector_simulator')\n",
    "job_sim = execute(groverCircuit, backend_sim)\n",
    "statevec = job_sim.result().get_statevector()\n",
    "print(statevec)"
   ]
  },
  {
   "cell_type": "markdown",
   "metadata": {},
   "source": [
    "Now let us measure the state and create the corresponding histogram experiments:"
   ]
  },
  {
   "cell_type": "code",
   "execution_count": 10,
   "metadata": {},
   "outputs": [
    {
     "data": {
      "image/png": "[encoded data removed]",
      "text/plain": [
       "<Figure size 504x360 with 1 Axes>"
      ]
     },
     "execution_count": 10,
     "metadata": {},
     "output_type": "execute_result"
    }
   ],
   "source": [
    "groverCircuit.measure(qr,cr)\n",
    "\n",
    "backend = BasicAer.get_backend('qasm_simulator')\n",
    "shots = 1024\n",
    "results = execute(groverCircuit, backend=backend, shots=shots).result()\n",
    "answer = results.get_counts()\n",
    "plot_histogram(answer)"
   ]
  },
  {
   "cell_type": "markdown",
   "metadata": {},
   "source": [
    "We confirm that in 100% of the cases the element $|00\\rangle$ is found."
   ]
  },
  {
   "cell_type": "markdown",
   "metadata": {},
   "source": [
    "### 2.1.2 Experiment with Real Devices <a id='2qubits-device'></a>"
   ]
  },
  {
   "cell_type": "markdown",
   "metadata": {},
   "source": [
    "We can run the circuit on the real device as below."
   ]
  },
  {
   "cell_type": "code",
   "execution_count": 11,
   "metadata": {},
   "outputs": [
    {
     "name": "stdout",
     "output_type": "stream",
     "text": [
      "Running on current least busy device:  ibmqx2\n"
     ]
    }
   ],
   "source": [
    "# Load IBM Q account and get the least busy backend device\n",
    "provider = IBMQ.load_account()\n",
    "device = least_busy(provider.backends(simulator=False))\n",
    "print(\"Running on current least busy device: \", device)"
   ]
  },
  {
   "cell_type": "code",
   "execution_count": 12,
   "metadata": {},
   "outputs": [
    {
     "name": "stdout",
     "output_type": "stream",
     "text": [
      "Job Status: job has successfully run\n"
     ]
    }
   ],
   "source": [
    "# Run our circuit on the least busy backend. Monitor the execution of the job in the queue\n",
    "from qiskit.tools.monitor import job_monitor\n",
    "job = execute(groverCircuit, backend=device, shots=1024, max_credits=10)\n",
    "job_monitor(job, interval = 2)"
   ]
  },
  {
   "cell_type": "code",
   "execution_count": 13,
   "metadata": {},
   "outputs": [
    {
     "data": {
      "image/png": "[encoded data removed]",
      "text/plain": [
       "<Figure size 504x360 with 1 Axes>"
      ]
     },
     "execution_count": 13,
     "metadata": {},
     "output_type": "execute_result"
    }
   ],
   "source": [
    "# Get the results from the computation\n",
    "results = job.result()\n",
    "answer = results.get_counts(groverCircuit)\n",
    "plot_histogram(answer)"
   ]
  },
  {
   "cell_type": "markdown",
   "metadata": {},
   "source": [
    "We confirm that in the majority of the cases the element $|00\\rangle$ is found. The other results are due to errors in the quantum computation. "
   ]
  },
  {
   "cell_type": "markdown",
   "metadata": {},
   "source": [
    "## 3. Example: 3 Qubits <a id='3qubits'></a>\n",
    "\n",
    "We now go through the example of Grover's algorithm for 3 qubits with two marked states $\\lvert101\\rangle$ and $\\lvert110\\rangle$, following the implementation found in Reference [2]. The quantum circuit to solve the problem using a phase oracle is:\n",
    "\n",
    "<img src=\"images/grover_circuit_3qubits.png\"  width=\"300\">\n",
    "\n",
    "<ol>\n",
    "<li> \n",
    "  Apply Hadamard gates to $3$ qubits initialised to $\\lvert000\\rangle$ to create a uniform superposition:\n",
    "  $$\\lvert \\psi_1 \\rangle = \\frac{1}{\\sqrt{8}} \\left( \n",
    "    \\lvert000\\rangle + \\lvert001\\rangle + \\lvert010\\rangle + \\lvert011\\rangle + \n",
    "    \\lvert100\\rangle + \\lvert101\\rangle + \\lvert110\\rangle + \\lvert111\\rangle \\right) $$\n",
    "</li>\n",
    "\n",
    "<li>\n",
    "  Mark states $\\lvert101\\rangle$ and $\\lvert110\\rangle$ using a phase oracle:\n",
    "  $$\\lvert \\psi_2 \\rangle = \\frac{1}{\\sqrt{8}} \\left( \n",
    "    \\lvert000\\rangle + \\lvert001\\rangle + \\lvert010\\rangle + \\lvert011\\rangle + \n",
    "    \\lvert100\\rangle - \\lvert101\\rangle - \\lvert110\\rangle + \\lvert111\\rangle \\right) $$\n",
    "</li>\n",
    "\n",
    "<li>\n",
    "  Perform the reflection around the average amplitute:\n",
    "    \n",
    "  <ol>\n",
    "   <li> Apply Hadamard gates to the qubits\n",
    "      $$\\lvert \\psi_{3a} \\rangle = \\frac{1}{2} \\left( \n",
    "        \\lvert000\\rangle +\\lvert011\\rangle +\\lvert100\\rangle -\\lvert111\\rangle \\right) $$\n",
    "   </li>\n",
    "    \n",
    "   <li> Apply X gates to the qubits\n",
    "      $$\\lvert \\psi_{3b} \\rangle = \\frac{1}{2} \\left( \n",
    "        -\\lvert000\\rangle +\\lvert011\\rangle +\\lvert100\\rangle +\\lvert111\\rangle \\right) $$\n",
    "   </li>\n",
    "\n",
    "   <li> Apply a doubly controlled Z gate between the 1, 2 (controls) and 3 (target) qubits\n",
    "      $$\\lvert \\psi_{3c} \\rangle = \\frac{1}{2} \\left( \n",
    "        -\\lvert000\\rangle +\\lvert011\\rangle +\\lvert100\\rangle -\\lvert111\\rangle \\right) $$\n",
    "   </li>\n",
    "   <li> Apply X gates to the qubits\n",
    "      $$\\lvert \\psi_{3d} \\rangle = \\frac{1}{2} \\left( \n",
    "        -\\lvert000\\rangle +\\lvert011\\rangle +\\lvert100\\rangle -\\lvert111\\rangle \\right) $$\n",
    "   </li>\n",
    "   <li> Apply Hadamard gates to the qubits\n",
    "      $$\\lvert \\psi_{3e} \\rangle = \\frac{1}{\\sqrt{2}} \\left( \n",
    "        -\\lvert101\\rangle -\\lvert110\\rangle \\right) $$\n",
    "   </li>\n",
    "  </ol>\n",
    "</li>\n",
    "\n",
    "<li>\n",
    "  Measure the $3$ qubits to retrieve states $\\lvert101\\rangle$ and $\\lvert110\\rangle$\n",
    "</li>\n",
    "</ol>\n",
    "\n",
    "Note that since there are 2 solutions and 8 possibilities, we will only need to run one iteration (steps 2 & 3)."
   ]
  },
  {
   "cell_type": "markdown",
   "metadata": {},
   "source": [
    "### 3.1 Qiskit Implementation <a id='3qubit-implementation'></a>\n",
    "\n",
    "We now implement Grover's algorithm for the above [example](example) for $3$-qubits and searching for two marked states $\\lvert101\\rangle$ and $\\lvert110\\rangle$."
   ]
  },
  {
   "cell_type": "markdown",
   "metadata": {},
   "source": [
    "We create a phase oracle that will mark states $\\lvert101\\rangle$ and $\\lvert110\\rangle$ as the results (step 1)."
   ]
  },
  {
   "cell_type": "code",
   "execution_count": 14,
   "metadata": {},
   "outputs": [],
   "source": [
    "def phase_oracle(circuit, register):\n",
    "    circuit.cz(qr[2],qr[0])\n",
    "    circuit.cz(qr[2],qr[1])"
   ]
  },
  {
   "cell_type": "markdown",
   "metadata": {},
   "source": [
    "Next we set up the circuit for inversion about the average (step 2), where we will first need to define a function that creates a multiple-controlled Z gate."
   ]
  },
  {
   "cell_type": "code",
   "execution_count": 15,
   "metadata": {},
   "outputs": [],
   "source": [
    "def n_controlled_Z(circuit, controls, target):\n",
    "    \"\"\"Implement a Z gate with multiple controls\"\"\"\n",
    "    if (len(controls) > 2):\n",
    "        raise ValueError('The controlled Z with more than 2 controls is not implemented')\n",
    "    elif (len(controls) == 1):\n",
    "        circuit.h(target)\n",
    "        circuit.cx(controls[0], target)\n",
    "        circuit.h(target)\n",
    "    elif (len(controls) == 2):\n",
    "        circuit.h(target)\n",
    "        circuit.ccx(controls[0], controls[1], target)\n",
    "        circuit.h(target)"
   ]
  },
  {
   "cell_type": "code",
   "execution_count": 16,
   "metadata": {},
   "outputs": [],
   "source": [
    "def inversion_about_average(circuit, register, n, barriers):\n",
    "    \"\"\"Apply inversion about the average step of Grover's algorithm.\"\"\"\n",
    "    circuit.h(register)\n",
    "    circuit.x(register)\n",
    "    \n",
    "    if barriers:\n",
    "        circuit.barrier()\n",
    "    \n",
    "    n_controlled_Z(circuit, [register[j] for j in range(n-1)], register[n-1])\n",
    "    \n",
    "    if barriers:\n",
    "        circuit.barrier()\n",
    "    \n",
    "    circuit.x(register)\n",
    "    circuit.h(register)"
   ]
  },
  {
   "cell_type": "markdown",
   "metadata": {},
   "source": [
    "Now we put the pieces together, with the creation of a uniform superposition at the start of the circuit and a measurement at the end. Note that since there are 2 solutions and 8 possibilities, we will only need to run one iteration. "
   ]
  },
  {
   "cell_type": "code",
   "execution_count": 17,
   "metadata": {},
   "outputs": [
    {
     "data": {
      "text/plain": [
       "<qiskit.circuit.instructionset.InstructionSet at 0x1a26e6e890>"
      ]
     },
     "execution_count": 17,
     "metadata": {},
     "output_type": "execute_result"
    }
   ],
   "source": [
    "barriers = True\n",
    "\n",
    "qr = QuantumRegister(3)\n",
    "cr = ClassicalRegister(3)\n",
    "\n",
    "groverCircuit = QuantumCircuit(qr,cr)\n",
    "groverCircuit.h(qr)\n",
    "\n",
    "if barriers:\n",
    "    groverCircuit.barrier()\n",
    "\n",
    "phase_oracle(groverCircuit, qr)\n",
    "\n",
    "if barriers:\n",
    "    groverCircuit.barrier()\n",
    "\n",
    "inversion_about_average(groverCircuit, qr, 3, barriers)\n",
    "\n",
    "if barriers:\n",
    "    groverCircuit.barrier()\n",
    "\n",
    "groverCircuit.measure(qr,cr)"
   ]
  },
  {
   "cell_type": "code",
   "execution_count": 18,
   "metadata": {},
   "outputs": [
    {
     "data": {
      "image/png": "[encoded data removed]",
      "text/plain": [
       "<Figure size 1250.96x264.88 with 1 Axes>"
      ]
     },
     "execution_count": 18,
     "metadata": {},
     "output_type": "execute_result"
    }
   ],
   "source": [
    "groverCircuit.draw(output=\"mpl\")"
   ]
  },
  {
   "cell_type": "markdown",
   "metadata": {},
   "source": [
    "### 3.1.1 Experiment with Simulators  <a id='3qubits-simulation'></a>\n",
    "\n",
    "We can run the above circuit on the simulator. "
   ]
  },
  {
   "cell_type": "code",
   "execution_count": 19,
   "metadata": {},
   "outputs": [
    {
     "data": {
      "image/png": "[encoded data removed]",
      "text/plain": [
       "<Figure size 504x360 with 1 Axes>"
      ]
     },
     "execution_count": 19,
     "metadata": {},
     "output_type": "execute_result"
    }
   ],
   "source": [
    "backend = BasicAer.get_backend('qasm_simulator')\n",
    "shots = 1024\n",
    "results = execute(groverCircuit, backend=backend, shots=shots).result()\n",
    "answer = results.get_counts()\n",
    "plot_histogram(answer)"
   ]
  },
  {
   "cell_type": "markdown",
   "metadata": {},
   "source": [
    "As we can see, the algorithm discovers our marked states $\\lvert101\\rangle$ and $\\lvert110\\rangle$."
   ]
  },
  {
   "cell_type": "markdown",
   "metadata": {},
   "source": [
    "### 3.1.2 Experiment with Real Devices  <a id='3qubits-device'></a>\n",
    "\n",
    "We can run the circuit on the real device as below."
   ]
  },
  {
   "cell_type": "code",
   "execution_count": 20,
   "metadata": {},
   "outputs": [
    {
     "name": "stdout",
     "output_type": "stream",
     "text": [
      "least busy backend:  ibmqx2\n"
     ]
    }
   ],
   "source": [
    "backend = least_busy(provider.backends(filters=lambda x: x.configuration().n_qubits <= 5 and \n",
    "                                   not x.configuration().simulator and x.status().operational==True))\n",
    "print(\"least busy backend: \", backend)"
   ]
  },
  {
   "cell_type": "code",
   "execution_count": 21,
   "metadata": {},
   "outputs": [
    {
     "name": "stdout",
     "output_type": "stream",
     "text": [
      "Job Status: job has successfully run\n"
     ]
    }
   ],
   "source": [
    "# Run our circuit on the least busy backend. Monitor the execution of the job in the queue\n",
    "from qiskit.tools.monitor import job_monitor\n",
    "\n",
    "shots = 1024\n",
    "job = execute(groverCircuit, backend=backend, shots=shots)\n",
    "\n",
    "job_monitor(job, interval = 2)"
   ]
  },
  {
   "cell_type": "code",
   "execution_count": 22,
   "metadata": {},
   "outputs": [
    {
     "data": {
      "image/png": "[encoded data removed]",
      "text/plain": [
       "<Figure size 504x360 with 1 Axes>"
      ]
     },
     "execution_count": 22,
     "metadata": {},
     "output_type": "execute_result"
    }
   ],
   "source": [
    "# Get the results from the computation\n",
    "results = job.result()\n",
    "answer = results.get_counts(groverCircuit)\n",
    "plot_histogram(answer)"
   ]
  },
  {
   "cell_type": "markdown",
   "metadata": {},
   "source": [
    "As we can see, the algorithm discovers our marked states $\\lvert101\\rangle$ and $\\lvert110\\rangle$. The other results are due to errors in the quantum computation. "
   ]
  },
  {
   "cell_type": "markdown",
   "metadata": {},
   "source": [
    "## 4. Problems <a id='problems'></a>\n",
    "\n",
    "1. The above [example](#example) and [implementation](#implementation) of Grover is to find the two marked $3$-qubit states $\\lvert101\\rangle$ and $\\lvert110\\rangle$. Modify the implementation to find one marked $2$-qubit state $\\lvert01\\rangle$. Are the results what you expect? Explain.\n",
    "\n",
    "2. The above [example](#example) and [implementation](#implementation) of Grover is to find the two marked $3$-qubit states $\\lvert101\\rangle$ and $\\lvert110\\rangle$. Modify the implementation to find one marked $4$-qubit state $\\lvert0101\\rangle$. Are the results what you expect? Explain."
   ]
  },
  {
   "cell_type": "markdown",
   "metadata": {},
   "source": [
    "## 5. References <a id='references'></a>\n",
    "\n",
    "1. L. K. Grover (1996), \"A fast quantum mechanical algorithm for database search\", Proceedings of the 28th Annual ACM Symposium on the Theory of Computing (STOC 1996), [doi:10.1145/237814.237866](http://doi.acm.org/10.1145/237814.237866), [arXiv:quant-ph/9605043](https://arxiv.org/abs/quant-ph/9605043)\n",
    "2. C. Figgatt, D. Maslov, K. A. Landsman, N. M. Linke, S. Debnath & C. Monroe (2017), \"Complete 3-Qubit Grover search on a programmable quantum computer\", Nature Communications, Vol 8, Art 1918, [doi:10.1038/s41467-017-01904-7](https://doi.org/10.1038/s41467-017-01904-7), [arXiv:1703.10535 ](https://arxiv.org/abs/1703.10535)\n",
    "3. I. Chuang & M. Nielsen, \"Quantum Computation and Quantum Information\", Cambridge: Cambridge University Press, 2000."
   ]
  },
  {
   "cell_type": "code",
   "execution_count": 23,
   "metadata": {},
   "outputs": [
    {
     "data": {
      "text/plain": [
       "{'qiskit-terra': '0.10.0',\n",
       " 'qiskit-aer': '0.3.2',\n",
       " 'qiskit-ignis': '0.2.0',\n",
       " 'qiskit-ibmq-provider': '0.3.3',\n",
       " 'qiskit-aqua': '0.6.1',\n",
       " 'qiskit': '0.13.0'}"
      ]
     },
     "execution_count": 23,
     "metadata": {},
     "output_type": "execute_result"
    }
   ],
   "source": [
    "import qiskit\n",
    "qiskit.__qiskit_version__"
   ]
  }
 ],
 "metadata": {
  "kernelspec": {
   "display_name": "Python 3",
   "language": "python",
   "name": "python3"
  },
  "language_info": {
   "codemirror_mode": {
    "name": "ipython",
    "version": 3
   },
   "file_extension": ".py",
   "mimetype": "text/x-python",
   "name": "python",
   "nbconvert_exporter": "python",
   "pygments_lexer": "ipython3",
   "version": "3.7.4"
  }
 },
 "nbformat": 4,
 "nbformat_minor": 2
}
