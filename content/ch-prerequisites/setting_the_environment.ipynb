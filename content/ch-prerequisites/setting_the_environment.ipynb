{
 "cells": [
  {
   "cell_type": "markdown",
   "metadata": {},
   "source": [
    "## Environment Setup Guide to work with Qiskit Textbook"
   ]
  },
  {
   "cell_type": "markdown",
   "metadata": {},
   "source": [
    "This is a comprehensive guide for setting up your environment on your personal computer for working with Qiskit Textbook. It is a crucial step as will help you avoid discrepancy between the results on your system and in the textbook."
   ]
  },
  {
   "cell_type": "markdown",
   "metadata": {},
   "source": [
    "### Installing the qiskit_textbook Package\n",
    "\n",
    "The Qiskit Textbook provides some tools and widgets specific to the Textbook. This is not part of Qiskit and is available through the `qiskit_textbook` package. The quickest way to install this with [Pip](http://pypi.org/project/pip/) and [Git](http://git-scm.com/) is through the command:\n",
    "\n",
    "```\n",
    "pip install git+https://github.com/qiskit-community/qiskit-textbook.git#subdirectory=qiskit-textbook-src\n",
    "```\n",
    "Alternatively, you can download the folder qiskit-textbook-src and run:\n",
    "\n",
    "```\n",
    "pip install ./qiskit-textbook-src\n",
    "```\n",
    "\n",
    "from the directory that contains this folder.\n"
   ]
  },
  {
   "cell_type": "markdown",
   "metadata": {},
   "source": [
    "### Setting up default drawer to MatPlotLib\n",
    "\n",
    "The default backend for `QuantumCircuit.draw()` or `qiskit.visualization.circuit_drawer()` is the text backend. However, depending on your local environment you may want to change these defaults to something better suited for your use case. This is done with the user config file. By default the user config file should be located in `~/.qiskit/settings.conf` and is a `.ini` file.\n",
    "\n",
    "Qiskit Textbook uses default circuit drawer as MatPlotLib. To make your visualizations in sync with textbook terminal create a `settings.conf` file:"
   ]
  },
  {
   "cell_type": "raw",
   "metadata": {},
   "source": [
    "[default]\n",
    "circuit_drawer = mpl"
   ]
  },
  {
   "cell_type": "markdown",
   "metadata": {},
   "source": [
    "### Syncing with the Qiskit versions used in the Textbook\n",
    "\n",
    "You will find a code snippet at the end of the most tutorials which will contain the information on which versions of qiskit packages are used in the tutorial. Please use the same version for consistency in syntax and outputs.\n",
    "\n",
    "To check the version installed in your computer, run the following in Python shell:"
   ]
  },
  {
   "cell_type": "raw",
   "metadata": {},
   "source": [
    "import qiskit\n",
    "qiskit.__qiskit_version__"
   ]
  }
 ],
 "metadata": {
  "kernelspec": {
   "display_name": "Python 3",
   "language": "python",
   "name": "python3"
  },
  "language_info": {
   "codemirror_mode": {
    "name": "ipython",
    "version": 3
   },
   "file_extension": ".py",
   "mimetype": "text/x-python",
   "name": "python",
   "nbconvert_exporter": "python",
   "pygments_lexer": "ipython3",
   "version": "3.7.3"
  }
 },
 "nbformat": 4,
 "nbformat_minor": 2
}
