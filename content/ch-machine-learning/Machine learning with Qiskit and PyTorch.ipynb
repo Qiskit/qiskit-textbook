{
 "cells": [
  {
   "cell_type": "markdown",
   "metadata": {},
   "source": [
    "# Hybrid quantum-classical machine learning with PyTorch and Qiskit\n",
    "\n",
    "Machine learning has established itself as a successful multidisciplinary field that aims to create artificially intelligent systems by enabling machines to learn from data. Throwing in quantum computing gives rise to interesting areas of research that seek to leverage the principles of quantum mechanics for machine learning (ML) computation or vice-versa. Whether you're aiming to enhance classical ML algorithms by outsourcing difficult calculations to a quantum computer or optimise quantum algorithms using classical ML architectures - both are examples of [hybrid quantum-classical machine learning](https://pennylane.ai/qml/concepts.html#hybrid-computation). \n",
    "\n",
    "In this chapter, we introduce the notion of hybrid computation through a very simple example involving [neural networks](https://www.youtube.com/watch?v=aircAruvnKk) using the state-of-the-art open source software package - [PyTorch](https://pytorch.org/). The purpose of this example is to demonstrate the ease of integrating ML with Qiskit and to encourage ML practitioners to explore what is possible with quantum computing. "
   ]
  },
  {
   "cell_type": "markdown",
   "metadata": {},
   "source": [
    "<h1><center>How does it work?</center></h1>\n",
    "<img src=\"hybridnetwork.png\" width = \"800\"/>\n",
    "\n",
    "The figure above illustrates the framework we will construct in this chapter. Ultimately, we will create a hybrid quantum-classical neural network that optimises both classical and quantum parameters in order to do classification. "
   ]
  },
  {
   "cell_type": "markdown",
   "metadata": {},
   "source": [
    "### What does that mean?\n",
    "Typically, a neural network takes in input data in the form of classical vectors. These inputs are multiplied by [weights](https://en.wikipedia.org/wiki/Artificial_neural_network#Connections_and_weights) which connect the inputs to neurons in the hidden layers of a neural network. The number of neurons in any hidden layer can be specified and often depend on the problem at hand. By creating a quantum-classical neural network, one can simply use a [parameterised quantum circuit](https://pennylane.ai/qml/concepts/varcirc.html) in any of the hidden layers where the neurons can now be thought of as the parameter values for the quantum circuit. The output of the quantum circuit are measurements that can act as values for neurons in the next hidden layer. In other words, there can be interplay between classical and quantum objects where the parameters of a [variational quantum circuit](https://pennylane.ai/qml/concepts/varcirc.html) are \"quantum neurons\" optimised through training of the weights in our neural network. The full neural network will thus seek to optimise over both classical and quantum parameters. A simple example is depicted below:\n",
    "\n",
    "<img src=\"neuralnetworkQC.png\" width = \"800\"/>\n",
    "\n",
    "Here, $\\sigma$ is an [activation function](https://en.wikipedia.org/wiki/Activation_function) and $h_i$ is the value of neuron $i$ at each hidden layer. $R(h_i)$ represents any rotation gate about an angle equal to $h_i$ and $y$ is the final prediction value generated from the hybrid network.  \n",
    "\n",
    "### What about backpropagation?\n",
    "If you're familiar with classical ML, you may immediately be wondering *how do we calculate gradients when quantum circuits are involved?* This would be necessary to perform cool optimisation techniques like [gradient descent](https://en.wikipedia.org/wiki/Gradient_descent). It gets a bit technical, but in short, we can view a quantum circuit as a black box and the gradient of this black box with respect to its parameters is calculated as follows: \n",
    "\n",
    "<img src=\"quantumgradient.png\" width = \"800\"/>\n",
    "\n",
    "where $\\theta$ represents the parameters of the quantum circuit and $s$ is a macroscopic shift. Thus, the gradient is simply the difference between the quantum circuit evaluated at $\\theta+s$ and $\\theta - s$. The technical proof can be found [here](https://pennylane.ai/qml/concepts/autograd_quantum.html#a-more-technical-explanation) and this means that automatic differentiation with quantum circuits is not a problem. "
   ]
  },
  {
   "cell_type": "markdown",
   "metadata": {},
   "source": [
    "<h1><center>Let's code!</center></h1>"
   ]
  },
  {
   "cell_type": "markdown",
   "metadata": {},
   "source": [
    "### Imports\n",
    "First, we import some handy packages that we will need, including Qiskit and PyTorch."
   ]
  },
  {
   "cell_type": "code",
   "execution_count": 1,
   "metadata": {},
   "outputs": [],
   "source": [
    "import numpy as np\n",
    "import torch\n",
    "from torch.autograd import Function\n",
    "import torch.optim as optim\n",
    "import torch.nn as nn\n",
    "import torch.nn.functional as F\n",
    "import torchvision\n",
    "from torchvision import datasets, transforms\n",
    "from qiskit import QuantumRegister, QuantumCircuit, ClassicalRegister, execute\n",
    "from qiskit.circuit import Parameter\n",
    "from qiskit import Aer\n",
    "from tqdm import tqdm\n",
    "from matplotlib import pyplot as plt\n",
    "%matplotlib inline"
   ]
  },
  {
   "cell_type": "markdown",
   "metadata": {},
   "source": [
    "### Tensors to lists\n",
    "Next we create an additional function that converts a tensor to a list in Python. This is needed to connect Qiskit and PyTorch objects. In particular, we will use this function to convert tensors produced by PyTorch to a list, such that they can be fed into quantum circuits in Qiskit."
   ]
  },
  {
   "cell_type": "code",
   "execution_count": 2,
   "metadata": {},
   "outputs": [],
   "source": [
    "def to_numbers(tensor_list):\n",
    "    num_list = []\n",
    "    for tensor in tensor_list:\n",
    "        num_list += [tensor.item()]\n",
    "    return num_list"
   ]
  },
  {
   "cell_type": "markdown",
   "metadata": {},
   "source": [
    "### Create a \"quantum class\" with Qiskit\n",
    "We can conveniently put our Qiskit quantum functions into a class. First, we specify how many trainable quantum parameters and how many shots we wish to use in our quantum circuit. In this example, we will keep it simple and use a 1-qubit circuit with one trainable quantum parameter $\\theta$. We hard code the circuit for simplicity and use a $RY-$rotation by the angle $\\theta$ to train the output of our circuit. The circuit looks like this:\n",
    "\n",
    "<img src=\"1qubitcirc.png\" width = \"400\"/>\n",
    "\n",
    "In order to measure the output in the $z-$basis, we create a Python function to obtain the $\\sigma_z$ expectation. Lastly, we create a \"bind\" function to convert our parameter to a list and run the circuit on the Aer simulator. We will see later how this all ties into the hybrid neural network."
   ]
  },
  {
   "cell_type": "code",
   "execution_count": 3,
   "metadata": {},
   "outputs": [],
   "source": [
    "class QiskitCircuit():\n",
    "    \n",
    "    # Specify initial parameters and the quantum circuit\n",
    "    \n",
    "    def __init__(self,shots):\n",
    "        self.theta = Parameter('Theta')\n",
    "        self.shots = shots\n",
    "        \n",
    "        def create_circuit():\n",
    "            qr = QuantumRegister(1,'q')\n",
    "            cr = ClassicalRegister(1,'c')\n",
    "            ckt = QuantumCircuit(qr,cr)\n",
    "            ckt.h(qr[0])\n",
    "            ckt.barrier()\n",
    "            ckt.ry(self.theta,qr[0])\n",
    "            ckt.barrier()\n",
    "            ckt.measure(qr,cr)\n",
    "            return ckt\n",
    "        \n",
    "        self.circuit = create_circuit()\n",
    "        \n",
    "    def N_qubit_expectation_Z(self,counts, shots, nr_qubits):\n",
    "        expects = np.zeros(nr_qubits)\n",
    "        for key in counts.keys():\n",
    "            perc = counts[key]/shots\n",
    "            check = np.array([(float(key[i])-1/2)*2*perc for i in range(nr_qubits)])\n",
    "            expects += check   \n",
    "        return expects    \n",
    "    \n",
    "    def bind(self, parameters):\n",
    "        [self.theta] = to_numbers(parameters)\n",
    "        self.circuit.data[2][0]._params = to_numbers(parameters)\n",
    "    \n",
    "    def run(self, i):\n",
    "        self.bind(i)\n",
    "        backend = Aer.get_backend('qasm_simulator')\n",
    "        job_sim = execute(self.circuit,backend,shots=self.shots)\n",
    "        result_sim = job_sim.result()\n",
    "        counts = result_sim.get_counts(self.circuit)\n",
    "        return self.N_qubit_expectation_Z(counts,self.shots,1)"
   ]
  },
  {
   "cell_type": "markdown",
   "metadata": {},
   "source": [
    "### Create a \"quantum-classical class\" with PyTorch\n",
    "Now that our quantum circuit is defined, we can create the functions needed for backpropagation using PyTorch. [The forward and backward passes](http://www.ai.mit.edu/courses/6.034b/backprops.pdf) contain elements from our Qiskit class. The backward pass directly computes the analytical gradients using the finite difference formula we introduced above."
   ]
  },
  {
   "cell_type": "code",
   "execution_count": 4,
   "metadata": {},
   "outputs": [],
   "source": [
    "class TorchCircuit(Function):    \n",
    "\n",
    "    @staticmethod\n",
    "    def forward(ctx, i):\n",
    "        if not hasattr(ctx, 'QiskitCirc'):\n",
    "            ctx.QiskitCirc = QiskitCircuit(shots=100)\n",
    "            \n",
    "        exp_value = ctx.QiskitCirc.run(i[0])\n",
    "        \n",
    "        result = torch.tensor([exp_value]) # store the result as a torch tensor\n",
    "        \n",
    "        ctx.save_for_backward(result, i)\n",
    "        \n",
    "        return result\n",
    "    \n",
    "    @staticmethod\n",
    "    def backward(ctx, grad_output):\n",
    "        s = np.pi/2\n",
    "        \n",
    "        forward_tensor, i = ctx.saved_tensors  \n",
    "        \n",
    "        # Obtain paramaters \n",
    "        input_numbers = to_numbers(i[0])\n",
    "        \n",
    "        gradient = []\n",
    "        \n",
    "        for k in range(len(input_numbers)):\n",
    "            input_plus_s = input_numbers\n",
    "            input_plus_s[k] = input_numbers[k] + s  # Shift up by s\n",
    "            \n",
    "            exp_value_plus = ctx.QiskitCirc.run(torch.tensor(input_plus_s))[0]\n",
    "            result_plus_s = torch.tensor([exp_value_plus])\n",
    "            \n",
    "            input_minus_s = input_numbers\n",
    "            input_minus_s[k] = input_numbers[k] - s # Shift down by s\n",
    "            \n",
    "            exp_value_minus = ctx.QiskitCirc.run(torch.tensor(input_minus_s))[0]\n",
    "            result_minus_s = torch.tensor([exp_value_minus])\n",
    "\n",
    "            gradient_result = (result_plus_s - result_minus_s)\n",
    "\n",
    "            gradient.append(gradient_result)\n",
    "            \n",
    "        result = torch.tensor([gradient])\n",
    "        \n",
    "        return result.float() * grad_output.float()"
   ]
  },
  {
   "cell_type": "markdown",
   "metadata": {},
   "source": [
    "<h1><center>Putting this all together</center></h1>\n",
    "We will create a simple hybrid neural network to classify images of two types of digits (0 or 1) from the [MNIST dataset](http://yann.lecun.com/exdb/mnist/). We first load MNIST and filter for pictures containing 0's and 1's. These will serve as inputs for our neural network to classify.\n",
    "\n",
    "### Data loading and preprocessing"
   ]
  },
  {
   "cell_type": "code",
   "execution_count": 5,
   "metadata": {},
   "outputs": [],
   "source": [
    "transform = torchvision.transforms.Compose([torchvision.transforms.ToTensor()]) # transform images to tensors/vectors\n",
    "mnist_trainset = datasets.MNIST(root='./data', train=True, download=True, transform=transform)\n",
    "\n",
    "labels = mnist_trainset.targets # get the labels for the data\n",
    "labels = labels.numpy()\n",
    "\n",
    "idx1 = np.where(labels == 0) # filter on zeros\n",
    "idx2 = np.where(labels == 1) # filter on ones\n",
    "\n",
    "# Specify number of datapoints per class (i.e. there will be n pictures of 1 and n pictures of 0 in the training set)\n",
    "n=100\n",
    "\n",
    "# concatenate the data indices\n",
    "idx = np.concatenate((idx1[0][0:n],idx2[0][0:n])) \n",
    "\n",
    "# create the filtered dataset for our training set\n",
    "mnist_trainset.targets = labels[idx] \n",
    "mnist_trainset.data = mnist_trainset.data[idx]\n",
    "\n",
    "train_loader = torch.utils.data.DataLoader(mnist_trainset, batch_size=1, shuffle=True)"
   ]
  },
  {
   "cell_type": "markdown",
   "metadata": {},
   "source": [
    "The data will consist of images belonging to two classes: 0 and 1. An example image from both classes looks like this:\n",
    "\n",
    "<img src=\"MNISTplot.png\" width = \"100\"/>\n",
    "\n",
    "So far, we have loaded the data and coded a class that creates our quantum circuit which contains 1 trainable parameter. This quantum parameter will be inserted into a classical neural network along with the other classical parameters to form the hybrid neural network. We also created backward and forward pass functions that allow us to do backpropagation and optimise our neural network. Lastly, we need to specify our neural network architecture such that we can begin to train our parameters using optimisation techniques provided by PyTorch. \n",
    "\n",
    "\n",
    "### Creating the hybrid neural network\n",
    "We can use a neat PyTorch pipeline to create a neural network architecture. The network will need to be compatible in terms of its dimensionality when we insert the quantum node (i.e. our quantum circuit). Since our quantum node in this example contains 1 parameter, we must ensure the network condenses neurons down to size 1. We create a network consisting of 3 hidden layers with 320, 50 and 1 neurons respectively. The value of the last neuron is fed as the parameter $\\theta$ into our quantum circuit. The circuit measurement then serves as the final prediction for 0 or 1 as provided by a $\\sigma_z$ measurement. The measurement outcomes are -1 which implies a predicted label of 0 and 1 which implies a predicted label of 1. "
   ]
  },
  {
   "cell_type": "code",
   "execution_count": 6,
   "metadata": {},
   "outputs": [],
   "source": [
    "qc = TorchCircuit.apply \n",
    "\n",
    "class Net(nn.Module):\n",
    "    def __init__(self):\n",
    "        super(Net, self).__init__()\n",
    "        self.conv1 = nn.Conv2d(1, 10, kernel_size=5)\n",
    "        self.conv2 = nn.Conv2d(10, 20, kernel_size=5)\n",
    "        self.conv2_drop = nn.Dropout2d()\n",
    "        self.h1 = nn.Linear(320, 50)\n",
    "        self.h2 = nn.Linear(50, 1)\n",
    "\n",
    "    def forward(self, x):\n",
    "        x = F.relu(F.max_pool2d(self.conv1(x), 2))\n",
    "        x = F.relu(F.max_pool2d(self.conv2_drop(self.conv2(x)), 2))\n",
    "        x = x.view(-1, 320)\n",
    "        x = F.relu(self.h1(x))\n",
    "        x = F.dropout(x, training=self.training)\n",
    "        x = self.h2(x)\n",
    "        x = qc(x)\n",
    "        x = (x+1)/2  # Normalise the inputs to 1 or 0\n",
    "        x = torch.cat((x, 1-x), -1)\n",
    "        return x"
   ]
  },
  {
   "cell_type": "markdown",
   "metadata": {},
   "source": [
    "### Training the network\n",
    "We now have all the ingredients to train our hybrid network! We can specify any [PyTorch optimiser](https://pytorch.org/docs/stable/optim.html), [learning rate](https://en.wikipedia.org/wiki/Learning_rate) and [cost/loss function](https://en.wikipedia.org/wiki/Loss_function) in order to train over multiple epochs. In this instance, we use the [Adam optimiser](https://arxiv.org/abs/1412.6980), a learning rate of 0.001 and the [negative log-likelihood loss function](https://pytorch.org/docs/stable/_modules/torch/nn/modules/loss.html)."
   ]
  },
  {
   "cell_type": "code",
   "execution_count": 7,
   "metadata": {},
   "outputs": [
    {
     "name": "stdout",
     "output_type": "stream",
     "text": [
      "-0.6282500000000002\n",
      "-0.7656999999999999\n",
      "-0.7852499999999991\n",
      "-0.7806500000000003\n",
      "-0.7706499999999997\n",
      "-0.7907499999999998\n",
      "-0.7934999999999997\n",
      "-0.8000499999999994\n",
      "-0.8040500000000005\n",
      "-0.8073999999999997\n",
      "-0.7906999999999997\n",
      "-0.8235499999999996\n",
      "-0.8144499999999997\n",
      "-0.8119499999999998\n",
      "-0.8192499999999998\n",
      "-0.8231999999999998\n",
      "-0.8070500000000002\n",
      "-0.8279000000000003\n",
      "-0.8181\n",
      "-0.825\n",
      "-0.8253499999999998\n",
      "-0.8277500000000004\n",
      "-0.8234999999999996\n",
      "-0.8311999999999995\n",
      "-0.8251000000000002\n",
      "-0.83265\n",
      "-0.8251\n",
      "-0.8250499999999996\n",
      "-0.8258999999999997\n",
      "-0.8252000000000004\n"
     ]
    },
    {
     "data": {
      "text/plain": [
       "[<matplotlib.lines.Line2D at 0x13228e0b8>]"
      ]
     },
     "execution_count": 7,
     "metadata": {},
     "output_type": "execute_result"
    },
    {
     "data": {
      "image/png": "[encoded data removed]",
      "text/plain": [
       "<Figure size 432x288 with 1 Axes>"
      ]
     },
     "metadata": {},
     "output_type": "display_data"
    }
   ],
   "source": [
    "network = Net()\n",
    "optimizer = optim.Adam(network.parameters(), lr=0.001)\n",
    "\n",
    "epochs = 30\n",
    "loss_list = []\n",
    "for epoch in range(epochs):\n",
    "    total_loss = []\n",
    "    target_list = []\n",
    "    for batch_idx, (data, target) in enumerate(train_loader):\n",
    "        target_list.append(target.item())\n",
    "        optimizer.zero_grad()\n",
    "        output = network(data)\n",
    "        loss = F.nll_loss(output, target)\n",
    "        loss.backward()\n",
    "        optimizer.step()\n",
    "        total_loss.append(loss.item())\n",
    "    loss_list.append(sum(total_loss)/len(total_loss))\n",
    "    print(loss_list[-1])\n",
    "\n",
    "# Normalise the loss between 0 and 1\n",
    "for i in range(len(loss_list)):\n",
    "    loss_list[i] += 1\n",
    "\n",
    "# Plot the loss per epoch\n",
    "plt.plot(loss_list)"
   ]
  },
  {
   "cell_type": "markdown",
   "metadata": {},
   "source": [
    "### What now?\n",
    "While it is totally possible to create hybrid neural networks, does this actually have any benefit? In fact, the classical layers of this network train perfectly fine (if not better) without the quantum node. The point of this exercise is to get you to start thinking about integrating techniques from ML and quantum computing in order to investigate if there is indeed some element of interest - and thanks to PyTorch and Qiskit, this becomes a little bit easier. "
   ]
  },
  {
   "cell_type": "markdown",
   "metadata": {},
   "source": [
    "*Notebook author: Amira Abbas (amyami187@gmail.com)*.\n",
    "*Code contributors: Karel Dumon, Patrick Huembeli, Amira Abbas, Isaac Turtletaub, Christa Zoufal.*"
   ]
  }
 ],
 "metadata": {
  "kernelspec": {
   "display_name": "Python 3",
   "language": "python",
   "name": "python3"
  },
  "language_info": {
   "codemirror_mode": {
    "name": "ipython",
    "version": 3
   },
   "file_extension": ".py",
   "mimetype": "text/x-python",
   "name": "python",
   "nbconvert_exporter": "python",
   "pygments_lexer": "ipython3",
   "version": "3.6.5"
  }
 },
 "nbformat": 4,
 "nbformat_minor": 2
}
