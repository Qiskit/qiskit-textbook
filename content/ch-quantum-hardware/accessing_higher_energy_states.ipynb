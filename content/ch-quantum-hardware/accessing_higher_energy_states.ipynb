{
 "cells": [
  {
   "cell_type": "code",
   "execution_count": 1,
   "metadata": {},
   "outputs": [],
   "source": [
    "import numpy as np\n",
    "import matplotlib.pyplot as plt\n",
    "\n",
    "from scipy.optimize import curve_fit\n",
    "from scipy.signal import find_peaks\n",
    "\n",
    "from sklearn.discriminant_analysis import LinearDiscriminantAnalysis\n",
    "from sklearn.model_selection import train_test_split\n",
    "\n",
    "import qiskit.pulse as pulse\n",
    "import qiskit.pulse.pulse_lib as pulse_lib\n",
    "from qiskit.compiler import assemble\n",
    "from qiskit.pulse.commands import SamplePulse"
   ]
  },
  {
   "cell_type": "code",
   "execution_count": 2,
   "metadata": {},
   "outputs": [
    {
     "name": "stdout",
     "output_type": "stream",
     "text": [
      "Qubit 0 has an estimated frequency of 4.974292453469106 GHz.\n"
     ]
    }
   ],
   "source": [
    "import warnings\n",
    "warnings.filterwarnings('ignore')\n",
    "from qiskit.tools.jupyter import *\n",
    "%matplotlib inline\n",
    "\n",
    "from qiskit import IBMQ\n",
    "IBMQ.load_account()\n",
    "provider = IBMQ.get_provider(hub='ibm-q', group='open', project='main')\n",
    "backend = provider.get_backend('ibmq_armonk')\n",
    "\n",
    "backend_config = backend.configuration()\n",
    "assert backend_config.open_pulse, \"Backend doesn't support OpenPulse\"\n",
    "\n",
    "dt = backend_config.dt\n",
    "\n",
    "backend_defaults = backend.defaults()\n",
    "\n",
    "# unit conversion factors -> all backend properties returned in SI (Hz, sec, etc)\n",
    "GHz = 1.0e9 # Gigahertz\n",
    "MHz = 1.0e6 # Megahertz\n",
    "us = 1.0e-6 # Microseconds\n",
    "ns = 1.0e-9 # Nanoseconds\n",
    "\n",
    "qubit = 0 # qubit we will analyze\n",
    "freq_qubit = backend_defaults.qubit_freq_est[qubit] # Default qubit frequency in Hz. \n",
    "                                                    # warning: this will change in a future release\n",
    "print(f\"Qubit {qubit} has an estimated frequency of {freq_qubit/ GHz} GHz.\")\n",
    "\n",
    "# scale data\n",
    "scale_factor = 1e-10\n",
    "\n",
    "### Collect the necessary channels\n",
    "drive_chan = pulse.DriveChannel(qubit)"
   ]
  },
  {
   "cell_type": "code",
   "execution_count": 3,
   "metadata": {},
   "outputs": [],
   "source": [
    "def get_closest_multiple_of_16(num):\n",
    "    return (int(num) - (int(num)%16))"
   ]
  },
  {
   "cell_type": "code",
   "execution_count": 4,
   "metadata": {},
   "outputs": [],
   "source": [
    "# Drive pulse parameters (us = microseconds)\n",
    "drive_sigma_us = 0.075                     # This determines the actual width of the gaussian\n",
    "drive_samples_us = drive_sigma_us*8        # This is a truncating parameter, because gaussians don't have \n",
    "                                           # a natural finite length\n",
    "\n",
    "drive_sigma = get_closest_multiple_of_16(drive_sigma_us * us /dt)       # The width of the gaussian in units of dt\n",
    "drive_samples = get_closest_multiple_of_16(drive_samples_us * us /dt)   # The truncating parameter in units of dt\n",
    "\n",
    "# Drive pulse samples\n",
    "freq_sweep_drive_pulse = pulse_lib.gaussian(duration=drive_samples,\n",
    "                                 sigma=drive_sigma,\n",
    "                                 amp=0.3,\n",
    "                                 name='freq_sweep_excitation_pulse')"
   ]
  },
  {
   "cell_type": "code",
   "execution_count": 5,
   "metadata": {},
   "outputs": [],
   "source": [
    "# Get default measurement pulse from instruction schedule map\n",
    "inst_sched_map = backend_defaults.instruction_schedule_map\n",
    "measure = inst_sched_map.get('measure', qubits=backend_config.meas_map[0])"
   ]
  },
  {
   "cell_type": "code",
   "execution_count": 6,
   "metadata": {},
   "outputs": [],
   "source": [
    "# Calculate amplitude from complex signal\n",
    "# Takes in complex vector and returns real vector encoding the signal\n",
    "def get_amplitude(vec):\n",
    "    i_signal = np.imag(vec)\n",
    "    r_signal = np.real(vec)\n",
    "\n",
    "    mvec = [np.mean(r_signal), np.mean(i_signal)]\n",
    "\n",
    "    src_mat = np.vstack((r_signal - mvec[0], i_signal - mvec[1])).T\n",
    "    (_, _, v_mat) = np.linalg.svd(src_mat)\n",
    "\n",
    "    dvec = v_mat[0, 0:2]\n",
    "\n",
    "    if dvec.dot(mvec) < 0:\n",
    "        dvec = -dvec\n",
    "\n",
    "    return src_mat.dot(dvec)"
   ]
  },
  {
   "cell_type": "code",
   "execution_count": 7,
   "metadata": {},
   "outputs": [],
   "source": [
    "# apparently np.c_ also does this (column stack)\n",
    "def reshape_complex_vec(vec):\n",
    "    '''Take in complex vector vec and return 2d array w/ real, imag entries. This is needed for the learning.\n",
    "    Args:\n",
    "        vec (list): complex vector of data\n",
    "    Returns:\n",
    "        vec_reshaped (list): vector w/ entries given by (real(vec], imag(vec))\n",
    "    '''\n",
    "    length = len(vec)\n",
    "    vec_reshaped = np.zeros((length, 2))\n",
    "    for i in range(len(vec)):\n",
    "        vec_reshaped[i]=[np.real(vec[i]), np.imag(vec[i])]\n",
    "    return vec_reshaped"
   ]
  },
  {
   "cell_type": "code",
   "execution_count": 8,
   "metadata": {},
   "outputs": [],
   "source": [
    "NUM_SHOTS = 512\n",
    "# Returns freqs array and assembled freq_qobj\n",
    "def create_ground_freq_sweep_program(freq_step, freq_span):\n",
    "    \"\"\"\n",
    "    Builds a qobj that does a freq sweep for the 0->1 transition.\n",
    "    Args:\n",
    "        num_freq (int): number of frequencies used\n",
    "        freq_pm (float): plus/minus frequency range\n",
    "        drive_power (float) : value of drive amplitude\n",
    "        shots (int): number of shots over which to do the experiment\n",
    "    Returns:\n",
    "        freqs, freq_sweep_qobj (list, qobj): frequency list and qobj for freq sweep experiments\n",
    "    \"\"\"\n",
    "    # construct frequency list\n",
    "    freqs = freq_qubit + np.arange(-freq_span/2, freq_span/2, freq_step)\n",
    "    \n",
    "    print(f\"The sweep will go from {freqs[0] / GHz} GHz to {freqs[-1]/ GHz} GHz \\\n",
    "in steps of {freq_step / MHz} MHz.\")\n",
    "    \n",
    "    # Create the base schedule\n",
    "    schedule = pulse.Schedule(name='Frequency sweep starting from ground state.')\n",
    "    schedule += freq_sweep_drive_pulse(drive_chan)\n",
    "    schedule += measure << schedule.duration\n",
    "\n",
    "    schedule_freqs = [{drive_chan: freq} for freq in freqs]\n",
    "\n",
    "    # assemble freq sweep qobj\n",
    "    freq_sweep_program = assemble(schedule,\n",
    "                               backend=backend, \n",
    "                               meas_level=1,\n",
    "                               meas_return='avg',\n",
    "                               shots=NUM_SHOTS,\n",
    "                               schedule_los=schedule_freqs)\n",
    "    \n",
    "    return freqs, freq_sweep_program"
   ]
  },
  {
   "cell_type": "code",
   "execution_count": 9,
   "metadata": {},
   "outputs": [
    {
     "name": "stdout",
     "output_type": "stream",
     "text": [
      "The sweep will go from 4.9542924534691055 GHz to 4.993292453469106 GHz in steps of 1.0 MHz.\n"
     ]
    }
   ],
   "source": [
    "# We will sweep 40 MHz around the estimated frequency\n",
    "freq_span = 40 * MHz\n",
    "# in steps of 1 MHz.\n",
    "freq_step = 1 * MHz\n",
    "sweep_freqs, freq_sweep_program = create_ground_freq_sweep_program(freq_step, freq_span)"
   ]
  },
  {
   "cell_type": "code",
   "execution_count": 10,
   "metadata": {},
   "outputs": [],
   "source": [
    "job = backend.run(freq_sweep_program)"
   ]
  },
  {
   "cell_type": "code",
   "execution_count": 11,
   "metadata": {},
   "outputs": [
    {
     "name": "stdout",
     "output_type": "stream",
     "text": [
      "Job Status: job has successfully run\n"
     ]
    }
   ],
   "source": [
    "from qiskit.tools.monitor import job_monitor\n",
    "job_monitor(job)"
   ]
  },
  {
   "cell_type": "code",
   "execution_count": 12,
   "metadata": {},
   "outputs": [],
   "source": [
    "def get_job_data(job):\n",
    "    job_results = job.result(timeout=120) # timeout parameter set to 120 s\n",
    "    result_data = []\n",
    "    for i in range(len(job_results.results)):\n",
    "        result = job_results.get_memory(i)#*scale_factor\n",
    "        result_data.append(result[qubit])\n",
    "        \n",
    "    return result_data"
   ]
  },
  {
   "cell_type": "code",
   "execution_count": 13,
   "metadata": {},
   "outputs": [
    {
     "name": "stdout",
     "output_type": "stream",
     "text": [
      "[(-67678215602176+172321184677888j), (-58188707659776+183773765304320j), (-68094001152000+148795568422912j), (-53158529204224+189527075323904j), (-70454425419776+165941094645760j), (-72130804842496+164070216957952j), (-62451336871936+162809123962880j), (-64108732874752+178705066360832j), (-76549730598912+169669730238464j), (-73184665665536+172635841363968j), (-41046377496576+213305121570816j), (-74365437739008+168633468715008j), (-57336974540800+185258498588672j), (-56484876517376+179381121056768j), (-59695591063552+191872966328320j), (-56558486552576+195477232418816j), (-61368019451904+177787889516544j), (-20011919867904+152734640635904j), (105312203833344+185826055028736j), (383233892024320+168269403127808j), (513455119400960+177407365480448j), (372227870556160+170643328860160j), (113937831952384+172133531516928j), (-9691555954688+196803236462592j), (-70444333924352+149198422933504j), (-54258942607360+183190220177408j), (-58785980743680+143204812849152j), (-74899934674944+140304787177472j), (-57365256732672+174420802928640j), (-63024178135040+165889504706560j), (-63342240595968+172491305648128j), (-76874084515840+172015537356800j), (-72688462725120+164556085133312j), (-57690646642688+185394226266112j), (-70453888548864+168601323569152j), (-72567515774976+146095208398848j), (-44489112551424+178085752209408j), (-61688095178752+171817381658624j), (-72602974420992+184574659264512j), (-62045684760576+162427240972288j)]\n"
     ]
    }
   ],
   "source": [
    "sweep_data = get_job_data(job)\n",
    "print(sweep_data)\n",
    "#sweep_data = get_amplitude(sweep_data)"
   ]
  },
  {
   "cell_type": "code",
   "execution_count": 14,
   "metadata": {},
   "outputs": [],
   "source": [
    "def fit_function(x_values, y_values, function, init_params):\n",
    "    fitparams, conv = curve_fit(function, x_values, y_values, init_params)\n",
    "    y_fit = function(x_values, *fitparams)\n",
    "    \n",
    "    return fitparams, y_fit"
   ]
  },
  {
   "cell_type": "code",
   "execution_count": 15,
   "metadata": {},
   "outputs": [],
   "source": [
    "fit_params, y_fit = fit_function(sweep_freqs,\n",
    "                                 sweep_data, \n",
    "                                 lambda x, A, q_freq, B, C: (A / np.pi) * (B / ((x - q_freq)**2 + B**2)) + C,\n",
    "                                 [-2e10, 4.975, 1, 3e10] # initial parameters for curve_fit\n",
    "                                )"
   ]
  },
  {
   "cell_type": "code",
   "execution_count": 16,
   "metadata": {},
   "outputs": [
    {
     "data": {
      "image/png": "[encoded data removed]",
      "text/plain": [
       "<Figure size 432x288 with 1 Axes>"
      ]
     },
     "metadata": {
      "needs_background": "light"
     },
     "output_type": "display_data"
    }
   ],
   "source": [
    "plt.scatter(sweep_freqs, sweep_data, color='black')\n",
    "plt.plot(sweep_freqs, y_fit, color='red')\n",
    "plt.xlim([min(sweep_freqs), max(sweep_freqs)])\n",
    "plt.xlabel(\"Frequency [GHz]\")\n",
    "plt.ylabel(\"Measured Signal [a.u.]\")\n",
    "plt.show()"
   ]
  },
  {
   "cell_type": "code",
   "execution_count": 17,
   "metadata": {},
   "outputs": [],
   "source": [
    "### Construct the measurement pulse\n",
    "# Measurement pulse parameters\n",
    "\n",
    "meas_samples_us = 3.0\n",
    "meas_sigma_us = 0.014     # The width of the gaussian part of the rise and fall\n",
    "meas_risefall_us = 0.1    # and the truncating parameter: how many samples to dedicate to the risefall\n",
    "\n",
    "meas_samples = get_closest_multiple_of_16(meas_samples_us * 1e-6/dt)\n",
    "meas_sigma = get_closest_multiple_of_16(meas_sigma_us * 1e-6/dt)         # The width of the gaussian part of the rise and fall\n",
    "meas_risefall = get_closest_multiple_of_16(meas_risefall_us * 1e-6/dt)     # and the truncating parameter: how many samples to dedicate to the risefall\n",
    "\n",
    "# meas_samples = 12800\n",
    "# meas_sigma = 64         # The width of the gaussian part of the rise and fall\n",
    "# meas_risefall = 400     # and the truncating parameter: how many samples to dedicate to the risefall\n",
    "\n",
    "meas_amp = 0.25\n",
    "# Measurement pulse samples\n",
    "meas_pulse = pulse_lib.gaussian_square(duration=meas_samples,\n",
    "                                       sigma=meas_sigma,\n",
    "                                       amp=meas_amp,\n",
    "                                       risefall=meas_risefall,\n",
    "                                       name='measurement_pulse')\n",
    "\n",
    "### Construct the acquire pulse to trigger the acquisition\n",
    "# Acquire pulse samples\n",
    "acq_cmd = pulse.Acquire(duration=meas_samples)"
   ]
  },
  {
   "cell_type": "code",
   "execution_count": 18,
   "metadata": {},
   "outputs": [],
   "source": [
    "# Find out which group of qubits need to be acquired with this qubit\n",
    "meas_map_idx = None\n",
    "for i, measure_group in enumerate(backend_config.meas_map):\n",
    "    if qubit in measure_group:\n",
    "        meas_map_idx = i\n",
    "        break\n",
    "assert meas_map_idx is not None, f\"Couldn't find qubit {qubit} in the meas_map!\""
   ]
  },
  {
   "cell_type": "code",
   "execution_count": 19,
   "metadata": {},
   "outputs": [],
   "source": [
    "### Collect the necessary channels\n",
    "drive_chan = pulse.DriveChannel(qubit)\n",
    "meas_chan = pulse.MeasureChannel(qubit)\n",
    "acq_chan = pulse.AcquireChannel(qubit)"
   ]
  },
  {
   "cell_type": "code",
   "execution_count": 20,
   "metadata": {},
   "outputs": [
    {
     "ename": "NameError",
     "evalue": "name 'drive_pulse' is not defined",
     "output_type": "error",
     "traceback": [
      "\u001b[0;31m---------------------------------------------------------------------------\u001b[0m",
      "\u001b[0;31mNameError\u001b[0m                                 Traceback (most recent call last)",
      "\u001b[0;32m<ipython-input-20-ca9963fb3d5e>\u001b[0m in \u001b[0;36m<module>\u001b[0;34m\u001b[0m\n\u001b[1;32m      2\u001b[0m \u001b[0;31m# Start with drive pulse acting on the drive channel\u001b[0m\u001b[0;34m\u001b[0m\u001b[0;34m\u001b[0m\u001b[0;34m\u001b[0m\u001b[0m\n\u001b[1;32m      3\u001b[0m \u001b[0mschedule\u001b[0m \u001b[0;34m=\u001b[0m \u001b[0mpulse\u001b[0m\u001b[0;34m.\u001b[0m\u001b[0mSchedule\u001b[0m\u001b[0;34m(\u001b[0m\u001b[0mname\u001b[0m\u001b[0;34m=\u001b[0m\u001b[0;34m'Frequency sweep'\u001b[0m\u001b[0;34m)\u001b[0m\u001b[0;34m\u001b[0m\u001b[0;34m\u001b[0m\u001b[0m\n\u001b[0;32m----> 4\u001b[0;31m \u001b[0mschedule\u001b[0m \u001b[0;34m+=\u001b[0m \u001b[0mdrive_pulse\u001b[0m\u001b[0;34m(\u001b[0m\u001b[0mdrive_chan\u001b[0m\u001b[0;34m)\u001b[0m\u001b[0;34m\u001b[0m\u001b[0;34m\u001b[0m\u001b[0m\n\u001b[0m\u001b[1;32m      5\u001b[0m \u001b[0;34m\u001b[0m\u001b[0m\n\u001b[1;32m      6\u001b[0m \u001b[0;31m# In a new schedule, which we will use again later, add a measurement stimulus on the\u001b[0m\u001b[0;34m\u001b[0m\u001b[0;34m\u001b[0m\u001b[0;34m\u001b[0m\u001b[0m\n",
      "\u001b[0;31mNameError\u001b[0m: name 'drive_pulse' is not defined"
     ]
    }
   ],
   "source": [
    "# Create the base schedule\n",
    "# Start with drive pulse acting on the drive channel\n",
    "schedule = pulse.Schedule(name='Frequency sweep')\n",
    "schedule += drive_pulse(drive_chan)\n",
    "\n",
    "# In a new schedule, which we will use again later, add a measurement stimulus on the\n",
    "# measure channel pulse to trigger readout\n",
    "measure_schedule = meas_pulse(meas_chan)\n",
    "# Trigger data acquisition, and store measured values into respective memory slots\n",
    "measure_schedule += acq_cmd([pulse.AcquireChannel(i) for i in backend_config.meas_map[meas_map_idx]],\n",
    "                            [pulse.MemorySlot(i) for i in backend_config.meas_map[meas_map_idx]])\n",
    "# The left shift `<<` is special syntax meaning to shift the start time of the schedule by some duration\n",
    "schedule += measure_schedule << schedule.duration\n",
    "\n",
    "# Create the frequency settings for the sweep\n",
    "schedule_frequencies = [{drive_chan: freq} for freq in frequencies_GHz]"
   ]
  },
  {
   "cell_type": "code",
   "execution_count": null,
   "metadata": {},
   "outputs": [],
   "source": [
    "schedule.draw(channels_to_plot=[drive_chan, meas_chan], label=True, scaling=1.0)"
   ]
  },
  {
   "cell_type": "code",
   "execution_count": null,
   "metadata": {},
   "outputs": [],
   "source": [
    "from qiskit import assemble\n",
    "\n",
    "num_shots_per_frequency = 1024\n",
    "frequency_sweep_program = assemble(schedule,\n",
    "                                   backend=backend, \n",
    "                                   meas_level=1,\n",
    "                                   meas_return='avg',\n",
    "                                   shots=num_shots_per_frequency,\n",
    "                                   schedule_los=schedule_frequencies)"
   ]
  },
  {
   "cell_type": "code",
   "execution_count": null,
   "metadata": {},
   "outputs": [],
   "source": [
    "job = backend.run(frequency_sweep_program)"
   ]
  },
  {
   "cell_type": "code",
   "execution_count": null,
   "metadata": {},
   "outputs": [],
   "source": [
    "# print(job.job_id())\n",
    "from qiskit.tools.monitor import job_monitor\n",
    "job_monitor(job)"
   ]
  },
  {
   "cell_type": "code",
   "execution_count": null,
   "metadata": {},
   "outputs": [],
   "source": [
    "frequency_sweep_results = job.result(timeout=120) # timeout parameter set to 120 seconds"
   ]
  },
  {
   "cell_type": "code",
   "execution_count": null,
   "metadata": {},
   "outputs": [],
   "source": []
  }
 ],
 "metadata": {
  "kernelspec": {
   "display_name": "Python 3",
   "language": "python",
   "name": "python3"
  },
  "language_info": {
   "codemirror_mode": {
    "name": "ipython",
    "version": 3
   },
   "file_extension": ".py",
   "mimetype": "text/x-python",
   "name": "python",
   "nbconvert_exporter": "python",
   "pygments_lexer": "ipython3",
   "version": "3.7.3"
  }
 },
 "nbformat": 4,
 "nbformat_minor": 2
}
