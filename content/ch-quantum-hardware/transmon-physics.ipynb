{
 "cells": [
  {
   "cell_type": "markdown",
   "metadata": {},
   "source": [
    "# Intro\n",
    "\n",
    "Qubits are fundamentally about the physics of two-level systems. One such example of a purely two-level system is the spin of an electron (or any other spin-$1/2$ particle): it can either point up or down, and we label these states $|0\\rangle$ and $|1\\rangle$, respectively. Historically, the reason the $|0\\rangle$ state is at the \"north pole\" of the Bloch sphere is that this is the lower-energy state when a magnetic field is applied in the $+\\hat{z}$ direction.\n",
    "\n",
    "Another such two-level system occurs in the first type of superconducting qubit discovered: the [Cooper Pair Box](https://arxiv.org/pdf/cond-mat/9904003v1.pdf). The reason there is no electrical resistance in superconductors is because the electrons pair up as Cooper pairs, which take a finite amount of energy to break up (and is not available thermally at low temperatures), because they are effectively attracted to each other. This situation is quite counterintuitive, because electrons are both negatively-charged, they should repel each other! However, in many material systems effective interactions can be mediated by collective effects: think of the electrons as being attracted to the wake of other electrons. The Cooper Pair Box consists of a superconducting island that possesses an extra Cooper pair of charge $2e$ ($|0\\rangle$) or does not ($|1\\rangle$). These states can be manipulated by voltages on tunnel junctions, and is indeed periodic with \"gate\" voltage control, so it is indeed a two-level system. \n",
    "\n",
    "As you might expect, qubit states encoded in charge states are going to be particularly sensitive to *charge noise*, and this is true of the Cooper Pair Box. What about using other types of quantum systems? Many other quantum systems are not two-level systems, such as atoms that each feature many spectral lines that are used by astonomers to determine the composition of our universe. If you could effectively isolate and control just two levels, such as the ground and first excited state of the atom, then you could treat it as a qubit. The solution to the charge noise problem turned out designing a qubit with higher-order energy levels: the [transmon](https://arxiv.org/pdf/cond-mat/0703002.pdf). (The name is derived from *transmission-line shunted plasma oscillation* qubit, which no one ever remembers). By sacrificing anharmonicity (the difference between the $|0\\rangle \\to |1\\rangle$ and $|1\\rangle \\to |2\\rangle$ transition frequencies), charge noise is suppressed while still allowing the lowest two levels to be addressed as a qubit. Now the quantum states are encoded in oscillations of Cooper Pairs across a tunnel junction between two superconducting islands, with the excited $|1\\rangle$ state oscillating at a high frequency than the ground $|0\\rangle$."
   ]
  },
  {
   "cell_type": "code",
   "execution_count": null,
   "metadata": {},
   "outputs": [],
   "source": []
  }
 ],
 "metadata": {
  "kernelspec": {
   "display_name": "Python 3",
   "language": "python",
   "name": "python3"
  },
  "language_info": {
   "codemirror_mode": {
    "name": "ipython",
    "version": 3
   },
   "file_extension": ".py",
   "mimetype": "text/x-python",
   "name": "python",
   "nbconvert_exporter": "python",
   "pygments_lexer": "ipython3",
   "version": "3.8.2"
  }
 },
 "nbformat": 4,
 "nbformat_minor": 4
}
