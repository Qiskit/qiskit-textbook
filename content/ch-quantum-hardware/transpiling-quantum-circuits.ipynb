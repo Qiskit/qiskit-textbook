{
 "cells": [
  {
   "cell_type": "markdown",
   "metadata": {
    "ExecuteTime": {
     "end_time": "2019-07-16T15:49:49.128196Z",
     "start_time": "2019-07-16T15:49:49.125750Z"
    }
   },
   "source": [
    "# Transpiling Quantum Circuits"
   ]
  },
  {
   "cell_type": "markdown",
   "metadata": {},
   "source": [
    "In this chapter we will investigate how quantum circuits are transformed when run on quantum devices.  That we need to modify the circuits at all is a consequence of the limitations of current quantum computing hardware.  Namely, the limited connectivity inherent in most quantum hardware, restricted gate sets, as well as environmental noise and gate errors, all conspire to limit the effective computational power on today's quantum devices.  Fortunately, quantum circuit rewriting tool chains have been developed that directly address these issues, and return heavily optimized circuits mapped to targeted quantum devices.  Here we will explore the IBM Qiskit 'transpiler' circuit rewriting framework."
   ]
  },
  {
   "cell_type": "code",
   "execution_count": 1,
   "metadata": {
    "ExecuteTime": {
     "end_time": "2019-07-16T17:54:52.251525Z",
     "start_time": "2019-07-16T17:54:52.247658Z"
    }
   },
   "outputs": [],
   "source": [
    "import numpy as np\n",
    "from qiskit import *\n",
    "from qiskit.tools.jupyter import *\n",
    "from qiskit.providers.ibmq import least_busy\n",
    "%matplotlib inline"
   ]
  },
  {
   "cell_type": "code",
   "execution_count": 2,
   "metadata": {},
   "outputs": [
    {
     "data": {
      "text/plain": [
       "<AccountProvider for IBMQ(hub='ibm-q', group='open', project='main')>"
      ]
     },
     "execution_count": 2,
     "metadata": {},
     "output_type": "execute_result"
    }
   ],
   "source": [
    "IBMQ.load_account()"
   ]
  },
  {
   "cell_type": "markdown",
   "metadata": {},
   "source": [
    "## Core Steps in Circuit Rewriting"
   ]
  },
  {
   "cell_type": "markdown",
   "metadata": {},
   "source": [
    "As we will see, rewriting quantum circuits to match hardware constraints and optimize for performance can be far from trivial.  The flow of logic in the rewriting tool chain need not be linear, and can often have iterative sub-loops, conditional branches, and other complex behaviors.  That being said, the basic building blocks follow the structure given below."
   ]
  },
  {
   "cell_type": "markdown",
   "metadata": {},
   "source": [
    "<img src=\"images/transpiling_core_steps.png\" style=\"width=auto;\"/>"
   ]
  },
  {
   "cell_type": "markdown",
   "metadata": {},
   "source": [
    "Our goal in this section is to see what each of these \"passes\" does at a high-level, and then begin exploring their usage on a set of common circuits."
   ]
  },
  {
   "cell_type": "markdown",
   "metadata": {},
   "source": [
    "### Unrolling to Basis Gates"
   ]
  },
  {
   "cell_type": "markdown",
   "metadata": {},
   "source": [
    "When writing a quantum circuit you are free to use any quantum gate (unitary operator) that you like, along with a collection of non-gate operations such as qubit measurements and reset operations.  However, when running a circuit on a real quantum device one no longer has this flexibility.  Due to limitations in, for example, the physical interactions between qubits, difficulty in implementing multi-qubit gates, control electronics etc, a quantum computing device can only natively support a handful of quantum gates and non-gate operations. In the present case of IBM Q devices, the native gate set can be found by querying the devices themselves:"
   ]
  },
  {
   "cell_type": "code",
   "execution_count": 3,
   "metadata": {
    "ExecuteTime": {
     "end_time": "2019-07-16T17:20:59.864706Z",
     "start_time": "2019-07-16T17:20:59.861248Z"
    }
   },
   "outputs": [
    {
     "data": {
      "text/plain": [
       "[<IBMQBackend('ibmqx2') from IBMQ(hub='ibm-q', group='open', project='main')>,\n",
       " <IBMQBackend('ibmq_16_melbourne') from IBMQ(hub='ibm-q', group='open', project='main')>,\n",
       " <IBMQBackend('ibmq_vigo') from IBMQ(hub='ibm-q', group='open', project='main')>,\n",
       " <IBMQBackend('ibmq_ourense') from IBMQ(hub='ibm-q', group='open', project='main')>,\n",
       " <IBMQBackend('ibmq_london') from IBMQ(hub='ibm-q', group='open', project='main')>,\n",
       " <IBMQBackend('ibmq_burlington') from IBMQ(hub='ibm-q', group='open', project='main')>,\n",
       " <IBMQBackend('ibmq_essex') from IBMQ(hub='ibm-q', group='open', project='main')>,\n",
       " <IBMQBackend('ibmq_armonk') from IBMQ(hub='ibm-q', group='open', project='main')>]"
      ]
     },
     "execution_count": 3,
     "metadata": {},
     "output_type": "execute_result"
    }
   ],
   "source": [
    "provider = IBMQ.get_provider(group='open')\n",
    "provider.backends(simulator=False)"
   ]
  },
  {
   "cell_type": "code",
   "execution_count": 4,
   "metadata": {
    "ExecuteTime": {
     "end_time": "2019-07-16T17:21:19.477209Z",
     "start_time": "2019-07-16T17:21:19.471761Z"
    }
   },
   "outputs": [
    {
     "data": {
      "text/plain": [
       "['id', 'u1', 'u2', 'u3', 'cx']"
      ]
     },
     "execution_count": 4,
     "metadata": {},
     "output_type": "execute_result"
    }
   ],
   "source": [
    "backend = least_busy(provider.backends(filters=lambda x: x.configuration().n_qubits >= 5 and not x.configuration().simulator and x.status().operational==True))\n",
    "backend.configuration().basis_gates"
   ]
  },
  {
   "cell_type": "markdown",
   "metadata": {
    "ExecuteTime": {
     "end_time": "2019-07-16T17:21:52.409358Z",
     "start_time": "2019-07-16T17:21:52.405613Z"
    }
   },
   "source": [
    "We see that the our device supports five native gates: three single-qubit gates (`u1`, `u2`, `u3`, and `id`) and one two-qubit entangling gate `cx`.  In addition, the device supports qubit measurements (otherwise we can not read out an answer!).  Although we have queried only a single device, all IBM Q devices support this gate set.\n",
    "\n",
    "The `u*` gates represent arbitrary single-qubit rotations of one, two, and three angles.  The `u1` gates are single-parameter rotations that represent generalized phase gates of the form\n",
    "\n",
    "$$\n",
    "U_{1}(\\lambda) = \\begin{bmatrix}\n",
    "1 & 0 \\\\\n",
    "0 & e^{i\\lambda}\n",
    "\\end{bmatrix}\n",
    "$$\n",
    "\n",
    "This set includes common gates such as $Z$, $T$, $T^{\\dagger}$, $S$, and $S^{\\dagger}$.  It turns out that these gates do not actually need to be performed on hardware, but instead, can be implemented in software as \"virtual gates\".  These virtual gates are called \"frame changes\" and take zero time, and have no associated error; they are free gates on hardware.\n",
    "\n",
    "Two-angle rotations, $U_{2}(\\phi,\\lambda)$, are actually two frame changes with a single $X_{\\pi/2}$ gate in between them, and can be used to synthesize gates like the Hadamard ($U_{2}(0,\\pi)$) gate.  As the only actual gate performed is the $X_{\\pi/2}$ gate, the error and gate time associated with any $U_{2}$ gate is the same as an $X_{\\pi/2}$ gate.  Similarly, $U_{3}(\\theta,\\phi,\\lambda)$ gates are formed from three frame changes with two $X_{\\pi/2}$ gates in between them.  The errors and gate times are twice those of a single $X_{\\pi/2}$.  The identity gate, $id$, is straightforward, and is a placeholder gate with a fixed time-interval. \n",
    "\n",
    "The only entangling gate supported by the IBM Q devices is the CNOT gate (`cx`) that, in the computational basis, can be written as:\n",
    "\n",
    "$$\n",
    "\\mathrm{CNOT}(0,1) = \\begin{bmatrix}\n",
    "1 & 0 & 0 & 0 \\\\\n",
    "0 & 0 & 0 & 1 \\\\\n",
    "0 & 0 & 1 & 0 \\\\\n",
    "0 & 1 & 0 & 0\n",
    "\\end{bmatrix}\n",
    "$$,\n",
    "\n",
    "where we see that the matrix form follows from the specific bit-ordering convention used in Qiskit."
   ]
  },
  {
   "cell_type": "markdown",
   "metadata": {},
   "source": [
    "Every quantum circuit run on a IBM Q device must be expressed using only these basis gates.  For example, suppose one wants to run a simple phase estimation circuit:"
   ]
  },
  {
   "cell_type": "code",
   "execution_count": 5,
   "metadata": {
    "ExecuteTime": {
     "end_time": "2019-07-16T18:08:24.012244Z",
     "start_time": "2019-07-16T18:08:23.834412Z"
    }
   },
   "outputs": [
    {
     "data": {
      "image/png": "[encoded data removed]",
      "text/plain": [
       "<Figure size 397.32x204.68 with 1 Axes>"
      ]
     },
     "execution_count": 5,
     "metadata": {},
     "output_type": "execute_result"
    }
   ],
   "source": [
    "qr = QuantumRegister(2, 'q')\n",
    "cr = ClassicalRegister(1, 'c')\n",
    "qc = QuantumCircuit(qr, cr)\n",
    "\n",
    "qc.h(qr[0])\n",
    "qc.x(qr[1])\n",
    "qc.cu1(np.pi/4, qr[0], qr[1])\n",
    "qc.h(qr[0])\n",
    "qc.measure(qr[0], cr[0])\n",
    "qc.draw(output='mpl')"
   ]
  },
  {
   "cell_type": "markdown",
   "metadata": {},
   "source": [
    "We have $H$, $X$, and controlled-$U_{1}$ gates, all of which are not in our devices basis gate set, and must be expanded.  We will see that this expansion is taken care of for you, but for now let us just rewrite the circuit in the basis gate set:"
   ]
  },
  {
   "cell_type": "code",
   "execution_count": 6,
   "metadata": {
    "ExecuteTime": {
     "end_time": "2019-07-16T18:39:07.353160Z",
     "start_time": "2019-07-16T18:39:07.130830Z"
    }
   },
   "outputs": [
    {
     "data": {
      "image/png": "[encoded data removed]",
      "text/plain": [
       "<Figure size 698.32x204.68 with 1 Axes>"
      ]
     },
     "execution_count": 6,
     "metadata": {},
     "output_type": "execute_result"
    }
   ],
   "source": [
    "qr = QuantumRegister(2, 'q')\n",
    "cr = ClassicalRegister(1, 'c')\n",
    "qc_basis = QuantumCircuit(qr, cr)\n",
    "\n",
    "# Hadamard in U2 format\n",
    "qc_basis.u2(0, np.pi, qr[0])\n",
    "# X gate in U3 format\n",
    "qc_basis.u3(np.pi, 0, np.pi, qr[1])\n",
    "\n",
    "# Decomposition for controlled-U1 with lambda=pi/4\n",
    "qc_basis.u1(np.pi/8, qr[0]) \n",
    "qc_basis.cx(qr[0], qr[1]) \n",
    "qc_basis.u1(-np.pi/8, qr[1]) \n",
    "qc_basis.cx(qr[0], qr[1])\n",
    "qc_basis.u1(np.pi/8, qr[1])\n",
    "\n",
    "# Hadamard in U2 format\n",
    "qc_basis.u2(0, np.pi, qr[0]) \n",
    "\n",
    "qc_basis.measure(qr[0], cr[0])\n",
    "qc_basis.draw(output='mpl')"
   ]
  },
  {
   "cell_type": "markdown",
   "metadata": {},
   "source": [
    "A few things to highlight.  One, the circuit has gotten longer with respect to the initial one.  This can be verified by checking the depth of the circuits:"
   ]
  },
  {
   "cell_type": "code",
   "execution_count": 7,
   "metadata": {
    "ExecuteTime": {
     "end_time": "2019-07-16T18:09:31.690359Z",
     "start_time": "2019-07-16T18:09:31.685832Z"
    }
   },
   "outputs": [
    {
     "name": "stdout",
     "output_type": "stream",
     "text": [
      "4 , 7\n"
     ]
    }
   ],
   "source": [
    "print(qc.depth(), ',', qc_basis.depth())"
   ]
  },
  {
   "cell_type": "markdown",
   "metadata": {},
   "source": [
    "Second, although we had a single controlled gate, the fact that it was not in the basis set means that, when expanded, it requires more than a single `cx` gate to implement. All said, unrolling to the basis set of gates leads to an increase in the length of a quantum circuit and the number of gates.  Both of these increases lead to more errors from the environment and gate errors, respectively, and further circuit rewriting steps must try to mitigate this effect through circuit optimizations."
   ]
  },
  {
   "cell_type": "markdown",
   "metadata": {},
   "source": [
    "Finally, we will look at the particularly important example of a Toffoli, or controlled-controlled-not gate:"
   ]
  },
  {
   "cell_type": "code",
   "execution_count": 8,
   "metadata": {
    "ExecuteTime": {
     "end_time": "2019-07-16T18:22:00.558019Z",
     "start_time": "2019-07-16T18:22:00.400606Z"
    }
   },
   "outputs": [
    {
     "data": {
      "image/png": "[encoded data removed]",
      "text/plain": [
       "<Figure size 216.72x204.68 with 1 Axes>"
      ]
     },
     "execution_count": 8,
     "metadata": {},
     "output_type": "execute_result"
    }
   ],
   "source": [
    "qr = QuantumRegister(3, 'q')\n",
    "qc = QuantumCircuit(qr)\n",
    "\n",
    "qc.ccx(qr[0], qr[1], qr[2])\n",
    "qc.draw(output='mpl')"
   ]
  },
  {
   "cell_type": "markdown",
   "metadata": {},
   "source": [
    "As a three-qubit gate, it should already be clear that this is not in the basis set of our devices.  We have already seen that controlled gates not in the basis set are typically decomposed into multiple CNOT gates.  This is doubly true for controlled gates with more than two qubits, where multiple CNOT gates are needed to implement the entangling across the multiple qubits.  In our basis set, the Toffoli gate can be written as:"
   ]
  },
  {
   "cell_type": "code",
   "execution_count": 9,
   "metadata": {
    "ExecuteTime": {
     "end_time": "2019-07-16T18:40:07.866923Z",
     "start_time": "2019-07-16T18:40:07.598417Z"
    }
   },
   "outputs": [
    {
     "data": {
      "image/png": "[encoded data removed]",
      "text/plain": [
       "<Figure size 939.12x204.68 with 1 Axes>"
      ]
     },
     "execution_count": 9,
     "metadata": {},
     "output_type": "execute_result"
    }
   ],
   "source": [
    "qr = QuantumRegister(3, 'q')\n",
    "qc_basis = QuantumCircuit(qr)\n",
    "\n",
    "qc_basis.u2(0,np.pi, qr[2])\n",
    "qc_basis.cx(qr[1], qr[2])\n",
    "qc_basis.u1(-np.pi/4, qr[2])\n",
    "qc_basis.cx(qr[0], qr[2])\n",
    "qc_basis.u1(np.pi/4, qr[2])\n",
    "qc_basis.cx(qr[1], qr[2])\n",
    "qc_basis.u1(np.pi/4, qr[1])\n",
    "qc_basis.u1(-np.pi/4, qr[2])\n",
    "qc_basis.cx(qr[0], qr[2])\n",
    "qc_basis.cx(qr[0], qr[1])\n",
    "qc_basis.u1(np.pi/4, qr[2])\n",
    "qc_basis.u1(np.pi/4, qr[0])\n",
    "qc_basis.u1(-np.pi/4, qr[1])\n",
    "qc_basis.u2(0,np.pi, qr[2])\n",
    "qc_basis.cx(qr[0], qr[1])\n",
    "qc_basis.draw(output='mpl')"
   ]
  },
  {
   "cell_type": "markdown",
   "metadata": {},
   "source": [
    "Therefore, for every Toffoli gate in a quantum circuit, the IBM Q hardware must execute six CNOT gates, and a handful of single-qubit gates.  From this example, it should be clear that any algorithm that makes use of multiple Toffoli gates will end up as a circuit with large depth and with therefore be appreciably affected by noise and gate errors."
   ]
  },
  {
   "cell_type": "markdown",
   "metadata": {},
   "source": [
    "### Initial Layout"
   ]
  },
  {
   "cell_type": "code",
   "execution_count": 10,
   "metadata": {
    "ExecuteTime": {
     "end_time": "2019-07-16T19:29:22.653101Z",
     "start_time": "2019-07-16T19:29:22.362485Z"
    }
   },
   "outputs": [
    {
     "data": {
      "image/png": "[encoded data removed]",
      "text/plain": [
       "<Figure size 457.52x385.28 with 1 Axes>"
      ]
     },
     "execution_count": 10,
     "metadata": {},
     "output_type": "execute_result"
    }
   ],
   "source": [
    "qr = QuantumRegister(5, 'q')\n",
    "cr = ClassicalRegister(5, 'c')\n",
    "qc = QuantumCircuit(qr, cr)\n",
    "\n",
    "qc.h(qr[0])\n",
    "qc.cx(qr[0], qr[4])\n",
    "qc.cx(qr[4], qr[3])\n",
    "qc.cx(qr[3], qr[1])\n",
    "qc.cx(qr[1], qr[2])\n",
    "\n",
    "qc.draw(output='mpl')"
   ]
  },
  {
   "cell_type": "code",
   "execution_count": 11,
   "metadata": {
    "ExecuteTime": {
     "end_time": "2019-07-16T16:31:21.089108Z",
     "start_time": "2019-07-16T16:31:21.013574Z"
    },
    "scrolled": false
   },
   "outputs": [
    {
     "data": {
      "image/png": "[encoded data removed]",
      "text/plain": [
       "<Figure size 648x216 with 1 Axes>"
      ]
     },
     "execution_count": 11,
     "metadata": {},
     "output_type": "execute_result"
    }
   ],
   "source": [
    "from qiskit.visualization.gate_map import plot_gate_map\n",
    "plot_gate_map(backend, plot_directed=True)"
   ]
  }
 ],
 "metadata": {
  "kernelspec": {
   "display_name": "Python 3",
   "language": "python",
   "name": "python3"
  },
  "language_info": {
   "codemirror_mode": {
    "name": "ipython",
    "version": 3
   },
   "file_extension": ".py",
   "mimetype": "text/x-python",
   "name": "python",
   "nbconvert_exporter": "python",
   "pygments_lexer": "ipython3",
   "version": "3.7.4"
  },
  "varInspector": {
   "cols": {
    "lenName": 16,
    "lenType": 16,
    "lenVar": 40
   },
   "kernels_config": {
    "python": {
     "delete_cmd_postfix": "",
     "delete_cmd_prefix": "del ",
     "library": "var_list.py",
     "varRefreshCmd": "print(var_dic_list())"
    },
    "r": {
     "delete_cmd_postfix": ") ",
     "delete_cmd_prefix": "rm(",
     "library": "var_list.r",
     "varRefreshCmd": "cat(var_dic_list()) "
    }
   },
   "types_to_exclude": [
    "module",
    "function",
    "builtin_function_or_method",
    "instance",
    "_Feature"
   ],
   "window_display": false
  }
 },
 "nbformat": 4,
 "nbformat_minor": 2
}
