{
 "cells": [
  {
   "cell_type": "markdown",
   "metadata": {
    "tags": [
     "remove_cell"
    ]
   },
   "source": [
    "# Randomized Benchmarking"
   ]
  },
  {
   "cell_type": "markdown",
   "metadata": {},
   "source": [
    "## Introduction\n",
    "\n",
    "One of the main challenges in building a quantum information processor is the non-scalability of completely\n",
    "characterizing the noise affecting a quantum system via process tomography. In addition, process tomography is sensitive to noise in the pre- and post rotation gates plus the measurements (SPAM errors). Gateset tomography can take these errors into account, but the scaling is even worse.  A complete characterization\n",
    "of the noise is useful because it allows for  the determination of good error-correction schemes, and thus\n",
    "the possibility of reliable transmission of quantum information.\n",
    "\n",
    "Since complete process tomography is infeasible for large systems, there is growing interest in scalable\n",
    "methods for partially characterizing the noise affecting a quantum system. A scalable (in the number $n$ of qubits comprising the system) and robust algorithm for benchmarking the full set of Clifford gates by a single parameter using randomization techniques was presented in [1]. The concept of using randomization methods for benchmarking quantum gates is commonly called **Randomized Benchmarking\n",
    "(RB)**.\n",
    "\n",
    "\n",
    "### References\n",
    "\n",
    "1. Easwar Magesan, J. M. Gambetta, and Joseph Emerson, *Robust randomized benchmarking of quantum processes*,\n",
    "https://arxiv.org/pdf/1009.3639\n",
    "\n",
    "2. Easwar Magesan, Jay M. Gambetta, and Joseph Emerson, *Characterizing Quantum Gates via Randomized Benchmarking*,\n",
    "https://arxiv.org/pdf/1109.6887\n",
    "\n",
    "3. A. D. C'orcoles, Jay M. Gambetta, Jerry M. Chow, John A. Smolin, Matthew Ware, J. D. Strand, B. L. T. Plourde, and M. Steffen, *Process verification of two-qubit quantum gates by randomized benchmarking*, https://arxiv.org/pdf/1210.7011\n",
    "\n",
    "4. Jay M. Gambetta, A. D. C´orcoles, S. T. Merkel, B. R. Johnson, John A. Smolin, Jerry M. Chow,\n",
    "Colm A. Ryan, Chad Rigetti, S. Poletto, Thomas A. Ohki, Mark B. Ketchen, and M. Steffen,\n",
    "*Characterization of addressability by simultaneous randomized benchmarking*, https://arxiv.org/pdf/1204.6308\n",
    "\n",
    "5. David C. McKay, Sarah Sheldon, John A. Smolin, Jerry M. Chow, and Jay M. Gambetta, *Three Qubit Randomized Benchmarking*, https://arxiv.org/pdf/1712.06550"
   ]
  },
  {
   "cell_type": "markdown",
   "metadata": {},
   "source": [
    "## The Randomized Benchmarking Protocol\n",
    "\n",
    "A RB protocol (see [1,2]) consists of the following steps:\n",
    "\n",
    "(We should first import the relevant qiskit classes for the demonstration)."
   ]
  },
  {
   "cell_type": "code",
   "execution_count": 1,
   "metadata": {},
   "outputs": [],
   "source": [
    "#Import general libraries (needed for functions)\n",
    "import numpy as np\n",
    "import matplotlib.pyplot as plt\n",
    "from IPython import display\n",
    "\n",
    "#Import the RB Functions\n",
    "import qiskit.ignis.verification.randomized_benchmarking as rb\n",
    "\n",
    "#Import Qiskit classes \n",
    "import qiskit\n",
    "from qiskit.providers.aer.noise import NoiseModel\n",
    "from qiskit.providers.aer.noise.errors.standard_errors import depolarizing_error, thermal_relaxation_error"
   ]
  },
  {
   "cell_type": "markdown",
   "metadata": {},
   "source": [
    "### Step 1: Generate RB sequences\n",
    "\n",
    "The RB sequences consist of random Clifford elements chosen uniformly from the Clifford group on $n$-qubits, \n",
    "including a computed reversal element,\n",
    "that should return the qubits to the initial state.\n",
    "\n",
    "More precisely, for each length $m$, we choose $K_m$ RB sequences. \n",
    "Each such sequence contains $m$ random elements $C_{i_j}$ chosen uniformly from the Clifford group on $n$-qubits, and the $m+1$ element is defined as follows: $C_{i_{m+1}} = (C_{i_1}\\cdot ... \\cdot C_{i_m})^{-1}$. It can be found efficiently by the Gottesmann-Knill theorem.\n",
    "\n",
    "For example, we generate below several sequences of 2-qubit Clifford circuits."
   ]
  },
  {
   "cell_type": "code",
   "execution_count": 2,
   "metadata": {},
   "outputs": [],
   "source": [
    "#Generate RB circuits (2Q RB)\n",
    "\n",
    "#number of qubits\n",
    "nQ=2 \n",
    "rb_opts = {}\n",
    "#Number of Cliffords in the sequence\n",
    "rb_opts['length_vector'] = [1, 10, 20, 50, 75, 100, 125, 150, 175, 200]\n",
    "#Number of seeds (random sequences)\n",
    "rb_opts['nseeds'] = 5\n",
    "#Default pattern\n",
    "rb_opts['rb_pattern'] = [[0, 1]]\n",
    "\n",
    "rb_circs, xdata = rb.randomized_benchmarking_seq(**rb_opts)"
   ]
  },
  {
   "cell_type": "markdown",
   "metadata": {},
   "source": [
    "As an example, we print the circuit corresponding to the first RB sequence"
   ]
  },
  {
   "cell_type": "code",
   "execution_count": 3,
   "metadata": {},
   "outputs": [
    {
     "name": "stdout",
     "output_type": "stream",
     "text": [
      "      ┌─────┐┌───┐          ┌───┐┌───┐ ░ ┌───┐┌───┐      ┌───┐ ┌───┐     ┌─┐   \n",
      "qr_0: ┤ Sdg ├┤ H ├───────■──┤ X ├┤ Z ├─░─┤ Z ├┤ X ├──■───┤ H ├─┤ S ├─────┤M├───\n",
      "      └┬───┬┘├───┤┌───┐┌─┴─┐└─┬─┘├───┤ ░ ├───┤└─┬─┘┌─┴─┐┌┴───┴┐├───┤┌───┐└╥┘┌─┐\n",
      "qr_1: ─┤ H ├─┤ H ├┤ S ├┤ X ├──■──┤ X ├─░─┤ X ├──■──┤ X ├┤ Sdg ├┤ H ├┤ H ├─╫─┤M├\n",
      "       └───┘ └───┘└───┘└───┘     └───┘ ░ └───┘     └───┘└─────┘└───┘└───┘ ║ └╥┘\n",
      "cr_0: ════════════════════════════════════════════════════════════════════╩══╬═\n",
      "                                                                             ║ \n",
      "cr_1: ═══════════════════════════════════════════════════════════════════════╩═\n",
      "                                                                               \n"
     ]
    }
   ],
   "source": [
    "print(rb_circs[0][0])"
   ]
  },
  {
   "cell_type": "markdown",
   "metadata": {},
   "source": [
    "One can verify that the Unitary representing each RB circuit should be the identity (with a global phase). \n",
    "We simulate this using Aer unitary simulator."
   ]
  },
  {
   "cell_type": "code",
   "execution_count": 4,
   "metadata": {},
   "outputs": [],
   "source": [
    "# Create a new circuit without the measurement\n",
    "qregs = rb_circs[0][-1].qregs\n",
    "cregs = rb_circs[0][-1].cregs\n",
    "qc = qiskit.QuantumCircuit(*qregs, *cregs)\n",
    "for i in rb_circs[0][-1][0:-nQ]:\n",
    "    qc.data.append(i)"
   ]
  },
  {
   "cell_type": "code",
   "execution_count": 5,
   "metadata": {},
   "outputs": [
    {
     "name": "stdout",
     "output_type": "stream",
     "text": [
      "[[-0.-1.j -0.+0.j -0.+0.j  0.+0.j]\n",
      " [-0.-0.j -0.-1.j  0.-0.j  0.-0.j]\n",
      " [-0.-0.j  0.+0.j -0.-1.j  0.+0.j]\n",
      " [ 0.-0.j -0.+0.j  0.-0.j -0.-1.j]]\n"
     ]
    }
   ],
   "source": [
    "# The Unitary is an identity (with a global phase)\n",
    "backend = qiskit.Aer.get_backend('unitary_simulator')\n",
    "basis_gates = ['u1','u2','u3','cx'] # use U,CX for now\n",
    "job = qiskit.execute(qc, backend=backend, basis_gates=basis_gates)\n",
    "print(np.around(job.result().get_unitary(),3))"
   ]
  },
  {
   "cell_type": "markdown",
   "metadata": {},
   "source": [
    "### Step 2: Execute the RB sequences (with some noise)\n",
    "\n",
    "We can execute the RB sequences either using Qiskit Aer Simulator (with some noise model) or using IBMQ provider, and obtain a list of results.\n",
    "\n",
    "By assumption each operation $C_{i_j}$ is allowed to have some error, represented by $\\Lambda_{i_j,j}$, and each sequence can be modeled by the operation:\n",
    "\n",
    "\n",
    "$$\\textit{S}_{\\textbf{i}_\\textbf{m}} = \\bigcirc_{j=1}^{m+1} (\\Lambda_{i_j,j} \\circ C_{i_j})$$\n",
    "\n",
    "\n",
    "where ${\\textbf{i}_\\textbf{m}} = (i_1,...,i_m)$ and $i_{m+1}$ is uniquely determined by ${\\textbf{i}_\\textbf{m}}$."
   ]
  },
  {
   "cell_type": "code",
   "execution_count": 6,
   "metadata": {},
   "outputs": [],
   "source": [
    "# Run on a noisy simulator\n",
    "noise_model = NoiseModel()\n",
    "\n",
    "# Depolarizing error on the gates u2, u3 and cx (assuming the u1 is virtual-Z gate and no error)\n",
    "p1Q = 0.002\n",
    "p2Q = 0.01\n",
    "\n",
    "noise_model.add_all_qubit_quantum_error(depolarizing_error(p1Q, 1), 'u2')\n",
    "noise_model.add_all_qubit_quantum_error(depolarizing_error(2 * p1Q, 1), 'u3')\n",
    "noise_model.add_all_qubit_quantum_error(depolarizing_error(p2Q, 2), 'cx')\n",
    "\n",
    "backend = qiskit.Aer.get_backend('qasm_simulator')"
   ]
  },
  {
   "cell_type": "markdown",
   "metadata": {},
   "source": [
    "### Step 3: Get statistics about the survival probabilities\n",
    "\n",
    "For each of the $K_m$ sequences the survival probability $Tr[E_\\psi \\textit{S}_{\\textbf{i}_\\textbf{m}}(\\rho_\\psi)]$\n",
    "is measured. \n",
    "Here $\\rho_\\psi$ is the initial state taking into account preparation errors and $E_\\psi$ is the\n",
    "POVM element that takes into account measurement errors.\n",
    "In the ideal (noise-free) case $\\rho_\\psi = E_\\psi = | \\psi {\\rangle} {\\langle} \\psi |$. \n",
    "\n",
    "In practice one can measure the probability to go back to the exact initial state, i.e. all the qubits in the ground state $ {|} 00...0 {\\rangle}$ or just the probability for one of the qubits to return back to the ground state. Measuring the qubits independently can be more convenient if a correlated measurement scheme is not possible. Both measurements will fit to the same decay parameter according to the properties of the *twirl*. "
   ]
  },
  {
   "cell_type": "markdown",
   "metadata": {},
   "source": [
    "### Step 4: Find the averaged sequence fidelity\n",
    "\n",
    "Average over the $K_m$ random realizations of the sequence to find the averaged sequence **fidelity**,\n",
    "\n",
    "\n",
    "$$F_{seq}(m,|\\psi{\\rangle}) = Tr[E_\\psi \\textit{S}_{K_m}(\\rho_\\psi)]$$\n",
    "\n",
    "\n",
    "where \n",
    "\n",
    "\n",
    "$$\\textit{S}_{K_m} = \\frac{1}{K_m} \\sum_{\\textbf{i}_\\textbf{m}} \\textit{S}_{\\textbf{i}_\\textbf{m}}$$\n",
    "\n",
    "\n",
    "is the average sequence operation."
   ]
  },
  {
   "cell_type": "markdown",
   "metadata": {},
   "source": [
    "### Step 5: Fit the results\n",
    "\n",
    "Repeat Steps 1 through 4 for different values of $m$ and fit the results for the averaged sequence fidelity to the model:\n",
    "\n",
    "\n",
    "$$ \\textit{F}_{seq}^{(0)} \\big(m,{|}\\psi {\\rangle} \\big) = A_0 \\alpha^m +B_0$$\n",
    "\n",
    "\n",
    "where $A_0$ and $B_0$ absorb state preparation and measurement errors as well as an edge effect from the\n",
    "error on the final gate.\n",
    "\n",
    "$\\alpha$ determines the average error-rate $r$, which is also called **Error per Clifford (EPC)** \n",
    "according to the relation \n",
    "\n",
    "$$ r = 1-\\alpha-\\frac{1-\\alpha}{2^n} = \\frac{2^n-1}{2^n}(1-\\alpha)$$\n",
    "\n",
    "\n",
    "(where $n=nQ$ is the number of qubits).\n",
    "\n",
    "As an example, we calculate the average sequence fidelity for each of the RB sequences, fit the results to the exponential curve, and compute the parameters $\\alpha$ and EPC."
   ]
  },
  {
   "cell_type": "code",
   "execution_count": 7,
   "metadata": {},
   "outputs": [
    {
     "name": "stdout",
     "output_type": "stream",
     "text": [
      "Compiling seed 0\n",
      "Simulating seed 0\n",
      "After seed 0, alpha: 0.979818, EPC: 0.015136\n",
      "Compiling seed 1\n",
      "Simulating seed 1\n",
      "After seed 1, alpha: 0.979786, EPC: 0.015160\n",
      "Compiling seed 2\n",
      "Simulating seed 2\n",
      "After seed 2, alpha: 0.979690, EPC: 0.015233\n",
      "Compiling seed 3\n",
      "Simulating seed 3\n",
      "After seed 3, alpha: 0.980270, EPC: 0.014798\n",
      "Compiling seed 4\n",
      "Simulating seed 4\n",
      "After seed 4, alpha: 0.981024, EPC: 0.014232\n"
     ]
    }
   ],
   "source": [
    "# Create the RB fitter\n",
    "backend = qiskit.Aer.get_backend('qasm_simulator')\n",
    "basis_gates = ['u1','u2','u3','cx'] \n",
    "shots = 200\n",
    "transpiled_circs_list = []\n",
    "rb_fit = rb.RBFitter(None, xdata, rb_opts['rb_pattern'])\n",
    "for rb_seed, rb_circ_seed in enumerate(rb_circs):\n",
    "    print('Compiling seed %d'%rb_seed)\n",
    "    new_rb_circ_seed = qiskit.compiler.transpile(rb_circ_seed, basis_gates=basis_gates)\n",
    "    transpiled_circs_list.append(new_rb_circ_seed)\n",
    "    print('Simulating seed %d'%rb_seed)\n",
    "    job = qiskit.execute(new_rb_circ_seed, backend, shots=shots,\n",
    "                         noise_model=noise_model,\n",
    "                         backend_options={'max_parallel_experiments': 0})    \n",
    "    # Add data to the fitter\n",
    "    rb_fit.add_data(job.result())\n",
    "    print('After seed %d, alpha: %f, EPC: %f'%(rb_seed,rb_fit.fit[0]['params'][1], rb_fit.fit[0]['epc']))"
   ]
  },
  {
   "cell_type": "markdown",
   "metadata": {},
   "source": [
    "### Plot the results"
   ]
  },
  {
   "cell_type": "code",
   "execution_count": 8,
   "metadata": {},
   "outputs": [
    {
     "data": {
      "image/png": "[encoded data removed]",
      "text/plain": [
       "<Figure size 576x432 with 1 Axes>"
      ]
     },
     "metadata": {
      "needs_background": "light"
     },
     "output_type": "display_data"
    }
   ],
   "source": [
    "plt.figure(figsize=(8, 6))\n",
    "ax = plt.subplot(1, 1, 1)\n",
    "\n",
    "# Plot the essence by calling plot_rb_data\n",
    "rb_fit.plot_rb_data(0, ax=ax, add_label=True, show_plt=False)\n",
    "    \n",
    "# Add title and label\n",
    "ax.set_title('%d Qubit RB'%(nQ), fontsize=18)\n",
    "\n",
    "plt.show()"
   ]
  },
  {
   "cell_type": "markdown",
   "metadata": {},
   "source": [
    "### The intuition behind RB\n",
    "\n",
    "The depolarizing quantum channel has a parameter $\\alpha$, and works like this: with probability $\\alpha$, the state remains the same as before; with probability $1-\\alpha$, the state becomes the totally mixed state, namely:\n",
    "\n",
    "\n",
    "\n",
    "$$\\rho_f = \\alpha \\rho_i + \\frac{1-\\alpha}{2^n} * \\mathbf{I}$$\n",
    "\n",
    "\n",
    "\n",
    "Suppose that we have a sequence of $m$ gates, not necessarily Clifford gates, \n",
    "where the error channel of the gates is a depolarizing channel with parameter $\\alpha$ \n",
    "(same $\\alpha$ for all the gates). \n",
    "Then with probability $\\alpha^m$ the state is correct at the end of the sequence, \n",
    "and with probability $1-\\alpha^m$ it becomes the totally mixed state, therefore:\n",
    "\n",
    "\n",
    "\n",
    "$$\\rho_f^m = \\alpha^m \\rho_i + \\frac{1-\\alpha^m}{2^n} * \\mathbf{I}$$\n",
    "\n",
    "\n",
    "\n",
    "Now suppose that in addition we start with the ground state; \n",
    "that the entire sequence amounts to the identity; \n",
    "and that we measure the state at the end of the sequence with the standard basis. \n",
    "We derive that the probability of success at the end of the sequence is:\n",
    "\n",
    "\n",
    "\n",
    "$$\\alpha^m + \\frac{1-\\alpha^m}{2^n} = \\frac{2^n-1}{2^n}\\alpha^m + \\frac{1}{2^n} =  A_0\\alpha^m + B_0$$\n",
    "\n",
    "\n",
    "\n",
    "It follows that the probability of success, aka fidelity, decays exponentially with the sequence length, with exponent $\\alpha$.\n",
    "\n",
    "The last statement is not necessarily true when the channel is other than the depolarizing channel. However, it turns out that if the gates are uniformly-randomized Clifford gates, then the noise of each gate behaves on average as if it was the depolarizing channel, with some parameter that can be computed from the channel, and we obtain the exponential decay of the fidelity.\n",
    "\n",
    "Formally, taking an average over a finite group $G$ (like the Clifford group) of a quantum channel $\\bar \\Lambda$ is also called a *twirl*:\n",
    "\n",
    "\n",
    "$$ W_G(\\bar \\Lambda) \\frac{1}{|G|} \\sum_{u \\in G} U^{\\dagger} \\circ  \\bar \\Lambda \\circ U$$\n",
    "\n",
    "\n",
    "Twirling over the entire unitary group yields exactly the same result as the Clifford group. The Clifford group is a *2-design* of the unitary group."
   ]
  },
  {
   "cell_type": "markdown",
   "metadata": {},
   "source": [
    "## Simultaneous Randomized Benchmarking\n",
    "\n",
    "\n",
    "RB is designed to address fidelities in multiqubit systems in two ways. For one, RB over the full $n$-qubit space\n",
    "can be performed by constructing sequences from the $n$-qubit Clifford group. Additionally, the $n$-qubit space\n",
    "can be subdivided into sets of qubits $\\{n_i\\}$ and $n_i$-qubit RB performed in each subset simultaneously [4]. \n",
    "Both methods give metrics of fidelity in the $n$-qubit space. \n",
    "\n",
    "For example, it is common to perform 2Q RB on the subset of two-qubits defining a CNOT gate while the other qubits are quiescent. As explained in [4], this RB data will not necessarily decay exponentially because the other qubit subspaces are not twirled. Subsets are more rigorously characterized by simultaneous RB, which also measures some level of crosstalk error since all qubits are active.\n",
    "\n",
    "An example of simultaneous RB (1Q RB and 2Q RB) can be found in: \n",
    "https://github.com/Qiskit/qiskit-tutorials/blob/master/qiskit/ignis/randomized_benchmarking.ipynb"
   ]
  },
  {
   "cell_type": "markdown",
   "metadata": {},
   "source": [
    "## Predicted Gate Fidelity\n",
    "\n",
    "If we know the errors on the underlying gates (the gateset) we can predict the EPC without running RB experiment. This calculation verifies that your RB experiment followed by fitting yields correct EPC value. First we need to count the number of these gates per Clifford.\n",
    "\n",
    "Then, the two qubit Clifford gate error function ``calculate_2q_epc`` gives the error per 2Q Clifford. It assumes that the error in the underlying gates is depolarizing. This function is derived in the supplement to [5]. "
   ]
  },
  {
   "cell_type": "code",
   "execution_count": 9,
   "metadata": {},
   "outputs": [
    {
     "name": "stdout",
     "output_type": "stream",
     "text": [
      "Number of u1 gates per Clifford: 0.261463\n",
      "Number of u2 gates per Clifford: 1.266921\n",
      "Number of u3 gates per Clifford: 0.189410\n",
      "Number of cx gates per Clifford: 1.504367\n"
     ]
    }
   ],
   "source": [
    "# count the number of single and 2Q gates in the 2Q Cliffords\n",
    "qubits = rb_opts['rb_pattern'][0]\n",
    "\n",
    "gate_per_cliff = rb.rb_utils.gates_per_clifford(\n",
    "    transpiled_circuits_list=transpiled_circs_list,\n",
    "    clifford_lengths=xdata[0],\n",
    "    basis=basis_gates,\n",
    "    qubits=qubits)\n",
    "\n",
    "for basis_gate in basis_gates:\n",
    "    print(\"Number of %s gates per Clifford: %f\"%(\n",
    "        basis_gate,\n",
    "        np.mean([gate_per_cliff[qubit][basis_gate] for qubit in qubits])))"
   ]
  },
  {
   "cell_type": "code",
   "execution_count": 10,
   "metadata": {},
   "outputs": [
    {
     "name": "stdout",
     "output_type": "stream",
     "text": [
      "Predicted 2Q Error per Clifford: 1.513835e-02 (qasm simulator result: 1.423214e-02)\n"
     ]
    }
   ],
   "source": [
    "# convert from depolarizing error to epg (1Q)\n",
    "epg_q0 = {'u1': 0, 'u2': p1Q/2, 'u3': 2 * p1Q/2}\n",
    "epg_q1 = {'u1': 0, 'u2': p1Q/2, 'u3': 2 * p1Q/2}\n",
    "\n",
    "# convert from depolarizing error to epg (2Q)\n",
    "epg_q01 = 3/4 * p2Q\n",
    "\n",
    "# calculate the predicted epc from underlying gate errors \n",
    "pred_epc = rb.rb_utils.calculate_2q_epc(\n",
    "    gate_per_cliff=gate_per_cliff,\n",
    "    epg_2q=epg_q01,\n",
    "    qubit_pair=qubits,\n",
    "    list_epgs_1q=[epg_q0, epg_q1])\n",
    "\n",
    "print(\"Predicted 2Q Error per Clifford: %e (qasm simulator result: %e)\" % (pred_epc, rb_fit.fit[0]['epc']))"
   ]
  },
  {
   "cell_type": "markdown",
   "metadata": {},
   "source": [
    "On the other hand, we can calculate the errors on the underlying gates (the gateset) from the experimentally obtained EPC. Given that we know the errors on the every single-qubit gates in the RB sequence, we can predict 2Q gate error from the EPC of two qubit RB experiment.\n",
    "\n",
    "The two qubit gate error function ``calculate_2q_epg`` gives the estimate of error per 2Q gate. In this section we prepare single-qubit errors using the deporalizing error model. If the error model is unknown, EPGs of those gates, for example [``u1``, ``u2``, ``u3``], can be estimated with a separate 1Q RB experiment with the utility function ``calculate_1q_epg``."
   ]
  },
  {
   "cell_type": "code",
   "execution_count": 11,
   "metadata": {},
   "outputs": [
    {
     "name": "stdout",
     "output_type": "stream",
     "text": [
      "Predicted 2Q Error per gate: 6.875485e-03 (gate error model: 7.500000e-03)\n"
     ]
    }
   ],
   "source": [
    "# use 2Q EPC from qasm simulator result and 1Q EPGs from depolarizing error model\n",
    "pred_epg = rb.rb_utils.calculate_2q_epg(\n",
    "    gate_per_cliff=gate_per_cliff,\n",
    "    epc_2q=rb_fit.fit[0]['epc'],\n",
    "    qubit_pair=qubits,\n",
    "    list_epgs_1q=[epg_q0, epg_q1])\n",
    "\n",
    "print(\"Predicted 2Q Error per gate: %e (gate error model: %e)\" % (pred_epg, epg_q01))"
   ]
  },
  {
   "cell_type": "code",
   "execution_count": 12,
   "metadata": {},
   "outputs": [
    {
     "data": {
      "text/plain": [
       "{'qiskit-terra': '0.13.0',\n",
       " 'qiskit-aer': '0.5.0',\n",
       " 'qiskit-ignis': '0.3.0',\n",
       " 'qiskit-ibmq-provider': '0.6.0',\n",
       " 'qiskit-aqua': '0.6.5',\n",
       " 'qiskit': '0.18.0'}"
      ]
     },
     "execution_count": 12,
     "metadata": {},
     "output_type": "execute_result"
    }
   ],
   "source": [
    "import qiskit\n",
    "qiskit.__qiskit_version__"
   ]
  },
  {
   "cell_type": "code",
   "execution_count": null,
   "metadata": {},
   "outputs": [],
   "source": []
  }
 ],
 "metadata": {
  "kernelspec": {
   "display_name": "Python 3",
   "language": "python",
   "name": "python3"
  },
  "language_info": {
   "codemirror_mode": {
    "name": "ipython",
    "version": 3
   },
   "file_extension": ".py",
   "mimetype": "text/x-python",
   "name": "python",
   "nbconvert_exporter": "python",
   "pygments_lexer": "ipython3",
   "version": "3.7.3"
  }
 },
 "nbformat": 4,
 "nbformat_minor": 2
}
