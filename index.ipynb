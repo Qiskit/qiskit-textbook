{
 "cells": [
  {
   "cell_type": "markdown",
   "metadata": {},
   "source": [
    "# Learn Quantum Computation using Qiskit\n",
    "A university quantum algorithms/computation course supplement based on Qiskit"
   ]
  },
  {
   "cell_type": "markdown",
   "metadata": {},
   "source": [
    "<img width=300px align=\"right\" src=\"./ch-prerequisites/images/qiskit-textbook.jpg\">\n",
    "\n",
    "**Preface**<br />\n",
    "\n",
    "&nbsp; &nbsp; 0 [Structure of this Textbook](./ch-preface/0.html)<br />\n",
    "\n",
    "**Chapter 0. Prerequisites**<br />\n",
    "\n",
    "&nbsp; &nbsp; 0.0 [Python and Jupyter Notebooks](./ch-prerequisites/python-and-jupyter-notebooks.html)<br />\n",
    "&nbsp; &nbsp; 0.1 [Qiskit](./ch-prerequisites/qiskit.html)<br />\n",
    "&nbsp; &nbsp; 0.2 [Linear Algebra](./ch-prerequisites/linear_algebra.html)<br />\n",
    "\n",
    "**Chapter 1. Quantum States and Qubits**<br />\n",
    "\n",
    "&nbsp; &nbsp; 1.0 [Introduction](./ch-states/introduction.html)<br />\n",
    "&nbsp; &nbsp; 1.1 [The Atoms of Computation](./ch-states/atoms-computation.html)<br />\n",
    "&nbsp; &nbsp; 1.2 [The Unique Properties of Qubits](./ch-states/unique-properties-qubits.html)<br />\n",
    "&nbsp; &nbsp; 1.3 [Writing Down Qubit States](./ch-states/writing-down-qubit-states.html)<br />\n",
    "&nbsp; &nbsp; 1.4 [Pauli Matrices and the Bloch Sphere](./ch-states/pauli-matrices-bloch-sphere.html)<br />\n",
    "&nbsp; &nbsp; 1.5 [States for Many Qubits](./ch-states/states-many-qubits.html)<br />\n",
    "\n",
    "**Chapter 2. Single-Qubit and Multi-Qubit Gates**<br />\n",
    "\n",
    "&nbsp; &nbsp; 2.0 [Introduction](./ch-gates/introduction.html)<br />\n",
    "&nbsp; &nbsp; 2.1 [Quantum Gates](./ch-gates/quantum-gates.html)<br />\n",
    "&nbsp; &nbsp; 2.2 [Fun with Matrices](./ch-gates/fun-matrices.html)<br />\n",
    "&nbsp; &nbsp; 2.3 [The Standard Gate Set](./ch-gates/standard-gate-set.html)<br />\n",
    "&nbsp; &nbsp; 2.4 [Proving Universality](./ch-gates/proving-universality.html)<br />\n",
    "&nbsp; &nbsp; 2.5 [Basic Circuit Identities](./ch-gates/basic-circuit-identities.html)<br />\n",
    "\n",
    "**Problems**<br />\n",
    "\n",
    "&nbsp; &nbsp; [Set 1 -- Classical Logic Gates with Quantum Circuits](./chEx/Ex1.html)<br />\n",
    "&nbsp; &nbsp; [Set 2 -- Basic Synthesis of Single-Qubit Gates](./chEx/Ex2.html)<br />\n",
    "&nbsp; &nbsp; [Set 3 -- Building the Best `AND` Gate](./chEx/Ex3.html)<br />\n",
    "\n",
    "**Chapter 3. Quantum Algorithms**<br />\n",
    "\n",
    "&nbsp; &nbsp; 3.0 [Quantum Teleportation](./ch-algorithms/teleportation.html)<br />\n",
    "&nbsp; &nbsp; 3.1 [Deutsch-Josza Algorithm](./ch-algorithms/deutsch-josza.html)<br />\n",
    "&nbsp; &nbsp; 3.2 [Bernstein-Vazirani Algorithm](./ch-algorithms/bernstein-vazirani.html)<br />\n",
    "&nbsp; &nbsp; 3.3 [Simon's Algorithm](./ch-algorithms/simon.html)<br />\n",
    "&nbsp; &nbsp; 3.4 [Quantum Fourier Transform](./ch-algorithms/quantum-fourier-transform.html)<br />\n",
    "&nbsp; &nbsp; 3.5 [Quantum Phase Estimation](./ch-algorithms/quantum-phase-estimation.html)<br />\n",
    "&nbsp; &nbsp; 3.6 [Grover's Algorithm](./ch-algorithms/grover.html)<br />\n",
    "\n",
    "**Chapter 4. Quantum Algorithms for Applications**<br />\n",
    "\n",
    "&nbsp; &nbsp; 4.0 [Simulating Molecules using VQE](./ch-applications/vqe-molecules.html)<br />\n",
    "&nbsp; &nbsp; 4.1 [Solving Satisfiability Problems using Grover's Algorithm](./ch-applications/satisfiability-grover.html)<br />\n",
    "\n",
    "**Chapter 5. Investigating Quantum Hardware Using Qiskit**<br />\n",
    "\n",
    "&nbsp; &nbsp; 5.0 [Calibrating Qubits with OpenPulse](./ch-quantum-hardware/calibrating-qubits-openpulse.html)<br />\n",
    "&nbsp; &nbsp; 5.1 [Introduction to Quantum Error Correction using Repetition Codes](./ch-quantum-hardware/error-correction-repetition-code.html)<br />\n",
    "&nbsp; &nbsp; 5.2 [Measurement Error Mitigation](./ch-quantum-hardware/measurement-error-mitigation.html)<br />\n",
    "&nbsp; &nbsp; 5.3 [Randomized Benchmarking](./ch-quantum-hardware/randomized-benchmarking.html)<br />\n",
    "&nbsp; &nbsp; 5.4 [Measuring Quantum Volume](./ch-quantum-hardware/measuring-quantum-volume.html)<br />\n",
    "\n",
    "**Chapter 6. Implementations of Recent Quantum Algorithms**<br />\n",
    "\n",
    "&nbsp; &nbsp; 6.0 [Variational Quantum Linear Solver](./ch-paper-implementations/vqls.html)<br />\n",
    "\n",
    "\n",
    "**[Upcoming topics](./ch-upcoming/0.html)**\n",
    "\n",
    "\n",
    "\n",
    "\n",
    "<div style='text-align: right'>&larr; <a href=\"http://community.qiskit.org/education\">Return to the Qiskit for Educators Page</a></div><br />"
   ]
  },
  {
   "cell_type": "markdown",
   "metadata": {},
   "source": [
    "### Contributors in Alphabetical Order"
   ]
  },
  {
   "cell_type": "markdown",
   "metadata": {},
   "source": [
    "__Learn Quantum Computation using Qiskit__ is the work of several individuals. If you use it in your work, cite it using [this bib file](http://github.com/Qiskit/qiskit-textbook/blob/master/qiskit-textbook.bib) or directly as\n",
    "\n",
    "> ```Abraham Asfaw, Luciano Bello, Yael Ben-Haim, Sergey Bravyi, Lauren Capelluto, Almudena Carrera Vazquez, Jack Ceroni, Jay Gambetta, Shelly Garion, Leron Gil, Salvador De La Puente Gonzalez, David McKay, Zlatko Minev, Paul Nation, Anna Phan, Arthur Rattew, Javad Shabani, John Smolin, Kristan Temme, Madeleine Tod, James Wootton. \"Learn Quantum Computation using Qiskit.\" (August 2019). \n",
    "Retrieved from http://community.qiskit.org/textbook\n",
    "```\n"
   ]
  },
  {
   "cell_type": "markdown",
   "metadata": {},
   "source": [
    "### License and Usage"
   ]
  },
  {
   "cell_type": "markdown",
   "metadata": {},
   "source": [
    "The materials and associated source code of this open-source textbook are licensed under [Apache License 2.0](https://www.apache.org/licenses/LICENSE-2.0)."
   ]
  }
 ],
 "metadata": {
  "kernelspec": {
   "display_name": "Python 3",
   "language": "python",
   "name": "python3"
  },
  "language_info": {
   "codemirror_mode": {
    "name": "ipython",
    "version": 3
   },
   "file_extension": ".py",
   "mimetype": "text/x-python",
   "name": "python",
   "nbconvert_exporter": "python",
   "pygments_lexer": "ipython3",
   "version": "3.7.3"
  }
 },
 "nbformat": 4,
 "nbformat_minor": 2
}
