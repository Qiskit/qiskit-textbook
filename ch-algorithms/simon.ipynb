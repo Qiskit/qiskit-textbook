{
 "cells": [
  {
   "cell_type": "markdown",
   "metadata": {},
   "source": [
    "# Simon's Algorithm"
   ]
  },
  {
   "cell_type": "markdown",
   "metadata": {},
   "source": [
    "In this section, we first introduce the Simon problem, and classical and quantum algorithms to solve it. We then implement the quantum algorithm using Qiskit, and run on a simulator and device.\n",
    "\n",
    "\n",
    "## Contents\n",
    "\n",
    "1. [Introduction](#introduction)\n",
    "   - [Simon's Problem](#problem)\n",
    "   - [Simon's Algorithm](#algorithm)\n",
    "\n",
    "2. [Example](#example)\n",
    "\n",
    "3. [Qiskit Implementation](#implementation)\n",
    "   - [Simulation](#simulation)\n",
    "   - [Device](#device)\n",
    "\n",
    "4. [Oracle](#oracle)\n",
    "\n",
    "5. [Problems](#problems)\n",
    "\n",
    "6. [References](#references)"
   ]
  },
  {
   "cell_type": "markdown",
   "metadata": {},
   "source": [
    "## 1. Introduction <a id='introduction'></a>\n",
    "\n",
    "Simon's algorithm, first introduced in Reference [1], was the first quantum algorithm to show an exponential speed-up versus the best classical algorithm in solving a specific problem. This inspired the quantum algorithm for the discrete Fourier transform, also known as quantum Fourier transform, which is used in the most famous quantum algorithm: Shor's factoring algorithm.\n",
    "\n",
    "### 1a. Simon's Problem <a id='problem'> </a>\n",
    "\n",
    "We are given an unknown blackbox function $f$, which is guaranteed to be either one-to-one or two-to-one, where one-to-one and two-to-one functions have the following properties:\n",
    "\n",
    "- _one-to-one_: maps exactly one unique output for every input, eg. $f(1) \\rightarrow 1$, $f(2) \\rightarrow 2$, $f(3) \\rightarrow 3$, $f(4) \\rightarrow 4$. \n",
    "- _two-to-one_: maps exactly two inputs to every unique output, eg. $f(1) \\rightarrow 1$, $f(2) \\rightarrow 2$, $f(3) \\rightarrow 1$, $f(4) \\rightarrow 2$, according to a hidden bitstring, $s$\n",
    "$$\n",
    "\\textrm{where:  given }x_1,x_2: \\quad f(x_1) = f(x_2) \\\\\n",
    "\\textrm{it is guaranteed }: \\quad x_1 \\oplus x_2 = s\n",
    "$$\n",
    "\n",
    "Thus, given this blackbox $f$, how quickly can we determine if $f$ is one-to-one or two-to-one? Then, if $f$ turns out to be two-to-one, how quickly can we determine $s$? As it turns out, both cases boil down to the same problem of finding $s$, where a bitstring of $s={000...}$ represents the one-to-one $f$."
   ]
  },
  {
   "cell_type": "markdown",
   "metadata": {},
   "source": [
    "### 1b. Simon's Algorithm <a id='algorithm'> </a>\n",
    "\n",
    "#### Classical Solution\n",
    "\n",
    "Classically, if we want to know what $s$ is for a given $f$, with 100% certainty, we have to check up to $2^{N−1}+1$  inputs, where N is the number of bits in the input. This means checking just over half of all the possible inputs until we find two cases of the same output. Although, probabilistically the average number of inputs will be closer to the order of $\\mathcal(o)(2)$. Much like the Deutsch-Jozsa problem, if we get lucky, we could solve the problem with our first two tries. But if we happen to get an $f$ that is one-to-one, or get _really_ unlucky with an $f$ that’s two-to-one, then we’re stuck with the full $2^{N−1}+1$."
   ]
  },
  {
   "cell_type": "markdown",
   "metadata": {},
   "source": [
    "#### Quantum Solution\n",
    "\n",
    "The quantum circuit that implements Simon's algorithm is shown below.\n",
    "\n",
    "<img src=\"images/simon_steps.jpeg\"  width=\"300\">\n",
    "\n",
    "Where the query function, $\\text{Q}_f$ acts on two quantum registers as:\n",
    "$$ \\lvert x \\rangle \\lvert 0 \\rangle \\rightarrow \\lvert x \\rangle \\lvert f(x) \\rangle $$\n",
    "\n",
    "The algorithm involves the following steps.\n",
    "<ol>\n",
    "   <li> Two $n$-qubit input registers are initialized to the zero state: \n",
    "    $$\\lvert \\psi_1 \\rangle = \\lvert 0 \\rangle^{\\otimes n} \\lvert 0 \\rangle^{\\otimes n} $$ </li>\n",
    "    \n",
    "   <li> Apply a Hadamard transform to the first register:\n",
    "    $$\\lvert \\psi_2 \\rangle = \\frac{1}{\\sqrt{2^n}} \\sum_{x \\in \\{0,1\\}^{n} } \\lvert x \\rangle\\lvert 0 \\rangle^{\\otimes n}  $$ \n",
    "   </li>\n",
    "    \n",
    "   <li> Apply the query function $\\text{Q}_f$: \n",
    "    $$ \\lvert \\psi_3 \\rangle = \\frac{1}{\\sqrt{2^n}} \\sum_{x \\in \\{0,1\\}^{n} } \\lvert x \\rangle \\lvert f(x) \\rangle  $$ \n",
    "   </li>\n",
    "    \n",
    "   <li> Measure the second register. A certain value of $f(x)$ will be observed. Because of the setting of the problem, the observed value $f(x)$ could correspond to two possible inputs: $x$ and $y = x \\oplus s $. Therefore the first register becomes:\n",
    "    $$\\lvert \\psi_4 \\rangle = \\frac{1}{\\sqrt{2}}  \\left( \\lvert x \\rangle + \\lvert y \\rangle \\right)$$\n",
    "   where we omitted the second register since it has been measured. \n",
    "   </li>\n",
    "    \n",
    "   <li> Apply Hadamard on the first register:\n",
    "    $$ \\lvert \\psi_5 \\rangle = \\frac{1}{\\sqrt{2^{n+1}}} \\sum_{z \\in \\{0,1\\}^{n} } \\left[  (-1)^{x \\cdot z} + (-1)^{y \\cdot z} \\right]  \\lvert z \\rangle  $$\n",
    "   </li>\n",
    "    \n",
    "   <li> Measuring the first register will give an output of:\n",
    "    $$ (-1)^{x \\cdot z} = (-1)^{y \\cdot z} $$\n",
    "   which means:\n",
    "    $$ x \\cdot z = y \\cdot z \\\\\n",
    "     x \\cdot z = \\left( x \\oplus s \\right) \\cdot z \\\\\n",
    "     x \\cdot z = x \\cdot z \\oplus s \\cdot z \\\\\n",
    "     s \\cdot z = 0 \\text{ (mod 2)} $$\n",
    "      \n",
    "   A string $z$ whose inner product with $s$ will be measured. Thus, repeating the algorithm $\\approx n$ times, we will be able to obtain $n$ different values of $z$ and the following system of equation can be written \n",
    "    $$ \\begin{cases} s \\cdot z_1 = 0 \\\\ s \\cdot z_2 = 0 \\\\ ... \\\\ s \\cdot z_n = 0 \\end{cases}$$\n",
    "   From which $s$ can be determined, for example by Gaussian elimination.\n",
    "    </li>\n",
    "</ol>\n",
    "\n",
    "So, in this particular problem the quantum algorithm performs exponentially fewer steps than the classical one. Once again, it might be difficult to envision an application of this algorithm (although it inspired the most famous algorithm created by Shor) but it represents the first proof that there can be an exponential speed-up in solving a specific problem by using a quantum computer rather than a classical one."
   ]
  },
  {
   "cell_type": "markdown",
   "metadata": {},
   "source": [
    "## 2. Example  <a id='example'></a>\n",
    "\n",
    "Let's see the example of Simon's algorithm for 2 qubits with the secret string $s=11$, so that $f(x) = f(y)$ if $y = x \\oplus s$. The quantum circuit to solve the problem is:\n",
    "\n",
    "<img src=\"images/simon_example.jpeg\"  width=\"300\">\n",
    "\n",
    "<ol>\n",
    "    <li> Two $2$-qubit input registers are initialized to the zero state:\n",
    "    $$\\lvert \\psi_1 \\rangle = \\lvert 0 0 \\rangle_1 \\lvert 0 0 \\rangle_2 $$ </li>\n",
    "    \n",
    "   <li> Apply Hadamard gates to the qubits in the first register:\n",
    "    $$\\lvert \\psi_2 \\rangle = \\frac{1}{2} \\left( \\lvert 0 0 \\rangle_1 + \\lvert 0 1 \\rangle_1 + \\lvert 1 0 \\rangle_1 + \\lvert 1 1 \\rangle_1 \\right) \\lvert 0 0 \\rangle_2 $$ </li>\n",
    "    \n",
    "   <li> For the string $s=11$, the query function can be implemented as $\\text{Q}_f = CX_{13}CX_{14}CX_{23}CX_{24}$:\n",
    "    \\begin{aligned}\n",
    "     \\lvert \\psi_3 \\rangle  = \\frac{1}{2} \\left(\\lvert 0 0 \\rangle_1  \\lvert 0\\oplus 0 \\oplus 0, 0 \\oplus 0 \\oplus 0 \\rangle_2 \\\\\n",
    "            + \\lvert 0 1 \\rangle_1 \\lvert 0\\oplus 0 \\oplus 1, 0 \\oplus 0 \\oplus 1 \\rangle_2 \\\\\n",
    "            + \\lvert 1 0 \\rangle_1 \\lvert 0\\oplus 1 \\oplus 0, 0 \\oplus 1 \\oplus 0 \\rangle_2 \\\\\n",
    "            + \\lvert 1 1 \\rangle_1 \\lvert 0\\oplus 1 \\oplus 1, 0 \\oplus 1 \\oplus 1 \\rangle_2 \\right)\n",
    "    \\end{aligned}\n",
    "    \n",
    "   Thus\n",
    "    $$ \\lvert \\psi_3 \\rangle = \\frac{1}{2} \\left( \\lvert 0 0 \\rangle_1  \\lvert 0 0 \\rangle_2 + \\lvert 0 1 \\rangle_1 \\lvert 1  1 \\rangle_2 + \\lvert 1 0 \\rangle_1 \\lvert  1   1  \\rangle_2 + \\lvert 1 1 \\rangle_1 \\lvert 0 0 \\rangle_2 \\right)  $$\n",
    "    \n",
    "    \n",
    "   </li>\n",
    "    \n",
    "   <li> We measure the second register. With $50\\%$ probability we will see either $\\lvert  0   0  \\rangle_2$ or $\\lvert  1   1  \\rangle_2$. For the sake of the example, let us assume that we see $\\lvert  1   1  \\rangle_2$. The state of the system is then\n",
    "    $$ \\lvert \\psi_4 \\rangle = \\frac{1}{\\sqrt{2}}  \\left( \\lvert  0   1  \\rangle_1 + \\lvert  1   0  \\rangle_1 \\right)  $$\n",
    "    \n",
    "   where we omitted the second register since it has been measured.\n",
    "    \n",
    "   </li>\n",
    "    \n",
    "    \n",
    "    \n",
    "   <li> Apply Hadamard on the first register\n",
    "    $$ \\lvert \\psi_5 \\rangle = \\frac{1}{2\\sqrt{2}} \\left[ \\left( \\lvert 0 \\rangle + \\lvert 1 \\rangle \\right) \\otimes \\left( \\lvert 0 \\rangle - \\lvert 1 \\rangle \\right) + \\left( \\lvert 0 \\rangle - \\lvert 1 \\rangle \\right) \\otimes \\left( \\lvert 0 \\rangle + \\lvert 1 \\rangle \\right)  \\right] \\\\\n",
    "    =  \\frac{1}{2\\sqrt{2}} \\left[ \\lvert 0 0 \\rangle - \\lvert 0 1 \\rangle + \\lvert 1 0 \\rangle - \\lvert 1 1 \\rangle   + \\lvert 0 0 \\rangle + \\lvert 0 1 \\rangle - \\lvert 1 0 \\rangle - \\lvert 1 1 \\rangle \\right] \\\\\n",
    "    = \\frac{1}{\\sqrt{2}} \\left( \\lvert 0 0 \\rangle - \\lvert 1 1 \\rangle \\right)$$\n",
    "    \n",
    "   </li>\n",
    "    \n",
    "   <li> Measuring the first register will give either $\\lvert 0, 0 \\rangle$ or $\\lvert 1, 1 \\rangle$ with equal probability. If we see $\\lvert 1, 1 \\rangle$, then:   \n",
    "    $$ s \\cdot 11 = 0 $$\n",
    "    \n",
    "   This is one equation, but $s$ has two variables. Therefore, we need to repeat the algorithm at least another time to have enough equations that will allow us to determine $s$.\n",
    "   </li>\n",
    "</ol>"
   ]
  },
  {
   "cell_type": "markdown",
   "metadata": {},
   "source": [
    "## 3. Qiskit Implementation <a id='implementation'></a>\n",
    "\n",
    "We now implement Simon's algorithm for the above [example](example) for $2$-qubits with a $s=11$."
   ]
  },
  {
   "cell_type": "code",
   "execution_count": 1,
   "metadata": {},
   "outputs": [],
   "source": [
    "#initialization\n",
    "import matplotlib.pyplot as plt\n",
    "%matplotlib inline\n",
    "import numpy as np\n",
    "\n",
    "# importing Qiskit\n",
    "from qiskit import IBMQ, BasicAer\n",
    "from qiskit.providers.ibmq import least_busy\n",
    "from qiskit import QuantumCircuit, ClassicalRegister, QuantumRegister, execute\n",
    "\n",
    "# import basic plot tools\n",
    "from qiskit.tools.visualization import plot_histogram"
   ]
  },
  {
   "cell_type": "code",
   "execution_count": 2,
   "metadata": {},
   "outputs": [],
   "source": [
    "s = '11'"
   ]
  },
  {
   "cell_type": "code",
   "execution_count": 3,
   "metadata": {},
   "outputs": [],
   "source": [
    "# Creating registers\n",
    "# qubits for querying the oracle and finding the hidden period s\n",
    "qr = QuantumRegister(2*len(str(s)))\n",
    "# classical registers for recording the measurement from qr\n",
    "cr = ClassicalRegister(2*len(str(s)))\n",
    "\n",
    "simonCircuit = QuantumCircuit(qr, cr)\n",
    "barriers = True\n",
    "\n",
    "# Apply Hadamard gates before querying the oracle\n",
    "for i in range(len(str(s))):\n",
    "    simonCircuit.h(qr[i])    \n",
    "    \n",
    "# Apply barrier \n",
    "if barriers:\n",
    "    simonCircuit.barrier()\n",
    "\n",
    "# Apply the query function\n",
    "## 2-qubit oracle for s = 11\n",
    "simonCircuit.cx(qr[0], qr[len(str(s)) + 0])\n",
    "simonCircuit.cx(qr[0], qr[len(str(s)) + 1])\n",
    "simonCircuit.cx(qr[1], qr[len(str(s)) + 0])\n",
    "simonCircuit.cx(qr[1], qr[len(str(s)) + 1])  \n",
    "\n",
    "# Apply barrier \n",
    "if barriers:\n",
    "    simonCircuit.barrier()\n",
    "\n",
    "# Measure ancilla qubits\n",
    "for i in range(len(str(s)), 2*len(str(s))):\n",
    "    simonCircuit.measure(qr[i], cr[i])\n",
    "\n",
    "# Apply barrier \n",
    "if barriers:\n",
    "    simonCircuit.barrier()\n",
    "\n",
    "# Apply Hadamard gates to the input register\n",
    "for i in range(len(str(s))):\n",
    "    simonCircuit.h(qr[i])\n",
    "\n",
    "# Apply barrier \n",
    "if barriers:\n",
    "    simonCircuit.barrier()\n",
    "\n",
    "# Measure input register\n",
    "for i in range(len(str(s))):\n",
    "    simonCircuit.measure(qr[i], cr[i])"
   ]
  },
  {
   "cell_type": "code",
   "execution_count": 4,
   "metadata": {},
   "outputs": [
    {
     "data": {
      "image/png": "[encoded data removed]",
      "text/plain": [
       "<Figure size 1264.2x499.66 with 1 Axes>"
      ]
     },
     "execution_count": 4,
     "metadata": {},
     "output_type": "execute_result"
    }
   ],
   "source": [
    "simonCircuit.draw(output='mpl')"
   ]
  },
  {
   "cell_type": "markdown",
   "metadata": {},
   "source": [
    "### 3a. Experiment with Simulators  <a id='simulation'></a>\n",
    "\n",
    "We can run the above circuit on the simulator. "
   ]
  },
  {
   "cell_type": "code",
   "execution_count": 5,
   "metadata": {},
   "outputs": [
    {
     "name": "stdout",
     "output_type": "stream",
     "text": [
      "{'11': 488, '00': 536}\n"
     ]
    },
    {
     "data": {
      "image/png": "[encoded data removed]",
      "text/plain": [
       "<Figure size 504x360 with 1 Axes>"
      ]
     },
     "execution_count": 5,
     "metadata": {},
     "output_type": "execute_result"
    }
   ],
   "source": [
    "# use local simulator\n",
    "backend = BasicAer.get_backend('qasm_simulator')\n",
    "shots = 1024\n",
    "results = execute(simonCircuit, backend=backend, shots=shots).result()\n",
    "answer = results.get_counts()\n",
    "\n",
    "# Categorize measurements by input register values\n",
    "answer_plot = {}\n",
    "for measresult in answer.keys():\n",
    "    measresult_input = measresult[len(str(s)):]\n",
    "    if measresult_input in answer_plot:\n",
    "        answer_plot[measresult_input] += answer[measresult]\n",
    "    else:\n",
    "        answer_plot[measresult_input] = answer[measresult] \n",
    "\n",
    "# Plot the categorized results\n",
    "print( answer_plot )\n",
    "plot_histogram(answer_plot)"
   ]
  },
  {
   "cell_type": "code",
   "execution_count": 6,
   "metadata": {},
   "outputs": [
    {
     "name": "stdout",
     "output_type": "stream",
     "text": [
      "s, z, s.z (mod 2)\n",
      "11, 11, 11.11=0\n",
      "11, 00, 11.00=0\n"
     ]
    }
   ],
   "source": [
    "# Calculate the dot product of the results\n",
    "def sdotz(a, b):\n",
    "    accum = 0\n",
    "    for i in range(len(a)):\n",
    "        accum += int(a[i]) * int(b[i])\n",
    "    return (accum % 2)\n",
    "\n",
    "print('s, z, s.z (mod 2)')\n",
    "for z_rev in answer_plot:\n",
    "    z = z_rev[::-1]\n",
    "    print( '{}, {}, {}.{}={}'.format(s, z, s,z,sdotz(s,z)) )"
   ]
  },
  {
   "cell_type": "markdown",
   "metadata": {},
   "source": [
    "Using these results, we can recover the value of $s = 11$."
   ]
  },
  {
   "cell_type": "markdown",
   "metadata": {},
   "source": [
    "### 3b. Experiment with Real Devices  <a id='device'></a>\n",
    "\n",
    "We can run the circuit on the real device as below."
   ]
  },
  {
   "cell_type": "code",
   "execution_count": 7,
   "metadata": {},
   "outputs": [
    {
     "name": "stdout",
     "output_type": "stream",
     "text": [
      "least busy backend:  ibmqx2\n"
     ]
    }
   ],
   "source": [
    "# Load our saved IBMQ accounts and get the least busy backend device with less than or equal to 5 qubits\n",
    "IBMQ.load_accounts()\n",
    "IBMQ.backends()\n",
    "backend = least_busy(IBMQ.backends(filters=lambda x: x.configuration().n_qubits <= 5 and \n",
    "                                   not x.configuration().simulator and x.status().operational==True))\n",
    "print(\"least busy backend: \", backend)"
   ]
  },
  {
   "cell_type": "code",
   "execution_count": 8,
   "metadata": {},
   "outputs": [
    {
     "name": "stdout",
     "output_type": "stream",
     "text": [
      "Job Status: job has successfully run\n"
     ]
    }
   ],
   "source": [
    "# Run our circuit on the least busy backend. Monitor the execution of the job in the queue\n",
    "from qiskit.tools.monitor import job_monitor\n",
    "\n",
    "shots = 1024\n",
    "job = execute(simonCircuit, backend=backend, shots=shots)\n",
    "\n",
    "job_monitor(job, interval = 2)"
   ]
  },
  {
   "cell_type": "code",
   "execution_count": 9,
   "metadata": {},
   "outputs": [
    {
     "name": "stdout",
     "output_type": "stream",
     "text": [
      "{'11': 488, '00': 536}\n"
     ]
    },
    {
     "data": {
      "image/png": "[encoded data removed]",
      "text/plain": [
       "<Figure size 504x360 with 1 Axes>"
      ]
     },
     "execution_count": 9,
     "metadata": {},
     "output_type": "execute_result"
    }
   ],
   "source": [
    "# Categorize measurements by input register values\n",
    "answer_plot = {}\n",
    "for measresult in answer.keys():\n",
    "    measresult_input = measresult[len(str(s)):]\n",
    "    if measresult_input in answer_plot:\n",
    "        answer_plot[measresult_input] += answer[measresult]\n",
    "    else:\n",
    "        answer_plot[measresult_input] = answer[measresult] \n",
    "\n",
    "# Plot the categorized results\n",
    "print( answer_plot )\n",
    "plot_histogram(answer_plot)"
   ]
  },
  {
   "cell_type": "code",
   "execution_count": 10,
   "metadata": {},
   "outputs": [
    {
     "name": "stdout",
     "output_type": "stream",
     "text": [
      "s, z, s.z (mod 2)\n",
      "11, 11, 11.11=0\n",
      "11, 00, 11.00=0\n"
     ]
    }
   ],
   "source": [
    "# Calculate the dot product of the most significant results\n",
    "print('s, z, s.z (mod 2)')\n",
    "for z_rev in answer_plot:\n",
    "    if answer_plot[z_rev] >= 0.1*shots:\n",
    "        z = z_rev[::-1]\n",
    "        print( '{}, {}, {}.{}={}'.format(s, z, s,z,sdotz(s,z)) )"
   ]
  },
  {
   "cell_type": "markdown",
   "metadata": {},
   "source": [
    "As we can see, the most significant results are those for which $s.z = 0$ (mod 2). Using a classical computer, we can then recover the value of $s$ by solving the linear system of equations. For this $n=2$ case, $s = 11$."
   ]
  },
  {
   "cell_type": "markdown",
   "metadata": {},
   "source": [
    "## 4. Oracle <a id='oracle'></a>\n",
    "\n",
    "The above [example](#example) and [implementation](#implementation) of Simon's algorithm are specifically for $s=11$. To extend the problem to other secret bit strings, we need to discuss the Simon query function or oracle in more detail.\n",
    "\n",
    "The Simon algorithm deals with finding a hidden bitstring $s \\in \\{0,1\\}^n$ from an oracle $f_s$ that satisfies $f_s(x) = f_s(y)$ if and only if $y = x \\oplus s$ for all $x \\in \\{0,1\\}^n$.  Here, the $\\oplus$ is the bitwise XOR operation. Thus, if $s = 0\\ldots 0$, i.e., the all-zero bitstring, then $f_s$ is a 1-to-1 (or, permutation) function. Otherwise, if $s \\neq 0\\ldots 0$, then $f_s$ is a 2-to-1 function. \n",
    "\n",
    "In the algorithm, the oracle receives $|x\\rangle|0\\rangle$ as input. With regards to a predetermined $s$, the oracle writes its output to the second register so that it transforms the input to $|x\\rangle|f_s(x)\\rangle$ such that $f(x) = f(x\\oplus s)$ for all $x \\in \\{0,1\\}^n$. \n",
    "\n",
    "Such a blackbox function can be realized by the following procedures.\n",
    "\n",
    "-  Copy the content of the first register to the second register.\n",
    "$$\n",
    "|x\\rangle|0\\rangle \\rightarrow |x\\rangle|x\\rangle\n",
    "$$\n",
    "\n",
    "-  **(Creating 1-to-1 or 2-to-1 mapping)** If $s$ is not all-zero, then there is the least index $j$ so that $s_j = 1$. If $x_j = 0$, then XOR the second register with $s$. Otherwise, do not change the second register.\n",
    "$$\n",
    "|x\\rangle|x\\rangle \\rightarrow |x\\rangle|x \\oplus s\\rangle~\\mbox{if}~x_j = 0~\\mbox{for the least index j}\n",
    "$$\n",
    "\n",
    "-  **(Creating random permutation)** Randomly permute and flip the qubits of the second register.\n",
    "$$\n",
    "|x\\rangle|y\\rangle \\rightarrow |x\\rangle|f_s(y)\\rangle\n",
    "$$\n"
   ]
  },
  {
   "cell_type": "markdown",
   "metadata": {},
   "source": [
    "## 5. Problems <a id='problems'></a>\n",
    "\n",
    "1. Implement a general Simon oracle.\n",
    "2. Test your general Simon oracle with the secret bitstring $s=1001$, on a simulator and device. Are the results what you expect? Explain."
   ]
  },
  {
   "cell_type": "markdown",
   "metadata": {},
   "source": [
    "## 6. References <a id='references'></a>\n",
    "\n",
    "1. Daniel R. Simon (1997) \"On the Power of Quantum Computation\" SIAM Journal on Computing, 26(5), 1474–1483, [doi:10.1137/S0097539796298637](https://doi.org/10.1137/S0097539796298637)"
   ]
  },
  {
   "cell_type": "code",
   "execution_count": 11,
   "metadata": {},
   "outputs": [
    {
     "data": {
      "text/plain": [
       "{'qiskit': '0.10.4',\n",
       " 'qiskit-terra': '0.8.2',\n",
       " 'qiskit-ignis': '0.1.1',\n",
       " 'qiskit-aer': '0.2.1',\n",
       " 'qiskit-ibmq-provider': '0.2.2',\n",
       " 'qiskit-aqua': '0.5.1'}"
      ]
     },
     "execution_count": 11,
     "metadata": {},
     "output_type": "execute_result"
    }
   ],
   "source": [
    "import qiskit\n",
    "qiskit.__qiskit_version__"
   ]
  },
  {
   "cell_type": "markdown",
   "metadata": {},
   "source": [
    "<p>Previous ← <a href=\"https://community.qiskit.org/textbook/ch-algorithms/bernstein-vazirani.html\">3.2 Bernstein-Vazirani Algorithm</a> <span style='float: right;'>Next → <a href=\"https://community.qiskit.org/textbook/ch-algorithms/quantum-fourier-transform.html\">3.4 Quantum Fourier Transform</a></span> </p>"
   ]
  },
  {
   "cell_type": "markdown",
   "metadata": {},
   "source": [
    "<p style='text-align: center;'> <a href=\"https://community.qiskit.org/textbook/\">Return to the Textbook Index Page</a> </p>"
   ]
  }
 ],
 "metadata": {
  "kernelspec": {
   "display_name": "Python 3",
   "language": "python",
   "name": "python3"
  },
  "language_info": {
   "codemirror_mode": {
    "name": "ipython",
    "version": 3
   },
   "file_extension": ".py",
   "mimetype": "text/x-python",
   "name": "python",
   "nbconvert_exporter": "python",
   "pygments_lexer": "ipython3",
   "version": "3.6.8"
  }
 },
 "nbformat": 4,
 "nbformat_minor": 2
}
